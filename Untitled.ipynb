{
 "cells": [
  {
   "cell_type": "code",
   "execution_count": 1,
   "id": "498cfbf1",
   "metadata": {},
   "outputs": [],
   "source": [
    "a=['./csvs\\\\I211104.csv',  './csvs\\\\I211108.csv',  './csvs\\\\I211110.csv',  './csvs\\\\I211112.csv',  './csvs\\\\I211115.csv',  './csvs\\\\I211118.csv',  './csvs\\\\I211119.csv',  './csvs\\\\I211122.csv']\n"
   ]
  },
  {
   "cell_type": "code",
   "execution_count": 3,
   "id": "728d3032",
   "metadata": {},
   "outputs": [
    {
     "data": {
      "text/plain": [
       "2.6666666666666665"
      ]
     },
     "execution_count": 3,
     "metadata": {},
     "output_type": "execute_result"
    }
   ],
   "source": [
    "len(a)/3"
   ]
  }
 ],
 "metadata": {
  "kernelspec": {
   "display_name": "Python 3 (ipykernel)",
   "language": "python",
   "name": "python3"
  },
  "language_info": {
   "codemirror_mode": {
    "name": "ipython",
    "version": 3
   },
   "file_extension": ".py",
   "mimetype": "text/x-python",
   "name": "python",
   "nbconvert_exporter": "python",
   "pygments_lexer": "ipython3",
   "version": "3.10.8"
  }
 },
 "nbformat": 4,
 "nbformat_minor": 5
}
