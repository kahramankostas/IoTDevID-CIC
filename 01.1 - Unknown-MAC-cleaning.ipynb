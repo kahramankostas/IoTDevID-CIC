{
 "cells": [
  {
   "cell_type": "code",
   "execution_count": 1,
   "id": "9ccc0111",
   "metadata": {},
   "outputs": [],
   "source": [
    "import os"
   ]
  },
  {
   "cell_type": "code",
   "execution_count": 2,
   "id": "020a09be",
   "metadata": {},
   "outputs": [
    {
     "data": {
      "text/plain": [
       "['./pcaps\\\\2021_11_02_Idle._FE.csv',\n",
       " './pcaps\\\\2021_11_03_Idle._FE.csv',\n",
       " './pcaps\\\\2021_11_04_Idle._FE.csv',\n",
       " './pcaps\\\\2021_11_08_Idle._FE.csv',\n",
       " './pcaps\\\\2021_11_10_Idle._FE.csv',\n",
       " './pcaps\\\\2021_11_12_Idle._FE.csv',\n",
       " './pcaps\\\\2021_11_15_Idle._FE.csv',\n",
       " './pcaps\\\\2021_11_16_Idle._FE.csv',\n",
       " './pcaps\\\\2021_11_17_Idle._FE.csv',\n",
       " './pcaps\\\\2021_11_18_Idle._FE.csv',\n",
       " './pcaps\\\\2021_11_19_Idle._FE.csv',\n",
       " './pcaps\\\\2021_11_22_Idle._FE.csv',\n",
       " './pcaps\\\\2021_11_24_Idle._FE.csv',\n",
       " './pcaps\\\\2021_11_25_Idle._FE.csv',\n",
       " './pcaps\\\\2021_11_26_Idle._FE.csv',\n",
       " './pcaps\\\\2021_11_29_Idle._FE.csv',\n",
       " './pcaps\\\\2021_11_30_Idle._FE.csv',\n",
       " './pcaps\\\\2021_12_01_Idle._FE.csv',\n",
       " './pcaps\\\\2021_12_02_Idle._FE.csv',\n",
       " './pcaps\\\\2021_12_03_Idle._FE.csv',\n",
       " './pcaps\\\\2021_12_07_Idle._FE.csv',\n",
       " './pcaps\\\\2021_12_08_Idle._FE.csv',\n",
       " './pcaps\\\\2021_12_09_Idle._FE.csv',\n",
       " './pcaps\\\\2021_12_10_Idle._FE.csv',\n",
       " './pcaps\\\\2021_12_13_Idle._FE.csv',\n",
       " './pcaps\\\\2021_12_15_Idle._FE.csv',\n",
       " './pcaps\\\\2021_12_16_Idle._FE.csv',\n",
       " './pcaps\\\\2021_12_20_Idle._FE.csv',\n",
       " './pcaps\\\\2021_12_22_Idle._FE.csv',\n",
       " './pcaps\\\\2021_12_23_Idle._FE.csv']"
      ]
     },
     "execution_count": 2,
     "metadata": {},
     "output_type": "execute_result"
    }
   ],
   "source": [
    "def find_the_way(path,file_format,con=\"\"):\n",
    "    files_add = []\n",
    "    # r=root, d=directories, f = files\n",
    "    for r, d, f in os.walk(path):\n",
    "        for file in f:\n",
    "            if file_format in file:\n",
    "                if con in file:\n",
    "                    files_add.append(os.path.join(r, file))  \n",
    "            \n",
    "    return files_add\n",
    "path=\"./pcaps\"\n",
    "filenames=find_the_way(path,\".csv\")\n",
    "filenames"
   ]
  },
  {
   "cell_type": "code",
   "execution_count": 3,
   "id": "561a3287",
   "metadata": {},
   "outputs": [],
   "source": [
    "devices=['Amazon Alexa Echo Dot 1',\n",
    " 'Amazon Alexa Echo Dot 2',\n",
    " 'Amazon Alexa Echo Spot',\n",
    " 'Amazon Alexa Echo Studio',\n",
    " 'Google Nest Mini',\n",
    " 'Sonos One Speaker',\n",
    " 'AMCREST WiFi Camera',\n",
    " 'Arlo Base Station',\n",
    " 'Arlo Q Camera',\n",
    " 'Borun/Sichuan-AI Camera',\n",
    " 'DCS8000LHA1 D-Link Mini Camera',\n",
    " 'HeimVision Smart WiFi Camera',\n",
    " 'Home Eye Camera',\n",
    " 'Luohe Cam Dog',\n",
    " 'Nest Indoor Camera',\n",
    " 'Netatmo Camera',\n",
    " 'SIMCAM 1S (AMPAKTec)',\n",
    " 'Amazon Plug',\n",
    " 'Atomi Coffee Maker',\n",
    " 'Eufy HomeBase 2',\n",
    " 'Globe Lamp ESP_B1680C',\n",
    " 'Gosund ESP_039AAF Socket',\n",
    " 'Gosund ESP_032979 Plug',\n",
    " 'Gosund ESP_10098F Socket',\n",
    " 'Gosund ESP_0C3994 Plug',\n",
    " 'Gosund ESP_1ACEE1  Socket',\n",
    " 'Gosund ESP_147FF9 Plug',\n",
    " 'Gosund ESP_10ACD8 Plug',\n",
    " 'HeimVision SmartLife Radio/Lamp',\n",
    " 'Philips Hue Bridge',\n",
    " 'Ring Base Station AC:1236',\n",
    " 'iRobot Roomba',\n",
    " 'Smart Board',\n",
    " 'Teckin Plug 1',\n",
    " 'Teckin Plug 2',\n",
    " 'Yutron Plug 1',\n",
    " 'Yutron Plug 2',\n",
    " 'D-Link DCHS-161 Water Sensor',\n",
    " 'LG Smart TV',\n",
    " 'Netatmo Weather Station']"
   ]
  },
  {
   "cell_type": "code",
   "execution_count": 4,
   "id": "99dad615",
   "metadata": {},
   "outputs": [],
   "source": [
    "header='ts,Ether_dst,Ether_src,IP_src,IP_dst,pck_size,Ether_type,LLC_dsap,LLC_ssap,LLC_ctrl,EAPOL_version,EAPOL_type,EAPOL_len,IP_version,IP_ihl,IP_tos,IP_len,IP_flags,IP_Z,IP_MF,IP_id,IP_chksum,IP_DF,IP_frag,IP_ttl,IP_proto,IP_options,ICMP_type,ICMP_code,ICMP_chksum,ICMP_id,ICMP_seq,ICMP_ts_ori,ICMP_ts_rx,ICMP_ts_tx,ICMP_ptr,ICMP_reserved,ICMP_length,ICMP_nexthopmtu,ICMP_unused,TCP_seq,TCP_ack,TCP_dataofs,TCP_reserved,TCP_flags,TCP_FIN,TCP_SYN,TCP_RST,TCP_PSH,TCP_ACK,TCP_URG,TCP_ECE,TCP_CWR,TCP_window,TCP_chksum,TCP_urgptr,TCP_options,UDP_len,UDP_chksum,DHCP_options,BOOTP_op,BOOTP_htype,BOOTP_hlen,BOOTP_hops,BOOTP_xid,BOOTP_secs,BOOTP_flags,BOOTP_sname,BOOTP_file,BOOTP_options,DNS_length,DNS_id,DNS_qr,DNS_opcode,DNS_aa,DNS_tc,DNS_rd,DNS_ra,DNS_z,DNS_ad,DNS_cd,DNS_rcode,DNS_qdcount,DNS_ancount,DNS_nscount,DNS_arcount,sport_class,dport_class,sport23,dport23,sport_bare,dport_bare,TCP_sport,TCP_dport,UDP_sport,UDP_dport,payload_bytes,entropy,WS_src,WS_dst,Protocol,MAC,Label\\n'"
   ]
  },
  {
   "cell_type": "code",
   "execution_count": 5,
   "id": "639a893f",
   "metadata": {},
   "outputs": [
    {
     "name": "stdout",
     "output_type": "stream",
     "text": [
      "./pcaps\\2021_11_02_Idle._FE.csv\n",
      "./pcaps\\2021_11_03_Idle._FE.csv\n",
      "./pcaps\\2021_11_04_Idle._FE.csv\n",
      "./pcaps\\2021_11_08_Idle._FE.csv\n",
      "./pcaps\\2021_11_10_Idle._FE.csv\n",
      "./pcaps\\2021_11_12_Idle._FE.csv\n",
      "./pcaps\\2021_11_15_Idle._FE.csv\n",
      "./pcaps\\2021_11_16_Idle._FE.csv\n",
      "./pcaps\\2021_11_17_Idle._FE.csv\n",
      "./pcaps\\2021_11_18_Idle._FE.csv\n",
      "./pcaps\\2021_11_19_Idle._FE.csv\n",
      "./pcaps\\2021_11_22_Idle._FE.csv\n",
      "./pcaps\\2021_11_24_Idle._FE.csv\n",
      "./pcaps\\2021_11_25_Idle._FE.csv\n",
      "./pcaps\\2021_11_26_Idle._FE.csv\n",
      "./pcaps\\2021_11_29_Idle._FE.csv\n",
      "./pcaps\\2021_11_30_Idle._FE.csv\n",
      "./pcaps\\2021_12_01_Idle._FE.csv\n",
      "./pcaps\\2021_12_02_Idle._FE.csv\n",
      "./pcaps\\2021_12_03_Idle._FE.csv\n",
      "./pcaps\\2021_12_07_Idle._FE.csv\n",
      "./pcaps\\2021_12_08_Idle._FE.csv\n",
      "./pcaps\\2021_12_09_Idle._FE.csv\n",
      "./pcaps\\2021_12_10_Idle._FE.csv\n",
      "./pcaps\\2021_12_13_Idle._FE.csv\n",
      "./pcaps\\2021_12_15_Idle._FE.csv\n",
      "./pcaps\\2021_12_16_Idle._FE.csv\n",
      "./pcaps\\2021_12_20_Idle._FE.csv\n",
      "./pcaps\\2021_12_22_Idle._FE.csv\n",
      "./pcaps\\2021_12_23_Idle._FE.csv\n"
     ]
    }
   ],
   "source": [
    "for filename in filenames:\n",
    "    print(filename)\n",
    "    ths = open(filename.replace(\"FE.csv\",\"CLN.csv\"), \"w\")\n",
    "    ths.write(header)\n",
    "    with open(filename, \"r\") as file:\n",
    "        while True:\n",
    "            line=file.readline()\n",
    "            if line==\"\":break\n",
    "            temp=line[:-1]\n",
    "            temp=temp.split(\",\")[-1]\n",
    "            if temp in devices:\n",
    "                ths.write(line)\n",
    "    ths.close()\n",
    "    "
   ]
  },
  {
   "cell_type": "code",
   "execution_count": 6,
   "id": "4b1e6139",
   "metadata": {},
   "outputs": [],
   "source": [
    "for filename in filenames:\n",
    "    #os.remove(filename) # beware! deletes files! do not run if you are not sure\n",
    "    "
   ]
  },
  {
   "cell_type": "code",
   "execution_count": 7,
   "id": "fc10871c",
   "metadata": {},
   "outputs": [
    {
     "data": {
      "text/plain": [
       "['./pcaps\\\\2021_11_02_Idle._CLN.csv',\n",
       " './pcaps\\\\2021_11_03_Idle._CLN.csv',\n",
       " './pcaps\\\\2021_11_04_Idle._CLN.csv',\n",
       " './pcaps\\\\2021_11_08_Idle._CLN.csv',\n",
       " './pcaps\\\\2021_11_10_Idle._CLN.csv',\n",
       " './pcaps\\\\2021_11_12_Idle._CLN.csv',\n",
       " './pcaps\\\\2021_11_15_Idle._CLN.csv',\n",
       " './pcaps\\\\2021_11_16_Idle._CLN.csv',\n",
       " './pcaps\\\\2021_11_17_Idle._CLN.csv',\n",
       " './pcaps\\\\2021_11_18_Idle._CLN.csv',\n",
       " './pcaps\\\\2021_11_19_Idle._CLN.csv',\n",
       " './pcaps\\\\2021_11_22_Idle._CLN.csv',\n",
       " './pcaps\\\\2021_11_24_Idle._CLN.csv',\n",
       " './pcaps\\\\2021_11_25_Idle._CLN.csv',\n",
       " './pcaps\\\\2021_11_26_Idle._CLN.csv',\n",
       " './pcaps\\\\2021_11_29_Idle._CLN.csv',\n",
       " './pcaps\\\\2021_11_30_Idle._CLN.csv',\n",
       " './pcaps\\\\2021_12_01_Idle._CLN.csv',\n",
       " './pcaps\\\\2021_12_02_Idle._CLN.csv',\n",
       " './pcaps\\\\2021_12_03_Idle._CLN.csv',\n",
       " './pcaps\\\\2021_12_07_Idle._CLN.csv',\n",
       " './pcaps\\\\2021_12_08_Idle._CLN.csv',\n",
       " './pcaps\\\\2021_12_09_Idle._CLN.csv',\n",
       " './pcaps\\\\2021_12_10_Idle._CLN.csv',\n",
       " './pcaps\\\\2021_12_13_Idle._CLN.csv',\n",
       " './pcaps\\\\2021_12_15_Idle._CLN.csv',\n",
       " './pcaps\\\\2021_12_16_Idle._CLN.csv',\n",
       " './pcaps\\\\2021_12_20_Idle._CLN.csv',\n",
       " './pcaps\\\\2021_12_22_Idle._CLN.csv',\n",
       " './pcaps\\\\2021_12_23_Idle._CLN.csv']"
      ]
     },
     "execution_count": 7,
     "metadata": {},
     "output_type": "execute_result"
    }
   ],
   "source": [
    "filenames=find_the_way(path,\".csv\")\n",
    "filenames"
   ]
  },
  {
   "cell_type": "code",
   "execution_count": 8,
   "id": "48cad2ff",
   "metadata": {},
   "outputs": [],
   "source": [
    "for filename in filenames:\n",
    "    os.rename(filename,filename.replace(\"CLN\",\"FE\"))\n",
    "    "
   ]
  },
  {
   "cell_type": "code",
   "execution_count": null,
   "id": "675d8bd3",
   "metadata": {},
   "outputs": [],
   "source": []
  }
 ],
 "metadata": {
  "kernelspec": {
   "display_name": "Python 3 (ipykernel)",
   "language": "python",
   "name": "python3"
  },
  "language_info": {
   "codemirror_mode": {
    "name": "ipython",
    "version": 3
   },
   "file_extension": ".py",
   "mimetype": "text/x-python",
   "name": "python",
   "nbconvert_exporter": "python",
   "pygments_lexer": "ipython3",
   "version": "3.10.8"
  }
 },
 "nbformat": 4,
 "nbformat_minor": 5
}
