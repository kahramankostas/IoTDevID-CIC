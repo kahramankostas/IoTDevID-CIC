{
 "cells": [
  {
   "cell_type": "code",
   "execution_count": 1,
   "id": "9ccc0111",
   "metadata": {},
   "outputs": [],
   "source": [
    "import os\n",
    "import pandas as pd"
   ]
  },
  {
   "cell_type": "code",
   "execution_count": 2,
   "id": "020a09be",
   "metadata": {},
   "outputs": [
    {
     "data": {
      "text/plain": [
       "['./csvs\\\\2021_11_02_Active._FE.csv',\n",
       " './csvs\\\\2021_11_02_Idle._FE.csv',\n",
       " './csvs\\\\2021_11_03_Active._FE.csv',\n",
       " './csvs\\\\2021_11_03_Idle._FE.csv',\n",
       " './csvs\\\\2021_11_04_Idle._FE.csv',\n",
       " './csvs\\\\2021_11_05_Active._FE.csv',\n",
       " './csvs\\\\2021_11_08_Active._FE.csv',\n",
       " './csvs\\\\2021_11_08_Idle._FE.csv',\n",
       " './csvs\\\\2021_11_09_Active._FE.csv',\n",
       " './csvs\\\\2021_11_10_Active._FE.csv',\n",
       " './csvs\\\\2021_11_10_Idle._FE.csv',\n",
       " './csvs\\\\2021_11_12_Active._FE.csv',\n",
       " './csvs\\\\2021_11_12_Idle._FE.csv',\n",
       " './csvs\\\\2021_11_15_Active._FE.csv',\n",
       " './csvs\\\\2021_11_15_Idle._FE.csv',\n",
       " './csvs\\\\2021_11_16_Active._FE.csv',\n",
       " './csvs\\\\2021_11_16_Idle._FE.csv',\n",
       " './csvs\\\\2021_11_17_Active._FE.csv',\n",
       " './csvs\\\\2021_11_17_Idle._FE.csv',\n",
       " './csvs\\\\2021_11_18_Active._FE.csv',\n",
       " './csvs\\\\2021_11_18_Idle._FE.csv',\n",
       " './csvs\\\\2021_11_19_Active._FE.csv',\n",
       " './csvs\\\\2021_11_19_Idle._FE.csv',\n",
       " './csvs\\\\2021_11_22_Active._FE.csv',\n",
       " './csvs\\\\2021_11_22_Idle._FE.csv',\n",
       " './csvs\\\\2021_11_23_Active._FE.csv',\n",
       " './csvs\\\\2021_11_24_Active._FE.csv',\n",
       " './csvs\\\\2021_11_24_Idle._FE.csv',\n",
       " './csvs\\\\2021_11_25_Active._FE.csv',\n",
       " './csvs\\\\2021_11_25_Idle._FE.csv',\n",
       " './csvs\\\\2021_11_26_Active._FE.csv',\n",
       " './csvs\\\\2021_11_26_Idle._FE.csv',\n",
       " './csvs\\\\2021_11_29_Idle._FE.csv',\n",
       " './csvs\\\\2021_11_30_Idle._FE.csv',\n",
       " './csvs\\\\2021_12_01_Idle._FE.csv',\n",
       " './csvs\\\\2021_12_02_Idle._FE.csv',\n",
       " './csvs\\\\2021_12_03_Idle._FE.csv',\n",
       " './csvs\\\\2021_12_06_Active._FE.csv',\n",
       " './csvs\\\\2021_12_07_Active._FE.csv',\n",
       " './csvs\\\\2021_12_07_Idle._FE.csv',\n",
       " './csvs\\\\2021_12_08_Active._FE.csv',\n",
       " './csvs\\\\2021_12_08_Idle._FE.csv',\n",
       " './csvs\\\\2021_12_09_Idle._FE.csv',\n",
       " './csvs\\\\2021_12_10_Idle._FE.csv',\n",
       " './csvs\\\\2021_12_13_Idle._FE.csv',\n",
       " './csvs\\\\2021_12_15_Idle._FE.csv',\n",
       " './csvs\\\\2021_12_16_Idle._FE.csv',\n",
       " './csvs\\\\2021_12_20_Idle._FE.csv',\n",
       " './csvs\\\\2021_12_22_Idle._FE.csv',\n",
       " './csvs\\\\2021_12_23_Active._FE.csv',\n",
       " './csvs\\\\2021_12_23_Idle._FE.csv',\n",
       " './csvs\\\\2021_12_25_Active._FE.csv',\n",
       " './csvs\\\\2021_12_28_Active._FE.csv',\n",
       " './csvs\\\\2022_01_03_Active._FE.csv']"
      ]
     },
     "execution_count": 2,
     "metadata": {},
     "output_type": "execute_result"
    }
   ],
   "source": [
    "def find_the_way(path,file_format,con=\"\"):\n",
    "    files_add = []\n",
    "    # r=root, d=directories, f = files\n",
    "    for r, d, f in os.walk(path):\n",
    "        for file in f:\n",
    "            if file_format in file:\n",
    "                if con in file:\n",
    "                    files_add.append(os.path.join(r, file))  \n",
    "            \n",
    "    return files_add\n",
    "path=\"./csvs\"\n",
    "filenames=find_the_way(path,\".csv\")\n",
    "filenames"
   ]
  },
  {
   "cell_type": "code",
   "execution_count": 3,
   "id": "8c79b127",
   "metadata": {},
   "outputs": [],
   "source": [
    "col= ['pck_size', 'Ether_type', 'LLC_ctrl', 'EAPOL_version', 'EAPOL_type', 'IP_ihl', 'IP_tos', 'IP_len', 'IP_flags', 'IP_DF', 'IP_ttl', 'IP_options', 'ICMP_code', 'TCP_dataofs', 'TCP_FIN', 'TCP_ACK', 'TCP_window', 'UDP_len', 'DHCP_options', 'BOOTP_hlen', 'BOOTP_flags', 'BOOTP_sname', 'BOOTP_file', 'BOOTP_options', 'DNS_qr', 'DNS_rd', 'DNS_qdcount', 'dport_class', 'payload_bytes', 'entropy',\n",
    "\"MAC\",\n",
    "'Label']"
   ]
  },
  {
   "cell_type": "code",
   "execution_count": 4,
   "id": "d65da2af",
   "metadata": {},
   "outputs": [
    {
     "name": "stdout",
     "output_type": "stream",
     "text": [
      "./csvs\\2021_11_02_Active._FE.csv\n",
      "./csvs\\2021_11_02_Idle._FE.csv\n",
      "./csvs\\2021_11_03_Active._FE.csv\n",
      "./csvs\\2021_11_03_Idle._FE.csv\n",
      "./csvs\\2021_11_04_Idle._FE.csv\n",
      "./csvs\\2021_11_05_Active._FE.csv\n",
      "./csvs\\2021_11_08_Active._FE.csv\n",
      "./csvs\\2021_11_08_Idle._FE.csv\n",
      "./csvs\\2021_11_09_Active._FE.csv\n",
      "./csvs\\2021_11_10_Active._FE.csv\n",
      "./csvs\\2021_11_10_Idle._FE.csv\n",
      "./csvs\\2021_11_12_Active._FE.csv\n",
      "./csvs\\2021_11_12_Idle._FE.csv\n",
      "./csvs\\2021_11_15_Active._FE.csv\n",
      "./csvs\\2021_11_15_Idle._FE.csv\n",
      "./csvs\\2021_11_16_Active._FE.csv\n",
      "./csvs\\2021_11_16_Idle._FE.csv\n",
      "./csvs\\2021_11_17_Active._FE.csv\n",
      "./csvs\\2021_11_17_Idle._FE.csv\n",
      "./csvs\\2021_11_18_Active._FE.csv\n",
      "./csvs\\2021_11_18_Idle._FE.csv\n",
      "./csvs\\2021_11_19_Active._FE.csv\n",
      "./csvs\\2021_11_19_Idle._FE.csv\n",
      "./csvs\\2021_11_22_Active._FE.csv\n",
      "./csvs\\2021_11_22_Idle._FE.csv\n",
      "./csvs\\2021_11_23_Active._FE.csv\n",
      "./csvs\\2021_11_24_Active._FE.csv\n",
      "./csvs\\2021_11_24_Idle._FE.csv\n",
      "./csvs\\2021_11_25_Active._FE.csv\n",
      "./csvs\\2021_11_25_Idle._FE.csv\n",
      "./csvs\\2021_11_26_Active._FE.csv\n",
      "./csvs\\2021_11_26_Idle._FE.csv\n",
      "./csvs\\2021_11_29_Idle._FE.csv\n",
      "./csvs\\2021_11_30_Idle._FE.csv\n",
      "./csvs\\2021_12_01_Idle._FE.csv\n",
      "./csvs\\2021_12_02_Idle._FE.csv\n",
      "./csvs\\2021_12_03_Idle._FE.csv\n",
      "./csvs\\2021_12_06_Active._FE.csv\n",
      "./csvs\\2021_12_07_Active._FE.csv\n",
      "./csvs\\2021_12_07_Idle._FE.csv\n",
      "./csvs\\2021_12_08_Active._FE.csv\n",
      "./csvs\\2021_12_08_Idle._FE.csv\n",
      "./csvs\\2021_12_09_Idle._FE.csv\n",
      "./csvs\\2021_12_10_Idle._FE.csv\n",
      "./csvs\\2021_12_13_Idle._FE.csv\n",
      "./csvs\\2021_12_15_Idle._FE.csv\n",
      "./csvs\\2021_12_16_Idle._FE.csv\n",
      "./csvs\\2021_12_20_Idle._FE.csv\n",
      "./csvs\\2021_12_22_Idle._FE.csv\n",
      "./csvs\\2021_12_23_Active._FE.csv\n",
      "./csvs\\2021_12_23_Idle._FE.csv\n",
      "./csvs\\2021_12_25_Active._FE.csv\n",
      "./csvs\\2021_12_28_Active._FE.csv\n",
      "./csvs\\2022_01_03_Active._FE.csv\n"
     ]
    }
   ],
   "source": [
    "for i in filenames:\n",
    "    print(i)\n",
    "    df=pd.read_csv(i,usecols=col)\n",
    "    df.to_csv(i,index=False)"
   ]
  },
  {
   "cell_type": "code",
   "execution_count": 5,
   "id": "7d05badb",
   "metadata": {},
   "outputs": [],
   "source": [
    "for filename in filenames:\n",
    "    os.rename(filename,filename.replace(\"._FE\",\"_FE\"))"
   ]
  }
 ],
 "metadata": {
  "kernelspec": {
   "display_name": "Python 3 (ipykernel)",
   "language": "python",
   "name": "python3"
  },
  "language_info": {
   "codemirror_mode": {
    "name": "ipython",
    "version": 3
   },
   "file_extension": ".py",
   "mimetype": "text/x-python",
   "name": "python",
   "nbconvert_exporter": "python",
   "pygments_lexer": "ipython3",
   "version": "3.10.8"
  }
 },
 "nbformat": 4,
 "nbformat_minor": 5
}
