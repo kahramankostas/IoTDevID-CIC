{
 "cells": [
  {
   "cell_type": "markdown",
   "metadata": {},
   "source": [
    "###  importing relevant libraries"
   ]
  },
  {
   "cell_type": "code",
   "execution_count": 1,
   "metadata": {},
   "outputs": [],
   "source": [
    "from sklearn.tree import DecisionTreeClassifier\n",
    "from sklearn.utils import shuffle\n",
    "import matplotlib.pyplot as plt\n",
    "from collections import Counter\n",
    "from tabulate import tabulate\n",
    "from tqdm import tqdm\n",
    "import seaborn as sns\n",
    "import pandas as pd\n",
    "import numpy as np\n",
    "%matplotlib inline\n",
    "import warnings\n",
    "import sklearn\n",
    "import time\n",
    "import os\n",
    "warnings.filterwarnings(\"ignore\")"
   ]
  },
  {
   "cell_type": "markdown",
   "metadata": {},
   "source": [
    "### Discovering Labels"
   ]
  },
  {
   "cell_type": "code",
   "execution_count": 2,
   "metadata": {},
   "outputs": [],
   "source": [
    "def target_name(name):\n",
    "    df = pd.read_csv(name,usecols=[\"Label\"])\n",
    "    target_names=sorted(list(df[\"Label\"].unique()))\n",
    "    return target_names"
   ]
  },
  {
   "cell_type": "code",
   "execution_count": 3,
   "metadata": {},
   "outputs": [],
   "source": [
    "def folder(f_name): #this function creates a folder.\n",
    "    try:\n",
    "        if not os.path.exists(f_name):\n",
    "            os.makedirs(f_name)\n",
    "    except OSError:\n",
    "        print (\"Tthe folder could not be created!\")"
   ]
  },
  {
   "cell_type": "code",
   "execution_count": 4,
   "metadata": {},
   "outputs": [],
   "source": [
    "def find_the_way(path,file_format,con=\"\"):\n",
    "    files_add = []\n",
    "    # r=root, d=directories, f = files\n",
    "    for r, d, f in os.walk(path):\n",
    "        for file in f:\n",
    "            if file_format in file:\n",
    "                if con in file:\n",
    "                    files_add.append(os.path.join(r, file))  \n",
    "            \n",
    "    return files_add"
   ]
  },
  {
   "cell_type": "markdown",
   "metadata": {},
   "source": []
  },
  {
   "cell_type": "code",
   "execution_count": 5,
   "metadata": {},
   "outputs": [],
   "source": [
    "altime=0\n",
    "#def most_frequent(List): \n",
    "#    return max(set(List), key = List.count) \n",
    "\n",
    "\n",
    " \n",
    "def most_frequent(List):\n",
    "    occurence_count = Counter(List)\n",
    "    occurence_count={k: v for k, v in sorted(occurence_count.items(), key=lambda item: item[1],reverse=True)}\n",
    "    big=list(occurence_count.values())\n",
    "    big=big.count(big[0])\n",
    "    return list(occurence_count.keys())[np.random.randint(big)]\n",
    "\n",
    "\n",
    "def split(a, n):\n",
    "    k, m = divmod(len(a), n)\n",
    "    return (a[i * k + min(i, m):(i + 1) * k + min(i + 1, m)] for i in range(n))\n",
    "def create_exception(df): \n",
    "    exception_list=[]\n",
    "    dominant_mac=[]\n",
    "    for i in df['aggregated'].unique():\n",
    "        k=df[df['aggregated']==i]\n",
    "        for ii in ['MAC']:\n",
    "            hist = {}\n",
    "            for x in k[ii].values:\n",
    "                hist[x] = hist.get(x, 0) + 1\n",
    "            hist=dict(sorted(hist.items(), key=lambda item: item[1],reverse=True))\n",
    "            temp=next(iter(hist))\n",
    "            if temp not in dominant_mac:\n",
    "                dominant_mac.append(temp)\n",
    "            else:\n",
    "                exception_list.append(temp)\n",
    "    return exception_list\n",
    "\n",
    "\n",
    "\n",
    "\n",
    "def merged(m_test,predict,step,mixed):\n",
    "    second=time.time()\n",
    "    mac_test=[]\n",
    "    for q in m_test.index:\n",
    "        mac_test.append(m_test[q])\n",
    "\n",
    "    d_list=sorted(list(m_test.unique()))\n",
    "    devices={}\n",
    "    for q in d_list:\n",
    "        devices[q]=[]    \n",
    "\n",
    "\n",
    "    new_y=[0]*len(m_test)\n",
    "\n",
    "    for q,qq in enumerate (mac_test):\n",
    "        devices[qq].append(q)\n",
    "    for q in devices:\n",
    "        a = [devices[q][j:j + step] for j in range(0, len(devices[q]), step)]  \n",
    "        for qq in a:\n",
    "            step_list=[]\n",
    "            for qqq in qq:\n",
    "                step_list.append(predict[qqq])\n",
    "            add=most_frequent(list(step_list))\n",
    "            for qqq in qq:\n",
    "                new_y[qqq]=add\n",
    "    results=pd.DataFrame(m_test)\n",
    "    results[\"aggregated\"]=new_y\n",
    "    results[\"normal\"]=predict\n",
    "    \n",
    "    #MIXED METHOD\n",
    "    if mixed:\n",
    "        exception=create_exception(results)\n",
    "        for q in exception:\n",
    "            results.loc[results.MAC == q, 'aggregated'] = results['normal']\n",
    "\n",
    "    return results[\"aggregated\"].values,time.time()-second"
   ]
  },
  {
   "cell_type": "markdown",
   "metadata": {},
   "source": [
    "## Calculation of evaluations"
   ]
  },
  {
   "cell_type": "code",
   "execution_count": null,
   "metadata": {},
   "outputs": [],
   "source": []
  },
  {
   "cell_type": "code",
   "execution_count": 6,
   "metadata": {},
   "outputs": [],
   "source": [
    "def score(altime,train_time,test_time,predict,y_test,class_based_results,i,cv,dname,ml):\n",
    "    rc=sklearn.metrics.recall_score(y_test, predict,average= \"macro\")\n",
    "    pr=sklearn.metrics.precision_score(y_test, predict,average= \"macro\")\n",
    "    f_1=sklearn.metrics.f1_score(y_test, predict,average= \"macro\")     \n",
    "    accuracy=sklearn.metrics.accuracy_score(y_test, predict)\n",
    "    accuracy_b=sklearn.metrics.balanced_accuracy_score( y_test,predict)\n",
    "    kappa=sklearn.metrics.cohen_kappa_score(y_test, predict,labels=None, weights=None, sample_weight=None)\n",
    "    try:\n",
    "        roc=sklearn.metrics.roc_auc_score(y_test, predict)\n",
    "    except:roc=0\n",
    "    report = sklearn.metrics.classification_report(y_test, predict, target_names=target_names,output_dict=True)\n",
    "    cr = pd.DataFrame(report).transpose()\n",
    "    line=[dname,i,cv,ml,accuracy,accuracy_b,pr,rc,f_1,kappa,roc,train_time,test_time,altime]\n",
    "\n",
    "    if class_based_results.empty:\n",
    "        class_based_results =cr\n",
    "    else:\n",
    "        class_based_results = class_based_results.add(cr, fill_value=0)\n",
    "    return line,class_based_results"
   ]
  },
  {
   "cell_type": "code",
   "execution_count": 7,
   "metadata": {},
   "outputs": [],
   "source": [
    "def ML(loop1,loop2,output_csv1,cols,step,mixed,dname):\n",
    "    from sklearn.metrics import balanced_accuracy_score\n",
    "    from sklearn.preprocessing import Normalizer\n",
    "    \n",
    "    for ii in ml_list:\n",
    "        class_based_results=pd.DataFrame()#\"\" #pd.DataFrame(0, index=np.arange((len(target_names)+3)), columns=[\"f1-score\",\"precision\",\"recall\",\"support\"])\n",
    "        cm=pd.DataFrame()\n",
    "        cv=0\n",
    "        output_csv=output_csv1.replace(\"ML\",ii)\n",
    "        repetition=5\n",
    "        lines=[[\"Dataset\",\"T\",\"CV\",\"ML\",\"Acc\",\"b_Acc\",\"Prec\",\"Rec\",\"F1\",\"kap\",\"ROC\",\"tra-T\",\"test-T\",\"Al-Time\"]]\n",
    "        for i in range(repetition):\n",
    "\n",
    "\n",
    "\n",
    "            #TRAIN\n",
    "            df = pd.read_csv(loop1,usecols=cols)\n",
    "            m_train=df[\"MAC\"]\n",
    "            del df[\"MAC\"]\n",
    "            X_train =df[df.columns[0:-1]]\n",
    "            X_train=np.array(X_train)\n",
    "            df[df.columns[-1]] = df[df.columns[-1]].astype('category')\n",
    "            y_train=df[df.columns[-1]].cat.codes  \n",
    "\n",
    "            #TEST\n",
    "            df = pd.read_csv(loop2,usecols=cols)\n",
    "            df = shuffle(df, random_state=42)\n",
    "            m_test=df[\"MAC\"]\n",
    "            del df[\"MAC\"]\n",
    "            X_test =df[df.columns[0:-1]]\n",
    "            X_test=np.array(X_test)\n",
    "            df[df.columns[-1]] = df[df.columns[-1]].astype('category')\n",
    "            y_test=df[df.columns[-1]].cat.codes\n",
    "\n",
    "\n",
    "\n",
    "\n",
    "            results_y=[]\n",
    "            cv+=1\n",
    "            results_y.append(y_test)\n",
    "\n",
    "\n",
    "            #machine learning algorithm is applied in this section\n",
    "            clf = ml_list[ii]#choose algorithm from ml_list dictionary\n",
    "            second=time.time()\n",
    "            clf.fit(X_train, y_train)\n",
    "            train_time=(float((time.time()-second)) )\n",
    "            second=time.time()\n",
    "            predict =clf.predict(X_test)\n",
    "            test_time=(float((time.time()-second)) )\n",
    "            if step==1:\n",
    "                altime=0\n",
    "                line,class_based_results=score(altime,train_time,test_time,predict,y_test,class_based_results,i,cv,dname,ii)\n",
    "            else:\n",
    "                predict,altime=merged(m_test,predict,step,mixed)\n",
    "                line,class_based_results=score(altime,train_time,test_time,predict,y_test,class_based_results,i,cv,dname,ii)\n",
    "                \n",
    "                \n",
    "            lines.append(line)\n",
    "            df_cm = pd.DataFrame(sklearn.metrics.confusion_matrix(y_test, predict))\n",
    "            if cm.empty:\n",
    "                cm =df_cm\n",
    "            else:\n",
    "                cm = cm.add(df_cm, fill_value=0)\n",
    "            \n",
    "        class_based_results=class_based_results/(repetition)\n",
    "        results = pd.DataFrame (lines[1:], columns = lines[0])\n",
    "        results.to_csv(output_csv.replace(\"ML\",ii),index=False)\n",
    "        results=results.round(3)\n",
    "        print (tabulate(results, headers=list(results.columns)))\n",
    "        print()\n",
    "  \n",
    "        \n",
    "        #print (tabulate(class_based_results, headers=list(class_based_results.columns)))\n",
    "        class_based_results.to_csv(output_csv.replace(\".csv\",\"CB.csv\"))\n",
    "        if True:\n",
    "            cm=cm//repetition\n",
    "            graph_name=output_csv+\"_confusion matrix.pdf\"   \n",
    "            plt.figure(figsize = (40,28))\n",
    "            sns.heatmap(cm,xticklabels=target_names, yticklabels=target_names, annot=True, fmt='g')\n",
    "            plt.savefig(graph_name,bbox_inches='tight')#, dpi=400)\n",
    "            cm.to_csv(graph_name.replace(\".pdf\",\".csv\"))\n",
    "            #plt.show()\n",
    "            #print(cm)\n",
    "            #print(\"\\n\\n\\n\")             \n",
    "\n",
    "\n",
    "            plt.clf()\n",
    "\n",
    "            \n",
    "            \n",
    "            \n",
    "            \n",
    "            \n",
    "\n"
   ]
  },
  {
   "cell_type": "markdown",
   "metadata": {},
   "source": [
    "# Machine learning applications "
   ]
  },
  {
   "cell_type": "markdown",
   "metadata": {},
   "source": [
    "# Aalto Dataset"
   ]
  },
  {
   "cell_type": "code",
   "execution_count": 8,
   "metadata": {},
   "outputs": [],
   "source": [
    "feature= ['pck_size', 'Ether_type', 'LLC_ctrl', 'EAPOL_version', 'EAPOL_type', 'IP_ihl', 'IP_tos', 'IP_len', 'IP_flags', 'IP_DF', 'IP_ttl', 'IP_options', 'ICMP_code', 'TCP_dataofs', 'TCP_FIN', 'TCP_ACK', 'TCP_window', 'UDP_len', 'DHCP_options', 'BOOTP_hlen', 'BOOTP_flags', 'BOOTP_sname', 'BOOTP_file', 'BOOTP_options', 'DNS_qr', 'DNS_rd', 'DNS_qdcount', 'dport_class', 'payload_bytes', 'entropy',\n",
    "\"MAC\",\n",
    "'Label']\n"
   ]
  },
  {
   "cell_type": "code",
   "execution_count": 9,
   "metadata": {},
   "outputs": [],
   "source": [
    "ml_list={\"DT\" :DecisionTreeClassifier()}\n",
    "\n"
   ]
  },
  {
   "cell_type": "code",
   "execution_count": 10,
   "metadata": {},
   "outputs": [],
   "source": [
    "datasets=[['./csvs\\\\A211102.csv',\n",
    "  './csvs\\\\A211105.csv',\n",
    "  './csvs\\\\I211102.csv',\n",
    "  './csvs\\\\I211103.csv',\n",
    "  './csvs\\\\I211104.csv'],\n",
    " ['./csvs\\\\A211108.csv',\n",
    "  './csvs\\\\A211109.csv',\n",
    "  './csvs\\\\A211115.csv',\n",
    "  './csvs\\\\A211116.csv',\n",
    "  './csvs\\\\A211117.csv',\n",
    "  './csvs\\\\A211118.csv',\n",
    "  './csvs\\\\A211122.csv',\n",
    "  './csvs\\\\A211123.csv',\n",
    "  './csvs\\\\A211125.csv',\n",
    "  './csvs\\\\A211206.csv',\n",
    "  './csvs\\\\A211208.csv',\n",
    "  './csvs\\\\A211223.csv',\n",
    "  './csvs\\\\A211225.csv',\n",
    "  './csvs\\\\A211228.csv',\n",
    "  './csvs\\\\I211108.csv',\n",
    "  './csvs\\\\I211112.csv',\n",
    "  './csvs\\\\I211115.csv',\n",
    "  './csvs\\\\I211118.csv',\n",
    "  './csvs\\\\I211119.csv',\n",
    "  './csvs\\\\I211122.csv'],\n",
    " ['./csvs\\\\A211110.csv', './csvs\\\\A211112.csv', './csvs\\\\I211110.csv'],\n",
    " ['./csvs\\\\A211124.csv',\n",
    "  './csvs\\\\I211124.csv',\n",
    "  './csvs\\\\I211125.csv',\n",
    "  './csvs\\\\I211201.csv',\n",
    "  './csvs\\\\I211202.csv',\n",
    "  './csvs\\\\I211203.csv',\n",
    "  './csvs\\\\I211207.csv',\n",
    "  './csvs\\\\I211208.csv',\n",
    "  './csvs\\\\I211209.csv',\n",
    "  './csvs\\\\I211210.csv',\n",
    "  './csvs\\\\I211213.csv',\n",
    "  './csvs\\\\I211215.csv',\n",
    "  './csvs\\\\I211216.csv',\n",
    "  './csvs\\\\I211220.csv',\n",
    "  './csvs\\\\I211222.csv',\n",
    "  './csvs\\\\I211223.csv'],\n",
    " ['./csvs\\\\A211126.csv', './csvs\\\\A211207.csv'],\n",
    " ['./csvs\\\\I211116.csv', './csvs\\\\I211117.csv']]\n"
   ]
  },
  {
   "cell_type": "code",
   "execution_count": 13,
   "metadata": {},
   "outputs": [],
   "source": [
    "datasets=[['./csvs\\\\A211102.csv',\n",
    "  './csvs\\\\A211105.csv',\n",
    "  './csvs\\\\I211102.csv',\n",
    "  './csvs\\\\I211103.csv',\n",
    "  './csvs\\\\I211104.csv'],\n",
    " ['./csvs\\\\A211108.csv',\n",
    "  './csvs\\\\A211109.csv',\n",
    "  './csvs\\\\A211115.csv',\n",
    "  './csvs\\\\A211116.csv',\n",
    "  './csvs\\\\A211117.csv',\n",
    "  './csvs\\\\A211118.csv',\n",
    "  './csvs\\\\A211122.csv',\n",
    "  './csvs\\\\A211123.csv',\n",
    "  './csvs\\\\A211125.csv',\n",
    "  './csvs\\\\A211206.csv',\n",
    "  './csvs\\\\A211208.csv',\n",
    "  './csvs\\\\A211223.csv',\n",
    "  './csvs\\\\A211225.csv',\n",
    "  './csvs\\\\A211228.csv',\n",
    "  './csvs\\\\I211108.csv',\n",
    "  './csvs\\\\I211112.csv',\n",
    "  './csvs\\\\I211115.csv',\n",
    "  './csvs\\\\I211118.csv',\n",
    "  './csvs\\\\I211119.csv',\n",
    "  './csvs\\\\I211122.csv']]\n"
   ]
  },
  {
   "cell_type": "code",
   "execution_count": null,
   "metadata": {
    "scrolled": true
   },
   "outputs": [
    {
     "name": "stderr",
     "output_type": "stream",
     "text": [
      "\r",
      "  0%|                                                                                            | 0/5 [00:00<?, ?it/s]"
     ]
    },
    {
     "name": "stdout",
     "output_type": "stream",
     "text": [
      "    Dataset              T    CV  ML      Acc    b_Acc    Prec    Rec     F1    kap    ROC    tra-T    test-T    Al-Time\n",
      "--  -----------------  ---  ----  ----  -----  -------  ------  -----  -----  -----  -----  -------  --------  ---------\n",
      " 0  A211102-A211102_1    0     1  DT    0.934    0.905   0.919  0.905  0.909  0.931      0    1.349     0.147          0\n",
      " 1  A211102-A211102_1    1     2  DT    0.934    0.905   0.919  0.905  0.909  0.931      0    1.279     0.141          0\n",
      " 2  A211102-A211102_1    2     3  DT    0.934    0.905   0.919  0.905  0.909  0.931      0    1.367     0.146          0\n",
      " 3  A211102-A211102_1    3     4  DT    0.934    0.905   0.919  0.905  0.909  0.931      0    1.274     0.144          0\n",
      " 4  A211102-A211102_1    4     5  DT    0.934    0.905   0.919  0.905  0.909  0.931      0    1.39      0.16           0\n",
      "\n"
     ]
    },
    {
     "name": "stderr",
     "output_type": "stream",
     "text": [
      "\r",
      " 20%|████████████████▊                                                                   | 1/5 [00:34<02:16, 34.08s/it]"
     ]
    },
    {
     "name": "stdout",
     "output_type": "stream",
     "text": [
      "    Dataset              T    CV  ML      Acc    b_Acc    Prec    Rec     F1    kap    ROC    tra-T    test-T    Al-Time\n",
      "--  -----------------  ---  ----  ----  -----  -------  ------  -----  -----  -----  -----  -------  --------  ---------\n",
      " 0  A211102-A211105_1    0     1  DT    0.889    0.823   0.856  0.823  0.826  0.884      0    1.28      0.137          0\n",
      " 1  A211102-A211105_1    1     2  DT    0.889    0.823   0.855  0.823  0.826  0.884      0    1.357     0.177          0\n",
      " 2  A211102-A211105_1    2     3  DT    0.889    0.823   0.856  0.823  0.826  0.883      0    1.364     0.146          0\n",
      " 3  A211102-A211105_1    3     4  DT    0.889    0.823   0.855  0.823  0.826  0.884      0    1.307     0.151          0\n",
      " 4  A211102-A211105_1    4     5  DT    0.889    0.823   0.856  0.823  0.827  0.884      0    1.322     0.145          0\n",
      "\n"
     ]
    },
    {
     "name": "stderr",
     "output_type": "stream",
     "text": [
      "\r",
      " 40%|█████████████████████████████████▌                                                  | 2/5 [01:08<01:42, 34.19s/it]"
     ]
    },
    {
     "name": "stdout",
     "output_type": "stream",
     "text": [
      "    Dataset              T    CV  ML      Acc    b_Acc    Prec    Rec     F1    kap    ROC    tra-T    test-T    Al-Time\n",
      "--  -----------------  ---  ----  ----  -----  -------  ------  -----  -----  -----  -----  -------  --------  ---------\n",
      " 0  A211102-I211102_1    0     1  DT    0.719    0.841   0.851  0.841  0.827  0.706      0    1.364     0.211          0\n",
      " 1  A211102-I211102_1    1     2  DT    0.719    0.841   0.851  0.841  0.827  0.706      0    1.316     0.234          0\n",
      " 2  A211102-I211102_1    2     3  DT    0.719    0.841   0.851  0.841  0.827  0.706      0    1.373     0.226          0\n",
      " 3  A211102-I211102_1    3     4  DT    0.719    0.841   0.851  0.841  0.827  0.706      0    1.262     0.209          0\n",
      " 4  A211102-I211102_1    4     5  DT    0.719    0.841   0.851  0.841  0.827  0.706      0    1.299     0.227          0\n",
      "\n"
     ]
    },
    {
     "name": "stderr",
     "output_type": "stream",
     "text": [
      "\r",
      " 60%|██████████████████████████████████████████████████▍                                 | 3/5 [01:49<01:14, 37.21s/it]"
     ]
    },
    {
     "name": "stdout",
     "output_type": "stream",
     "text": [
      "    Dataset              T    CV  ML      Acc    b_Acc    Prec    Rec     F1    kap    ROC    tra-T    test-T    Al-Time\n",
      "--  -----------------  ---  ----  ----  -----  -------  ------  -----  -----  -----  -----  -------  --------  ---------\n",
      " 0  A211102-I211103_1    0     1  DT    0.854      0.8   0.83     0.8  0.799  0.847      0    1.246     0.163          0\n",
      " 1  A211102-I211103_1    1     2  DT    0.854      0.8   0.823    0.8  0.794  0.847      0    1.286     0.179          0\n",
      " 2  A211102-I211103_1    2     3  DT    0.854      0.8   0.83     0.8  0.799  0.847      0    1.351     0.18           0\n",
      " 3  A211102-I211103_1    3     4  DT    0.854      0.8   0.823    0.8  0.794  0.847      0    1.252     0.169          0\n",
      " 4  A211102-I211103_1    4     5  DT    0.854      0.8   0.823    0.8  0.798  0.847      0    1.35      0.173          0\n",
      "\n"
     ]
    },
    {
     "name": "stderr",
     "output_type": "stream",
     "text": [
      "\r",
      " 80%|███████████████████████████████████████████████████████████████████▏                | 4/5 [02:25<00:36, 36.76s/it]"
     ]
    },
    {
     "name": "stdout",
     "output_type": "stream",
     "text": [
      "    Dataset              T    CV  ML      Acc    b_Acc    Prec    Rec     F1    kap    ROC    tra-T    test-T    Al-Time\n",
      "--  -----------------  ---  ----  ----  -----  -------  ------  -----  -----  -----  -----  -------  --------  ---------\n",
      " 0  A211102-I211104_1    0     1  DT    0.858    0.813   0.846  0.813  0.813  0.851      0    1.328     0.169          0\n",
      " 1  A211102-I211104_1    1     2  DT    0.858    0.813   0.846  0.813  0.813  0.851      0    1.291     0.17           0\n",
      " 2  A211102-I211104_1    2     3  DT    0.858    0.813   0.846  0.813  0.813  0.851      0    1.239     0.166          0\n",
      " 3  A211102-I211104_1    3     4  DT    0.858    0.813   0.846  0.813  0.813  0.851      0    1.272     0.157          0\n",
      " 4  A211102-I211104_1    4     5  DT    0.857    0.813   0.845  0.813  0.813  0.851      0    1.338     0.175          0\n",
      "\n"
     ]
    },
    {
     "name": "stderr",
     "output_type": "stream",
     "text": [
      "100%|████████████████████████████████████████████████████████████████████████████████████| 5/5 [03:01<00:00, 36.27s/it]\n",
      "  0%|                                                                                            | 0/5 [00:00<?, ?it/s]"
     ]
    },
    {
     "name": "stdout",
     "output_type": "stream",
     "text": [
      "    Dataset              T    CV  ML      Acc    b_Acc    Prec    Rec     F1    kap    ROC    tra-T    test-T    Al-Time\n",
      "--  -----------------  ---  ----  ----  -----  -------  ------  -----  -----  -----  -----  -------  --------  ---------\n",
      " 0  A211105-A211102_1    0     1  DT    0.861    0.815   0.846  0.815  0.807  0.855      0    1.627     0.151          0\n",
      " 1  A211105-A211102_1    1     2  DT    0.861    0.815   0.847  0.815  0.807  0.855      0    1.535     0.15           0\n",
      " 2  A211105-A211102_1    2     3  DT    0.862    0.816   0.84   0.816  0.808  0.855      0    1.519     0.17           0\n",
      " 3  A211105-A211102_1    3     4  DT    0.861    0.816   0.839  0.816  0.808  0.855      0    1.536     0.139          0\n",
      " 4  A211105-A211102_1    4     5  DT    0.862    0.816   0.848  0.816  0.808  0.855      0    1.512     0.155          0\n",
      "\n"
     ]
    },
    {
     "name": "stderr",
     "output_type": "stream",
     "text": [
      "\r",
      " 20%|████████████████▊                                                                   | 1/5 [00:35<02:21, 35.42s/it]"
     ]
    },
    {
     "name": "stdout",
     "output_type": "stream",
     "text": [
      "    Dataset              T    CV  ML      Acc    b_Acc    Prec    Rec     F1    kap    ROC    tra-T    test-T    Al-Time\n",
      "--  -----------------  ---  ----  ----  -----  -------  ------  -----  -----  -----  -----  -------  --------  ---------\n",
      " 0  A211105-A211105_1    0     1  DT    0.938    0.914    0.92  0.914  0.914  0.936      0    1.591     0.156          0\n",
      " 1  A211105-A211105_1    1     2  DT    0.938    0.914    0.92  0.914  0.914  0.936      0    1.588     0.148          0\n",
      " 2  A211105-A211105_1    2     3  DT    0.938    0.914    0.92  0.914  0.914  0.936      0    1.659     0.157          0\n",
      " 3  A211105-A211105_1    3     4  DT    0.938    0.914    0.92  0.914  0.914  0.936      0    1.586     0.16           0\n",
      " 4  A211105-A211105_1    4     5  DT    0.938    0.914    0.92  0.914  0.914  0.936      0    1.499     0.149          0\n",
      "\n"
     ]
    },
    {
     "name": "stderr",
     "output_type": "stream",
     "text": [
      "\r",
      " 40%|█████████████████████████████████▌                                                  | 2/5 [01:11<01:47, 35.81s/it]"
     ]
    },
    {
     "name": "stdout",
     "output_type": "stream",
     "text": [
      "    Dataset              T    CV  ML      Acc    b_Acc    Prec    Rec     F1    kap    ROC    tra-T    test-T    Al-Time\n",
      "--  -----------------  ---  ----  ----  -----  -------  ------  -----  -----  -----  -----  -------  --------  ---------\n",
      " 0  A211105-I211102_1    0     1  DT    0.705    0.785   0.825  0.785  0.778  0.691      0    1.464     0.196          0\n",
      " 1  A211105-I211102_1    1     2  DT    0.705    0.785   0.825  0.785  0.779  0.691      0    1.514     0.213          0\n",
      " 2  A211105-I211102_1    2     3  DT    0.705    0.785   0.826  0.785  0.779  0.691      0    1.569     0.218          0\n",
      " 3  A211105-I211102_1    3     4  DT    0.705    0.785   0.825  0.785  0.779  0.691      0    1.486     0.205          0\n",
      " 4  A211105-I211102_1    4     5  DT    0.703    0.779   0.824  0.779  0.773  0.688      0    1.606     0.204          0\n",
      "\n"
     ]
    },
    {
     "name": "stderr",
     "output_type": "stream",
     "text": [
      "\r",
      " 60%|██████████████████████████████████████████████████▍                                 | 3/5 [01:53<01:17, 38.62s/it]"
     ]
    },
    {
     "name": "stdout",
     "output_type": "stream",
     "text": [
      "    Dataset              T    CV  ML      Acc    b_Acc    Prec    Rec     F1    kap    ROC    tra-T    test-T    Al-Time\n",
      "--  -----------------  ---  ----  ----  -----  -------  ------  -----  -----  -----  -----  -------  --------  ---------\n",
      " 0  A211105-I211103_1    0     1  DT    0.869    0.817   0.846  0.817  0.817  0.863      0    1.583     0.184          0\n",
      " 1  A211105-I211103_1    1     2  DT    0.869    0.817   0.846  0.817  0.817  0.863      0    1.553     0.183          0\n",
      " 2  A211105-I211103_1    2     3  DT    0.869    0.817   0.846  0.817  0.817  0.863      0    1.66      0.168          0\n",
      " 3  A211105-I211103_1    3     4  DT    0.869    0.817   0.846  0.817  0.817  0.863      0    1.496     0.181          0\n",
      " 4  A211105-I211103_1    4     5  DT    0.872    0.823   0.847  0.823  0.825  0.867      0    1.471     0.176          0\n",
      "\n"
     ]
    },
    {
     "name": "stderr",
     "output_type": "stream",
     "text": [
      "\r",
      " 80%|███████████████████████████████████████████████████████████████████▏                | 4/5 [02:31<00:38, 38.50s/it]"
     ]
    },
    {
     "name": "stdout",
     "output_type": "stream",
     "text": [
      "    Dataset              T    CV  ML      Acc    b_Acc    Prec    Rec     F1    kap    ROC    tra-T    test-T    Al-Time\n",
      "--  -----------------  ---  ----  ----  -----  -------  ------  -----  -----  -----  -----  -------  --------  ---------\n",
      " 0  A211105-I211104_1    0     1  DT    0.879    0.847   0.867  0.847  0.852  0.874      0    1.545     0.172          0\n",
      " 1  A211105-I211104_1    1     2  DT    0.883    0.852   0.869  0.852  0.855  0.877      0    1.546     0.201          0\n",
      " 2  A211105-I211104_1    2     3  DT    0.879    0.847   0.867  0.847  0.852  0.874      0    1.612     0.179          0\n",
      " 3  A211105-I211104_1    3     4  DT    0.882    0.852   0.868  0.852  0.855  0.877      0    1.549     0.184          0\n",
      " 4  A211105-I211104_1    4     5  DT    0.879    0.847   0.867  0.847  0.851  0.874      0    1.591     0.207          0\n",
      "\n"
     ]
    },
    {
     "name": "stderr",
     "output_type": "stream",
     "text": [
      "100%|████████████████████████████████████████████████████████████████████████████████████| 5/5 [03:09<00:00, 37.93s/it]\n",
      "  0%|                                                                                            | 0/5 [00:00<?, ?it/s]"
     ]
    },
    {
     "name": "stdout",
     "output_type": "stream",
     "text": [
      "    Dataset              T    CV  ML      Acc    b_Acc    Prec    Rec     F1    kap    ROC    tra-T    test-T    Al-Time\n",
      "--  -----------------  ---  ----  ----  -----  -------  ------  -----  -----  -----  -----  -------  --------  ---------\n",
      " 0  I211102-A211102_1    0     1  DT    0.822    0.822   0.835  0.822  0.798  0.814      0    1.99      0.143          0\n",
      " 1  I211102-A211102_1    1     2  DT    0.821    0.822   0.838  0.822  0.799  0.814      0    1.822     0.14           0\n",
      " 2  I211102-A211102_1    2     3  DT    0.821    0.822   0.837  0.822  0.799  0.814      0    1.941     0.163          0\n",
      " 3  I211102-A211102_1    3     4  DT    0.822    0.822   0.835  0.822  0.798  0.814      0    2.003     0.15           0\n",
      " 4  I211102-A211102_1    4     5  DT    0.822    0.822   0.837  0.822  0.799  0.814      0    1.885     0.145          0\n",
      "\n"
     ]
    },
    {
     "name": "stderr",
     "output_type": "stream",
     "text": [
      "\r",
      " 20%|████████████████▊                                                                   | 1/5 [00:39<02:38, 39.63s/it]"
     ]
    },
    {
     "name": "stdout",
     "output_type": "stream",
     "text": [
      "    Dataset              T    CV  ML      Acc    b_Acc    Prec    Rec     F1    kap    ROC    tra-T    test-T    Al-Time\n",
      "--  -----------------  ---  ----  ----  -----  -------  ------  -----  -----  -----  -----  -------  --------  ---------\n",
      " 0  I211102-A211105_1    0     1  DT    0.801    0.811   0.833  0.811  0.787  0.793      0    1.847     0.139          0\n",
      " 1  I211102-A211105_1    1     2  DT    0.801    0.811   0.833  0.811  0.786  0.793      0    1.928     0.158          0\n",
      " 2  I211102-A211105_1    2     3  DT    0.801    0.811   0.833  0.811  0.786  0.793      0    1.797     0.144          0\n",
      " 3  I211102-A211105_1    3     4  DT    0.801    0.811   0.827  0.811  0.786  0.793      0    1.826     0.17           0\n",
      " 4  I211102-A211105_1    4     5  DT    0.801    0.811   0.833  0.811  0.786  0.793      0    1.853     0.145          0\n",
      "\n"
     ]
    },
    {
     "name": "stderr",
     "output_type": "stream",
     "text": [
      "\r",
      " 40%|█████████████████████████████████▌                                                  | 2/5 [01:18<01:57, 39.32s/it]"
     ]
    },
    {
     "name": "stdout",
     "output_type": "stream",
     "text": [
      "    Dataset              T    CV  ML      Acc    b_Acc    Prec    Rec     F1    kap    ROC    tra-T    test-T    Al-Time\n",
      "--  -----------------  ---  ----  ----  -----  -------  ------  -----  -----  -----  -----  -------  --------  ---------\n",
      " 0  I211102-I211102_1    0     1  DT    0.938    0.909   0.919  0.909  0.911  0.932      0    1.965     0.221          0\n",
      " 1  I211102-I211102_1    1     2  DT    0.938    0.909   0.919  0.909  0.911  0.932      0    1.813     0.198          0\n",
      " 2  I211102-I211102_1    2     3  DT    0.938    0.909   0.919  0.909  0.911  0.932      0    1.914     0.211          0\n",
      " 3  I211102-I211102_1    3     4  DT    0.938    0.909   0.919  0.909  0.911  0.932      0    1.925     0.246          0\n",
      " 4  I211102-I211102_1    4     5  DT    0.938    0.909   0.919  0.909  0.911  0.932      0    1.966     0.21           0\n",
      "\n"
     ]
    },
    {
     "name": "stderr",
     "output_type": "stream",
     "text": [
      "\r",
      " 60%|██████████████████████████████████████████████████▍                                 | 3/5 [02:04<01:24, 42.38s/it]"
     ]
    },
    {
     "name": "stdout",
     "output_type": "stream",
     "text": [
      "    Dataset              T    CV  ML      Acc    b_Acc    Prec    Rec     F1    kap    ROC    tra-T    test-T    Al-Time\n",
      "--  -----------------  ---  ----  ----  -----  -------  ------  -----  -----  -----  -----  -------  --------  ---------\n",
      " 0  I211102-I211103_1    0     1  DT    0.873    0.835   0.845  0.835  0.829  0.867      0    1.872     0.181          0\n",
      " 1  I211102-I211103_1    1     2  DT    0.873    0.835   0.844  0.835  0.829  0.867      0    1.845     0.167          0\n",
      " 2  I211102-I211103_1    2     3  DT    0.873    0.835   0.844  0.835  0.829  0.867      0    1.996     0.177          0\n",
      " 3  I211102-I211103_1    3     4  DT    0.873    0.835   0.845  0.835  0.829  0.867      0    2.047     0.182          0\n",
      " 4  I211102-I211103_1    4     5  DT    0.873    0.835   0.844  0.835  0.829  0.867      0    1.849     0.19           0\n",
      "\n"
     ]
    },
    {
     "name": "stderr",
     "output_type": "stream",
     "text": [
      "\r",
      " 80%|███████████████████████████████████████████████████████████████████▏                | 4/5 [02:46<00:42, 42.20s/it]"
     ]
    },
    {
     "name": "stdout",
     "output_type": "stream",
     "text": [
      "    Dataset              T    CV  ML      Acc    b_Acc    Prec    Rec     F1    kap    ROC    tra-T    test-T    Al-Time\n",
      "--  -----------------  ---  ----  ----  -----  -------  ------  -----  -----  -----  -----  -------  --------  ---------\n",
      " 0  I211102-I211104_1    0     1  DT    0.849    0.829   0.849  0.829  0.828  0.842      0    1.872     0.173          0\n",
      " 1  I211102-I211104_1    1     2  DT    0.849    0.829   0.842  0.829  0.823  0.842      0    1.965     0.209          0\n",
      " 2  I211102-I211104_1    2     3  DT    0.849    0.829   0.849  0.829  0.828  0.842      0    1.934     0.166          0\n",
      " 3  I211102-I211104_1    3     4  DT    0.848    0.828   0.84   0.828  0.822  0.842      0    1.838     0.16           0\n",
      " 4  I211102-I211104_1    4     5  DT    0.849    0.829   0.849  0.829  0.828  0.842      0    1.956     0.181          0\n",
      "\n"
     ]
    },
    {
     "name": "stderr",
     "output_type": "stream",
     "text": [
      "100%|████████████████████████████████████████████████████████████████████████████████████| 5/5 [03:28<00:00, 41.61s/it]\n",
      "  0%|                                                                                            | 0/5 [00:00<?, ?it/s]"
     ]
    },
    {
     "name": "stdout",
     "output_type": "stream",
     "text": [
      "    Dataset              T    CV  ML      Acc    b_Acc    Prec    Rec     F1    kap    ROC    tra-T    test-T    Al-Time\n",
      "--  -----------------  ---  ----  ----  -----  -------  ------  -----  -----  -----  -----  -------  --------  ---------\n",
      " 0  I211103-A211102_1    0     1  DT    0.718    0.772   0.784  0.772  0.75   0.707      0    1.797     0.171          0\n",
      " 1  I211103-A211102_1    1     2  DT    0.718    0.772   0.784  0.772  0.75   0.707      0    2.204     0.175          0\n",
      " 2  I211103-A211102_1    2     3  DT    0.718    0.772   0.781  0.772  0.742  0.708      0    1.703     0.176          0\n",
      " 3  I211103-A211102_1    3     4  DT    0.718    0.771   0.781  0.771  0.742  0.708      0    1.657     0.15           0\n",
      " 4  I211103-A211102_1    4     5  DT    0.718    0.771   0.784  0.771  0.749  0.707      0    1.569     0.137          0\n",
      "\n"
     ]
    },
    {
     "name": "stderr",
     "output_type": "stream",
     "text": [
      "\r",
      " 20%|████████████████▊                                                                   | 1/5 [00:38<02:32, 38.12s/it]"
     ]
    },
    {
     "name": "stdout",
     "output_type": "stream",
     "text": [
      "    Dataset              T    CV  ML      Acc    b_Acc    Prec    Rec     F1    kap    ROC    tra-T    test-T    Al-Time\n",
      "--  -----------------  ---  ----  ----  -----  -------  ------  -----  -----  -----  -----  -------  --------  ---------\n",
      " 0  I211103-A211105_1    0     1  DT    0.763    0.803   0.798  0.803  0.766  0.754      0    1.599     0.14           0\n",
      " 1  I211103-A211105_1    1     2  DT    0.763    0.803   0.798  0.803  0.766  0.754      0    1.703     0.155          0\n",
      " 2  I211103-A211105_1    2     3  DT    0.763    0.803   0.796  0.803  0.759  0.754      0    1.552     0.144          0\n",
      " 3  I211103-A211105_1    3     4  DT    0.763    0.803   0.798  0.803  0.766  0.754      0    1.687     0.168          0\n",
      " 4  I211103-A211105_1    4     5  DT    0.763    0.803   0.797  0.803  0.766  0.754      0    1.662     0.155          0\n",
      "\n"
     ]
    },
    {
     "name": "stderr",
     "output_type": "stream",
     "text": [
      "\r",
      " 40%|█████████████████████████████████▌                                                  | 2/5 [01:14<01:51, 37.24s/it]"
     ]
    },
    {
     "name": "stdout",
     "output_type": "stream",
     "text": [
      "    Dataset              T    CV  ML      Acc    b_Acc    Prec    Rec     F1    kap    ROC    tra-T    test-T    Al-Time\n",
      "--  -----------------  ---  ----  ----  -----  -------  ------  -----  -----  -----  -----  -------  --------  ---------\n",
      " 0  I211103-I211102_1    0     1  DT    0.714     0.81   0.837   0.81  0.804    0.7      0    1.615     0.211          0\n",
      " 1  I211103-I211102_1    1     2  DT    0.714     0.81   0.835   0.81  0.802    0.7      0    1.52      0.192          0\n",
      " 2  I211103-I211102_1    2     3  DT    0.714     0.81   0.835   0.81  0.802    0.7      0    1.677     0.217          0\n",
      " 3  I211103-I211102_1    3     4  DT    0.714     0.81   0.837   0.81  0.804    0.7      0    1.677     0.222          0\n",
      " 4  I211103-I211102_1    4     5  DT    0.714     0.81   0.834   0.81  0.802    0.7      0    1.645     0.209          0\n",
      "\n"
     ]
    },
    {
     "name": "stderr",
     "output_type": "stream",
     "text": [
      "\r",
      " 60%|██████████████████████████████████████████████████▍                                 | 3/5 [01:57<01:19, 39.56s/it]"
     ]
    },
    {
     "name": "stdout",
     "output_type": "stream",
     "text": [
      "    Dataset              T    CV  ML      Acc    b_Acc    Prec    Rec    F1    kap    ROC    tra-T    test-T    Al-Time\n",
      "--  -----------------  ---  ----  ----  -----  -------  ------  -----  ----  -----  -----  -------  --------  ---------\n",
      " 0  I211103-I211103_1    0     1  DT    0.924    0.907    0.92  0.907  0.91  0.921      0    1.645     0.181          0\n",
      " 1  I211103-I211103_1    1     2  DT    0.924    0.907    0.92  0.907  0.91  0.921      0    1.757     0.179          0\n",
      " 2  I211103-I211103_1    2     3  DT    0.924    0.907    0.92  0.907  0.91  0.921      0    1.657     0.173          0\n",
      " 3  I211103-I211103_1    3     4  DT    0.924    0.907    0.92  0.907  0.91  0.921      0    1.635     0.168          0\n",
      " 4  I211103-I211103_1    4     5  DT    0.924    0.907    0.92  0.907  0.91  0.921      0    1.619     0.18           0\n",
      "\n"
     ]
    },
    {
     "name": "stderr",
     "output_type": "stream",
     "text": [
      "\r",
      " 80%|███████████████████████████████████████████████████████████████████▏                | 4/5 [02:35<00:39, 39.23s/it]"
     ]
    },
    {
     "name": "stdout",
     "output_type": "stream",
     "text": [
      "    Dataset              T    CV  ML      Acc    b_Acc    Prec    Rec     F1    kap    ROC    tra-T    test-T    Al-Time\n",
      "--  -----------------  ---  ----  ----  -----  -------  ------  -----  -----  -----  -----  -------  --------  ---------\n",
      " 0  I211103-I211104_1    0     1  DT    0.869    0.826   0.855  0.826  0.826  0.864      0    1.695     0.179          0\n",
      " 1  I211103-I211104_1    1     2  DT    0.869    0.826   0.856  0.826  0.826  0.864      0    1.684     0.185          0\n",
      " 2  I211103-I211104_1    2     3  DT    0.869    0.826   0.855  0.826  0.826  0.863      0    1.753     0.187          0\n",
      " 3  I211103-I211104_1    3     4  DT    0.869    0.826   0.856  0.826  0.826  0.863      0    1.748     0.2            0\n",
      " 4  I211103-I211104_1    4     5  DT    0.869    0.826   0.856  0.826  0.826  0.864      0    1.686     0.161          0\n",
      "\n"
     ]
    },
    {
     "name": "stderr",
     "output_type": "stream",
     "text": [
      "100%|████████████████████████████████████████████████████████████████████████████████████| 5/5 [03:15<00:00, 39.18s/it]\n",
      "  0%|                                                                                            | 0/5 [00:00<?, ?it/s]"
     ]
    },
    {
     "name": "stdout",
     "output_type": "stream",
     "text": [
      "    Dataset              T    CV  ML      Acc    b_Acc    Prec    Rec     F1    kap    ROC    tra-T    test-T    Al-Time\n",
      "--  -----------------  ---  ----  ----  -----  -------  ------  -----  -----  -----  -----  -------  --------  ---------\n",
      " 0  I211104-A211102_1    0     1  DT     0.82    0.804   0.827  0.804  0.797  0.813      0    1.568     0.142          0\n",
      " 1  I211104-A211102_1    1     2  DT     0.82    0.804   0.827  0.804  0.797  0.813      0    1.63      0.186          0\n",
      " 2  I211104-A211102_1    2     3  DT     0.82    0.804   0.827  0.804  0.797  0.813      0    1.608     0.146          0\n",
      " 3  I211104-A211102_1    3     4  DT     0.82    0.804   0.827  0.804  0.797  0.813      0    1.678     0.161          0\n",
      " 4  I211104-A211102_1    4     5  DT     0.82    0.804   0.828  0.804  0.797  0.813      0    1.644     0.138          0\n",
      "\n"
     ]
    },
    {
     "name": "stderr",
     "output_type": "stream",
     "text": [
      "\r",
      " 20%|████████████████▊                                                                   | 1/5 [00:35<02:23, 35.98s/it]"
     ]
    },
    {
     "name": "stdout",
     "output_type": "stream",
     "text": [
      "    Dataset              T    CV  ML      Acc    b_Acc    Prec    Rec     F1    kap    ROC    tra-T    test-T    Al-Time\n",
      "--  -----------------  ---  ----  ----  -----  -------  ------  -----  -----  -----  -----  -------  --------  ---------\n",
      " 0  I211104-A211105_1    0     1  DT    0.848    0.851   0.852  0.851  0.828  0.841      0    1.651     0.159          0\n",
      " 1  I211104-A211105_1    1     2  DT    0.848    0.851   0.852  0.851  0.828  0.841      0    1.636     0.147          0\n",
      " 2  I211104-A211105_1    2     3  DT    0.848    0.851   0.852  0.851  0.828  0.841      0    1.641     0.159          0\n",
      " 3  I211104-A211105_1    3     4  DT    0.848    0.851   0.852  0.851  0.828  0.841      0    1.577     0.145          0\n",
      " 4  I211104-A211105_1    4     5  DT    0.848    0.851   0.852  0.851  0.828  0.841      0    1.738     0.158          0\n",
      "\n"
     ]
    },
    {
     "name": "stderr",
     "output_type": "stream",
     "text": [
      "\r",
      " 40%|█████████████████████████████████▌                                                  | 2/5 [01:12<01:49, 36.57s/it]"
     ]
    },
    {
     "name": "stdout",
     "output_type": "stream",
     "text": [
      "    Dataset              T    CV  ML      Acc    b_Acc    Prec    Rec     F1    kap    ROC    tra-T    test-T    Al-Time\n",
      "--  -----------------  ---  ----  ----  -----  -------  ------  -----  -----  -----  -----  -------  --------  ---------\n",
      " 0  I211104-I211102_1    0     1  DT     0.72    0.826   0.825  0.826  0.795  0.705      0    1.749     0.234          0\n",
      " 1  I211104-I211102_1    1     2  DT     0.72    0.826   0.825  0.826  0.795  0.705      0    1.731     0.229          0\n",
      " 2  I211104-I211102_1    2     3  DT     0.72    0.826   0.825  0.826  0.795  0.705      0    1.625     0.214          0\n",
      " 3  I211104-I211102_1    3     4  DT     0.72    0.826   0.825  0.826  0.795  0.705      0    1.622     0.232          0\n",
      " 4  I211104-I211102_1    4     5  DT     0.72    0.826   0.826  0.826  0.795  0.705      0    1.608     0.204          0\n",
      "\n"
     ]
    },
    {
     "name": "stderr",
     "output_type": "stream",
     "text": [
      "\r",
      " 60%|██████████████████████████████████████████████████▍                                 | 3/5 [01:55<01:18, 39.42s/it]"
     ]
    },
    {
     "name": "stdout",
     "output_type": "stream",
     "text": [
      "    Dataset              T    CV  ML      Acc    b_Acc    Prec    Rec     F1    kap    ROC    tra-T    test-T    Al-Time\n",
      "--  -----------------  ---  ----  ----  -----  -------  ------  -----  -----  -----  -----  -------  --------  ---------\n",
      " 0  I211104-I211103_1    0     1  DT    0.896    0.865   0.885  0.865  0.869  0.891      0    1.653     0.155          0\n",
      " 1  I211104-I211103_1    1     2  DT    0.896    0.865   0.885  0.865  0.869  0.891      0    1.485     0.176          0\n",
      " 2  I211104-I211103_1    2     3  DT    0.896    0.865   0.886  0.865  0.869  0.891      0    1.545     0.181          0\n",
      " 3  I211104-I211103_1    3     4  DT    0.896    0.865   0.885  0.865  0.869  0.891      0    1.498     0.168          0\n",
      " 4  I211104-I211103_1    4     5  DT    0.896    0.865   0.883  0.865  0.869  0.891      0    1.584     0.165          0\n",
      "\n"
     ]
    },
    {
     "name": "stderr",
     "output_type": "stream",
     "text": [
      "\r",
      " 80%|███████████████████████████████████████████████████████████████████▏                | 4/5 [02:33<00:38, 38.62s/it]"
     ]
    },
    {
     "name": "stdout",
     "output_type": "stream",
     "text": [
      "    Dataset              T    CV  ML      Acc    b_Acc    Prec    Rec     F1    kap    ROC    tra-T    test-T    Al-Time\n",
      "--  -----------------  ---  ----  ----  -----  -------  ------  -----  -----  -----  -----  -------  --------  ---------\n",
      " 0  I211104-I211104_1    0     1  DT    0.921    0.907   0.916  0.907  0.908  0.917      0    1.656     0.194          0\n",
      " 1  I211104-I211104_1    1     2  DT    0.921    0.907   0.916  0.907  0.908  0.917      0    1.682     0.177          0\n",
      " 2  I211104-I211104_1    2     3  DT    0.921    0.907   0.916  0.907  0.908  0.917      0    1.636     0.171          0\n",
      " 3  I211104-I211104_1    3     4  DT    0.921    0.907   0.916  0.907  0.908  0.917      0    1.685     0.19           0\n",
      " 4  I211104-I211104_1    4     5  DT    0.921    0.907   0.916  0.907  0.908  0.917      0    1.672     0.182          0\n",
      "\n"
     ]
    },
    {
     "name": "stderr",
     "output_type": "stream",
     "text": [
      "100%|████████████████████████████████████████████████████████████████████████████████████| 5/5 [03:12<00:00, 38.41s/it]\n",
      "  0%|                                                                                           | 0/20 [00:00<?, ?it/s]"
     ]
    },
    {
     "name": "stdout",
     "output_type": "stream",
     "text": [
      "    Dataset              T    CV  ML      Acc    b_Acc    Prec    Rec     F1    kap    ROC    tra-T    test-T    Al-Time\n",
      "--  -----------------  ---  ----  ----  -----  -------  ------  -----  -----  -----  -----  -------  --------  ---------\n",
      " 0  A211108-A211108_1    0     1  DT    0.946    0.887   0.909  0.887  0.887  0.941      0    1.923     0.2            0\n",
      " 1  A211108-A211108_1    1     2  DT    0.946    0.887   0.909  0.887  0.887  0.941      0    1.76      0.207          0\n",
      " 2  A211108-A211108_1    2     3  DT    0.946    0.887   0.909  0.887  0.887  0.941      0    1.912     0.195          0\n",
      " 3  A211108-A211108_1    3     4  DT    0.946    0.887   0.909  0.887  0.887  0.941      0    2.034     0.234          0\n",
      " 4  A211108-A211108_1    4     5  DT    0.946    0.887   0.909  0.887  0.887  0.941      0    1.94      0.23           0\n",
      "\n"
     ]
    },
    {
     "name": "stderr",
     "output_type": "stream",
     "text": [
      "\r",
      "  5%|████▏                                                                              | 1/20 [00:47<15:05, 47.68s/it]"
     ]
    },
    {
     "name": "stdout",
     "output_type": "stream",
     "text": [
      "    Dataset              T    CV  ML      Acc    b_Acc    Prec    Rec     F1    kap    ROC    tra-T    test-T    Al-Time\n",
      "--  -----------------  ---  ----  ----  -----  -------  ------  -----  -----  -----  -----  -------  --------  ---------\n",
      " 0  A211108-A211109_1    0     1  DT    0.906    0.851   0.86   0.851  0.848  0.901      0    1.932     0.221          0\n",
      " 1  A211108-A211109_1    1     2  DT    0.906    0.851   0.859  0.851  0.848  0.901      0    1.982     0.19           0\n",
      " 2  A211108-A211109_1    2     3  DT    0.906    0.851   0.859  0.851  0.848  0.901      0    1.828     0.181          0\n",
      " 3  A211108-A211109_1    3     4  DT    0.906    0.851   0.859  0.851  0.848  0.901      0    1.865     0.225          0\n",
      " 4  A211108-A211109_1    4     5  DT    0.906    0.851   0.859  0.851  0.848  0.901      0    1.952     0.178          0\n",
      "\n"
     ]
    },
    {
     "name": "stderr",
     "output_type": "stream",
     "text": [
      "\r",
      " 10%|████████▎                                                                          | 2/20 [01:32<13:44, 45.82s/it]"
     ]
    },
    {
     "name": "stdout",
     "output_type": "stream",
     "text": [
      "    Dataset              T    CV  ML      Acc    b_Acc    Prec    Rec     F1    kap    ROC    tra-T    test-T    Al-Time\n",
      "--  -----------------  ---  ----  ----  -----  -------  ------  -----  -----  -----  -----  -------  --------  ---------\n",
      " 0  A211108-A211115_1    0     1  DT    0.664    0.562   0.538  0.562  0.51   0.639      0    1.902     0.215          0\n",
      " 1  A211108-A211115_1    1     2  DT    0.664    0.562   0.527  0.562  0.502  0.639      0    1.915     0.205          0\n",
      " 2  A211108-A211115_1    2     3  DT    0.661    0.559   0.537  0.559  0.508  0.636      0    1.777     0.203          0\n",
      " 3  A211108-A211115_1    3     4  DT    0.661    0.559   0.551  0.559  0.52   0.636      0    1.959     0.255          0\n",
      " 4  A211108-A211115_1    4     5  DT    0.664    0.562   0.527  0.562  0.502  0.639      0    1.901     0.21           0\n",
      "\n"
     ]
    },
    {
     "name": "stderr",
     "output_type": "stream",
     "text": [
      "\r",
      " 15%|████████████▍                                                                      | 3/20 [02:20<13:19, 47.05s/it]"
     ]
    },
    {
     "name": "stdout",
     "output_type": "stream",
     "text": [
      "    Dataset              T    CV  ML      Acc    b_Acc    Prec    Rec     F1    kap    ROC    tra-T    test-T    Al-Time\n",
      "--  -----------------  ---  ----  ----  -----  -------  ------  -----  -----  -----  -----  -------  --------  ---------\n",
      " 0  A211108-A211116_1    0     1  DT    0.615    0.566   0.551  0.566  0.517  0.592      0    2.069     0.207          0\n",
      " 1  A211108-A211116_1    1     2  DT    0.615    0.566   0.542  0.566  0.511  0.592      0    1.92      0.209          0\n",
      " 2  A211108-A211116_1    2     3  DT    0.615    0.566   0.55   0.566  0.516  0.592      0    1.903     0.206          0\n",
      " 3  A211108-A211116_1    3     4  DT    0.615    0.566   0.555  0.566  0.521  0.592      0    1.893     0.21           0\n",
      " 4  A211108-A211116_1    4     5  DT    0.615    0.566   0.535  0.566  0.504  0.592      0    1.94      0.227          0\n",
      "\n"
     ]
    },
    {
     "name": "stderr",
     "output_type": "stream",
     "text": [
      "\r",
      " 20%|████████████████▌                                                                  | 4/20 [03:08<12:38, 47.39s/it]"
     ]
    },
    {
     "name": "stdout",
     "output_type": "stream",
     "text": [
      "    Dataset              T    CV  ML      Acc    b_Acc    Prec    Rec     F1    kap    ROC    tra-T    test-T    Al-Time\n",
      "--  -----------------  ---  ----  ----  -----  -------  ------  -----  -----  -----  -----  -------  --------  ---------\n",
      " 0  A211108-A211117_1    0     1  DT    0.547    0.53    0.529  0.53   0.474  0.528      0    1.935     0.197          0\n",
      " 1  A211108-A211117_1    1     2  DT    0.548    0.53    0.53   0.53   0.474  0.528      0    1.841     0.183          0\n",
      " 2  A211108-A211117_1    2     3  DT    0.547    0.528   0.53   0.528  0.473  0.527      0    1.911     0.202          0\n",
      " 3  A211108-A211117_1    3     4  DT    0.547    0.528   0.544  0.528  0.485  0.527      0    1.981     0.209          0\n",
      " 4  A211108-A211117_1    4     5  DT    0.547    0.529   0.544  0.529  0.485  0.527      0    1.944     0.19           0\n",
      "\n"
     ]
    },
    {
     "name": "stderr",
     "output_type": "stream",
     "text": [
      "\r",
      " 25%|████████████████████▊                                                              | 5/20 [03:54<11:41, 46.75s/it]"
     ]
    },
    {
     "name": "stdout",
     "output_type": "stream",
     "text": [
      "    Dataset              T    CV  ML      Acc    b_Acc    Prec    Rec     F1    kap    ROC    tra-T    test-T    Al-Time\n",
      "--  -----------------  ---  ----  ----  -----  -------  ------  -----  -----  -----  -----  -------  --------  ---------\n",
      " 0  A211108-A211118_1    0     1  DT    0.675    0.578   0.563  0.578  0.521  0.661      0    1.963     0.165          0\n",
      " 1  A211108-A211118_1    1     2  DT    0.675    0.578   0.577  0.578  0.537  0.661      0    1.786     0.153          0\n",
      " 2  A211108-A211118_1    2     3  DT    0.675    0.578   0.577  0.578  0.532  0.661      0    1.885     0.149          0\n",
      " 3  A211108-A211118_1    3     4  DT    0.675    0.578   0.595  0.578  0.544  0.66       0    1.966     0.163          0\n",
      " 4  A211108-A211118_1    4     5  DT    0.675    0.578   0.579  0.578  0.532  0.661      0    1.81      0.145          0\n",
      "\n"
     ]
    },
    {
     "name": "stderr",
     "output_type": "stream",
     "text": [
      "\r",
      " 30%|████████████████████████▉                                                          | 6/20 [04:34<10:21, 44.41s/it]"
     ]
    },
    {
     "name": "stdout",
     "output_type": "stream",
     "text": [
      "    Dataset              T    CV  ML      Acc    b_Acc    Prec    Rec     F1    kap    ROC    tra-T    test-T    Al-Time\n",
      "--  -----------------  ---  ----  ----  -----  -------  ------  -----  -----  -----  -----  -------  --------  ---------\n",
      " 0  A211108-A211122_1    0     1  DT    0.764    0.589   0.598  0.589  0.548  0.747      0    1.8       0.178          0\n",
      " 1  A211108-A211122_1    1     2  DT    0.764    0.589   0.596  0.589  0.546  0.747      0    1.883     0.209          0\n",
      " 2  A211108-A211122_1    2     3  DT    0.764    0.589   0.598  0.589  0.548  0.747      0    1.944     0.188          0\n",
      " 3  A211108-A211122_1    3     4  DT    0.764    0.589   0.612  0.589  0.559  0.747      0    1.851     0.192          0\n",
      " 4  A211108-A211122_1    4     5  DT    0.764    0.589   0.612  0.589  0.559  0.747      0    1.989     0.208          0\n",
      "\n"
     ]
    },
    {
     "name": "stderr",
     "output_type": "stream",
     "text": [
      "\r",
      " 35%|█████████████████████████████                                                      | 7/20 [05:19<09:39, 44.60s/it]"
     ]
    },
    {
     "name": "stdout",
     "output_type": "stream",
     "text": [
      "    Dataset              T    CV  ML      Acc    b_Acc    Prec    Rec     F1    kap    ROC    tra-T    test-T    Al-Time\n",
      "--  -----------------  ---  ----  ----  -----  -------  ------  -----  -----  -----  -----  -------  --------  ---------\n",
      " 0  A211108-A211123_1    0     1  DT    0.755    0.593   0.605  0.593  0.559  0.738      0    1.844     0.196          0\n",
      " 1  A211108-A211123_1    1     2  DT    0.754    0.593   0.606  0.593  0.559  0.738      0    1.888     0.177          0\n",
      " 2  A211108-A211123_1    2     3  DT    0.755    0.593   0.604  0.593  0.559  0.738      0    1.94      0.19           0\n",
      " 3  A211108-A211123_1    3     4  DT    0.755    0.593   0.59   0.593  0.547  0.738      0    1.942     0.238          0\n",
      " 4  A211108-A211123_1    4     5  DT    0.755    0.593   0.589  0.593  0.546  0.738      0    1.84      0.192          0\n",
      "\n"
     ]
    },
    {
     "name": "stderr",
     "output_type": "stream",
     "text": [
      "\r",
      " 40%|█████████████████████████████████▏                                                 | 8/20 [06:03<08:56, 44.68s/it]"
     ]
    },
    {
     "name": "stdout",
     "output_type": "stream",
     "text": [
      "    Dataset              T    CV  ML      Acc    b_Acc    Prec    Rec     F1    kap    ROC    tra-T    test-T    Al-Time\n",
      "--  -----------------  ---  ----  ----  -----  -------  ------  -----  -----  -----  -----  -------  --------  ---------\n",
      " 0  A211108-A211125_1    0     1  DT    0.666    0.563   0.556  0.563  0.521  0.651      0    1.939     0.169          0\n",
      " 1  A211108-A211125_1    1     2  DT    0.666    0.564   0.54   0.564  0.507  0.652      0    1.959     0.223          0\n",
      " 2  A211108-A211125_1    2     3  DT    0.666    0.564   0.541  0.564  0.509  0.652      0    1.901     0.177          0\n",
      " 3  A211108-A211125_1    3     4  DT    0.666    0.564   0.524  0.564  0.494  0.652      0    1.824     0.162          0\n",
      " 4  A211108-A211125_1    4     5  DT    0.666    0.564   0.542  0.564  0.507  0.652      0    1.946     0.175          0\n",
      "\n"
     ]
    },
    {
     "name": "stderr",
     "output_type": "stream",
     "text": [
      "\r",
      " 45%|█████████████████████████████████████▎                                             | 9/20 [06:46<08:04, 44.03s/it]"
     ]
    },
    {
     "name": "stdout",
     "output_type": "stream",
     "text": [
      "    Dataset              T    CV  ML      Acc    b_Acc    Prec    Rec     F1    kap    ROC    tra-T    test-T    Al-Time\n",
      "--  -----------------  ---  ----  ----  -----  -------  ------  -----  -----  -----  -----  -------  --------  ---------\n",
      " 0  A211108-A211206_1    0     1  DT    0.734    0.583   0.587  0.583  0.562  0.719      0    1.815     0.206          0\n",
      " 1  A211108-A211206_1    1     2  DT    0.733    0.582   0.588  0.582  0.564  0.717      0    1.794     0.187          0\n",
      " 2  A211108-A211206_1    2     3  DT    0.734    0.583   0.583  0.583  0.562  0.719      0    1.866     0.201          0\n",
      " 3  A211108-A211206_1    3     4  DT    0.734    0.583   0.575  0.583  0.557  0.719      0    1.967     0.216          0\n",
      " 4  A211108-A211206_1    4     5  DT    0.733    0.582   0.588  0.582  0.564  0.717      0    1.91      0.193          0\n",
      "\n"
     ]
    },
    {
     "name": "stderr",
     "output_type": "stream",
     "text": [
      "\r",
      " 50%|█████████████████████████████████████████                                         | 10/20 [07:30<07:20, 44.05s/it]"
     ]
    },
    {
     "name": "stdout",
     "output_type": "stream",
     "text": [
      "    Dataset              T    CV  ML      Acc    b_Acc    Prec    Rec     F1    kap    ROC    tra-T    test-T    Al-Time\n",
      "--  -----------------  ---  ----  ----  -----  -------  ------  -----  -----  -----  -----  -------  --------  ---------\n",
      " 0  A211108-A211208_1    0     1  DT    0.771    0.56    0.57   0.56   0.539  0.751      0    1.947     0.171          0\n",
      " 1  A211108-A211208_1    1     2  DT    0.771    0.561   0.579  0.561  0.547  0.751      0    1.953     0.18           0\n",
      " 2  A211108-A211208_1    2     3  DT    0.771    0.561   0.58   0.561  0.548  0.751      0    1.921     0.17           0\n",
      " 3  A211108-A211208_1    3     4  DT    0.771    0.56    0.569  0.56   0.537  0.751      0    1.781     0.17           0\n",
      " 4  A211108-A211208_1    4     5  DT    0.771    0.56    0.558  0.56   0.529  0.751      0    2.016     0.174          0\n",
      "\n"
     ]
    },
    {
     "name": "stderr",
     "output_type": "stream",
     "text": [
      "\r",
      " 55%|█████████████████████████████████████████████                                     | 11/20 [08:12<06:29, 43.33s/it]"
     ]
    },
    {
     "name": "stdout",
     "output_type": "stream",
     "text": [
      "    Dataset              T    CV  ML      Acc    b_Acc    Prec    Rec     F1    kap    ROC    tra-T    test-T    Al-Time\n",
      "--  -----------------  ---  ----  ----  -----  -------  ------  -----  -----  -----  -----  -------  --------  ---------\n",
      " 0  A211108-A211223_1    0     1  DT    0.625    0.598   0.589  0.598  0.555  0.61       0    1.838     0.151          0\n",
      " 1  A211108-A211223_1    1     2  DT    0.625    0.598   0.582  0.598  0.552  0.611      0    1.908     0.153          0\n",
      " 2  A211108-A211223_1    2     3  DT    0.625    0.598   0.586  0.598  0.555  0.61       0    1.857     0.144          0\n",
      " 3  A211108-A211223_1    3     4  DT    0.625    0.598   0.59   0.598  0.556  0.611      0    1.818     0.143          0\n",
      " 4  A211108-A211223_1    4     5  DT    0.625    0.598   0.583  0.598  0.551  0.61       0    1.963     0.156          0\n",
      "\n"
     ]
    },
    {
     "name": "stderr",
     "output_type": "stream",
     "text": [
      "\r",
      " 60%|█████████████████████████████████████████████████▏                                | 12/20 [08:50<05:34, 41.86s/it]"
     ]
    },
    {
     "name": "stdout",
     "output_type": "stream",
     "text": [
      "    Dataset              T    CV  ML      Acc    b_Acc    Prec    Rec     F1    kap    ROC    tra-T    test-T    Al-Time\n",
      "--  -----------------  ---  ----  ----  -----  -------  ------  -----  -----  -----  -----  -------  --------  ---------\n",
      " 0  A211108-A211225_1    0     1  DT    0.646    0.593   0.576  0.593  0.548  0.632      0    1.782     0.163          0\n",
      " 1  A211108-A211225_1    1     2  DT    0.647    0.594   0.576  0.594  0.549  0.634      0    1.986     0.186          0\n",
      " 2  A211108-A211225_1    2     3  DT    0.646    0.593   0.576  0.593  0.549  0.633      0    1.837     0.156          0\n",
      " 3  A211108-A211225_1    3     4  DT    0.646    0.593   0.574  0.593  0.547  0.633      0    1.878     0.166          0\n",
      " 4  A211108-A211225_1    4     5  DT    0.646    0.593   0.575  0.593  0.548  0.632      0    1.817     0.156          0\n",
      "\n"
     ]
    },
    {
     "name": "stderr",
     "output_type": "stream",
     "text": [
      "\r",
      " 65%|█████████████████████████████████████████████████████▎                            | 13/20 [09:32<04:51, 41.67s/it]"
     ]
    },
    {
     "name": "stdout",
     "output_type": "stream",
     "text": [
      "    Dataset              T    CV  ML      Acc    b_Acc    Prec    Rec     F1    kap    ROC    tra-T    test-T    Al-Time\n",
      "--  -----------------  ---  ----  ----  -----  -------  ------  -----  -----  -----  -----  -------  --------  ---------\n",
      " 0  A211108-A211228_1    0     1  DT    0.607    0.565   0.545  0.565  0.516  0.592      0    1.942     0.183          0\n",
      " 1  A211108-A211228_1    1     2  DT    0.607    0.565   0.554  0.565  0.523  0.592      0    1.765     0.171          0\n",
      " 2  A211108-A211228_1    2     3  DT    0.609    0.565   0.545  0.565  0.517  0.593      0    2.089     0.19           0\n",
      " 3  A211108-A211228_1    3     4  DT    0.609    0.565   0.545  0.565  0.516  0.593      0    1.889     0.179          0\n",
      " 4  A211108-A211228_1    4     5  DT    0.607    0.565   0.54   0.565  0.514  0.592      0    1.849     0.173          0\n",
      "\n"
     ]
    },
    {
     "name": "stderr",
     "output_type": "stream",
     "text": [
      "\r",
      " 70%|█████████████████████████████████████████████████████████▍                        | 14/20 [10:14<04:11, 41.90s/it]"
     ]
    },
    {
     "name": "stdout",
     "output_type": "stream",
     "text": [
      "    Dataset              T    CV  ML      Acc    b_Acc    Prec    Rec     F1    kap    ROC    tra-T    test-T    Al-Time\n",
      "--  -----------------  ---  ----  ----  -----  -------  ------  -----  -----  -----  -----  -------  --------  ---------\n",
      " 0  A211108-I211108_1    0     1  DT    0.873    0.858   0.853  0.858  0.849  0.868      0    1.976     0.233          0\n",
      " 1  A211108-I211108_1    1     2  DT    0.873    0.858   0.853  0.858  0.85   0.868      0    1.962     0.225          0\n",
      " 2  A211108-I211108_1    2     3  DT    0.873    0.858   0.854  0.858  0.85   0.868      0    1.833     0.219          0\n",
      " 3  A211108-I211108_1    3     4  DT    0.873    0.858   0.853  0.858  0.849  0.868      0    2.096     0.213          0\n",
      " 4  A211108-I211108_1    4     5  DT    0.873    0.858   0.854  0.858  0.85   0.868      0    2.129     0.221          0\n",
      "\n"
     ]
    },
    {
     "name": "stderr",
     "output_type": "stream",
     "text": [
      "\r",
      " 75%|█████████████████████████████████████████████████████████████▌                    | 15/20 [11:01<03:37, 43.54s/it]"
     ]
    },
    {
     "name": "stdout",
     "output_type": "stream",
     "text": [
      "    Dataset              T    CV  ML      Acc    b_Acc    Prec    Rec     F1    kap    ROC    tra-T    test-T    Al-Time\n",
      "--  -----------------  ---  ----  ----  -----  -------  ------  -----  -----  -----  -----  -------  --------  ---------\n",
      " 0  A211108-I211112_1    0     1  DT    0.578    0.522   0.495  0.522  0.456  0.559      0    2.018     0.227          0\n",
      " 1  A211108-I211112_1    1     2  DT    0.578    0.522   0.512  0.522  0.468  0.559      0    1.986     0.242          0\n",
      " 2  A211108-I211112_1    2     3  DT    0.578    0.522   0.517  0.522  0.472  0.559      0    2.035     0.239          0\n",
      " 3  A211108-I211112_1    3     4  DT    0.578    0.522   0.525  0.522  0.477  0.559      0    2.126     0.231          0\n",
      " 4  A211108-I211112_1    4     5  DT    0.578    0.522   0.515  0.522  0.472  0.559      0    2.056     0.269          0\n",
      "\n"
     ]
    },
    {
     "name": "stderr",
     "output_type": "stream",
     "text": [
      "\r",
      " 80%|█████████████████████████████████████████████████████████████████▌                | 16/20 [11:52<03:03, 45.81s/it]"
     ]
    },
    {
     "name": "stdout",
     "output_type": "stream",
     "text": [
      "    Dataset              T    CV  ML      Acc    b_Acc    Prec    Rec     F1    kap    ROC    tra-T    test-T    Al-Time\n",
      "--  -----------------  ---  ----  ----  -----  -------  ------  -----  -----  -----  -----  -------  --------  ---------\n",
      " 0  A211108-I211115_1    0     1  DT     0.58    0.535   0.532  0.535  0.49   0.565      0    1.921     0.229          0\n",
      " 1  A211108-I211115_1    1     2  DT     0.58    0.535   0.516  0.535  0.479  0.565      0    1.996     0.214          0\n",
      " 2  A211108-I211115_1    2     3  DT     0.58    0.535   0.546  0.535  0.5    0.564      0    2.24      0.227          0\n",
      " 3  A211108-I211115_1    3     4  DT     0.58    0.535   0.516  0.535  0.479  0.565      0    2.087     0.229          0\n",
      " 4  A211108-I211115_1    4     5  DT     0.58    0.535   0.516  0.535  0.479  0.565      0    2.15      0.229          0\n",
      "\n"
     ]
    },
    {
     "name": "stderr",
     "output_type": "stream",
     "text": [
      "\r",
      " 85%|█████████████████████████████████████████████████████████████████████▋            | 17/20 [12:42<02:20, 46.84s/it]"
     ]
    },
    {
     "name": "stdout",
     "output_type": "stream",
     "text": [
      "    Dataset              T    CV  ML      Acc    b_Acc    Prec    Rec     F1    kap    ROC    tra-T    test-T    Al-Time\n",
      "--  -----------------  ---  ----  ----  -----  -------  ------  -----  -----  -----  -----  -------  --------  ---------\n",
      " 0  A211108-I211118_1    0     1  DT    0.671    0.585   0.567  0.585  0.524  0.656      0    2.174     0.222          0\n",
      " 1  A211108-I211118_1    1     2  DT    0.671    0.585   0.593  0.585  0.546  0.656      0    2.069     0.25           0\n",
      " 2  A211108-I211118_1    2     3  DT    0.671    0.585   0.581  0.585  0.535  0.656      0    1.962     0.22           0\n",
      " 3  A211108-I211118_1    3     4  DT    0.671    0.585   0.566  0.585  0.523  0.656      0    2.201     0.222          0\n",
      " 4  A211108-I211118_1    4     5  DT    0.671    0.585   0.594  0.585  0.547  0.656      0    1.974     0.225          0\n",
      "\n"
     ]
    },
    {
     "name": "stderr",
     "output_type": "stream",
     "text": [
      "\r",
      " 90%|█████████████████████████████████████████████████████████████████████████▊        | 18/20 [13:31<01:35, 47.69s/it]"
     ]
    },
    {
     "name": "stdout",
     "output_type": "stream",
     "text": [
      "    Dataset              T    CV  ML      Acc    b_Acc    Prec    Rec     F1    kap    ROC    tra-T    test-T    Al-Time\n",
      "--  -----------------  ---  ----  ----  -----  -------  ------  -----  -----  -----  -----  -------  --------  ---------\n",
      " 0  A211108-I211119_1    0     1  DT    0.666    0.574   0.603  0.574  0.545  0.65       0    2.07      0.214          0\n",
      " 1  A211108-I211119_1    1     2  DT    0.665    0.574   0.589  0.574  0.535  0.65       0    2.112     0.287          0\n",
      " 2  A211108-I211119_1    2     3  DT    0.666    0.575   0.59   0.575  0.534  0.651      0    2.077     0.22           0\n",
      " 3  A211108-I211119_1    3     4  DT    0.666    0.574   0.59   0.574  0.533  0.65       0    2.015     0.208          0\n",
      " 4  A211108-I211119_1    4     5  DT    0.666    0.575   0.59   0.575  0.534  0.651      0    2.15      0.215          0\n",
      "\n"
     ]
    },
    {
     "name": "stderr",
     "output_type": "stream",
     "text": [
      "\r",
      " 95%|█████████████████████████████████████████████████████████████████████████████▉    | 19/20 [14:20<00:48, 48.10s/it]"
     ]
    },
    {
     "name": "stdout",
     "output_type": "stream",
     "text": [
      "    Dataset              T    CV  ML      Acc    b_Acc    Prec    Rec     F1    kap    ROC    tra-T    test-T    Al-Time\n",
      "--  -----------------  ---  ----  ----  -----  -------  ------  -----  -----  -----  -----  -------  --------  ---------\n",
      " 0  A211108-I211122_1    0     1  DT    0.672    0.579   0.577  0.579  0.536  0.657      0    2.126     0.218          0\n",
      " 1  A211108-I211122_1    1     2  DT    0.672    0.579   0.57   0.579  0.53   0.657      0    2.005     0.217          0\n",
      " 2  A211108-I211122_1    2     3  DT    0.669    0.577   0.59   0.577  0.545  0.654      0    2.012     0.219          0\n",
      " 3  A211108-I211122_1    3     4  DT    0.669    0.578   0.589  0.578  0.545  0.654      0    2.061     0.254          0\n",
      " 4  A211108-I211122_1    4     5  DT    0.669    0.578   0.575  0.578  0.534  0.654      0    2.107     0.23           0\n",
      "\n"
     ]
    },
    {
     "name": "stderr",
     "output_type": "stream",
     "text": [
      "100%|██████████████████████████████████████████████████████████████████████████████████| 20/20 [15:10<00:00, 45.55s/it]\n",
      "  0%|                                                                                           | 0/20 [00:00<?, ?it/s]"
     ]
    },
    {
     "name": "stdout",
     "output_type": "stream",
     "text": [
      "    Dataset              T    CV  ML      Acc    b_Acc    Prec    Rec     F1    kap    ROC    tra-T    test-T    Al-Time\n",
      "--  -----------------  ---  ----  ----  -----  -------  ------  -----  -----  -----  -----  -------  --------  ---------\n",
      " 0  A211109-A211108_1    0     1  DT    0.922    0.847   0.864  0.847  0.849  0.915      0    1.778     0.233          0\n",
      " 1  A211109-A211108_1    1     2  DT    0.921    0.847   0.863  0.847  0.848  0.915      0    1.894     0.23           0\n",
      " 2  A211109-A211108_1    2     3  DT    0.922    0.848   0.865  0.848  0.849  0.915      0    1.847     0.285          0\n",
      " 3  A211109-A211108_1    3     4  DT    0.922    0.847   0.864  0.847  0.849  0.915      0    1.835     0.269          0\n",
      " 4  A211109-A211108_1    4     5  DT    0.922    0.847   0.864  0.847  0.849  0.915      0    1.904     0.227          0\n",
      "\n"
     ]
    },
    {
     "name": "stderr",
     "output_type": "stream",
     "text": [
      "\r",
      "  5%|████▏                                                                              | 1/20 [00:50<15:58, 50.45s/it]"
     ]
    },
    {
     "name": "stdout",
     "output_type": "stream",
     "text": [
      "    Dataset              T    CV  ML      Acc    b_Acc    Prec    Rec     F1    kap    ROC    tra-T    test-T    Al-Time\n",
      "--  -----------------  ---  ----  ----  -----  -------  ------  -----  -----  -----  -----  -------  --------  ---------\n",
      " 0  A211109-A211109_1    0     1  DT    0.928    0.889   0.899  0.889  0.883  0.924      0    1.966     0.216          0\n",
      " 1  A211109-A211109_1    1     2  DT    0.928    0.889   0.899  0.889  0.883  0.924      0    1.916     0.259          0\n",
      " 2  A211109-A211109_1    2     3  DT    0.928    0.889   0.899  0.889  0.883  0.924      0    1.853     0.213          0\n",
      " 3  A211109-A211109_1    3     4  DT    0.928    0.889   0.899  0.889  0.883  0.924      0    1.808     0.232          0\n",
      " 4  A211109-A211109_1    4     5  DT    0.928    0.889   0.899  0.889  0.883  0.924      0    1.911     0.287          0\n",
      "\n"
     ]
    },
    {
     "name": "stderr",
     "output_type": "stream",
     "text": [
      "\r",
      " 10%|████████▎                                                                          | 2/20 [01:38<14:41, 48.99s/it]"
     ]
    },
    {
     "name": "stdout",
     "output_type": "stream",
     "text": [
      "    Dataset              T    CV  ML      Acc    b_Acc    Prec    Rec     F1    kap    ROC    tra-T    test-T    Al-Time\n",
      "--  -----------------  ---  ----  ----  -----  -------  ------  -----  -----  -----  -----  -------  --------  ---------\n",
      " 0  A211109-A211115_1    0     1  DT    0.674    0.586   0.559  0.586  0.534   0.65      0    1.855     0.238          0\n",
      " 1  A211109-A211115_1    1     2  DT    0.674    0.586   0.575  0.586  0.545   0.65      0    1.709     0.235          0\n",
      " 2  A211109-A211115_1    2     3  DT    0.674    0.586   0.573  0.586  0.544   0.65      0    1.979     0.244          0\n",
      " 3  A211109-A211115_1    3     4  DT    0.674    0.586   0.559  0.586  0.534   0.65      0    1.815     0.274          0\n",
      " 4  A211109-A211115_1    4     5  DT    0.674    0.586   0.561  0.586  0.536   0.65      0    1.782     0.226          0\n",
      "\n"
     ]
    },
    {
     "name": "stderr",
     "output_type": "stream",
     "text": [
      "\r",
      " 15%|████████████▍                                                                      | 3/20 [02:28<14:03, 49.63s/it]"
     ]
    },
    {
     "name": "stdout",
     "output_type": "stream",
     "text": [
      "    Dataset              T    CV  ML      Acc    b_Acc    Prec    Rec     F1    kap    ROC    tra-T    test-T    Al-Time\n",
      "--  -----------------  ---  ----  ----  -----  -------  ------  -----  -----  -----  -----  -------  --------  ---------\n",
      " 0  A211109-A211116_1    0     1  DT    0.627    0.591   0.559  0.591  0.531  0.604      0    1.846     0.217          0\n",
      " 1  A211109-A211116_1    1     2  DT    0.627    0.591   0.555  0.591  0.529  0.604      0    1.921     0.229          0\n",
      " 2  A211109-A211116_1    2     3  DT    0.627    0.591   0.564  0.591  0.536  0.604      0    1.887     0.288          0\n",
      " 3  A211109-A211116_1    3     4  DT    0.627    0.591   0.565  0.591  0.537  0.604      0    1.854     0.23           0\n",
      " 4  A211109-A211116_1    4     5  DT    0.627    0.591   0.565  0.591  0.537  0.604      0    1.87      0.232          0\n",
      "\n"
     ]
    },
    {
     "name": "stderr",
     "output_type": "stream",
     "text": [
      "\r",
      " 20%|████████████████▌                                                                  | 4/20 [03:18<13:13, 49.60s/it]"
     ]
    },
    {
     "name": "stdout",
     "output_type": "stream",
     "text": [
      "    Dataset              T    CV  ML      Acc    b_Acc    Prec    Rec     F1    kap    ROC    tra-T    test-T    Al-Time\n",
      "--  -----------------  ---  ----  ----  -----  -------  ------  -----  -----  -----  -----  -------  --------  ---------\n",
      " 0  A211109-A211117_1    0     1  DT    0.564    0.554   0.561  0.554  0.502  0.545      0    1.898     0.221          0\n",
      " 1  A211109-A211117_1    1     2  DT    0.553    0.533   0.539  0.533  0.485  0.534      0    1.867     0.226          0\n",
      " 2  A211109-A211117_1    2     3  DT    0.564    0.554   0.577  0.554  0.513  0.545      0    1.744     0.209          0\n",
      " 3  A211109-A211117_1    3     4  DT    0.564    0.554   0.56   0.554  0.501  0.545      0    1.814     0.199          0\n",
      " 4  A211109-A211117_1    4     5  DT    0.552    0.533   0.541  0.533  0.478  0.532      0    1.645     0.237          0\n",
      "\n"
     ]
    },
    {
     "name": "stderr",
     "output_type": "stream",
     "text": [
      "\r",
      " 25%|████████████████████▊                                                              | 5/20 [04:04<12:03, 48.25s/it]"
     ]
    },
    {
     "name": "stdout",
     "output_type": "stream",
     "text": [
      "    Dataset              T    CV  ML      Acc    b_Acc    Prec    Rec     F1    kap    ROC    tra-T    test-T    Al-Time\n",
      "--  -----------------  ---  ----  ----  -----  -------  ------  -----  -----  -----  -----  -------  --------  ---------\n",
      " 0  A211109-A211118_1    0     1  DT    0.697    0.606   0.617  0.606  0.568  0.684      0    1.812     0.157          0\n",
      " 1  A211109-A211118_1    1     2  DT    0.696    0.605   0.617  0.605  0.568  0.684      0    1.882     0.164          0\n",
      " 2  A211109-A211118_1    2     3  DT    0.681    0.584   0.586  0.584  0.543  0.668      0    1.942     0.164          0\n",
      " 3  A211109-A211118_1    3     4  DT    0.679    0.583   0.584  0.583  0.535  0.665      0    1.868     0.154          0\n",
      " 4  A211109-A211118_1    4     5  DT    0.696    0.606   0.608  0.606  0.56   0.684      0    1.982     0.169          0\n",
      "\n"
     ]
    },
    {
     "name": "stderr",
     "output_type": "stream",
     "text": [
      "\r",
      " 30%|████████████████████████▉                                                          | 6/20 [04:44<10:38, 45.62s/it]"
     ]
    },
    {
     "name": "stdout",
     "output_type": "stream",
     "text": [
      "    Dataset              T    CV  ML      Acc    b_Acc    Prec    Rec     F1    kap    ROC    tra-T    test-T    Al-Time\n",
      "--  -----------------  ---  ----  ----  -----  -------  ------  -----  -----  -----  -----  -------  --------  ---------\n",
      " 0  A211109-A211122_1    0     1  DT    0.767    0.596   0.588  0.596  0.542  0.75       0    1.779     0.192          0\n",
      " 1  A211109-A211122_1    1     2  DT    0.78     0.618   0.632  0.618  0.585  0.764      0    1.861     0.224          0\n",
      " 2  A211109-A211122_1    2     3  DT    0.78     0.618   0.621  0.618  0.576  0.764      0    1.787     0.206          0\n",
      " 3  A211109-A211122_1    3     4  DT    0.78     0.618   0.626  0.618  0.579  0.764      0    1.827     0.195          0\n",
      " 4  A211109-A211122_1    4     5  DT    0.78     0.618   0.632  0.618  0.585  0.764      0    1.813     0.193          0\n",
      "\n"
     ]
    },
    {
     "name": "stderr",
     "output_type": "stream",
     "text": [
      "\r",
      " 35%|█████████████████████████████                                                      | 7/20 [05:31<09:56, 45.90s/it]"
     ]
    },
    {
     "name": "stdout",
     "output_type": "stream",
     "text": [
      "    Dataset              T    CV  ML      Acc    b_Acc    Prec    Rec     F1    kap    ROC    tra-T    test-T    Al-Time\n",
      "--  -----------------  ---  ----  ----  -----  -------  ------  -----  -----  -----  -----  -------  --------  ---------\n",
      " 0  A211109-A211123_1    0     1  DT    0.759    0.592   0.603  0.592  0.564  0.743      0    1.88      0.24           0\n",
      " 1  A211109-A211123_1    1     2  DT    0.77     0.614   0.612  0.614  0.57   0.755      0    1.936     0.19           0\n",
      " 2  A211109-A211123_1    2     3  DT    0.77     0.614   0.623  0.614  0.579  0.755      0    1.873     0.199          0\n",
      " 3  A211109-A211123_1    3     4  DT    0.771    0.614   0.612  0.614  0.571  0.755      0    1.847     0.216          0\n",
      " 4  A211109-A211123_1    4     5  DT    0.758    0.592   0.593  0.592  0.548  0.741      0    1.8       0.208          0\n",
      "\n"
     ]
    },
    {
     "name": "stderr",
     "output_type": "stream",
     "text": [
      "\r",
      " 40%|█████████████████████████████████▏                                                 | 8/20 [06:17<09:14, 46.18s/it]"
     ]
    },
    {
     "name": "stdout",
     "output_type": "stream",
     "text": [
      "    Dataset              T    CV  ML      Acc    b_Acc    Prec    Rec     F1    kap    ROC    tra-T    test-T    Al-Time\n",
      "--  -----------------  ---  ----  ----  -----  -------  ------  -----  -----  -----  -----  -------  --------  ---------\n",
      " 0  A211109-A211125_1    0     1  DT    0.686    0.587   0.585  0.587  0.555  0.672      0    1.943     0.192          0\n",
      " 1  A211109-A211125_1    1     2  DT    0.685    0.587   0.575  0.587  0.544  0.672      0    1.855     0.184          0\n",
      " 2  A211109-A211125_1    2     3  DT    0.686    0.587   0.571  0.587  0.545  0.672      0    1.896     0.171          0\n",
      " 3  A211109-A211125_1    3     4  DT    0.671    0.565   0.566  0.565  0.533  0.656      0    1.771     0.176          0\n",
      " 4  A211109-A211125_1    4     5  DT    0.686    0.587   0.571  0.587  0.545  0.672      0    1.924     0.198          0\n",
      "\n"
     ]
    },
    {
     "name": "stderr",
     "output_type": "stream",
     "text": [
      "\r",
      " 45%|█████████████████████████████████████▎                                             | 9/20 [07:00<08:16, 45.16s/it]"
     ]
    },
    {
     "name": "stdout",
     "output_type": "stream",
     "text": [
      "    Dataset              T    CV  ML      Acc    b_Acc    Prec    Rec     F1    kap    ROC    tra-T    test-T    Al-Time\n",
      "--  -----------------  ---  ----  ----  -----  -------  ------  -----  -----  -----  -----  -------  --------  ---------\n",
      " 0  A211109-A211206_1    0     1  DT    0.737    0.588   0.59   0.588  0.565  0.722      0    1.799     0.19           0\n",
      " 1  A211109-A211206_1    1     2  DT    0.744    0.602   0.585  0.602  0.569  0.729      0    1.875     0.206          0\n",
      " 2  A211109-A211206_1    2     3  DT    0.737    0.588   0.6    0.588  0.573  0.722      0    1.858     0.199          0\n",
      " 3  A211109-A211206_1    3     4  DT    0.744    0.602   0.585  0.602  0.569  0.729      0    1.875     0.198          0\n",
      " 4  A211109-A211206_1    4     5  DT    0.737    0.588   0.59   0.588  0.564  0.722      0    1.873     0.2            0\n",
      "\n"
     ]
    },
    {
     "name": "stderr",
     "output_type": "stream",
     "text": [
      "\r",
      " 50%|█████████████████████████████████████████                                         | 10/20 [07:45<07:31, 45.12s/it]"
     ]
    },
    {
     "name": "stdout",
     "output_type": "stream",
     "text": [
      "    Dataset              T    CV  ML      Acc    b_Acc    Prec    Rec     F1    kap    ROC    tra-T    test-T    Al-Time\n",
      "--  -----------------  ---  ----  ----  -----  -------  ------  -----  -----  -----  -----  -------  --------  ---------\n",
      " 0  A211109-A211208_1    0     1  DT    0.787    0.586   0.588  0.586  0.56   0.769      0    1.99      0.182          0\n",
      " 1  A211109-A211208_1    1     2  DT    0.788    0.586   0.598  0.586  0.568  0.77       0    1.845     0.18           0\n",
      " 2  A211109-A211208_1    2     3  DT    0.788    0.586   0.598  0.586  0.568  0.77       0    1.916     0.183          0\n",
      " 3  A211109-A211208_1    3     4  DT    0.788    0.586   0.598  0.586  0.568  0.77       0    1.899     0.172          0\n",
      " 4  A211109-A211208_1    4     5  DT    0.788    0.586   0.598  0.586  0.568  0.77       0    1.855     0.19           0\n",
      "\n"
     ]
    },
    {
     "name": "stderr",
     "output_type": "stream",
     "text": [
      "\r",
      " 55%|█████████████████████████████████████████████                                     | 11/20 [08:28<06:39, 44.37s/it]"
     ]
    },
    {
     "name": "stdout",
     "output_type": "stream",
     "text": [
      "    Dataset              T    CV  ML      Acc    b_Acc    Prec    Rec     F1    kap    ROC    tra-T    test-T    Al-Time\n",
      "--  -----------------  ---  ----  ----  -----  -------  ------  -----  -----  -----  -----  -------  --------  ---------\n",
      " 0  A211109-A211223_1    0     1  DT    0.623     0.59   0.581   0.59  0.55   0.609      0    2.09      0.148          0\n",
      " 1  A211109-A211223_1    1     2  DT    0.623     0.59   0.575   0.59  0.545  0.609      0    2.198     0.155          0\n",
      " 2  A211109-A211223_1    2     3  DT    0.623     0.59   0.582   0.59  0.55   0.609      0    1.779     0.149          0\n",
      " 3  A211109-A211223_1    3     4  DT    0.623     0.59   0.575   0.59  0.545  0.609      0    1.825     0.158          0\n",
      " 4  A211109-A211223_1    4     5  DT    0.623     0.59   0.582   0.59  0.55   0.609      0    1.779     0.145          0\n",
      "\n"
     ]
    },
    {
     "name": "stderr",
     "output_type": "stream",
     "text": [
      "\r",
      " 60%|█████████████████████████████████████████████████▏                                | 12/20 [09:09<05:47, 43.43s/it]"
     ]
    },
    {
     "name": "stdout",
     "output_type": "stream",
     "text": [
      "    Dataset              T    CV  ML      Acc    b_Acc    Prec    Rec     F1    kap    ROC    tra-T    test-T    Al-Time\n",
      "--  -----------------  ---  ----  ----  -----  -------  ------  -----  -----  -----  -----  -------  --------  ---------\n",
      " 0  A211109-A211225_1    0     1  DT    0.647    0.583   0.577  0.583  0.544  0.633      0    1.863     0.164          0\n",
      " 1  A211109-A211225_1    1     2  DT    0.646    0.583   0.582  0.583  0.548  0.632      0    1.825     0.189          0\n",
      " 2  A211109-A211225_1    2     3  DT    0.646    0.583   0.577  0.583  0.544  0.632      0    1.972     0.169          0\n",
      " 3  A211109-A211225_1    3     4  DT    0.631    0.561   0.555  0.561  0.527  0.617      0    1.931     0.172          0\n",
      " 4  A211109-A211225_1    4     5  DT    0.646    0.583   0.582  0.583  0.548  0.633      0    1.814     0.17           0\n",
      "\n"
     ]
    },
    {
     "name": "stderr",
     "output_type": "stream",
     "text": [
      "\r",
      " 65%|█████████████████████████████████████████████████████▎                            | 13/20 [09:51<05:00, 42.88s/it]"
     ]
    },
    {
     "name": "stdout",
     "output_type": "stream",
     "text": [
      "    Dataset              T    CV  ML      Acc    b_Acc    Prec    Rec     F1    kap    ROC    tra-T    test-T    Al-Time\n",
      "--  -----------------  ---  ----  ----  -----  -------  ------  -----  -----  -----  -----  -------  --------  ---------\n",
      " 0  A211109-A211228_1    0     1  DT    0.607    0.557   0.55   0.557  0.518  0.591      0    1.856     0.182          0\n",
      " 1  A211109-A211228_1    1     2  DT    0.607    0.557   0.551  0.557  0.522  0.591      0    1.856     0.177          0\n",
      " 2  A211109-A211228_1    2     3  DT    0.607    0.557   0.548  0.557  0.521  0.591      0    1.922     0.201          0\n",
      " 3  A211109-A211228_1    3     4  DT    0.607    0.557   0.55   0.557  0.518  0.591      0    1.957     0.192          0\n",
      " 4  A211109-A211228_1    4     5  DT    0.607    0.557   0.551  0.557  0.522  0.591      0    1.756     0.177          0\n",
      "\n"
     ]
    },
    {
     "name": "stderr",
     "output_type": "stream",
     "text": [
      "\r",
      " 70%|█████████████████████████████████████████████████████████▍                        | 14/20 [10:34<04:16, 42.80s/it]"
     ]
    },
    {
     "name": "stdout",
     "output_type": "stream",
     "text": [
      "    Dataset              T    CV  ML      Acc    b_Acc    Prec    Rec     F1    kap    ROC    tra-T    test-T    Al-Time\n",
      "--  -----------------  ---  ----  ----  -----  -------  ------  -----  -----  -----  -----  -------  --------  ---------\n",
      " 0  A211109-I211108_1    0     1  DT    0.867    0.846   0.835  0.846  0.831  0.861      0    1.874     0.2            0\n",
      " 1  A211109-I211108_1    1     2  DT    0.867    0.846   0.835  0.846  0.83   0.861      0    1.918     0.238          0\n",
      " 2  A211109-I211108_1    2     3  DT    0.867    0.846   0.835  0.846  0.83   0.861      0    1.856     0.216          0\n",
      " 3  A211109-I211108_1    3     4  DT    0.867    0.846   0.835  0.846  0.83   0.861      0    1.874     0.21           0\n",
      " 4  A211109-I211108_1    4     5  DT    0.867    0.846   0.835  0.846  0.831  0.861      0    1.795     0.212          0\n",
      "\n"
     ]
    },
    {
     "name": "stderr",
     "output_type": "stream",
     "text": [
      "\r",
      " 75%|█████████████████████████████████████████████████████████████▌                    | 15/20 [11:19<03:37, 43.50s/it]"
     ]
    },
    {
     "name": "stdout",
     "output_type": "stream",
     "text": [
      "    Dataset              T    CV  ML      Acc    b_Acc    Prec    Rec     F1    kap    ROC    tra-T    test-T    Al-Time\n",
      "--  -----------------  ---  ----  ----  -----  -------  ------  -----  -----  -----  -----  -------  --------  ---------\n",
      " 0  A211109-I211112_1    0     1  DT    0.598    0.553   0.539  0.553  0.503  0.58       0    1.945     0.224          0\n",
      " 1  A211109-I211112_1    1     2  DT    0.598    0.553   0.53   0.553  0.494  0.58       0    1.856     0.237          0\n",
      " 2  A211109-I211112_1    2     3  DT    0.598    0.553   0.539  0.553  0.503  0.58       0    1.864     0.228          0\n",
      " 3  A211109-I211112_1    3     4  DT    0.598    0.553   0.529  0.553  0.493  0.58       0    1.858     0.225          0\n",
      " 4  A211109-I211112_1    4     5  DT    0.582    0.531   0.503  0.531  0.466  0.563      0    1.952     0.233          0\n",
      "\n"
     ]
    },
    {
     "name": "stderr",
     "output_type": "stream",
     "text": [
      "\r",
      " 80%|█████████████████████████████████████████████████████████████████▌                | 16/20 [12:07<02:59, 44.83s/it]"
     ]
    },
    {
     "name": "stdout",
     "output_type": "stream",
     "text": [
      "    Dataset              T    CV  ML      Acc    b_Acc    Prec    Rec     F1    kap    ROC    tra-T    test-T    Al-Time\n",
      "--  -----------------  ---  ----  ----  -----  -------  ------  -----  -----  -----  -----  -------  --------  ---------\n",
      " 0  A211109-I211115_1    0     1  DT    0.581    0.547   0.523  0.547  0.491  0.566      0    1.902     0.212          0\n",
      " 1  A211109-I211115_1    1     2  DT    0.599    0.569   0.56   0.569  0.527  0.584      0    1.872     0.226          0\n",
      " 2  A211109-I211115_1    2     3  DT    0.599    0.569   0.552  0.569  0.52   0.584      0    1.888     0.206          0\n",
      " 3  A211109-I211115_1    3     4  DT    0.599    0.569   0.56   0.569  0.527  0.584      0    1.821     0.245          0\n",
      " 4  A211109-I211115_1    4     5  DT    0.583    0.547   0.538  0.547  0.511  0.567      0    1.908     0.214          0\n",
      "\n"
     ]
    },
    {
     "name": "stderr",
     "output_type": "stream",
     "text": [
      "\r",
      " 85%|█████████████████████████████████████████████████████████████████████▋            | 17/20 [12:53<02:16, 45.39s/it]"
     ]
    },
    {
     "name": "stdout",
     "output_type": "stream",
     "text": [
      "    Dataset              T    CV  ML      Acc    b_Acc    Prec    Rec     F1    kap    ROC    tra-T    test-T    Al-Time\n",
      "--  -----------------  ---  ----  ----  -----  -------  ------  -----  -----  -----  -----  -------  --------  ---------\n",
      " 0  A211109-I211118_1    0     1  DT    0.688    0.598   0.609  0.598  0.561  0.674      0    1.753     0.21           0\n",
      " 1  A211109-I211118_1    1     2  DT    0.688    0.598   0.616  0.598  0.562  0.674      0    1.765     0.209          0\n",
      " 2  A211109-I211118_1    2     3  DT    0.688    0.598   0.602  0.598  0.554  0.674      0    1.864     0.209          0\n",
      " 3  A211109-I211118_1    3     4  DT    0.67     0.577   0.59   0.577  0.539  0.656      0    1.922     0.207          0\n",
      " 4  A211109-I211118_1    4     5  DT    0.688    0.598   0.601  0.598  0.553  0.674      0    1.845     0.188          0\n",
      "\n"
     ]
    },
    {
     "name": "stderr",
     "output_type": "stream",
     "text": [
      "\r",
      " 90%|█████████████████████████████████████████████████████████████████████████▊        | 18/20 [13:39<01:30, 45.46s/it]"
     ]
    },
    {
     "name": "stdout",
     "output_type": "stream",
     "text": [
      "    Dataset              T    CV  ML      Acc    b_Acc    Prec    Rec     F1    kap    ROC    tra-T    test-T    Al-Time\n",
      "--  -----------------  ---  ----  ----  -----  -------  ------  -----  -----  -----  -----  -------  --------  ---------\n",
      " 0  A211109-I211119_1    0     1  DT    0.67     0.585   0.579  0.585  0.549  0.655      0    1.871     0.211          0\n",
      " 1  A211109-I211119_1    1     2  DT    0.686    0.607   0.613  0.607  0.575  0.672      0    1.812     0.2            0\n",
      " 2  A211109-I211119_1    2     3  DT    0.67     0.586   0.581  0.586  0.55   0.655      0    1.852     0.243          0\n",
      " 3  A211109-I211119_1    3     4  DT    0.686    0.607   0.614  0.607  0.576  0.672      0    1.9       0.214          0\n",
      " 4  A211109-I211119_1    4     5  DT    0.668    0.586   0.573  0.586  0.531  0.653      0    1.79      0.208          0\n",
      "\n"
     ]
    },
    {
     "name": "stderr",
     "output_type": "stream",
     "text": [
      "\r",
      " 95%|█████████████████████████████████████████████████████████████████████████████▉    | 19/20 [14:24<00:45, 45.29s/it]"
     ]
    },
    {
     "name": "stdout",
     "output_type": "stream",
     "text": [
      "    Dataset              T    CV  ML      Acc    b_Acc    Prec    Rec     F1    kap    ROC    tra-T    test-T    Al-Time\n",
      "--  -----------------  ---  ----  ----  -----  -------  ------  -----  -----  -----  -----  -------  --------  ---------\n",
      " 0  A211109-I211122_1    0     1  DT    0.677    0.578   0.59   0.578  0.55   0.663      0    1.81      0.207          0\n",
      " 1  A211109-I211122_1    1     2  DT    0.693    0.599   0.605  0.599  0.559  0.68       0    1.965     0.219          0\n",
      " 2  A211109-I211122_1    2     3  DT    0.693    0.599   0.606  0.599  0.559  0.68       0    1.855     0.227          0\n",
      " 3  A211109-I211122_1    3     4  DT    0.693    0.599   0.605  0.599  0.559  0.68       0    1.878     0.205          0\n",
      " 4  A211109-I211122_1    4     5  DT    0.693    0.599   0.615  0.599  0.567  0.68       0    1.81      0.209          0\n",
      "\n"
     ]
    },
    {
     "name": "stderr",
     "output_type": "stream",
     "text": [
      "100%|██████████████████████████████████████████████████████████████████████████████████| 20/20 [15:09<00:00, 45.50s/it]\n",
      "  0%|                                                                                           | 0/20 [00:00<?, ?it/s]"
     ]
    },
    {
     "name": "stdout",
     "output_type": "stream",
     "text": [
      "    Dataset              T    CV  ML      Acc    b_Acc    Prec    Rec     F1    kap    ROC    tra-T    test-T    Al-Time\n",
      "--  -----------------  ---  ----  ----  -----  -------  ------  -----  -----  -----  -----  -------  --------  ---------\n",
      " 0  A211115-A211108_1    0     1  DT    0.637    0.569   0.563  0.569  0.534  0.619      0    2.272     0.231          0\n",
      " 1  A211115-A211108_1    1     2  DT    0.638    0.57    0.563  0.57   0.534  0.62       0    2.301     0.242          0\n",
      " 2  A211115-A211108_1    2     3  DT    0.638    0.57    0.563  0.57   0.534  0.619      0    2.129     0.225          0\n",
      " 3  A211115-A211108_1    3     4  DT    0.638    0.57    0.564  0.57   0.535  0.62       0    2.033     0.223          0\n",
      " 4  A211115-A211108_1    4     5  DT    0.637    0.569   0.563  0.569  0.534  0.619      0    2.005     0.214          0\n",
      "\n"
     ]
    },
    {
     "name": "stderr",
     "output_type": "stream",
     "text": [
      "\r",
      "  5%|████▏                                                                              | 1/20 [00:51<16:26, 51.90s/it]"
     ]
    },
    {
     "name": "stdout",
     "output_type": "stream",
     "text": [
      "    Dataset              T    CV  ML      Acc    b_Acc    Prec    Rec     F1    kap    ROC    tra-T    test-T    Al-Time\n",
      "--  -----------------  ---  ----  ----  -----  -------  ------  -----  -----  -----  -----  -------  --------  ---------\n",
      " 0  A211115-A211109_1    0     1  DT    0.665     0.61   0.585   0.61  0.566   0.65      0    2.298     0.192          0\n",
      " 1  A211115-A211109_1    1     2  DT    0.665     0.61   0.585   0.61  0.566   0.65      0    2.285     0.209          0\n",
      " 2  A211115-A211109_1    2     3  DT    0.665     0.61   0.585   0.61  0.566   0.65      0    2.245     0.205          0\n",
      " 3  A211115-A211109_1    3     4  DT    0.665     0.61   0.585   0.61  0.566   0.65      0    2.27      0.198          0\n",
      " 4  A211115-A211109_1    4     5  DT    0.665     0.61   0.583   0.61  0.566   0.65      0    2.245     0.193          0\n",
      "\n"
     ]
    },
    {
     "name": "stderr",
     "output_type": "stream",
     "text": [
      "\r",
      " 10%|████████▎                                                                          | 2/20 [01:40<15:01, 50.06s/it]"
     ]
    },
    {
     "name": "stdout",
     "output_type": "stream",
     "text": [
      "    Dataset              T    CV  ML      Acc    b_Acc    Prec    Rec     F1    kap    ROC    tra-T    test-T    Al-Time\n",
      "--  -----------------  ---  ----  ----  -----  -------  ------  -----  -----  -----  -----  -------  --------  ---------\n",
      " 0  A211115-A211115_1    0     1  DT    0.946    0.913   0.918  0.913  0.912  0.941      0    2.288     0.228          0\n",
      " 1  A211115-A211115_1    1     2  DT    0.946    0.913   0.918  0.913  0.912  0.941      0    2.228     0.234          0\n",
      " 2  A211115-A211115_1    2     3  DT    0.946    0.913   0.918  0.913  0.912  0.941      0    2.22      0.229          0\n",
      " 3  A211115-A211115_1    3     4  DT    0.946    0.913   0.918  0.913  0.912  0.941      0    2.221     0.237          0\n",
      " 4  A211115-A211115_1    4     5  DT    0.946    0.913   0.918  0.913  0.912  0.941      0    2.239     0.235          0\n",
      "\n"
     ]
    },
    {
     "name": "stderr",
     "output_type": "stream",
     "text": [
      "\r",
      " 15%|████████████▍                                                                      | 3/20 [02:33<14:36, 51.55s/it]"
     ]
    },
    {
     "name": "stdout",
     "output_type": "stream",
     "text": [
      "    Dataset              T    CV  ML      Acc    b_Acc    Prec    Rec     F1    kap    ROC    tra-T    test-T    Al-Time\n",
      "--  -----------------  ---  ----  ----  -----  -------  ------  -----  -----  -----  -----  -------  --------  ---------\n",
      " 0  A211115-A211116_1    0     1  DT    0.913    0.853   0.872  0.853  0.855  0.905      0    2.337     0.225          0\n",
      " 1  A211115-A211116_1    1     2  DT    0.912    0.851   0.869  0.851  0.852  0.904      0    2.316     0.222          0\n",
      " 2  A211115-A211116_1    2     3  DT    0.912    0.852   0.869  0.852  0.853  0.904      0    2.306     0.274          0\n",
      " 3  A211115-A211116_1    3     4  DT    0.912    0.851   0.869  0.851  0.852  0.904      0    2.235     0.216          0\n",
      " 4  A211115-A211116_1    4     5  DT    0.913    0.854   0.872  0.854  0.856  0.906      0    2.27      0.221          0\n",
      "\n"
     ]
    },
    {
     "name": "stderr",
     "output_type": "stream",
     "text": [
      "\r",
      " 20%|████████████████▌                                                                  | 4/20 [03:26<13:48, 51.80s/it]"
     ]
    },
    {
     "name": "stdout",
     "output_type": "stream",
     "text": [
      "    Dataset              T    CV  ML      Acc    b_Acc    Prec    Rec     F1    kap    ROC    tra-T    test-T    Al-Time\n",
      "--  -----------------  ---  ----  ----  -----  -------  ------  -----  -----  -----  -----  -------  --------  ---------\n",
      " 0  A211115-A211117_1    0     1  DT    0.753    0.821   0.831  0.821  0.806  0.741      0    2.255     0.21           0\n",
      " 1  A211115-A211117_1    1     2  DT    0.749    0.81    0.825  0.81   0.795  0.737      0    2.297     0.203          0\n",
      " 2  A211115-A211117_1    2     3  DT    0.752    0.82    0.83   0.82   0.805  0.741      0    2.227     0.217          0\n",
      " 3  A211115-A211117_1    3     4  DT    0.752    0.818   0.831  0.818  0.804  0.74       0    2.143     0.207          0\n",
      " 4  A211115-A211117_1    4     5  DT    0.751    0.817   0.83   0.817  0.803  0.74       0    2.157     0.204          0\n",
      "\n"
     ]
    },
    {
     "name": "stderr",
     "output_type": "stream",
     "text": [
      "\r",
      " 25%|████████████████████▊                                                              | 5/20 [04:15<12:43, 50.93s/it]"
     ]
    },
    {
     "name": "stdout",
     "output_type": "stream",
     "text": [
      "    Dataset              T    CV  ML      Acc    b_Acc    Prec    Rec     F1    kap    ROC    tra-T    test-T    Al-Time\n",
      "--  -----------------  ---  ----  ----  -----  -------  ------  -----  -----  -----  -----  -------  --------  ---------\n",
      " 0  A211115-A211118_1    0     1  DT    0.768    0.776   0.79   0.776  0.755  0.76       0    2.212     0.163          0\n",
      " 1  A211115-A211118_1    1     2  DT    0.77     0.78    0.794  0.78   0.762  0.761      0    2.241     0.188          0\n",
      " 2  A211115-A211118_1    2     3  DT    0.769    0.779   0.793  0.779  0.761  0.761      0    2.276     0.161          0\n",
      " 3  A211115-A211118_1    3     4  DT    0.769    0.779   0.793  0.779  0.761  0.761      0    2.195     0.16           0\n",
      " 4  A211115-A211118_1    4     5  DT    0.769    0.779   0.793  0.779  0.761  0.761      0    2.317     0.172          0\n",
      "\n"
     ]
    },
    {
     "name": "stderr",
     "output_type": "stream",
     "text": [
      "\r",
      " 30%|████████████████████████▉                                                          | 6/20 [04:58<11:14, 48.14s/it]"
     ]
    },
    {
     "name": "stdout",
     "output_type": "stream",
     "text": [
      "    Dataset              T    CV  ML      Acc    b_Acc    Prec    Rec     F1    kap    ROC    tra-T    test-T    Al-Time\n",
      "--  -----------------  ---  ----  ----  -----  -------  ------  -----  -----  -----  -----  -------  --------  ---------\n",
      " 0  A211115-A211122_1    0     1  DT    0.724    0.817   0.808  0.817  0.794  0.714      0    2.274     0.218          0\n",
      " 1  A211115-A211122_1    1     2  DT    0.722    0.81    0.803  0.81   0.785  0.711      0    2.214     0.207          0\n",
      " 2  A211115-A211122_1    2     3  DT    0.725    0.82    0.809  0.82   0.796  0.715      0    2.275     0.2            0\n",
      " 3  A211115-A211122_1    3     4  DT    0.724    0.817   0.808  0.817  0.794  0.714      0    2.273     0.205          0\n",
      " 4  A211115-A211122_1    4     5  DT    0.724    0.817   0.808  0.817  0.794  0.714      0    2.316     0.205          0\n",
      "\n"
     ]
    },
    {
     "name": "stderr",
     "output_type": "stream",
     "text": [
      "\r",
      " 35%|█████████████████████████████                                                      | 7/20 [05:49<10:37, 49.01s/it]"
     ]
    },
    {
     "name": "stdout",
     "output_type": "stream",
     "text": [
      "    Dataset              T    CV  ML      Acc    b_Acc    Prec    Rec     F1    kap    ROC    tra-T    test-T    Al-Time\n",
      "--  -----------------  ---  ----  ----  -----  -------  ------  -----  -----  -----  -----  -------  --------  ---------\n",
      " 0  A211115-A211123_1    0     1  DT    0.739    0.814   0.802  0.814  0.788  0.728      0    2.292     0.207          0\n",
      " 1  A211115-A211123_1    1     2  DT    0.738    0.812   0.795  0.812  0.782  0.727      0    2.377     0.209          0\n",
      " 2  A211115-A211123_1    2     3  DT    0.737    0.81    0.797  0.81   0.781  0.726      0    2.355     0.21           0\n",
      " 3  A211115-A211123_1    3     4  DT    0.739    0.816   0.802  0.816  0.79   0.729      0    2.211     0.202          0\n",
      " 4  A211115-A211123_1    4     5  DT    0.737    0.81    0.798  0.81   0.781  0.727      0    2.309     0.212          0\n",
      "\n"
     ]
    },
    {
     "name": "stderr",
     "output_type": "stream",
     "text": [
      "\r",
      " 40%|█████████████████████████████████▏                                                 | 8/20 [06:39<09:55, 49.59s/it]"
     ]
    },
    {
     "name": "stdout",
     "output_type": "stream",
     "text": [
      "    Dataset              T    CV  ML      Acc    b_Acc    Prec    Rec     F1    kap    ROC    tra-T    test-T    Al-Time\n",
      "--  -----------------  ---  ----  ----  -----  -------  ------  -----  -----  -----  -----  -------  --------  ---------\n",
      " 0  A211115-A211125_1    0     1  DT    0.773    0.788   0.771  0.788  0.755  0.764      0    2.256     0.184          0\n",
      " 1  A211115-A211125_1    1     2  DT    0.772    0.787   0.769  0.787  0.752  0.763      0    2.258     0.191          0\n",
      " 2  A211115-A211125_1    2     3  DT    0.775    0.788   0.772  0.788  0.755  0.766      0    2.293     0.203          0\n",
      " 3  A211115-A211125_1    3     4  DT    0.772    0.787   0.768  0.787  0.752  0.763      0    2.215     0.186          0\n",
      " 4  A211115-A211125_1    4     5  DT    0.775    0.788   0.769  0.788  0.754  0.767      0    2.254     0.185          0\n",
      "\n"
     ]
    },
    {
     "name": "stderr",
     "output_type": "stream",
     "text": [
      "\r",
      " 45%|█████████████████████████████████████▎                                             | 9/20 [07:25<08:53, 48.47s/it]"
     ]
    },
    {
     "name": "stdout",
     "output_type": "stream",
     "text": [
      "    Dataset              T    CV  ML      Acc    b_Acc    Prec    Rec     F1    kap    ROC    tra-T    test-T    Al-Time\n",
      "--  -----------------  ---  ----  ----  -----  -------  ------  -----  -----  -----  -----  -------  --------  ---------\n",
      " 0  A211115-A211206_1    0     1  DT    0.581    0.553   0.576  0.553  0.525  0.568      0    2.274     0.192          0\n",
      " 1  A211115-A211206_1    1     2  DT    0.58     0.552   0.581  0.552  0.522  0.567      0    2.185     0.202          0\n",
      " 2  A211115-A211206_1    2     3  DT    0.581    0.552   0.573  0.552  0.523  0.567      0    2.388     0.196          0\n",
      " 3  A211115-A211206_1    3     4  DT    0.569    0.548   0.568  0.548  0.518  0.555      0    2.208     0.192          0\n",
      " 4  A211115-A211206_1    4     5  DT    0.581    0.552   0.583  0.552  0.523  0.567      0    2.339     0.204          0\n",
      "\n"
     ]
    },
    {
     "name": "stderr",
     "output_type": "stream",
     "text": [
      "\r",
      " 50%|█████████████████████████████████████████                                         | 10/20 [08:14<08:04, 48.50s/it]"
     ]
    },
    {
     "name": "stdout",
     "output_type": "stream",
     "text": [
      "    Dataset              T    CV  ML      Acc    b_Acc    Prec    Rec     F1    kap    ROC    tra-T    test-T    Al-Time\n",
      "--  -----------------  ---  ----  ----  -----  -------  ------  -----  -----  -----  -----  -------  --------  ---------\n",
      " 0  A211115-A211208_1    0     1  DT    0.616    0.561   0.568  0.561  0.523    0.6      0    2.284     0.179          0\n",
      " 1  A211115-A211208_1    1     2  DT    0.616    0.561   0.567  0.561  0.523    0.6      0    2.256     0.178          0\n",
      " 2  A211115-A211208_1    2     3  DT    0.616    0.561   0.567  0.561  0.522    0.6      0    2.247     0.178          0\n",
      " 3  A211115-A211208_1    3     4  DT    0.616    0.561   0.567  0.561  0.523    0.6      0    2.246     0.189          0\n",
      " 4  A211115-A211208_1    4     5  DT    0.616    0.561   0.568  0.561  0.523    0.6      0    2.352     0.19           0\n",
      "\n"
     ]
    },
    {
     "name": "stderr",
     "output_type": "stream",
     "text": [
      "\r",
      " 55%|█████████████████████████████████████████████                                     | 11/20 [08:59<07:07, 47.54s/it]"
     ]
    },
    {
     "name": "stdout",
     "output_type": "stream",
     "text": [
      "    Dataset              T    CV  ML      Acc    b_Acc    Prec    Rec    F1    kap    ROC    tra-T    test-T    Al-Time\n",
      "--  -----------------  ---  ----  ----  -----  -------  ------  -----  ----  -----  -----  -------  --------  ---------\n",
      " 0  A211115-A211223_1    0     1  DT    0.655    0.562   0.576  0.562  0.54  0.641      0    2.239     0.154          0\n",
      " 1  A211115-A211223_1    1     2  DT    0.655    0.562   0.576  0.562  0.54  0.641      0    2.252     0.152          0\n",
      " 2  A211115-A211223_1    2     3  DT    0.655    0.562   0.576  0.562  0.54  0.641      0    2.262     0.155          0\n",
      " 3  A211115-A211223_1    3     4  DT    0.655    0.562   0.576  0.562  0.54  0.641      0    2.358     0.155          0\n",
      " 4  A211115-A211223_1    4     5  DT    0.655    0.562   0.576  0.562  0.54  0.641      0    2.174     0.151          0\n",
      "\n"
     ]
    },
    {
     "name": "stderr",
     "output_type": "stream",
     "text": [
      "\r",
      " 60%|█████████████████████████████████████████████████▏                                | 12/20 [09:42<06:07, 45.97s/it]"
     ]
    },
    {
     "name": "stdout",
     "output_type": "stream",
     "text": [
      "    Dataset              T    CV  ML      Acc    b_Acc    Prec    Rec     F1    kap    ROC    tra-T    test-T    Al-Time\n",
      "--  -----------------  ---  ----  ----  -----  -------  ------  -----  -----  -----  -----  -------  --------  ---------\n",
      " 0  A211115-A211225_1    0     1  DT     0.67    0.596   0.588  0.596  0.566  0.657      0    2.226     0.172          0\n",
      " 1  A211115-A211225_1    1     2  DT     0.67    0.596   0.59   0.596  0.567  0.657      0    2.219     0.183          0\n",
      " 2  A211115-A211225_1    2     3  DT     0.67    0.596   0.587  0.596  0.565  0.657      0    2.347     0.185          0\n",
      " 3  A211115-A211225_1    3     4  DT     0.67    0.596   0.587  0.596  0.565  0.657      0    2.214     0.169          0\n",
      " 4  A211115-A211225_1    4     5  DT     0.67    0.596   0.59   0.596  0.567  0.657      0    2.309     0.168          0\n",
      "\n"
     ]
    },
    {
     "name": "stderr",
     "output_type": "stream",
     "text": [
      "\r",
      " 65%|█████████████████████████████████████████████████████▎                            | 13/20 [10:27<05:19, 45.61s/it]"
     ]
    },
    {
     "name": "stdout",
     "output_type": "stream",
     "text": [
      "    Dataset              T    CV  ML      Acc    b_Acc    Prec    Rec     F1    kap    ROC    tra-T    test-T    Al-Time\n",
      "--  -----------------  ---  ----  ----  -----  -------  ------  -----  -----  -----  -----  -------  --------  ---------\n",
      " 0  A211115-A211228_1    0     1  DT     0.54    0.524   0.479  0.524  0.45   0.524      0    2.208     0.194          0\n",
      " 1  A211115-A211228_1    1     2  DT     0.54    0.524   0.479  0.524  0.451  0.524      0    2.238     0.178          0\n",
      " 2  A211115-A211228_1    2     3  DT     0.54    0.524   0.479  0.524  0.451  0.524      0    2.262     0.179          0\n",
      " 3  A211115-A211228_1    3     4  DT     0.54    0.524   0.479  0.524  0.45   0.524      0    2.295     0.207          0\n",
      " 4  A211115-A211228_1    4     5  DT     0.54    0.524   0.479  0.524  0.45   0.524      0    2.323     0.182          0\n",
      "\n"
     ]
    },
    {
     "name": "stderr",
     "output_type": "stream",
     "text": [
      "\r",
      " 70%|█████████████████████████████████████████████████████████▍                        | 14/20 [11:12<04:34, 45.68s/it]"
     ]
    },
    {
     "name": "stdout",
     "output_type": "stream",
     "text": [
      "    Dataset              T    CV  ML      Acc    b_Acc    Prec    Rec     F1    kap    ROC    tra-T    test-T    Al-Time\n",
      "--  -----------------  ---  ----  ----  -----  -------  ------  -----  -----  -----  -----  -------  --------  ---------\n",
      " 0  A211115-I211108_1    0     1  DT    0.617    0.551    0.53  0.551  0.513  0.602      0    2.292     0.205          0\n",
      " 1  A211115-I211108_1    1     2  DT    0.617    0.551    0.53  0.551  0.513  0.602      0    2.296     0.208          0\n",
      " 2  A211115-I211108_1    2     3  DT    0.617    0.551    0.53  0.551  0.513  0.602      0    2.243     0.204          0\n",
      " 3  A211115-I211108_1    3     4  DT    0.617    0.551    0.53  0.551  0.513  0.602      0    2.286     0.21           0\n",
      " 4  A211115-I211108_1    4     5  DT    0.617    0.551    0.53  0.551  0.513  0.602      0    2.313     0.259          0\n",
      "\n"
     ]
    },
    {
     "name": "stderr",
     "output_type": "stream",
     "text": [
      "\r",
      " 75%|█████████████████████████████████████████████████████████████▌                    | 15/20 [12:01<03:53, 46.69s/it]"
     ]
    },
    {
     "name": "stdout",
     "output_type": "stream",
     "text": [
      "    Dataset              T    CV  ML      Acc    b_Acc    Prec    Rec     F1    kap    ROC    tra-T    test-T    Al-Time\n",
      "--  -----------------  ---  ----  ----  -----  -------  ------  -----  -----  -----  -----  -------  --------  ---------\n",
      " 0  A211115-I211112_1    0     1  DT    0.868    0.808   0.827  0.808  0.804  0.862      0    2.333     0.276          0\n",
      " 1  A211115-I211112_1    1     2  DT    0.869    0.808   0.828  0.808  0.805  0.863      0    2.261     0.239          0\n",
      " 2  A211115-I211112_1    2     3  DT    0.87     0.808   0.828  0.808  0.805  0.864      0    2.23      0.223          0\n",
      " 3  A211115-I211112_1    3     4  DT    0.869    0.808   0.828  0.808  0.805  0.863      0    2.25      0.224          0\n",
      " 4  A211115-I211112_1    4     5  DT    0.868    0.808   0.827  0.808  0.804  0.862      0    2.242     0.223          0\n",
      "\n"
     ]
    },
    {
     "name": "stderr",
     "output_type": "stream",
     "text": [
      "\r",
      " 80%|█████████████████████████████████████████████████████████████████▌                | 16/20 [12:53<03:13, 48.29s/it]"
     ]
    },
    {
     "name": "stdout",
     "output_type": "stream",
     "text": [
      "    Dataset              T    CV  ML      Acc    b_Acc    Prec    Rec     F1    kap    ROC    tra-T    test-T    Al-Time\n",
      "--  -----------------  ---  ----  ----  -----  -------  ------  -----  -----  -----  -----  -------  --------  ---------\n",
      " 0  A211115-I211115_1    0     1  DT    0.886    0.883   0.882  0.883  0.879  0.881      0    2.32      0.219          0\n",
      " 1  A211115-I211115_1    1     2  DT    0.886    0.883   0.882  0.883  0.879  0.881      0    2.413     0.224          0\n",
      " 2  A211115-I211115_1    2     3  DT    0.886    0.883   0.882  0.883  0.879  0.881      0    2.359     0.236          0\n",
      " 3  A211115-I211115_1    3     4  DT    0.886    0.883   0.882  0.883  0.879  0.881      0    2.374     0.22           0\n",
      " 4  A211115-I211115_1    4     5  DT    0.886    0.883   0.882  0.883  0.879  0.881      0    2.38      0.225          0\n",
      "\n"
     ]
    },
    {
     "name": "stderr",
     "output_type": "stream",
     "text": [
      "\r",
      " 85%|█████████████████████████████████████████████████████████████████████▋            | 17/20 [13:43<02:26, 48.67s/it]"
     ]
    },
    {
     "name": "stdout",
     "output_type": "stream",
     "text": [
      "    Dataset              T    CV  ML      Acc    b_Acc    Prec    Rec     F1    kap    ROC    tra-T    test-T    Al-Time\n",
      "--  -----------------  ---  ----  ----  -----  -------  ------  -----  -----  -----  -----  -------  --------  ---------\n",
      " 0  A211115-I211118_1    0     1  DT     0.77    0.788   0.791  0.788  0.767  0.762      0    2.354     0.238          0\n",
      " 1  A211115-I211118_1    1     2  DT     0.77    0.788   0.79   0.788  0.767  0.762      0    2.348     0.222          0\n",
      " 2  A211115-I211118_1    2     3  DT     0.77    0.789   0.79   0.789  0.768  0.762      0    2.351     0.217          0\n",
      " 3  A211115-I211118_1    3     4  DT     0.77    0.789   0.791  0.789  0.768  0.762      0    2.349     0.222          0\n",
      " 4  A211115-I211118_1    4     5  DT     0.77    0.789   0.791  0.789  0.768  0.762      0    2.323     0.219          0\n",
      "\n"
     ]
    },
    {
     "name": "stderr",
     "output_type": "stream",
     "text": [
      "\r",
      " 90%|█████████████████████████████████████████████████████████████████████████▊        | 18/20 [14:32<01:37, 48.87s/it]"
     ]
    },
    {
     "name": "stdout",
     "output_type": "stream",
     "text": [
      "    Dataset              T    CV  ML      Acc    b_Acc    Prec    Rec     F1    kap    ROC    tra-T    test-T    Al-Time\n",
      "--  -----------------  ---  ----  ----  -----  -------  ------  -----  -----  -----  -----  -------  --------  ---------\n",
      " 0  A211115-I211119_1    0     1  DT    0.774    0.823   0.809  0.823  0.8    0.765      0    2.31      0.231          0\n",
      " 1  A211115-I211119_1    1     2  DT    0.774    0.823   0.809  0.823  0.8    0.765      0    2.294     0.214          0\n",
      " 2  A211115-I211119_1    2     3  DT    0.773    0.82    0.808  0.82   0.798  0.765      0    2.337     0.216          0\n",
      " 3  A211115-I211119_1    3     4  DT    0.774    0.823   0.809  0.823  0.8    0.765      0    2.304     0.215          0\n",
      " 4  A211115-I211119_1    4     5  DT    0.774    0.823   0.809  0.823  0.8    0.765      0    2.398     0.219          0\n",
      "\n"
     ]
    },
    {
     "name": "stderr",
     "output_type": "stream",
     "text": [
      "\r",
      " 95%|█████████████████████████████████████████████████████████████████████████████▉    | 19/20 [15:21<00:48, 48.89s/it]"
     ]
    },
    {
     "name": "stdout",
     "output_type": "stream",
     "text": [
      "    Dataset              T    CV  ML      Acc    b_Acc    Prec    Rec     F1    kap    ROC    tra-T    test-T    Al-Time\n",
      "--  -----------------  ---  ----  ----  -----  -------  ------  -----  -----  -----  -----  -------  --------  ---------\n",
      " 0  A211115-I211122_1    0     1  DT    0.77     0.778   0.781  0.778  0.756  0.762      0    2.295     0.276          0\n",
      " 1  A211115-I211122_1    1     2  DT    0.771    0.78    0.781  0.78   0.758  0.762      0    2.276     0.218          0\n",
      " 2  A211115-I211122_1    2     3  DT    0.77     0.77    0.778  0.77   0.749  0.761      0    2.286     0.216          0\n",
      " 3  A211115-I211122_1    3     4  DT    0.77     0.773   0.778  0.773  0.752  0.761      0    2.413     0.219          0\n",
      " 4  A211115-I211122_1    4     5  DT    0.77     0.773   0.778  0.773  0.752  0.761      0    2.322     0.216          0\n",
      "\n"
     ]
    },
    {
     "name": "stderr",
     "output_type": "stream",
     "text": [
      "100%|██████████████████████████████████████████████████████████████████████████████████| 20/20 [16:11<00:00, 48.57s/it]\n",
      "  0%|                                                                                           | 0/20 [00:00<?, ?it/s]"
     ]
    },
    {
     "name": "stdout",
     "output_type": "stream",
     "text": [
      "    Dataset              T    CV  ML      Acc    b_Acc    Prec    Rec     F1    kap    ROC    tra-T    test-T    Al-Time\n",
      "--  -----------------  ---  ----  ----  -----  -------  ------  -----  -----  -----  -----  -------  --------  ---------\n",
      " 0  A211116-A211108_1    0     1  DT    0.629    0.554   0.522  0.554  0.483   0.61      0    2.266     0.314          0\n",
      " 1  A211116-A211108_1    1     2  DT    0.629    0.554   0.523  0.554  0.487   0.61      0    2.439     0.255          0\n",
      " 2  A211116-A211108_1    2     3  DT    0.629    0.554   0.523  0.554  0.487   0.61      0    2.26      0.235          0\n",
      " 3  A211116-A211108_1    3     4  DT    0.629    0.554   0.526  0.554  0.488   0.61      0    2.139     0.274          0\n",
      " 4  A211116-A211108_1    4     5  DT    0.629    0.554   0.524  0.554  0.488   0.61      0    2.084     0.227          0\n",
      "\n"
     ]
    },
    {
     "name": "stderr",
     "output_type": "stream",
     "text": [
      "\r",
      "  5%|████▏                                                                              | 1/20 [00:52<16:46, 52.95s/it]"
     ]
    },
    {
     "name": "stdout",
     "output_type": "stream",
     "text": [
      "    Dataset              T    CV  ML      Acc    b_Acc    Prec    Rec     F1    kap    ROC    tra-T    test-T    Al-Time\n",
      "--  -----------------  ---  ----  ----  -----  -------  ------  -----  -----  -----  -----  -------  --------  ---------\n",
      " 0  A211116-A211109_1    0     1  DT    0.646     0.56   0.537   0.56  0.499   0.63      0    2.163     0.212          0\n",
      " 1  A211116-A211109_1    1     2  DT    0.646     0.56   0.536   0.56  0.498   0.63      0    1.978     0.214          0\n",
      " 2  A211116-A211109_1    2     3  DT    0.646     0.56   0.536   0.56  0.499   0.63      0    2.008     0.21           0\n",
      " 3  A211116-A211109_1    3     4  DT    0.646     0.56   0.537   0.56  0.499   0.63      0    1.933     0.204          0\n",
      " 4  A211116-A211109_1    4     5  DT    0.646     0.56   0.536   0.56  0.498   0.63      0    1.991     0.213          0\n",
      "\n"
     ]
    },
    {
     "name": "stderr",
     "output_type": "stream",
     "text": [
      "\r",
      " 10%|████████▎                                                                          | 2/20 [01:38<14:38, 48.80s/it]"
     ]
    },
    {
     "name": "stdout",
     "output_type": "stream",
     "text": [
      "    Dataset              T    CV  ML      Acc    b_Acc    Prec    Rec     F1    kap    ROC    tra-T    test-T    Al-Time\n",
      "--  -----------------  ---  ----  ----  -----  -------  ------  -----  -----  -----  -----  -------  --------  ---------\n",
      " 0  A211116-A211115_1    0     1  DT    0.911    0.851   0.857  0.851  0.849  0.903      0    2.056     0.266          0\n",
      " 1  A211116-A211115_1    1     2  DT    0.911    0.853   0.857  0.853  0.85   0.904      0    1.929     0.264          0\n",
      " 2  A211116-A211115_1    2     3  DT    0.911    0.85    0.856  0.85   0.848  0.903      0    1.974     0.236          0\n",
      " 3  A211116-A211115_1    3     4  DT    0.911    0.853   0.857  0.853  0.85   0.904      0    1.96      0.221          0\n",
      " 4  A211116-A211115_1    4     5  DT    0.911    0.85    0.856  0.85   0.848  0.903      0    1.965     0.24           0\n",
      "\n"
     ]
    },
    {
     "name": "stderr",
     "output_type": "stream",
     "text": [
      "\r",
      " 15%|████████████▍                                                                      | 3/20 [02:30<14:14, 50.28s/it]"
     ]
    },
    {
     "name": "stdout",
     "output_type": "stream",
     "text": [
      "    Dataset              T    CV  ML      Acc    b_Acc    Prec    Rec     F1    kap    ROC    tra-T    test-T    Al-Time\n",
      "--  -----------------  ---  ----  ----  -----  -------  ------  -----  -----  -----  -----  -------  --------  ---------\n",
      " 0  A211116-A211116_1    0     1  DT    0.949     0.92   0.922   0.92  0.918  0.945      0    1.874     0.222          0\n",
      " 1  A211116-A211116_1    1     2  DT    0.949     0.92   0.922   0.92  0.918  0.945      0    2.05      0.257          0\n",
      " 2  A211116-A211116_1    2     3  DT    0.949     0.92   0.922   0.92  0.918  0.945      0    1.934     0.211          0\n",
      " 3  A211116-A211116_1    3     4  DT    0.949     0.92   0.922   0.92  0.918  0.945      0    1.999     0.265          0\n",
      " 4  A211116-A211116_1    4     5  DT    0.949     0.92   0.922   0.92  0.918  0.945      0    1.971     0.214          0\n",
      "\n"
     ]
    },
    {
     "name": "stderr",
     "output_type": "stream",
     "text": [
      "\r",
      " 20%|████████████████▌                                                                  | 4/20 [03:20<13:18, 49.90s/it]"
     ]
    },
    {
     "name": "stdout",
     "output_type": "stream",
     "text": [
      "    Dataset              T    CV  ML      Acc    b_Acc    Prec    Rec     F1    kap    ROC    tra-T    test-T    Al-Time\n",
      "--  -----------------  ---  ----  ----  -----  -------  ------  -----  -----  -----  -----  -------  --------  ---------\n",
      " 0  A211116-A211117_1    0     1  DT    0.758    0.816   0.832  0.816  0.797  0.747      0    2.045     0.253          0\n",
      " 1  A211116-A211117_1    1     2  DT    0.758    0.815   0.832  0.815  0.796  0.747      0    1.975     0.214          0\n",
      " 2  A211116-A211117_1    2     3  DT    0.758    0.816   0.832  0.816  0.797  0.747      0    2.033     0.226          0\n",
      " 3  A211116-A211117_1    3     4  DT    0.759    0.817   0.833  0.817  0.798  0.748      0    1.925     0.203          0\n",
      " 4  A211116-A211117_1    4     5  DT    0.759    0.817   0.833  0.817  0.798  0.748      0    1.86      0.207          0\n",
      "\n"
     ]
    },
    {
     "name": "stderr",
     "output_type": "stream",
     "text": [
      "\r",
      " 25%|████████████████████▊                                                              | 5/20 [04:07<12:13, 48.91s/it]"
     ]
    },
    {
     "name": "stdout",
     "output_type": "stream",
     "text": [
      "    Dataset              T    CV  ML      Acc    b_Acc    Prec    Rec     F1    kap    ROC    tra-T    test-T    Al-Time\n",
      "--  -----------------  ---  ----  ----  -----  -------  ------  -----  -----  -----  -----  -------  --------  ---------\n",
      " 0  A211116-A211118_1    0     1  DT    0.776    0.797   0.792  0.797  0.764  0.768      0    1.894     0.164          0\n",
      " 1  A211116-A211118_1    1     2  DT    0.776    0.797   0.792  0.797  0.764  0.767      0    2.016     0.171          0\n",
      " 2  A211116-A211118_1    2     3  DT    0.776    0.797   0.792  0.797  0.763  0.768      0    1.899     0.159          0\n",
      " 3  A211116-A211118_1    3     4  DT    0.776    0.797   0.792  0.797  0.763  0.768      0    1.921     0.163          0\n",
      " 4  A211116-A211118_1    4     5  DT    0.776    0.797   0.793  0.797  0.764  0.767      0    1.967     0.169          0\n",
      "\n"
     ]
    },
    {
     "name": "stderr",
     "output_type": "stream",
     "text": [
      "\r",
      " 30%|████████████████████████▉                                                          | 6/20 [04:48<10:46, 46.17s/it]"
     ]
    },
    {
     "name": "stdout",
     "output_type": "stream",
     "text": [
      "    Dataset              T    CV  ML      Acc    b_Acc    Prec    Rec     F1    kap    ROC    tra-T    test-T    Al-Time\n",
      "--  -----------------  ---  ----  ----  -----  -------  ------  -----  -----  -----  -----  -------  --------  ---------\n",
      " 0  A211116-A211122_1    0     1  DT    0.732    0.834   0.767  0.834  0.769  0.721      0    1.947     0.201          0\n",
      " 1  A211116-A211122_1    1     2  DT    0.732    0.834   0.772  0.834  0.774  0.721      0    2.029     0.242          0\n",
      " 2  A211116-A211122_1    2     3  DT    0.732    0.834   0.772  0.834  0.774  0.721      0    1.926     0.21           0\n",
      " 3  A211116-A211122_1    3     4  DT    0.732    0.834   0.772  0.834  0.774  0.721      0    2.127     0.213          0\n",
      " 4  A211116-A211122_1    4     5  DT    0.732    0.834   0.771  0.834  0.774  0.721      0    2.052     0.21           0\n",
      "\n"
     ]
    },
    {
     "name": "stderr",
     "output_type": "stream",
     "text": [
      "\r",
      " 35%|█████████████████████████████                                                      | 7/20 [05:35<10:05, 46.56s/it]"
     ]
    },
    {
     "name": "stdout",
     "output_type": "stream",
     "text": [
      "    Dataset              T    CV  ML      Acc    b_Acc    Prec    Rec     F1    kap    ROC    tra-T    test-T    Al-Time\n",
      "--  -----------------  ---  ----  ----  -----  -------  ------  -----  -----  -----  -----  -------  --------  ---------\n",
      " 0  A211116-A211123_1    0     1  DT    0.745    0.822   0.789  0.822  0.769  0.734      0    2.12      0.259          0\n",
      " 1  A211116-A211123_1    1     2  DT    0.744    0.822   0.789  0.822  0.769  0.734      0    1.923     0.205          0\n",
      " 2  A211116-A211123_1    2     3  DT    0.745    0.822   0.784  0.822  0.763  0.734      0    2.051     0.258          0\n",
      " 3  A211116-A211123_1    3     4  DT    0.745    0.822   0.789  0.822  0.769  0.734      0    1.83      0.215          0\n",
      " 4  A211116-A211123_1    4     5  DT    0.745    0.822   0.79   0.822  0.77   0.734      0    1.947     0.216          0\n",
      "\n"
     ]
    },
    {
     "name": "stderr",
     "output_type": "stream",
     "text": [
      "\r",
      " 40%|█████████████████████████████████▏                                                 | 8/20 [06:23<09:24, 47.02s/it]"
     ]
    },
    {
     "name": "stdout",
     "output_type": "stream",
     "text": [
      "    Dataset              T    CV  ML      Acc    b_Acc    Prec    Rec     F1    kap    ROC    tra-T    test-T    Al-Time\n",
      "--  -----------------  ---  ----  ----  -----  -------  ------  -----  -----  -----  -----  -------  --------  ---------\n",
      " 0  A211116-A211125_1    0     1  DT    0.812    0.805   0.783  0.805  0.775  0.804      0    2.036     0.196          0\n",
      " 1  A211116-A211125_1    1     2  DT    0.811    0.805   0.784  0.805  0.775  0.804      0    2.027     0.192          0\n",
      " 2  A211116-A211125_1    2     3  DT    0.811    0.805   0.784  0.805  0.775  0.804      0    1.96      0.175          0\n",
      " 3  A211116-A211125_1    3     4  DT    0.811    0.805   0.784  0.805  0.775  0.804      0    1.979     0.185          0\n",
      " 4  A211116-A211125_1    4     5  DT    0.812    0.805   0.783  0.805  0.775  0.804      0    2.071     0.209          0\n",
      "\n"
     ]
    },
    {
     "name": "stderr",
     "output_type": "stream",
     "text": [
      "\r",
      " 45%|█████████████████████████████████████▎                                             | 9/20 [07:07<08:28, 46.20s/it]"
     ]
    },
    {
     "name": "stdout",
     "output_type": "stream",
     "text": [
      "    Dataset              T    CV  ML      Acc    b_Acc    Prec    Rec     F1    kap    ROC    tra-T    test-T    Al-Time\n",
      "--  -----------------  ---  ----  ----  -----  -------  ------  -----  -----  -----  -----  -------  --------  ---------\n",
      " 0  A211116-A211206_1    0     1  DT    0.572    0.543   0.527  0.543  0.481  0.558      0    2.143     0.23           0\n",
      " 1  A211116-A211206_1    1     2  DT    0.573    0.544   0.527  0.544  0.481  0.559      0    2.046     0.222          0\n",
      " 2  A211116-A211206_1    2     3  DT    0.573    0.543   0.528  0.543  0.482  0.559      0    1.968     0.229          0\n",
      " 3  A211116-A211206_1    3     4  DT    0.573    0.543   0.526  0.543  0.481  0.559      0    2.081     0.252          0\n",
      " 4  A211116-A211206_1    4     5  DT    0.573    0.543   0.527  0.543  0.481  0.559      0    1.959     0.22           0\n",
      "\n"
     ]
    },
    {
     "name": "stderr",
     "output_type": "stream",
     "text": [
      "\r",
      " 50%|█████████████████████████████████████████                                         | 10/20 [07:55<07:47, 46.70s/it]"
     ]
    },
    {
     "name": "stdout",
     "output_type": "stream",
     "text": [
      "    Dataset              T    CV  ML      Acc    b_Acc    Prec    Rec     F1    kap    ROC    tra-T    test-T    Al-Time\n",
      "--  -----------------  ---  ----  ----  -----  -------  ------  -----  -----  -----  -----  -------  --------  ---------\n",
      " 0  A211116-A211208_1    0     1  DT    0.596    0.543   0.514  0.543  0.468  0.579      0    2.048     0.197          0\n",
      " 1  A211116-A211208_1    1     2  DT    0.596    0.543   0.513  0.543  0.467  0.579      0    1.937     0.198          0\n",
      " 2  A211116-A211208_1    2     3  DT    0.596    0.543   0.514  0.543  0.468  0.579      0    2.015     0.208          0\n",
      " 3  A211116-A211208_1    3     4  DT    0.596    0.544   0.514  0.544  0.467  0.579      0    1.946     0.192          0\n",
      " 4  A211116-A211208_1    4     5  DT    0.596    0.543   0.514  0.543  0.467  0.579      0    1.949     0.188          0\n",
      "\n"
     ]
    },
    {
     "name": "stderr",
     "output_type": "stream",
     "text": [
      "\r",
      " 55%|█████████████████████████████████████████████                                     | 11/20 [08:40<06:53, 45.96s/it]"
     ]
    },
    {
     "name": "stdout",
     "output_type": "stream",
     "text": [
      "    Dataset              T    CV  ML      Acc    b_Acc    Prec    Rec     F1    kap    ROC    tra-T    test-T    Al-Time\n",
      "--  -----------------  ---  ----  ----  -----  -------  ------  -----  -----  -----  -----  -------  --------  ---------\n",
      " 0  A211116-A211223_1    0     1  DT    0.591    0.546   0.55   0.546  0.502  0.576      0    1.981     0.159          0\n",
      " 1  A211116-A211223_1    1     2  DT    0.591    0.546   0.55   0.546  0.502  0.576      0    1.965     0.164          0\n",
      " 2  A211116-A211223_1    2     3  DT    0.591    0.546   0.55   0.546  0.502  0.576      0    2.033     0.188          0\n",
      " 3  A211116-A211223_1    3     4  DT    0.591    0.546   0.549  0.546  0.501  0.576      0    1.897     0.146          0\n",
      " 4  A211116-A211223_1    4     5  DT    0.591    0.546   0.552  0.546  0.503  0.576      0    1.98      0.168          0\n",
      "\n"
     ]
    },
    {
     "name": "stderr",
     "output_type": "stream",
     "text": [
      "\r",
      " 60%|█████████████████████████████████████████████████▏                                | 12/20 [09:20<05:54, 44.37s/it]"
     ]
    },
    {
     "name": "stdout",
     "output_type": "stream",
     "text": [
      "    Dataset              T    CV  ML      Acc    b_Acc    Prec    Rec     F1    kap    ROC    tra-T    test-T    Al-Time\n",
      "--  -----------------  ---  ----  ----  -----  -------  ------  -----  -----  -----  -----  -------  --------  ---------\n",
      " 0  A211116-A211225_1    0     1  DT    0.619    0.554   0.523  0.554  0.502  0.605      0    1.905     0.187          0\n",
      " 1  A211116-A211225_1    1     2  DT    0.617    0.553   0.519  0.553  0.499  0.603      0    2.107     0.18           0\n",
      " 2  A211116-A211225_1    2     3  DT    0.617    0.553   0.52   0.553  0.5    0.603      0    1.992     0.178          0\n",
      " 3  A211116-A211225_1    3     4  DT    0.617    0.552   0.523  0.552  0.501  0.603      0    1.953     0.179          0\n",
      " 4  A211116-A211225_1    4     5  DT    0.619    0.554   0.523  0.554  0.502  0.605      0    2.113     0.208          0\n",
      "\n"
     ]
    },
    {
     "name": "stderr",
     "output_type": "stream",
     "text": [
      "\r",
      " 65%|█████████████████████████████████████████████████████▎                            | 13/20 [10:04<05:09, 44.19s/it]"
     ]
    },
    {
     "name": "stdout",
     "output_type": "stream",
     "text": [
      "    Dataset              T    CV  ML      Acc    b_Acc    Prec    Rec     F1    kap    ROC    tra-T    test-T    Al-Time\n",
      "--  -----------------  ---  ----  ----  -----  -------  ------  -----  -----  -----  -----  -------  --------  ---------\n",
      " 0  A211116-A211228_1    0     1  DT    0.544    0.561   0.482  0.561  0.464  0.529      0    2.015     0.201          0\n",
      " 1  A211116-A211228_1    1     2  DT    0.544    0.561   0.483  0.561  0.465  0.529      0    2.119     0.217          0\n",
      " 2  A211116-A211228_1    2     3  DT    0.546    0.561   0.486  0.561  0.467  0.531      0    1.983     0.202          0\n",
      " 3  A211116-A211228_1    3     4  DT    0.546    0.562   0.485  0.562  0.466  0.531      0    2.11      0.204          0\n",
      " 4  A211116-A211228_1    4     5  DT    0.545    0.561   0.485  0.561  0.466  0.53       0    1.984     0.21           0\n",
      "\n"
     ]
    },
    {
     "name": "stderr",
     "output_type": "stream",
     "text": [
      "\r",
      " 70%|█████████████████████████████████████████████████████████▍                        | 14/20 [10:48<04:24, 44.16s/it]"
     ]
    },
    {
     "name": "stdout",
     "output_type": "stream",
     "text": [
      "    Dataset              T    CV  ML      Acc    b_Acc    Prec    Rec     F1    kap    ROC    tra-T    test-T    Al-Time\n",
      "--  -----------------  ---  ----  ----  -----  -------  ------  -----  -----  -----  -----  -------  --------  ---------\n",
      " 0  A211116-I211108_1    0     1  DT    0.597    0.513   0.521  0.513  0.473  0.581      0    1.947     0.229          0\n",
      " 1  A211116-I211108_1    1     2  DT    0.597    0.513   0.521  0.513  0.473  0.581      0    1.967     0.246          0\n",
      " 2  A211116-I211108_1    2     3  DT    0.597    0.513   0.521  0.513  0.473  0.581      0    2.059     0.222          0\n",
      " 3  A211116-I211108_1    3     4  DT    0.597    0.513   0.521  0.513  0.473  0.581      0    1.915     0.226          0\n",
      " 4  A211116-I211108_1    4     5  DT    0.597    0.513   0.521  0.513  0.473  0.581      0    2.104     0.24           0\n",
      "\n"
     ]
    },
    {
     "name": "stderr",
     "output_type": "stream",
     "text": [
      "\r",
      " 75%|█████████████████████████████████████████████████████████████▌                    | 15/20 [11:36<03:45, 45.18s/it]"
     ]
    },
    {
     "name": "stdout",
     "output_type": "stream",
     "text": [
      "    Dataset              T    CV  ML      Acc    b_Acc    Prec    Rec     F1    kap    ROC    tra-T    test-T    Al-Time\n",
      "--  -----------------  ---  ----  ----  -----  -------  ------  -----  -----  -----  -----  -------  --------  ---------\n",
      " 0  A211116-I211112_1    0     1  DT    0.776    0.798   0.807  0.798  0.786  0.766      0    1.969     0.276          0\n",
      " 1  A211116-I211112_1    1     2  DT    0.776    0.797   0.795  0.797  0.788  0.766      0    2.159     0.276          0\n",
      " 2  A211116-I211112_1    2     3  DT    0.776    0.797   0.796  0.797  0.788  0.766      0    1.97      0.256          0\n",
      " 3  A211116-I211112_1    3     4  DT    0.776    0.798   0.795  0.798  0.788  0.766      0    1.972     0.273          0\n",
      " 4  A211116-I211112_1    4     5  DT    0.776    0.797   0.796  0.797  0.788  0.766      0    1.954     0.238          0\n",
      "\n"
     ]
    },
    {
     "name": "stderr",
     "output_type": "stream",
     "text": [
      "\r",
      " 80%|█████████████████████████████████████████████████████████████████▌                | 16/20 [12:26<03:06, 46.68s/it]"
     ]
    },
    {
     "name": "stdout",
     "output_type": "stream",
     "text": [
      "    Dataset              T    CV  ML      Acc    b_Acc    Prec    Rec     F1    kap    ROC    tra-T    test-T    Al-Time\n",
      "--  -----------------  ---  ----  ----  -----  -------  ------  -----  -----  -----  -----  -------  --------  ---------\n",
      " 0  A211116-I211115_1    0     1  DT    0.883    0.872   0.866  0.872  0.862  0.878      0    2.143     0.275          0\n",
      " 1  A211116-I211115_1    1     2  DT    0.883    0.872   0.866  0.872  0.862  0.878      0    1.943     0.235          0\n",
      " 2  A211116-I211115_1    2     3  DT    0.883    0.872   0.866  0.872  0.862  0.878      0    2.054     0.247          0\n",
      " 3  A211116-I211115_1    3     4  DT    0.883    0.872   0.866  0.872  0.862  0.878      0    1.994     0.251          0\n",
      " 4  A211116-I211115_1    4     5  DT    0.883    0.872   0.866  0.872  0.862  0.878      0    2.039     0.228          0\n",
      "\n"
     ]
    },
    {
     "name": "stderr",
     "output_type": "stream",
     "text": [
      "\r",
      " 85%|█████████████████████████████████████████████████████████████████████▋            | 17/20 [13:15<02:21, 47.27s/it]"
     ]
    },
    {
     "name": "stdout",
     "output_type": "stream",
     "text": [
      "    Dataset              T    CV  ML      Acc    b_Acc    Prec    Rec     F1    kap    ROC    tra-T    test-T    Al-Time\n",
      "--  -----------------  ---  ----  ----  -----  -------  ------  -----  -----  -----  -----  -------  --------  ---------\n",
      " 0  A211116-I211118_1    0     1  DT     0.77    0.787   0.777  0.787  0.751  0.762      0    2.047     0.27           0\n",
      " 1  A211116-I211118_1    1     2  DT     0.77    0.787   0.776  0.787  0.751  0.762      0    2.047     0.234          0\n",
      " 2  A211116-I211118_1    2     3  DT     0.77    0.787   0.777  0.787  0.751  0.762      0    1.962     0.245          0\n",
      " 3  A211116-I211118_1    3     4  DT     0.77    0.787   0.776  0.787  0.751  0.762      0    1.933     0.261          0\n",
      " 4  A211116-I211118_1    4     5  DT     0.77    0.787   0.776  0.787  0.751  0.762      0    1.964     0.254          0\n",
      "\n"
     ]
    },
    {
     "name": "stderr",
     "output_type": "stream",
     "text": [
      "\r",
      " 90%|█████████████████████████████████████████████████████████████████████████▊        | 18/20 [14:03<01:35, 47.59s/it]"
     ]
    },
    {
     "name": "stdout",
     "output_type": "stream",
     "text": [
      "    Dataset              T    CV  ML      Acc    b_Acc    Prec    Rec     F1    kap    ROC    tra-T    test-T    Al-Time\n",
      "--  -----------------  ---  ----  ----  -----  -------  ------  -----  -----  -----  -----  -------  --------  ---------\n",
      " 0  A211116-I211119_1    0     1  DT    0.767    0.804   0.792  0.804  0.762  0.759      0    2.014     0.24           0\n",
      " 1  A211116-I211119_1    1     2  DT    0.767    0.804   0.792  0.804  0.762  0.759      0    2.021     0.25           0\n",
      " 2  A211116-I211119_1    2     3  DT    0.767    0.804   0.792  0.804  0.762  0.759      0    2.074     0.253          0\n",
      " 3  A211116-I211119_1    3     4  DT    0.767    0.804   0.792  0.804  0.761  0.759      0    1.927     0.237          0\n",
      " 4  A211116-I211119_1    4     5  DT    0.767    0.804   0.792  0.804  0.762  0.759      0    1.976     0.252          0\n",
      "\n"
     ]
    },
    {
     "name": "stderr",
     "output_type": "stream",
     "text": [
      "\r",
      " 95%|█████████████████████████████████████████████████████████████████████████████▉    | 19/20 [14:51<00:47, 47.68s/it]"
     ]
    },
    {
     "name": "stdout",
     "output_type": "stream",
     "text": [
      "    Dataset              T    CV  ML      Acc    b_Acc    Prec    Rec     F1    kap    ROC    tra-T    test-T    Al-Time\n",
      "--  -----------------  ---  ----  ----  -----  -------  ------  -----  -----  -----  -----  -------  --------  ---------\n",
      " 0  A211116-I211122_1    0     1  DT    0.775    0.797   0.782  0.797  0.753  0.767      0    2.083     0.252          0\n",
      " 1  A211116-I211122_1    1     2  DT    0.775    0.796   0.782  0.796  0.753  0.766      0    2.105     0.257          0\n",
      " 2  A211116-I211122_1    2     3  DT    0.775    0.796   0.783  0.796  0.753  0.766      0    2.035     0.249          0\n",
      " 3  A211116-I211122_1    3     4  DT    0.775    0.796   0.782  0.796  0.753  0.767      0    1.956     0.233          0\n",
      " 4  A211116-I211122_1    4     5  DT    0.775    0.796   0.782  0.796  0.753  0.766      0    2.105     0.254          0\n",
      "\n"
     ]
    },
    {
     "name": "stderr",
     "output_type": "stream",
     "text": [
      "100%|██████████████████████████████████████████████████████████████████████████████████| 20/20 [15:39<00:00, 47.00s/it]\n",
      "  0%|                                                                                           | 0/20 [00:00<?, ?it/s]"
     ]
    },
    {
     "name": "stdout",
     "output_type": "stream",
     "text": [
      "    Dataset              T    CV  ML      Acc    b_Acc    Prec    Rec     F1    kap    ROC    tra-T    test-T    Al-Time\n",
      "--  -----------------  ---  ----  ----  -----  -------  ------  -----  -----  -----  -----  -------  --------  ---------\n",
      " 0  A211117-A211108_1    0     1  DT    0.62     0.549   0.493  0.549  0.478  0.601      0    1.877     0.25           0\n",
      " 1  A211117-A211108_1    1     2  DT    0.547    0.527   0.49   0.527  0.452  0.526      0    1.819     0.247          0\n",
      " 2  A211117-A211108_1    2     3  DT    0.62     0.549   0.486  0.549  0.473  0.601      0    1.916     0.264          0\n",
      " 3  A211117-A211108_1    3     4  DT    0.62     0.548   0.499  0.548  0.482  0.601      0    1.845     0.264          0\n",
      " 4  A211117-A211108_1    4     5  DT    0.547    0.526   0.49   0.526  0.452  0.526      0    1.741     0.245          0\n",
      "\n"
     ]
    },
    {
     "name": "stderr",
     "output_type": "stream",
     "text": [
      "\r",
      "  5%|████▏                                                                              | 1/20 [00:49<15:44, 49.70s/it]"
     ]
    },
    {
     "name": "stdout",
     "output_type": "stream",
     "text": [
      "    Dataset              T    CV  ML      Acc    b_Acc    Prec    Rec     F1    kap    ROC    tra-T    test-T    Al-Time\n",
      "--  -----------------  ---  ----  ----  -----  -------  ------  -----  -----  -----  -----  -------  --------  ---------\n",
      " 0  A211117-A211109_1    0     1  DT    0.636    0.557   0.492  0.557  0.482  0.62       0    1.869     0.231          0\n",
      " 1  A211117-A211109_1    1     2  DT    0.555    0.537   0.504  0.537  0.468  0.539      0    1.883     0.253          0\n",
      " 2  A211117-A211109_1    2     3  DT    0.555    0.537   0.504  0.537  0.468  0.539      0    1.752     0.213          0\n",
      " 3  A211117-A211109_1    3     4  DT    0.636    0.557   0.519  0.557  0.507  0.619      0    1.813     0.216          0\n",
      " 4  A211117-A211109_1    4     5  DT    0.636    0.557   0.519  0.557  0.507  0.619      0    1.919     0.232          0\n",
      "\n"
     ]
    },
    {
     "name": "stderr",
     "output_type": "stream",
     "text": [
      "\r",
      " 10%|████████▎                                                                          | 2/20 [01:35<14:10, 47.25s/it]"
     ]
    },
    {
     "name": "stdout",
     "output_type": "stream",
     "text": [
      "    Dataset              T    CV  ML      Acc    b_Acc    Prec    Rec     F1    kap    ROC    tra-T    test-T    Al-Time\n",
      "--  -----------------  ---  ----  ----  -----  -------  ------  -----  -----  -----  -----  -------  --------  ---------\n",
      " 0  A211117-A211115_1    0     1  DT    0.882    0.832   0.831  0.832  0.817  0.872      0    1.823     0.28           0\n",
      " 1  A211117-A211115_1    1     2  DT    0.881    0.831   0.827  0.831  0.817  0.871      0    1.758     0.276          0\n",
      " 2  A211117-A211115_1    2     3  DT    0.725    0.811   0.822  0.811  0.792  0.712      0    1.832     0.278          0\n",
      " 3  A211117-A211115_1    3     4  DT    0.725    0.812   0.822  0.812  0.791  0.712      0    2.006     0.26           0\n",
      " 4  A211117-A211115_1    4     5  DT    0.881    0.832   0.832  0.832  0.818  0.871      0    1.879     0.265          0\n",
      "\n"
     ]
    },
    {
     "name": "stderr",
     "output_type": "stream",
     "text": [
      "\r",
      " 15%|████████████▍                                                                      | 3/20 [02:27<13:59, 49.40s/it]"
     ]
    },
    {
     "name": "stdout",
     "output_type": "stream",
     "text": [
      "    Dataset              T    CV  ML      Acc    b_Acc    Prec    Rec     F1    kap    ROC    tra-T    test-T    Al-Time\n",
      "--  -----------------  ---  ----  ----  -----  -------  ------  -----  -----  -----  -----  -------  --------  ---------\n",
      " 0  A211117-A211116_1    0     1  DT    0.895    0.839   0.856  0.839  0.833  0.886      0    1.931     0.283          0\n",
      " 1  A211117-A211116_1    1     2  DT    0.895    0.838   0.855  0.838  0.833  0.886      0    1.93      0.24           0\n",
      " 2  A211117-A211116_1    2     3  DT    0.895    0.839   0.856  0.839  0.833  0.886      0    1.748     0.236          0\n",
      " 3  A211117-A211116_1    3     4  DT    0.884    0.824   0.853  0.824  0.817  0.873      0    1.761     0.243          0\n",
      " 4  A211117-A211116_1    4     5  DT    0.895    0.838   0.856  0.838  0.833  0.886      0    1.882     0.256          0\n",
      "\n"
     ]
    },
    {
     "name": "stderr",
     "output_type": "stream",
     "text": [
      "\r",
      " 20%|████████████████▌                                                                  | 4/20 [03:16<13:09, 49.37s/it]"
     ]
    },
    {
     "name": "stdout",
     "output_type": "stream",
     "text": [
      "    Dataset              T    CV  ML      Acc    b_Acc    Prec    Rec    F1    kap    ROC    tra-T    test-T    Al-Time\n",
      "--  -----------------  ---  ----  ----  -----  -------  ------  -----  ----  -----  -----  -------  --------  ---------\n",
      " 0  A211117-A211117_1    0     1  DT    0.941    0.932   0.932  0.932  0.93  0.937      0    1.925     0.209          0\n",
      " 1  A211117-A211117_1    1     2  DT    0.941    0.932   0.932  0.932  0.93  0.937      0    1.785     0.252          0\n",
      " 2  A211117-A211117_1    2     3  DT    0.941    0.932   0.932  0.932  0.93  0.937      0    1.873     0.23           0\n",
      " 3  A211117-A211117_1    3     4  DT    0.941    0.932   0.932  0.932  0.93  0.937      0    1.299     0.145          0\n",
      " 4  A211117-A211117_1    4     5  DT    0.941    0.932   0.932  0.932  0.93  0.937      0    1.873     0.232          0\n",
      "\n"
     ]
    },
    {
     "name": "stderr",
     "output_type": "stream",
     "text": [
      "\r",
      " 25%|████████████████████▊                                                              | 5/20 [04:01<11:55, 47.70s/it]"
     ]
    },
    {
     "name": "stdout",
     "output_type": "stream",
     "text": [
      "    Dataset              T    CV  ML      Acc    b_Acc    Prec    Rec     F1    kap    ROC    tra-T    test-T    Al-Time\n",
      "--  -----------------  ---  ----  ----  -----  -------  ------  -----  -----  -----  -----  -------  --------  ---------\n",
      " 0  A211117-A211118_1    0     1  DT    0.765    0.795   0.787  0.795  0.771  0.756      0    1.843     0.189          0\n",
      " 1  A211117-A211118_1    1     2  DT    0.765    0.795   0.779  0.795  0.759  0.757      0    1.759     0.182          0\n",
      " 2  A211117-A211118_1    2     3  DT    0.765    0.795   0.787  0.795  0.771  0.756      0    1.827     0.166          0\n",
      " 3  A211117-A211118_1    3     4  DT    0.765    0.795   0.779  0.795  0.759  0.757      0    1.76      0.175          0\n",
      " 4  A211117-A211118_1    4     5  DT    0.765    0.794   0.78   0.794  0.759  0.757      0    1.904     0.205          0\n",
      "\n"
     ]
    },
    {
     "name": "stderr",
     "output_type": "stream",
     "text": [
      "\r",
      " 30%|████████████████████████▉                                                          | 6/20 [04:41<10:33, 45.26s/it]"
     ]
    },
    {
     "name": "stdout",
     "output_type": "stream",
     "text": [
      "    Dataset              T    CV  ML      Acc    b_Acc    Prec    Rec     F1    kap    ROC    tra-T    test-T    Al-Time\n",
      "--  -----------------  ---  ----  ----  -----  -------  ------  -----  -----  -----  -----  -------  --------  ---------\n",
      " 0  A211117-A211122_1    0     1  DT    0.703    0.806   0.771  0.806  0.749  0.692      0    1.676     0.23           0\n",
      " 1  A211117-A211122_1    1     2  DT    0.724    0.822   0.776  0.822  0.771  0.714      0    1.745     0.216          0\n",
      " 2  A211117-A211122_1    2     3  DT    0.703    0.805   0.77   0.805  0.749  0.692      0    1.882     0.229          0\n",
      " 3  A211117-A211122_1    3     4  DT    0.724    0.822   0.776  0.822  0.771  0.714      0    1.682     0.226          0\n",
      " 4  A211117-A211122_1    4     5  DT    0.703    0.806   0.771  0.806  0.749  0.692      0    1.808     0.229          0\n",
      "\n"
     ]
    },
    {
     "name": "stderr",
     "output_type": "stream",
     "text": [
      "\r",
      " 35%|█████████████████████████████                                                      | 7/20 [05:26<09:44, 44.99s/it]"
     ]
    },
    {
     "name": "stdout",
     "output_type": "stream",
     "text": [
      "    Dataset              T    CV  ML      Acc    b_Acc    Prec    Rec     F1    kap    ROC    tra-T    test-T    Al-Time\n",
      "--  -----------------  ---  ----  ----  -----  -------  ------  -----  -----  -----  -----  -------  --------  ---------\n",
      " 0  A211117-A211123_1    0     1  DT    0.729    0.817   0.775  0.817  0.764  0.718      0    1.772     0.224          0\n",
      " 1  A211117-A211123_1    1     2  DT    0.723    0.808   0.772  0.808  0.754  0.712      0    1.899     0.254          0\n",
      " 2  A211117-A211123_1    2     3  DT    0.723    0.808   0.773  0.808  0.754  0.712      0    1.804     0.236          0\n",
      " 3  A211117-A211123_1    3     4  DT    0.729    0.817   0.774  0.817  0.764  0.718      0    1.894     0.228          0\n",
      " 4  A211117-A211123_1    4     5  DT    0.723    0.808   0.773  0.808  0.754  0.712      0    1.812     0.226          0\n",
      "\n"
     ]
    },
    {
     "name": "stderr",
     "output_type": "stream",
     "text": [
      "\r",
      " 40%|█████████████████████████████████▏                                                 | 8/20 [06:12<09:03, 45.29s/it]"
     ]
    },
    {
     "name": "stdout",
     "output_type": "stream",
     "text": [
      "    Dataset              T    CV  ML      Acc    b_Acc    Prec    Rec     F1    kap    ROC    tra-T    test-T    Al-Time\n",
      "--  -----------------  ---  ----  ----  -----  -------  ------  -----  -----  -----  -----  -------  --------  ---------\n",
      " 0  A211117-A211125_1    0     1  DT    0.762    0.788   0.762  0.788  0.758  0.753      0    1.911     0.203          0\n",
      " 1  A211117-A211125_1    1     2  DT    0.762    0.788   0.742  0.788  0.739  0.753      0    1.925     0.196          0\n",
      " 2  A211117-A211125_1    2     3  DT    0.762    0.788   0.74   0.788  0.738  0.753      0    1.998     0.185          0\n",
      " 3  A211117-A211125_1    3     4  DT    0.762    0.788   0.749  0.788  0.742  0.753      0    1.848     0.188          0\n",
      " 4  A211117-A211125_1    4     5  DT    0.762    0.788   0.749  0.788  0.742  0.753      0    1.825     0.195          0\n",
      "\n"
     ]
    },
    {
     "name": "stderr",
     "output_type": "stream",
     "text": [
      "\r",
      " 45%|█████████████████████████████████████▎                                             | 9/20 [06:55<08:10, 44.61s/it]"
     ]
    },
    {
     "name": "stdout",
     "output_type": "stream",
     "text": [
      "    Dataset              T    CV  ML      Acc    b_Acc    Prec    Rec     F1    kap    ROC    tra-T    test-T    Al-Time\n",
      "--  -----------------  ---  ----  ----  -----  -------  ------  -----  -----  -----  -----  -------  --------  ---------\n",
      " 0  A211117-A211206_1    0     1  DT    0.566    0.534   0.537  0.534  0.49   0.549      0    1.799     0.213          0\n",
      " 1  A211117-A211206_1    1     2  DT    0.566    0.534   0.537  0.534  0.489  0.549      0    1.83      0.205          0\n",
      " 2  A211117-A211206_1    2     3  DT    0.525    0.515   0.525  0.515  0.453  0.51       0    1.824     0.223          0\n",
      " 3  A211117-A211206_1    3     4  DT    0.575    0.549   0.537  0.549  0.487  0.562      0    1.845     0.216          0\n",
      " 4  A211117-A211206_1    4     5  DT    0.566    0.534   0.532  0.534  0.479  0.552      0    1.864     0.236          0\n",
      "\n"
     ]
    },
    {
     "name": "stderr",
     "output_type": "stream",
     "text": [
      "\r",
      " 50%|█████████████████████████████████████████                                         | 10/20 [07:40<07:27, 44.76s/it]"
     ]
    },
    {
     "name": "stdout",
     "output_type": "stream",
     "text": [
      "    Dataset              T    CV  ML      Acc    b_Acc    Prec    Rec     F1    kap    ROC    tra-T    test-T    Al-Time\n",
      "--  -----------------  ---  ----  ----  -----  -------  ------  -----  -----  -----  -----  -------  --------  ---------\n",
      " 0  A211117-A211208_1    0     1  DT    0.614    0.564   0.538  0.564  0.503  0.598      0    1.706     0.214          0\n",
      " 1  A211117-A211208_1    1     2  DT    0.594    0.549   0.531  0.549  0.482  0.577      0    1.822     0.205          0\n",
      " 2  A211117-A211208_1    2     3  DT    0.594    0.549   0.54   0.549  0.492  0.575      0    1.618     0.195          0\n",
      " 3  A211117-A211208_1    3     4  DT    0.614    0.564   0.542  0.564  0.512  0.596      0    1.713     0.183          0\n",
      " 4  A211117-A211208_1    4     5  DT    0.594    0.549   0.534  0.549  0.481  0.577      0    1.758     0.217          0\n",
      "\n"
     ]
    },
    {
     "name": "stderr",
     "output_type": "stream",
     "text": [
      "\r",
      " 55%|█████████████████████████████████████████████                                     | 11/20 [08:21<06:32, 43.62s/it]"
     ]
    },
    {
     "name": "stdout",
     "output_type": "stream",
     "text": [
      "    Dataset              T    CV  ML      Acc    b_Acc    Prec    Rec     F1    kap    ROC    tra-T    test-T    Al-Time\n",
      "--  -----------------  ---  ----  ----  -----  -------  ------  -----  -----  -----  -----  -------  --------  ---------\n",
      " 0  A211117-A211223_1    0     1  DT    0.605    0.586   0.568  0.586  0.546   0.59      0    1.818     0.168          0\n",
      " 1  A211117-A211223_1    1     2  DT    0.605    0.586   0.563  0.586  0.543   0.59      0    1.851     0.19           0\n",
      " 2  A211117-A211223_1    2     3  DT    0.605    0.586   0.567  0.586  0.547   0.59      0    1.853     0.169          0\n",
      " 3  A211117-A211223_1    3     4  DT    0.605    0.586   0.565  0.586  0.545   0.59      0    1.806     0.147          0\n",
      " 4  A211117-A211223_1    4     5  DT    0.605    0.586   0.558  0.586  0.541   0.59      0    1.866     0.163          0\n",
      "\n"
     ]
    },
    {
     "name": "stderr",
     "output_type": "stream",
     "text": [
      "\r",
      " 60%|█████████████████████████████████████████████████▏                                | 12/20 [08:59<05:36, 42.09s/it]"
     ]
    },
    {
     "name": "stdout",
     "output_type": "stream",
     "text": [
      "    Dataset              T    CV  ML      Acc    b_Acc    Prec    Rec     F1    kap    ROC    tra-T    test-T    Al-Time\n",
      "--  -----------------  ---  ----  ----  -----  -------  ------  -----  -----  -----  -----  -------  --------  ---------\n",
      " 0  A211117-A211225_1    0     1  DT    0.638    0.582   0.561  0.582  0.549  0.624      0    1.782     0.178          0\n",
      " 1  A211117-A211225_1    1     2  DT    0.618    0.567   0.552  0.567  0.53   0.603      0    1.838     0.2            0\n",
      " 2  A211117-A211225_1    2     3  DT    0.638    0.582   0.561  0.582  0.549  0.624      0    1.822     0.174          0\n",
      " 3  A211117-A211225_1    3     4  DT    0.623    0.559   0.528  0.559  0.518  0.608      0    1.815     0.175          0\n",
      " 4  A211117-A211225_1    4     5  DT    0.639    0.581   0.554  0.581  0.544  0.625      0    1.919     0.185          0\n",
      "\n"
     ]
    },
    {
     "name": "stderr",
     "output_type": "stream",
     "text": [
      "\r",
      " 65%|█████████████████████████████████████████████████████▎                            | 13/20 [09:40<04:51, 41.60s/it]"
     ]
    },
    {
     "name": "stdout",
     "output_type": "stream",
     "text": [
      "    Dataset              T    CV  ML      Acc    b_Acc    Prec    Rec     F1    kap    ROC    tra-T    test-T    Al-Time\n",
      "--  -----------------  ---  ----  ----  -----  -------  ------  -----  -----  -----  -----  -------  --------  ---------\n",
      " 0  A211117-A211228_1    0     1  DT    0.54     0.529   0.473  0.529  0.449  0.524      0    1.876     0.205          0\n",
      " 1  A211117-A211228_1    1     2  DT    0.548    0.538   0.48   0.538  0.457  0.532      0    1.845     0.203          0\n",
      " 2  A211117-A211228_1    2     3  DT    0.548    0.538   0.496  0.538  0.469  0.532      0    1.814     0.204          0\n",
      " 3  A211117-A211228_1    3     4  DT    0.548    0.537   0.479  0.537  0.457  0.532      0    1.849     0.178          0\n",
      " 4  A211117-A211228_1    4     5  DT    0.548    0.538   0.462  0.538  0.443  0.532      0    1.763     0.192          0\n",
      "\n"
     ]
    },
    {
     "name": "stderr",
     "output_type": "stream",
     "text": [
      "\r",
      " 70%|█████████████████████████████████████████████████████████▍                        | 14/20 [10:21<04:09, 41.57s/it]"
     ]
    },
    {
     "name": "stdout",
     "output_type": "stream",
     "text": [
      "    Dataset              T    CV  ML      Acc    b_Acc    Prec    Rec     F1    kap    ROC    tra-T    test-T    Al-Time\n",
      "--  -----------------  ---  ----  ----  -----  -------  ------  -----  -----  -----  -----  -------  --------  ---------\n",
      " 0  A211117-I211108_1    0     1  DT     0.59    0.545   0.505  0.545  0.481  0.574      0    1.846     0.222          0\n",
      " 1  A211117-I211108_1    1     2  DT     0.59    0.545   0.504  0.545  0.479  0.574      0    1.751     0.219          0\n",
      " 2  A211117-I211108_1    2     3  DT     0.59    0.545   0.506  0.545  0.481  0.574      0    1.81      0.205          0\n",
      " 3  A211117-I211108_1    3     4  DT     0.59    0.545   0.504  0.545  0.48   0.574      0    1.791     0.201          0\n",
      " 4  A211117-I211108_1    4     5  DT     0.59    0.545   0.505  0.545  0.481  0.574      0    1.829     0.205          0\n",
      "\n"
     ]
    },
    {
     "name": "stderr",
     "output_type": "stream",
     "text": [
      "\r",
      " 75%|█████████████████████████████████████████████████████████████▌                    | 15/20 [11:06<03:32, 42.58s/it]"
     ]
    },
    {
     "name": "stdout",
     "output_type": "stream",
     "text": [
      "    Dataset              T    CV  ML      Acc    b_Acc    Prec    Rec     F1    kap    ROC    tra-T    test-T    Al-Time\n",
      "--  -----------------  ---  ----  ----  -----  -------  ------  -----  -----  -----  -----  -------  --------  ---------\n",
      " 0  A211117-I211112_1    0     1  DT    0.742    0.793   0.78   0.793  0.772  0.731      0    1.754     0.213          0\n",
      " 1  A211117-I211112_1    1     2  DT    0.742    0.793   0.78   0.793  0.772  0.731      0    1.712     0.214          0\n",
      " 2  A211117-I211112_1    2     3  DT    0.742    0.793   0.781  0.793  0.773  0.731      0    1.834     0.218          0\n",
      " 3  A211117-I211112_1    3     4  DT    0.742    0.793   0.773  0.793  0.767  0.731      0    1.715     0.211          0\n",
      " 4  A211117-I211112_1    4     5  DT    0.742    0.792   0.78   0.792  0.771  0.731      0    1.957     0.259          0\n",
      "\n"
     ]
    },
    {
     "name": "stderr",
     "output_type": "stream",
     "text": [
      "\r",
      " 80%|█████████████████████████████████████████████████████████████████▌                | 16/20 [11:53<02:55, 43.93s/it]"
     ]
    },
    {
     "name": "stdout",
     "output_type": "stream",
     "text": [
      "    Dataset              T    CV  ML      Acc    b_Acc    Prec    Rec     F1    kap    ROC    tra-T    test-T    Al-Time\n",
      "--  -----------------  ---  ----  ----  -----  -------  ------  -----  -----  -----  -----  -------  --------  ---------\n",
      " 0  A211117-I211115_1    0     1  DT    0.843    0.811   0.828  0.811  0.803  0.837      0    1.702     0.203          0\n",
      " 1  A211117-I211115_1    1     2  DT    0.843    0.811   0.829  0.811  0.804  0.837      0    1.789     0.207          0\n",
      " 2  A211117-I211115_1    2     3  DT    0.843    0.811   0.828  0.811  0.803  0.837      0    1.76      0.209          0\n",
      " 3  A211117-I211115_1    3     4  DT    0.843    0.811   0.828  0.811  0.803  0.837      0    1.871     0.244          0\n",
      " 4  A211117-I211115_1    4     5  DT    0.843    0.811   0.828  0.811  0.803  0.837      0    1.788     0.207          0\n",
      "\n"
     ]
    },
    {
     "name": "stderr",
     "output_type": "stream",
     "text": [
      "\r",
      " 85%|█████████████████████████████████████████████████████████████████████▋            | 17/20 [12:39<02:13, 44.43s/it]"
     ]
    },
    {
     "name": "stdout",
     "output_type": "stream",
     "text": [
      "    Dataset              T    CV  ML      Acc    b_Acc    Prec    Rec     F1    kap    ROC    tra-T    test-T    Al-Time\n",
      "--  -----------------  ---  ----  ----  -----  -------  ------  -----  -----  -----  -----  -------  --------  ---------\n",
      " 0  A211117-I211118_1    0     1  DT    0.762    0.804   0.78   0.804  0.763  0.754      0    1.882     0.208          0\n",
      " 1  A211117-I211118_1    1     2  DT    0.762    0.803   0.779  0.803  0.762  0.754      0    1.742     0.212          0\n",
      " 2  A211117-I211118_1    2     3  DT    0.762    0.804   0.78   0.804  0.763  0.754      0    1.796     0.21           0\n",
      " 3  A211117-I211118_1    3     4  DT    0.762    0.804   0.779  0.804  0.762  0.754      0    1.728     0.194          0\n",
      " 4  A211117-I211118_1    4     5  DT    0.762    0.804   0.779  0.804  0.762  0.754      0    1.906     0.217          0\n",
      "\n"
     ]
    },
    {
     "name": "stderr",
     "output_type": "stream",
     "text": [
      "\r",
      " 90%|█████████████████████████████████████████████████████████████████████████▊        | 18/20 [13:24<01:29, 44.70s/it]"
     ]
    },
    {
     "name": "stdout",
     "output_type": "stream",
     "text": [
      "    Dataset              T    CV  ML      Acc    b_Acc    Prec    Rec     F1    kap    ROC    tra-T    test-T    Al-Time\n",
      "--  -----------------  ---  ----  ----  -----  -------  ------  -----  -----  -----  -----  -------  --------  ---------\n",
      " 0  A211117-I211119_1    0     1  DT    0.761    0.818   0.77   0.818  0.761  0.753      0    1.817     0.205          0\n",
      " 1  A211117-I211119_1    1     2  DT    0.761    0.819   0.766  0.819  0.761  0.753      0    1.945     0.224          0\n",
      " 2  A211117-I211119_1    2     3  DT    0.761    0.819   0.766  0.819  0.761  0.753      0    1.79      0.196          0\n",
      " 3  A211117-I211119_1    3     4  DT    0.761    0.818   0.766  0.818  0.762  0.753      0    1.887     0.205          0\n",
      " 4  A211117-I211119_1    4     5  DT    0.761    0.819   0.778  0.819  0.773  0.752      0    1.933     0.214          0\n",
      "\n"
     ]
    },
    {
     "name": "stderr",
     "output_type": "stream",
     "text": [
      "\r",
      " 95%|█████████████████████████████████████████████████████████████████████████████▉    | 19/20 [14:09<00:44, 44.71s/it]"
     ]
    },
    {
     "name": "stdout",
     "output_type": "stream",
     "text": [
      "    Dataset              T    CV  ML      Acc    b_Acc    Prec    Rec     F1    kap    ROC    tra-T    test-T    Al-Time\n",
      "--  -----------------  ---  ----  ----  -----  -------  ------  -----  -----  -----  -----  -------  --------  ---------\n",
      " 0  A211117-I211122_1    0     1  DT    0.768    0.817   0.783  0.817  0.77   0.76       0    2.003     0.22           0\n",
      " 1  A211117-I211122_1    1     2  DT    0.768    0.817   0.782  0.817  0.77   0.76       0    1.868     0.218          0\n",
      " 2  A211117-I211122_1    2     3  DT    0.768    0.817   0.791  0.817  0.783  0.759      0    1.895     0.2            0\n",
      " 3  A211117-I211122_1    3     4  DT    0.769    0.817   0.783  0.817  0.77   0.76       0    1.808     0.223          0\n",
      " 4  A211117-I211122_1    4     5  DT    0.768    0.817   0.791  0.817  0.783  0.759      0    1.851     0.202          0\n",
      "\n"
     ]
    },
    {
     "name": "stderr",
     "output_type": "stream",
     "text": [
      "100%|██████████████████████████████████████████████████████████████████████████████████| 20/20 [14:55<00:00, 44.80s/it]\n",
      "  0%|                                                                                           | 0/20 [00:00<?, ?it/s]"
     ]
    },
    {
     "name": "stdout",
     "output_type": "stream",
     "text": [
      "    Dataset              T    CV  ML      Acc    b_Acc    Prec    Rec     F1    kap    ROC    tra-T    test-T    Al-Time\n",
      "--  -----------------  ---  ----  ----  -----  -------  ------  -----  -----  -----  -----  -------  --------  ---------\n",
      " 0  A211118-A211108_1    0     1  DT    0.759    0.588   0.581  0.588  0.558   0.74      0    1.33      0.219          0\n",
      " 1  A211118-A211108_1    1     2  DT    0.759    0.588   0.58   0.588  0.557   0.74      0    1.274     0.221          0\n",
      " 2  A211118-A211108_1    2     3  DT    0.759    0.589   0.58   0.589  0.557   0.74      0    1.248     0.289          0\n",
      " 3  A211118-A211108_1    3     4  DT    0.759    0.588   0.579  0.588  0.556   0.74      0    1.28      0.27           0\n",
      " 4  A211118-A211108_1    4     5  DT    0.758    0.588   0.58   0.588  0.557   0.74      0    1.395     0.266          0\n",
      "\n"
     ]
    },
    {
     "name": "stderr",
     "output_type": "stream",
     "text": [
      "\r",
      "  5%|████▏                                                                              | 1/20 [00:45<14:22, 45.38s/it]"
     ]
    },
    {
     "name": "stdout",
     "output_type": "stream",
     "text": [
      "    Dataset              T    CV  ML      Acc    b_Acc    Prec    Rec     F1    kap    ROC    tra-T    test-T    Al-Time\n",
      "--  -----------------  ---  ----  ----  -----  -------  ------  -----  -----  -----  -----  -------  --------  ---------\n",
      " 0  A211118-A211109_1    0     1  DT    0.724      0.6   0.591    0.6  0.571  0.709      0    1.254     0.19           0\n",
      " 1  A211118-A211109_1    1     2  DT    0.724      0.6   0.591    0.6  0.57   0.709      0    1.308     0.205          0\n",
      " 2  A211118-A211109_1    2     3  DT    0.724      0.6   0.592    0.6  0.571  0.709      0    1.195     0.191          0\n",
      " 3  A211118-A211109_1    3     4  DT    0.724      0.6   0.591    0.6  0.57   0.709      0    1.282     0.194          0\n",
      " 4  A211118-A211109_1    4     5  DT    0.724      0.6   0.59     0.6  0.57   0.709      0    1.338     0.21           0\n",
      "\n"
     ]
    },
    {
     "name": "stderr",
     "output_type": "stream",
     "text": [
      "\r",
      " 10%|████████▎                                                                          | 2/20 [01:25<12:41, 42.31s/it]"
     ]
    },
    {
     "name": "stdout",
     "output_type": "stream",
     "text": [
      "    Dataset              T    CV  ML      Acc    b_Acc    Prec    Rec     F1    kap    ROC    tra-T    test-T    Al-Time\n",
      "--  -----------------  ---  ----  ----  -----  -------  ------  -----  -----  -----  -----  -------  --------  ---------\n",
      " 0  A211118-A211115_1    0     1  DT    0.632    0.784   0.775  0.784  0.75   0.616      0    1.254     0.227          0\n",
      " 1  A211118-A211115_1    1     2  DT    0.631    0.784   0.775  0.784  0.751  0.616      0    1.316     0.247          0\n",
      " 2  A211118-A211115_1    2     3  DT    0.632    0.784   0.774  0.784  0.75   0.616      0    1.251     0.235          0\n",
      " 3  A211118-A211115_1    3     4  DT    0.632    0.784   0.776  0.784  0.751  0.616      0    1.357     0.242          0\n",
      " 4  A211118-A211115_1    4     5  DT    0.632    0.784   0.778  0.784  0.752  0.616      0    1.252     0.228          0\n",
      "\n"
     ]
    },
    {
     "name": "stderr",
     "output_type": "stream",
     "text": [
      "\r",
      " 15%|████████████▍                                                                      | 3/20 [02:11<12:23, 43.75s/it]"
     ]
    },
    {
     "name": "stdout",
     "output_type": "stream",
     "text": [
      "    Dataset              T    CV  ML      Acc    b_Acc    Prec    Rec     F1    kap    ROC    tra-T    test-T    Al-Time\n",
      "--  -----------------  ---  ----  ----  -----  -------  ------  -----  -----  -----  -----  -------  --------  ---------\n",
      " 0  A211118-A211116_1    0     1  DT    0.732    0.815   0.797  0.815  0.788  0.716      0    1.312     0.222          0\n",
      " 1  A211118-A211116_1    1     2  DT    0.732    0.815   0.797  0.815  0.788  0.716      0    1.248     0.218          0\n",
      " 2  A211118-A211116_1    2     3  DT    0.732    0.815   0.797  0.815  0.788  0.716      0    1.243     0.213          0\n",
      " 3  A211118-A211116_1    3     4  DT    0.732    0.815   0.797  0.815  0.788  0.716      0    1.36      0.322          0\n",
      " 4  A211118-A211116_1    4     5  DT    0.732    0.815   0.797  0.815  0.787  0.716      0    1.235     0.216          0\n",
      "\n"
     ]
    },
    {
     "name": "stderr",
     "output_type": "stream",
     "text": [
      "\r",
      " 20%|████████████████▌                                                                  | 4/20 [02:55<11:43, 43.98s/it]"
     ]
    },
    {
     "name": "stdout",
     "output_type": "stream",
     "text": [
      "    Dataset              T    CV  ML      Acc    b_Acc    Prec    Rec     F1    kap    ROC    tra-T    test-T    Al-Time\n",
      "--  -----------------  ---  ----  ----  -----  -------  ------  -----  -----  -----  -----  -------  --------  ---------\n",
      " 0  A211118-A211117_1    0     1  DT    0.676     0.77   0.777   0.77  0.744  0.661      0    1.245     0.2            0\n",
      " 1  A211118-A211117_1    1     2  DT    0.676     0.77   0.777   0.77  0.744  0.661      0    1.233     0.201          0\n",
      " 2  A211118-A211117_1    2     3  DT    0.676     0.77   0.776   0.77  0.744  0.661      0    1.292     0.209          0\n",
      " 3  A211118-A211117_1    3     4  DT    0.676     0.77   0.777   0.77  0.744  0.661      0    1.244     0.205          0\n",
      " 4  A211118-A211117_1    4     5  DT    0.676     0.77   0.776   0.77  0.744  0.661      0    1.22      0.209          0\n",
      "\n"
     ]
    },
    {
     "name": "stderr",
     "output_type": "stream",
     "text": [
      "\r",
      " 25%|████████████████████▊                                                              | 5/20 [03:36<10:42, 42.81s/it]"
     ]
    },
    {
     "name": "stdout",
     "output_type": "stream",
     "text": [
      "    Dataset              T    CV  ML      Acc    b_Acc    Prec    Rec     F1    kap    ROC    tra-T    test-T    Al-Time\n",
      "--  -----------------  ---  ----  ----  -----  -------  ------  -----  -----  -----  -----  -------  --------  ---------\n",
      " 0  A211118-A211118_1    0     1  DT    0.926    0.925   0.925  0.925  0.922  0.923      0    1.355     0.159          0\n",
      " 1  A211118-A211118_1    1     2  DT    0.926    0.925   0.925  0.925  0.922  0.923      0    1.348     0.157          0\n",
      " 2  A211118-A211118_1    2     3  DT    0.926    0.925   0.925  0.925  0.922  0.923      0    1.24      0.151          0\n",
      " 3  A211118-A211118_1    3     4  DT    0.926    0.925   0.925  0.925  0.922  0.923      0    1.27      0.153          0\n",
      " 4  A211118-A211118_1    4     5  DT    0.926    0.925   0.925  0.925  0.922  0.923      0    1.256     0.155          0\n",
      "\n"
     ]
    },
    {
     "name": "stderr",
     "output_type": "stream",
     "text": [
      "\r",
      " 30%|████████████████████████▉                                                          | 6/20 [04:11<09:23, 40.26s/it]"
     ]
    },
    {
     "name": "stdout",
     "output_type": "stream",
     "text": [
      "    Dataset              T    CV  ML      Acc    b_Acc    Prec    Rec     F1    kap    ROC    tra-T    test-T    Al-Time\n",
      "--  -----------------  ---  ----  ----  -----  -------  ------  -----  -----  -----  -----  -------  --------  ---------\n",
      " 0  A211118-A211122_1    0     1  DT    0.896    0.85    0.846  0.85   0.836  0.888      0    1.204     0.222          0\n",
      " 1  A211118-A211122_1    1     2  DT    0.875    0.832   0.834  0.832  0.815  0.866      0    1.303     0.183          0\n",
      " 2  A211118-A211122_1    2     3  DT    0.896    0.85    0.847  0.85   0.837  0.888      0    1.21      0.198          0\n",
      " 3  A211118-A211122_1    3     4  DT    0.896    0.85    0.847  0.85   0.837  0.888      0    1.126     0.179          0\n",
      " 4  A211118-A211122_1    4     5  DT    0.896    0.85    0.846  0.85   0.836  0.888      0    1.181     0.171          0\n",
      "\n"
     ]
    },
    {
     "name": "stderr",
     "output_type": "stream",
     "text": [
      "\r",
      " 35%|█████████████████████████████                                                      | 7/20 [04:50<08:40, 40.03s/it]"
     ]
    },
    {
     "name": "stdout",
     "output_type": "stream",
     "text": [
      "    Dataset              T    CV  ML      Acc    b_Acc    Prec    Rec     F1    kap    ROC    tra-T    test-T    Al-Time\n",
      "--  -----------------  ---  ----  ----  -----  -------  ------  -----  -----  -----  -----  -------  --------  ---------\n",
      " 0  A211118-A211123_1    0     1  DT    0.879    0.82    0.836  0.82   0.813  0.87       0    1.237     0.222          0\n",
      " 1  A211118-A211123_1    1     2  DT    0.899    0.837   0.847  0.837  0.834  0.892      0    1.201     0.196          0\n",
      " 2  A211118-A211123_1    2     3  DT    0.899    0.838   0.847  0.838  0.834  0.892      0    1.256     0.191          0\n",
      " 3  A211118-A211123_1    3     4  DT    0.899    0.838   0.847  0.838  0.834  0.892      0    1.29      0.202          0\n",
      " 4  A211118-A211123_1    4     5  DT    0.899    0.838   0.847  0.838  0.834  0.892      0    1.234     0.192          0\n",
      "\n"
     ]
    },
    {
     "name": "stderr",
     "output_type": "stream",
     "text": [
      "\r",
      " 40%|█████████████████████████████████▏                                                 | 8/20 [05:31<08:01, 40.11s/it]"
     ]
    },
    {
     "name": "stdout",
     "output_type": "stream",
     "text": [
      "    Dataset              T    CV  ML      Acc    b_Acc    Prec    Rec     F1    kap    ROC    tra-T    test-T    Al-Time\n",
      "--  -----------------  ---  ----  ----  -----  -------  ------  -----  -----  -----  -----  -------  --------  ---------\n",
      " 0  A211118-A211125_1    0     1  DT    0.811    0.803   0.805  0.803  0.78   0.804      0    1.156     0.173          0\n",
      " 1  A211118-A211125_1    1     2  DT    0.811    0.803   0.804  0.803  0.78   0.803      0    1.338     0.177          0\n",
      " 2  A211118-A211125_1    2     3  DT    0.811    0.803   0.804  0.803  0.779  0.803      0    1.208     0.168          0\n",
      " 3  A211118-A211125_1    3     4  DT    0.811    0.803   0.804  0.803  0.78   0.804      0    1.2       0.162          0\n",
      " 4  A211118-A211125_1    4     5  DT    0.811    0.803   0.804  0.803  0.78   0.804      0    1.296     0.177          0\n",
      "\n"
     ]
    },
    {
     "name": "stderr",
     "output_type": "stream",
     "text": [
      "\r",
      " 45%|█████████████████████████████████████▎                                             | 9/20 [06:08<07:10, 39.13s/it]"
     ]
    },
    {
     "name": "stdout",
     "output_type": "stream",
     "text": [
      "    Dataset              T    CV  ML      Acc    b_Acc    Prec    Rec     F1    kap    ROC    tra-T    test-T    Al-Time\n",
      "--  -----------------  ---  ----  ----  -----  -------  ------  -----  -----  -----  -----  -------  --------  ---------\n",
      " 0  A211118-A211206_1    0     1  DT    0.714    0.562   0.567  0.562  0.54   0.697      0    1.296     0.197          0\n",
      " 1  A211118-A211206_1    1     2  DT    0.714    0.562   0.568  0.562  0.541  0.697      0    1.284     0.191          0\n",
      " 2  A211118-A211206_1    2     3  DT    0.714    0.562   0.568  0.562  0.541  0.697      0    1.392     0.199          0\n",
      " 3  A211118-A211206_1    3     4  DT    0.714    0.562   0.572  0.562  0.544  0.697      0    1.332     0.2            0\n",
      " 4  A211118-A211206_1    4     5  DT    0.714    0.562   0.572  0.562  0.544  0.697      0    1.315     0.201          0\n",
      "\n"
     ]
    },
    {
     "name": "stderr",
     "output_type": "stream",
     "text": [
      "\r",
      " 50%|█████████████████████████████████████████                                         | 10/20 [06:48<06:34, 39.43s/it]"
     ]
    },
    {
     "name": "stdout",
     "output_type": "stream",
     "text": [
      "    Dataset              T    CV  ML      Acc    b_Acc    Prec    Rec     F1    kap    ROC    tra-T    test-T    Al-Time\n",
      "--  -----------------  ---  ----  ----  -----  -------  ------  -----  -----  -----  -----  -------  --------  ---------\n",
      " 0  A211118-A211208_1    0     1  DT    0.769    0.567   0.561  0.567  0.539   0.75      0    1.299     0.185          0\n",
      " 1  A211118-A211208_1    1     2  DT    0.769    0.567   0.56   0.567  0.539   0.75      0    1.209     0.195          0\n",
      " 2  A211118-A211208_1    2     3  DT    0.769    0.566   0.561  0.566  0.539   0.75      0    1.289     0.175          0\n",
      " 3  A211118-A211208_1    3     4  DT    0.769    0.567   0.561  0.567  0.539   0.75      0    1.264     0.171          0\n",
      " 4  A211118-A211208_1    4     5  DT    0.769    0.567   0.561  0.567  0.539   0.75      0    1.367     0.171          0\n",
      "\n"
     ]
    },
    {
     "name": "stderr",
     "output_type": "stream",
     "text": [
      "\r",
      " 55%|█████████████████████████████████████████████                                     | 11/20 [07:25<05:48, 38.77s/it]"
     ]
    },
    {
     "name": "stdout",
     "output_type": "stream",
     "text": [
      "    Dataset              T    CV  ML      Acc    b_Acc    Prec    Rec     F1    kap    ROC    tra-T    test-T    Al-Time\n",
      "--  -----------------  ---  ----  ----  -----  -------  ------  -----  -----  -----  -----  -------  --------  ---------\n",
      " 0  A211118-A211223_1    0     1  DT     0.62    0.589   0.57   0.589  0.545  0.605      0    1.269     0.142          0\n",
      " 1  A211118-A211223_1    1     2  DT     0.62    0.589   0.57   0.589  0.545  0.605      0    1.252     0.172          0\n",
      " 2  A211118-A211223_1    2     3  DT     0.62    0.589   0.57   0.589  0.545  0.605      0    1.386     0.148          0\n",
      " 3  A211118-A211223_1    3     4  DT     0.62    0.589   0.571  0.589  0.545  0.605      0    1.239     0.149          0\n",
      " 4  A211118-A211223_1    4     5  DT     0.62    0.588   0.568  0.588  0.544  0.605      0    1.297     0.148          0\n",
      "\n"
     ]
    },
    {
     "name": "stderr",
     "output_type": "stream",
     "text": [
      "\r",
      " 60%|█████████████████████████████████████████████████▏                                | 12/20 [07:59<04:58, 37.30s/it]"
     ]
    },
    {
     "name": "stdout",
     "output_type": "stream",
     "text": [
      "    Dataset              T    CV  ML      Acc    b_Acc    Prec    Rec     F1    kap    ROC    tra-T    test-T    Al-Time\n",
      "--  -----------------  ---  ----  ----  -----  -------  ------  -----  -----  -----  -----  -------  --------  ---------\n",
      " 0  A211118-A211225_1    0     1  DT    0.629    0.569   0.521  0.569  0.515  0.614      0    1.293     0.171          0\n",
      " 1  A211118-A211225_1    1     2  DT    0.629    0.569   0.52   0.569  0.514  0.614      0    1.257     0.164          0\n",
      " 2  A211118-A211225_1    2     3  DT    0.629    0.569   0.521  0.569  0.515  0.614      0    1.269     0.18           0\n",
      " 3  A211118-A211225_1    3     4  DT    0.603    0.551   0.506  0.551  0.491  0.588      0    1.31      0.166          0\n",
      " 4  A211118-A211225_1    4     5  DT    0.629    0.569   0.522  0.569  0.515  0.614      0    1.217     0.159          0\n",
      "\n"
     ]
    },
    {
     "name": "stderr",
     "output_type": "stream",
     "text": [
      "\r",
      " 65%|█████████████████████████████████████████████████████▎                            | 13/20 [08:36<04:20, 37.14s/it]"
     ]
    },
    {
     "name": "stdout",
     "output_type": "stream",
     "text": [
      "    Dataset              T    CV  ML      Acc    b_Acc    Prec    Rec     F1    kap    ROC    tra-T    test-T    Al-Time\n",
      "--  -----------------  ---  ----  ----  -----  -------  ------  -----  -----  -----  -----  -------  --------  ---------\n",
      " 0  A211118-A211228_1    0     1  DT    0.598    0.556   0.495  0.556  0.48   0.583      0    1.298     0.175          0\n",
      " 1  A211118-A211228_1    1     2  DT    0.598    0.556   0.495  0.556  0.48   0.583      0    1.277     0.157          0\n",
      " 2  A211118-A211228_1    2     3  DT    0.598    0.556   0.498  0.556  0.481  0.583      0    1.317     0.176          0\n",
      " 3  A211118-A211228_1    3     4  DT    0.598    0.556   0.495  0.556  0.48   0.583      0    1.252     0.163          0\n",
      " 4  A211118-A211228_1    4     5  DT    0.598    0.556   0.497  0.556  0.481  0.582      0    1.286     0.184          0\n",
      "\n"
     ]
    },
    {
     "name": "stderr",
     "output_type": "stream",
     "text": [
      "\r",
      " 70%|█████████████████████████████████████████████████████████▍                        | 14/20 [09:13<03:43, 37.17s/it]"
     ]
    },
    {
     "name": "stdout",
     "output_type": "stream",
     "text": [
      "    Dataset              T    CV  ML      Acc    b_Acc    Prec    Rec     F1    kap    ROC    tra-T    test-T    Al-Time\n",
      "--  -----------------  ---  ----  ----  -----  -------  ------  -----  -----  -----  -----  -------  --------  ---------\n",
      " 0  A211118-I211108_1    0     1  DT    0.671    0.588   0.605  0.588  0.561  0.657      0    1.312     0.199          0\n",
      " 1  A211118-I211108_1    1     2  DT    0.671    0.587   0.605  0.587  0.562  0.657      0    1.305     0.21           0\n",
      " 2  A211118-I211108_1    2     3  DT    0.671    0.587   0.605  0.587  0.562  0.657      0    1.301     0.195          0\n",
      " 3  A211118-I211108_1    3     4  DT    0.671    0.587   0.606  0.587  0.563  0.657      0    1.411     0.214          0\n",
      " 4  A211118-I211108_1    4     5  DT    0.671    0.587   0.604  0.587  0.56   0.657      0    1.358     0.207          0\n",
      "\n"
     ]
    },
    {
     "name": "stderr",
     "output_type": "stream",
     "text": [
      "\r",
      " 75%|█████████████████████████████████████████████████████████████▌                    | 15/20 [09:53<03:10, 38.13s/it]"
     ]
    },
    {
     "name": "stdout",
     "output_type": "stream",
     "text": [
      "    Dataset              T    CV  ML      Acc    b_Acc    Prec    Rec     F1    kap    ROC    tra-T    test-T    Al-Time\n",
      "--  -----------------  ---  ----  ----  -----  -------  ------  -----  -----  -----  -----  -------  --------  ---------\n",
      " 0  A211118-I211112_1    0     1  DT    0.758    0.789   0.774  0.789  0.772  0.747      0    1.226     0.237          0\n",
      " 1  A211118-I211112_1    1     2  DT    0.758    0.789   0.787  0.789  0.771  0.747      0    1.345     0.223          0\n",
      " 2  A211118-I211112_1    2     3  DT    0.758    0.789   0.775  0.789  0.772  0.747      0    1.211     0.224          0\n",
      " 3  A211118-I211112_1    3     4  DT    0.758    0.789   0.787  0.789  0.771  0.747      0    1.282     0.222          0\n",
      " 4  A211118-I211112_1    4     5  DT    0.758    0.789   0.766  0.789  0.766  0.747      0    1.346     0.223          0\n",
      "\n"
     ]
    },
    {
     "name": "stderr",
     "output_type": "stream",
     "text": [
      "\r",
      " 80%|█████████████████████████████████████████████████████████████████▌                | 16/20 [10:37<02:38, 39.65s/it]"
     ]
    },
    {
     "name": "stdout",
     "output_type": "stream",
     "text": [
      "    Dataset              T    CV  ML      Acc    b_Acc    Prec    Rec     F1    kap    ROC    tra-T    test-T    Al-Time\n",
      "--  -----------------  ---  ----  ----  -----  -------  ------  -----  -----  -----  -----  -------  --------  ---------\n",
      " 0  A211118-I211115_1    0     1  DT    0.771    0.793   0.793  0.793  0.775  0.763      0    1.293     0.202          0\n",
      " 1  A211118-I211115_1    1     2  DT    0.772    0.793   0.793  0.793  0.775  0.763      0    1.293     0.207          0\n",
      " 2  A211118-I211115_1    2     3  DT    0.771    0.793   0.793  0.793  0.775  0.763      0    1.287     0.218          0\n",
      " 3  A211118-I211115_1    3     4  DT    0.772    0.793   0.793  0.793  0.775  0.763      0    1.273     0.208          0\n",
      " 4  A211118-I211115_1    4     5  DT    0.772    0.793   0.793  0.793  0.775  0.763      0    1.246     0.21           0\n",
      "\n"
     ]
    },
    {
     "name": "stderr",
     "output_type": "stream",
     "text": [
      "\r",
      " 85%|█████████████████████████████████████████████████████████████████████▋            | 17/20 [11:18<02:00, 40.29s/it]"
     ]
    },
    {
     "name": "stdout",
     "output_type": "stream",
     "text": [
      "    Dataset              T    CV  ML      Acc    b_Acc    Prec    Rec    F1    kap    ROC    tra-T    test-T    Al-Time\n",
      "--  -----------------  ---  ----  ----  -----  -------  ------  -----  ----  -----  -----  -------  --------  ---------\n",
      " 0  A211118-I211118_1    0     1  DT    0.884    0.871   0.874  0.871  0.86  0.879      0    1.272     0.208          0\n",
      " 1  A211118-I211118_1    1     2  DT    0.884    0.871   0.875  0.871  0.86  0.879      0    1.254     0.211          0\n",
      " 2  A211118-I211118_1    2     3  DT    0.884    0.871   0.875  0.871  0.86  0.879      0    1.266     0.2            0\n",
      " 3  A211118-I211118_1    3     4  DT    0.884    0.871   0.875  0.871  0.86  0.879      0    1.325     0.214          0\n",
      " 4  A211118-I211118_1    4     5  DT    0.884    0.871   0.875  0.871  0.86  0.879      0    1.282     0.203          0\n",
      "\n"
     ]
    },
    {
     "name": "stderr",
     "output_type": "stream",
     "text": [
      "\r",
      " 90%|█████████████████████████████████████████████████████████████████████████▊        | 18/20 [12:00<01:21, 40.58s/it]"
     ]
    },
    {
     "name": "stdout",
     "output_type": "stream",
     "text": [
      "    Dataset              T    CV  ML      Acc    b_Acc    Prec    Rec     F1    kap    ROC    tra-T    test-T    Al-Time\n",
      "--  -----------------  ---  ----  ----  -----  -------  ------  -----  -----  -----  -----  -------  --------  ---------\n",
      " 0  A211118-I211119_1    0     1  DT    0.872    0.849   0.866  0.849  0.837  0.866      0    1.31      0.209          0\n",
      " 1  A211118-I211119_1    1     2  DT    0.872    0.849   0.866  0.849  0.837  0.866      0    1.285     0.202          0\n",
      " 2  A211118-I211119_1    2     3  DT    0.872    0.849   0.866  0.849  0.837  0.866      0    1.285     0.202          0\n",
      " 3  A211118-I211119_1    3     4  DT    0.872    0.849   0.866  0.849  0.837  0.866      0    1.294     0.217          0\n",
      " 4  A211118-I211119_1    4     5  DT    0.872    0.849   0.866  0.849  0.837  0.866      0    1.372     0.215          0\n",
      "\n"
     ]
    },
    {
     "name": "stderr",
     "output_type": "stream",
     "text": [
      "\r",
      " 95%|█████████████████████████████████████████████████████████████████████████████▉    | 19/20 [12:40<00:40, 40.63s/it]"
     ]
    },
    {
     "name": "stdout",
     "output_type": "stream",
     "text": [
      "    Dataset              T    CV  ML      Acc    b_Acc    Prec    Rec     F1    kap    ROC    tra-T    test-T    Al-Time\n",
      "--  -----------------  ---  ----  ----  -----  -------  ------  -----  -----  -----  -----  -------  --------  ---------\n",
      " 0  A211118-I211122_1    0     1  DT    0.849    0.834   0.847  0.834  0.814  0.842      0    1.326     0.204          0\n",
      " 1  A211118-I211122_1    1     2  DT    0.849    0.833   0.847  0.833  0.814  0.842      0    1.35      0.206          0\n",
      " 2  A211118-I211122_1    2     3  DT    0.877    0.851   0.865  0.851  0.842  0.871      0    1.271     0.199          0\n",
      " 3  A211118-I211122_1    3     4  DT    0.877    0.851   0.865  0.851  0.842  0.872      0    1.294     0.201          0\n",
      " 4  A211118-I211122_1    4     5  DT    0.877    0.851   0.858  0.851  0.837  0.871      0    1.29      0.205          0\n",
      "\n"
     ]
    },
    {
     "name": "stderr",
     "output_type": "stream",
     "text": [
      "100%|██████████████████████████████████████████████████████████████████████████████████| 20/20 [13:22<00:00, 40.13s/it]\n",
      "  0%|                                                                                           | 0/20 [00:00<?, ?it/s]"
     ]
    },
    {
     "name": "stdout",
     "output_type": "stream",
     "text": [
      "    Dataset              T    CV  ML      Acc    b_Acc    Prec    Rec     F1    kap    ROC    tra-T    test-T    Al-Time\n",
      "--  -----------------  ---  ----  ----  -----  -------  ------  -----  -----  -----  -----  -------  --------  ---------\n",
      " 0  A211122-A211108_1    0     1  DT    0.796    0.58    0.603  0.58   0.57   0.779      0    1.642     0.216          0\n",
      " 1  A211122-A211108_1    1     2  DT    0.796    0.579   0.604  0.579  0.57   0.779      0    1.678     0.217          0\n",
      " 2  A211122-A211108_1    2     3  DT    0.796    0.579   0.605  0.579  0.57   0.779      0    1.677     0.23           0\n",
      " 3  A211122-A211108_1    3     4  DT    0.796    0.58    0.604  0.58   0.57   0.779      0    1.569     0.243          0\n",
      " 4  A211122-A211108_1    4     5  DT    0.796    0.579   0.592  0.579  0.561  0.779      0    1.645     0.241          0\n",
      "\n"
     ]
    },
    {
     "name": "stderr",
     "output_type": "stream",
     "text": [
      "\r",
      "  5%|████▏                                                                              | 1/20 [00:48<15:15, 48.20s/it]"
     ]
    },
    {
     "name": "stdout",
     "output_type": "stream",
     "text": [
      "    Dataset              T    CV  ML      Acc    b_Acc    Prec    Rec     F1    kap    ROC    tra-T    test-T    Al-Time\n",
      "--  -----------------  ---  ----  ----  -----  -------  ------  -----  -----  -----  -----  -------  --------  ---------\n",
      " 0  A211122-A211109_1    0     1  DT    0.752    0.587   0.609  0.587  0.577  0.738      0    1.542     0.185          0\n",
      " 1  A211122-A211109_1    1     2  DT    0.752    0.587   0.609  0.587  0.577  0.738      0    1.56      0.182          0\n",
      " 2  A211122-A211109_1    2     3  DT    0.753    0.587   0.61   0.587  0.577  0.739      0    1.61      0.198          0\n",
      " 3  A211122-A211109_1    3     4  DT    0.753    0.587   0.609  0.587  0.577  0.738      0    1.558     0.184          0\n",
      " 4  A211122-A211109_1    4     5  DT    0.752    0.587   0.609  0.587  0.577  0.738      0    1.672     0.187          0\n",
      "\n"
     ]
    },
    {
     "name": "stderr",
     "output_type": "stream",
     "text": [
      "\r",
      " 10%|████████▎                                                                          | 2/20 [01:30<13:29, 44.98s/it]"
     ]
    },
    {
     "name": "stdout",
     "output_type": "stream",
     "text": [
      "    Dataset              T    CV  ML      Acc    b_Acc    Prec    Rec     F1    kap    ROC    tra-T    test-T    Al-Time\n",
      "--  -----------------  ---  ----  ----  -----  -------  ------  -----  -----  -----  -----  -------  --------  ---------\n",
      " 0  A211122-A211115_1    0     1  DT    0.781    0.806   0.797  0.806  0.789  0.765      0    1.483     0.228          0\n",
      " 1  A211122-A211115_1    1     2  DT    0.781    0.806   0.798  0.806  0.79   0.765      0    1.59      0.254          0\n",
      " 2  A211122-A211115_1    2     3  DT    0.781    0.806   0.799  0.806  0.789  0.764      0    1.7       0.255          0\n",
      " 3  A211122-A211115_1    3     4  DT    0.78     0.802   0.797  0.802  0.786  0.764      0    1.608     0.233          0\n",
      " 4  A211122-A211115_1    4     5  DT    0.781    0.806   0.796  0.806  0.789  0.765      0    1.553     0.24           0\n",
      "\n"
     ]
    },
    {
     "name": "stderr",
     "output_type": "stream",
     "text": [
      "\r",
      " 15%|████████████▍                                                                      | 3/20 [02:19<13:12, 46.61s/it]"
     ]
    },
    {
     "name": "stdout",
     "output_type": "stream",
     "text": [
      "    Dataset              T    CV  ML      Acc    b_Acc    Prec    Rec     F1    kap    ROC    tra-T    test-T    Al-Time\n",
      "--  -----------------  ---  ----  ----  -----  -------  ------  -----  -----  -----  -----  -------  --------  ---------\n",
      " 0  A211122-A211116_1    0     1  DT    0.743    0.824   0.803  0.824  0.798  0.727      0    1.59      0.205          0\n",
      " 1  A211122-A211116_1    1     2  DT    0.743    0.824   0.804  0.824  0.799  0.727      0    1.631     0.22           0\n",
      " 2  A211122-A211116_1    2     3  DT    0.743    0.824   0.804  0.824  0.799  0.727      0    1.741     0.253          0\n",
      " 3  A211122-A211116_1    3     4  DT    0.743    0.824   0.804  0.824  0.799  0.727      0    1.595     0.215          0\n",
      " 4  A211122-A211116_1    4     5  DT    0.743    0.824   0.804  0.824  0.799  0.727      0    1.618     0.216          0\n",
      "\n"
     ]
    },
    {
     "name": "stderr",
     "output_type": "stream",
     "text": [
      "\r",
      " 20%|████████████████▌                                                                  | 4/20 [03:07<12:35, 47.19s/it]"
     ]
    },
    {
     "name": "stdout",
     "output_type": "stream",
     "text": [
      "    Dataset              T    CV  ML      Acc    b_Acc    Prec    Rec     F1    kap    ROC    tra-T    test-T    Al-Time\n",
      "--  -----------------  ---  ----  ----  -----  -------  ------  -----  -----  -----  -----  -------  --------  ---------\n",
      " 0  A211122-A211117_1    0     1  DT    0.694    0.785   0.8    0.785  0.774   0.68      0    1.666     0.211          0\n",
      " 1  A211122-A211117_1    1     2  DT    0.694    0.785   0.801  0.785  0.774   0.68      0    1.593     0.197          0\n",
      " 2  A211122-A211117_1    2     3  DT    0.694    0.785   0.801  0.785  0.774   0.68      0    1.715     0.195          0\n",
      " 3  A211122-A211117_1    3     4  DT    0.694    0.785   0.801  0.785  0.774   0.68      0    1.7       0.211          0\n",
      " 4  A211122-A211117_1    4     5  DT    0.694    0.785   0.801  0.785  0.774   0.68      0    1.681     0.195          0\n",
      "\n"
     ]
    },
    {
     "name": "stderr",
     "output_type": "stream",
     "text": [
      "\r",
      " 25%|████████████████████▊                                                              | 5/20 [03:52<11:33, 46.21s/it]"
     ]
    },
    {
     "name": "stdout",
     "output_type": "stream",
     "text": [
      "    Dataset              T    CV  ML      Acc    b_Acc    Prec    Rec     F1    kap    ROC    tra-T    test-T    Al-Time\n",
      "--  -----------------  ---  ----  ----  -----  -------  ------  -----  -----  -----  -----  -------  --------  ---------\n",
      " 0  A211122-A211118_1    0     1  DT    0.87     0.836   0.857  0.836  0.834  0.864      0    1.719     0.158          0\n",
      " 1  A211122-A211118_1    1     2  DT    0.87     0.836   0.858  0.836  0.834  0.864      0    1.589     0.153          0\n",
      " 2  A211122-A211118_1    2     3  DT    0.87     0.836   0.858  0.836  0.834  0.864      0    1.712     0.149          0\n",
      " 3  A211122-A211118_1    3     4  DT    0.869    0.835   0.855  0.835  0.833  0.863      0    1.671     0.148          0\n",
      " 4  A211122-A211118_1    4     5  DT    0.87     0.836   0.858  0.836  0.834  0.864      0    1.699     0.192          0\n",
      "\n"
     ]
    },
    {
     "name": "stderr",
     "output_type": "stream",
     "text": [
      "\r",
      " 30%|████████████████████████▉                                                          | 6/20 [04:30<10:10, 43.60s/it]"
     ]
    },
    {
     "name": "stdout",
     "output_type": "stream",
     "text": [
      "    Dataset              T    CV  ML      Acc    b_Acc    Prec    Rec     F1    kap    ROC    tra-T    test-T    Al-Time\n",
      "--  -----------------  ---  ----  ----  -----  -------  ------  -----  -----  -----  -----  -------  --------  ---------\n",
      " 0  A211122-A211122_1    0     1  DT    0.946    0.921   0.923  0.921  0.921  0.943      0    1.602     0.187          0\n",
      " 1  A211122-A211122_1    1     2  DT    0.946    0.921   0.923  0.921  0.921  0.943      0    1.724     0.2            0\n",
      " 2  A211122-A211122_1    2     3  DT    0.946    0.921   0.923  0.921  0.921  0.943      0    1.567     0.192          0\n",
      " 3  A211122-A211122_1    3     4  DT    0.946    0.921   0.923  0.921  0.921  0.943      0    1.518     0.187          0\n",
      " 4  A211122-A211122_1    4     5  DT    0.946    0.921   0.923  0.921  0.921  0.943      0    1.538     0.204          0\n",
      "\n"
     ]
    },
    {
     "name": "stderr",
     "output_type": "stream",
     "text": [
      "\r",
      " 35%|█████████████████████████████                                                      | 7/20 [05:15<09:31, 43.94s/it]"
     ]
    },
    {
     "name": "stdout",
     "output_type": "stream",
     "text": [
      "    Dataset              T    CV  ML      Acc    b_Acc    Prec    Rec     F1    kap    ROC    tra-T    test-T    Al-Time\n",
      "--  -----------------  ---  ----  ----  -----  -------  ------  -----  -----  -----  -----  -------  --------  ---------\n",
      " 0  A211122-A211123_1    0     1  DT    0.909    0.851   0.88   0.851  0.854  0.902      0    1.564     0.198          0\n",
      " 1  A211122-A211123_1    1     2  DT    0.909    0.851   0.879  0.851  0.854  0.902      0    1.575     0.199          0\n",
      " 2  A211122-A211123_1    2     3  DT    0.909    0.851   0.879  0.851  0.854  0.902      0    1.671     0.228          0\n",
      " 3  A211122-A211123_1    3     4  DT    0.909    0.851   0.879  0.851  0.854  0.902      0    1.637     0.195          0\n",
      " 4  A211122-A211123_1    4     5  DT    0.909    0.851   0.879  0.851  0.854  0.902      0    1.691     0.195          0\n",
      "\n"
     ]
    },
    {
     "name": "stderr",
     "output_type": "stream",
     "text": [
      "\r",
      " 40%|█████████████████████████████████▏                                                 | 8/20 [06:00<08:52, 44.41s/it]"
     ]
    },
    {
     "name": "stdout",
     "output_type": "stream",
     "text": [
      "    Dataset              T    CV  ML      Acc    b_Acc    Prec    Rec     F1    kap    ROC    tra-T    test-T    Al-Time\n",
      "--  -----------------  ---  ----  ----  -----  -------  ------  -----  -----  -----  -----  -------  --------  ---------\n",
      " 0  A211122-A211125_1    0     1  DT    0.844    0.819   0.831  0.819  0.816  0.837      0    1.635     0.176          0\n",
      " 1  A211122-A211125_1    1     2  DT    0.844    0.819   0.831  0.819  0.816  0.838      0    1.688     0.175          0\n",
      " 2  A211122-A211125_1    2     3  DT    0.844    0.819   0.832  0.819  0.816  0.837      0    1.649     0.177          0\n",
      " 3  A211122-A211125_1    3     4  DT    0.845    0.82    0.833  0.82   0.817  0.838      0    1.727     0.172          0\n",
      " 4  A211122-A211125_1    4     5  DT    0.845    0.82    0.833  0.82   0.817  0.838      0    1.668     0.168          0\n",
      "\n"
     ]
    },
    {
     "name": "stderr",
     "output_type": "stream",
     "text": [
      "\r",
      " 45%|█████████████████████████████████████▎                                             | 9/20 [06:42<07:58, 43.48s/it]"
     ]
    },
    {
     "name": "stdout",
     "output_type": "stream",
     "text": [
      "    Dataset              T    CV  ML      Acc    b_Acc    Prec    Rec     F1    kap    ROC    tra-T    test-T    Al-Time\n",
      "--  -----------------  ---  ----  ----  -----  -------  ------  -----  -----  -----  -----  -------  --------  ---------\n",
      " 0  A211122-A211206_1    0     1  DT    0.736    0.567   0.586  0.567  0.559   0.72      0    1.817     0.203          0\n",
      " 1  A211122-A211206_1    1     2  DT    0.736    0.566   0.586  0.566  0.558   0.72      0    1.568     0.196          0\n",
      " 2  A211122-A211206_1    2     3  DT    0.736    0.566   0.586  0.566  0.559   0.72      0    1.717     0.195          0\n",
      " 3  A211122-A211206_1    3     4  DT    0.736    0.567   0.586  0.567  0.559   0.72      0    1.585     0.207          0\n",
      " 4  A211122-A211206_1    4     5  DT    0.736    0.567   0.585  0.567  0.559   0.72      0    1.581     0.192          0\n",
      "\n"
     ]
    },
    {
     "name": "stderr",
     "output_type": "stream",
     "text": [
      "\r",
      " 50%|█████████████████████████████████████████                                         | 10/20 [07:25<07:14, 43.43s/it]"
     ]
    },
    {
     "name": "stdout",
     "output_type": "stream",
     "text": [
      "    Dataset              T    CV  ML      Acc    b_Acc    Prec    Rec     F1    kap    ROC    tra-T    test-T    Al-Time\n",
      "--  -----------------  ---  ----  ----  -----  -------  ------  -----  -----  -----  -----  -------  --------  ---------\n",
      " 0  A211122-A211208_1    0     1  DT    0.778    0.563   0.567  0.563  0.546  0.759      0    1.669     0.172          0\n",
      " 1  A211122-A211208_1    1     2  DT    0.778    0.564   0.566  0.564  0.546  0.759      0    1.644     0.218          0\n",
      " 2  A211122-A211208_1    2     3  DT    0.778    0.564   0.566  0.564  0.546  0.759      0    1.619     0.176          0\n",
      " 3  A211122-A211208_1    3     4  DT    0.778    0.563   0.565  0.563  0.545  0.759      0    1.655     0.171          0\n",
      " 4  A211122-A211208_1    4     5  DT    0.778    0.563   0.567  0.563  0.546  0.759      0    1.763     0.197          0\n",
      "\n"
     ]
    },
    {
     "name": "stderr",
     "output_type": "stream",
     "text": [
      "\r",
      " 55%|█████████████████████████████████████████████                                     | 11/20 [08:06<06:24, 42.73s/it]"
     ]
    },
    {
     "name": "stdout",
     "output_type": "stream",
     "text": [
      "    Dataset              T    CV  ML      Acc    b_Acc    Prec    Rec     F1    kap    ROC    tra-T    test-T    Al-Time\n",
      "--  -----------------  ---  ----  ----  -----  -------  ------  -----  -----  -----  -----  -------  --------  ---------\n",
      " 0  A211122-A211223_1    0     1  DT    0.601    0.564   0.555  0.564  0.525  0.585      0    1.679     0.141          0\n",
      " 1  A211122-A211223_1    1     2  DT    0.601    0.564   0.555  0.564  0.525  0.585      0    1.694     0.146          0\n",
      " 2  A211122-A211223_1    2     3  DT    0.6      0.564   0.554  0.564  0.525  0.585      0    1.635     0.149          0\n",
      " 3  A211122-A211223_1    3     4  DT    0.601    0.564   0.554  0.564  0.525  0.585      0    1.599     0.145          0\n",
      " 4  A211122-A211223_1    4     5  DT    0.601    0.564   0.555  0.564  0.525  0.585      0    1.702     0.145          0\n",
      "\n"
     ]
    },
    {
     "name": "stderr",
     "output_type": "stream",
     "text": [
      "\r",
      " 60%|█████████████████████████████████████████████████▏                                | 12/20 [08:44<05:29, 41.17s/it]"
     ]
    },
    {
     "name": "stdout",
     "output_type": "stream",
     "text": [
      "    Dataset              T    CV  ML      Acc    b_Acc    Prec    Rec     F1    kap    ROC    tra-T    test-T    Al-Time\n",
      "--  -----------------  ---  ----  ----  -----  -------  ------  -----  -----  -----  -----  -------  --------  ---------\n",
      " 0  A211122-A211225_1    0     1  DT     0.63    0.559   0.551  0.559  0.525  0.615      0    1.657     0.159          0\n",
      " 1  A211122-A211225_1    1     2  DT     0.63    0.559   0.55   0.559  0.524  0.615      0    1.693     0.172          0\n",
      " 2  A211122-A211225_1    2     3  DT     0.63    0.559   0.546  0.559  0.522  0.615      0    1.697     0.162          0\n",
      " 3  A211122-A211225_1    3     4  DT     0.63    0.559   0.546  0.559  0.523  0.615      0    1.751     0.162          0\n",
      " 4  A211122-A211225_1    4     5  DT     0.63    0.559   0.55   0.559  0.525  0.615      0    1.749     0.179          0\n",
      "\n"
     ]
    },
    {
     "name": "stderr",
     "output_type": "stream",
     "text": [
      "\r",
      " 65%|█████████████████████████████████████████████████████▎                            | 13/20 [09:25<04:48, 41.20s/it]"
     ]
    },
    {
     "name": "stdout",
     "output_type": "stream",
     "text": [
      "    Dataset              T    CV  ML      Acc    b_Acc    Prec    Rec     F1    kap    ROC    tra-T    test-T    Al-Time\n",
      "--  -----------------  ---  ----  ----  -----  -------  ------  -----  -----  -----  -----  -------  --------  ---------\n",
      " 0  A211122-A211228_1    0     1  DT    0.608    0.563   0.532  0.563  0.507  0.592      0    1.534     0.16           0\n",
      " 1  A211122-A211228_1    1     2  DT    0.608    0.563   0.543  0.563  0.514  0.592      0    1.605     0.18           0\n",
      " 2  A211122-A211228_1    2     3  DT    0.608    0.563   0.543  0.563  0.514  0.592      0    1.61      0.172          0\n",
      " 3  A211122-A211228_1    3     4  DT    0.608    0.563   0.533  0.563  0.507  0.593      0    1.707     0.181          0\n",
      " 4  A211122-A211228_1    4     5  DT    0.608    0.563   0.533  0.563  0.507  0.592      0    1.715     0.177          0\n",
      "\n"
     ]
    },
    {
     "name": "stderr",
     "output_type": "stream",
     "text": [
      "\r",
      " 70%|█████████████████████████████████████████████████████████▍                        | 14/20 [10:06<04:07, 41.17s/it]"
     ]
    },
    {
     "name": "stdout",
     "output_type": "stream",
     "text": [
      "    Dataset              T    CV  ML      Acc    b_Acc    Prec    Rec     F1    kap    ROC    tra-T    test-T    Al-Time\n",
      "--  -----------------  ---  ----  ----  -----  -------  ------  -----  -----  -----  -----  -------  --------  ---------\n",
      " 0  A211122-I211108_1    0     1  DT     0.65    0.563   0.582  0.563  0.541  0.635      0    1.546     0.184          0\n",
      " 1  A211122-I211108_1    1     2  DT     0.65    0.562   0.581  0.562  0.54   0.635      0    1.566     0.185          0\n",
      " 2  A211122-I211108_1    2     3  DT     0.65    0.563   0.582  0.563  0.54   0.635      0    1.618     0.199          0\n",
      " 3  A211122-I211108_1    3     4  DT     0.65    0.562   0.576  0.562  0.534  0.635      0    1.552     0.201          0\n",
      " 4  A211122-I211108_1    4     5  DT     0.65    0.563   0.582  0.563  0.541  0.635      0    1.548     0.201          0\n",
      "\n"
     ]
    },
    {
     "name": "stderr",
     "output_type": "stream",
     "text": [
      "\r",
      " 75%|█████████████████████████████████████████████████████████████▌                    | 15/20 [10:49<03:28, 41.72s/it]"
     ]
    },
    {
     "name": "stdout",
     "output_type": "stream",
     "text": [
      "    Dataset              T    CV  ML      Acc    b_Acc    Prec    Rec     F1    kap    ROC    tra-T    test-T    Al-Time\n",
      "--  -----------------  ---  ----  ----  -----  -------  ------  -----  -----  -----  -----  -------  --------  ---------\n",
      " 0  A211122-I211112_1    0     1  DT    0.748    0.743   0.766  0.743  0.731  0.736      0    1.563     0.225          0\n",
      " 1  A211122-I211112_1    1     2  DT    0.748    0.743   0.762  0.743  0.729  0.736      0    1.563     0.216          0\n",
      " 2  A211122-I211112_1    2     3  DT    0.747    0.742   0.765  0.742  0.73   0.736      0    1.664     0.231          0\n",
      " 3  A211122-I211112_1    3     4  DT    0.748    0.743   0.765  0.743  0.731  0.736      0    1.496     0.228          0\n",
      " 4  A211122-I211112_1    4     5  DT    0.748    0.743   0.763  0.743  0.729  0.736      0    1.539     0.216          0\n",
      "\n"
     ]
    },
    {
     "name": "stderr",
     "output_type": "stream",
     "text": [
      "\r",
      " 80%|█████████████████████████████████████████████████████████████████▌                | 16/20 [11:34<02:51, 42.81s/it]"
     ]
    },
    {
     "name": "stdout",
     "output_type": "stream",
     "text": [
      "    Dataset              T    CV  ML      Acc    b_Acc    Prec    Rec     F1    kap    ROC    tra-T    test-T    Al-Time\n",
      "--  -----------------  ---  ----  ----  -----  -------  ------  -----  -----  -----  -----  -------  --------  ---------\n",
      " 0  A211122-I211115_1    0     1  DT    0.779    0.803   0.799  0.803  0.789   0.77      0    1.635     0.208          0\n",
      " 1  A211122-I211115_1    1     2  DT    0.778    0.802   0.799  0.802  0.788   0.77      0    1.538     0.203          0\n",
      " 2  A211122-I211115_1    2     3  DT    0.779    0.803   0.799  0.803  0.788   0.77      0    1.6       0.19           0\n",
      " 3  A211122-I211115_1    3     4  DT    0.779    0.803   0.799  0.803  0.788   0.77      0    1.653     0.216          0\n",
      " 4  A211122-I211115_1    4     5  DT    0.779    0.803   0.8    0.803  0.789   0.77      0    1.648     0.224          0\n",
      "\n"
     ]
    },
    {
     "name": "stderr",
     "output_type": "stream",
     "text": [
      "\r",
      " 85%|█████████████████████████████████████████████████████████████████████▋            | 17/20 [12:19<02:09, 43.23s/it]"
     ]
    },
    {
     "name": "stdout",
     "output_type": "stream",
     "text": [
      "    Dataset              T    CV  ML      Acc    b_Acc    Prec    Rec     F1    kap    ROC    tra-T    test-T    Al-Time\n",
      "--  -----------------  ---  ----  ----  -----  -------  ------  -----  -----  -----  -----  -------  --------  ---------\n",
      " 0  A211122-I211118_1    0     1  DT    0.867    0.835   0.863  0.835  0.831  0.861      0    1.673     0.25           0\n",
      " 1  A211122-I211118_1    1     2  DT    0.867    0.835   0.863  0.835  0.831  0.861      0    1.482     0.196          0\n",
      " 2  A211122-I211118_1    2     3  DT    0.867    0.835   0.863  0.835  0.831  0.861      0    1.47      0.198          0\n",
      " 3  A211122-I211118_1    3     4  DT    0.867    0.835   0.863  0.835  0.831  0.861      0    1.599     0.196          0\n",
      " 4  A211122-I211118_1    4     5  DT    0.867    0.835   0.863  0.835  0.831  0.861      0    1.561     0.207          0\n",
      "\n"
     ]
    },
    {
     "name": "stderr",
     "output_type": "stream",
     "text": [
      "\r",
      " 90%|█████████████████████████████████████████████████████████████████████████▊        | 18/20 [13:02<01:26, 43.22s/it]"
     ]
    },
    {
     "name": "stdout",
     "output_type": "stream",
     "text": [
      "    Dataset              T    CV  ML      Acc    b_Acc    Prec    Rec     F1    kap    ROC    tra-T    test-T    Al-Time\n",
      "--  -----------------  ---  ----  ----  -----  -------  ------  -----  -----  -----  -----  -------  --------  ---------\n",
      " 0  A211122-I211119_1    0     1  DT    0.864    0.844   0.857  0.844  0.838  0.858      0    1.578     0.218          0\n",
      " 1  A211122-I211119_1    1     2  DT    0.864    0.844   0.856  0.844  0.838  0.858      0    1.593     0.199          0\n",
      " 2  A211122-I211119_1    2     3  DT    0.864    0.844   0.857  0.844  0.838  0.858      0    1.508     0.206          0\n",
      " 3  A211122-I211119_1    3     4  DT    0.865    0.844   0.86   0.844  0.84   0.859      0    1.509     0.202          0\n",
      " 4  A211122-I211119_1    4     5  DT    0.864    0.844   0.857  0.844  0.838  0.858      0    1.543     0.217          0\n",
      "\n"
     ]
    },
    {
     "name": "stderr",
     "output_type": "stream",
     "text": [
      "\r",
      " 95%|█████████████████████████████████████████████████████████████████████████████▉    | 19/20 [13:44<00:42, 42.96s/it]"
     ]
    },
    {
     "name": "stdout",
     "output_type": "stream",
     "text": [
      "    Dataset              T    CV  ML      Acc    b_Acc    Prec    Rec     F1    kap    ROC    tra-T    test-T    Al-Time\n",
      "--  -----------------  ---  ----  ----  -----  -------  ------  -----  -----  -----  -----  -------  --------  ---------\n",
      " 0  A211122-I211122_1    0     1  DT    0.896    0.887   0.893  0.887  0.888  0.891      0    1.522     0.196          0\n",
      " 1  A211122-I211122_1    1     2  DT    0.896    0.887   0.893  0.887  0.888  0.891      0    1.643     0.195          0\n",
      " 2  A211122-I211122_1    2     3  DT    0.896    0.887   0.893  0.887  0.888  0.891      0    1.498     0.21           0\n",
      " 3  A211122-I211122_1    3     4  DT    0.896    0.887   0.893  0.887  0.888  0.891      0    1.449     0.189          0\n",
      " 4  A211122-I211122_1    4     5  DT    0.896    0.887   0.893  0.887  0.888  0.891      0    1.353     0.139          0\n",
      "\n"
     ]
    },
    {
     "name": "stderr",
     "output_type": "stream",
     "text": [
      "100%|██████████████████████████████████████████████████████████████████████████████████| 20/20 [14:27<00:00, 43.36s/it]\n",
      "  0%|                                                                                           | 0/20 [00:00<?, ?it/s]"
     ]
    },
    {
     "name": "stdout",
     "output_type": "stream",
     "text": [
      "    Dataset              T    CV  ML      Acc    b_Acc    Prec    Rec     F1    kap    ROC    tra-T    test-T    Al-Time\n",
      "--  -----------------  ---  ----  ----  -----  -------  ------  -----  -----  -----  -----  -------  --------  ---------\n",
      " 0  A211123-A211108_1    0     1  DT    0.748    0.566   0.564  0.566  0.535  0.729      0    1.618     0.227          0\n",
      " 1  A211123-A211108_1    1     2  DT    0.748    0.565   0.564  0.565  0.534  0.728      0    1.652     0.241          0\n",
      " 2  A211123-A211108_1    2     3  DT    0.748    0.566   0.564  0.566  0.535  0.728      0    1.646     0.226          0\n",
      " 3  A211123-A211108_1    3     4  DT    0.748    0.565   0.578  0.565  0.546  0.726      0    1.626     0.226          0\n",
      " 4  A211123-A211108_1    4     5  DT    0.748    0.565   0.564  0.565  0.535  0.728      0    1.73      0.223          0\n",
      "\n"
     ]
    },
    {
     "name": "stderr",
     "output_type": "stream",
     "text": [
      "\r",
      "  5%|████▏                                                                              | 1/20 [00:48<15:16, 48.22s/it]"
     ]
    },
    {
     "name": "stdout",
     "output_type": "stream",
     "text": [
      "    Dataset              T    CV  ML      Acc    b_Acc    Prec    Rec     F1    kap    ROC    tra-T    test-T    Al-Time\n",
      "--  -----------------  ---  ----  ----  -----  -------  ------  -----  -----  -----  -----  -------  --------  ---------\n",
      " 0  A211123-A211109_1    0     1  DT    0.714     0.58   0.58    0.58  0.551  0.699      0    1.649     0.188          0\n",
      " 1  A211123-A211109_1    1     2  DT    0.714     0.58   0.584   0.58  0.552  0.699      0    1.527     0.173          0\n",
      " 2  A211123-A211109_1    2     3  DT    0.714     0.58   0.58    0.58  0.551  0.699      0    1.56      0.185          0\n",
      " 3  A211123-A211109_1    3     4  DT    0.714     0.58   0.595   0.58  0.561  0.698      0    1.462     0.168          0\n",
      " 4  A211123-A211109_1    4     5  DT    0.714     0.58   0.595   0.58  0.561  0.698      0    1.299     0.186          0\n",
      "\n"
     ]
    },
    {
     "name": "stderr",
     "output_type": "stream",
     "text": [
      "\r",
      " 10%|████████▎                                                                          | 2/20 [01:29<13:10, 43.91s/it]"
     ]
    },
    {
     "name": "stdout",
     "output_type": "stream",
     "text": [
      "    Dataset              T    CV  ML      Acc    b_Acc    Prec    Rec     F1    kap    ROC    tra-T    test-T    Al-Time\n",
      "--  -----------------  ---  ----  ----  -----  -------  ------  -----  -----  -----  -----  -------  --------  ---------\n",
      " 0  A211123-A211115_1    0     1  DT    0.641    0.793   0.782  0.793  0.761  0.626      0    1.437     0.151          0\n",
      " 1  A211123-A211115_1    1     2  DT    0.641    0.793   0.776  0.793  0.758  0.625      0    1.374     0.217          0\n",
      " 2  A211123-A211115_1    2     3  DT    0.641    0.793   0.777  0.793  0.76   0.626      0    1.607     0.237          0\n",
      " 3  A211123-A211115_1    3     4  DT    0.641    0.793   0.779  0.793  0.76   0.626      0    1.482     0.2            0\n",
      " 4  A211123-A211115_1    4     5  DT    0.641    0.793   0.777  0.793  0.759  0.626      0    1.438     0.216          0\n",
      "\n"
     ]
    },
    {
     "name": "stderr",
     "output_type": "stream",
     "text": [
      "\r",
      " 15%|████████████▍                                                                      | 3/20 [02:13<12:27, 44.00s/it]"
     ]
    },
    {
     "name": "stdout",
     "output_type": "stream",
     "text": [
      "    Dataset              T    CV  ML      Acc    b_Acc    Prec    Rec     F1    kap    ROC    tra-T    test-T    Al-Time\n",
      "--  -----------------  ---  ----  ----  -----  -------  ------  -----  -----  -----  -----  -------  --------  ---------\n",
      " 0  A211123-A211116_1    0     1  DT    0.742     0.81   0.794   0.81  0.789  0.726      0    1.516     0.212          0\n",
      " 1  A211123-A211116_1    1     2  DT    0.742     0.81   0.801   0.81  0.794  0.726      0    1.543     0.203          0\n",
      " 2  A211123-A211116_1    2     3  DT    0.742     0.81   0.802   0.81  0.794  0.726      0    1.616     0.224          0\n",
      " 3  A211123-A211116_1    3     4  DT    0.742     0.81   0.793   0.81  0.788  0.726      0    1.519     0.205          0\n",
      " 4  A211123-A211116_1    4     5  DT    0.742     0.81   0.794   0.81  0.789  0.726      0    1.558     0.207          0\n",
      "\n"
     ]
    },
    {
     "name": "stderr",
     "output_type": "stream",
     "text": [
      "\r",
      " 20%|████████████████▌                                                                  | 4/20 [02:57<11:45, 44.11s/it]"
     ]
    },
    {
     "name": "stdout",
     "output_type": "stream",
     "text": [
      "    Dataset              T    CV  ML      Acc    b_Acc    Prec    Rec     F1    kap    ROC    tra-T    test-T    Al-Time\n",
      "--  -----------------  ---  ----  ----  -----  -------  ------  -----  -----  -----  -----  -------  --------  ---------\n",
      " 0  A211123-A211117_1    0     1  DT    0.696    0.795   0.786  0.795  0.765  0.684      0    1.595     0.199          0\n",
      " 1  A211123-A211117_1    1     2  DT    0.696    0.795   0.785  0.795  0.764  0.684      0    1.54      0.201          0\n",
      " 2  A211123-A211117_1    2     3  DT    0.697    0.796   0.788  0.796  0.765  0.685      0    1.625     0.19           0\n",
      " 3  A211123-A211117_1    3     4  DT    0.696    0.795   0.785  0.795  0.764  0.684      0    1.475     0.183          0\n",
      " 4  A211123-A211117_1    4     5  DT    0.697    0.795   0.79   0.795  0.767  0.684      0    1.532     0.188          0\n",
      "\n"
     ]
    },
    {
     "name": "stderr",
     "output_type": "stream",
     "text": [
      "\r",
      " 25%|████████████████████▊                                                              | 5/20 [03:37<10:41, 42.76s/it]"
     ]
    },
    {
     "name": "stdout",
     "output_type": "stream",
     "text": [
      "    Dataset              T    CV  ML      Acc    b_Acc    Prec    Rec     F1    kap    ROC    tra-T    test-T    Al-Time\n",
      "--  -----------------  ---  ----  ----  -----  -------  ------  -----  -----  -----  -----  -------  --------  ---------\n",
      " 0  A211123-A211118_1    0     1  DT    0.868    0.826   0.845  0.826  0.825  0.862      0    1.641     0.16           0\n",
      " 1  A211123-A211118_1    1     2  DT    0.868    0.826   0.845  0.826  0.825  0.862      0    1.518     0.143          0\n",
      " 2  A211123-A211118_1    2     3  DT    0.868    0.826   0.845  0.826  0.825  0.862      0    1.55      0.141          0\n",
      " 3  A211123-A211118_1    3     4  DT    0.868    0.826   0.845  0.826  0.825  0.862      0    1.612     0.151          0\n",
      " 4  A211123-A211118_1    4     5  DT    0.868    0.826   0.845  0.826  0.825  0.862      0    1.521     0.149          0\n",
      "\n"
     ]
    },
    {
     "name": "stderr",
     "output_type": "stream",
     "text": [
      "\r",
      " 30%|████████████████████████▉                                                          | 6/20 [04:14<09:28, 40.61s/it]"
     ]
    },
    {
     "name": "stdout",
     "output_type": "stream",
     "text": [
      "    Dataset              T    CV  ML      Acc    b_Acc    Prec    Rec     F1    kap    ROC    tra-T    test-T    Al-Time\n",
      "--  -----------------  ---  ----  ----  -----  -------  ------  -----  -----  -----  -----  -------  --------  ---------\n",
      " 0  A211123-A211122_1    0     1  DT    0.906    0.858   0.866  0.858  0.852  0.899      0    1.578     0.18           0\n",
      " 1  A211123-A211122_1    1     2  DT    0.906    0.858   0.88   0.858  0.861  0.899      0    1.663     0.211          0\n",
      " 2  A211123-A211122_1    2     3  DT    0.906    0.858   0.88   0.858  0.861  0.899      0    1.52      0.195          0\n",
      " 3  A211123-A211122_1    3     4  DT    0.906    0.858   0.881  0.858  0.862  0.899      0    1.564     0.187          0\n",
      " 4  A211123-A211122_1    4     5  DT    0.906    0.858   0.867  0.858  0.852  0.899      0    1.594     0.2            0\n",
      "\n"
     ]
    },
    {
     "name": "stderr",
     "output_type": "stream",
     "text": [
      "\r",
      " 35%|█████████████████████████████                                                      | 7/20 [04:56<08:55, 41.20s/it]"
     ]
    },
    {
     "name": "stdout",
     "output_type": "stream",
     "text": [
      "    Dataset              T    CV  ML      Acc    b_Acc    Prec    Rec    F1    kap    ROC    tra-T    test-T    Al-Time\n",
      "--  -----------------  ---  ----  ----  -----  -------  ------  -----  ----  -----  -----  -------  --------  ---------\n",
      " 0  A211123-A211123_1    0     1  DT    0.945    0.922   0.924  0.922  0.92  0.942      0    1.507     0.186          0\n",
      " 1  A211123-A211123_1    1     2  DT    0.945    0.922   0.924  0.922  0.92  0.942      0    1.555     0.227          0\n",
      " 2  A211123-A211123_1    2     3  DT    0.945    0.922   0.924  0.922  0.92  0.942      0    1.502     0.188          0\n",
      " 3  A211123-A211123_1    3     4  DT    0.945    0.922   0.924  0.922  0.92  0.942      0    1.524     0.178          0\n",
      " 4  A211123-A211123_1    4     5  DT    0.945    0.922   0.924  0.922  0.92  0.942      0    1.592     0.203          0\n",
      "\n"
     ]
    },
    {
     "name": "stderr",
     "output_type": "stream",
     "text": [
      "\r",
      " 40%|█████████████████████████████████▏                                                 | 8/20 [05:38<08:18, 41.51s/it]"
     ]
    },
    {
     "name": "stdout",
     "output_type": "stream",
     "text": [
      "    Dataset              T    CV  ML      Acc    b_Acc    Prec    Rec     F1    kap    ROC    tra-T    test-T    Al-Time\n",
      "--  -----------------  ---  ----  ----  -----  -------  ------  -----  -----  -----  -----  -------  --------  ---------\n",
      " 0  A211123-A211125_1    0     1  DT    0.842    0.822   0.821  0.822  0.812  0.835      0    1.536     0.152          0\n",
      " 1  A211123-A211125_1    1     2  DT    0.842    0.823   0.822  0.823  0.813  0.835      0    1.57      0.172          0\n",
      " 2  A211123-A211125_1    2     3  DT    0.841    0.822   0.82   0.822  0.811  0.835      0    1.629     0.189          0\n",
      " 3  A211123-A211125_1    3     4  DT    0.841    0.822   0.821  0.822  0.812  0.835      0    1.526     0.17           0\n",
      " 4  A211123-A211125_1    4     5  DT    0.842    0.823   0.819  0.823  0.81   0.836      0    1.611     0.154          0\n",
      "\n"
     ]
    },
    {
     "name": "stderr",
     "output_type": "stream",
     "text": [
      "\r",
      " 45%|█████████████████████████████████████▎                                             | 9/20 [06:18<07:28, 40.79s/it]"
     ]
    },
    {
     "name": "stdout",
     "output_type": "stream",
     "text": [
      "    Dataset              T    CV  ML      Acc    b_Acc    Prec    Rec     F1    kap    ROC    tra-T    test-T    Al-Time\n",
      "--  -----------------  ---  ----  ----  -----  -------  ------  -----  -----  -----  -----  -------  --------  ---------\n",
      " 0  A211123-A211206_1    0     1  DT    0.722    0.559   0.574  0.559  0.541  0.706      0    1.584     0.186          0\n",
      " 1  A211123-A211206_1    1     2  DT    0.722    0.559   0.584  0.559  0.548  0.705      0    1.538     0.186          0\n",
      " 2  A211123-A211206_1    2     3  DT    0.722    0.559   0.574  0.559  0.541  0.706      0    1.621     0.178          0\n",
      " 3  A211123-A211206_1    3     4  DT    0.722    0.559   0.574  0.559  0.54   0.706      0    1.641     0.193          0\n",
      " 4  A211123-A211206_1    4     5  DT    0.722    0.559   0.584  0.559  0.548  0.706      0    1.466     0.183          0\n",
      "\n"
     ]
    },
    {
     "name": "stderr",
     "output_type": "stream",
     "text": [
      "\r",
      " 50%|█████████████████████████████████████████                                         | 10/20 [06:58<06:46, 40.62s/it]"
     ]
    },
    {
     "name": "stdout",
     "output_type": "stream",
     "text": [
      "    Dataset              T    CV  ML      Acc    b_Acc    Prec    Rec     F1    kap    ROC    tra-T    test-T    Al-Time\n",
      "--  -----------------  ---  ----  ----  -----  -------  ------  -----  -----  -----  -----  -------  --------  ---------\n",
      " 0  A211123-A211208_1    0     1  DT    0.789    0.582   0.569  0.582  0.553  0.771      0    1.519     0.164          0\n",
      " 1  A211123-A211208_1    1     2  DT    0.789    0.582   0.576  0.582  0.558  0.771      0    1.456     0.16           0\n",
      " 2  A211123-A211208_1    2     3  DT    0.789    0.582   0.581  0.582  0.561  0.77       0    1.446     0.155          0\n",
      " 3  A211123-A211208_1    3     4  DT    0.789    0.582   0.581  0.582  0.561  0.77       0    1.453     0.154          0\n",
      " 4  A211123-A211208_1    4     5  DT    0.789    0.582   0.574  0.582  0.556  0.771      0    1.543     0.17           0\n",
      "\n"
     ]
    },
    {
     "name": "stderr",
     "output_type": "stream",
     "text": [
      "\r",
      " 55%|█████████████████████████████████████████████                                     | 11/20 [07:34<05:54, 39.35s/it]"
     ]
    },
    {
     "name": "stdout",
     "output_type": "stream",
     "text": [
      "    Dataset              T    CV  ML      Acc    b_Acc    Prec    Rec     F1    kap    ROC    tra-T    test-T    Al-Time\n",
      "--  -----------------  ---  ----  ----  -----  -------  ------  -----  -----  -----  -----  -------  --------  ---------\n",
      " 0  A211123-A211223_1    0     1  DT    0.601    0.565   0.542  0.565  0.514  0.587      0    1.519     0.129          0\n",
      " 1  A211123-A211223_1    1     2  DT    0.601    0.565   0.542  0.565  0.514  0.587      0    1.584     0.138          0\n",
      " 2  A211123-A211223_1    2     3  DT    0.601    0.565   0.542  0.565  0.518  0.587      0    1.562     0.131          0\n",
      " 3  A211123-A211223_1    3     4  DT    0.601    0.565   0.542  0.565  0.515  0.587      0    1.492     0.135          0\n",
      " 4  A211123-A211223_1    4     5  DT    0.601    0.565   0.542  0.565  0.514  0.587      0    1.472     0.137          0\n",
      "\n"
     ]
    },
    {
     "name": "stderr",
     "output_type": "stream",
     "text": [
      "\r",
      " 60%|█████████████████████████████████████████████████▏                                | 12/20 [08:08<05:01, 37.73s/it]"
     ]
    },
    {
     "name": "stdout",
     "output_type": "stream",
     "text": [
      "    Dataset              T    CV  ML      Acc    b_Acc    Prec    Rec     F1    kap    ROC    tra-T    test-T    Al-Time\n",
      "--  -----------------  ---  ----  ----  -----  -------  ------  -----  -----  -----  -----  -------  --------  ---------\n",
      " 0  A211123-A211225_1    0     1  DT    0.617    0.553   0.536  0.553  0.505  0.603      0    1.5       0.141          0\n",
      " 1  A211123-A211225_1    1     2  DT    0.615    0.551   0.523  0.551  0.504  0.601      0    1.477     0.159          0\n",
      " 2  A211123-A211225_1    2     3  DT    0.617    0.553   0.532  0.553  0.502  0.603      0    1.529     0.146          0\n",
      " 3  A211123-A211225_1    3     4  DT    0.615    0.551   0.521  0.551  0.502  0.601      0    1.669     0.164          0\n",
      " 4  A211123-A211225_1    4     5  DT    0.615    0.551   0.523  0.551  0.503  0.601      0    1.452     0.146          0\n",
      "\n"
     ]
    },
    {
     "name": "stderr",
     "output_type": "stream",
     "text": [
      "\r",
      " 65%|█████████████████████████████████████████████████████▎                            | 13/20 [08:45<04:22, 37.46s/it]"
     ]
    },
    {
     "name": "stdout",
     "output_type": "stream",
     "text": [
      "    Dataset              T    CV  ML      Acc    b_Acc    Prec    Rec     F1    kap    ROC    tra-T    test-T    Al-Time\n",
      "--  -----------------  ---  ----  ----  -----  -------  ------  -----  -----  -----  -----  -------  --------  ---------\n",
      " 0  A211123-A211228_1    0     1  DT    0.6      0.557   0.528  0.557  0.501  0.586      0    1.515     0.161          0\n",
      " 1  A211123-A211228_1    1     2  DT    0.603    0.557   0.537  0.557  0.501  0.588      0    1.492     0.155          0\n",
      " 2  A211123-A211228_1    2     3  DT    0.602    0.557   0.533  0.557  0.498  0.588      0    1.495     0.164          0\n",
      " 3  A211123-A211228_1    3     4  DT    0.603    0.557   0.52   0.557  0.488  0.588      0    1.457     0.166          0\n",
      " 4  A211123-A211228_1    4     5  DT    0.601    0.557   0.514  0.557  0.49   0.586      0    1.531     0.247          0\n",
      "\n"
     ]
    },
    {
     "name": "stderr",
     "output_type": "stream",
     "text": [
      "\r",
      " 70%|█████████████████████████████████████████████████████████▍                        | 14/20 [09:23<03:45, 37.51s/it]"
     ]
    },
    {
     "name": "stdout",
     "output_type": "stream",
     "text": [
      "    Dataset              T    CV  ML      Acc    b_Acc    Prec    Rec    F1    kap    ROC    tra-T    test-T    Al-Time\n",
      "--  -----------------  ---  ----  ----  -----  -------  ------  -----  ----  -----  -----  -------  --------  ---------\n",
      " 0  A211123-I211108_1    0     1  DT    0.653    0.573   0.582  0.573  0.54  0.639      0    1.49      0.177          0\n",
      " 1  A211123-I211108_1    1     2  DT    0.653    0.573   0.582  0.573  0.54  0.639      0    1.649     0.202          0\n",
      " 2  A211123-I211108_1    2     3  DT    0.653    0.573   0.582  0.573  0.54  0.639      0    1.469     0.178          0\n",
      " 3  A211123-I211108_1    3     4  DT    0.653    0.573   0.582  0.573  0.54  0.639      0    1.477     0.185          0\n",
      " 4  A211123-I211108_1    4     5  DT    0.653    0.573   0.582  0.573  0.54  0.639      0    1.516     0.181          0\n",
      "\n"
     ]
    },
    {
     "name": "stderr",
     "output_type": "stream",
     "text": [
      "\r",
      " 75%|█████████████████████████████████████████████████████████████▌                    | 15/20 [10:03<03:11, 38.25s/it]"
     ]
    },
    {
     "name": "stdout",
     "output_type": "stream",
     "text": [
      "    Dataset              T    CV  ML      Acc    b_Acc    Prec    Rec    F1    kap    ROC    tra-T    test-T    Al-Time\n",
      "--  -----------------  ---  ----  ----  -----  -------  ------  -----  ----  -----  -----  -------  --------  ---------\n",
      " 0  A211123-I211112_1    0     1  DT    0.843    0.786   0.791  0.786  0.78  0.836      0    1.542     0.256          0\n",
      " 1  A211123-I211112_1    1     2  DT    0.843    0.786   0.791  0.786  0.78  0.836      0    1.428     0.217          0\n",
      " 2  A211123-I211112_1    2     3  DT    0.843    0.786   0.791  0.786  0.78  0.836      0    1.576     0.228          0\n",
      " 3  A211123-I211112_1    3     4  DT    0.843    0.786   0.791  0.786  0.78  0.836      0    1.457     0.231          0\n",
      " 4  A211123-I211112_1    4     5  DT    0.843    0.786   0.791  0.786  0.78  0.836      0    1.553     0.228          0\n",
      "\n"
     ]
    },
    {
     "name": "stderr",
     "output_type": "stream",
     "text": [
      "\r",
      " 80%|█████████████████████████████████████████████████████████████████▌                | 16/20 [10:46<02:39, 39.77s/it]"
     ]
    },
    {
     "name": "stdout",
     "output_type": "stream",
     "text": [
      "    Dataset              T    CV  ML      Acc    b_Acc    Prec    Rec    F1    kap    ROC    tra-T    test-T    Al-Time\n",
      "--  -----------------  ---  ----  ----  -----  -------  ------  -----  ----  -----  -----  -------  --------  ---------\n",
      " 0  A211123-I211115_1    0     1  DT    0.784    0.822   0.809  0.822   0.8  0.776      0    1.498     0.198          0\n",
      " 1  A211123-I211115_1    1     2  DT    0.784    0.822   0.809  0.822   0.8  0.776      0    1.474     0.184          0\n",
      " 2  A211123-I211115_1    2     3  DT    0.784    0.822   0.808  0.822   0.8  0.776      0    1.55      0.195          0\n",
      " 3  A211123-I211115_1    3     4  DT    0.784    0.822   0.809  0.822   0.8  0.776      0    1.558     0.2            0\n",
      " 4  A211123-I211115_1    4     5  DT    0.784    0.822   0.808  0.822   0.8  0.776      0    1.495     0.181          0\n",
      "\n"
     ]
    },
    {
     "name": "stderr",
     "output_type": "stream",
     "text": [
      "\r",
      " 85%|█████████████████████████████████████████████████████████████████████▋            | 17/20 [11:27<02:00, 40.16s/it]"
     ]
    },
    {
     "name": "stdout",
     "output_type": "stream",
     "text": [
      "    Dataset              T    CV  ML      Acc    b_Acc    Prec    Rec     F1    kap    ROC    tra-T    test-T    Al-Time\n",
      "--  -----------------  ---  ----  ----  -----  -------  ------  -----  -----  -----  -----  -------  --------  ---------\n",
      " 0  A211123-I211118_1    0     1  DT    0.866    0.833   0.847  0.833  0.824   0.86      0    1.425     0.181          0\n",
      " 1  A211123-I211118_1    1     2  DT    0.866    0.833   0.847  0.833  0.824   0.86      0    1.458     0.192          0\n",
      " 2  A211123-I211118_1    2     3  DT    0.866    0.833   0.847  0.833  0.824   0.86      0    1.531     0.216          0\n",
      " 3  A211123-I211118_1    3     4  DT    0.866    0.833   0.847  0.833  0.824   0.86      0    1.444     0.187          0\n",
      " 4  A211123-I211118_1    4     5  DT    0.866    0.833   0.846  0.833  0.823   0.86      0    1.468     0.197          0\n",
      "\n"
     ]
    },
    {
     "name": "stderr",
     "output_type": "stream",
     "text": [
      "\r",
      " 90%|█████████████████████████████████████████████████████████████████████████▊        | 18/20 [12:07<01:20, 40.16s/it]"
     ]
    },
    {
     "name": "stdout",
     "output_type": "stream",
     "text": [
      "    Dataset              T    CV  ML      Acc    b_Acc    Prec    Rec     F1    kap    ROC    tra-T    test-T    Al-Time\n",
      "--  -----------------  ---  ----  ----  -----  -------  ------  -----  -----  -----  -----  -------  --------  ---------\n",
      " 0  A211123-I211119_1    0     1  DT    0.865    0.848   0.847  0.848  0.828  0.859      0    1.57      0.189          0\n",
      " 1  A211123-I211119_1    1     2  DT    0.865    0.848   0.847  0.848  0.828  0.859      0    1.42      0.183          0\n",
      " 2  A211123-I211119_1    2     3  DT    0.865    0.848   0.847  0.848  0.828  0.859      0    1.474     0.181          0\n",
      " 3  A211123-I211119_1    3     4  DT    0.865    0.848   0.845  0.848  0.827  0.859      0    1.572     0.201          0\n",
      " 4  A211123-I211119_1    4     5  DT    0.865    0.848   0.847  0.848  0.828  0.859      0    1.47      0.181          0\n",
      "\n"
     ]
    },
    {
     "name": "stderr",
     "output_type": "stream",
     "text": [
      "\r",
      " 95%|█████████████████████████████████████████████████████████████████████████████▉    | 19/20 [12:46<00:39, 39.80s/it]"
     ]
    },
    {
     "name": "stdout",
     "output_type": "stream",
     "text": [
      "    Dataset              T    CV  ML      Acc    b_Acc    Prec    Rec     F1    kap    ROC    tra-T    test-T    Al-Time\n",
      "--  -----------------  ---  ----  ----  -----  -------  ------  -----  -----  -----  -----  -------  --------  ---------\n",
      " 0  A211123-I211122_1    0     1  DT    0.892    0.879   0.873  0.879  0.869  0.888      0    1.597     0.189          0\n",
      " 1  A211123-I211122_1    1     2  DT    0.892    0.879   0.873  0.879  0.869  0.888      0    1.428     0.188          0\n",
      " 2  A211123-I211122_1    2     3  DT    0.892    0.879   0.873  0.879  0.869  0.888      0    1.48      0.18           0\n",
      " 3  A211123-I211122_1    3     4  DT    0.892    0.879   0.873  0.879  0.869  0.888      0    1.482     0.18           0\n",
      " 4  A211123-I211122_1    4     5  DT    0.892    0.879   0.873  0.879  0.869  0.888      0    1.434     0.192          0\n",
      "\n"
     ]
    },
    {
     "name": "stderr",
     "output_type": "stream",
     "text": [
      "100%|██████████████████████████████████████████████████████████████████████████████████| 20/20 [13:26<00:00, 40.31s/it]\n",
      "  0%|                                                                                           | 0/20 [00:00<?, ?it/s]"
     ]
    },
    {
     "name": "stdout",
     "output_type": "stream",
     "text": [
      "    Dataset              T    CV  ML      Acc    b_Acc    Prec    Rec     F1    kap    ROC    tra-T    test-T    Al-Time\n",
      "--  -----------------  ---  ----  ----  -----  -------  ------  -----  -----  -----  -----  -------  --------  ---------\n",
      " 0  A211125-A211108_1    0     1  DT    0.803    0.603   0.596  0.603  0.58   0.788      0    1.495     0.217          0\n",
      " 1  A211125-A211108_1    1     2  DT    0.786    0.586   0.593  0.586  0.559  0.769      0    1.429     0.191          0\n",
      " 2  A211125-A211108_1    2     3  DT    0.803    0.603   0.6    0.603  0.584  0.787      0    1.409     0.183          0\n",
      " 3  A211125-A211108_1    3     4  DT    0.785    0.585   0.583  0.585  0.564  0.768      0    1.451     0.197          0\n",
      " 4  A211125-A211108_1    4     5  DT    0.804    0.603   0.608  0.603  0.58   0.788      0    1.47      0.2            0\n",
      "\n"
     ]
    },
    {
     "name": "stderr",
     "output_type": "stream",
     "text": [
      "\r",
      "  5%|████▏                                                                              | 1/20 [00:41<13:01, 41.13s/it]"
     ]
    },
    {
     "name": "stdout",
     "output_type": "stream",
     "text": [
      "    Dataset              T    CV  ML      Acc    b_Acc    Prec    Rec     F1    kap    ROC    tra-T    test-T    Al-Time\n",
      "--  -----------------  ---  ----  ----  -----  -------  ------  -----  -----  -----  -----  -------  --------  ---------\n",
      " 0  A211125-A211109_1    0     1  DT    0.76     0.61    0.605  0.61   0.59   0.747      0    1.42      0.165          0\n",
      " 1  A211125-A211109_1    1     2  DT    0.761    0.611   0.62   0.611  0.59   0.748      0    1.459     0.187          0\n",
      " 2  A211125-A211109_1    2     3  DT    0.741    0.593   0.603  0.593  0.569  0.726      0    1.396     0.165          0\n",
      " 3  A211125-A211109_1    3     4  DT    0.762    0.611   0.62   0.611  0.591  0.748      0    1.483     0.172          0\n",
      " 4  A211125-A211109_1    4     5  DT    0.761    0.611   0.621  0.611  0.59   0.748      0    1.443     0.185          0\n",
      "\n"
     ]
    },
    {
     "name": "stderr",
     "output_type": "stream",
     "text": [
      "\r",
      " 10%|████████▎                                                                          | 2/20 [01:18<11:41, 38.95s/it]"
     ]
    },
    {
     "name": "stdout",
     "output_type": "stream",
     "text": [
      "    Dataset              T    CV  ML      Acc    b_Acc    Prec    Rec     F1    kap    ROC    tra-T    test-T    Al-Time\n",
      "--  -----------------  ---  ----  ----  -----  -------  ------  -----  -----  -----  -----  -------  --------  ---------\n",
      " 0  A211125-A211115_1    0     1  DT    0.781    0.822   0.795  0.822  0.79   0.765      0    1.425     0.209          0\n",
      " 1  A211125-A211115_1    1     2  DT    0.763    0.804   0.782  0.804  0.769  0.746      0    1.499     0.214          0\n",
      " 2  A211125-A211115_1    2     3  DT    0.78     0.821   0.783  0.821  0.79   0.764      0    1.585     0.229          0\n",
      " 3  A211125-A211115_1    3     4  DT    0.763    0.804   0.773  0.804  0.769  0.746      0    1.396     0.207          0\n",
      " 4  A211125-A211115_1    4     5  DT    0.781    0.822   0.795  0.822  0.79   0.765      0    1.459     0.205          0\n",
      "\n"
     ]
    },
    {
     "name": "stderr",
     "output_type": "stream",
     "text": [
      "\r",
      " 15%|████████████▍                                                                      | 3/20 [02:00<11:22, 40.13s/it]"
     ]
    },
    {
     "name": "stdout",
     "output_type": "stream",
     "text": [
      "    Dataset              T    CV  ML      Acc    b_Acc    Prec    Rec     F1    kap    ROC    tra-T    test-T    Al-Time\n",
      "--  -----------------  ---  ----  ----  -----  -------  ------  -----  -----  -----  -----  -------  --------  ---------\n",
      " 0  A211125-A211116_1    0     1  DT    0.724    0.796   0.783  0.796  0.773  0.707      0    1.423     0.184          0\n",
      " 1  A211125-A211116_1    1     2  DT    0.742    0.813   0.794  0.813  0.792  0.726      0    1.571     0.22           0\n",
      " 2  A211125-A211116_1    2     3  DT    0.742    0.813   0.794  0.813  0.792  0.726      0    1.457     0.188          0\n",
      " 3  A211125-A211116_1    3     4  DT    0.724    0.796   0.783  0.796  0.773  0.707      0    1.527     0.195          0\n",
      " 4  A211125-A211116_1    4     5  DT    0.725    0.797   0.796  0.797  0.773  0.708      0    1.436     0.194          0\n",
      "\n"
     ]
    },
    {
     "name": "stderr",
     "output_type": "stream",
     "text": [
      "\r",
      " 20%|████████████████▌                                                                  | 4/20 [02:41<10:47, 40.44s/it]"
     ]
    },
    {
     "name": "stdout",
     "output_type": "stream",
     "text": [
      "    Dataset              T    CV  ML      Acc    b_Acc    Prec    Rec     F1    kap    ROC    tra-T    test-T    Al-Time\n",
      "--  -----------------  ---  ----  ----  -----  -------  ------  -----  -----  -----  -----  -------  --------  ---------\n",
      " 0  A211125-A211117_1    0     1  DT    0.696    0.801   0.814  0.801  0.779  0.683      0    1.516     0.203          0\n",
      " 1  A211125-A211117_1    1     2  DT    0.696    0.801   0.813  0.801  0.779  0.682      0    1.376     0.172          0\n",
      " 2  A211125-A211117_1    2     3  DT    0.696    0.801   0.814  0.801  0.779  0.682      0    1.511     0.185          0\n",
      " 3  A211125-A211117_1    3     4  DT    0.696    0.801   0.814  0.801  0.779  0.682      0    1.438     0.178          0\n",
      " 4  A211125-A211117_1    4     5  DT    0.696    0.801   0.814  0.801  0.779  0.682      0    1.458     0.182          0\n",
      "\n"
     ]
    },
    {
     "name": "stderr",
     "output_type": "stream",
     "text": [
      "\r",
      " 25%|████████████████████▊                                                              | 5/20 [03:19<09:54, 39.64s/it]"
     ]
    },
    {
     "name": "stdout",
     "output_type": "stream",
     "text": [
      "    Dataset              T    CV  ML      Acc    b_Acc    Prec    Rec     F1    kap    ROC    tra-T    test-T    Al-Time\n",
      "--  -----------------  ---  ----  ----  -----  -------  ------  -----  -----  -----  -----  -------  --------  ---------\n",
      " 0  A211125-A211118_1    0     1  DT    0.843    0.812   0.836  0.812  0.801  0.836      0    1.412     0.158          0\n",
      " 1  A211125-A211118_1    1     2  DT    0.843    0.812   0.838  0.812  0.801  0.836      0    1.395     0.136          0\n",
      " 2  A211125-A211118_1    2     3  DT    0.87     0.83    0.854  0.83   0.828  0.865      0    1.442     0.145          0\n",
      " 3  A211125-A211118_1    3     4  DT    0.843    0.812   0.836  0.812  0.801  0.836      0    1.44      0.145          0\n",
      " 4  A211125-A211118_1    4     5  DT    0.843    0.812   0.836  0.812  0.801  0.836      0    1.448     0.14           0\n",
      "\n"
     ]
    },
    {
     "name": "stderr",
     "output_type": "stream",
     "text": [
      "\r",
      " 30%|████████████████████████▉                                                          | 6/20 [03:52<08:45, 37.53s/it]"
     ]
    },
    {
     "name": "stdout",
     "output_type": "stream",
     "text": [
      "    Dataset              T    CV  ML      Acc    b_Acc    Prec    Rec     F1    kap    ROC    tra-T    test-T    Al-Time\n",
      "--  -----------------  ---  ----  ----  -----  -------  ------  -----  -----  -----  -----  -------  --------  ---------\n",
      " 0  A211125-A211122_1    0     1  DT    0.912    0.856   0.869  0.856  0.852  0.906      0    1.403     0.182          0\n",
      " 1  A211125-A211122_1    1     2  DT    0.892    0.838   0.857  0.838  0.83   0.884      0    1.412     0.182          0\n",
      " 2  A211125-A211122_1    2     3  DT    0.912    0.855   0.869  0.855  0.852  0.906      0    1.538     0.214          0\n",
      " 3  A211125-A211122_1    3     4  DT    0.892    0.838   0.857  0.838  0.83   0.884      0    1.434     0.17           0\n",
      " 4  A211125-A211122_1    4     5  DT    0.912    0.856   0.869  0.856  0.852  0.906      0    1.436     0.175          0\n",
      "\n"
     ]
    },
    {
     "name": "stderr",
     "output_type": "stream",
     "text": [
      "\r",
      " 35%|█████████████████████████████                                                      | 7/20 [04:30<08:10, 37.74s/it]"
     ]
    },
    {
     "name": "stdout",
     "output_type": "stream",
     "text": [
      "    Dataset              T    CV  ML      Acc    b_Acc    Prec    Rec     F1    kap    ROC    tra-T    test-T    Al-Time\n",
      "--  -----------------  ---  ----  ----  -----  -------  ------  -----  -----  -----  -----  -------  --------  ---------\n",
      " 0  A211125-A211123_1    0     1  DT    0.914    0.863   0.872  0.863  0.857  0.909      0    1.497     0.183          0\n",
      " 1  A211125-A211123_1    1     2  DT    0.914    0.863   0.871  0.863  0.857  0.909      0    1.527     0.204          0\n",
      " 2  A211125-A211123_1    2     3  DT    0.914    0.863   0.871  0.863  0.857  0.909      0    1.429     0.183          0\n",
      " 3  A211125-A211123_1    3     4  DT    0.914    0.863   0.871  0.863  0.857  0.909      0    1.451     0.179          0\n",
      " 4  A211125-A211123_1    4     5  DT    0.914    0.863   0.872  0.863  0.857  0.909      0    1.535     0.229          0\n",
      "\n"
     ]
    },
    {
     "name": "stderr",
     "output_type": "stream",
     "text": [
      "\r",
      " 40%|█████████████████████████████████▏                                                 | 8/20 [05:10<07:39, 38.26s/it]"
     ]
    },
    {
     "name": "stdout",
     "output_type": "stream",
     "text": [
      "    Dataset              T    CV  ML      Acc    b_Acc    Prec    Rec     F1    kap    ROC    tra-T    test-T    Al-Time\n",
      "--  -----------------  ---  ----  ----  -----  -------  ------  -----  -----  -----  -----  -------  --------  ---------\n",
      " 0  A211125-A211125_1    0     1  DT    0.934    0.921   0.922  0.921  0.919  0.931      0    1.466     0.16           0\n",
      " 1  A211125-A211125_1    1     2  DT    0.934    0.921   0.922  0.921  0.919  0.931      0    1.562     0.174          0\n",
      " 2  A211125-A211125_1    2     3  DT    0.934    0.921   0.922  0.921  0.919  0.931      0    1.493     0.16           0\n",
      " 3  A211125-A211125_1    3     4  DT    0.934    0.921   0.922  0.921  0.919  0.931      0    1.477     0.162          0\n",
      " 4  A211125-A211125_1    4     5  DT    0.934    0.921   0.922  0.921  0.919  0.931      0    1.49      0.157          0\n",
      "\n"
     ]
    },
    {
     "name": "stderr",
     "output_type": "stream",
     "text": [
      "\r",
      " 45%|█████████████████████████████████████▎                                             | 9/20 [05:46<06:53, 37.62s/it]"
     ]
    },
    {
     "name": "stdout",
     "output_type": "stream",
     "text": [
      "    Dataset              T    CV  ML      Acc    b_Acc    Prec    Rec     F1    kap    ROC    tra-T    test-T    Al-Time\n",
      "--  -----------------  ---  ----  ----  -----  -------  ------  -----  -----  -----  -----  -------  --------  ---------\n",
      " 0  A211125-A211206_1    0     1  DT    0.749    0.577   0.603  0.577  0.569  0.734      0    1.425     0.179          0\n",
      " 1  A211125-A211206_1    1     2  DT    0.728    0.56    0.585  0.56   0.544  0.712      0    1.509     0.182          0\n",
      " 2  A211125-A211206_1    2     3  DT    0.749    0.577   0.602  0.577  0.568  0.734      0    1.548     0.179          0\n",
      " 3  A211125-A211206_1    3     4  DT    0.728    0.56    0.595  0.56   0.55   0.712      0    1.55      0.179          0\n",
      " 4  A211125-A211206_1    4     5  DT    0.749    0.577   0.604  0.577  0.57   0.734      0    1.513     0.178          0\n",
      "\n"
     ]
    },
    {
     "name": "stderr",
     "output_type": "stream",
     "text": [
      "\r",
      " 50%|█████████████████████████████████████████                                         | 10/20 [06:25<06:19, 37.95s/it]"
     ]
    },
    {
     "name": "stdout",
     "output_type": "stream",
     "text": [
      "    Dataset              T    CV  ML      Acc    b_Acc    Prec    Rec     F1    kap    ROC    tra-T    test-T    Al-Time\n",
      "--  -----------------  ---  ----  ----  -----  -------  ------  -----  -----  -----  -----  -------  --------  ---------\n",
      " 0  A211125-A211208_1    0     1  DT    0.807    0.599   0.591  0.599  0.573  0.79       0    1.578     0.193          0\n",
      " 1  A211125-A211208_1    1     2  DT    0.807    0.599   0.591  0.599  0.573  0.79       0    1.533     0.161          0\n",
      " 2  A211125-A211208_1    2     3  DT    0.807    0.6     0.591  0.6    0.574  0.79       0    1.566     0.166          0\n",
      " 3  A211125-A211208_1    3     4  DT    0.807    0.6     0.591  0.6    0.573  0.79       0    1.604     0.195          0\n",
      " 4  A211125-A211208_1    4     5  DT    0.792    0.578   0.569  0.578  0.552  0.774      0    1.561     0.161          0\n",
      "\n"
     ]
    },
    {
     "name": "stderr",
     "output_type": "stream",
     "text": [
      "\r",
      " 55%|█████████████████████████████████████████████                                     | 11/20 [07:02<05:39, 37.74s/it]"
     ]
    },
    {
     "name": "stdout",
     "output_type": "stream",
     "text": [
      "    Dataset              T    CV  ML      Acc    b_Acc    Prec    Rec     F1    kap    ROC    tra-T    test-T    Al-Time\n",
      "--  -----------------  ---  ----  ----  -----  -------  ------  -----  -----  -----  -----  -------  --------  ---------\n",
      " 0  A211125-A211223_1    0     1  DT    0.571    0.552   0.523  0.552  0.493  0.555      0    1.591     0.149          0\n",
      " 1  A211125-A211223_1    1     2  DT    0.6      0.57    0.544  0.57   0.519  0.585      0    1.525     0.136          0\n",
      " 2  A211125-A211223_1    2     3  DT    0.6      0.57    0.542  0.57   0.519  0.585      0    1.559     0.139          0\n",
      " 3  A211125-A211223_1    3     4  DT    0.571    0.552   0.522  0.552  0.493  0.555      0    1.595     0.134          0\n",
      " 4  A211125-A211223_1    4     5  DT    0.597    0.568   0.54   0.568  0.515  0.581      0    1.531     0.132          0\n",
      "\n"
     ]
    },
    {
     "name": "stderr",
     "output_type": "stream",
     "text": [
      "\r",
      " 60%|█████████████████████████████████████████████████▏                                | 12/20 [07:36<04:53, 36.63s/it]"
     ]
    },
    {
     "name": "stdout",
     "output_type": "stream",
     "text": [
      "    Dataset              T    CV  ML      Acc    b_Acc    Prec    Rec     F1    kap    ROC    tra-T    test-T    Al-Time\n",
      "--  -----------------  ---  ----  ----  -----  -------  ------  -----  -----  -----  -----  -------  --------  ---------\n",
      " 0  A211125-A211225_1    0     1  DT    0.629    0.561   0.558  0.561  0.522  0.614      0    1.558     0.149          0\n",
      " 1  A211125-A211225_1    1     2  DT    0.607    0.545   0.538  0.545  0.5    0.591      0    1.541     0.157          0\n",
      " 2  A211125-A211225_1    2     3  DT    0.632    0.563   0.564  0.563  0.525  0.617      0    1.49      0.15           0\n",
      " 3  A211125-A211225_1    3     4  DT    0.606    0.545   0.542  0.545  0.502  0.591      0    1.6       0.162          0\n",
      " 4  A211125-A211225_1    4     5  DT    0.606    0.545   0.542  0.545  0.502  0.591      0    1.49      0.158          0\n",
      "\n"
     ]
    },
    {
     "name": "stderr",
     "output_type": "stream",
     "text": [
      "\r",
      " 65%|█████████████████████████████████████████████████████▎                            | 13/20 [08:12<04:15, 36.50s/it]"
     ]
    },
    {
     "name": "stdout",
     "output_type": "stream",
     "text": [
      "    Dataset              T    CV  ML      Acc    b_Acc    Prec    Rec     F1    kap    ROC    tra-T    test-T    Al-Time\n",
      "--  -----------------  ---  ----  ----  -----  -------  ------  -----  -----  -----  -----  -------  --------  ---------\n",
      " 0  A211125-A211228_1    0     1  DT    0.629    0.577   0.553  0.577  0.526  0.614      0    1.606     0.165          0\n",
      " 1  A211125-A211228_1    1     2  DT    0.632    0.581   0.558  0.581  0.531  0.617      0    1.553     0.172          0\n",
      " 2  A211125-A211228_1    2     3  DT    0.629    0.577   0.554  0.577  0.527  0.614      0    1.55      0.161          0\n",
      " 3  A211125-A211228_1    3     4  DT    0.629    0.577   0.553  0.577  0.527  0.614      0    1.619     0.196          0\n",
      " 4  A211125-A211228_1    4     5  DT    0.605    0.559   0.542  0.559  0.503  0.589      0    1.527     0.164          0\n",
      "\n"
     ]
    },
    {
     "name": "stderr",
     "output_type": "stream",
     "text": [
      "\r",
      " 70%|█████████████████████████████████████████████████████████▍                        | 14/20 [08:49<03:40, 36.70s/it]"
     ]
    },
    {
     "name": "stdout",
     "output_type": "stream",
     "text": [
      "    Dataset              T    CV  ML      Acc    b_Acc    Prec    Rec     F1    kap    ROC    tra-T    test-T    Al-Time\n",
      "--  -----------------  ---  ----  ----  -----  -------  ------  -----  -----  -----  -----  -------  --------  ---------\n",
      " 0  A211125-I211108_1    0     1  DT    0.668    0.596   0.601  0.596  0.562  0.654      0    1.639     0.198          0\n",
      " 1  A211125-I211108_1    1     2  DT    0.639    0.578   0.578  0.578  0.535  0.624      0    1.485     0.176          0\n",
      " 2  A211125-I211108_1    2     3  DT    0.666    0.595   0.586  0.595  0.562  0.652      0    1.574     0.183          0\n",
      " 3  A211125-I211108_1    3     4  DT    0.666    0.595   0.586  0.595  0.562  0.652      0    1.533     0.183          0\n",
      " 4  A211125-I211108_1    4     5  DT    0.668    0.595   0.601  0.595  0.562  0.654      0    1.474     0.19           0\n",
      "\n"
     ]
    },
    {
     "name": "stderr",
     "output_type": "stream",
     "text": [
      "\r",
      " 75%|█████████████████████████████████████████████████████████████▌                    | 15/20 [09:30<03:09, 37.82s/it]"
     ]
    },
    {
     "name": "stdout",
     "output_type": "stream",
     "text": [
      "    Dataset              T    CV  ML      Acc    b_Acc    Prec    Rec     F1    kap    ROC    tra-T    test-T    Al-Time\n",
      "--  -----------------  ---  ----  ----  -----  -------  ------  -----  -----  -----  -----  -------  --------  ---------\n",
      " 0  A211125-I211112_1    0     1  DT    0.733    0.75    0.738  0.75   0.724  0.721      0    1.47      0.206          0\n",
      " 1  A211125-I211112_1    1     2  DT    0.759    0.768   0.758  0.768  0.75   0.748      0    1.485     0.201          0\n",
      " 2  A211125-I211112_1    2     3  DT    0.76     0.768   0.758  0.768  0.752  0.749      0    1.588     0.206          0\n",
      " 3  A211125-I211112_1    3     4  DT    0.735    0.751   0.743  0.751  0.723  0.723      0    1.461     0.204          0\n",
      " 4  A211125-I211112_1    4     5  DT    0.733    0.75    0.738  0.75   0.724  0.721      0    1.543     0.215          0\n",
      "\n"
     ]
    },
    {
     "name": "stderr",
     "output_type": "stream",
     "text": [
      "\r",
      " 80%|█████████████████████████████████████████████████████████████████▌                | 16/20 [10:12<02:36, 39.05s/it]"
     ]
    },
    {
     "name": "stdout",
     "output_type": "stream",
     "text": [
      "    Dataset              T    CV  ML      Acc    b_Acc    Prec    Rec     F1    kap    ROC    tra-T    test-T    Al-Time\n",
      "--  -----------------  ---  ----  ----  -----  -------  ------  -----  -----  -----  -----  -------  --------  ---------\n",
      " 0  A211125-I211115_1    0     1  DT    0.749    0.802   0.782  0.802  0.758  0.74       0    1.489     0.189          0\n",
      " 1  A211125-I211115_1    1     2  DT    0.777    0.82    0.8    0.82   0.785  0.768      0    1.576     0.209          0\n",
      " 2  A211125-I211115_1    2     3  DT    0.777    0.82    0.799  0.82   0.785  0.768      0    1.527     0.182          0\n",
      " 3  A211125-I211115_1    3     4  DT    0.777    0.82    0.799  0.82   0.785  0.768      0    1.591     0.191          0\n",
      " 4  A211125-I211115_1    4     5  DT    0.777    0.82    0.799  0.82   0.785  0.768      0    1.556     0.189          0\n",
      "\n"
     ]
    },
    {
     "name": "stderr",
     "output_type": "stream",
     "text": [
      "\r",
      " 85%|█████████████████████████████████████████████████████████████████████▋            | 17/20 [10:52<01:58, 39.47s/it]"
     ]
    },
    {
     "name": "stdout",
     "output_type": "stream",
     "text": [
      "    Dataset              T    CV  ML      Acc    b_Acc    Prec    Rec     F1    kap    ROC    tra-T    test-T    Al-Time\n",
      "--  -----------------  ---  ----  ----  -----  -------  ------  -----  -----  -----  -----  -------  --------  ---------\n",
      " 0  A211125-I211118_1    0     1  DT    0.868    0.837   0.849  0.837  0.826  0.862      0    1.491     0.184          0\n",
      " 1  A211125-I211118_1    1     2  DT    0.868    0.837   0.85   0.837  0.827  0.862      0    1.516     0.188          0\n",
      " 2  A211125-I211118_1    2     3  DT    0.868    0.837   0.85   0.837  0.827  0.862      0    1.557     0.215          0\n",
      " 3  A211125-I211118_1    3     4  DT    0.868    0.837   0.85   0.837  0.827  0.862      0    1.556     0.199          0\n",
      " 4  A211125-I211118_1    4     5  DT    0.847    0.82    0.833  0.82   0.801  0.841      0    1.471     0.187          0\n",
      "\n"
     ]
    },
    {
     "name": "stderr",
     "output_type": "stream",
     "text": [
      "\r",
      " 90%|█████████████████████████████████████████████████████████████████████████▊        | 18/20 [11:33<01:19, 39.86s/it]"
     ]
    },
    {
     "name": "stdout",
     "output_type": "stream",
     "text": [
      "    Dataset              T    CV  ML      Acc    b_Acc    Prec    Rec     F1    kap    ROC    tra-T    test-T    Al-Time\n",
      "--  -----------------  ---  ----  ----  -----  -------  ------  -----  -----  -----  -----  -------  --------  ---------\n",
      " 0  A211125-I211119_1    0     1  DT    0.868    0.851   0.855  0.851  0.83   0.862      0    1.479     0.19           0\n",
      " 1  A211125-I211119_1    1     2  DT    0.868    0.851   0.855  0.851  0.83   0.862      0    1.516     0.185          0\n",
      " 2  A211125-I211119_1    2     3  DT    0.861    0.833   0.845  0.833  0.811  0.855      0    1.524     0.196          0\n",
      " 3  A211125-I211119_1    3     4  DT    0.868    0.851   0.855  0.851  0.83   0.862      0    1.523     0.193          0\n",
      " 4  A211125-I211119_1    4     5  DT    0.868    0.851   0.855  0.851  0.83   0.862      0    1.539     0.187          0\n",
      "\n"
     ]
    },
    {
     "name": "stderr",
     "output_type": "stream",
     "text": [
      "\r",
      " 95%|█████████████████████████████████████████████████████████████████████████████▉    | 19/20 [12:13<00:39, 39.93s/it]"
     ]
    },
    {
     "name": "stdout",
     "output_type": "stream",
     "text": [
      "    Dataset              T    CV  ML      Acc    b_Acc    Prec    Rec     F1    kap    ROC    tra-T    test-T    Al-Time\n",
      "--  -----------------  ---  ----  ----  -----  -------  ------  -----  -----  -----  -----  -------  --------  ---------\n",
      " 0  A211125-I211122_1    0     1  DT    0.883    0.853   0.857  0.853  0.836  0.878      0    1.489     0.183          0\n",
      " 1  A211125-I211122_1    1     2  DT    0.883    0.853   0.858  0.853  0.836  0.878      0    1.581     0.187          0\n",
      " 2  A211125-I211122_1    2     3  DT    0.883    0.853   0.856  0.853  0.836  0.877      0    1.479     0.205          0\n",
      " 3  A211125-I211122_1    3     4  DT    0.855    0.835   0.838  0.835  0.808  0.848      0    1.536     0.202          0\n",
      " 4  A211125-I211122_1    4     5  DT    0.883    0.853   0.857  0.853  0.836  0.878      0    1.59      0.207          0\n",
      "\n"
     ]
    },
    {
     "name": "stderr",
     "output_type": "stream",
     "text": [
      "100%|██████████████████████████████████████████████████████████████████████████████████| 20/20 [12:54<00:00, 38.72s/it]\n",
      "  0%|                                                                                           | 0/20 [00:00<?, ?it/s]"
     ]
    },
    {
     "name": "stdout",
     "output_type": "stream",
     "text": [
      "    Dataset              T    CV  ML      Acc    b_Acc    Prec    Rec     F1    kap    ROC    tra-T    test-T    Al-Time\n",
      "--  -----------------  ---  ----  ----  -----  -------  ------  -----  -----  -----  -----  -------  --------  ---------\n",
      " 0  A211206-A211108_1    0     1  DT    0.781    0.581   0.57   0.581  0.561  0.764      0    1.763     0.203          0\n",
      " 1  A211206-A211108_1    1     2  DT    0.781    0.581   0.571  0.581  0.561  0.764      0    1.816     0.207          0\n",
      " 2  A211206-A211108_1    2     3  DT    0.781    0.581   0.571  0.581  0.561  0.764      0    1.678     0.201          0\n",
      " 3  A211206-A211108_1    3     4  DT    0.781    0.581   0.57   0.581  0.561  0.763      0    1.752     0.217          0\n",
      " 4  A211206-A211108_1    4     5  DT    0.781    0.581   0.571  0.581  0.561  0.763      0    1.706     0.206          0\n",
      "\n"
     ]
    },
    {
     "name": "stderr",
     "output_type": "stream",
     "text": [
      "\r",
      "  5%|████▏                                                                              | 1/20 [00:45<14:33, 45.99s/it]"
     ]
    },
    {
     "name": "stdout",
     "output_type": "stream",
     "text": [
      "    Dataset              T    CV  ML      Acc    b_Acc    Prec    Rec     F1    kap    ROC    tra-T    test-T    Al-Time\n",
      "--  -----------------  ---  ----  ----  -----  -------  ------  -----  -----  -----  -----  -------  --------  ---------\n",
      " 0  A211206-A211109_1    0     1  DT    0.732    0.584   0.58   0.584  0.568  0.717      0    1.636     0.188          0\n",
      " 1  A211206-A211109_1    1     2  DT    0.732    0.584   0.58   0.584  0.568  0.717      0    1.737     0.182          0\n",
      " 2  A211206-A211109_1    2     3  DT    0.732    0.584   0.58   0.584  0.568  0.717      0    1.723     0.232          0\n",
      " 3  A211206-A211109_1    3     4  DT    0.732    0.584   0.58   0.584  0.568  0.717      0    1.657     0.171          0\n",
      " 4  A211206-A211109_1    4     5  DT    0.732    0.584   0.575  0.584  0.563  0.717      0    1.733     0.185          0\n",
      "\n"
     ]
    },
    {
     "name": "stderr",
     "output_type": "stream",
     "text": [
      "\r",
      " 10%|████████▎                                                                          | 2/20 [01:27<13:03, 43.50s/it]"
     ]
    },
    {
     "name": "stdout",
     "output_type": "stream",
     "text": [
      "    Dataset              T    CV  ML      Acc    b_Acc    Prec    Rec     F1    kap    ROC    tra-T    test-T    Al-Time\n",
      "--  -----------------  ---  ----  ----  -----  -------  ------  -----  -----  -----  -----  -------  --------  ---------\n",
      " 0  A211206-A211115_1    0     1  DT    0.787    0.594   0.589  0.594  0.56   0.768      0    1.712     0.217          0\n",
      " 1  A211206-A211115_1    1     2  DT    0.787    0.594   0.601  0.594  0.575  0.768      0    1.71      0.266          0\n",
      " 2  A211206-A211115_1    2     3  DT    0.787    0.594   0.602  0.594  0.576  0.769      0    1.695     0.217          0\n",
      " 3  A211206-A211115_1    3     4  DT    0.787    0.594   0.589  0.594  0.56   0.768      0    1.729     0.285          0\n",
      " 4  A211206-A211115_1    4     5  DT    0.787    0.594   0.601  0.594  0.575  0.768      0    1.672     0.219          0\n",
      "\n"
     ]
    },
    {
     "name": "stderr",
     "output_type": "stream",
     "text": [
      "\r",
      " 15%|████████████▍                                                                      | 3/20 [02:13<12:37, 44.58s/it]"
     ]
    },
    {
     "name": "stdout",
     "output_type": "stream",
     "text": [
      "    Dataset              T    CV  ML      Acc    b_Acc    Prec    Rec     F1    kap    ROC    tra-T    test-T    Al-Time\n",
      "--  -----------------  ---  ----  ----  -----  -------  ------  -----  -----  -----  -----  -------  --------  ---------\n",
      " 0  A211206-A211116_1    0     1  DT    0.781    0.598   0.603  0.598  0.57   0.762      0    1.759     0.216          0\n",
      " 1  A211206-A211116_1    1     2  DT    0.781    0.598   0.603  0.598  0.57   0.762      0    1.68      0.214          0\n",
      " 2  A211206-A211116_1    2     3  DT    0.781    0.598   0.593  0.598  0.559  0.762      0    1.742     0.241          0\n",
      " 3  A211206-A211116_1    3     4  DT    0.781    0.598   0.601  0.598  0.565  0.762      0    1.671     0.201          0\n",
      " 4  A211206-A211116_1    4     5  DT    0.781    0.598   0.603  0.598  0.57   0.762      0    1.765     0.222          0\n",
      "\n"
     ]
    },
    {
     "name": "stderr",
     "output_type": "stream",
     "text": [
      "\r",
      " 20%|████████████████▌                                                                  | 4/20 [02:58<11:54, 44.68s/it]"
     ]
    },
    {
     "name": "stdout",
     "output_type": "stream",
     "text": [
      "    Dataset              T    CV  ML      Acc    b_Acc    Prec    Rec     F1    kap    ROC    tra-T    test-T    Al-Time\n",
      "--  -----------------  ---  ----  ----  -----  -------  ------  -----  -----  -----  -----  -------  --------  ---------\n",
      " 0  A211206-A211117_1    0     1  DT    0.602    0.552   0.545  0.552  0.499  0.584      0    1.648     0.202          0\n",
      " 1  A211206-A211117_1    1     2  DT    0.602    0.552   0.546  0.552  0.503  0.584      0    1.766     0.196          0\n",
      " 2  A211206-A211117_1    2     3  DT    0.602    0.552   0.557  0.552  0.512  0.584      0    1.624     0.188          0\n",
      " 3  A211206-A211117_1    3     4  DT    0.602    0.552   0.554  0.552  0.508  0.583      0    1.68      0.197          0\n",
      " 4  A211206-A211117_1    4     5  DT    0.602    0.552   0.558  0.552  0.513  0.583      0    1.64      0.213          0\n",
      "\n"
     ]
    },
    {
     "name": "stderr",
     "output_type": "stream",
     "text": [
      "\r",
      " 25%|████████████████████▊                                                              | 5/20 [03:39<10:51, 43.41s/it]"
     ]
    },
    {
     "name": "stdout",
     "output_type": "stream",
     "text": [
      "    Dataset              T    CV  ML      Acc    b_Acc    Prec    Rec     F1    kap    ROC    tra-T    test-T    Al-Time\n",
      "--  -----------------  ---  ----  ----  -----  -------  ------  -----  -----  -----  -----  -------  --------  ---------\n",
      " 0  A211206-A211118_1    0     1  DT     0.66    0.564   0.581  0.564  0.531  0.646      0    1.801     0.184          0\n",
      " 1  A211206-A211118_1    1     2  DT     0.66    0.564   0.581  0.564  0.531  0.646      0    1.67      0.152          0\n",
      " 2  A211206-A211118_1    2     3  DT     0.66    0.564   0.588  0.564  0.536  0.646      0    1.724     0.146          0\n",
      " 3  A211206-A211118_1    3     4  DT     0.66    0.564   0.589  0.564  0.54   0.646      0    1.766     0.17           0\n",
      " 4  A211206-A211118_1    4     5  DT     0.66    0.564   0.581  0.564  0.531  0.646      0    1.654     0.151          0\n",
      "\n"
     ]
    },
    {
     "name": "stderr",
     "output_type": "stream",
     "text": [
      "\r",
      " 30%|████████████████████████▉                                                          | 6/20 [04:16<09:37, 41.24s/it]"
     ]
    },
    {
     "name": "stdout",
     "output_type": "stream",
     "text": [
      "    Dataset              T    CV  ML      Acc    b_Acc    Prec    Rec     F1    kap    ROC    tra-T    test-T    Al-Time\n",
      "--  -----------------  ---  ----  ----  -----  -------  ------  -----  -----  -----  -----  -------  --------  ---------\n",
      " 0  A211206-A211122_1    0     1  DT    0.753    0.591   0.574  0.591  0.551  0.736      0    1.712     0.181          0\n",
      " 1  A211206-A211122_1    1     2  DT    0.753    0.591   0.581  0.591  0.554  0.736      0    1.694     0.192          0\n",
      " 2  A211206-A211122_1    2     3  DT    0.753    0.591   0.583  0.591  0.561  0.736      0    1.715     0.188          0\n",
      " 3  A211206-A211122_1    3     4  DT    0.753    0.591   0.576  0.591  0.551  0.736      0    1.744     0.185          0\n",
      " 4  A211206-A211122_1    4     5  DT    0.753    0.591   0.588  0.591  0.56   0.736      0    1.706     0.184          0\n",
      "\n"
     ]
    },
    {
     "name": "stderr",
     "output_type": "stream",
     "text": [
      "\r",
      " 35%|█████████████████████████████                                                      | 7/20 [04:59<09:01, 41.68s/it]"
     ]
    },
    {
     "name": "stdout",
     "output_type": "stream",
     "text": [
      "    Dataset              T    CV  ML      Acc    b_Acc    Prec    Rec     F1    kap    ROC    tra-T    test-T    Al-Time\n",
      "--  -----------------  ---  ----  ----  -----  -------  ------  -----  -----  -----  -----  -------  --------  ---------\n",
      " 0  A211206-A211123_1    0     1  DT    0.757    0.594   0.593  0.594  0.57   0.741      0    1.666     0.189          0\n",
      " 1  A211206-A211123_1    1     2  DT    0.758    0.594   0.599  0.594  0.567  0.741      0    1.655     0.191          0\n",
      " 2  A211206-A211123_1    2     3  DT    0.758    0.594   0.603  0.594  0.571  0.741      0    1.766     0.2            0\n",
      " 3  A211206-A211123_1    3     4  DT    0.757    0.594   0.593  0.594  0.561  0.741      0    1.676     0.189          0\n",
      " 4  A211206-A211123_1    4     5  DT    0.757    0.594   0.601  0.594  0.571  0.741      0    1.736     0.178          0\n",
      "\n"
     ]
    },
    {
     "name": "stderr",
     "output_type": "stream",
     "text": [
      "\r",
      " 40%|█████████████████████████████████▏                                                 | 8/20 [05:41<08:23, 42.00s/it]"
     ]
    },
    {
     "name": "stdout",
     "output_type": "stream",
     "text": [
      "    Dataset              T    CV  ML      Acc    b_Acc    Prec    Rec     F1    kap    ROC    tra-T    test-T    Al-Time\n",
      "--  -----------------  ---  ----  ----  -----  -------  ------  -----  -----  -----  -----  -------  --------  ---------\n",
      " 0  A211206-A211125_1    0     1  DT    0.664    0.568   0.573  0.568  0.534   0.65      0    1.699     0.174          0\n",
      " 1  A211206-A211125_1    1     2  DT    0.664    0.568   0.574  0.568  0.539   0.65      0    1.757     0.165          0\n",
      " 2  A211206-A211125_1    2     3  DT    0.664    0.568   0.561  0.568  0.525   0.65      0    1.657     0.164          0\n",
      " 3  A211206-A211125_1    3     4  DT    0.664    0.568   0.575  0.568  0.54    0.65      0    1.664     0.18           0\n",
      " 4  A211206-A211125_1    4     5  DT    0.664    0.568   0.56   0.568  0.53    0.65      0    1.763     0.165          0\n",
      "\n"
     ]
    },
    {
     "name": "stderr",
     "output_type": "stream",
     "text": [
      "\r",
      " 45%|█████████████████████████████████████▎                                             | 9/20 [06:20<07:31, 41.03s/it]"
     ]
    },
    {
     "name": "stdout",
     "output_type": "stream",
     "text": [
      "    Dataset              T    CV  ML      Acc    b_Acc    Prec    Rec     F1    kap    ROC    tra-T    test-T    Al-Time\n",
      "--  -----------------  ---  ----  ----  -----  -------  ------  -----  -----  -----  -----  -------  --------  ---------\n",
      " 0  A211206-A211206_1    0     1  DT    0.942    0.914   0.919  0.914  0.914  0.938      0    1.743     0.184          0\n",
      " 1  A211206-A211206_1    1     2  DT    0.942    0.914   0.919  0.914  0.914  0.938      0    1.589     0.177          0\n",
      " 2  A211206-A211206_1    2     3  DT    0.942    0.914   0.919  0.914  0.914  0.938      0    1.634     0.171          0\n",
      " 3  A211206-A211206_1    3     4  DT    0.942    0.914   0.919  0.914  0.914  0.938      0    1.733     0.195          0\n",
      " 4  A211206-A211206_1    4     5  DT    0.942    0.914   0.919  0.914  0.914  0.938      0    1.61      0.183          0\n",
      "\n"
     ]
    },
    {
     "name": "stderr",
     "output_type": "stream",
     "text": [
      "\r",
      " 50%|█████████████████████████████████████████                                         | 10/20 [07:01<06:50, 41.00s/it]"
     ]
    },
    {
     "name": "stdout",
     "output_type": "stream",
     "text": [
      "    Dataset              T    CV  ML      Acc    b_Acc    Prec    Rec     F1    kap    ROC    tra-T    test-T    Al-Time\n",
      "--  -----------------  ---  ----  ----  -----  -------  ------  -----  -----  -----  -----  -------  --------  ---------\n",
      " 0  A211206-A211208_1    0     1  DT     0.89    0.715   0.719  0.715  0.698  0.88       0    1.83      0.172          0\n",
      " 1  A211206-A211208_1    1     2  DT     0.89    0.715   0.719  0.715  0.698  0.879      0    1.672     0.159          0\n",
      " 2  A211206-A211208_1    2     3  DT     0.89    0.715   0.719  0.715  0.698  0.88       0    1.816     0.169          0\n",
      " 3  A211206-A211208_1    3     4  DT     0.89    0.715   0.719  0.715  0.698  0.88       0    1.576     0.167          0\n",
      " 4  A211206-A211208_1    4     5  DT     0.89    0.715   0.719  0.715  0.698  0.88       0    1.631     0.151          0\n",
      "\n"
     ]
    },
    {
     "name": "stderr",
     "output_type": "stream",
     "text": [
      "\r",
      " 55%|█████████████████████████████████████████████                                     | 11/20 [07:40<06:01, 40.20s/it]"
     ]
    },
    {
     "name": "stdout",
     "output_type": "stream",
     "text": [
      "    Dataset              T    CV  ML      Acc    b_Acc    Prec    Rec     F1    kap    ROC    tra-T    test-T    Al-Time\n",
      "--  -----------------  ---  ----  ----  -----  -------  ------  -----  -----  -----  -----  -------  --------  ---------\n",
      " 0  A211206-A211223_1    0     1  DT    0.636    0.549   0.561  0.549  0.533  0.621      0    1.656     0.151          0\n",
      " 1  A211206-A211223_1    1     2  DT    0.636    0.549   0.561  0.549  0.533  0.621      0    1.673     0.144          0\n",
      " 2  A211206-A211223_1    2     3  DT    0.636    0.549   0.561  0.549  0.533  0.621      0    1.767     0.153          0\n",
      " 3  A211206-A211223_1    3     4  DT    0.653    0.571   0.575  0.571  0.55   0.639      0    1.662     0.147          0\n",
      " 4  A211206-A211223_1    4     5  DT    0.636    0.549   0.561  0.549  0.533  0.621      0    1.727     0.139          0\n",
      "\n"
     ]
    },
    {
     "name": "stderr",
     "output_type": "stream",
     "text": [
      "\r",
      " 60%|█████████████████████████████████████████████████▏                                | 12/20 [08:16<05:11, 38.95s/it]"
     ]
    },
    {
     "name": "stdout",
     "output_type": "stream",
     "text": [
      "    Dataset              T    CV  ML      Acc    b_Acc    Prec    Rec     F1    kap    ROC    tra-T    test-T    Al-Time\n",
      "--  -----------------  ---  ----  ----  -----  -------  ------  -----  -----  -----  -----  -------  --------  ---------\n",
      " 0  A211206-A211225_1    0     1  DT    0.642    0.558   0.542  0.558  0.528  0.628      0    1.664     0.166          0\n",
      " 1  A211206-A211225_1    1     2  DT    0.642    0.558   0.54   0.558  0.526  0.628      0    1.704     0.17           0\n",
      " 2  A211206-A211225_1    2     3  DT    0.641    0.558   0.531  0.558  0.52   0.627      0    1.742     0.174          0\n",
      " 3  A211206-A211225_1    3     4  DT    0.641    0.558   0.54   0.558  0.525  0.627      0    1.698     0.163          0\n",
      " 4  A211206-A211225_1    4     5  DT    0.642    0.558   0.54   0.558  0.526  0.628      0    1.684     0.161          0\n",
      "\n"
     ]
    },
    {
     "name": "stderr",
     "output_type": "stream",
     "text": [
      "\r",
      " 65%|█████████████████████████████████████████████████████▎                            | 13/20 [08:54<04:31, 38.80s/it]"
     ]
    },
    {
     "name": "stdout",
     "output_type": "stream",
     "text": [
      "    Dataset              T    CV  ML      Acc    b_Acc    Prec    Rec     F1    kap    ROC    tra-T    test-T    Al-Time\n",
      "--  -----------------  ---  ----  ----  -----  -------  ------  -----  -----  -----  -----  -------  --------  ---------\n",
      " 0  A211206-A211228_1    0     1  DT    0.602    0.545   0.499  0.545  0.473  0.586      0    1.641     0.173          0\n",
      " 1  A211206-A211228_1    1     2  DT    0.616    0.566   0.511  0.566  0.488  0.601      0    1.715     0.175          0\n",
      " 2  A211206-A211228_1    2     3  DT    0.616    0.566   0.506  0.566  0.485  0.601      0    1.777     0.176          0\n",
      " 3  A211206-A211228_1    3     4  DT    0.616    0.566   0.523  0.566  0.499  0.601      0    1.669     0.162          0\n",
      " 4  A211206-A211228_1    4     5  DT    0.616    0.566   0.532  0.566  0.503  0.601      0    1.771     0.183          0\n",
      "\n"
     ]
    },
    {
     "name": "stderr",
     "output_type": "stream",
     "text": [
      "\r",
      " 70%|█████████████████████████████████████████████████████████▍                        | 14/20 [09:33<03:52, 38.81s/it]"
     ]
    },
    {
     "name": "stdout",
     "output_type": "stream",
     "text": [
      "    Dataset              T    CV  ML      Acc    b_Acc    Prec    Rec     F1    kap    ROC    tra-T    test-T    Al-Time\n",
      "--  -----------------  ---  ----  ----  -----  -------  ------  -----  -----  -----  -----  -------  --------  ---------\n",
      " 0  A211206-I211108_1    0     1  DT    0.629    0.544   0.537  0.544  0.517  0.613      0    1.63      0.182          0\n",
      " 1  A211206-I211108_1    1     2  DT    0.629    0.544   0.543  0.544  0.522  0.613      0    1.647     0.193          0\n",
      " 2  A211206-I211108_1    2     3  DT    0.629    0.544   0.543  0.544  0.522  0.613      0    1.664     0.181          0\n",
      " 3  A211206-I211108_1    3     4  DT    0.629    0.544   0.543  0.544  0.522  0.613      0    1.697     0.208          0\n",
      " 4  A211206-I211108_1    4     5  DT    0.629    0.544   0.543  0.544  0.522  0.613      0    1.738     0.207          0\n",
      "\n"
     ]
    },
    {
     "name": "stderr",
     "output_type": "stream",
     "text": [
      "\r",
      " 75%|█████████████████████████████████████████████████████████████▌                    | 15/20 [10:14<03:17, 39.53s/it]"
     ]
    },
    {
     "name": "stdout",
     "output_type": "stream",
     "text": [
      "    Dataset              T    CV  ML      Acc    b_Acc    Prec    Rec     F1    kap    ROC    tra-T    test-T    Al-Time\n",
      "--  -----------------  ---  ----  ----  -----  -------  ------  -----  -----  -----  -----  -------  --------  ---------\n",
      " 0  A211206-I211112_1    0     1  DT    0.705    0.614   0.607  0.614  0.595  0.691      0    1.871     0.207          0\n",
      " 1  A211206-I211112_1    1     2  DT    0.705    0.614   0.607  0.614  0.595  0.691      0    1.66      0.214          0\n",
      " 2  A211206-I211112_1    2     3  DT    0.704    0.614   0.607  0.614  0.595  0.691      0    1.758     0.221          0\n",
      " 3  A211206-I211112_1    3     4  DT    0.704    0.614   0.595  0.614  0.584  0.691      0    2.006     0.221          0\n",
      " 4  A211206-I211112_1    4     5  DT    0.705    0.614   0.591  0.614  0.578  0.691      0    1.676     0.242          0\n",
      "\n"
     ]
    },
    {
     "name": "stderr",
     "output_type": "stream",
     "text": [
      "\r",
      " 80%|█████████████████████████████████████████████████████████████████▌                | 16/20 [11:00<02:45, 41.50s/it]"
     ]
    },
    {
     "name": "stdout",
     "output_type": "stream",
     "text": [
      "    Dataset              T    CV  ML      Acc    b_Acc    Prec    Rec     F1    kap    ROC    tra-T    test-T    Al-Time\n",
      "--  -----------------  ---  ----  ----  -----  -------  ------  -----  -----  -----  -----  -------  --------  ---------\n",
      " 0  A211206-I211115_1    0     1  DT    0.674     0.59   0.581   0.59  0.552   0.66      0    1.655     0.195          0\n",
      " 1  A211206-I211115_1    1     2  DT    0.674     0.59   0.578   0.59  0.552   0.66      0    1.633     0.225          0\n",
      " 2  A211206-I211115_1    2     3  DT    0.674     0.59   0.581   0.59  0.552   0.66      0    1.847     0.21           0\n",
      " 3  A211206-I211115_1    3     4  DT    0.674     0.59   0.587   0.59  0.558   0.66      0    1.647     0.206          0\n",
      " 4  A211206-I211115_1    4     5  DT    0.674     0.59   0.579   0.59  0.548   0.66      0    1.731     0.255          0\n",
      "\n"
     ]
    },
    {
     "name": "stderr",
     "output_type": "stream",
     "text": [
      "\r",
      " 85%|█████████████████████████████████████████████████████████████████████▋            | 17/20 [11:43<02:05, 41.75s/it]"
     ]
    },
    {
     "name": "stdout",
     "output_type": "stream",
     "text": [
      "    Dataset              T    CV  ML      Acc    b_Acc    Prec    Rec     F1    kap    ROC    tra-T    test-T    Al-Time\n",
      "--  -----------------  ---  ----  ----  -----  -------  ------  -----  -----  -----  -----  -------  --------  ---------\n",
      " 0  A211206-I211118_1    0     1  DT    0.655    0.553   0.548  0.553  0.513   0.64      0    1.666     0.231          0\n",
      " 1  A211206-I211118_1    1     2  DT    0.655    0.553   0.555  0.553  0.526   0.64      0    1.726     0.236          0\n",
      " 2  A211206-I211118_1    2     3  DT    0.655    0.553   0.55   0.553  0.517   0.64      0    1.636     0.189          0\n",
      " 3  A211206-I211118_1    3     4  DT    0.655    0.553   0.557  0.553  0.522   0.64      0    1.761     0.215          0\n",
      " 4  A211206-I211118_1    4     5  DT    0.655    0.553   0.559  0.553  0.527   0.64      0    1.675     0.208          0\n",
      "\n"
     ]
    },
    {
     "name": "stderr",
     "output_type": "stream",
     "text": [
      "\r",
      " 90%|█████████████████████████████████████████████████████████████████████████▊        | 18/20 [12:25<01:24, 42.02s/it]"
     ]
    },
    {
     "name": "stdout",
     "output_type": "stream",
     "text": [
      "    Dataset              T    CV  ML      Acc    b_Acc    Prec    Rec     F1    kap    ROC    tra-T    test-T    Al-Time\n",
      "--  -----------------  ---  ----  ----  -----  -------  ------  -----  -----  -----  -----  -------  --------  ---------\n",
      " 0  A211206-I211119_1    0     1  DT    0.654    0.561   0.572  0.561  0.538  0.638      0    1.784     0.25           0\n",
      " 1  A211206-I211119_1    1     2  DT    0.653    0.561   0.563  0.561  0.529  0.638      0    1.632     0.201          0\n",
      " 2  A211206-I211119_1    2     3  DT    0.653    0.561   0.572  0.561  0.538  0.638      0    1.678     0.198          0\n",
      " 3  A211206-I211119_1    3     4  DT    0.654    0.561   0.563  0.561  0.529  0.638      0    1.674     0.195          0\n",
      " 4  A211206-I211119_1    4     5  DT    0.653    0.561   0.559  0.561  0.528  0.638      0    1.621     0.198          0\n",
      "\n"
     ]
    },
    {
     "name": "stderr",
     "output_type": "stream",
     "text": [
      "\r",
      " 95%|█████████████████████████████████████████████████████████████████████████████▉    | 19/20 [13:07<00:42, 42.01s/it]"
     ]
    },
    {
     "name": "stdout",
     "output_type": "stream",
     "text": [
      "    Dataset              T    CV  ML      Acc    b_Acc    Prec    Rec     F1    kap    ROC    tra-T    test-T    Al-Time\n",
      "--  -----------------  ---  ----  ----  -----  -------  ------  -----  -----  -----  -----  -------  --------  ---------\n",
      " 0  A211206-I211122_1    0     1  DT    0.668    0.558   0.571  0.558  0.535  0.654      0    1.634     0.211          0\n",
      " 1  A211206-I211122_1    1     2  DT    0.668    0.558   0.571  0.558  0.535  0.654      0    1.613     0.2            0\n",
      " 2  A211206-I211122_1    2     3  DT    0.668    0.558   0.57   0.558  0.535  0.654      0    1.77      0.256          0\n",
      " 3  A211206-I211122_1    3     4  DT    0.668    0.558   0.562  0.558  0.525  0.654      0    1.586     0.184          0\n",
      " 4  A211206-I211122_1    4     5  DT    0.668    0.558   0.571  0.558  0.535  0.654      0    1.751     0.208          0\n",
      "\n"
     ]
    },
    {
     "name": "stderr",
     "output_type": "stream",
     "text": [
      "100%|██████████████████████████████████████████████████████████████████████████████████| 20/20 [13:50<00:00, 41.52s/it]\n",
      "  0%|                                                                                           | 0/20 [00:00<?, ?it/s]"
     ]
    },
    {
     "name": "stdout",
     "output_type": "stream",
     "text": [
      "    Dataset              T    CV  ML      Acc    b_Acc    Prec    Rec     F1    kap    ROC    tra-T    test-T    Al-Time\n",
      "--  -----------------  ---  ----  ----  -----  -------  ------  -----  -----  -----  -----  -------  --------  ---------\n",
      " 0  A211208-A211108_1    0     1  DT    0.767    0.569   0.575  0.569  0.552  0.748      0    1.645     0.202          0\n",
      " 1  A211208-A211108_1    1     2  DT    0.767    0.57    0.576  0.57   0.552  0.749      0    1.535     0.271          0\n",
      " 2  A211208-A211108_1    2     3  DT    0.767    0.57    0.577  0.57   0.552  0.749      0    1.457     0.205          0\n",
      " 3  A211208-A211108_1    3     4  DT    0.767    0.57    0.577  0.57   0.553  0.749      0    1.664     0.215          0\n",
      " 4  A211208-A211108_1    4     5  DT    0.767    0.57    0.569  0.57   0.547  0.748      0    1.622     0.228          0\n",
      "\n"
     ]
    },
    {
     "name": "stderr",
     "output_type": "stream",
     "text": [
      "\r",
      "  5%|████▏                                                                              | 1/20 [00:45<14:17, 45.12s/it]"
     ]
    },
    {
     "name": "stdout",
     "output_type": "stream",
     "text": [
      "    Dataset              T    CV  ML      Acc    b_Acc    Prec    Rec     F1    kap    ROC    tra-T    test-T    Al-Time\n",
      "--  -----------------  ---  ----  ----  -----  -------  ------  -----  -----  -----  -----  -------  --------  ---------\n",
      " 0  A211208-A211109_1    0     1  DT    0.721    0.573   0.585  0.573  0.56   0.705      0    1.586     0.21           0\n",
      " 1  A211208-A211109_1    1     2  DT    0.721    0.573   0.585  0.573  0.56   0.705      0    1.433     0.203          0\n",
      " 2  A211208-A211109_1    2     3  DT    0.721    0.573   0.58   0.573  0.557  0.705      0    1.497     0.182          0\n",
      " 3  A211208-A211109_1    3     4  DT    0.721    0.573   0.569  0.573  0.547  0.705      0    1.46      0.209          0\n",
      " 4  A211208-A211109_1    4     5  DT    0.721    0.573   0.576  0.573  0.555  0.705      0    1.466     0.188          0\n",
      "\n"
     ]
    },
    {
     "name": "stderr",
     "output_type": "stream",
     "text": [
      "\r",
      " 10%|████████▎                                                                          | 2/20 [01:25<12:39, 42.17s/it]"
     ]
    },
    {
     "name": "stdout",
     "output_type": "stream",
     "text": [
      "    Dataset              T    CV  ML      Acc    b_Acc    Prec    Rec     F1    kap    ROC    tra-T    test-T    Al-Time\n",
      "--  -----------------  ---  ----  ----  -----  -------  ------  -----  -----  -----  -----  -------  --------  ---------\n",
      " 0  A211208-A211115_1    0     1  DT    0.743    0.53    0.529  0.53   0.505  0.721      0    1.494     0.241          0\n",
      " 1  A211208-A211115_1    1     2  DT    0.754    0.551   0.544  0.551  0.522  0.733      0    1.552     0.247          0\n",
      " 2  A211208-A211115_1    2     3  DT    0.743    0.53    0.523  0.53   0.501  0.721      0    1.554     0.256          0\n",
      " 3  A211208-A211115_1    3     4  DT    0.753    0.55    0.545  0.55   0.525  0.732      0    1.48      0.236          0\n",
      " 4  A211208-A211115_1    4     5  DT    0.754    0.551   0.549  0.551  0.525  0.733      0    1.557     0.252          0\n",
      "\n"
     ]
    },
    {
     "name": "stderr",
     "output_type": "stream",
     "text": [
      "\r",
      " 15%|████████████▍                                                                      | 3/20 [02:10<12:20, 43.54s/it]"
     ]
    },
    {
     "name": "stdout",
     "output_type": "stream",
     "text": [
      "    Dataset              T    CV  ML      Acc    b_Acc    Prec    Rec     F1    kap    ROC    tra-T    test-T    Al-Time\n",
      "--  -----------------  ---  ----  ----  -----  -------  ------  -----  -----  -----  -----  -------  --------  ---------\n",
      " 0  A211208-A211116_1    0     1  DT    0.747    0.558   0.555  0.558  0.529  0.725      0    1.443     0.215          0\n",
      " 1  A211208-A211116_1    1     2  DT    0.748    0.558   0.555  0.558  0.529  0.725      0    1.499     0.209          0\n",
      " 2  A211208-A211116_1    2     3  DT    0.737    0.536   0.54   0.536  0.507  0.714      0    1.502     0.209          0\n",
      " 3  A211208-A211116_1    3     4  DT    0.748    0.558   0.562  0.558  0.53   0.726      0    1.597     0.27           0\n",
      " 4  A211208-A211116_1    4     5  DT    0.748    0.558   0.564  0.558  0.53   0.726      0    1.551     0.217          0\n",
      "\n"
     ]
    },
    {
     "name": "stderr",
     "output_type": "stream",
     "text": [
      "\r",
      " 20%|████████████████▌                                                                  | 4/20 [02:54<11:40, 43.76s/it]"
     ]
    },
    {
     "name": "stdout",
     "output_type": "stream",
     "text": [
      "    Dataset              T    CV  ML      Acc    b_Acc    Prec    Rec     F1    kap    ROC    tra-T    test-T    Al-Time\n",
      "--  -----------------  ---  ----  ----  -----  -------  ------  -----  -----  -----  -----  -------  --------  ---------\n",
      " 0  A211208-A211117_1    0     1  DT    0.592    0.528   0.521  0.528  0.479  0.574      0    1.587     0.201          0\n",
      " 1  A211208-A211117_1    1     2  DT    0.592    0.528   0.525  0.528  0.48   0.574      0    1.466     0.199          0\n",
      " 2  A211208-A211117_1    2     3  DT    0.592    0.528   0.53   0.528  0.493  0.572      0    1.47      0.204          0\n",
      " 3  A211208-A211117_1    3     4  DT    0.579    0.506   0.512  0.506  0.472  0.559      0    1.511     0.229          0\n",
      " 4  A211208-A211117_1    4     5  DT    0.591    0.527   0.514  0.527  0.478  0.573      0    1.43      0.199          0\n",
      "\n"
     ]
    },
    {
     "name": "stderr",
     "output_type": "stream",
     "text": [
      "\r",
      " 25%|████████████████████▊                                                              | 5/20 [03:35<10:43, 42.90s/it]"
     ]
    },
    {
     "name": "stdout",
     "output_type": "stream",
     "text": [
      "    Dataset              T    CV  ML      Acc    b_Acc    Prec    Rec     F1    kap    ROC    tra-T    test-T    Al-Time\n",
      "--  -----------------  ---  ----  ----  -----  -------  ------  -----  -----  -----  -----  -------  --------  ---------\n",
      " 0  A211208-A211118_1    0     1  DT    0.634    0.552   0.584  0.552  0.536  0.618      0    1.483     0.164          0\n",
      " 1  A211208-A211118_1    1     2  DT    0.634    0.552   0.583  0.552  0.536  0.618      0    1.488     0.165          0\n",
      " 2  A211208-A211118_1    2     3  DT    0.616    0.53    0.558  0.53   0.517  0.6        0    1.524     0.16           0\n",
      " 3  A211208-A211118_1    3     4  DT    0.617    0.531   0.552  0.531  0.503  0.601      0    1.557     0.153          0\n",
      " 4  A211208-A211118_1    4     5  DT    0.617    0.53    0.562  0.53   0.514  0.601      0    1.499     0.162          0\n",
      "\n"
     ]
    },
    {
     "name": "stderr",
     "output_type": "stream",
     "text": [
      "\r",
      " 30%|████████████████████████▉                                                          | 6/20 [04:12<09:29, 40.70s/it]"
     ]
    },
    {
     "name": "stdout",
     "output_type": "stream",
     "text": [
      "    Dataset              T    CV  ML      Acc    b_Acc    Prec    Rec     F1    kap    ROC    tra-T    test-T    Al-Time\n",
      "--  -----------------  ---  ----  ----  -----  -------  ------  -----  -----  -----  -----  -------  --------  ---------\n",
      " 0  A211208-A211122_1    0     1  DT    0.731    0.56    0.578  0.56   0.539  0.712      0    1.503     0.179          0\n",
      " 1  A211208-A211122_1    1     2  DT    0.718    0.538   0.549  0.538  0.508  0.698      0    1.514     0.183          0\n",
      " 2  A211208-A211122_1    2     3  DT    0.731    0.56    0.579  0.56   0.54   0.712      0    1.517     0.194          0\n",
      " 3  A211208-A211122_1    3     4  DT    0.731    0.56    0.578  0.56   0.539  0.712      0    1.54      0.193          0\n",
      " 4  A211208-A211122_1    4     5  DT    0.718    0.538   0.549  0.538  0.513  0.698      0    1.446     0.216          0\n",
      "\n"
     ]
    },
    {
     "name": "stderr",
     "output_type": "stream",
     "text": [
      "\r",
      " 35%|█████████████████████████████                                                      | 7/20 [04:53<08:49, 40.72s/it]"
     ]
    },
    {
     "name": "stdout",
     "output_type": "stream",
     "text": [
      "    Dataset              T    CV  ML      Acc    b_Acc    Prec    Rec     F1    kap    ROC    tra-T    test-T    Al-Time\n",
      "--  -----------------  ---  ----  ----  -----  -------  ------  -----  -----  -----  -----  -------  --------  ---------\n",
      " 0  A211208-A211123_1    0     1  DT    0.719    0.544   0.554  0.544  0.515  0.7        0    1.581     0.244          0\n",
      " 1  A211208-A211123_1    1     2  DT    0.731    0.565   0.575  0.565  0.546  0.713      0    1.413     0.207          0\n",
      " 2  A211208-A211123_1    2     3  DT    0.732    0.566   0.583  0.566  0.547  0.714      0    1.439     0.235          0\n",
      " 3  A211208-A211123_1    3     4  DT    0.732    0.566   0.583  0.566  0.547  0.714      0    1.46      0.239          0\n",
      " 4  A211208-A211123_1    4     5  DT    0.732    0.566   0.585  0.566  0.548  0.714      0    1.677     0.24           0\n",
      "\n"
     ]
    },
    {
     "name": "stderr",
     "output_type": "stream",
     "text": [
      "\r",
      " 40%|█████████████████████████████████▏                                                 | 8/20 [05:34<08:13, 41.11s/it]"
     ]
    },
    {
     "name": "stdout",
     "output_type": "stream",
     "text": [
      "    Dataset              T    CV  ML      Acc    b_Acc    Prec    Rec     F1    kap    ROC    tra-T    test-T    Al-Time\n",
      "--  -----------------  ---  ----  ----  -----  -------  ------  -----  -----  -----  -----  -------  --------  ---------\n",
      " 0  A211208-A211125_1    0     1  DT    0.63     0.536   0.528  0.536  0.501  0.614      0    1.441     0.168          0\n",
      " 1  A211208-A211125_1    1     2  DT    0.631    0.537   0.545  0.537  0.508  0.615      0    1.519     0.181          0\n",
      " 2  A211208-A211125_1    2     3  DT    0.631    0.537   0.545  0.537  0.509  0.615      0    1.496     0.192          0\n",
      " 3  A211208-A211125_1    3     4  DT    0.615    0.515   0.512  0.515  0.479  0.599      0    1.475     0.207          0\n",
      " 4  A211208-A211125_1    4     5  DT    0.63     0.537   0.538  0.537  0.504  0.615      0    1.491     0.171          0\n",
      "\n"
     ]
    },
    {
     "name": "stderr",
     "output_type": "stream",
     "text": [
      "\r",
      " 45%|█████████████████████████████████████▎                                             | 9/20 [06:12<07:21, 40.11s/it]"
     ]
    },
    {
     "name": "stdout",
     "output_type": "stream",
     "text": [
      "    Dataset              T    CV  ML      Acc    b_Acc    Prec    Rec     F1    kap    ROC    tra-T    test-T    Al-Time\n",
      "--  -----------------  ---  ----  ----  -----  -------  ------  -----  -----  -----  -----  -------  --------  ---------\n",
      " 0  A211208-A211206_1    0     1  DT    0.788    0.671   0.654  0.671  0.64   0.775      0    1.467     0.206          0\n",
      " 1  A211208-A211206_1    1     2  DT    0.788    0.671   0.657  0.671  0.637  0.775      0    1.519     0.208          0\n",
      " 2  A211208-A211206_1    2     3  DT    0.788    0.671   0.657  0.671  0.637  0.775      0    1.546     0.221          0\n",
      " 3  A211208-A211206_1    3     4  DT    0.788    0.671   0.658  0.671  0.637  0.775      0    1.453     0.209          0\n",
      " 4  A211208-A211206_1    4     5  DT    0.788    0.671   0.657  0.671  0.637  0.775      0    1.446     0.189          0\n",
      "\n"
     ]
    },
    {
     "name": "stderr",
     "output_type": "stream",
     "text": [
      "\r",
      " 50%|█████████████████████████████████████████                                         | 10/20 [06:53<06:41, 40.13s/it]"
     ]
    },
    {
     "name": "stdout",
     "output_type": "stream",
     "text": [
      "    Dataset              T    CV  ML      Acc    b_Acc    Prec    Rec     F1    kap    ROC    tra-T    test-T    Al-Time\n",
      "--  -----------------  ---  ----  ----  -----  -------  ------  -----  -----  -----  -----  -------  --------  ---------\n",
      " 0  A211208-A211208_1    0     1  DT    0.937    0.796   0.805  0.796  0.795  0.931      0    1.569     0.217          0\n",
      " 1  A211208-A211208_1    1     2  DT    0.937    0.796   0.805  0.796  0.795  0.931      0    1.515     0.205          0\n",
      " 2  A211208-A211208_1    2     3  DT    0.937    0.796   0.805  0.796  0.795  0.931      0    1.533     0.189          0\n",
      " 3  A211208-A211208_1    3     4  DT    0.937    0.796   0.805  0.796  0.795  0.931      0    1.524     0.185          0\n",
      " 4  A211208-A211208_1    4     5  DT    0.937    0.796   0.805  0.796  0.795  0.931      0    1.568     0.194          0\n",
      "\n"
     ]
    },
    {
     "name": "stderr",
     "output_type": "stream",
     "text": [
      "\r",
      " 55%|█████████████████████████████████████████████                                     | 11/20 [07:31<05:56, 39.60s/it]"
     ]
    },
    {
     "name": "stdout",
     "output_type": "stream",
     "text": [
      "    Dataset              T    CV  ML      Acc    b_Acc    Prec    Rec     F1    kap    ROC    tra-T    test-T    Al-Time\n",
      "--  -----------------  ---  ----  ----  -----  -------  ------  -----  -----  -----  -----  -------  --------  ---------\n",
      " 0  A211208-A211223_1    0     1  DT    0.607    0.508   0.539  0.508  0.493  0.591      0    1.459     0.15           0\n",
      " 1  A211208-A211223_1    1     2  DT    0.607    0.508   0.539  0.508  0.493  0.591      0    1.564     0.146          0\n",
      " 2  A211208-A211223_1    2     3  DT    0.607    0.508   0.534  0.508  0.491  0.591      0    1.442     0.173          0\n",
      " 3  A211208-A211223_1    3     4  DT    0.607    0.508   0.533  0.508  0.491  0.591      0    1.44      0.153          0\n",
      " 4  A211208-A211223_1    4     5  DT    0.607    0.508   0.533  0.508  0.491  0.591      0    1.498     0.148          0\n",
      "\n"
     ]
    },
    {
     "name": "stderr",
     "output_type": "stream",
     "text": [
      "\r",
      " 60%|█████████████████████████████████████████████████▏                                | 12/20 [08:06<05:05, 38.19s/it]"
     ]
    },
    {
     "name": "stdout",
     "output_type": "stream",
     "text": [
      "    Dataset              T    CV  ML      Acc    b_Acc    Prec    Rec     F1    kap    ROC    tra-T    test-T    Al-Time\n",
      "--  -----------------  ---  ----  ----  -----  -------  ------  -----  -----  -----  -----  -------  --------  ---------\n",
      " 0  A211208-A211225_1    0     1  DT    0.615    0.52    0.523  0.52   0.49   0.6        0    1.592     0.214          0\n",
      " 1  A211208-A211225_1    1     2  DT    0.615    0.52    0.527  0.52   0.49   0.6        0    1.443     0.179          0\n",
      " 2  A211208-A211225_1    2     3  DT    0.616    0.521   0.525  0.521  0.489  0.6        0    1.506     0.179          0\n",
      " 3  A211208-A211225_1    3     4  DT    0.616    0.52    0.522  0.52   0.481  0.601      0    1.478     0.216          0\n",
      " 4  A211208-A211225_1    4     5  DT    0.616    0.52    0.522  0.52   0.481  0.601      0    1.478     0.189          0\n",
      "\n"
     ]
    },
    {
     "name": "stderr",
     "output_type": "stream",
     "text": [
      "\r",
      " 65%|█████████████████████████████████████████████████████▎                            | 13/20 [08:43<04:25, 37.98s/it]"
     ]
    },
    {
     "name": "stdout",
     "output_type": "stream",
     "text": [
      "    Dataset              T    CV  ML      Acc    b_Acc    Prec    Rec     F1    kap    ROC    tra-T    test-T    Al-Time\n",
      "--  -----------------  ---  ----  ----  -----  -------  ------  -----  -----  -----  -----  -------  --------  ---------\n",
      " 0  A211208-A211228_1    0     1  DT    0.624    0.595   0.54   0.595  0.525  0.61       0    1.566     0.175          0\n",
      " 1  A211208-A211228_1    1     2  DT    0.624    0.595   0.539  0.595  0.524  0.609      0    1.619     0.181          0\n",
      " 2  A211208-A211228_1    2     3  DT    0.624    0.595   0.558  0.595  0.533  0.611      0    1.44      0.203          0\n",
      " 3  A211208-A211228_1    3     4  DT    0.624    0.595   0.537  0.595  0.523  0.61       0    1.448     0.185          0\n",
      " 4  A211208-A211228_1    4     5  DT    0.61     0.573   0.505  0.573  0.488  0.595      0    1.486     0.176          0\n",
      "\n"
     ]
    },
    {
     "name": "stderr",
     "output_type": "stream",
     "text": [
      "\r",
      " 70%|█████████████████████████████████████████████████████████▍                        | 14/20 [09:21<03:46, 37.75s/it]"
     ]
    },
    {
     "name": "stdout",
     "output_type": "stream",
     "text": [
      "    Dataset              T    CV  ML      Acc    b_Acc    Prec    Rec     F1    kap    ROC    tra-T    test-T    Al-Time\n",
      "--  -----------------  ---  ----  ----  -----  -------  ------  -----  -----  -----  -----  -------  --------  ---------\n",
      " 0  A211208-I211108_1    0     1  DT    0.612    0.532   0.536  0.532  0.506  0.595      0    1.501     0.209          0\n",
      " 1  A211208-I211108_1    1     2  DT    0.612    0.532   0.549  0.532  0.517  0.595      0    1.423     0.211          0\n",
      " 2  A211208-I211108_1    2     3  DT    0.612    0.532   0.549  0.532  0.516  0.595      0    1.519     0.235          0\n",
      " 3  A211208-I211108_1    3     4  DT    0.612    0.532   0.536  0.532  0.507  0.595      0    1.543     0.226          0\n",
      " 4  A211208-I211108_1    4     5  DT    0.612    0.532   0.541  0.532  0.512  0.595      0    1.464     0.205          0\n",
      "\n"
     ]
    },
    {
     "name": "stderr",
     "output_type": "stream",
     "text": [
      "\r",
      " 75%|█████████████████████████████████████████████████████████████▌                    | 15/20 [10:01<03:12, 38.54s/it]"
     ]
    },
    {
     "name": "stdout",
     "output_type": "stream",
     "text": [
      "    Dataset              T    CV  ML      Acc    b_Acc    Prec    Rec     F1    kap    ROC    tra-T    test-T    Al-Time\n",
      "--  -----------------  ---  ----  ----  -----  -------  ------  -----  -----  -----  -----  -------  --------  ---------\n",
      " 0  A211208-I211112_1    0     1  DT    0.541    0.515   0.516  0.515  0.49   0.52       0    1.492     0.252          0\n",
      " 1  A211208-I211112_1    1     2  DT    0.524    0.493   0.492  0.493  0.466  0.503      0    1.495     0.239          0\n",
      " 2  A211208-I211112_1    2     3  DT    0.541    0.515   0.508  0.515  0.489  0.52       0    1.485     0.238          0\n",
      " 3  A211208-I211112_1    3     4  DT    0.541    0.515   0.514  0.515  0.489  0.52       0    1.502     0.241          0\n",
      " 4  A211208-I211112_1    4     5  DT    0.54     0.515   0.514  0.515  0.489  0.52       0    1.581     0.234          0\n",
      "\n"
     ]
    },
    {
     "name": "stderr",
     "output_type": "stream",
     "text": [
      "\r",
      " 80%|█████████████████████████████████████████████████████████████████▌                | 16/20 [10:45<02:40, 40.13s/it]"
     ]
    },
    {
     "name": "stdout",
     "output_type": "stream",
     "text": [
      "    Dataset              T    CV  ML      Acc    b_Acc    Prec    Rec     F1    kap    ROC    tra-T    test-T    Al-Time\n",
      "--  -----------------  ---  ----  ----  -----  -------  ------  -----  -----  -----  -----  -------  --------  ---------\n",
      " 0  A211208-I211115_1    0     1  DT    0.623    0.527   0.543  0.527  0.507  0.607      0    1.486     0.22           0\n",
      " 1  A211208-I211115_1    1     2  DT    0.606    0.506   0.521  0.506  0.485  0.589      0    1.494     0.217          0\n",
      " 2  A211208-I211115_1    2     3  DT    0.623    0.527   0.543  0.527  0.507  0.607      0    1.52      0.215          0\n",
      " 3  A211208-I211115_1    3     4  DT    0.623    0.527   0.544  0.527  0.508  0.607      0    1.617     0.217          0\n",
      " 4  A211208-I211115_1    4     5  DT    0.623    0.527   0.541  0.527  0.507  0.607      0    1.511     0.228          0\n",
      "\n"
     ]
    },
    {
     "name": "stderr",
     "output_type": "stream",
     "text": [
      "\r",
      " 85%|█████████████████████████████████████████████████████████████████████▋            | 17/20 [11:27<02:02, 40.67s/it]"
     ]
    },
    {
     "name": "stdout",
     "output_type": "stream",
     "text": [
      "    Dataset              T    CV  ML      Acc    b_Acc    Prec    Rec     F1    kap    ROC    tra-T    test-T    Al-Time\n",
      "--  -----------------  ---  ----  ----  -----  -------  ------  -----  -----  -----  -----  -------  --------  ---------\n",
      " 0  A211208-I211118_1    0     1  DT    0.622    0.528   0.537  0.528  0.511  0.606      0    1.511     0.249          0\n",
      " 1  A211208-I211118_1    1     2  DT    0.623    0.528   0.543  0.528  0.511  0.607      0    1.492     0.242          0\n",
      " 2  A211208-I211118_1    2     3  DT    0.622    0.528   0.543  0.528  0.509  0.606      0    1.465     0.231          0\n",
      " 3  A211208-I211118_1    3     4  DT    0.623    0.528   0.542  0.528  0.51   0.607      0    1.597     0.229          0\n",
      " 4  A211208-I211118_1    4     5  DT    0.622    0.528   0.543  0.528  0.509  0.606      0    1.444     0.222          0\n",
      "\n"
     ]
    },
    {
     "name": "stderr",
     "output_type": "stream",
     "text": [
      "\r",
      " 90%|█████████████████████████████████████████████████████████████████████████▊        | 18/20 [12:08<01:21, 40.84s/it]"
     ]
    },
    {
     "name": "stdout",
     "output_type": "stream",
     "text": [
      "    Dataset              T    CV  ML      Acc    b_Acc    Prec    Rec     F1    kap    ROC    tra-T    test-T    Al-Time\n",
      "--  -----------------  ---  ----  ----  -----  -------  ------  -----  -----  -----  -----  -------  --------  ---------\n",
      " 0  A211208-I211119_1    0     1  DT    0.619    0.531   0.562  0.531  0.517  0.601      0    1.553     0.223          0\n",
      " 1  A211208-I211119_1    1     2  DT    0.619    0.531   0.563  0.531  0.517  0.601      0    1.658     0.264          0\n",
      " 2  A211208-I211119_1    2     3  DT    0.619    0.531   0.562  0.531  0.517  0.601      0    1.512     0.27           0\n",
      " 3  A211208-I211119_1    3     4  DT    0.618    0.531   0.563  0.531  0.517  0.601      0    1.469     0.208          0\n",
      " 4  A211208-I211119_1    4     5  DT    0.618    0.53    0.557  0.53   0.516  0.6        0    1.525     0.255          0\n",
      "\n"
     ]
    },
    {
     "name": "stderr",
     "output_type": "stream",
     "text": [
      "\r",
      " 95%|█████████████████████████████████████████████████████████████████████████████▉    | 19/20 [12:49<00:40, 40.99s/it]"
     ]
    },
    {
     "name": "stdout",
     "output_type": "stream",
     "text": [
      "    Dataset              T    CV  ML      Acc    b_Acc    Prec    Rec     F1    kap    ROC    tra-T    test-T    Al-Time\n",
      "--  -----------------  ---  ----  ----  -----  -------  ------  -----  -----  -----  -----  -------  --------  ---------\n",
      " 0  A211208-I211122_1    0     1  DT    0.63     0.524   0.548  0.524  0.511  0.614      0    1.459     0.23           0\n",
      " 1  A211208-I211122_1    1     2  DT    0.631    0.524   0.55   0.524  0.512  0.614      0    1.527     0.227          0\n",
      " 2  A211208-I211122_1    2     3  DT    0.631    0.524   0.549  0.524  0.511  0.614      0    1.451     0.204          0\n",
      " 3  A211208-I211122_1    3     4  DT    0.63     0.524   0.548  0.524  0.511  0.614      0    1.415     0.212          0\n",
      " 4  A211208-I211122_1    4     5  DT    0.63     0.524   0.548  0.524  0.511  0.614      0    1.569     0.232          0\n",
      "\n"
     ]
    },
    {
     "name": "stderr",
     "output_type": "stream",
     "text": [
      "100%|██████████████████████████████████████████████████████████████████████████████████| 20/20 [13:31<00:00, 40.56s/it]\n",
      "  0%|                                                                                           | 0/20 [00:00<?, ?it/s]"
     ]
    },
    {
     "name": "stdout",
     "output_type": "stream",
     "text": [
      "    Dataset              T    CV  ML      Acc    b_Acc    Prec    Rec     F1    kap    ROC    tra-T    test-T    Al-Time\n",
      "--  -----------------  ---  ----  ----  -----  -------  ------  -----  -----  -----  -----  -------  --------  ---------\n",
      " 0  A211223-A211108_1    0     1  DT    0.564    0.571   0.518  0.571  0.489  0.544      0    1.225     0.239          0\n",
      " 1  A211223-A211108_1    1     2  DT    0.564    0.571   0.52   0.571  0.489  0.545      0    1.168     0.203          0\n",
      " 2  A211223-A211108_1    2     3  DT    0.559    0.571   0.509  0.571  0.482  0.54       0    1.218     0.293          0\n",
      " 3  A211223-A211108_1    3     4  DT    0.563    0.57    0.52   0.57   0.489  0.543      0    1.163     0.266          0\n",
      " 4  A211223-A211108_1    4     5  DT    0.564    0.572   0.519  0.572  0.489  0.545      0    1.158     0.251          0\n",
      "\n"
     ]
    },
    {
     "name": "stderr",
     "output_type": "stream",
     "text": [
      "\r",
      "  5%|████▏                                                                              | 1/20 [00:42<13:25, 42.41s/it]"
     ]
    },
    {
     "name": "stdout",
     "output_type": "stream",
     "text": [
      "    Dataset              T    CV  ML      Acc    b_Acc    Prec    Rec     F1    kap    ROC    tra-T    test-T    Al-Time\n",
      "--  -----------------  ---  ----  ----  -----  -------  ------  -----  -----  -----  -----  -------  --------  ---------\n",
      " 0  A211223-A211109_1    0     1  DT    0.576    0.567   0.526  0.567  0.489  0.56       0    1.189     0.201          0\n",
      " 1  A211223-A211109_1    1     2  DT    0.576    0.566   0.525  0.566  0.489  0.56       0    1.172     0.189          0\n",
      " 2  A211223-A211109_1    2     3  DT    0.572    0.566   0.517  0.566  0.483  0.556      0    1.245     0.192          0\n",
      " 3  A211223-A211109_1    3     4  DT    0.572    0.566   0.517  0.566  0.483  0.556      0    1.307     0.195          0\n",
      " 4  A211223-A211109_1    4     5  DT    0.572    0.566   0.517  0.566  0.483  0.556      0    1.19      0.191          0\n",
      "\n"
     ]
    },
    {
     "name": "stderr",
     "output_type": "stream",
     "text": [
      "\r",
      " 10%|████████▎                                                                          | 2/20 [01:19<11:47, 39.28s/it]"
     ]
    },
    {
     "name": "stdout",
     "output_type": "stream",
     "text": [
      "    Dataset              T    CV  ML      Acc    b_Acc    Prec    Rec     F1    kap    ROC    tra-T    test-T    Al-Time\n",
      "--  -----------------  ---  ----  ----  -----  -------  ------  -----  -----  -----  -----  -------  --------  ---------\n",
      " 0  A211223-A211115_1    0     1  DT    0.473    0.508   0.49   0.508  0.428  0.455      0    1.222     0.222          0\n",
      " 1  A211223-A211115_1    1     2  DT    0.474    0.508   0.492  0.508  0.429  0.455      0    1.272     0.267          0\n",
      " 2  A211223-A211115_1    2     3  DT    0.473    0.508   0.49   0.508  0.428  0.455      0    1.216     0.248          0\n",
      " 3  A211223-A211115_1    3     4  DT    0.469    0.507   0.476  0.507  0.425  0.451      0    1.203     0.279          0\n",
      " 4  A211223-A211115_1    4     5  DT    0.469    0.507   0.475  0.507  0.424  0.451      0    1.154     0.241          0\n",
      "\n"
     ]
    },
    {
     "name": "stderr",
     "output_type": "stream",
     "text": [
      "\r",
      " 15%|████████████▍                                                                      | 3/20 [02:02<11:33, 40.78s/it]"
     ]
    },
    {
     "name": "stdout",
     "output_type": "stream",
     "text": [
      "    Dataset              T    CV  ML      Acc    b_Acc    Prec    Rec     F1    kap    ROC    tra-T    test-T    Al-Time\n",
      "--  -----------------  ---  ----  ----  -----  -------  ------  -----  -----  -----  -----  -------  --------  ---------\n",
      " 0  A211223-A211116_1    0     1  DT    0.574    0.507   0.468  0.507  0.431  0.55       0    1.226     0.251          0\n",
      " 1  A211223-A211116_1    1     2  DT    0.571    0.507   0.467  0.507  0.431  0.547      0    1.283     0.257          0\n",
      " 2  A211223-A211116_1    2     3  DT    0.574    0.506   0.468  0.506  0.43   0.55       0    1.171     0.264          0\n",
      " 3  A211223-A211116_1    3     4  DT    0.574    0.506   0.465  0.506  0.43   0.55       0    1.15      0.23           0\n",
      " 4  A211223-A211116_1    4     5  DT    0.572    0.505   0.467  0.505  0.429  0.548      0    1.214     0.26           0\n",
      "\n"
     ]
    },
    {
     "name": "stderr",
     "output_type": "stream",
     "text": [
      "\r",
      " 20%|████████████████▌                                                                  | 4/20 [02:44<11:01, 41.34s/it]"
     ]
    },
    {
     "name": "stdout",
     "output_type": "stream",
     "text": [
      "    Dataset              T    CV  ML      Acc    b_Acc    Prec    Rec     F1    kap    ROC    tra-T    test-T    Al-Time\n",
      "--  -----------------  ---  ----  ----  -----  -------  ------  -----  -----  -----  -----  -------  --------  ---------\n",
      " 0  A211223-A211117_1    0     1  DT    0.523    0.497   0.46   0.497  0.423  0.504      0    1.161     0.245          0\n",
      " 1  A211223-A211117_1    1     2  DT    0.523    0.497   0.46   0.497  0.423  0.504      0    1.299     0.22           0\n",
      " 2  A211223-A211117_1    2     3  DT    0.525    0.498   0.461  0.498  0.423  0.506      0    1.198     0.226          0\n",
      " 3  A211223-A211117_1    3     4  DT    0.525    0.498   0.46   0.498  0.422  0.506      0    1.18      0.218          0\n",
      " 4  A211223-A211117_1    4     5  DT    0.525    0.498   0.459  0.498  0.423  0.506      0    1.193     0.208          0\n",
      "\n"
     ]
    },
    {
     "name": "stderr",
     "output_type": "stream",
     "text": [
      "\r",
      " 25%|████████████████████▊                                                              | 5/20 [03:22<10:05, 40.34s/it]"
     ]
    },
    {
     "name": "stdout",
     "output_type": "stream",
     "text": [
      "    Dataset              T    CV  ML      Acc    b_Acc    Prec    Rec     F1    kap    ROC    tra-T    test-T    Al-Time\n",
      "--  -----------------  ---  ----  ----  -----  -------  ------  -----  -----  -----  -----  -------  --------  ---------\n",
      " 0  A211223-A211118_1    0     1  DT    0.556    0.509   0.481  0.509  0.442   0.54      0    1.17      0.16           0\n",
      " 1  A211223-A211118_1    1     2  DT    0.556    0.509   0.481  0.509  0.442   0.54      0    1.216     0.145          0\n",
      " 2  A211223-A211118_1    2     3  DT    0.556    0.509   0.482  0.509  0.442   0.54      0    1.191     0.137          0\n",
      " 3  A211223-A211118_1    3     4  DT    0.556    0.509   0.484  0.509  0.443   0.54      0    1.266     0.147          0\n",
      " 4  A211223-A211118_1    4     5  DT    0.556    0.509   0.484  0.509  0.442   0.54      0    1.172     0.161          0\n",
      "\n"
     ]
    },
    {
     "name": "stderr",
     "output_type": "stream",
     "text": [
      "\r",
      " 30%|████████████████████████▉                                                          | 6/20 [03:55<08:50, 37.88s/it]"
     ]
    },
    {
     "name": "stdout",
     "output_type": "stream",
     "text": [
      "    Dataset              T    CV  ML      Acc    b_Acc    Prec    Rec     F1    kap    ROC    tra-T    test-T    Al-Time\n",
      "--  -----------------  ---  ----  ----  -----  -------  ------  -----  -----  -----  -----  -------  --------  ---------\n",
      " 0  A211223-A211122_1    0     1  DT    0.542    0.507   0.472  0.507  0.432  0.525      0    1.201     0.216          0\n",
      " 1  A211223-A211122_1    1     2  DT    0.527    0.504   0.465  0.504  0.43   0.51       0    1.316     0.214          0\n",
      " 2  A211223-A211122_1    2     3  DT    0.542    0.507   0.472  0.507  0.432  0.525      0    1.168     0.199          0\n",
      " 3  A211223-A211122_1    3     4  DT    0.527    0.504   0.465  0.504  0.43   0.51       0    1.179     0.21           0\n",
      " 4  A211223-A211122_1    4     5  DT    0.527    0.504   0.465  0.504  0.43   0.51       0    1.285     0.227          0\n",
      "\n"
     ]
    },
    {
     "name": "stderr",
     "output_type": "stream",
     "text": [
      "\r",
      " 35%|█████████████████████████████                                                      | 7/20 [04:34<08:16, 38.16s/it]"
     ]
    },
    {
     "name": "stdout",
     "output_type": "stream",
     "text": [
      "    Dataset              T    CV  ML      Acc    b_Acc    Prec    Rec     F1    kap    ROC    tra-T    test-T    Al-Time\n",
      "--  -----------------  ---  ----  ----  -----  -------  ------  -----  -----  -----  -----  -------  --------  ---------\n",
      " 0  A211223-A211123_1    0     1  DT    0.563    0.52    0.476  0.52   0.448  0.546      0    1.151     0.248          0\n",
      " 1  A211223-A211123_1    1     2  DT    0.563    0.52    0.477  0.52   0.448  0.546      0    1.189     0.226          0\n",
      " 2  A211223-A211123_1    2     3  DT    0.563    0.52    0.476  0.52   0.447  0.546      0    1.251     0.211          0\n",
      " 3  A211223-A211123_1    3     4  DT    0.543    0.516   0.471  0.516  0.445  0.526      0    1.219     0.226          0\n",
      " 4  A211223-A211123_1    4     5  DT    0.563    0.52    0.477  0.52   0.448  0.546      0    1.172     0.222          0\n",
      "\n"
     ]
    },
    {
     "name": "stderr",
     "output_type": "stream",
     "text": [
      "\r",
      " 40%|█████████████████████████████████▏                                                 | 8/20 [05:14<07:43, 38.61s/it]"
     ]
    },
    {
     "name": "stdout",
     "output_type": "stream",
     "text": [
      "    Dataset              T    CV  ML      Acc    b_Acc    Prec    Rec     F1    kap    ROC    tra-T    test-T    Al-Time\n",
      "--  -----------------  ---  ----  ----  -----  -------  ------  -----  -----  -----  -----  -------  --------  ---------\n",
      " 0  A211223-A211125_1    0     1  DT    0.573    0.502   0.463  0.502  0.434  0.557      0    1.21      0.211          0\n",
      " 1  A211223-A211125_1    1     2  DT    0.579    0.504   0.471  0.504  0.441  0.563      0    1.218     0.174          0\n",
      " 2  A211223-A211125_1    2     3  DT    0.578    0.503   0.463  0.503  0.435  0.562      0    1.188     0.21           0\n",
      " 3  A211223-A211125_1    3     4  DT    0.579    0.503   0.464  0.503  0.435  0.562      0    1.214     0.2            0\n",
      " 4  A211223-A211125_1    4     5  DT    0.579    0.504   0.464  0.504  0.435  0.562      0    1.26      0.214          0\n",
      "\n"
     ]
    },
    {
     "name": "stderr",
     "output_type": "stream",
     "text": [
      "\r",
      " 45%|█████████████████████████████████████▎                                             | 9/20 [05:49<06:53, 37.63s/it]"
     ]
    },
    {
     "name": "stdout",
     "output_type": "stream",
     "text": [
      "    Dataset              T    CV  ML      Acc    b_Acc    Prec    Rec     F1    kap    ROC    tra-T    test-T    Al-Time\n",
      "--  -----------------  ---  ----  ----  -----  -------  ------  -----  -----  -----  -----  -------  --------  ---------\n",
      " 0  A211223-A211206_1    0     1  DT    0.527    0.533   0.511  0.533  0.461  0.513      0    1.271     0.211          0\n",
      " 1  A211223-A211206_1    1     2  DT    0.527    0.533   0.511  0.533  0.461  0.513      0    1.225     0.215          0\n",
      " 2  A211223-A211206_1    2     3  DT    0.527    0.532   0.511  0.532  0.461  0.513      0    1.156     0.229          0\n",
      " 3  A211223-A211206_1    3     4  DT    0.527    0.533   0.512  0.533  0.461  0.513      0    1.177     0.223          0\n",
      " 4  A211223-A211206_1    4     5  DT    0.525    0.534   0.501  0.534  0.456  0.51       0    1.22      0.205          0\n",
      "\n"
     ]
    },
    {
     "name": "stderr",
     "output_type": "stream",
     "text": [
      "\r",
      " 50%|█████████████████████████████████████████                                         | 10/20 [06:28<06:19, 37.99s/it]"
     ]
    },
    {
     "name": "stdout",
     "output_type": "stream",
     "text": [
      "    Dataset              T    CV  ML      Acc    b_Acc    Prec    Rec     F1    kap    ROC    tra-T    test-T    Al-Time\n",
      "--  -----------------  ---  ----  ----  -----  -------  ------  -----  -----  -----  -----  -------  --------  ---------\n",
      " 0  A211223-A211208_1    0     1  DT    0.533    0.502   0.485  0.502  0.446  0.517      0    1.201     0.201          0\n",
      " 1  A211223-A211208_1    1     2  DT    0.533    0.501   0.485  0.501  0.446  0.517      0    1.185     0.224          0\n",
      " 2  A211223-A211208_1    2     3  DT    0.534    0.502   0.487  0.502  0.445  0.518      0    1.182     0.188          0\n",
      " 3  A211223-A211208_1    3     4  DT    0.549    0.521   0.499  0.521  0.456  0.533      0    1.161     0.223          0\n",
      " 4  A211223-A211208_1    4     5  DT    0.534    0.502   0.487  0.502  0.444  0.518      0    1.215     0.198          0\n",
      "\n"
     ]
    },
    {
     "name": "stderr",
     "output_type": "stream",
     "text": [
      "\r",
      " 55%|█████████████████████████████████████████████                                     | 11/20 [07:03<05:34, 37.13s/it]"
     ]
    },
    {
     "name": "stdout",
     "output_type": "stream",
     "text": [
      "    Dataset              T    CV  ML      Acc    b_Acc    Prec    Rec    F1    kap    ROC    tra-T    test-T    Al-Time\n",
      "--  -----------------  ---  ----  ----  -----  -------  ------  -----  ----  -----  -----  -------  --------  ---------\n",
      " 0  A211223-A211223_1    0     1  DT    0.923    0.919   0.925  0.919  0.92   0.92      0    1.192     0.15           0\n",
      " 1  A211223-A211223_1    1     2  DT    0.923    0.919   0.925  0.919  0.92   0.92      0    1.244     0.172          0\n",
      " 2  A211223-A211223_1    2     3  DT    0.923    0.919   0.925  0.919  0.92   0.92      0    1.216     0.164          0\n",
      " 3  A211223-A211223_1    3     4  DT    0.923    0.919   0.925  0.919  0.92   0.92      0    1.222     0.154          0\n",
      " 4  A211223-A211223_1    4     5  DT    0.923    0.919   0.925  0.919  0.92   0.92      0    1.183     0.154          0\n",
      "\n"
     ]
    },
    {
     "name": "stderr",
     "output_type": "stream",
     "text": [
      "\r",
      " 60%|█████████████████████████████████████████████████▏                                | 12/20 [07:35<04:44, 35.56s/it]"
     ]
    },
    {
     "name": "stdout",
     "output_type": "stream",
     "text": [
      "    Dataset              T    CV  ML      Acc    b_Acc    Prec    Rec     F1    kap    ROC    tra-T    test-T    Al-Time\n",
      "--  -----------------  ---  ----  ----  -----  -------  ------  -----  -----  -----  -----  -------  --------  ---------\n",
      " 0  A211223-A211225_1    0     1  DT    0.835     0.83   0.821   0.83  0.804  0.829      0    1.206     0.173          0\n",
      " 1  A211223-A211225_1    1     2  DT    0.835     0.83   0.821   0.83  0.804  0.829      0    1.185     0.194          0\n",
      " 2  A211223-A211225_1    2     3  DT    0.835     0.83   0.821   0.83  0.804  0.829      0    1.159     0.18           0\n",
      " 3  A211223-A211225_1    3     4  DT    0.835     0.83   0.821   0.83  0.804  0.829      0    1.21      0.174          0\n",
      " 4  A211223-A211225_1    4     5  DT    0.835     0.83   0.821   0.83  0.804  0.829      0    1.233     0.187          0\n",
      "\n"
     ]
    },
    {
     "name": "stderr",
     "output_type": "stream",
     "text": [
      "\r",
      " 65%|█████████████████████████████████████████████████████▎                            | 13/20 [08:10<04:08, 35.47s/it]"
     ]
    },
    {
     "name": "stdout",
     "output_type": "stream",
     "text": [
      "    Dataset              T    CV  ML      Acc    b_Acc    Prec    Rec     F1    kap    ROC    tra-T    test-T    Al-Time\n",
      "--  -----------------  ---  ----  ----  -----  -------  ------  -----  -----  -----  -----  -------  --------  ---------\n",
      " 0  A211223-A211228_1    0     1  DT    0.632    0.669   0.639  0.669  0.62   0.619      0    1.225     0.2            0\n",
      " 1  A211223-A211228_1    1     2  DT    0.632    0.67    0.639  0.67   0.62   0.62       0    1.268     0.19           0\n",
      " 2  A211223-A211228_1    2     3  DT    0.634    0.67    0.642  0.67   0.619  0.622      0    1.185     0.198          0\n",
      " 3  A211223-A211228_1    3     4  DT    0.632    0.67    0.64   0.67   0.62   0.62       0    1.244     0.201          0\n",
      " 4  A211223-A211228_1    4     5  DT    0.632    0.67    0.64   0.67   0.62   0.62       0    1.174     0.227          0\n",
      "\n"
     ]
    },
    {
     "name": "stderr",
     "output_type": "stream",
     "text": [
      "\r",
      " 70%|█████████████████████████████████████████████████████████▍                        | 14/20 [08:46<03:33, 35.65s/it]"
     ]
    },
    {
     "name": "stdout",
     "output_type": "stream",
     "text": [
      "    Dataset              T    CV  ML      Acc    b_Acc    Prec    Rec     F1    kap    ROC    tra-T    test-T    Al-Time\n",
      "--  -----------------  ---  ----  ----  -----  -------  ------  -----  -----  -----  -----  -------  --------  ---------\n",
      " 0  A211223-I211108_1    0     1  DT    0.621    0.582   0.546  0.582  0.527  0.606      0    1.197     0.213          0\n",
      " 1  A211223-I211108_1    1     2  DT    0.621    0.581   0.545  0.581  0.526  0.606      0    1.223     0.227          0\n",
      " 2  A211223-I211108_1    2     3  DT    0.621    0.581   0.536  0.581  0.519  0.606      0    1.275     0.218          0\n",
      " 3  A211223-I211108_1    3     4  DT    0.621    0.582   0.546  0.582  0.527  0.606      0    1.289     0.206          0\n",
      " 4  A211223-I211108_1    4     5  DT    0.621    0.581   0.546  0.581  0.526  0.606      0    1.144     0.214          0\n",
      "\n"
     ]
    },
    {
     "name": "stderr",
     "output_type": "stream",
     "text": [
      "\r",
      " 75%|█████████████████████████████████████████████████████████████▌                    | 15/20 [09:24<03:01, 36.35s/it]"
     ]
    },
    {
     "name": "stdout",
     "output_type": "stream",
     "text": [
      "    Dataset              T    CV  ML      Acc    b_Acc    Prec    Rec     F1    kap    ROC    tra-T    test-T    Al-Time\n",
      "--  -----------------  ---  ----  ----  -----  -------  ------  -----  -----  -----  -----  -------  --------  ---------\n",
      " 0  A211223-I211112_1    0     1  DT    0.548     0.51   0.456   0.51  0.439  0.528      0    1.219     0.234          0\n",
      " 1  A211223-I211112_1    1     2  DT    0.548     0.51   0.454   0.51  0.438  0.528      0    1.255     0.261          0\n",
      " 2  A211223-I211112_1    2     3  DT    0.548     0.51   0.452   0.51  0.438  0.528      0    1.168     0.231          0\n",
      " 3  A211223-I211112_1    3     4  DT    0.548     0.51   0.459   0.51  0.44   0.529      0    1.265     0.264          0\n",
      " 4  A211223-I211112_1    4     5  DT    0.548     0.51   0.462   0.51  0.439  0.528      0    1.249     0.215          0\n",
      "\n"
     ]
    },
    {
     "name": "stderr",
     "output_type": "stream",
     "text": [
      "\r",
      " 80%|█████████████████████████████████████████████████████████████████▌                | 16/20 [10:06<02:31, 37.99s/it]"
     ]
    },
    {
     "name": "stdout",
     "output_type": "stream",
     "text": [
      "    Dataset              T    CV  ML      Acc    b_Acc    Prec    Rec     F1    kap    ROC    tra-T    test-T    Al-Time\n",
      "--  -----------------  ---  ----  ----  -----  -------  ------  -----  -----  -----  -----  -------  --------  ---------\n",
      " 0  A211223-I211115_1    0     1  DT    0.535    0.493   0.47   0.493  0.426  0.519      0    1.158     0.214          0\n",
      " 1  A211223-I211115_1    1     2  DT    0.535    0.493   0.469  0.493  0.426  0.519      0    1.261     0.245          0\n",
      " 2  A211223-I211115_1    2     3  DT    0.535    0.493   0.467  0.493  0.425  0.519      0    1.153     0.233          0\n",
      " 3  A211223-I211115_1    3     4  DT    0.535    0.493   0.469  0.493  0.426  0.519      0    1.168     0.219          0\n",
      " 4  A211223-I211115_1    4     5  DT    0.535    0.493   0.47   0.493  0.426  0.519      0    1.25      0.242          0\n",
      "\n"
     ]
    },
    {
     "name": "stderr",
     "output_type": "stream",
     "text": [
      "\r",
      " 85%|█████████████████████████████████████████████████████████████████████▋            | 17/20 [10:46<01:55, 38.37s/it]"
     ]
    },
    {
     "name": "stdout",
     "output_type": "stream",
     "text": [
      "    Dataset              T    CV  ML      Acc    b_Acc    Prec    Rec     F1    kap    ROC    tra-T    test-T    Al-Time\n",
      "--  -----------------  ---  ----  ----  -----  -------  ------  -----  -----  -----  -----  -------  --------  ---------\n",
      " 0  A211223-I211118_1    0     1  DT    0.546    0.517   0.492  0.517  0.447   0.53      0    1.159     0.211          0\n",
      " 1  A211223-I211118_1    1     2  DT    0.546    0.517   0.493  0.517  0.447   0.53      0    1.177     0.224          0\n",
      " 2  A211223-I211118_1    2     3  DT    0.546    0.517   0.492  0.517  0.446   0.53      0    1.23      0.252          0\n",
      " 3  A211223-I211118_1    3     4  DT    0.546    0.517   0.492  0.517  0.447   0.53      0    1.215     0.225          0\n",
      " 4  A211223-I211118_1    4     5  DT    0.546    0.517   0.482  0.517  0.446   0.53      0    1.171     0.212          0\n",
      "\n"
     ]
    },
    {
     "name": "stderr",
     "output_type": "stream",
     "text": [
      "\r",
      " 90%|█████████████████████████████████████████████████████████████████████████▊        | 18/20 [11:24<01:16, 38.37s/it]"
     ]
    },
    {
     "name": "stdout",
     "output_type": "stream",
     "text": [
      "    Dataset              T    CV  ML      Acc    b_Acc    Prec    Rec     F1    kap    ROC    tra-T    test-T    Al-Time\n",
      "--  -----------------  ---  ----  ----  -----  -------  ------  -----  -----  -----  -----  -------  --------  ---------\n",
      " 0  A211223-I211119_1    0     1  DT    0.541    0.517   0.492  0.517  0.452  0.525      0    1.243     0.229          0\n",
      " 1  A211223-I211119_1    1     2  DT    0.541    0.517   0.492  0.517  0.452  0.524      0    1.148     0.219          0\n",
      " 2  A211223-I211119_1    2     3  DT    0.542    0.517   0.491  0.517  0.452  0.525      0    1.212     0.212          0\n",
      " 3  A211223-I211119_1    3     4  DT    0.541    0.517   0.492  0.517  0.453  0.525      0    1.259     0.218          0\n",
      " 4  A211223-I211119_1    4     5  DT    0.542    0.517   0.492  0.517  0.453  0.525      0    1.135     0.228          0\n",
      "\n"
     ]
    },
    {
     "name": "stderr",
     "output_type": "stream",
     "text": [
      "\r",
      " 95%|█████████████████████████████████████████████████████████████████████████████▉    | 19/20 [12:02<00:38, 38.32s/it]"
     ]
    },
    {
     "name": "stdout",
     "output_type": "stream",
     "text": [
      "    Dataset              T    CV  ML      Acc    b_Acc    Prec    Rec     F1    kap    ROC    tra-T    test-T    Al-Time\n",
      "--  -----------------  ---  ----  ----  -----  -------  ------  -----  -----  -----  -----  -------  --------  ---------\n",
      " 0  A211223-I211122_1    0     1  DT    0.554    0.524   0.497  0.524  0.458  0.538      0    1.218     0.223          0\n",
      " 1  A211223-I211122_1    1     2  DT    0.554    0.524   0.497  0.524  0.458  0.538      0    1.318     0.233          0\n",
      " 2  A211223-I211122_1    2     3  DT    0.554    0.524   0.493  0.524  0.454  0.538      0    1.148     0.226          0\n",
      " 3  A211223-I211122_1    3     4  DT    0.554    0.524   0.497  0.524  0.458  0.538      0    1.198     0.231          0\n",
      " 4  A211223-I211122_1    4     5  DT    0.554    0.524   0.498  0.524  0.458  0.538      0    1.239     0.245          0\n",
      "\n"
     ]
    },
    {
     "name": "stderr",
     "output_type": "stream",
     "text": [
      "100%|██████████████████████████████████████████████████████████████████████████████████| 20/20 [12:41<00:00, 38.08s/it]\n",
      "  0%|                                                                                           | 0/20 [00:00<?, ?it/s]"
     ]
    },
    {
     "name": "stdout",
     "output_type": "stream",
     "text": [
      "    Dataset              T    CV  ML      Acc    b_Acc    Prec    Rec     F1    kap    ROC    tra-T    test-T    Al-Time\n",
      "--  -----------------  ---  ----  ----  -----  -------  ------  -----  -----  -----  -----  -------  --------  ---------\n",
      " 0  A211225-A211108_1    0     1  DT    0.651    0.617   0.573  0.617  0.56   0.631      0    1.576     0.256          0\n",
      " 1  A211225-A211108_1    1     2  DT    0.651    0.617   0.572  0.617  0.56   0.631      0    1.64      0.258          0\n",
      " 2  A211225-A211108_1    2     3  DT    0.651    0.617   0.57   0.617  0.556  0.631      0    1.575     0.234          0\n",
      " 3  A211225-A211108_1    3     4  DT    0.662    0.637   0.581  0.637  0.57   0.643      0    1.548     0.233          0\n",
      " 4  A211225-A211108_1    4     5  DT    0.651    0.617   0.571  0.617  0.56   0.631      0    1.599     0.272          0\n",
      "\n"
     ]
    },
    {
     "name": "stderr",
     "output_type": "stream",
     "text": [
      "\r",
      "  5%|████▏                                                                              | 1/20 [00:45<14:15, 45.04s/it]"
     ]
    },
    {
     "name": "stdout",
     "output_type": "stream",
     "text": [
      "    Dataset              T    CV  ML      Acc    b_Acc    Prec    Rec     F1    kap    ROC    tra-T    test-T    Al-Time\n",
      "--  -----------------  ---  ----  ----  -----  -------  ------  -----  -----  -----  -----  -------  --------  ---------\n",
      " 0  A211225-A211109_1    0     1  DT    0.685    0.631   0.59   0.631  0.574  0.67       0    1.613     0.214          0\n",
      " 1  A211225-A211109_1    1     2  DT    0.672    0.612   0.58   0.612  0.56   0.655      0    1.595     0.222          0\n",
      " 2  A211225-A211109_1    2     3  DT    0.685    0.631   0.593  0.631  0.576  0.67       0    1.795     0.225          0\n",
      " 3  A211225-A211109_1    3     4  DT    0.685    0.631   0.591  0.631  0.572  0.67       0    1.458     0.198          0\n",
      " 4  A211225-A211109_1    4     5  DT    0.672    0.612   0.58   0.612  0.565  0.655      0    1.566     0.218          0\n",
      "\n"
     ]
    },
    {
     "name": "stderr",
     "output_type": "stream",
     "text": [
      "\r",
      " 10%|████████▎                                                                          | 2/20 [01:25<12:46, 42.58s/it]"
     ]
    },
    {
     "name": "stdout",
     "output_type": "stream",
     "text": [
      "    Dataset              T    CV  ML      Acc    b_Acc    Prec    Rec     F1    kap    ROC    tra-T    test-T    Al-Time\n",
      "--  -----------------  ---  ----  ----  -----  -------  ------  -----  -----  -----  -----  -------  --------  ---------\n",
      " 0  A211225-A211115_1    0     1  DT    0.644    0.534   0.52   0.534  0.473  0.619      0    1.588     0.263          0\n",
      " 1  A211225-A211115_1    1     2  DT    0.644    0.533   0.53   0.533  0.478  0.619      0    1.571     0.273          0\n",
      " 2  A211225-A211115_1    2     3  DT    0.644    0.534   0.523  0.534  0.48   0.618      0    1.581     0.271          0\n",
      " 3  A211225-A211115_1    3     4  DT    0.644    0.532   0.521  0.532  0.475  0.617      0    1.574     0.263          0\n",
      " 4  A211225-A211115_1    4     5  DT    0.644    0.534   0.525  0.534  0.48   0.618      0    1.603     0.252          0\n",
      "\n"
     ]
    },
    {
     "name": "stderr",
     "output_type": "stream",
     "text": [
      "\r",
      " 15%|████████████▍                                                                      | 3/20 [02:12<12:31, 44.23s/it]"
     ]
    },
    {
     "name": "stdout",
     "output_type": "stream",
     "text": [
      "    Dataset              T    CV  ML      Acc    b_Acc    Prec    Rec     F1    kap    ROC    tra-T    test-T    Al-Time\n",
      "--  -----------------  ---  ----  ----  -----  -------  ------  -----  -----  -----  -----  -------  --------  ---------\n",
      " 0  A211225-A211116_1    0     1  DT    0.593    0.527   0.49   0.527  0.462  0.568      0    1.493     0.243          0\n",
      " 1  A211225-A211116_1    1     2  DT    0.593    0.527   0.497  0.527  0.463  0.569      0    1.648     0.229          0\n",
      " 2  A211225-A211116_1    2     3  DT    0.593    0.527   0.496  0.527  0.466  0.568      0    1.601     0.225          0\n",
      " 3  A211225-A211116_1    3     4  DT    0.593    0.527   0.498  0.527  0.464  0.569      0    1.509     0.239          0\n",
      " 4  A211225-A211116_1    4     5  DT    0.593    0.527   0.505  0.527  0.469  0.568      0    1.585     0.238          0\n",
      "\n"
     ]
    },
    {
     "name": "stderr",
     "output_type": "stream",
     "text": [
      "\r",
      " 20%|████████████████▌                                                                  | 4/20 [02:56<11:46, 44.18s/it]"
     ]
    },
    {
     "name": "stdout",
     "output_type": "stream",
     "text": [
      "    Dataset              T    CV  ML      Acc    b_Acc    Prec    Rec     F1    kap    ROC    tra-T    test-T    Al-Time\n",
      "--  -----------------  ---  ----  ----  -----  -------  ------  -----  -----  -----  -----  -------  --------  ---------\n",
      " 0  A211225-A211117_1    0     1  DT    0.537    0.508   0.505  0.508  0.454  0.513      0    1.601     0.251          0\n",
      " 1  A211225-A211117_1    1     2  DT    0.537    0.508   0.508  0.508  0.452  0.516      0    1.594     0.246          0\n",
      " 2  A211225-A211117_1    2     3  DT    0.537    0.508   0.49   0.508  0.444  0.516      0    1.53      0.263          0\n",
      " 3  A211225-A211117_1    3     4  DT    0.537    0.508   0.504  0.508  0.448  0.516      0    1.581     0.216          0\n",
      " 4  A211225-A211117_1    4     5  DT    0.537    0.508   0.503  0.508  0.447  0.516      0    1.593     0.227          0\n",
      "\n"
     ]
    },
    {
     "name": "stderr",
     "output_type": "stream",
     "text": [
      "\r",
      " 25%|████████████████████▊                                                              | 5/20 [03:37<10:45, 43.05s/it]"
     ]
    },
    {
     "name": "stdout",
     "output_type": "stream",
     "text": [
      "    Dataset              T    CV  ML      Acc    b_Acc    Prec    Rec     F1    kap    ROC    tra-T    test-T    Al-Time\n",
      "--  -----------------  ---  ----  ----  -----  -------  ------  -----  -----  -----  -----  -------  --------  ---------\n",
      " 0  A211225-A211118_1    0     1  DT    0.563    0.513   0.511  0.513  0.464  0.546      0    1.626     0.17           0\n",
      " 1  A211225-A211118_1    1     2  DT    0.563    0.513   0.511  0.513  0.464  0.546      0    1.568     0.159          0\n",
      " 2  A211225-A211118_1    2     3  DT    0.563    0.513   0.494  0.513  0.454  0.547      0    1.588     0.162          0\n",
      " 3  A211225-A211118_1    3     4  DT    0.563    0.513   0.508  0.513  0.459  0.546      0    1.519     0.147          0\n",
      " 4  A211225-A211118_1    4     5  DT    0.563    0.513   0.494  0.513  0.458  0.546      0    1.554     0.162          0\n",
      "\n"
     ]
    },
    {
     "name": "stderr",
     "output_type": "stream",
     "text": [
      "\r",
      " 30%|████████████████████████▉                                                          | 6/20 [04:12<09:26, 40.43s/it]"
     ]
    },
    {
     "name": "stdout",
     "output_type": "stream",
     "text": [
      "    Dataset              T    CV  ML      Acc    b_Acc    Prec    Rec     F1    kap    ROC    tra-T    test-T    Al-Time\n",
      "--  -----------------  ---  ----  ----  -----  -------  ------  -----  -----  -----  -----  -------  --------  ---------\n",
      " 0  A211225-A211122_1    0     1  DT    0.571    0.529   0.503  0.529  0.467  0.552      0    1.544     0.223          0\n",
      " 1  A211225-A211122_1    1     2  DT    0.571    0.529   0.501  0.529  0.468  0.552      0    1.63      0.239          0\n",
      " 2  A211225-A211122_1    2     3  DT    0.571    0.529   0.502  0.529  0.47   0.552      0    1.53      0.2            0\n",
      " 3  A211225-A211122_1    3     4  DT    0.582    0.55    0.517  0.55   0.483  0.564      0    1.567     0.226          0\n",
      " 4  A211225-A211122_1    4     5  DT    0.571    0.529   0.51   0.529  0.472  0.552      0    1.616     0.214          0\n",
      "\n"
     ]
    },
    {
     "name": "stderr",
     "output_type": "stream",
     "text": [
      "\r",
      " 35%|█████████████████████████████                                                      | 7/20 [04:53<08:48, 40.68s/it]"
     ]
    },
    {
     "name": "stdout",
     "output_type": "stream",
     "text": [
      "    Dataset              T    CV  ML      Acc    b_Acc    Prec    Rec     F1    kap    ROC    tra-T    test-T    Al-Time\n",
      "--  -----------------  ---  ----  ----  -----  -------  ------  -----  -----  -----  -----  -------  --------  ---------\n",
      " 0  A211225-A211123_1    0     1  DT    0.582    0.541   0.514  0.541  0.481  0.565      0    1.576     0.221          0\n",
      " 1  A211225-A211123_1    1     2  DT    0.582    0.541   0.511  0.541  0.482  0.563      0    1.55      0.21           0\n",
      " 2  A211225-A211123_1    2     3  DT    0.593    0.562   0.51   0.562  0.49   0.575      0    1.655     0.23           0\n",
      " 3  A211225-A211123_1    3     4  DT    0.582    0.541   0.516  0.541  0.484  0.563      0    1.548     0.214          0\n",
      " 4  A211225-A211123_1    4     5  DT    0.582    0.541   0.507  0.541  0.48   0.564      0    1.606     0.231          0\n",
      "\n"
     ]
    },
    {
     "name": "stderr",
     "output_type": "stream",
     "text": [
      "\r",
      " 40%|█████████████████████████████████▏                                                 | 8/20 [05:35<08:13, 41.11s/it]"
     ]
    },
    {
     "name": "stdout",
     "output_type": "stream",
     "text": [
      "    Dataset              T    CV  ML      Acc    b_Acc    Prec    Rec     F1    kap    ROC    tra-T    test-T    Al-Time\n",
      "--  -----------------  ---  ----  ----  -----  -------  ------  -----  -----  -----  -----  -------  --------  ---------\n",
      " 0  A211225-A211125_1    0     1  DT    0.595    0.517   0.473  0.517  0.463  0.578      0    1.484     0.177          0\n",
      " 1  A211225-A211125_1    1     2  DT    0.595    0.517   0.474  0.517  0.463  0.578      0    1.525     0.207          0\n",
      " 2  A211225-A211125_1    2     3  DT    0.595    0.517   0.485  0.517  0.464  0.577      0    1.55      0.185          0\n",
      " 3  A211225-A211125_1    3     4  DT    0.608    0.538   0.501  0.538  0.478  0.592      0    1.675     0.154          0\n",
      " 4  A211225-A211125_1    4     5  DT    0.608    0.538   0.493  0.538  0.478  0.591      0    1.522     0.194          0\n",
      "\n"
     ]
    },
    {
     "name": "stderr",
     "output_type": "stream",
     "text": [
      "\r",
      " 45%|█████████████████████████████████████▎                                             | 9/20 [06:13<07:21, 40.09s/it]"
     ]
    },
    {
     "name": "stdout",
     "output_type": "stream",
     "text": [
      "    Dataset              T    CV  ML      Acc    b_Acc    Prec    Rec     F1    kap    ROC    tra-T    test-T    Al-Time\n",
      "--  -----------------  ---  ----  ----  -----  -------  ------  -----  -----  -----  -----  -------  --------  ---------\n",
      " 0  A211225-A211206_1    0     1  DT    0.583    0.559   0.53   0.559  0.504  0.569      0    1.598     0.232          0\n",
      " 1  A211225-A211206_1    1     2  DT    0.583    0.56    0.514  0.56   0.499  0.566      0    1.508     0.195          0\n",
      " 2  A211225-A211206_1    2     3  DT    0.583    0.559   0.515  0.559  0.499  0.566      0    1.558     0.206          0\n",
      " 3  A211225-A211206_1    3     4  DT    0.583    0.559   0.522  0.559  0.503  0.567      0    1.473     0.206          0\n",
      " 4  A211225-A211206_1    4     5  DT    0.583    0.559   0.513  0.559  0.495  0.567      0    1.709     0.226          0\n",
      "\n"
     ]
    },
    {
     "name": "stderr",
     "output_type": "stream",
     "text": [
      "\r",
      " 50%|█████████████████████████████████████████                                         | 10/20 [06:53<06:40, 40.09s/it]"
     ]
    },
    {
     "name": "stdout",
     "output_type": "stream",
     "text": [
      "    Dataset              T    CV  ML      Acc    b_Acc    Prec    Rec     F1    kap    ROC    tra-T    test-T    Al-Time\n",
      "--  -----------------  ---  ----  ----  -----  -------  ------  -----  -----  -----  -----  -------  --------  ---------\n",
      " 0  A211225-A211208_1    0     1  DT    0.561     0.52   0.483   0.52  0.459  0.545      0    1.548     0.188          0\n",
      " 1  A211225-A211208_1    1     2  DT    0.561     0.52   0.483   0.52  0.459  0.545      0    1.478     0.197          0\n",
      " 2  A211225-A211208_1    2     3  DT    0.561     0.52   0.483   0.52  0.459  0.545      0    1.484     0.171          0\n",
      " 3  A211225-A211208_1    3     4  DT    0.561     0.52   0.483   0.52  0.462  0.542      0    1.5       0.183          0\n",
      " 4  A211225-A211208_1    4     5  DT    0.561     0.52   0.483   0.52  0.462  0.542      0    1.478     0.17           0\n",
      "\n"
     ]
    },
    {
     "name": "stderr",
     "output_type": "stream",
     "text": [
      "\r",
      " 55%|█████████████████████████████████████████████                                     | 11/20 [07:30<05:51, 39.01s/it]"
     ]
    },
    {
     "name": "stdout",
     "output_type": "stream",
     "text": [
      "    Dataset              T    CV  ML      Acc    b_Acc    Prec    Rec     F1    kap    ROC    tra-T    test-T    Al-Time\n",
      "--  -----------------  ---  ----  ----  -----  -------  ------  -----  -----  -----  -----  -------  --------  ---------\n",
      " 0  A211225-A211223_1    0     1  DT    0.891    0.878   0.889  0.878  0.877  0.887      0    1.553     0.161          0\n",
      " 1  A211225-A211223_1    1     2  DT    0.891    0.878   0.889  0.878  0.877  0.887      0    1.506     0.146          0\n",
      " 2  A211225-A211223_1    2     3  DT    0.891    0.878   0.889  0.878  0.877  0.887      0    1.545     0.138          0\n",
      " 3  A211225-A211223_1    3     4  DT    0.891    0.878   0.889  0.878  0.877  0.887      0    1.555     0.163          0\n",
      " 4  A211225-A211223_1    4     5  DT    0.891    0.878   0.889  0.878  0.877  0.887      0    1.529     0.148          0\n",
      "\n"
     ]
    },
    {
     "name": "stderr",
     "output_type": "stream",
     "text": [
      "\r",
      " 60%|█████████████████████████████████████████████████▏                                | 12/20 [08:04<05:00, 37.59s/it]"
     ]
    },
    {
     "name": "stdout",
     "output_type": "stream",
     "text": [
      "    Dataset              T    CV  ML      Acc    b_Acc    Prec    Rec     F1    kap    ROC    tra-T    test-T    Al-Time\n",
      "--  -----------------  ---  ----  ----  -----  -------  ------  -----  -----  -----  -----  -------  --------  ---------\n",
      " 0  A211225-A211225_1    0     1  DT     0.93    0.924    0.93  0.924  0.923  0.927      0    1.553     0.182          0\n",
      " 1  A211225-A211225_1    1     2  DT     0.93    0.924    0.93  0.924  0.923  0.927      0    1.573     0.175          0\n",
      " 2  A211225-A211225_1    2     3  DT     0.93    0.924    0.93  0.924  0.923  0.927      0    1.63      0.176          0\n",
      " 3  A211225-A211225_1    3     4  DT     0.93    0.924    0.93  0.924  0.923  0.927      0    1.575     0.175          0\n",
      " 4  A211225-A211225_1    4     5  DT     0.93    0.924    0.93  0.924  0.923  0.927      0    1.605     0.202          0\n",
      "\n"
     ]
    },
    {
     "name": "stderr",
     "output_type": "stream",
     "text": [
      "\r",
      " 65%|█████████████████████████████████████████████████████▎                            | 13/20 [08:41<04:22, 37.52s/it]"
     ]
    },
    {
     "name": "stdout",
     "output_type": "stream",
     "text": [
      "    Dataset              T    CV  ML      Acc    b_Acc    Prec    Rec     F1    kap    ROC    tra-T    test-T    Al-Time\n",
      "--  -----------------  ---  ----  ----  -----  -------  ------  -----  -----  -----  -----  -------  --------  ---------\n",
      " 0  A211225-A211228_1    0     1  DT     0.74    0.705   0.68   0.705  0.67   0.728      0    1.491     0.195          0\n",
      " 1  A211225-A211228_1    1     2  DT     0.74    0.706   0.681  0.706  0.671  0.728      0    1.54      0.188          0\n",
      " 2  A211225-A211228_1    2     3  DT     0.74    0.706   0.689  0.706  0.674  0.727      0    1.554     0.197          0\n",
      " 3  A211225-A211228_1    3     4  DT     0.74    0.706   0.681  0.706  0.671  0.728      0    1.53      0.186          0\n",
      " 4  A211225-A211228_1    4     5  DT     0.74    0.705   0.681  0.705  0.667  0.728      0    1.535     0.204          0\n",
      "\n"
     ]
    },
    {
     "name": "stderr",
     "output_type": "stream",
     "text": [
      "\r",
      " 70%|█████████████████████████████████████████████████████████▍                        | 14/20 [09:19<03:44, 37.50s/it]"
     ]
    },
    {
     "name": "stdout",
     "output_type": "stream",
     "text": [
      "    Dataset              T    CV  ML      Acc    b_Acc    Prec    Rec     F1    kap    ROC    tra-T    test-T    Al-Time\n",
      "--  -----------------  ---  ----  ----  -----  -------  ------  -----  -----  -----  -----  -------  --------  ---------\n",
      " 0  A211225-I211108_1    0     1  DT    0.657    0.624   0.594  0.624  0.569  0.643      0    1.601     0.252          0\n",
      " 1  A211225-I211108_1    1     2  DT    0.657    0.624   0.587  0.624  0.563  0.643      0    1.53      0.221          0\n",
      " 2  A211225-I211108_1    2     3  DT    0.639    0.605   0.571  0.605  0.552  0.624      0    1.506     0.203          0\n",
      " 3  A211225-I211108_1    3     4  DT    0.657    0.624   0.592  0.624  0.568  0.643      0    1.614     0.233          0\n",
      " 4  A211225-I211108_1    4     5  DT    0.639    0.601   0.568  0.601  0.546  0.624      0    1.497     0.227          0\n",
      "\n"
     ]
    },
    {
     "name": "stderr",
     "output_type": "stream",
     "text": [
      "\r",
      " 75%|█████████████████████████████████████████████████████████████▌                    | 15/20 [09:59<03:11, 38.37s/it]"
     ]
    },
    {
     "name": "stdout",
     "output_type": "stream",
     "text": [
      "    Dataset              T    CV  ML      Acc    b_Acc    Prec    Rec     F1    kap    ROC    tra-T    test-T    Al-Time\n",
      "--  -----------------  ---  ----  ----  -----  -------  ------  -----  -----  -----  -----  -------  --------  ---------\n",
      " 0  A211225-I211112_1    0     1  DT    0.548    0.486   0.488  0.486  0.435  0.528      0    1.574     0.199          0\n",
      " 1  A211225-I211112_1    1     2  DT    0.55     0.487   0.484  0.487  0.432  0.53       0    1.625     0.242          0\n",
      " 2  A211225-I211112_1    2     3  DT    0.549    0.487   0.485  0.487  0.431  0.53       0    1.584     0.218          0\n",
      " 3  A211225-I211112_1    3     4  DT    0.548    0.486   0.486  0.486  0.435  0.528      0    1.604     0.213          0\n",
      " 4  A211225-I211112_1    4     5  DT    0.549    0.487   0.49   0.487  0.436  0.529      0    1.663     0.227          0\n",
      "\n"
     ]
    },
    {
     "name": "stderr",
     "output_type": "stream",
     "text": [
      "\r",
      " 80%|█████████████████████████████████████████████████████████████████▌                | 16/20 [10:42<02:39, 39.79s/it]"
     ]
    },
    {
     "name": "stdout",
     "output_type": "stream",
     "text": [
      "    Dataset              T    CV  ML      Acc    b_Acc    Prec    Rec     F1    kap    ROC    tra-T    test-T    Al-Time\n",
      "--  -----------------  ---  ----  ----  -----  -------  ------  -----  -----  -----  -----  -------  --------  ---------\n",
      " 0  A211225-I211115_1    0     1  DT    0.547    0.505   0.498  0.505  0.454  0.53       0    1.562     0.192          0\n",
      " 1  A211225-I211115_1    1     2  DT    0.547    0.505   0.499  0.505  0.451  0.53       0    1.582     0.25           0\n",
      " 2  A211225-I211115_1    2     3  DT    0.547    0.506   0.5    0.506  0.455  0.53       0    1.543     0.198          0\n",
      " 3  A211225-I211115_1    3     4  DT    0.547    0.505   0.5    0.505  0.455  0.53       0    1.513     0.208          0\n",
      " 4  A211225-I211115_1    4     5  DT    0.562    0.525   0.497  0.525  0.462  0.545      0    1.515     0.182          0\n",
      "\n"
     ]
    },
    {
     "name": "stderr",
     "output_type": "stream",
     "text": [
      "\r",
      " 85%|█████████████████████████████████████████████████████████████████████▋            | 17/20 [11:23<02:00, 40.15s/it]"
     ]
    },
    {
     "name": "stdout",
     "output_type": "stream",
     "text": [
      "    Dataset              T    CV  ML      Acc    b_Acc    Prec    Rec     F1    kap    ROC    tra-T    test-T    Al-Time\n",
      "--  -----------------  ---  ----  ----  -----  -------  ------  -----  -----  -----  -----  -------  --------  ---------\n",
      " 0  A211225-I211118_1    0     1  DT    0.57     0.545   0.524  0.545  0.477  0.553      0    1.44      0.188          0\n",
      " 1  A211225-I211118_1    1     2  DT    0.57     0.545   0.514  0.545  0.477  0.553      0    1.482     0.199          0\n",
      " 2  A211225-I211118_1    2     3  DT    0.555    0.525   0.501  0.525  0.463  0.538      0    1.559     0.225          0\n",
      " 3  A211225-I211118_1    3     4  DT    0.555    0.524   0.523  0.524  0.471  0.537      0    1.55      0.209          0\n",
      " 4  A211225-I211118_1    4     5  DT    0.555    0.524   0.503  0.524  0.46   0.538      0    1.516     0.2            0\n",
      "\n"
     ]
    },
    {
     "name": "stderr",
     "output_type": "stream",
     "text": [
      "\r",
      " 90%|█████████████████████████████████████████████████████████████████████████▊        | 18/20 [12:04<01:20, 40.39s/it]"
     ]
    },
    {
     "name": "stdout",
     "output_type": "stream",
     "text": [
      "    Dataset              T    CV  ML      Acc    b_Acc    Prec    Rec     F1    kap    ROC    tra-T    test-T    Al-Time\n",
      "--  -----------------  ---  ----  ----  -----  -------  ------  -----  -----  -----  -----  -------  --------  ---------\n",
      " 0  A211225-I211119_1    0     1  DT    0.548    0.521   0.488  0.521  0.456  0.531      0    1.545     0.209          0\n",
      " 1  A211225-I211119_1    1     2  DT    0.548    0.521   0.503  0.521  0.46   0.531      0    1.564     0.21           0\n",
      " 2  A211225-I211119_1    2     3  DT    0.548    0.521   0.508  0.521  0.464  0.531      0    1.639     0.207          0\n",
      " 3  A211225-I211119_1    3     4  DT    0.548    0.521   0.498  0.521  0.464  0.53       0    1.544     0.191          0\n",
      " 4  A211225-I211119_1    4     5  DT    0.563    0.541   0.508  0.541  0.476  0.545      0    1.603     0.214          0\n",
      "\n"
     ]
    },
    {
     "name": "stderr",
     "output_type": "stream",
     "text": [
      "\r",
      " 95%|█████████████████████████████████████████████████████████████████████████████▉    | 19/20 [12:45<00:40, 40.37s/it]"
     ]
    },
    {
     "name": "stdout",
     "output_type": "stream",
     "text": [
      "    Dataset              T    CV  ML      Acc    b_Acc    Prec    Rec     F1    kap    ROC    tra-T    test-T    Al-Time\n",
      "--  -----------------  ---  ----  ----  -----  -------  ------  -----  -----  -----  -----  -------  --------  ---------\n",
      " 0  A211225-I211122_1    0     1  DT    0.565    0.531   0.502  0.531  0.472  0.548      0    1.619     0.248          0\n",
      " 1  A211225-I211122_1    1     2  DT    0.565    0.531   0.508  0.531  0.475  0.548      0    1.55      0.235          0\n",
      " 2  A211225-I211122_1    2     3  DT    0.565    0.531   0.501  0.531  0.471  0.548      0    1.543     0.234          0\n",
      " 3  A211225-I211122_1    3     4  DT    0.565    0.531   0.502  0.531  0.472  0.548      0    1.548     0.213          0\n",
      " 4  A211225-I211122_1    4     5  DT    0.565    0.531   0.518  0.531  0.477  0.548      0    1.506     0.228          0\n",
      "\n"
     ]
    },
    {
     "name": "stderr",
     "output_type": "stream",
     "text": [
      "100%|██████████████████████████████████████████████████████████████████████████████████| 20/20 [13:26<00:00, 40.31s/it]\n",
      "  0%|                                                                                           | 0/20 [00:00<?, ?it/s]"
     ]
    },
    {
     "name": "stdout",
     "output_type": "stream",
     "text": [
      "    Dataset              T    CV  ML      Acc    b_Acc    Prec    Rec     F1    kap    ROC    tra-T    test-T    Al-Time\n",
      "--  -----------------  ---  ----  ----  -----  -------  ------  -----  -----  -----  -----  -------  --------  ---------\n",
      " 0  A211228-A211108_1    0     1  DT    0.785    0.61    0.605  0.61   0.576  0.768      0    1.584     0.25           0\n",
      " 1  A211228-A211108_1    1     2  DT    0.785    0.61    0.606  0.61   0.576  0.768      0    1.465     0.23           0\n",
      " 2  A211228-A211108_1    2     3  DT    0.785    0.609   0.602  0.609  0.574  0.769      0    1.593     0.275          0\n",
      " 3  A211228-A211108_1    3     4  DT    0.785    0.609   0.606  0.609  0.576  0.768      0    1.584     0.265          0\n",
      " 4  A211228-A211108_1    4     5  DT    0.786    0.61    0.607  0.61   0.577  0.769      0    1.463     0.232          0\n",
      "\n"
     ]
    },
    {
     "name": "stderr",
     "output_type": "stream",
     "text": [
      "\r",
      "  5%|████▏                                                                              | 1/20 [00:43<13:50, 43.70s/it]"
     ]
    },
    {
     "name": "stdout",
     "output_type": "stream",
     "text": [
      "    Dataset              T    CV  ML      Acc    b_Acc    Prec    Rec     F1    kap    ROC    tra-T    test-T    Al-Time\n",
      "--  -----------------  ---  ----  ----  -----  -------  ------  -----  -----  -----  -----  -------  --------  ---------\n",
      " 0  A211228-A211109_1    0     1  DT    0.746    0.609   0.615  0.609  0.578  0.732      0    1.558     0.208          0\n",
      " 1  A211228-A211109_1    1     2  DT    0.746    0.609   0.615  0.609  0.578  0.732      0    1.589     0.221          0\n",
      " 2  A211228-A211109_1    2     3  DT    0.746    0.608   0.615  0.608  0.577  0.732      0    1.451     0.195          0\n",
      " 3  A211228-A211109_1    3     4  DT    0.746    0.609   0.616  0.609  0.578  0.732      0    1.509     0.195          0\n",
      " 4  A211228-A211109_1    4     5  DT    0.746    0.608   0.615  0.608  0.578  0.732      0    1.513     0.217          0\n",
      "\n"
     ]
    },
    {
     "name": "stderr",
     "output_type": "stream",
     "text": [
      "\r",
      " 10%|████████▎                                                                          | 2/20 [01:22<12:15, 40.83s/it]"
     ]
    },
    {
     "name": "stdout",
     "output_type": "stream",
     "text": [
      "    Dataset              T    CV  ML      Acc    b_Acc    Prec    Rec     F1    kap    ROC    tra-T    test-T    Al-Time\n",
      "--  -----------------  ---  ----  ----  -----  -------  ------  -----  -----  -----  -----  -------  --------  ---------\n",
      " 0  A211228-A211115_1    0     1  DT    0.638    0.536   0.528  0.536  0.49   0.612      0    1.51      0.261          0\n",
      " 1  A211228-A211115_1    1     2  DT    0.638    0.536   0.527  0.536  0.491  0.612      0    1.633     0.25           0\n",
      " 2  A211228-A211115_1    2     3  DT    0.638    0.536   0.527  0.536  0.491  0.612      0    1.469     0.228          0\n",
      " 3  A211228-A211115_1    3     4  DT    0.638    0.536   0.528  0.536  0.491  0.612      0    1.478     0.23           0\n",
      " 4  A211228-A211115_1    4     5  DT    0.638    0.536   0.529  0.536  0.491  0.612      0    1.633     0.258          0\n",
      "\n"
     ]
    },
    {
     "name": "stderr",
     "output_type": "stream",
     "text": [
      "\r",
      " 15%|████████████▍                                                                      | 3/20 [02:06<11:58, 42.24s/it]"
     ]
    },
    {
     "name": "stdout",
     "output_type": "stream",
     "text": [
      "    Dataset              T    CV  ML      Acc    b_Acc    Prec    Rec     F1    kap    ROC    tra-T    test-T    Al-Time\n",
      "--  -----------------  ---  ----  ----  -----  -------  ------  -----  -----  -----  -----  -------  --------  ---------\n",
      " 0  A211228-A211116_1    0     1  DT    0.592    0.551   0.556  0.551  0.508  0.568      0    1.503     0.222          0\n",
      " 1  A211228-A211116_1    1     2  DT    0.592    0.551   0.557  0.551  0.508  0.567      0    1.504     0.241          0\n",
      " 2  A211228-A211116_1    2     3  DT    0.592    0.551   0.555  0.551  0.508  0.567      0    1.479     0.221          0\n",
      " 3  A211228-A211116_1    3     4  DT    0.592    0.551   0.555  0.551  0.508  0.568      0    1.541     0.207          0\n",
      " 4  A211228-A211116_1    4     5  DT    0.592    0.551   0.557  0.551  0.508  0.567      0    1.547     0.203          0\n",
      "\n"
     ]
    },
    {
     "name": "stderr",
     "output_type": "stream",
     "text": [
      "\r",
      " 20%|████████████████▌                                                                  | 4/20 [02:48<11:17, 42.35s/it]"
     ]
    },
    {
     "name": "stdout",
     "output_type": "stream",
     "text": [
      "    Dataset              T    CV  ML      Acc    b_Acc    Prec    Rec     F1    kap    ROC    tra-T    test-T    Al-Time\n",
      "--  -----------------  ---  ----  ----  -----  -------  ------  -----  -----  -----  -----  -------  --------  ---------\n",
      " 0  A211228-A211117_1    0     1  DT    0.537    0.518   0.538  0.518  0.474  0.518      0    1.536     0.215          0\n",
      " 1  A211228-A211117_1    1     2  DT    0.537    0.518   0.54   0.518  0.474  0.518      0    1.619     0.221          0\n",
      " 2  A211228-A211117_1    2     3  DT    0.537    0.518   0.538  0.518  0.474  0.518      0    1.53      0.202          0\n",
      " 3  A211228-A211117_1    3     4  DT    0.537    0.518   0.538  0.518  0.475  0.518      0    1.534     0.199          0\n",
      " 4  A211228-A211117_1    4     5  DT    0.537    0.518   0.539  0.518  0.474  0.518      0    1.606     0.252          0\n",
      "\n"
     ]
    },
    {
     "name": "stderr",
     "output_type": "stream",
     "text": [
      "\r",
      " 25%|████████████████████▊                                                              | 5/20 [03:28<10:20, 41.38s/it]"
     ]
    },
    {
     "name": "stdout",
     "output_type": "stream",
     "text": [
      "    Dataset              T    CV  ML      Acc    b_Acc    Prec    Rec     F1    kap    ROC    tra-T    test-T    Al-Time\n",
      "--  -----------------  ---  ----  ----  -----  -------  ------  -----  -----  -----  -----  -------  --------  ---------\n",
      " 0  A211228-A211118_1    0     1  DT    0.645    0.543   0.558  0.543  0.511  0.629      0    1.681     0.149          0\n",
      " 1  A211228-A211118_1    1     2  DT    0.645    0.543   0.558  0.543  0.511  0.63       0    1.514     0.132          0\n",
      " 2  A211228-A211118_1    2     3  DT    0.645    0.543   0.558  0.543  0.511  0.63       0    1.509     0.143          0\n",
      " 3  A211228-A211118_1    3     4  DT    0.645    0.543   0.558  0.543  0.511  0.63       0    1.361     0.151          0\n",
      " 4  A211228-A211118_1    4     5  DT    0.645    0.543   0.558  0.543  0.511  0.629      0    1.462     0.134          0\n",
      "\n"
     ]
    },
    {
     "name": "stderr",
     "output_type": "stream",
     "text": [
      "\r",
      " 30%|████████████████████████▉                                                          | 6/20 [04:02<09:02, 38.73s/it]"
     ]
    },
    {
     "name": "stdout",
     "output_type": "stream",
     "text": [
      "    Dataset              T    CV  ML      Acc    b_Acc    Prec    Rec     F1    kap    ROC    tra-T    test-T    Al-Time\n",
      "--  -----------------  ---  ----  ----  -----  -------  ------  -----  -----  -----  -----  -------  --------  ---------\n",
      " 0  A211228-A211122_1    0     1  DT    0.739    0.567   0.566  0.567  0.53    0.72      0    1.605     0.189          0\n",
      " 1  A211228-A211122_1    1     2  DT    0.739    0.567   0.566  0.567  0.529   0.72      0    1.536     0.198          0\n",
      " 2  A211228-A211122_1    2     3  DT    0.739    0.567   0.566  0.567  0.53    0.72      0    1.443     0.168          0\n",
      " 3  A211228-A211122_1    3     4  DT    0.739    0.567   0.571  0.567  0.533   0.72      0    1.589     0.183          0\n",
      " 4  A211228-A211122_1    4     5  DT    0.739    0.567   0.565  0.567  0.53    0.72      0    1.56      0.177          0\n",
      "\n"
     ]
    },
    {
     "name": "stderr",
     "output_type": "stream",
     "text": [
      "\r",
      " 35%|█████████████████████████████                                                      | 7/20 [04:42<08:28, 39.10s/it]"
     ]
    },
    {
     "name": "stdout",
     "output_type": "stream",
     "text": [
      "    Dataset              T    CV  ML      Acc    b_Acc    Prec    Rec     F1    kap    ROC    tra-T    test-T    Al-Time\n",
      "--  -----------------  ---  ----  ----  -----  -------  ------  -----  -----  -----  -----  -------  --------  ---------\n",
      " 0  A211228-A211123_1    0     1  DT    0.741    0.579   0.583  0.579  0.544  0.723      0    1.51      0.211          0\n",
      " 1  A211228-A211123_1    1     2  DT    0.741    0.579   0.583  0.579  0.544  0.723      0    1.584     0.194          0\n",
      " 2  A211228-A211123_1    2     3  DT    0.741    0.579   0.584  0.579  0.544  0.723      0    1.677     0.251          0\n",
      " 3  A211228-A211123_1    3     4  DT    0.741    0.579   0.583  0.579  0.544  0.723      0    1.594     0.202          0\n",
      " 4  A211228-A211123_1    4     5  DT    0.741    0.579   0.583  0.579  0.544  0.723      0    1.841     0.241          0\n",
      "\n"
     ]
    },
    {
     "name": "stderr",
     "output_type": "stream",
     "text": [
      "\r",
      " 40%|█████████████████████████████████▏                                                 | 8/20 [05:23<07:57, 39.83s/it]"
     ]
    },
    {
     "name": "stdout",
     "output_type": "stream",
     "text": [
      "    Dataset              T    CV  ML      Acc    b_Acc    Prec    Rec     F1    kap    ROC    tra-T    test-T    Al-Time\n",
      "--  -----------------  ---  ----  ----  -----  -------  ------  -----  -----  -----  -----  -------  --------  ---------\n",
      " 0  A211228-A211125_1    0     1  DT    0.647    0.554   0.562  0.554  0.521  0.632      0    1.593     0.157          0\n",
      " 1  A211228-A211125_1    1     2  DT    0.647    0.554   0.562  0.554  0.522  0.632      0    1.709     0.199          0\n",
      " 2  A211228-A211125_1    2     3  DT    0.647    0.554   0.562  0.554  0.523  0.632      0    1.55      0.159          0\n",
      " 3  A211228-A211125_1    3     4  DT    0.647    0.554   0.562  0.554  0.521  0.632      0    1.602     0.229          0\n",
      " 4  A211228-A211125_1    4     5  DT    0.647    0.553   0.561  0.553  0.52   0.632      0    1.55      0.184          0\n",
      "\n"
     ]
    },
    {
     "name": "stderr",
     "output_type": "stream",
     "text": [
      "\r",
      " 45%|█████████████████████████████████████▎                                             | 9/20 [06:01<07:13, 39.39s/it]"
     ]
    },
    {
     "name": "stdout",
     "output_type": "stream",
     "text": [
      "    Dataset              T    CV  ML      Acc    b_Acc    Prec    Rec     F1    kap    ROC    tra-T    test-T    Al-Time\n",
      "--  -----------------  ---  ----  ----  -----  -------  ------  -----  -----  -----  -----  -------  --------  ---------\n",
      " 0  A211228-A211206_1    0     1  DT    0.776    0.643   0.62   0.643  0.604  0.763      0    1.519     0.213          0\n",
      " 1  A211228-A211206_1    1     2  DT    0.776    0.643   0.619  0.643  0.604  0.762      0    1.671     0.209          0\n",
      " 2  A211228-A211206_1    2     3  DT    0.776    0.642   0.62   0.642  0.604  0.762      0    1.64      0.223          0\n",
      " 3  A211228-A211206_1    3     4  DT    0.776    0.643   0.62   0.643  0.604  0.763      0    1.799     0.231          0\n",
      " 4  A211228-A211206_1    4     5  DT    0.776    0.643   0.62   0.643  0.604  0.763      0    1.594     0.193          0\n",
      "\n"
     ]
    },
    {
     "name": "stderr",
     "output_type": "stream",
     "text": [
      "\r",
      " 50%|█████████████████████████████████████████                                         | 10/20 [06:42<06:37, 39.74s/it]"
     ]
    },
    {
     "name": "stdout",
     "output_type": "stream",
     "text": [
      "    Dataset              T    CV  ML      Acc    b_Acc    Prec    Rec     F1    kap    ROC    tra-T    test-T    Al-Time\n",
      "--  -----------------  ---  ----  ----  -----  -------  ------  -----  -----  -----  -----  -------  --------  ---------\n",
      " 0  A211228-A211208_1    0     1  DT    0.791    0.594   0.593  0.594  0.574  0.773      0    1.663     0.205          0\n",
      " 1  A211228-A211208_1    1     2  DT    0.791    0.594   0.593  0.594  0.574  0.773      0    1.716     0.2            0\n",
      " 2  A211228-A211208_1    2     3  DT    0.791    0.594   0.593  0.594  0.574  0.773      0    1.672     0.183          0\n",
      " 3  A211228-A211208_1    3     4  DT    0.791    0.594   0.593  0.594  0.574  0.773      0    1.645     0.19           0\n",
      " 4  A211228-A211208_1    4     5  DT    0.791    0.594   0.593  0.594  0.574  0.773      0    1.575     0.199          0\n",
      "\n"
     ]
    },
    {
     "name": "stderr",
     "output_type": "stream",
     "text": [
      "\r",
      " 55%|█████████████████████████████████████████████                                     | 11/20 [07:21<05:55, 39.51s/it]"
     ]
    },
    {
     "name": "stdout",
     "output_type": "stream",
     "text": [
      "    Dataset              T    CV  ML      Acc    b_Acc    Prec    Rec     F1    kap    ROC    tra-T    test-T    Al-Time\n",
      "--  -----------------  ---  ----  ----  -----  -------  ------  -----  -----  -----  -----  -------  --------  ---------\n",
      " 0  A211228-A211223_1    0     1  DT    0.711    0.693   0.697  0.693  0.665  0.699      0    1.678     0.155          0\n",
      " 1  A211228-A211223_1    1     2  DT    0.711    0.693   0.696  0.693  0.665  0.699      0    1.649     0.15           0\n",
      " 2  A211228-A211223_1    2     3  DT    0.711    0.693   0.696  0.693  0.665  0.699      0    1.58      0.169          0\n",
      " 3  A211228-A211223_1    3     4  DT    0.711    0.693   0.697  0.693  0.665  0.699      0    1.601     0.152          0\n",
      " 4  A211228-A211223_1    4     5  DT    0.711    0.693   0.697  0.693  0.665  0.699      0    1.564     0.16           0\n",
      "\n"
     ]
    },
    {
     "name": "stderr",
     "output_type": "stream",
     "text": [
      "\r",
      " 60%|█████████████████████████████████████████████████▏                                | 12/20 [07:56<05:05, 38.22s/it]"
     ]
    },
    {
     "name": "stdout",
     "output_type": "stream",
     "text": [
      "    Dataset              T    CV  ML      Acc    b_Acc    Prec    Rec    F1    kap    ROC    tra-T    test-T    Al-Time\n",
      "--  -----------------  ---  ----  ----  -----  -------  ------  -----  ----  -----  -----  -------  --------  ---------\n",
      " 0  A211228-A211225_1    0     1  DT     0.74    0.716   0.716  0.716  0.69   0.73      0    1.516     0.165          0\n",
      " 1  A211228-A211225_1    1     2  DT     0.74    0.716   0.716  0.716  0.69   0.73      0    1.531     0.154          0\n",
      " 2  A211228-A211225_1    2     3  DT     0.74    0.716   0.715  0.716  0.69   0.73      0    1.558     0.157          0\n",
      " 3  A211228-A211225_1    3     4  DT     0.74    0.716   0.72   0.716  0.69   0.73      0    1.588     0.17           0\n",
      " 4  A211228-A211225_1    4     5  DT     0.74    0.716   0.717  0.716  0.69   0.73      0    1.612     0.18           0\n",
      "\n"
     ]
    },
    {
     "name": "stderr",
     "output_type": "stream",
     "text": [
      "\r",
      " 65%|█████████████████████████████████████████████████████▎                            | 13/20 [08:33<04:24, 37.83s/it]"
     ]
    },
    {
     "name": "stdout",
     "output_type": "stream",
     "text": [
      "    Dataset              T    CV  ML      Acc    b_Acc    Prec    Rec     F1    kap    ROC    tra-T    test-T    Al-Time\n",
      "--  -----------------  ---  ----  ----  -----  -------  ------  -----  -----  -----  -----  -------  --------  ---------\n",
      " 0  A211228-A211228_1    0     1  DT    0.933    0.914   0.928  0.914  0.918   0.93      0    1.598     0.164          0\n",
      " 1  A211228-A211228_1    1     2  DT    0.933    0.914   0.928  0.914  0.918   0.93      0    1.497     0.169          0\n",
      " 2  A211228-A211228_1    2     3  DT    0.933    0.914   0.928  0.914  0.918   0.93      0    1.591     0.169          0\n",
      " 3  A211228-A211228_1    3     4  DT    0.933    0.914   0.928  0.914  0.918   0.93      0    1.461     0.231          0\n",
      " 4  A211228-A211228_1    4     5  DT    0.933    0.914   0.928  0.914  0.918   0.93      0    1.467     0.168          0\n",
      "\n"
     ]
    },
    {
     "name": "stderr",
     "output_type": "stream",
     "text": [
      "\r",
      " 70%|█████████████████████████████████████████████████████████▍                        | 14/20 [09:10<03:45, 37.58s/it]"
     ]
    },
    {
     "name": "stdout",
     "output_type": "stream",
     "text": [
      "    Dataset              T    CV  ML      Acc    b_Acc    Prec    Rec     F1    kap    ROC    tra-T    test-T    Al-Time\n",
      "--  -----------------  ---  ----  ----  -----  -------  ------  -----  -----  -----  -----  -------  --------  ---------\n",
      " 0  A211228-I211108_1    0     1  DT    0.648    0.576   0.581  0.576  0.538  0.634      0    1.404     0.216          0\n",
      " 1  A211228-I211108_1    1     2  DT    0.648    0.575   0.576  0.575  0.536  0.634      0    1.587     0.207          0\n",
      " 2  A211228-I211108_1    2     3  DT    0.648    0.576   0.581  0.576  0.538  0.634      0    1.502     0.201          0\n",
      " 3  A211228-I211108_1    3     4  DT    0.648    0.576   0.581  0.576  0.538  0.634      0    1.565     0.236          0\n",
      " 4  A211228-I211108_1    4     5  DT    0.648    0.575   0.581  0.575  0.538  0.634      0    1.483     0.21           0\n",
      "\n"
     ]
    },
    {
     "name": "stderr",
     "output_type": "stream",
     "text": [
      "\r",
      " 75%|█████████████████████████████████████████████████████████████▌                    | 15/20 [09:49<03:10, 38.00s/it]"
     ]
    },
    {
     "name": "stdout",
     "output_type": "stream",
     "text": [
      "    Dataset              T    CV  ML      Acc    b_Acc    Prec    Rec     F1    kap    ROC    tra-T    test-T    Al-Time\n",
      "--  -----------------  ---  ----  ----  -----  -------  ------  -----  -----  -----  -----  -------  --------  ---------\n",
      " 0  A211228-I211112_1    0     1  DT    0.532    0.49    0.48   0.49   0.446  0.512      0    1.566     0.225          0\n",
      " 1  A211228-I211112_1    1     2  DT    0.532    0.49    0.475  0.49   0.447  0.512      0    1.622     0.227          0\n",
      " 2  A211228-I211112_1    2     3  DT    0.532    0.489   0.477  0.489  0.446  0.511      0    1.638     0.217          0\n",
      " 3  A211228-I211112_1    3     4  DT    0.532    0.489   0.475  0.489  0.447  0.511      0    1.529     0.269          0\n",
      " 4  A211228-I211112_1    4     5  DT    0.532    0.49    0.479  0.49   0.445  0.512      0    1.491     0.224          0\n",
      "\n"
     ]
    },
    {
     "name": "stderr",
     "output_type": "stream",
     "text": [
      "\r",
      " 80%|█████████████████████████████████████████████████████████████████▌                | 16/20 [10:31<02:36, 39.22s/it]"
     ]
    },
    {
     "name": "stdout",
     "output_type": "stream",
     "text": [
      "    Dataset              T    CV  ML      Acc    b_Acc    Prec    Rec     F1    kap    ROC    tra-T    test-T    Al-Time\n",
      "--  -----------------  ---  ----  ----  -----  -------  ------  -----  -----  -----  -----  -------  --------  ---------\n",
      " 0  A211228-I211115_1    0     1  DT    0.545    0.506   0.518  0.506  0.466  0.528      0    1.553     0.23           0\n",
      " 1  A211228-I211115_1    1     2  DT    0.545    0.506   0.518  0.506  0.466  0.528      0    1.612     0.236          0\n",
      " 2  A211228-I211115_1    2     3  DT    0.545    0.506   0.519  0.506  0.465  0.528      0    1.71      0.233          0\n",
      " 3  A211228-I211115_1    3     4  DT    0.545    0.506   0.518  0.506  0.465  0.528      0    1.646     0.282          0\n",
      " 4  A211228-I211115_1    4     5  DT    0.545    0.506   0.518  0.506  0.466  0.528      0    1.642     0.227          0\n",
      "\n"
     ]
    },
    {
     "name": "stderr",
     "output_type": "stream",
     "text": [
      "\r",
      " 85%|█████████████████████████████████████████████████████████████████████▋            | 17/20 [11:14<02:00, 40.20s/it]"
     ]
    },
    {
     "name": "stdout",
     "output_type": "stream",
     "text": [
      "    Dataset              T    CV  ML      Acc    b_Acc    Prec    Rec     F1    kap    ROC    tra-T    test-T    Al-Time\n",
      "--  -----------------  ---  ----  ----  -----  -------  ------  -----  -----  -----  -----  -------  --------  ---------\n",
      " 0  A211228-I211118_1    0     1  DT    0.637    0.536   0.547  0.536  0.5    0.621      0    1.662     0.231          0\n",
      " 1  A211228-I211118_1    1     2  DT    0.637    0.536   0.548  0.536  0.5    0.621      0    1.676     0.208          0\n",
      " 2  A211228-I211118_1    2     3  DT    0.637    0.536   0.547  0.536  0.501  0.621      0    1.711     0.234          0\n",
      " 3  A211228-I211118_1    3     4  DT    0.637    0.536   0.547  0.536  0.5    0.621      0    1.541     0.202          0\n",
      " 4  A211228-I211118_1    4     5  DT    0.636    0.535   0.548  0.535  0.499  0.62       0    1.539     0.197          0\n",
      "\n"
     ]
    },
    {
     "name": "stderr",
     "output_type": "stream",
     "text": [
      "\r",
      " 90%|█████████████████████████████████████████████████████████████████████████▊        | 18/20 [11:56<01:21, 40.72s/it]"
     ]
    },
    {
     "name": "stdout",
     "output_type": "stream",
     "text": [
      "    Dataset              T    CV  ML      Acc    b_Acc    Prec    Rec     F1    kap    ROC    tra-T    test-T    Al-Time\n",
      "--  -----------------  ---  ----  ----  -----  -------  ------  -----  -----  -----  -----  -------  --------  ---------\n",
      " 0  A211228-I211119_1    0     1  DT    0.636    0.537   0.573  0.537  0.51   0.619      0    1.688     0.215          0\n",
      " 1  A211228-I211119_1    1     2  DT    0.635    0.536   0.573  0.536  0.508  0.619      0    1.77      0.268          0\n",
      " 2  A211228-I211119_1    2     3  DT    0.635    0.535   0.573  0.535  0.508  0.619      0    1.591     0.197          0\n",
      " 3  A211228-I211119_1    3     4  DT    0.636    0.537   0.573  0.537  0.51   0.62       0    1.522     0.2            0\n",
      " 4  A211228-I211119_1    4     5  DT    0.636    0.537   0.573  0.537  0.51   0.619      0    1.591     0.185          0\n",
      "\n"
     ]
    },
    {
     "name": "stderr",
     "output_type": "stream",
     "text": [
      "\r",
      " 95%|█████████████████████████████████████████████████████████████████████████████▉    | 19/20 [12:36<00:40, 40.76s/it]"
     ]
    },
    {
     "name": "stdout",
     "output_type": "stream",
     "text": [
      "    Dataset              T    CV  ML      Acc    b_Acc    Prec    Rec     F1    kap    ROC    tra-T    test-T    Al-Time\n",
      "--  -----------------  ---  ----  ----  -----  -------  ------  -----  -----  -----  -----  -------  --------  ---------\n",
      " 0  A211228-I211122_1    0     1  DT    0.647    0.538   0.552  0.538  0.504  0.631      0    1.655     0.192          0\n",
      " 1  A211228-I211122_1    1     2  DT    0.647    0.539   0.552  0.539  0.505  0.632      0    1.551     0.202          0\n",
      " 2  A211228-I211122_1    2     3  DT    0.647    0.539   0.552  0.539  0.505  0.632      0    1.636     0.19           0\n",
      " 3  A211228-I211122_1    3     4  DT    0.647    0.539   0.553  0.539  0.505  0.632      0    1.561     0.2            0\n",
      " 4  A211228-I211122_1    4     5  DT    0.647    0.539   0.553  0.539  0.505  0.632      0    1.624     0.208          0\n",
      "\n"
     ]
    },
    {
     "name": "stderr",
     "output_type": "stream",
     "text": [
      "100%|██████████████████████████████████████████████████████████████████████████████████| 20/20 [13:17<00:00, 39.87s/it]\n",
      "  0%|                                                                                           | 0/20 [00:00<?, ?it/s]"
     ]
    },
    {
     "name": "stdout",
     "output_type": "stream",
     "text": [
      "    Dataset              T    CV  ML      Acc    b_Acc    Prec    Rec     F1    kap    ROC    tra-T    test-T    Al-Time\n",
      "--  -----------------  ---  ----  ----  -----  -------  ------  -----  -----  -----  -----  -------  --------  ---------\n",
      " 0  I211108-A211108_1    0     1  DT    0.685    0.8     0.786  0.8    0.75   0.669      0    1.823     0.186          0\n",
      " 1  I211108-A211108_1    1     2  DT    0.685    0.8     0.784  0.8    0.749  0.669      0    1.983     0.242          0\n",
      " 2  I211108-A211108_1    2     3  DT    0.685    0.799   0.784  0.799  0.748  0.669      0    1.664     0.209          0\n",
      " 3  I211108-A211108_1    3     4  DT    0.685    0.8     0.786  0.8    0.75   0.669      0    1.853     0.226          0\n",
      " 4  I211108-A211108_1    4     5  DT    0.685    0.8     0.784  0.8    0.749  0.669      0    1.782     0.235          0\n",
      "\n"
     ]
    },
    {
     "name": "stderr",
     "output_type": "stream",
     "text": [
      "\r",
      "  5%|████▏                                                                              | 1/20 [00:46<14:42, 46.43s/it]"
     ]
    },
    {
     "name": "stdout",
     "output_type": "stream",
     "text": [
      "    Dataset              T    CV  ML      Acc    b_Acc    Prec    Rec     F1    kap    ROC    tra-T    test-T    Al-Time\n",
      "--  -----------------  ---  ----  ----  -----  -------  ------  -----  -----  -----  -----  -------  --------  ---------\n",
      " 0  I211108-A211109_1    0     1  DT    0.713    0.812   0.801  0.812  0.763  0.702      0    1.762     0.183          0\n",
      " 1  I211108-A211109_1    1     2  DT    0.713    0.812   0.805  0.812  0.765  0.702      0    1.717     0.192          0\n",
      " 2  I211108-A211109_1    2     3  DT    0.713    0.812   0.801  0.812  0.763  0.702      0    1.766     0.193          0\n",
      " 3  I211108-A211109_1    3     4  DT    0.713    0.812   0.805  0.812  0.765  0.702      0    1.729     0.185          0\n",
      " 4  I211108-A211109_1    4     5  DT    0.713    0.812   0.801  0.812  0.763  0.702      0    1.724     0.206          0\n",
      "\n"
     ]
    },
    {
     "name": "stderr",
     "output_type": "stream",
     "text": [
      "\r",
      " 10%|████████▎                                                                          | 2/20 [01:27<12:58, 43.28s/it]"
     ]
    },
    {
     "name": "stdout",
     "output_type": "stream",
     "text": [
      "    Dataset              T    CV  ML      Acc    b_Acc    Prec    Rec     F1    kap    ROC    tra-T    test-T    Al-Time\n",
      "--  -----------------  ---  ----  ----  -----  -------  ------  -----  -----  -----  -----  -------  --------  ---------\n",
      " 0  I211108-A211115_1    0     1  DT    0.399    0.499   0.475  0.499  0.427   0.38      0    1.944     0.26           0\n",
      " 1  I211108-A211115_1    1     2  DT    0.399    0.498   0.468  0.498  0.42    0.38      0    1.792     0.285          0\n",
      " 2  I211108-A211115_1    2     3  DT    0.399    0.498   0.474  0.498  0.427   0.38      0    1.844     0.236          0\n",
      " 3  I211108-A211115_1    3     4  DT    0.399    0.499   0.478  0.499  0.427   0.38      0    1.857     0.246          0\n",
      " 4  I211108-A211115_1    4     5  DT    0.399    0.499   0.479  0.499  0.428   0.38      0    1.838     0.244          0\n",
      "\n"
     ]
    },
    {
     "name": "stderr",
     "output_type": "stream",
     "text": [
      "\r",
      " 15%|████████████▍                                                                      | 3/20 [02:15<12:48, 45.22s/it]"
     ]
    },
    {
     "name": "stdout",
     "output_type": "stream",
     "text": [
      "    Dataset              T    CV  ML      Acc    b_Acc    Prec    Rec     F1    kap    ROC    tra-T    test-T    Al-Time\n",
      "--  -----------------  ---  ----  ----  -----  -------  ------  -----  -----  -----  -----  -------  --------  ---------\n",
      " 0  I211108-A211116_1    0     1  DT    0.405    0.511   0.494  0.511  0.454   0.39      0    1.75      0.217          0\n",
      " 1  I211108-A211116_1    1     2  DT    0.405    0.511   0.499  0.511  0.452   0.39      0    1.765     0.209          0\n",
      " 2  I211108-A211116_1    2     3  DT    0.405    0.511   0.498  0.511  0.452   0.39      0    2.217     0.382          0\n",
      " 3  I211108-A211116_1    3     4  DT    0.405    0.511   0.498  0.511  0.452   0.39      0    1.773     0.216          0\n",
      " 4  I211108-A211116_1    4     5  DT    0.405    0.511   0.499  0.511  0.452   0.39      0    1.722     0.215          0\n",
      "\n"
     ]
    },
    {
     "name": "stderr",
     "output_type": "stream",
     "text": [
      "\r",
      " 20%|████████████████▌                                                                  | 4/20 [03:00<12:07, 45.44s/it]"
     ]
    },
    {
     "name": "stdout",
     "output_type": "stream",
     "text": [
      "    Dataset              T    CV  ML      Acc    b_Acc    Prec    Rec     F1    kap    ROC    tra-T    test-T    Al-Time\n",
      "--  -----------------  ---  ----  ----  -----  -------  ------  -----  -----  -----  -----  -------  --------  ---------\n",
      " 0  I211108-A211117_1    0     1  DT    0.413    0.463   0.472  0.463  0.403  0.394      0    1.867     0.208          0\n",
      " 1  I211108-A211117_1    1     2  DT    0.414    0.464   0.464  0.464  0.394  0.394      0    1.76      0.183          0\n",
      " 2  I211108-A211117_1    2     3  DT    0.413    0.464   0.467  0.464  0.394  0.394      0    1.654     0.206          0\n",
      " 3  I211108-A211117_1    3     4  DT    0.413    0.464   0.469  0.464  0.396  0.394      0    1.723     0.199          0\n",
      " 4  I211108-A211117_1    4     5  DT    0.413    0.463   0.475  0.463  0.405  0.394      0    1.737     0.194          0\n",
      "\n"
     ]
    },
    {
     "name": "stderr",
     "output_type": "stream",
     "text": [
      "\r",
      " 25%|████████████████████▊                                                              | 5/20 [03:42<11:01, 44.09s/it]"
     ]
    },
    {
     "name": "stdout",
     "output_type": "stream",
     "text": [
      "    Dataset              T    CV  ML      Acc    b_Acc    Prec    Rec     F1    kap    ROC    tra-T    test-T    Al-Time\n",
      "--  -----------------  ---  ----  ----  -----  -------  ------  -----  -----  -----  -----  -------  --------  ---------\n",
      " 0  I211108-A211118_1    0     1  DT    0.658    0.552   0.59   0.552  0.535  0.643      0    1.796     0.149          0\n",
      " 1  I211108-A211118_1    1     2  DT    0.658    0.552   0.592  0.552  0.535  0.643      0    1.888     0.139          0\n",
      " 2  I211108-A211118_1    2     3  DT    0.658    0.552   0.59   0.552  0.536  0.643      0    1.802     0.143          0\n",
      " 3  I211108-A211118_1    3     4  DT    0.658    0.552   0.59   0.552  0.535  0.643      0    1.77      0.151          0\n",
      " 4  I211108-A211118_1    4     5  DT    0.658    0.552   0.591  0.552  0.536  0.643      0    1.814     0.174          0\n",
      "\n"
     ]
    },
    {
     "name": "stderr",
     "output_type": "stream",
     "text": [
      "\r",
      " 30%|████████████████████████▉                                                          | 6/20 [04:19<09:42, 41.64s/it]"
     ]
    },
    {
     "name": "stdout",
     "output_type": "stream",
     "text": [
      "    Dataset              T    CV  ML      Acc    b_Acc    Prec    Rec     F1    kap    ROC    tra-T    test-T    Al-Time\n",
      "--  -----------------  ---  ----  ----  -----  -------  ------  -----  -----  -----  -----  -------  --------  ---------\n",
      " 0  I211108-A211122_1    0     1  DT    0.615    0.534   0.545  0.534  0.496  0.594      0    1.702     0.187          0\n",
      " 1  I211108-A211122_1    1     2  DT    0.615    0.534   0.546  0.534  0.497  0.594      0    1.728     0.178          0\n",
      " 2  I211108-A211122_1    2     3  DT    0.615    0.534   0.551  0.534  0.501  0.594      0    1.715     0.178          0\n",
      " 3  I211108-A211122_1    3     4  DT    0.615    0.534   0.55   0.534  0.498  0.594      0    1.829     0.183          0\n",
      " 4  I211108-A211122_1    4     5  DT    0.615    0.534   0.546  0.534  0.497  0.594      0    1.809     0.186          0\n",
      "\n"
     ]
    },
    {
     "name": "stderr",
     "output_type": "stream",
     "text": [
      "\r",
      " 35%|█████████████████████████████                                                      | 7/20 [05:01<09:04, 41.88s/it]"
     ]
    },
    {
     "name": "stdout",
     "output_type": "stream",
     "text": [
      "    Dataset              T    CV  ML      Acc    b_Acc    Prec    Rec     F1    kap    ROC    tra-T    test-T    Al-Time\n",
      "--  -----------------  ---  ----  ----  -----  -------  ------  -----  -----  -----  -----  -------  --------  ---------\n",
      " 0  I211108-A211123_1    0     1  DT    0.608    0.534   0.561  0.534  0.499  0.588      0    1.758     0.18           0\n",
      " 1  I211108-A211123_1    1     2  DT    0.608    0.534   0.561  0.534  0.498  0.588      0    1.82      0.187          0\n",
      " 2  I211108-A211123_1    2     3  DT    0.608    0.534   0.563  0.534  0.5    0.588      0    1.94      0.191          0\n",
      " 3  I211108-A211123_1    3     4  DT    0.608    0.534   0.56   0.534  0.499  0.588      0    1.813     0.199          0\n",
      " 4  I211108-A211123_1    4     5  DT    0.608    0.534   0.56   0.534  0.499  0.588      0    1.855     0.223          0\n",
      "\n"
     ]
    },
    {
     "name": "stderr",
     "output_type": "stream",
     "text": [
      "\r",
      " 40%|█████████████████████████████████▏                                                 | 8/20 [05:45<08:29, 42.43s/it]"
     ]
    },
    {
     "name": "stdout",
     "output_type": "stream",
     "text": [
      "    Dataset              T    CV  ML      Acc    b_Acc    Prec    Rec     F1    kap    ROC    tra-T    test-T    Al-Time\n",
      "--  -----------------  ---  ----  ----  -----  -------  ------  -----  -----  -----  -----  -------  --------  ---------\n",
      " 0  I211108-A211125_1    0     1  DT    0.566    0.52    0.545  0.52   0.486  0.551      0    1.889     0.172          0\n",
      " 1  I211108-A211125_1    1     2  DT    0.543    0.512   0.538  0.512  0.473  0.527      0    1.865     0.188          0\n",
      " 2  I211108-A211125_1    2     3  DT    0.543    0.511   0.539  0.511  0.472  0.527      0    1.834     0.201          0\n",
      " 3  I211108-A211125_1    3     4  DT    0.542    0.51    0.535  0.51   0.465  0.526      0    1.822     0.179          0\n",
      " 4  I211108-A211125_1    4     5  DT    0.543    0.511   0.536  0.511  0.466  0.527      0    1.972     0.179          0\n",
      "\n"
     ]
    },
    {
     "name": "stderr",
     "output_type": "stream",
     "text": [
      "\r",
      " 45%|█████████████████████████████████████▎                                             | 9/20 [06:25<07:40, 41.84s/it]"
     ]
    },
    {
     "name": "stdout",
     "output_type": "stream",
     "text": [
      "    Dataset              T    CV  ML      Acc    b_Acc    Prec    Rec     F1    kap    ROC    tra-T    test-T    Al-Time\n",
      "--  -----------------  ---  ----  ----  -----  -------  ------  -----  -----  -----  -----  -------  --------  ---------\n",
      " 0  I211108-A211206_1    0     1  DT    0.627    0.532   0.515  0.532  0.472  0.607      0    1.865     0.183          0\n",
      " 1  I211108-A211206_1    1     2  DT    0.627    0.532   0.532  0.532  0.488  0.607      0    1.897     0.181          0\n",
      " 2  I211108-A211206_1    2     3  DT    0.625    0.527   0.528  0.527  0.485  0.605      0    1.778     0.184          0\n",
      " 3  I211108-A211206_1    3     4  DT    0.627    0.532   0.532  0.532  0.489  0.607      0    1.794     0.198          0\n",
      " 4  I211108-A211206_1    4     5  DT    0.625    0.527   0.528  0.527  0.485  0.605      0    1.703     0.191          0\n",
      "\n"
     ]
    },
    {
     "name": "stderr",
     "output_type": "stream",
     "text": [
      "\r",
      " 50%|█████████████████████████████████████████                                         | 10/20 [07:07<06:57, 41.72s/it]"
     ]
    },
    {
     "name": "stdout",
     "output_type": "stream",
     "text": [
      "    Dataset              T    CV  ML      Acc    b_Acc    Prec    Rec     F1    kap    ROC    tra-T    test-T    Al-Time\n",
      "--  -----------------  ---  ----  ----  -----  -------  ------  -----  -----  -----  -----  -------  --------  ---------\n",
      " 0  I211108-A211208_1    0     1  DT    0.63     0.497   0.511  0.497  0.461  0.602      0    1.792     0.175          0\n",
      " 1  I211108-A211208_1    1     2  DT    0.63     0.495   0.491  0.495  0.445  0.602      0    1.796     0.188          0\n",
      " 2  I211108-A211208_1    2     3  DT    0.617    0.474   0.497  0.474  0.448  0.588      0    1.803     0.17           0\n",
      " 3  I211108-A211208_1    3     4  DT    0.63     0.497   0.51   0.497  0.461  0.602      0    1.806     0.181          0\n",
      " 4  I211108-A211208_1    4     5  DT    0.629    0.495   0.509  0.495  0.461  0.602      0    1.784     0.169          0\n",
      "\n"
     ]
    },
    {
     "name": "stderr",
     "output_type": "stream",
     "text": [
      "\r",
      " 55%|█████████████████████████████████████████████                                     | 11/20 [07:46<06:07, 40.80s/it]"
     ]
    },
    {
     "name": "stdout",
     "output_type": "stream",
     "text": [
      "    Dataset              T    CV  ML      Acc    b_Acc    Prec    Rec    F1    kap    ROC    tra-T    test-T    Al-Time\n",
      "--  -----------------  ---  ----  ----  -----  -------  ------  -----  ----  -----  -----  -------  --------  ---------\n",
      " 0  I211108-A211223_1    0     1  DT    0.561    0.535   0.551  0.535   0.5  0.545      0    1.817     0.141          0\n",
      " 1  I211108-A211223_1    1     2  DT    0.561    0.535   0.551  0.535   0.5  0.545      0    1.839     0.148          0\n",
      " 2  I211108-A211223_1    2     3  DT    0.561    0.535   0.551  0.535   0.5  0.545      0    1.812     0.142          0\n",
      " 3  I211108-A211223_1    3     4  DT    0.561    0.535   0.55   0.535   0.5  0.545      0    1.858     0.161          0\n",
      " 4  I211108-A211223_1    4     5  DT    0.561    0.535   0.551  0.535   0.5  0.545      0    1.727     0.134          0\n",
      "\n"
     ]
    },
    {
     "name": "stderr",
     "output_type": "stream",
     "text": [
      "\r",
      " 60%|█████████████████████████████████████████████████▏                                | 12/20 [08:21<05:13, 39.24s/it]"
     ]
    },
    {
     "name": "stdout",
     "output_type": "stream",
     "text": [
      "    Dataset              T    CV  ML      Acc    b_Acc    Prec    Rec     F1    kap    ROC    tra-T    test-T    Al-Time\n",
      "--  -----------------  ---  ----  ----  -----  -------  ------  -----  -----  -----  -----  -------  --------  ---------\n",
      " 0  I211108-A211225_1    0     1  DT    0.528     0.49   0.514   0.49  0.451  0.512      0    1.731     0.166          0\n",
      " 1  I211108-A211225_1    1     2  DT    0.528     0.49   0.511   0.49  0.445  0.513      0    1.815     0.168          0\n",
      " 2  I211108-A211225_1    2     3  DT    0.528     0.49   0.511   0.49  0.445  0.513      0    1.795     0.166          0\n",
      " 3  I211108-A211225_1    3     4  DT    0.528     0.49   0.513   0.49  0.451  0.512      0    1.846     0.156          0\n",
      " 4  I211108-A211225_1    4     5  DT    0.528     0.49   0.516   0.49  0.452  0.512      0    1.819     0.163          0\n",
      "\n"
     ]
    },
    {
     "name": "stderr",
     "output_type": "stream",
     "text": [
      "\r",
      " 65%|█████████████████████████████████████████████████████▎                            | 13/20 [09:00<04:34, 39.17s/it]"
     ]
    },
    {
     "name": "stdout",
     "output_type": "stream",
     "text": [
      "    Dataset              T    CV  ML      Acc    b_Acc    Prec    Rec     F1    kap    ROC    tra-T    test-T    Al-Time\n",
      "--  -----------------  ---  ----  ----  -----  -------  ------  -----  -----  -----  -----  -------  --------  ---------\n",
      " 0  I211108-A211228_1    0     1  DT    0.535    0.516   0.513  0.516  0.468  0.519      0    1.832     0.176          0\n",
      " 1  I211108-A211228_1    1     2  DT    0.535    0.516   0.479  0.516  0.439  0.519      0    1.797     0.182          0\n",
      " 2  I211108-A211228_1    2     3  DT    0.535    0.516   0.499  0.516  0.456  0.519      0    1.803     0.17           0\n",
      " 3  I211108-A211228_1    3     4  DT    0.535    0.516   0.483  0.516  0.443  0.519      0    1.931     0.179          0\n",
      " 4  I211108-A211228_1    4     5  DT    0.535    0.516   0.517  0.516  0.471  0.519      0    1.901     0.212          0\n",
      "\n"
     ]
    },
    {
     "name": "stderr",
     "output_type": "stream",
     "text": [
      "\r",
      " 70%|█████████████████████████████████████████████████████████▍                        | 14/20 [09:41<03:57, 39.52s/it]"
     ]
    },
    {
     "name": "stdout",
     "output_type": "stream",
     "text": [
      "    Dataset              T    CV  ML      Acc    b_Acc    Prec    Rec    F1    kap    ROC    tra-T    test-T    Al-Time\n",
      "--  -----------------  ---  ----  ----  -----  -------  ------  -----  ----  -----  -----  -------  --------  ---------\n",
      " 0  I211108-I211108_1    0     1  DT      0.9    0.885   0.891  0.885  0.88  0.896      0    1.803     0.226          0\n",
      " 1  I211108-I211108_1    1     2  DT      0.9    0.885   0.891  0.885  0.88  0.896      0    1.894     0.224          0\n",
      " 2  I211108-I211108_1    2     3  DT      0.9    0.885   0.891  0.885  0.88  0.896      0    1.907     0.217          0\n",
      " 3  I211108-I211108_1    3     4  DT      0.9    0.885   0.891  0.885  0.88  0.896      0    1.787     0.194          0\n",
      " 4  I211108-I211108_1    4     5  DT      0.9    0.885   0.891  0.885  0.88  0.896      0    1.988     0.226          0\n",
      "\n"
     ]
    },
    {
     "name": "stderr",
     "output_type": "stream",
     "text": [
      "\r",
      " 75%|█████████████████████████████████████████████████████████████▌                    | 15/20 [10:24<03:22, 40.59s/it]"
     ]
    },
    {
     "name": "stdout",
     "output_type": "stream",
     "text": [
      "    Dataset              T    CV  ML      Acc    b_Acc    Prec    Rec     F1    kap    ROC    tra-T    test-T    Al-Time\n",
      "--  -----------------  ---  ----  ----  -----  -------  ------  -----  -----  -----  -----  -------  --------  ---------\n",
      " 0  I211108-I211112_1    0     1  DT    0.573    0.537   0.533  0.537  0.494  0.554      0    1.734     0.21           0\n",
      " 1  I211108-I211112_1    1     2  DT    0.573    0.537   0.534  0.537  0.495  0.554      0    1.742     0.226          0\n",
      " 2  I211108-I211112_1    2     3  DT    0.573    0.537   0.533  0.537  0.495  0.554      0    1.793     0.208          0\n",
      " 3  I211108-I211112_1    3     4  DT    0.573    0.537   0.533  0.537  0.494  0.554      0    1.768     0.198          0\n",
      " 4  I211108-I211112_1    4     5  DT    0.573    0.537   0.534  0.537  0.495  0.554      0    1.723     0.196          0\n",
      "\n"
     ]
    },
    {
     "name": "stderr",
     "output_type": "stream",
     "text": [
      "\r",
      " 80%|█████████████████████████████████████████████████████████████████▌                | 16/20 [11:07<02:46, 41.54s/it]"
     ]
    },
    {
     "name": "stdout",
     "output_type": "stream",
     "text": [
      "    Dataset              T    CV  ML      Acc    b_Acc    Prec    Rec     F1    kap    ROC    tra-T    test-T    Al-Time\n",
      "--  -----------------  ---  ----  ----  -----  -------  ------  -----  -----  -----  -----  -------  --------  ---------\n",
      " 0  I211108-I211115_1    0     1  DT    0.569    0.525   0.532  0.525  0.491  0.553      0    1.78      0.203          0\n",
      " 1  I211108-I211115_1    1     2  DT    0.569    0.525   0.533  0.525  0.491  0.553      0    1.844     0.212          0\n",
      " 2  I211108-I211115_1    2     3  DT    0.569    0.524   0.532  0.524  0.49   0.552      0    1.821     0.196          0\n",
      " 3  I211108-I211115_1    3     4  DT    0.569    0.525   0.534  0.525  0.491  0.553      0    1.824     0.201          0\n",
      " 4  I211108-I211115_1    4     5  DT    0.569    0.525   0.532  0.525  0.491  0.553      0    1.757     0.2            0\n",
      "\n"
     ]
    },
    {
     "name": "stderr",
     "output_type": "stream",
     "text": [
      "\r",
      " 85%|█████████████████████████████████████████████████████████████████████▋            | 17/20 [11:50<02:05, 41.90s/it]"
     ]
    },
    {
     "name": "stdout",
     "output_type": "stream",
     "text": [
      "    Dataset              T    CV  ML      Acc    b_Acc    Prec    Rec     F1    kap    ROC    tra-T    test-T    Al-Time\n",
      "--  -----------------  ---  ----  ----  -----  -------  ------  -----  -----  -----  -----  -------  --------  ---------\n",
      " 0  I211108-I211118_1    0     1  DT     0.66    0.569   0.585  0.569  0.547  0.645      0    1.768     0.194          0\n",
      " 1  I211108-I211118_1    1     2  DT     0.66    0.569   0.585  0.569  0.547  0.645      0    1.827     0.199          0\n",
      " 2  I211108-I211118_1    2     3  DT     0.66    0.569   0.585  0.569  0.547  0.645      0    1.848     0.201          0\n",
      " 3  I211108-I211118_1    3     4  DT     0.66    0.569   0.585  0.569  0.547  0.645      0    1.827     0.188          0\n",
      " 4  I211108-I211118_1    4     5  DT     0.66    0.569   0.586  0.569  0.547  0.645      0    1.856     0.211          0\n",
      "\n"
     ]
    },
    {
     "name": "stderr",
     "output_type": "stream",
     "text": [
      "\r",
      " 90%|█████████████████████████████████████████████████████████████████████████▊        | 18/20 [12:33<01:24, 42.23s/it]"
     ]
    },
    {
     "name": "stdout",
     "output_type": "stream",
     "text": [
      "    Dataset              T    CV  ML      Acc    b_Acc    Prec    Rec     F1    kap    ROC    tra-T    test-T    Al-Time\n",
      "--  -----------------  ---  ----  ----  -----  -------  ------  -----  -----  -----  -----  -------  --------  ---------\n",
      " 0  I211108-I211119_1    0     1  DT    0.655    0.569   0.601  0.569  0.551   0.64      0    1.769     0.194          0\n",
      " 1  I211108-I211119_1    1     2  DT    0.655    0.569   0.6    0.569  0.551   0.64      0    1.808     0.21           0\n",
      " 2  I211108-I211119_1    2     3  DT    0.655    0.569   0.602  0.569  0.55    0.64      0    1.734     0.193          0\n",
      " 3  I211108-I211119_1    3     4  DT    0.655    0.569   0.601  0.569  0.551   0.64      0    1.716     0.197          0\n",
      " 4  I211108-I211119_1    4     5  DT    0.655    0.569   0.601  0.569  0.551   0.64      0    1.795     0.192          0\n",
      "\n"
     ]
    },
    {
     "name": "stderr",
     "output_type": "stream",
     "text": [
      "\r",
      " 95%|█████████████████████████████████████████████████████████████████████████████▉    | 19/20 [13:14<00:41, 41.97s/it]"
     ]
    },
    {
     "name": "stdout",
     "output_type": "stream",
     "text": [
      "    Dataset              T    CV  ML      Acc    b_Acc    Prec    Rec     F1    kap    ROC    tra-T    test-T    Al-Time\n",
      "--  -----------------  ---  ----  ----  -----  -------  ------  -----  -----  -----  -----  -------  --------  ---------\n",
      " 0  I211108-I211122_1    0     1  DT     0.66    0.559   0.583  0.559  0.534  0.645      0    1.877     0.215          0\n",
      " 1  I211108-I211122_1    1     2  DT     0.66    0.559   0.583  0.559  0.534  0.645      0    2.084     0.244          0\n",
      " 2  I211108-I211122_1    2     3  DT     0.66    0.559   0.582  0.559  0.533  0.645      0    1.858     0.211          0\n",
      " 3  I211108-I211122_1    3     4  DT     0.66    0.559   0.579  0.559  0.533  0.645      0    1.906     0.23           0\n",
      " 4  I211108-I211122_1    4     5  DT     0.66    0.559   0.584  0.559  0.534  0.645      0    1.804     0.201          0\n",
      "\n"
     ]
    },
    {
     "name": "stderr",
     "output_type": "stream",
     "text": [
      "100%|██████████████████████████████████████████████████████████████████████████████████| 20/20 [13:59<00:00, 41.99s/it]\n",
      "  0%|                                                                                           | 0/20 [00:00<?, ?it/s]"
     ]
    },
    {
     "name": "stdout",
     "output_type": "stream",
     "text": [
      "    Dataset              T    CV  ML      Acc    b_Acc    Prec    Rec     F1    kap    ROC    tra-T    test-T    Al-Time\n",
      "--  -----------------  ---  ----  ----  -----  -------  ------  -----  -----  -----  -----  -------  --------  ---------\n",
      " 0  I211112-A211108_1    0     1  DT    0.401    0.518   0.476  0.518  0.438  0.384      0    2.258     0.239          0\n",
      " 1  I211112-A211108_1    1     2  DT    0.4      0.517   0.475  0.517  0.436  0.383      0    2.121     0.239          0\n",
      " 2  I211112-A211108_1    2     3  DT    0.401    0.518   0.475  0.518  0.439  0.384      0    2.166     0.209          0\n",
      " 3  I211112-A211108_1    3     4  DT    0.401    0.518   0.477  0.518  0.438  0.384      0    2.144     0.213          0\n",
      " 4  I211112-A211108_1    4     5  DT    0.4      0.518   0.483  0.518  0.44   0.383      0    2.083     0.206          0\n",
      "\n"
     ]
    },
    {
     "name": "stderr",
     "output_type": "stream",
     "text": [
      "\r",
      "  5%|████▏                                                                              | 1/20 [00:48<15:19, 48.41s/it]"
     ]
    }
   ],
   "source": [
    "say=0\n",
    "dataset=\"./results/vs/\"\n",
    "folder(dataset)\n",
    "for no, i in enumerate(datasets):\n",
    "    for ii in i:\n",
    "        for iii in tqdm(i):\n",
    "            say+=1\n",
    "            train=ii\n",
    "            test=iii\n",
    "            mixed=False\n",
    "            step=1\n",
    "            sayac=1\n",
    "            dataset=\"./results/vs/\"\n",
    "            output_csv=f\"{dataset}/@{ii[7:-4]}@{iii[7:-4]}.csv\"\n",
    "            dataset=f\"{ii[7:-4]}-{iii[7:-4]}\"\n",
    "            target_names=target_name(test)\n",
    "            ML(train,test,output_csv,feature,step,mixed,dataset+\"_\"+str(step))   \n"
   ]
  },
  {
   "cell_type": "code",
   "execution_count": null,
   "metadata": {},
   "outputs": [],
   "source": [
    "datasets=[ ['./csvs\\\\A211110.csv', './csvs\\\\A211112.csv', './csvs\\\\I211110.csv'],\n",
    " ['./csvs\\\\A211124.csv',\n",
    "  './csvs\\\\I211124.csv',\n",
    "  './csvs\\\\I211125.csv',\n",
    "  './csvs\\\\I211201.csv',\n",
    "  './csvs\\\\I211202.csv',\n",
    "  './csvs\\\\I211203.csv',\n",
    "  './csvs\\\\I211207.csv',\n",
    "  './csvs\\\\I211208.csv',\n",
    "  './csvs\\\\I211209.csv',\n",
    "  './csvs\\\\I211210.csv',\n",
    "  './csvs\\\\I211213.csv',\n",
    "  './csvs\\\\I211215.csv',\n",
    "  './csvs\\\\I211216.csv',\n",
    "  './csvs\\\\I211220.csv',\n",
    "  './csvs\\\\I211222.csv',\n",
    "  './csvs\\\\I211223.csv'],\n",
    " ['./csvs\\\\A211126.csv', './csvs\\\\A211207.csv'],\n",
    " ['./csvs\\\\I211116.csv', './csvs\\\\I211117.csv']]\n"
   ]
  },
  {
   "cell_type": "code",
   "execution_count": null,
   "metadata": {},
   "outputs": [],
   "source": [
    "say=0\n",
    "dataset=\"./results/vs/\"\n",
    "folder(dataset)\n",
    "for no, i in enumerate(datasets):\n",
    "    for ii in i:\n",
    "        for iii in tqdm(i):\n",
    "            say+=1\n",
    "            train=ii\n",
    "            test=iii\n",
    "            mixed=False\n",
    "            step=1\n",
    "            sayac=1\n",
    "            dataset=\"./results/vs/\"\n",
    "            output_csv=f\"{dataset}/@{ii[7:-4]}@{iii[7:-4]}.csv\"\n",
    "            dataset=f\"{ii[7:-4]}-{iii[7:-4]}\"\n",
    "            target_names=target_name(test)\n",
    "            ML(train,test,output_csv,feature,step,mixed,dataset[2:-1]+\"_\"+str(step))   \n"
   ]
  },
  {
   "cell_type": "code",
   "execution_count": null,
   "metadata": {},
   "outputs": [],
   "source": []
  }
 ],
 "metadata": {
  "kernelspec": {
   "display_name": "Python 3 (ipykernel)",
   "language": "python",
   "name": "python3"
  },
  "language_info": {
   "codemirror_mode": {
    "name": "ipython",
    "version": 3
   },
   "file_extension": ".py",
   "mimetype": "text/x-python",
   "name": "python",
   "nbconvert_exporter": "python",
   "pygments_lexer": "ipython3",
   "version": "3.10.8"
  }
 },
 "nbformat": 4,
 "nbformat_minor": 2
}
