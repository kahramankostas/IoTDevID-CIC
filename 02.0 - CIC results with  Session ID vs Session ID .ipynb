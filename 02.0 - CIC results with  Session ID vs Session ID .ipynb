{
 "cells": [
  {
   "cell_type": "markdown",
   "metadata": {},
   "source": [
    "###  importing relevant libraries"
   ]
  },
  {
   "cell_type": "code",
   "execution_count": 1,
   "metadata": {},
   "outputs": [],
   "source": [
    "import warnings\n",
    "warnings.filterwarnings(\"ignore\")"
   ]
  },
  {
   "cell_type": "code",
   "execution_count": 2,
   "metadata": {},
   "outputs": [],
   "source": [
    "\n",
    "from tabulate import tabulate\n",
    "from numpy import array\n",
    "from random import random\n",
    "from sklearn import metrics\n",
    "from sklearn.discriminant_analysis import QuadraticDiscriminantAnalysis as QDA\n",
    "from sklearn.ensemble import ExtraTreesClassifier\n",
    "from sklearn.ensemble import GradientBoostingClassifier\n",
    "from sklearn.ensemble import RandomForestClassifier, AdaBoostClassifier\n",
    "from sklearn.ensemble import BaggingClassifier\n",
    "from sklearn.ensemble import ExtraTreesClassifier\n",
    "from sklearn.metrics import accuracy_score\n",
    "from sklearn.metrics import average_precision_score\n",
    "from sklearn.metrics import balanced_accuracy_score\n",
    "from sklearn.metrics import classification_report\n",
    "from sklearn.metrics import confusion_matrix\n",
    "from sklearn.model_selection import KFold\n",
    "from sklearn.model_selection import RandomizedSearchCV\n",
    "from sklearn.model_selection import train_test_split\n",
    "from sklearn.naive_bayes import BernoulliNB#57\n",
    "from sklearn.naive_bayes import GaussianNB#52\n",
    "from sklearn.naive_bayes import MultinomialNB#56\n",
    "from sklearn.naive_bayes import CategoricalNB\n",
    "\n",
    "from sklearn.neighbors import KNeighborsClassifier\n",
    "from sklearn.neural_network import MLPClassifier\n",
    "from sklearn.preprocessing import Normalizer\n",
    "from sklearn.svm import SVC\n",
    "from sklearn.tree import DecisionTreeClassifier\n",
    "from sklearn.utils import shuffle\n",
    "import csv\n",
    "import math\n",
    "import matplotlib.pyplot as plt\n",
    "from collections import Counter\n",
    "import numpy as np\n",
    "import os\n",
    "import pandas as pd\n",
    "import seaborn as sns\n",
    "import sklearn\n",
    "import time\n",
    "%matplotlib inline\n"
   ]
  },
  {
   "cell_type": "markdown",
   "metadata": {},
   "source": [
    "### Discovering Labels"
   ]
  },
  {
   "cell_type": "code",
   "execution_count": 3,
   "metadata": {},
   "outputs": [],
   "source": [
    "def target_name(name):\n",
    "    df = pd.read_csv(name,usecols=[\"Label\"])\n",
    "    target_names=sorted(list(df[\"Label\"].unique()))\n",
    "    return target_names"
   ]
  },
  {
   "cell_type": "code",
   "execution_count": 4,
   "metadata": {},
   "outputs": [],
   "source": [
    "def folder(f_name): #this function creates a folder.\n",
    "    try:\n",
    "        if not os.path.exists(f_name):\n",
    "            os.makedirs(f_name)\n",
    "    except OSError:\n",
    "        print (\"Tthe folder could not be created!\")"
   ]
  },
  {
   "cell_type": "code",
   "execution_count": 5,
   "metadata": {},
   "outputs": [],
   "source": [
    "def find_the_way(path,file_format,con=\"\"):\n",
    "    files_add = []\n",
    "    # r=root, d=directories, f = files\n",
    "    for r, d, f in os.walk(path):\n",
    "        for file in f:\n",
    "            if file_format in file:\n",
    "                if con in file:\n",
    "                    files_add.append(os.path.join(r, file))  \n",
    "            \n",
    "    return files_add"
   ]
  },
  {
   "cell_type": "markdown",
   "metadata": {},
   "source": []
  },
  {
   "cell_type": "code",
   "execution_count": 6,
   "metadata": {},
   "outputs": [],
   "source": [
    "altime=0\n",
    "#def most_frequent(List): \n",
    "#    return max(set(List), key = List.count) \n",
    "\n",
    "\n",
    " \n",
    "def most_frequent(List):\n",
    "    occurence_count = Counter(List)\n",
    "    occurence_count={k: v for k, v in sorted(occurence_count.items(), key=lambda item: item[1],reverse=True)}\n",
    "    big=list(occurence_count.values())\n",
    "    big=big.count(big[0])\n",
    "    return list(occurence_count.keys())[np.random.randint(big)]\n",
    "\n",
    "\n",
    "def split(a, n):\n",
    "    k, m = divmod(len(a), n)\n",
    "    return (a[i * k + min(i, m):(i + 1) * k + min(i + 1, m)] for i in range(n))\n",
    "def create_exception(df): \n",
    "    exception_list=[]\n",
    "    dominant_mac=[]\n",
    "    for i in df['aggregated'].unique():\n",
    "        k=df[df['aggregated']==i]\n",
    "        for ii in ['MAC']:\n",
    "            hist = {}\n",
    "            for x in k[ii].values:\n",
    "                hist[x] = hist.get(x, 0) + 1\n",
    "            hist=dict(sorted(hist.items(), key=lambda item: item[1],reverse=True))\n",
    "            temp=next(iter(hist))\n",
    "            if temp not in dominant_mac:\n",
    "                dominant_mac.append(temp)\n",
    "            else:\n",
    "                exception_list.append(temp)\n",
    "    return exception_list\n",
    "\n",
    "\n",
    "\n",
    "\n",
    "def merged(m_test,predict,step,mixed):\n",
    "    second=time.time()\n",
    "    mac_test=[]\n",
    "    for q in m_test.index:\n",
    "        mac_test.append(m_test[q])\n",
    "\n",
    "    d_list=sorted(list(m_test.unique()))\n",
    "    devices={}\n",
    "    for q in d_list:\n",
    "        devices[q]=[]    \n",
    "\n",
    "\n",
    "    new_y=[0]*len(m_test)\n",
    "\n",
    "    for q,qq in enumerate (mac_test):\n",
    "        devices[qq].append(q)\n",
    "    for q in devices:\n",
    "        a = [devices[q][j:j + step] for j in range(0, len(devices[q]), step)]  \n",
    "        for qq in a:\n",
    "            step_list=[]\n",
    "            for qqq in qq:\n",
    "                step_list.append(predict[qqq])\n",
    "            add=most_frequent(list(step_list))\n",
    "            for qqq in qq:\n",
    "                new_y[qqq]=add\n",
    "    results=pd.DataFrame(m_test)\n",
    "    results[\"aggregated\"]=new_y\n",
    "    results[\"normal\"]=predict\n",
    "    \n",
    "    #MIXED METHOD\n",
    "    if mixed:\n",
    "        exception=create_exception(results)\n",
    "        for q in exception:\n",
    "            results.loc[results.MAC == q, 'aggregated'] = results['normal']\n",
    "\n",
    "    return results[\"aggregated\"].values,time.time()-second"
   ]
  },
  {
   "cell_type": "markdown",
   "metadata": {},
   "source": [
    "## Calculation of evaluations"
   ]
  },
  {
   "cell_type": "code",
   "execution_count": null,
   "metadata": {},
   "outputs": [],
   "source": []
  },
  {
   "cell_type": "code",
   "execution_count": 7,
   "metadata": {},
   "outputs": [],
   "source": [
    "def score(altime,train_time,test_time,predict,y_test,class_based_results,i,cv,dname,ml):\n",
    "    rc=sklearn.metrics.recall_score(y_test, predict,average= \"macro\")\n",
    "    pr=sklearn.metrics.precision_score(y_test, predict,average= \"macro\")\n",
    "    f_1=sklearn.metrics.f1_score(y_test, predict,average= \"macro\")     \n",
    "    accuracy=sklearn.metrics.accuracy_score(y_test, predict)\n",
    "    accuracy_b=sklearn.metrics.balanced_accuracy_score( y_test,predict)\n",
    "    kappa=sklearn.metrics.cohen_kappa_score(y_test, predict,labels=None, weights=None, sample_weight=None)\n",
    "    try:\n",
    "        roc=sklearn.metrics.roc_auc_score(y_test, predict)\n",
    "    except:roc=0\n",
    "    report = sklearn.metrics.classification_report(y_test, predict, target_names=target_names,output_dict=True)\n",
    "    cr = pd.DataFrame(report).transpose()\n",
    "    line=[dname,i,cv,ml,accuracy,accuracy_b,pr,rc,f_1,kappa,roc,train_time,test_time,altime]\n",
    "\n",
    "    if class_based_results.empty:\n",
    "        class_based_results =cr\n",
    "    else:\n",
    "        class_based_results = class_based_results.add(cr, fill_value=0)\n",
    "    return line,class_based_results"
   ]
  },
  {
   "cell_type": "code",
   "execution_count": 8,
   "metadata": {},
   "outputs": [],
   "source": [
    "def ML(loop1,loop2,output_csv1,cols,step,mixed,dname):\n",
    "\n",
    "    #ths = open(output_csv, \"w\")\n",
    "    #ths.write(\"Dataset,T,CV,ML algorithm,Acc,b_Acc,Precision, Recall , F1-score, kappa ,tra-Time,test-Time,Al-Time\\n\")\n",
    "    \n",
    "\n",
    "    from sklearn.metrics import balanced_accuracy_score\n",
    "    from sklearn.preprocessing import Normalizer\n",
    "    \n",
    "    for ii in ml_list:\n",
    "        #print ('%-15s %-3s %-3s %-6s  %-5s %-5s %-5s %-5s %-8s %-5s %-8s %-8s%-8s%-8s'%\n",
    "               #(\"Dataset\",\"T\",\"CV\",\"ML alg\",\"Acc\",\"b_Acc\",\"Prec\", \"Rec\" , \"F1\", \"kap\" ,\"tra-T\",\"test-T\",\"total\",\"al-time\"))\n",
    "        class_based_results=pd.DataFrame()#\"\" #pd.DataFrame(0, index=np.arange((len(target_names)+3)), columns=[\"f1-score\",\"precision\",\"recall\",\"support\"])\n",
    "        cm=pd.DataFrame()\n",
    "        cv=0\n",
    "        output_csv=output_csv1.replace(\"ML\",ii)\n",
    "        repetition=1\n",
    "        lines=[[\"Dataset\",\"T\",\"CV\",\"ML\",\"Acc\",\"b_Acc\",\"Prec\",\"Rec\",\"F1\",\"kap\",\"ROC\",\"tra-T\",\"test-T\",\"Al-Time\"]]\n",
    "        for i in range(repetition):\n",
    "\n",
    "\n",
    "\n",
    "            #TRAIN\n",
    "            df = pd.read_csv(loop1,usecols=cols)\n",
    "            m_train=df[\"MAC\"]\n",
    "            del df[\"MAC\"]\n",
    "            X_train =df[df.columns[0:-1]]\n",
    "            X_train=np.array(X_train)\n",
    "            df[df.columns[-1]] = df[df.columns[-1]].astype('category')\n",
    "            y_train=df[df.columns[-1]].cat.codes  \n",
    "\n",
    "            #TEST\n",
    "            df = pd.read_csv(loop2,usecols=cols)\n",
    "            df = shuffle(df, random_state=42)\n",
    "            m_test=df[\"MAC\"]\n",
    "            del df[\"MAC\"]\n",
    "            X_test =df[df.columns[0:-1]]\n",
    "            X_test=np.array(X_test)\n",
    "            df[df.columns[-1]] = df[df.columns[-1]].astype('category')\n",
    "            y_test=df[df.columns[-1]].cat.codes\n",
    "\n",
    "\n",
    "\n",
    "\n",
    "            results_y=[]\n",
    "            cv+=1\n",
    "            results_y.append(y_test)\n",
    "\n",
    "\n",
    "            #machine learning algorithm is applied in this section\n",
    "            clf = ml_list[ii]#choose algorithm from ml_list dictionary\n",
    "            second=time.time()\n",
    "            clf.fit(X_train, y_train)\n",
    "            train_time=(float((time.time()-second)) )\n",
    "            second=time.time()\n",
    "            predict =clf.predict(X_test)\n",
    "            test_time=(float((time.time()-second)) )\n",
    "            if step==1:\n",
    "                altime=0\n",
    "                line,class_based_results=score(altime,train_time,test_time,predict,y_test,class_based_results,i,cv,dname,ii)\n",
    "            else:\n",
    "                predict,altime=merged(m_test,predict,step,mixed)\n",
    "                line,class_based_results=score(altime,train_time,test_time,predict,y_test,class_based_results,i,cv,dname,ii)\n",
    "                \n",
    "                \n",
    "            lines.append(line)\n",
    "            df_cm = pd.DataFrame(confusion_matrix(y_test, predict))\n",
    "            if cm.empty:\n",
    "                cm =df_cm\n",
    "            else:\n",
    "                cm = cm.add(df_cm, fill_value=0)\n",
    "            \n",
    "        class_based_results=class_based_results/(repetition)\n",
    "        results = pd.DataFrame (lines[1:], columns = lines[0])\n",
    "        results.to_csv(output_csv.replace(\"ML\",ii),index=False)\n",
    "        results=results.round(3)\n",
    "        print (tabulate(results, headers=list(results.columns)))\n",
    "        print()\n",
    "  \n",
    "        \n",
    "        #print (tabulate(class_based_results, headers=list(class_based_results.columns)))\n",
    "        class_based_results.to_csv(output_csv.replace(\".csv\",\"CB.csv\"))\n",
    "        if True:\n",
    "            cm=cm//repetition\n",
    "            graph_name=output_csv+\"_confusion matrix.pdf\"   \n",
    "            plt.figure(figsize = (40,28))\n",
    "            sns.heatmap(cm,xticklabels=target_names, yticklabels=target_names, annot=True, fmt='g')\n",
    "            plt.savefig(graph_name,bbox_inches='tight')#, dpi=400)\n",
    "            cm.to_csv(graph_name.replace(\".pdf\",\".csv\"))\n",
    "            #plt.show()\n",
    "            #print(cm)\n",
    "            #print(\"\\n\\n\\n\")             \n",
    "\n",
    "\n",
    "            plt.clf()\n",
    "\n",
    "            \n",
    "            \n",
    "            \n",
    "            \n",
    "            \n",
    "\n"
   ]
  },
  {
   "cell_type": "markdown",
   "metadata": {},
   "source": [
    "# Machine learning applications "
   ]
  },
  {
   "cell_type": "markdown",
   "metadata": {},
   "source": [
    "# Aalto Dataset"
   ]
  },
  {
   "cell_type": "code",
   "execution_count": 9,
   "metadata": {},
   "outputs": [],
   "source": [
    "feature= ['pck_size', 'Ether_type', 'LLC_ctrl', 'EAPOL_version', 'EAPOL_type', 'IP_ihl', 'IP_tos', 'IP_len', 'IP_flags', 'IP_DF', 'IP_ttl', 'IP_options', 'ICMP_code', 'TCP_dataofs', 'TCP_FIN', 'TCP_ACK', 'TCP_window', 'UDP_len', 'DHCP_options', 'BOOTP_hlen', 'BOOTP_flags', 'BOOTP_sname', 'BOOTP_file', 'BOOTP_options', 'DNS_qr', 'DNS_rd', 'DNS_qdcount', 'dport_class', 'payload_bytes', 'entropy',\n",
    "\"MAC\",\n",
    "'Label']\n"
   ]
  },
  {
   "cell_type": "code",
   "execution_count": 10,
   "metadata": {},
   "outputs": [],
   "source": [
    "ml_list={\"DT\" :DecisionTreeClassifier()}\n",
    "\n"
   ]
  },
  {
   "cell_type": "code",
   "execution_count": 11,
   "metadata": {},
   "outputs": [],
   "source": [
    "datasets=[['./csvs\\\\A211102.csv',\n",
    "  './csvs\\\\A211105.csv',\n",
    "  './csvs\\\\I211102.csv',\n",
    "  './csvs\\\\I211103.csv',\n",
    "  './csvs\\\\I211104.csv'],\n",
    " ['./csvs\\\\A211108.csv',\n",
    "  './csvs\\\\A211109.csv',\n",
    "  './csvs\\\\A211115.csv',\n",
    "  './csvs\\\\A211116.csv',\n",
    "  './csvs\\\\A211117.csv',\n",
    "  './csvs\\\\A211118.csv',\n",
    "  './csvs\\\\A211122.csv',\n",
    "  './csvs\\\\A211123.csv',\n",
    "  './csvs\\\\A211125.csv',\n",
    "  './csvs\\\\A211206.csv',\n",
    "  './csvs\\\\A211208.csv',\n",
    "  './csvs\\\\A211223.csv',\n",
    "  './csvs\\\\A211225.csv',\n",
    "  './csvs\\\\A211228.csv',\n",
    "  './csvs\\\\I211108.csv',\n",
    "  './csvs\\\\I211112.csv',\n",
    "  './csvs\\\\I211115.csv',\n",
    "  './csvs\\\\I211118.csv',\n",
    "  './csvs\\\\I211119.csv',\n",
    "  './csvs\\\\I211122.csv'],\n",
    " ['./csvs\\\\A211110.csv', './csvs\\\\A211112.csv', './csvs\\\\I211110.csv'],\n",
    " ['./csvs\\\\A211124.csv',\n",
    "  './csvs\\\\I211124.csv',\n",
    "  './csvs\\\\I211125.csv',\n",
    "  './csvs\\\\I211201.csv',\n",
    "  './csvs\\\\I211202.csv',\n",
    "  './csvs\\\\I211203.csv',\n",
    "  './csvs\\\\I211207.csv',\n",
    "  './csvs\\\\I211208.csv',\n",
    "  './csvs\\\\I211209.csv',\n",
    "  './csvs\\\\I211210.csv',\n",
    "  './csvs\\\\I211213.csv',\n",
    "  './csvs\\\\I211215.csv',\n",
    "  './csvs\\\\I211216.csv',\n",
    "  './csvs\\\\I211220.csv',\n",
    "  './csvs\\\\I211222.csv',\n",
    "  './csvs\\\\I211223.csv'],\n",
    " ['./csvs\\\\A211126.csv', './csvs\\\\A211207.csv'],\n",
    " ['./csvs\\\\I211116.csv', './csvs\\\\I211117.csv']]\n"
   ]
  },
  {
   "cell_type": "code",
   "execution_count": 12,
   "metadata": {},
   "outputs": [],
   "source": [
    "datasets=[['./csvs\\\\A211102.csv',\n",
    "  './csvs\\\\A211105.csv',\n",
    "  './csvs\\\\I211102.csv',\n",
    "  './csvs\\\\I211103.csv',\n",
    "  './csvs\\\\I211104.csv'],\n",
    " ['./csvs\\\\A211108.csv',\n",
    "  './csvs\\\\A211109.csv',\n",
    "  './csvs\\\\A211115.csv',\n",
    "  './csvs\\\\A211116.csv',\n",
    "  './csvs\\\\A211117.csv',\n",
    "  './csvs\\\\A211118.csv',\n",
    "  './csvs\\\\A211122.csv',\n",
    "  './csvs\\\\A211123.csv',\n",
    "  './csvs\\\\A211125.csv',\n",
    "  './csvs\\\\A211206.csv',\n",
    "  './csvs\\\\A211208.csv',\n",
    "  './csvs\\\\A211223.csv',\n",
    "  './csvs\\\\A211225.csv',\n",
    "  './csvs\\\\A211228.csv',\n",
    "  './csvs\\\\I211108.csv',\n",
    "  './csvs\\\\I211112.csv',\n",
    "  './csvs\\\\I211115.csv',\n",
    "  './csvs\\\\I211118.csv',\n",
    "  './csvs\\\\I211119.csv',\n",
    "  './csvs\\\\I211122.csv']]\n"
   ]
  },
  {
   "cell_type": "code",
   "execution_count": 13,
   "metadata": {
    "scrolled": true
   },
   "outputs": [
    {
     "name": "stdout",
     "output_type": "stream",
     "text": [
      "1/698 - A211102 A211102\n",
      "    Dataset         T    CV  ML      Acc    b_Acc    Prec    Rec     F1    kap    ROC    tra-T    test-T    Al-Time\n",
      "--  ------------  ---  ----  ----  -----  -------  ------  -----  -----  -----  -----  -------  --------  ---------\n",
      " 0  results/vs_1    0     1  DT    0.934    0.905   0.919  0.905  0.909  0.931      0    0.527     0.078          0\n",
      "\n",
      "2/698 - A211102 A211105\n",
      "    Dataset         T    CV  ML      Acc    b_Acc    Prec    Rec     F1    kap    ROC    tra-T    test-T    Al-Time\n",
      "--  ------------  ---  ----  ----  -----  -------  ------  -----  -----  -----  -----  -------  --------  ---------\n",
      " 0  results/vs_1    0     1  DT    0.889    0.823   0.856  0.823  0.827  0.884      0    1.473      0.17          0\n",
      "\n",
      "3/698 - A211102 I211102\n",
      "    Dataset         T    CV  ML      Acc    b_Acc    Prec    Rec     F1    kap    ROC    tra-T    test-T    Al-Time\n",
      "--  ------------  ---  ----  ----  -----  -------  ------  -----  -----  -----  -----  -------  --------  ---------\n",
      " 0  results/vs_1    0     1  DT    0.719    0.841   0.851  0.841  0.827  0.706      0    1.347     0.223          0\n",
      "\n",
      "4/698 - A211102 I211103\n",
      "    Dataset         T    CV  ML      Acc    b_Acc    Prec    Rec     F1    kap    ROC    tra-T    test-T    Al-Time\n",
      "--  ------------  ---  ----  ----  -----  -------  ------  -----  -----  -----  -----  -------  --------  ---------\n",
      " 0  results/vs_1    0     1  DT    0.854      0.8   0.823    0.8  0.794  0.847      0    1.441     0.185          0\n",
      "\n",
      "5/698 - A211102 I211104\n",
      "    Dataset         T    CV  ML      Acc    b_Acc    Prec    Rec     F1    kap    ROC    tra-T    test-T    Al-Time\n",
      "--  ------------  ---  ----  ----  -----  -------  ------  -----  -----  -----  -----  -------  --------  ---------\n",
      " 0  results/vs_1    0     1  DT    0.858    0.813   0.847  0.813  0.813  0.851      0     1.38     0.189          0\n",
      "\n",
      "6/698 - A211105 A211102\n",
      "    Dataset         T    CV  ML      Acc    b_Acc    Prec    Rec     F1    kap    ROC    tra-T    test-T    Al-Time\n",
      "--  ------------  ---  ----  ----  -----  -------  ------  -----  -----  -----  -----  -------  --------  ---------\n",
      " 0  results/vs_1    0     1  DT    0.861    0.816   0.841  0.816  0.808  0.855      0    1.566     0.155          0\n",
      "\n",
      "7/698 - A211105 A211105\n",
      "    Dataset         T    CV  ML      Acc    b_Acc    Prec    Rec     F1    kap    ROC    tra-T    test-T    Al-Time\n",
      "--  ------------  ---  ----  ----  -----  -------  ------  -----  -----  -----  -----  -------  --------  ---------\n",
      " 0  results/vs_1    0     1  DT    0.938    0.914    0.92  0.914  0.914  0.936      0    1.566      0.17          0\n",
      "\n",
      "8/698 - A211105 I211102\n",
      "    Dataset         T    CV  ML      Acc    b_Acc    Prec    Rec     F1    kap    ROC    tra-T    test-T    Al-Time\n",
      "--  ------------  ---  ----  ----  -----  -------  ------  -----  -----  -----  -----  -------  --------  ---------\n",
      " 0  results/vs_1    0     1  DT    0.705    0.785   0.825  0.785  0.779  0.691      0    1.479     0.232          0\n",
      "\n",
      "9/698 - A211105 I211103\n",
      "    Dataset         T    CV  ML      Acc    b_Acc    Prec    Rec     F1    kap    ROC    tra-T    test-T    Al-Time\n",
      "--  ------------  ---  ----  ----  -----  -------  ------  -----  -----  -----  -----  -------  --------  ---------\n",
      " 0  results/vs_1    0     1  DT    0.872    0.823   0.847  0.823  0.825  0.867      0      1.5     0.176          0\n",
      "\n",
      "10/698 - A211105 I211104\n",
      "    Dataset         T    CV  ML      Acc    b_Acc    Prec    Rec     F1    kap    ROC    tra-T    test-T    Al-Time\n",
      "--  ------------  ---  ----  ----  -----  -------  ------  -----  -----  -----  -----  -------  --------  ---------\n",
      " 0  results/vs_1    0     1  DT    0.883    0.852   0.868  0.852  0.855  0.877      0    1.635     0.175          0\n",
      "\n",
      "11/698 - I211102 A211102\n",
      "    Dataset         T    CV  ML      Acc    b_Acc    Prec    Rec     F1    kap    ROC    tra-T    test-T    Al-Time\n",
      "--  ------------  ---  ----  ----  -----  -------  ------  -----  -----  -----  -----  -------  --------  ---------\n",
      " 0  results/vs_1    0     1  DT     0.82    0.821   0.836  0.821  0.798  0.812      0    2.014     0.154          0\n",
      "\n",
      "12/698 - I211102 A211105\n",
      "    Dataset         T    CV  ML      Acc    b_Acc    Prec    Rec     F1    kap    ROC    tra-T    test-T    Al-Time\n",
      "--  ------------  ---  ----  ----  -----  -------  ------  -----  -----  -----  -----  -------  --------  ---------\n",
      " 0  results/vs_1    0     1  DT    0.801    0.811   0.833  0.811  0.786  0.793      0    1.888     0.172          0\n",
      "\n",
      "13/698 - I211102 I211102\n",
      "    Dataset         T    CV  ML      Acc    b_Acc    Prec    Rec     F1    kap    ROC    tra-T    test-T    Al-Time\n",
      "--  ------------  ---  ----  ----  -----  -------  ------  -----  -----  -----  -----  -------  --------  ---------\n",
      " 0  results/vs_1    0     1  DT    0.938    0.909   0.919  0.909  0.911  0.932      0    2.033     0.195          0\n",
      "\n",
      "14/698 - I211102 I211103\n",
      "    Dataset         T    CV  ML      Acc    b_Acc    Prec    Rec     F1    kap    ROC    tra-T    test-T    Al-Time\n",
      "--  ------------  ---  ----  ----  -----  -------  ------  -----  -----  -----  -----  -------  --------  ---------\n",
      " 0  results/vs_1    0     1  DT    0.873    0.835   0.848  0.835  0.832  0.867      0    1.887      0.18          0\n",
      "\n",
      "15/698 - I211102 I211104\n",
      "    Dataset         T    CV  ML      Acc    b_Acc    Prec    Rec     F1    kap    ROC    tra-T    test-T    Al-Time\n",
      "--  ------------  ---  ----  ----  -----  -------  ------  -----  -----  -----  -----  -------  --------  ---------\n",
      " 0  results/vs_1    0     1  DT    0.849    0.829   0.848  0.829  0.827  0.842      0    1.923     0.155          0\n",
      "\n",
      "16/698 - I211103 A211102\n",
      "    Dataset         T    CV  ML      Acc    b_Acc    Prec    Rec     F1    kap    ROC    tra-T    test-T    Al-Time\n",
      "--  ------------  ---  ----  ----  -----  -------  ------  -----  -----  -----  -----  -------  --------  ---------\n",
      " 0  results/vs_1    0     1  DT    0.718    0.772   0.783  0.772  0.749  0.708      0    1.712     0.159          0\n",
      "\n",
      "17/698 - I211103 A211105\n",
      "    Dataset         T    CV  ML      Acc    b_Acc    Prec    Rec     F1    kap    ROC    tra-T    test-T    Al-Time\n",
      "--  ------------  ---  ----  ----  -----  -------  ------  -----  -----  -----  -----  -------  --------  ---------\n",
      " 0  results/vs_1    0     1  DT    0.763    0.803   0.798  0.803  0.766  0.754      0    1.648     0.161          0\n",
      "\n",
      "18/698 - I211103 I211102\n",
      "    Dataset         T    CV  ML      Acc    b_Acc    Prec    Rec     F1    kap    ROC    tra-T    test-T    Al-Time\n",
      "--  ------------  ---  ----  ----  -----  -------  ------  -----  -----  -----  -----  -------  --------  ---------\n",
      " 0  results/vs_1    0     1  DT    0.714     0.81   0.837   0.81  0.804    0.7      0    1.627     0.221          0\n",
      "\n",
      "19/698 - I211103 I211103\n",
      "    Dataset         T    CV  ML      Acc    b_Acc    Prec    Rec    F1    kap    ROC    tra-T    test-T    Al-Time\n",
      "--  ------------  ---  ----  ----  -----  -------  ------  -----  ----  -----  -----  -------  --------  ---------\n",
      " 0  results/vs_1    0     1  DT    0.924    0.907    0.92  0.907  0.91  0.921      0    1.689     0.191          0\n",
      "\n",
      "20/698 - I211103 I211104\n",
      "    Dataset         T    CV  ML      Acc    b_Acc    Prec    Rec     F1    kap    ROC    tra-T    test-T    Al-Time\n",
      "--  ------------  ---  ----  ----  -----  -------  ------  -----  -----  -----  -----  -------  --------  ---------\n",
      " 0  results/vs_1    0     1  DT    0.869    0.826   0.855  0.826  0.826  0.864      0    1.768     0.191          0\n",
      "\n",
      "21/698 - I211104 A211102\n",
      "    Dataset         T    CV  ML      Acc    b_Acc    Prec    Rec     F1    kap    ROC    tra-T    test-T    Al-Time\n",
      "--  ------------  ---  ----  ----  -----  -------  ------  -----  -----  -----  -----  -------  --------  ---------\n",
      " 0  results/vs_1    0     1  DT     0.82    0.804   0.826  0.804  0.797  0.812      0    1.898     0.173          0\n",
      "\n",
      "22/698 - I211104 A211105\n",
      "    Dataset         T    CV  ML      Acc    b_Acc    Prec    Rec     F1    kap    ROC    tra-T    test-T    Al-Time\n",
      "--  ------------  ---  ----  ----  -----  -------  ------  -----  -----  -----  -----  -------  --------  ---------\n",
      " 0  results/vs_1    0     1  DT    0.848    0.851   0.852  0.851  0.828  0.841      0    1.553     0.179          0\n",
      "\n"
     ]
    },
    {
     "name": "stdout",
     "output_type": "stream",
     "text": [
      "23/698 - I211104 I211102\n",
      "    Dataset         T    CV  ML      Acc    b_Acc    Prec    Rec     F1    kap    ROC    tra-T    test-T    Al-Time\n",
      "--  ------------  ---  ----  ----  -----  -------  ------  -----  -----  -----  -----  -------  --------  ---------\n",
      " 0  results/vs_1    0     1  DT     0.72    0.826   0.825  0.826  0.795  0.705      0    1.628     0.195          0\n",
      "\n",
      "24/698 - I211104 I211103\n",
      "    Dataset         T    CV  ML      Acc    b_Acc    Prec    Rec     F1    kap    ROC    tra-T    test-T    Al-Time\n",
      "--  ------------  ---  ----  ----  -----  -------  ------  -----  -----  -----  -----  -------  --------  ---------\n",
      " 0  results/vs_1    0     1  DT    0.896    0.865   0.885  0.865  0.869  0.891      0    1.642     0.177          0\n",
      "\n",
      "25/698 - I211104 I211104\n",
      "    Dataset         T    CV  ML      Acc    b_Acc    Prec    Rec     F1    kap    ROC    tra-T    test-T    Al-Time\n",
      "--  ------------  ---  ----  ----  -----  -------  ------  -----  -----  -----  -----  -------  --------  ---------\n",
      " 0  results/vs_1    0     1  DT    0.921    0.907   0.916  0.907  0.908  0.917      0    1.677      0.19          0\n",
      "\n",
      "26/698 - A211108 A211108\n",
      "    Dataset         T    CV  ML      Acc    b_Acc    Prec    Rec     F1    kap    ROC    tra-T    test-T    Al-Time\n",
      "--  ------------  ---  ----  ----  -----  -------  ------  -----  -----  -----  -----  -------  --------  ---------\n",
      " 0  results/vs_1    0     1  DT    0.946    0.887   0.909  0.887  0.887  0.941      0     1.91     0.211          0\n",
      "\n",
      "27/698 - A211108 A211109\n",
      "    Dataset         T    CV  ML      Acc    b_Acc    Prec    Rec     F1    kap    ROC    tra-T    test-T    Al-Time\n",
      "--  ------------  ---  ----  ----  -----  -------  ------  -----  -----  -----  -----  -------  --------  ---------\n",
      " 0  results/vs_1    0     1  DT    0.906    0.851   0.859  0.851  0.848  0.901      0    1.861     0.208          0\n",
      "\n",
      "28/698 - A211108 A211115\n",
      "    Dataset         T    CV  ML      Acc    b_Acc    Prec    Rec     F1    kap    ROC    tra-T    test-T    Al-Time\n",
      "--  ------------  ---  ----  ----  -----  -------  ------  -----  -----  -----  -----  -------  --------  ---------\n",
      " 0  results/vs_1    0     1  DT    0.664    0.562   0.542  0.562  0.514  0.639      0    1.808     0.239          0\n",
      "\n",
      "29/698 - A211108 A211116\n",
      "    Dataset         T    CV  ML      Acc    b_Acc    Prec    Rec     F1    kap    ROC    tra-T    test-T    Al-Time\n",
      "--  ------------  ---  ----  ----  -----  -------  ------  -----  -----  -----  -----  -------  --------  ---------\n",
      " 0  results/vs_1    0     1  DT    0.615    0.566   0.538  0.566  0.507  0.592      0    2.079     0.222          0\n",
      "\n",
      "30/698 - A211108 A211117\n",
      "    Dataset         T    CV  ML      Acc    b_Acc    Prec    Rec     F1    kap    ROC    tra-T    test-T    Al-Time\n",
      "--  ------------  ---  ----  ----  -----  -------  ------  -----  -----  -----  -----  -------  --------  ---------\n",
      " 0  results/vs_1    0     1  DT    0.547    0.529   0.515  0.529  0.462  0.527      0    1.944     0.212          0\n",
      "\n",
      "31/698 - A211108 A211118\n",
      "    Dataset         T    CV  ML      Acc    b_Acc    Prec    Rec     F1    kap    ROC    tra-T    test-T    Al-Time\n",
      "--  ------------  ---  ----  ----  -----  -------  ------  -----  -----  -----  -----  -------  --------  ---------\n",
      " 0  results/vs_1    0     1  DT    0.675    0.578   0.584  0.578  0.532  0.661      0    1.854     0.156          0\n",
      "\n",
      "32/698 - A211108 A211122\n",
      "    Dataset         T    CV  ML      Acc    b_Acc    Prec    Rec     F1    kap    ROC    tra-T    test-T    Al-Time\n",
      "--  ------------  ---  ----  ----  -----  -------  ------  -----  -----  -----  -----  -------  --------  ---------\n",
      " 0  results/vs_1    0     1  DT    0.764    0.589   0.598  0.589  0.548  0.747      0        2     0.197          0\n",
      "\n",
      "33/698 - A211108 A211123\n",
      "    Dataset         T    CV  ML      Acc    b_Acc    Prec    Rec     F1    kap    ROC    tra-T    test-T    Al-Time\n",
      "--  ------------  ---  ----  ----  -----  -------  ------  -----  -----  -----  -----  -------  --------  ---------\n",
      " 0  results/vs_1    0     1  DT    0.754    0.593   0.589  0.593  0.547  0.738      0    1.892     0.203          0\n",
      "\n",
      "34/698 - A211108 A211125\n",
      "    Dataset         T    CV  ML      Acc    b_Acc    Prec    Rec     F1    kap    ROC    tra-T    test-T    Al-Time\n",
      "--  ------------  ---  ----  ----  -----  -------  ------  -----  -----  -----  -----  -------  --------  ---------\n",
      " 0  results/vs_1    0     1  DT    0.666    0.564   0.537  0.564  0.505  0.652      0    1.895     0.183          0\n",
      "\n",
      "35/698 - A211108 A211206\n",
      "    Dataset         T    CV  ML      Acc    b_Acc    Prec    Rec     F1    kap    ROC    tra-T    test-T    Al-Time\n",
      "--  ------------  ---  ----  ----  -----  -------  ------  -----  -----  -----  -----  -------  --------  ---------\n",
      " 0  results/vs_1    0     1  DT    0.733    0.582   0.596  0.582  0.569  0.717      0    1.841     0.205          0\n",
      "\n",
      "36/698 - A211108 A211208\n",
      "    Dataset         T    CV  ML      Acc    b_Acc    Prec    Rec     F1    kap    ROC    tra-T    test-T    Al-Time\n",
      "--  ------------  ---  ----  ----  -----  -------  ------  -----  -----  -----  -----  -------  --------  ---------\n",
      " 0  results/vs_1    0     1  DT    0.771    0.561   0.571  0.561  0.539  0.751      0     1.85     0.173          0\n",
      "\n",
      "37/698 - A211108 A211223\n",
      "    Dataset         T    CV  ML      Acc    b_Acc    Prec    Rec     F1    kap    ROC    tra-T    test-T    Al-Time\n",
      "--  ------------  ---  ----  ----  -----  -------  ------  -----  -----  -----  -----  -------  --------  ---------\n",
      " 0  results/vs_1    0     1  DT    0.625    0.598   0.583  0.598  0.551  0.611      0    1.845     0.138          0\n",
      "\n",
      "38/698 - A211108 A211225\n",
      "    Dataset         T    CV  ML      Acc    b_Acc    Prec    Rec     F1    kap    ROC    tra-T    test-T    Al-Time\n",
      "--  ------------  ---  ----  ----  -----  -------  ------  -----  -----  -----  -----  -------  --------  ---------\n",
      " 0  results/vs_1    0     1  DT    0.646    0.593   0.577  0.593  0.549  0.633      0    1.851     0.161          0\n",
      "\n",
      "39/698 - A211108 A211228\n",
      "    Dataset         T    CV  ML      Acc    b_Acc    Prec    Rec     F1    kap    ROC    tra-T    test-T    Al-Time\n",
      "--  ------------  ---  ----  ----  -----  -------  ------  -----  -----  -----  -----  -------  --------  ---------\n",
      " 0  results/vs_1    0     1  DT    0.609    0.565   0.547  0.565  0.517  0.593      0    1.968     0.189          0\n",
      "\n",
      "40/698 - A211108 I211108\n",
      "    Dataset         T    CV  ML      Acc    b_Acc    Prec    Rec     F1    kap    ROC    tra-T    test-T    Al-Time\n",
      "--  ------------  ---  ----  ----  -----  -------  ------  -----  -----  -----  -----  -------  --------  ---------\n",
      " 0  results/vs_1    0     1  DT    0.873    0.858   0.853  0.858  0.849  0.868      0    2.266     0.215          0\n",
      "\n",
      "41/698 - A211108 I211112\n",
      "    Dataset         T    CV  ML      Acc    b_Acc    Prec    Rec     F1    kap    ROC    tra-T    test-T    Al-Time\n",
      "--  ------------  ---  ----  ----  -----  -------  ------  -----  -----  -----  -----  -------  --------  ---------\n",
      " 0  results/vs_1    0     1  DT    0.579    0.522   0.512  0.522  0.468   0.56      0    2.284     0.231          0\n",
      "\n",
      "42/698 - A211108 I211115\n",
      "    Dataset         T    CV  ML      Acc    b_Acc    Prec    Rec    F1    kap    ROC    tra-T    test-T    Al-Time\n",
      "--  ------------  ---  ----  ----  -----  -------  ------  -----  ----  -----  -----  -------  --------  ---------\n",
      " 0  results/vs_1    0     1  DT     0.58    0.535   0.545  0.535   0.5  0.564      0    2.336     0.221          0\n",
      "\n",
      "43/698 - A211108 I211118\n",
      "    Dataset         T    CV  ML      Acc    b_Acc    Prec    Rec     F1    kap    ROC    tra-T    test-T    Al-Time\n",
      "--  ------------  ---  ----  ----  -----  -------  ------  -----  -----  -----  -----  -------  --------  ---------\n",
      " 0  results/vs_1    0     1  DT    0.671    0.585   0.584  0.585  0.539  0.656      0    2.089     0.212          0\n",
      "\n",
      "44/698 - A211108 I211119\n",
      "    Dataset         T    CV  ML      Acc    b_Acc    Prec    Rec     F1    kap    ROC    tra-T    test-T    Al-Time\n",
      "--  ------------  ---  ----  ----  -----  -------  ------  -----  -----  -----  -----  -------  --------  ---------\n",
      " 0  results/vs_1    0     1  DT    0.666    0.574   0.576  0.574  0.524  0.651      0    2.023     0.204          0\n",
      "\n"
     ]
    },
    {
     "name": "stdout",
     "output_type": "stream",
     "text": [
      "45/698 - A211108 I211122\n",
      "    Dataset         T    CV  ML      Acc    b_Acc    Prec    Rec     F1    kap    ROC    tra-T    test-T    Al-Time\n",
      "--  ------------  ---  ----  ----  -----  -------  ------  -----  -----  -----  -----  -------  --------  ---------\n",
      " 0  results/vs_1    0     1  DT    0.672    0.579   0.574  0.579  0.533  0.657      0    1.913     0.216          0\n",
      "\n",
      "46/698 - A211109 A211108\n",
      "    Dataset         T    CV  ML      Acc    b_Acc    Prec    Rec     F1    kap    ROC    tra-T    test-T    Al-Time\n",
      "--  ------------  ---  ----  ----  -----  -------  ------  -----  -----  -----  -----  -------  --------  ---------\n",
      " 0  results/vs_1    0     1  DT    0.921    0.847   0.863  0.847  0.848  0.915      0    1.955     0.295          0\n",
      "\n",
      "47/698 - A211109 A211109\n",
      "    Dataset         T    CV  ML      Acc    b_Acc    Prec    Rec     F1    kap    ROC    tra-T    test-T    Al-Time\n",
      "--  ------------  ---  ----  ----  -----  -------  ------  -----  -----  -----  -----  -------  --------  ---------\n",
      " 0  results/vs_1    0     1  DT    0.928    0.889   0.899  0.889  0.883  0.924      0    1.911     0.189          0\n",
      "\n",
      "48/698 - A211109 A211115\n",
      "    Dataset         T    CV  ML      Acc    b_Acc    Prec    Rec     F1    kap    ROC    tra-T    test-T    Al-Time\n",
      "--  ------------  ---  ----  ----  -----  -------  ------  -----  -----  -----  -----  -------  --------  ---------\n",
      " 0  results/vs_1    0     1  DT    0.674    0.586   0.561  0.586  0.535   0.65      0     1.86     0.225          0\n",
      "\n",
      "49/698 - A211109 A211116\n",
      "    Dataset         T    CV  ML      Acc    b_Acc    Prec    Rec     F1    kap    ROC    tra-T    test-T    Al-Time\n",
      "--  ------------  ---  ----  ----  -----  -------  ------  -----  -----  -----  -----  -------  --------  ---------\n",
      " 0  results/vs_1    0     1  DT    0.627    0.591   0.554  0.591  0.528  0.604      0     1.71     0.211          0\n",
      "\n",
      "50/698 - A211109 A211117\n",
      "    Dataset         T    CV  ML      Acc    b_Acc    Prec    Rec     F1    kap    ROC    tra-T    test-T    Al-Time\n",
      "--  ------------  ---  ----  ----  -----  -------  ------  -----  -----  -----  -----  -------  --------  ---------\n",
      " 0  results/vs_1    0     1  DT    0.552    0.533   0.528  0.533  0.469  0.532      0    1.641     0.202          0\n",
      "\n",
      "51/698 - A211109 A211118\n",
      "    Dataset         T    CV  ML      Acc    b_Acc    Prec    Rec     F1    kap    ROC    tra-T    test-T    Al-Time\n",
      "--  ------------  ---  ----  ----  -----  -------  ------  -----  -----  -----  -----  -------  --------  ---------\n",
      " 0  results/vs_1    0     1  DT    0.696    0.605   0.603  0.605  0.558  0.683      0    1.686     0.145          0\n",
      "\n",
      "52/698 - A211109 A211122\n",
      "    Dataset         T    CV  ML      Acc    b_Acc    Prec    Rec     F1    kap    ROC    tra-T    test-T    Al-Time\n",
      "--  ------------  ---  ----  ----  -----  -------  ------  -----  -----  -----  -----  -------  --------  ---------\n",
      " 0  results/vs_1    0     1  DT    0.767    0.596   0.602  0.596  0.554   0.75      0    1.652     0.191          0\n",
      "\n",
      "53/698 - A211109 A211123\n",
      "    Dataset         T    CV  ML      Acc    b_Acc    Prec    Rec     F1    kap    ROC    tra-T    test-T    Al-Time\n",
      "--  ------------  ---  ----  ----  -----  -------  ------  -----  -----  -----  -----  -------  --------  ---------\n",
      " 0  results/vs_1    0     1  DT    0.758    0.592   0.579  0.592  0.537  0.741      0    1.668      0.19          0\n",
      "\n",
      "54/698 - A211109 A211125\n",
      "    Dataset         T    CV  ML      Acc    b_Acc    Prec    Rec     F1    kap    ROC    tra-T    test-T    Al-Time\n",
      "--  ------------  ---  ----  ----  -----  -------  ------  -----  -----  -----  -----  -------  --------  ---------\n",
      " 0  results/vs_1    0     1  DT    0.686    0.587   0.571  0.587  0.544  0.672      0    1.659     0.172          0\n",
      "\n",
      "55/698 - A211109 A211206\n",
      "    Dataset         T    CV  ML      Acc    b_Acc    Prec    Rec     F1    kap    ROC    tra-T    test-T    Al-Time\n",
      "--  ------------  ---  ----  ----  -----  -------  ------  -----  -----  -----  -----  -------  --------  ---------\n",
      " 0  results/vs_1    0     1  DT    0.735    0.588   0.589  0.588  0.564  0.719      0    1.893     0.174          0\n",
      "\n",
      "56/698 - A211109 A211208\n",
      "    Dataset         T    CV  ML      Acc    b_Acc    Prec    Rec     F1    kap    ROC    tra-T    test-T    Al-Time\n",
      "--  ------------  ---  ----  ----  -----  -------  ------  -----  -----  -----  -----  -------  --------  ---------\n",
      " 0  results/vs_1    0     1  DT    0.788    0.586   0.598  0.586  0.568   0.77      0    1.641      0.17          0\n",
      "\n",
      "57/698 - A211109 A211223\n",
      "    Dataset         T    CV  ML      Acc    b_Acc    Prec    Rec     F1    kap    ROC    tra-T    test-T    Al-Time\n",
      "--  ------------  ---  ----  ----  -----  -------  ------  -----  -----  -----  -----  -------  --------  ---------\n",
      " 0  results/vs_1    0     1  DT    0.606    0.568    0.56  0.568  0.534  0.591      0    1.689     0.145          0\n",
      "\n",
      "58/698 - A211109 A211225\n",
      "    Dataset         T    CV  ML      Acc    b_Acc    Prec    Rec     F1    kap    ROC    tra-T    test-T    Al-Time\n",
      "--  ------------  ---  ----  ----  -----  -------  ------  -----  -----  -----  -----  -------  --------  ---------\n",
      " 0  results/vs_1    0     1  DT    0.646    0.583   0.577  0.583  0.544  0.633      0    1.717     0.173          0\n",
      "\n",
      "59/698 - A211109 A211228\n",
      "    Dataset         T    CV  ML      Acc    b_Acc    Prec    Rec     F1    kap    ROC    tra-T    test-T    Al-Time\n",
      "--  ------------  ---  ----  ----  -----  -------  ------  -----  -----  -----  -----  -------  --------  ---------\n",
      " 0  results/vs_1    0     1  DT    0.607    0.557   0.549  0.557  0.522  0.591      0    1.732     0.179          0\n",
      "\n",
      "60/698 - A211109 I211108\n",
      "    Dataset         T    CV  ML      Acc    b_Acc    Prec    Rec     F1    kap    ROC    tra-T    test-T    Al-Time\n",
      "--  ------------  ---  ----  ----  -----  -------  ------  -----  -----  -----  -----  -------  --------  ---------\n",
      " 0  results/vs_1    0     1  DT    0.867    0.846   0.835  0.846  0.831  0.861      0    1.748     0.213          0\n",
      "\n",
      "61/698 - A211109 I211112\n",
      "    Dataset         T    CV  ML      Acc    b_Acc    Prec    Rec     F1    kap    ROC    tra-T    test-T    Al-Time\n",
      "--  ------------  ---  ----  ----  -----  -------  ------  -----  -----  -----  -----  -------  --------  ---------\n",
      " 0  results/vs_1    0     1  DT    0.598    0.553   0.529  0.553  0.494   0.58      0    1.695     0.247          0\n",
      "\n",
      "62/698 - A211109 I211115\n",
      "    Dataset         T    CV  ML      Acc    b_Acc    Prec    Rec     F1    kap    ROC    tra-T    test-T    Al-Time\n",
      "--  ------------  ---  ----  ----  -----  -------  ------  -----  -----  -----  -----  -------  --------  ---------\n",
      " 0  results/vs_1    0     1  DT    0.599    0.569    0.56  0.569  0.528  0.584      0     1.74     0.204          0\n",
      "\n",
      "63/698 - A211109 I211118\n",
      "    Dataset         T    CV  ML      Acc    b_Acc    Prec    Rec     F1    kap    ROC    tra-T    test-T    Al-Time\n",
      "--  ------------  ---  ----  ----  -----  -------  ------  -----  -----  -----  -----  -------  --------  ---------\n",
      " 0  results/vs_1    0     1  DT    0.688    0.598   0.606  0.598  0.554  0.674      0    1.646     0.196          0\n",
      "\n",
      "64/698 - A211109 I211119\n",
      "    Dataset         T    CV  ML      Acc    b_Acc    Prec    Rec     F1    kap    ROC    tra-T    test-T    Al-Time\n",
      "--  ------------  ---  ----  ----  -----  -------  ------  -----  -----  -----  -----  -------  --------  ---------\n",
      " 0  results/vs_1    0     1  DT    0.686    0.607   0.604  0.607  0.567  0.672      0    1.714     0.211          0\n",
      "\n",
      "65/698 - A211109 I211122\n",
      "    Dataset         T    CV  ML      Acc    b_Acc    Prec    Rec     F1    kap    ROC    tra-T    test-T    Al-Time\n",
      "--  ------------  ---  ----  ----  -----  -------  ------  -----  -----  -----  -----  -------  --------  ---------\n",
      " 0  results/vs_1    0     1  DT    0.676    0.577   0.568  0.577  0.526  0.661      0     1.93     0.206          0\n",
      "\n",
      "66/698 - A211115 A211108\n",
      "    Dataset         T    CV  ML      Acc    b_Acc    Prec    Rec     F1    kap    ROC    tra-T    test-T    Al-Time\n",
      "--  ------------  ---  ----  ----  -----  -------  ------  -----  -----  -----  -----  -------  --------  ---------\n",
      " 0  results/vs_1    0     1  DT    0.637    0.569   0.559  0.569  0.532  0.619      0    2.328      0.23          0\n",
      "\n"
     ]
    },
    {
     "name": "stdout",
     "output_type": "stream",
     "text": [
      "67/698 - A211115 A211109\n",
      "    Dataset         T    CV  ML      Acc    b_Acc    Prec    Rec     F1    kap    ROC    tra-T    test-T    Al-Time\n",
      "--  ------------  ---  ----  ----  -----  -------  ------  -----  -----  -----  -----  -------  --------  ---------\n",
      " 0  results/vs_1    0     1  DT    0.665     0.61   0.585   0.61  0.566   0.65      0     2.33     0.202          0\n",
      "\n",
      "68/698 - A211115 A211115\n",
      "    Dataset         T    CV  ML      Acc    b_Acc    Prec    Rec     F1    kap    ROC    tra-T    test-T    Al-Time\n",
      "--  ------------  ---  ----  ----  -----  -------  ------  -----  -----  -----  -----  -------  --------  ---------\n",
      " 0  results/vs_1    0     1  DT    0.946    0.913   0.918  0.913  0.912  0.941      0    2.109     0.236          0\n",
      "\n",
      "69/698 - A211115 A211116\n",
      "    Dataset         T    CV  ML      Acc    b_Acc    Prec    Rec     F1    kap    ROC    tra-T    test-T    Al-Time\n",
      "--  ------------  ---  ----  ----  -----  -------  ------  -----  -----  -----  -----  -------  --------  ---------\n",
      " 0  results/vs_1    0     1  DT    0.912    0.852   0.869  0.852  0.853  0.904      0    2.319     0.221          0\n",
      "\n",
      "70/698 - A211115 A211117\n",
      "    Dataset         T    CV  ML      Acc    b_Acc    Prec    Rec     F1    kap    ROC    tra-T    test-T    Al-Time\n",
      "--  ------------  ---  ----  ----  -----  -------  ------  -----  -----  -----  -----  -------  --------  ---------\n",
      " 0  results/vs_1    0     1  DT    0.751    0.817   0.831  0.817  0.804   0.74      0    2.305     0.212          0\n",
      "\n",
      "71/698 - A211115 A211118\n",
      "    Dataset         T    CV  ML      Acc    b_Acc    Prec    Rec     F1    kap    ROC    tra-T    test-T    Al-Time\n",
      "--  ------------  ---  ----  ----  -----  -------  ------  -----  -----  -----  -----  -------  --------  ---------\n",
      " 0  results/vs_1    0     1  DT    0.768    0.777    0.79  0.777  0.757   0.76      0    2.342     0.166          0\n",
      "\n",
      "72/698 - A211115 A211122\n",
      "    Dataset         T    CV  ML      Acc    b_Acc    Prec    Rec     F1    kap    ROC    tra-T    test-T    Al-Time\n",
      "--  ------------  ---  ----  ----  -----  -------  ------  -----  -----  -----  -----  -------  --------  ---------\n",
      " 0  results/vs_1    0     1  DT    0.722     0.81   0.803   0.81  0.785  0.711      0    2.312     0.211          0\n",
      "\n",
      "73/698 - A211115 A211123\n",
      "    Dataset         T    CV  ML      Acc    b_Acc    Prec    Rec    F1    kap    ROC    tra-T    test-T    Al-Time\n",
      "--  ------------  ---  ----  ----  -----  -------  ------  -----  ----  -----  -----  -------  --------  ---------\n",
      " 0  results/vs_1    0     1  DT    0.739    0.816   0.802  0.816  0.79  0.729      0    2.287     0.232          0\n",
      "\n",
      "74/698 - A211115 A211125\n",
      "    Dataset         T    CV  ML      Acc    b_Acc    Prec    Rec     F1    kap    ROC    tra-T    test-T    Al-Time\n",
      "--  ------------  ---  ----  ----  -----  -------  ------  -----  -----  -----  -----  -------  --------  ---------\n",
      " 0  results/vs_1    0     1  DT    0.772    0.787   0.769  0.787  0.752  0.763      0     2.34     0.187          0\n",
      "\n",
      "75/698 - A211115 A211206\n",
      "    Dataset         T    CV  ML      Acc    b_Acc    Prec    Rec     F1    kap    ROC    tra-T    test-T    Al-Time\n",
      "--  ------------  ---  ----  ----  -----  -------  ------  -----  -----  -----  -----  -------  --------  ---------\n",
      " 0  results/vs_1    0     1  DT    0.581    0.552   0.573  0.552  0.523  0.567      0    2.309     0.228          0\n",
      "\n",
      "76/698 - A211115 A211208\n",
      "    Dataset         T    CV  ML      Acc    b_Acc    Prec    Rec     F1    kap    ROC    tra-T    test-T    Al-Time\n",
      "--  ------------  ---  ----  ----  -----  -------  ------  -----  -----  -----  -----  -------  --------  ---------\n",
      " 0  results/vs_1    0     1  DT    0.616    0.561   0.568  0.561  0.523    0.6      0    2.327     0.186          0\n",
      "\n",
      "77/698 - A211115 A211223\n",
      "    Dataset         T    CV  ML      Acc    b_Acc    Prec    Rec    F1    kap    ROC    tra-T    test-T    Al-Time\n",
      "--  ------------  ---  ----  ----  -----  -------  ------  -----  ----  -----  -----  -------  --------  ---------\n",
      " 0  results/vs_1    0     1  DT    0.655    0.562   0.576  0.562  0.54  0.641      0    2.374     0.162          0\n",
      "\n",
      "78/698 - A211115 A211225\n",
      "    Dataset         T    CV  ML      Acc    b_Acc    Prec    Rec     F1    kap    ROC    tra-T    test-T    Al-Time\n",
      "--  ------------  ---  ----  ----  -----  -------  ------  -----  -----  -----  -----  -------  --------  ---------\n",
      " 0  results/vs_1    0     1  DT     0.67    0.596   0.588  0.596  0.565  0.657      0    2.328     0.176          0\n",
      "\n",
      "79/698 - A211115 A211228\n",
      "    Dataset         T    CV  ML      Acc    b_Acc    Prec    Rec     F1    kap    ROC    tra-T    test-T    Al-Time\n",
      "--  ------------  ---  ----  ----  -----  -------  ------  -----  -----  -----  -----  -------  --------  ---------\n",
      " 0  results/vs_1    0     1  DT     0.54    0.524   0.479  0.524  0.451  0.524      0    2.301     0.188          0\n",
      "\n",
      "80/698 - A211115 I211108\n",
      "    Dataset         T    CV  ML      Acc    b_Acc    Prec    Rec     F1    kap    ROC    tra-T    test-T    Al-Time\n",
      "--  ------------  ---  ----  ----  -----  -------  ------  -----  -----  -----  -----  -------  --------  ---------\n",
      " 0  results/vs_1    0     1  DT    0.617    0.551    0.53  0.551  0.513  0.602      0    2.392     0.209          0\n",
      "\n",
      "81/698 - A211115 I211112\n",
      "    Dataset         T    CV  ML      Acc    b_Acc    Prec    Rec     F1    kap    ROC    tra-T    test-T    Al-Time\n",
      "--  ------------  ---  ----  ----  -----  -------  ------  -----  -----  -----  -----  -------  --------  ---------\n",
      " 0  results/vs_1    0     1  DT    0.868    0.808   0.827  0.808  0.804  0.862      0    2.395     0.233          0\n",
      "\n",
      "82/698 - A211115 I211115\n",
      "    Dataset         T    CV  ML      Acc    b_Acc    Prec    Rec     F1    kap    ROC    tra-T    test-T    Al-Time\n",
      "--  ------------  ---  ----  ----  -----  -------  ------  -----  -----  -----  -----  -------  --------  ---------\n",
      " 0  results/vs_1    0     1  DT    0.886    0.883   0.882  0.883  0.879  0.881      0    2.268     0.215          0\n",
      "\n",
      "83/698 - A211115 I211118\n",
      "    Dataset         T    CV  ML      Acc    b_Acc    Prec    Rec     F1    kap    ROC    tra-T    test-T    Al-Time\n",
      "--  ------------  ---  ----  ----  -----  -------  ------  -----  -----  -----  -----  -------  --------  ---------\n",
      " 0  results/vs_1    0     1  DT    0.769    0.785   0.788  0.785  0.763  0.761      0    2.179      0.24          0\n",
      "\n",
      "84/698 - A211115 I211119\n",
      "    Dataset         T    CV  ML      Acc    b_Acc    Prec    Rec     F1    kap    ROC    tra-T    test-T    Al-Time\n",
      "--  ------------  ---  ----  ----  -----  -------  ------  -----  -----  -----  -----  -------  --------  ---------\n",
      " 0  results/vs_1    0     1  DT    0.772    0.813   0.806  0.813  0.791  0.764      0    2.111     0.227          0\n",
      "\n",
      "85/698 - A211115 I211122\n",
      "    Dataset         T    CV  ML      Acc    b_Acc    Prec    Rec     F1    kap    ROC    tra-T    test-T    Al-Time\n",
      "--  ------------  ---  ----  ----  -----  -------  ------  -----  -----  -----  -----  -------  --------  ---------\n",
      " 0  results/vs_1    0     1  DT     0.77    0.778   0.781  0.778  0.756  0.762      0    2.246     0.205          0\n",
      "\n",
      "86/698 - A211116 A211108\n",
      "    Dataset         T    CV  ML      Acc    b_Acc    Prec    Rec     F1    kap    ROC    tra-T    test-T    Al-Time\n",
      "--  ------------  ---  ----  ----  -----  -------  ------  -----  -----  -----  -----  -------  --------  ---------\n",
      " 0  results/vs_1    0     1  DT    0.629    0.554   0.522  0.554  0.483   0.61      0     2.13     0.233          0\n",
      "\n",
      "87/698 - A211116 A211109\n",
      "    Dataset         T    CV  ML      Acc    b_Acc    Prec    Rec     F1    kap    ROC    tra-T    test-T    Al-Time\n",
      "--  ------------  ---  ----  ----  -----  -------  ------  -----  -----  -----  -----  -------  --------  ---------\n",
      " 0  results/vs_1    0     1  DT    0.646     0.56   0.536   0.56  0.498   0.63      0    2.175     0.199          0\n",
      "\n",
      "88/698 - A211116 A211115\n",
      "    Dataset         T    CV  ML      Acc    b_Acc    Prec    Rec     F1    kap    ROC    tra-T    test-T    Al-Time\n",
      "--  ------------  ---  ----  ----  -----  -------  ------  -----  -----  -----  -----  -------  --------  ---------\n",
      " 0  results/vs_1    0     1  DT    0.911    0.851   0.851  0.851  0.846  0.903      0    2.134      0.24          0\n",
      "\n"
     ]
    },
    {
     "name": "stdout",
     "output_type": "stream",
     "text": [
      "89/698 - A211116 A211116\n",
      "    Dataset         T    CV  ML      Acc    b_Acc    Prec    Rec     F1    kap    ROC    tra-T    test-T    Al-Time\n",
      "--  ------------  ---  ----  ----  -----  -------  ------  -----  -----  -----  -----  -------  --------  ---------\n",
      " 0  results/vs_1    0     1  DT    0.949     0.92   0.922   0.92  0.918  0.945      0      2.1     0.227          0\n",
      "\n",
      "90/698 - A211116 A211117\n",
      "    Dataset         T    CV  ML      Acc    b_Acc    Prec    Rec     F1    kap    ROC    tra-T    test-T    Al-Time\n",
      "--  ------------  ---  ----  ----  -----  -------  ------  -----  -----  -----  -----  -------  --------  ---------\n",
      " 0  results/vs_1    0     1  DT    0.759    0.817   0.833  0.817  0.798  0.748      0    1.862     0.203          0\n",
      "\n",
      "91/698 - A211116 A211118\n",
      "    Dataset         T    CV  ML      Acc    b_Acc    Prec    Rec     F1    kap    ROC    tra-T    test-T    Al-Time\n",
      "--  ------------  ---  ----  ----  -----  -------  ------  -----  -----  -----  -----  -------  --------  ---------\n",
      " 0  results/vs_1    0     1  DT    0.776    0.797   0.792  0.797  0.763  0.768      0    1.815     0.171          0\n",
      "\n",
      "92/698 - A211116 A211122\n",
      "    Dataset         T    CV  ML      Acc    b_Acc    Prec    Rec     F1    kap    ROC    tra-T    test-T    Al-Time\n",
      "--  ------------  ---  ----  ----  -----  -------  ------  -----  -----  -----  -----  -------  --------  ---------\n",
      " 0  results/vs_1    0     1  DT    0.732    0.834   0.772  0.834  0.775  0.721      0    1.951     0.208          0\n",
      "\n",
      "93/698 - A211116 A211123\n",
      "    Dataset         T    CV  ML      Acc    b_Acc    Prec    Rec     F1    kap    ROC    tra-T    test-T    Al-Time\n",
      "--  ------------  ---  ----  ----  -----  -------  ------  -----  -----  -----  -----  -------  --------  ---------\n",
      " 0  results/vs_1    0     1  DT    0.745    0.822   0.789  0.822  0.769  0.734      0    1.843     0.213          0\n",
      "\n",
      "94/698 - A211116 A211125\n",
      "    Dataset         T    CV  ML      Acc    b_Acc    Prec    Rec     F1    kap    ROC    tra-T    test-T    Al-Time\n",
      "--  ------------  ---  ----  ----  -----  -------  ------  -----  -----  -----  -----  -------  --------  ---------\n",
      " 0  results/vs_1    0     1  DT    0.811    0.805   0.782  0.805  0.774  0.804      0    1.849     0.193          0\n",
      "\n",
      "95/698 - A211116 A211206\n",
      "    Dataset         T    CV  ML      Acc    b_Acc    Prec    Rec     F1    kap    ROC    tra-T    test-T    Al-Time\n",
      "--  ------------  ---  ----  ----  -----  -------  ------  -----  -----  -----  -----  -------  --------  ---------\n",
      " 0  results/vs_1    0     1  DT    0.572    0.543   0.526  0.543  0.481  0.558      0    1.936     0.211          0\n",
      "\n",
      "96/698 - A211116 A211208\n",
      "    Dataset         T    CV  ML      Acc    b_Acc    Prec    Rec     F1    kap    ROC    tra-T    test-T    Al-Time\n",
      "--  ------------  ---  ----  ----  -----  -------  ------  -----  -----  -----  -----  -------  --------  ---------\n",
      " 0  results/vs_1    0     1  DT    0.596    0.543   0.513  0.543  0.467  0.579      0    1.814     0.176          0\n",
      "\n",
      "97/698 - A211116 A211223\n",
      "    Dataset         T    CV  ML      Acc    b_Acc    Prec    Rec     F1    kap    ROC    tra-T    test-T    Al-Time\n",
      "--  ------------  ---  ----  ----  -----  -------  ------  -----  -----  -----  -----  -------  --------  ---------\n",
      " 0  results/vs_1    0     1  DT    0.591    0.546   0.551  0.546  0.502  0.576      0    1.888     0.133          0\n",
      "\n",
      "98/698 - A211116 A211225\n",
      "    Dataset         T    CV  ML      Acc    b_Acc    Prec    Rec     F1    kap    ROC    tra-T    test-T    Al-Time\n",
      "--  ------------  ---  ----  ----  -----  -------  ------  -----  -----  -----  -----  -------  --------  ---------\n",
      " 0  results/vs_1    0     1  DT    0.617    0.552    0.52  0.552  0.499  0.603      0    1.858     0.155          0\n",
      "\n",
      "99/698 - A211116 A211228\n",
      "    Dataset         T    CV  ML      Acc    b_Acc    Prec    Rec     F1    kap    ROC    tra-T    test-T    Al-Time\n",
      "--  ------------  ---  ----  ----  -----  -------  ------  -----  -----  -----  -----  -------  --------  ---------\n",
      " 0  results/vs_1    0     1  DT    0.544    0.561   0.484  0.561  0.465  0.529      0    1.887     0.173          0\n",
      "\n",
      "100/698 - A211116 I211108\n",
      "    Dataset         T    CV  ML      Acc    b_Acc    Prec    Rec     F1    kap    ROC    tra-T    test-T    Al-Time\n",
      "--  ------------  ---  ----  ----  -----  -------  ------  -----  -----  -----  -----  -------  --------  ---------\n",
      " 0  results/vs_1    0     1  DT    0.597    0.513   0.521  0.513  0.473  0.581      0    1.883     0.192          0\n",
      "\n",
      "101/698 - A211116 I211112\n",
      "    Dataset         T    CV  ML      Acc    b_Acc    Prec    Rec     F1    kap    ROC    tra-T    test-T    Al-Time\n",
      "--  ------------  ---  ----  ----  -----  -------  ------  -----  -----  -----  -----  -------  --------  ---------\n",
      " 0  results/vs_1    0     1  DT    0.776    0.798   0.796  0.798  0.788  0.766      0    1.897     0.216          0\n",
      "\n",
      "102/698 - A211116 I211115\n",
      "    Dataset         T    CV  ML      Acc    b_Acc    Prec    Rec     F1    kap    ROC    tra-T    test-T    Al-Time\n",
      "--  ------------  ---  ----  ----  -----  -------  ------  -----  -----  -----  -----  -------  --------  ---------\n",
      " 0  results/vs_1    0     1  DT    0.883    0.872   0.866  0.872  0.862  0.878      0    1.766      0.21          0\n",
      "\n",
      "103/698 - A211116 I211118\n",
      "    Dataset         T    CV  ML      Acc    b_Acc    Prec    Rec     F1    kap    ROC    tra-T    test-T    Al-Time\n",
      "--  ------------  ---  ----  ----  -----  -------  ------  -----  -----  -----  -----  -------  --------  ---------\n",
      " 0  results/vs_1    0     1  DT     0.77    0.787   0.776  0.787  0.751  0.762      0    1.848     0.215          0\n",
      "\n",
      "104/698 - A211116 I211119\n",
      "    Dataset         T    CV  ML      Acc    b_Acc    Prec    Rec     F1    kap    ROC    tra-T    test-T    Al-Time\n",
      "--  ------------  ---  ----  ----  -----  -------  ------  -----  -----  -----  -----  -------  --------  ---------\n",
      " 0  results/vs_1    0     1  DT    0.767    0.804   0.791  0.804  0.761  0.759      0    1.852     0.196          0\n",
      "\n",
      "105/698 - A211116 I211122\n",
      "    Dataset         T    CV  ML      Acc    b_Acc    Prec    Rec     F1    kap    ROC    tra-T    test-T    Al-Time\n",
      "--  ------------  ---  ----  ----  -----  -------  ------  -----  -----  -----  -----  -------  --------  ---------\n",
      " 0  results/vs_1    0     1  DT    0.775    0.796   0.782  0.796  0.753  0.767      0    2.115     0.222          0\n",
      "\n",
      "106/698 - A211117 A211108\n",
      "    Dataset         T    CV  ML      Acc    b_Acc    Prec    Rec     F1    kap    ROC    tra-T    test-T    Al-Time\n",
      "--  ------------  ---  ----  ----  -----  -------  ------  -----  -----  -----  -----  -------  --------  ---------\n",
      " 0  results/vs_1    0     1  DT     0.62    0.548   0.493  0.548  0.478  0.601      0    1.915     0.238          0\n",
      "\n",
      "107/698 - A211117 A211109\n",
      "    Dataset         T    CV  ML      Acc    b_Acc    Prec    Rec     F1    kap    ROC    tra-T    test-T    Al-Time\n",
      "--  ------------  ---  ----  ----  -----  -------  ------  -----  -----  -----  -----  -------  --------  ---------\n",
      " 0  results/vs_1    0     1  DT    0.636    0.557   0.498  0.557  0.486   0.62      0    1.886     0.197          0\n",
      "\n",
      "108/698 - A211117 A211115\n",
      "    Dataset         T    CV  ML      Acc    b_Acc    Prec    Rec     F1    kap    ROC    tra-T    test-T    Al-Time\n",
      "--  ------------  ---  ----  ----  -----  -------  ------  -----  -----  -----  -----  -------  --------  ---------\n",
      " 0  results/vs_1    0     1  DT    0.882    0.832   0.831  0.832  0.817  0.872      0    1.771     0.225          0\n",
      "\n",
      "109/698 - A211117 A211116\n",
      "    Dataset         T    CV  ML      Acc    b_Acc    Prec    Rec     F1    kap    ROC    tra-T    test-T    Al-Time\n",
      "--  ------------  ---  ----  ----  -----  -------  ------  -----  -----  -----  -----  -------  --------  ---------\n",
      " 0  results/vs_1    0     1  DT    0.895    0.838   0.855  0.838  0.833  0.886      0     1.65     0.213          0\n",
      "\n",
      "110/698 - A211117 A211117\n",
      "    Dataset         T    CV  ML      Acc    b_Acc    Prec    Rec    F1    kap    ROC    tra-T    test-T    Al-Time\n",
      "--  ------------  ---  ----  ----  -----  -------  ------  -----  ----  -----  -----  -------  --------  ---------\n",
      " 0  results/vs_1    0     1  DT    0.941    0.932   0.932  0.932  0.93  0.937      0    1.694     0.186          0\n",
      "\n"
     ]
    },
    {
     "name": "stdout",
     "output_type": "stream",
     "text": [
      "111/698 - A211117 A211118\n",
      "    Dataset         T    CV  ML      Acc    b_Acc    Prec    Rec     F1    kap    ROC    tra-T    test-T    Al-Time\n",
      "--  ------------  ---  ----  ----  -----  -------  ------  -----  -----  -----  -----  -------  --------  ---------\n",
      " 0  results/vs_1    0     1  DT    0.765    0.794   0.779  0.794  0.759  0.757      0    1.723     0.169          0\n",
      "\n",
      "112/698 - A211117 A211122\n",
      "    Dataset         T    CV  ML      Acc    b_Acc    Prec    Rec     F1    kap    ROC    tra-T    test-T    Al-Time\n",
      "--  ------------  ---  ----  ----  -----  -------  ------  -----  -----  -----  -----  -------  --------  ---------\n",
      " 0  results/vs_1    0     1  DT    0.724    0.822   0.777  0.822  0.772  0.714      0    1.872     0.203          0\n",
      "\n",
      "113/698 - A211117 A211123\n",
      "    Dataset         T    CV  ML      Acc    b_Acc    Prec    Rec     F1    kap    ROC    tra-T    test-T    Al-Time\n",
      "--  ------------  ---  ----  ----  -----  -------  ------  -----  -----  -----  -----  -------  --------  ---------\n",
      " 0  results/vs_1    0     1  DT    0.729    0.817   0.775  0.817  0.764  0.718      0    1.712     0.208          0\n",
      "\n",
      "114/698 - A211117 A211125\n",
      "    Dataset         T    CV  ML      Acc    b_Acc    Prec    Rec     F1    kap    ROC    tra-T    test-T    Al-Time\n",
      "--  ------------  ---  ----  ----  -----  -------  ------  -----  -----  -----  -----  -------  --------  ---------\n",
      " 0  results/vs_1    0     1  DT    0.762    0.788   0.749  0.788  0.742  0.753      0     1.78     0.172          0\n",
      "\n",
      "115/698 - A211117 A211206\n",
      "    Dataset         T    CV  ML      Acc    b_Acc    Prec    Rec     F1    kap    ROC    tra-T    test-T    Al-Time\n",
      "--  ------------  ---  ----  ----  -----  -------  ------  -----  -----  -----  -----  -------  --------  ---------\n",
      " 0  results/vs_1    0     1  DT    0.524    0.515   0.525  0.515  0.454   0.51      0    1.673      0.18          0\n",
      "\n",
      "116/698 - A211117 A211208\n",
      "    Dataset         T    CV  ML      Acc    b_Acc    Prec    Rec     F1    kap    ROC    tra-T    test-T    Al-Time\n",
      "--  ------------  ---  ----  ----  -----  -------  ------  -----  -----  -----  -----  -------  --------  ---------\n",
      " 0  results/vs_1    0     1  DT    0.614    0.564   0.543  0.564  0.513  0.596      0    1.696     0.157          0\n",
      "\n",
      "117/698 - A211117 A211223\n",
      "    Dataset         T    CV  ML      Acc    b_Acc    Prec    Rec     F1    kap    ROC    tra-T    test-T    Al-Time\n",
      "--  ------------  ---  ----  ----  -----  -------  ------  -----  -----  -----  -----  -------  --------  ---------\n",
      " 0  results/vs_1    0     1  DT    0.588    0.564   0.548  0.564  0.524  0.572      0    1.706     0.133          0\n",
      "\n",
      "118/698 - A211117 A211225\n",
      "    Dataset         T    CV  ML      Acc    b_Acc    Prec    Rec     F1    kap    ROC    tra-T    test-T    Al-Time\n",
      "--  ------------  ---  ----  ----  -----  -------  ------  -----  -----  -----  -----  -------  --------  ---------\n",
      " 0  results/vs_1    0     1  DT    0.619    0.567   0.544  0.567  0.526  0.604      0    1.811     0.154          0\n",
      "\n",
      "119/698 - A211117 A211228\n",
      "    Dataset         T    CV  ML      Acc    b_Acc    Prec    Rec     F1    kap    ROC    tra-T    test-T    Al-Time\n",
      "--  ------------  ---  ----  ----  -----  -------  ------  -----  -----  -----  -----  -------  --------  ---------\n",
      " 0  results/vs_1    0     1  DT     0.54    0.529    0.47  0.529  0.456  0.523      0     1.91     0.178          0\n",
      "\n",
      "120/698 - A211117 I211108\n",
      "    Dataset         T    CV  ML      Acc    b_Acc    Prec    Rec     F1    kap    ROC    tra-T    test-T    Al-Time\n",
      "--  ------------  ---  ----  ----  -----  -------  ------  -----  -----  -----  -----  -------  --------  ---------\n",
      " 0  results/vs_1    0     1  DT     0.59    0.545   0.517  0.545  0.495  0.574      0    1.913     0.208          0\n",
      "\n",
      "121/698 - A211117 I211112\n",
      "    Dataset         T    CV  ML      Acc    b_Acc    Prec    Rec     F1    kap    ROC    tra-T    test-T    Al-Time\n",
      "--  ------------  ---  ----  ----  -----  -------  ------  -----  -----  -----  -----  -------  --------  ---------\n",
      " 0  results/vs_1    0     1  DT    0.742    0.792   0.781  0.792  0.772  0.731      0    1.886     0.224          0\n",
      "\n",
      "122/698 - A211117 I211115\n",
      "    Dataset         T    CV  ML      Acc    b_Acc    Prec    Rec     F1    kap    ROC    tra-T    test-T    Al-Time\n",
      "--  ------------  ---  ----  ----  -----  -------  ------  -----  -----  -----  -----  -------  --------  ---------\n",
      " 0  results/vs_1    0     1  DT    0.843    0.812   0.827  0.812  0.803  0.837      0    1.946     0.215          0\n",
      "\n",
      "123/698 - A211117 I211118\n",
      "    Dataset         T    CV  ML      Acc    b_Acc    Prec    Rec     F1    kap    ROC    tra-T    test-T    Al-Time\n",
      "--  ------------  ---  ----  ----  -----  -------  ------  -----  -----  -----  -----  -------  --------  ---------\n",
      " 0  results/vs_1    0     1  DT    0.762    0.804   0.779  0.804  0.763  0.754      0    1.896     0.219          0\n",
      "\n",
      "124/698 - A211117 I211119\n",
      "    Dataset         T    CV  ML      Acc    b_Acc    Prec    Rec     F1    kap    ROC    tra-T    test-T    Al-Time\n",
      "--  ------------  ---  ----  ----  -----  -------  ------  -----  -----  -----  -----  -------  --------  ---------\n",
      " 0  results/vs_1    0     1  DT    0.761    0.819   0.766  0.819  0.761  0.753      0    1.744     0.185          0\n",
      "\n",
      "125/698 - A211117 I211122\n",
      "    Dataset         T    CV  ML      Acc    b_Acc    Prec    Rec    F1    kap    ROC    tra-T    test-T    Al-Time\n",
      "--  ------------  ---  ----  ----  -----  -------  ------  -----  ----  -----  -----  -------  --------  ---------\n",
      " 0  results/vs_1    0     1  DT    0.768    0.816   0.783  0.816  0.77   0.76      0    1.692      0.21          0\n",
      "\n",
      "126/698 - A211118 A211108\n",
      "    Dataset         T    CV  ML      Acc    b_Acc    Prec    Rec     F1    kap    ROC    tra-T    test-T    Al-Time\n",
      "--  ------------  ---  ----  ----  -----  -------  ------  -----  -----  -----  -----  -------  --------  ---------\n",
      " 0  results/vs_1    0     1  DT    0.759    0.588   0.581  0.588  0.558   0.74      0     1.18     0.207          0\n",
      "\n",
      "127/698 - A211118 A211109\n",
      "    Dataset         T    CV  ML      Acc    b_Acc    Prec    Rec     F1    kap    ROC    tra-T    test-T    Al-Time\n",
      "--  ------------  ---  ----  ----  -----  -------  ------  -----  -----  -----  -----  -------  --------  ---------\n",
      " 0  results/vs_1    0     1  DT    0.724      0.6   0.592    0.6  0.571  0.709      0    1.195     0.172          0\n",
      "\n",
      "128/698 - A211118 A211115\n",
      "    Dataset         T    CV  ML      Acc    b_Acc    Prec    Rec     F1    kap    ROC    tra-T    test-T    Al-Time\n",
      "--  ------------  ---  ----  ----  -----  -------  ------  -----  -----  -----  -----  -------  --------  ---------\n",
      " 0  results/vs_1    0     1  DT    0.631    0.784   0.775  0.784  0.751  0.616      0    1.259     0.232          0\n",
      "\n",
      "129/698 - A211118 A211116\n",
      "    Dataset         T    CV  ML      Acc    b_Acc    Prec    Rec     F1    kap    ROC    tra-T    test-T    Al-Time\n",
      "--  ------------  ---  ----  ----  -----  -------  ------  -----  -----  -----  -----  -------  --------  ---------\n",
      " 0  results/vs_1    0     1  DT    0.732    0.815   0.797  0.815  0.788  0.716      0    1.364     0.219          0\n",
      "\n",
      "130/698 - A211118 A211117\n",
      "    Dataset         T    CV  ML      Acc    b_Acc    Prec    Rec     F1    kap    ROC    tra-T    test-T    Al-Time\n",
      "--  ------------  ---  ----  ----  -----  -------  ------  -----  -----  -----  -----  -------  --------  ---------\n",
      " 0  results/vs_1    0     1  DT    0.676     0.77   0.777   0.77  0.744  0.661      0    1.164      0.21          0\n",
      "\n",
      "131/698 - A211118 A211118\n",
      "    Dataset         T    CV  ML      Acc    b_Acc    Prec    Rec     F1    kap    ROC    tra-T    test-T    Al-Time\n",
      "--  ------------  ---  ----  ----  -----  -------  ------  -----  -----  -----  -----  -------  --------  ---------\n",
      " 0  results/vs_1    0     1  DT    0.926    0.925   0.925  0.925  0.922  0.923      0    1.199     0.164          0\n",
      "\n",
      "132/698 - A211118 A211122\n",
      "    Dataset         T    CV  ML      Acc    b_Acc    Prec    Rec     F1    kap    ROC    tra-T    test-T    Al-Time\n",
      "--  ------------  ---  ----  ----  -----  -------  ------  -----  -----  -----  -----  -------  --------  ---------\n",
      " 0  results/vs_1    0     1  DT    0.896     0.85   0.846   0.85  0.836  0.888      0    1.286     0.197          0\n",
      "\n"
     ]
    },
    {
     "name": "stdout",
     "output_type": "stream",
     "text": [
      "133/698 - A211118 A211123\n",
      "    Dataset         T    CV  ML      Acc    b_Acc    Prec    Rec     F1    kap    ROC    tra-T    test-T    Al-Time\n",
      "--  ------------  ---  ----  ----  -----  -------  ------  -----  -----  -----  -----  -------  --------  ---------\n",
      " 0  results/vs_1    0     1  DT    0.899    0.838   0.847  0.838  0.834  0.892      0     1.15     0.177          0\n",
      "\n",
      "134/698 - A211118 A211125\n",
      "    Dataset         T    CV  ML      Acc    b_Acc    Prec    Rec    F1    kap    ROC    tra-T    test-T    Al-Time\n",
      "--  ------------  ---  ----  ----  -----  -------  ------  -----  ----  -----  -----  -------  --------  ---------\n",
      " 0  results/vs_1    0     1  DT    0.811    0.804   0.804  0.804  0.78  0.804      0    1.072     0.168          0\n",
      "\n",
      "135/698 - A211118 A211206\n",
      "    Dataset         T    CV  ML      Acc    b_Acc    Prec    Rec     F1    kap    ROC    tra-T    test-T    Al-Time\n",
      "--  ------------  ---  ----  ----  -----  -------  ------  -----  -----  -----  -----  -------  --------  ---------\n",
      " 0  results/vs_1    0     1  DT    0.714    0.562   0.572  0.562  0.544  0.697      0     1.14     0.205          0\n",
      "\n",
      "136/698 - A211118 A211208\n",
      "    Dataset         T    CV  ML      Acc    b_Acc    Prec    Rec     F1    kap    ROC    tra-T    test-T    Al-Time\n",
      "--  ------------  ---  ----  ----  -----  -------  ------  -----  -----  -----  -----  -------  --------  ---------\n",
      " 0  results/vs_1    0     1  DT    0.769    0.567    0.56  0.567  0.539   0.75      0    1.227     0.164          0\n",
      "\n",
      "137/698 - A211118 A211223\n",
      "    Dataset         T    CV  ML      Acc    b_Acc    Prec    Rec     F1    kap    ROC    tra-T    test-T    Al-Time\n",
      "--  ------------  ---  ----  ----  -----  -------  ------  -----  -----  -----  -----  -------  --------  ---------\n",
      " 0  results/vs_1    0     1  DT     0.62    0.589   0.571  0.589  0.545  0.605      0    1.238     0.137          0\n",
      "\n",
      "138/698 - A211118 A211225\n",
      "    Dataset         T    CV  ML      Acc    b_Acc    Prec    Rec     F1    kap    ROC    tra-T    test-T    Al-Time\n",
      "--  ------------  ---  ----  ----  -----  -------  ------  -----  -----  -----  -----  -------  --------  ---------\n",
      " 0  results/vs_1    0     1  DT    0.629    0.569   0.519  0.569  0.514  0.614      0    1.168     0.152          0\n",
      "\n",
      "139/698 - A211118 A211228\n",
      "    Dataset         T    CV  ML      Acc    b_Acc    Prec    Rec     F1    kap    ROC    tra-T    test-T    Al-Time\n",
      "--  ------------  ---  ----  ----  -----  -------  ------  -----  -----  -----  -----  -------  --------  ---------\n",
      " 0  results/vs_1    0     1  DT    0.598    0.556   0.498  0.556  0.481  0.583      0     1.16     0.164          0\n",
      "\n",
      "140/698 - A211118 I211108\n",
      "    Dataset         T    CV  ML      Acc    b_Acc    Prec    Rec     F1    kap    ROC    tra-T    test-T    Al-Time\n",
      "--  ------------  ---  ----  ----  -----  -------  ------  -----  -----  -----  -----  -------  --------  ---------\n",
      " 0  results/vs_1    0     1  DT    0.671    0.587   0.605  0.587  0.562  0.657      0    1.164      0.19          0\n",
      "\n",
      "141/698 - A211118 I211112\n",
      "    Dataset         T    CV  ML      Acc    b_Acc    Prec    Rec     F1    kap    ROC    tra-T    test-T    Al-Time\n",
      "--  ------------  ---  ----  ----  -----  -------  ------  -----  -----  -----  -----  -------  --------  ---------\n",
      " 0  results/vs_1    0     1  DT    0.758    0.789   0.766  0.789  0.766  0.747      0    1.219     0.226          0\n",
      "\n",
      "142/698 - A211118 I211115\n",
      "    Dataset         T    CV  ML      Acc    b_Acc    Prec    Rec     F1    kap    ROC    tra-T    test-T    Al-Time\n",
      "--  ------------  ---  ----  ----  -----  -------  ------  -----  -----  -----  -----  -------  --------  ---------\n",
      " 0  results/vs_1    0     1  DT    0.772    0.793   0.793  0.793  0.775  0.763      0    1.268     0.206          0\n",
      "\n",
      "143/698 - A211118 I211118\n",
      "    Dataset         T    CV  ML      Acc    b_Acc    Prec    Rec    F1    kap    ROC    tra-T    test-T    Al-Time\n",
      "--  ------------  ---  ----  ----  -----  -------  ------  -----  ----  -----  -----  -------  --------  ---------\n",
      " 0  results/vs_1    0     1  DT    0.884    0.871   0.875  0.871  0.86  0.879      0    1.287     0.209          0\n",
      "\n",
      "144/698 - A211118 I211119\n",
      "    Dataset         T    CV  ML      Acc    b_Acc    Prec    Rec     F1    kap    ROC    tra-T    test-T    Al-Time\n",
      "--  ------------  ---  ----  ----  -----  -------  ------  -----  -----  -----  -----  -------  --------  ---------\n",
      " 0  results/vs_1    0     1  DT    0.872    0.849   0.866  0.849  0.837  0.866      0    1.308     0.206          0\n",
      "\n",
      "145/698 - A211118 I211122\n",
      "    Dataset         T    CV  ML      Acc    b_Acc    Prec    Rec     F1    kap    ROC    tra-T    test-T    Al-Time\n",
      "--  ------------  ---  ----  ----  -----  -------  ------  -----  -----  -----  -----  -------  --------  ---------\n",
      " 0  results/vs_1    0     1  DT    0.877    0.851   0.858  0.851  0.837  0.872      0    1.188     0.177          0\n",
      "\n",
      "146/698 - A211122 A211108\n",
      "    Dataset         T    CV  ML      Acc    b_Acc    Prec    Rec    F1    kap    ROC    tra-T    test-T    Al-Time\n",
      "--  ------------  ---  ----  ----  -----  -------  ------  -----  ----  -----  -----  -------  --------  ---------\n",
      " 0  results/vs_1    0     1  DT    0.796    0.579   0.604  0.579  0.57  0.779      0    1.513     0.203          0\n",
      "\n",
      "147/698 - A211122 A211109\n",
      "    Dataset         T    CV  ML      Acc    b_Acc    Prec    Rec     F1    kap    ROC    tra-T    test-T    Al-Time\n",
      "--  ------------  ---  ----  ----  -----  -------  ------  -----  -----  -----  -----  -------  --------  ---------\n",
      " 0  results/vs_1    0     1  DT    0.752    0.587   0.609  0.587  0.576  0.738      0    1.491     0.217          0\n",
      "\n",
      "148/698 - A211122 A211115\n",
      "    Dataset         T    CV  ML      Acc    b_Acc    Prec    Rec     F1    kap    ROC    tra-T    test-T    Al-Time\n",
      "--  ------------  ---  ----  ----  -----  -------  ------  -----  -----  -----  -----  -------  --------  ---------\n",
      " 0  results/vs_1    0     1  DT    0.781    0.806   0.795  0.806  0.788  0.765      0    1.413      0.21          0\n",
      "\n",
      "149/698 - A211122 A211116\n",
      "    Dataset         T    CV  ML      Acc    b_Acc    Prec    Rec     F1    kap    ROC    tra-T    test-T    Al-Time\n",
      "--  ------------  ---  ----  ----  -----  -------  ------  -----  -----  -----  -----  -------  --------  ---------\n",
      " 0  results/vs_1    0     1  DT    0.743    0.823   0.803  0.823  0.798  0.727      0    1.557     0.192          0\n",
      "\n",
      "150/698 - A211122 A211117\n",
      "    Dataset         T    CV  ML      Acc    b_Acc    Prec    Rec     F1    kap    ROC    tra-T    test-T    Al-Time\n",
      "--  ------------  ---  ----  ----  -----  -------  ------  -----  -----  -----  -----  -------  --------  ---------\n",
      " 0  results/vs_1    0     1  DT    0.694    0.785     0.8  0.785  0.774   0.68      0    1.517     0.193          0\n",
      "\n",
      "151/698 - A211122 A211118\n",
      "    Dataset         T    CV  ML      Acc    b_Acc    Prec    Rec     F1    kap    ROC    tra-T    test-T    Al-Time\n",
      "--  ------------  ---  ----  ----  -----  -------  ------  -----  -----  -----  -----  -------  --------  ---------\n",
      " 0  results/vs_1    0     1  DT     0.87    0.836   0.858  0.836  0.834  0.864      0    1.484     0.153          0\n",
      "\n",
      "152/698 - A211122 A211122\n",
      "    Dataset         T    CV  ML      Acc    b_Acc    Prec    Rec     F1    kap    ROC    tra-T    test-T    Al-Time\n",
      "--  ------------  ---  ----  ----  -----  -------  ------  -----  -----  -----  -----  -------  --------  ---------\n",
      " 0  results/vs_1    0     1  DT    0.946    0.921   0.923  0.921  0.921  0.943      0    1.517     0.199          0\n",
      "\n",
      "153/698 - A211122 A211123\n",
      "    Dataset         T    CV  ML      Acc    b_Acc    Prec    Rec     F1    kap    ROC    tra-T    test-T    Al-Time\n",
      "--  ------------  ---  ----  ----  -----  -------  ------  -----  -----  -----  -----  -------  --------  ---------\n",
      " 0  results/vs_1    0     1  DT    0.909    0.851   0.879  0.851  0.854  0.902      0    1.528     0.188          0\n",
      "\n",
      "154/698 - A211122 A211125\n",
      "    Dataset         T    CV  ML      Acc    b_Acc    Prec    Rec     F1    kap    ROC    tra-T    test-T    Al-Time\n",
      "--  ------------  ---  ----  ----  -----  -------  ------  -----  -----  -----  -----  -------  --------  ---------\n",
      " 0  results/vs_1    0     1  DT    0.844    0.819   0.831  0.819  0.816  0.837      0    1.459     0.163          0\n",
      "\n"
     ]
    },
    {
     "name": "stdout",
     "output_type": "stream",
     "text": [
      "155/698 - A211122 A211206\n",
      "    Dataset         T    CV  ML      Acc    b_Acc    Prec    Rec     F1    kap    ROC    tra-T    test-T    Al-Time\n",
      "--  ------------  ---  ----  ----  -----  -------  ------  -----  -----  -----  -----  -------  --------  ---------\n",
      " 0  results/vs_1    0     1  DT    0.736    0.566   0.585  0.566  0.558   0.72      0    1.476     0.182          0\n",
      "\n",
      "156/698 - A211122 A211208\n",
      "    Dataset         T    CV  ML      Acc    b_Acc    Prec    Rec     F1    kap    ROC    tra-T    test-T    Al-Time\n",
      "--  ------------  ---  ----  ----  -----  -------  ------  -----  -----  -----  -----  -------  --------  ---------\n",
      " 0  results/vs_1    0     1  DT    0.778    0.563   0.567  0.563  0.546  0.759      0    1.541     0.168          0\n",
      "\n",
      "157/698 - A211122 A211223\n",
      "    Dataset         T    CV  ML      Acc    b_Acc    Prec    Rec     F1    kap    ROC    tra-T    test-T    Al-Time\n",
      "--  ------------  ---  ----  ----  -----  -------  ------  -----  -----  -----  -----  -------  --------  ---------\n",
      " 0  results/vs_1    0     1  DT    0.601    0.564   0.551  0.564  0.524  0.585      0    1.551     0.135          0\n",
      "\n",
      "158/698 - A211122 A211225\n",
      "    Dataset         T    CV  ML      Acc    b_Acc    Prec    Rec     F1    kap    ROC    tra-T    test-T    Al-Time\n",
      "--  ------------  ---  ----  ----  -----  -------  ------  -----  -----  -----  -----  -------  --------  ---------\n",
      " 0  results/vs_1    0     1  DT     0.63    0.559   0.548  0.559  0.524  0.615      0    1.639     0.177          0\n",
      "\n",
      "159/698 - A211122 A211228\n",
      "    Dataset         T    CV  ML      Acc    b_Acc    Prec    Rec     F1    kap    ROC    tra-T    test-T    Al-Time\n",
      "--  ------------  ---  ----  ----  -----  -------  ------  -----  -----  -----  -----  -------  --------  ---------\n",
      " 0  results/vs_1    0     1  DT    0.608    0.563   0.543  0.563  0.514  0.592      0     1.53     0.155          0\n",
      "\n",
      "160/698 - A211122 I211108\n",
      "    Dataset         T    CV  ML      Acc    b_Acc    Prec    Rec    F1    kap    ROC    tra-T    test-T    Al-Time\n",
      "--  ------------  ---  ----  ----  -----  -------  ------  -----  ----  -----  -----  -------  --------  ---------\n",
      " 0  results/vs_1    0     1  DT     0.65    0.563   0.582  0.563  0.54  0.635      0    1.496     0.176          0\n",
      "\n",
      "161/698 - A211122 I211112\n",
      "    Dataset         T    CV  ML      Acc    b_Acc    Prec    Rec     F1    kap    ROC    tra-T    test-T    Al-Time\n",
      "--  ------------  ---  ----  ----  -----  -------  ------  -----  -----  -----  -----  -------  --------  ---------\n",
      " 0  results/vs_1    0     1  DT    0.748    0.743   0.761  0.743  0.728  0.736      0    1.535     0.199          0\n",
      "\n",
      "162/698 - A211122 I211115\n",
      "    Dataset         T    CV  ML      Acc    b_Acc    Prec    Rec     F1    kap    ROC    tra-T    test-T    Al-Time\n",
      "--  ------------  ---  ----  ----  -----  -------  ------  -----  -----  -----  -----  -------  --------  ---------\n",
      " 0  results/vs_1    0     1  DT    0.779    0.803     0.8  0.803  0.789   0.77      0    1.505     0.186          0\n",
      "\n",
      "163/698 - A211122 I211118\n",
      "    Dataset         T    CV  ML      Acc    b_Acc    Prec    Rec     F1    kap    ROC    tra-T    test-T    Al-Time\n",
      "--  ------------  ---  ----  ----  -----  -------  ------  -----  -----  -----  -----  -------  --------  ---------\n",
      " 0  results/vs_1    0     1  DT    0.867    0.835   0.864  0.835  0.831  0.861      0    1.466     0.194          0\n",
      "\n",
      "164/698 - A211122 I211119\n",
      "    Dataset         T    CV  ML      Acc    b_Acc    Prec    Rec     F1    kap    ROC    tra-T    test-T    Al-Time\n",
      "--  ------------  ---  ----  ----  -----  -------  ------  -----  -----  -----  -----  -------  --------  ---------\n",
      " 0  results/vs_1    0     1  DT    0.865    0.844   0.858  0.844  0.839  0.859      0    1.475     0.183          0\n",
      "\n",
      "165/698 - A211122 I211122\n",
      "    Dataset         T    CV  ML      Acc    b_Acc    Prec    Rec     F1    kap    ROC    tra-T    test-T    Al-Time\n",
      "--  ------------  ---  ----  ----  -----  -------  ------  -----  -----  -----  -----  -------  --------  ---------\n",
      " 0  results/vs_1    0     1  DT    0.896    0.887   0.893  0.887  0.888  0.891      0    1.722     0.208          0\n",
      "\n",
      "166/698 - A211123 A211108\n",
      "    Dataset         T    CV  ML      Acc    b_Acc    Prec    Rec     F1    kap    ROC    tra-T    test-T    Al-Time\n",
      "--  ------------  ---  ----  ----  -----  -------  ------  -----  -----  -----  -----  -------  --------  ---------\n",
      " 0  results/vs_1    0     1  DT    0.748    0.565   0.578  0.565  0.546  0.726      0    1.787     0.227          0\n",
      "\n",
      "167/698 - A211123 A211109\n",
      "    Dataset         T    CV  ML      Acc    b_Acc    Prec    Rec     F1    kap    ROC    tra-T    test-T    Al-Time\n",
      "--  ------------  ---  ----  ----  -----  -------  ------  -----  -----  -----  -----  -------  --------  ---------\n",
      " 0  results/vs_1    0     1  DT    0.714     0.58   0.595   0.58  0.561  0.698      0    1.818     0.199          0\n",
      "\n",
      "168/698 - A211123 A211115\n",
      "    Dataset         T    CV  ML      Acc    b_Acc    Prec    Rec     F1    kap    ROC    tra-T    test-T    Al-Time\n",
      "--  ------------  ---  ----  ----  -----  -------  ------  -----  -----  -----  -----  -------  --------  ---------\n",
      " 0  results/vs_1    0     1  DT    0.641     0.79   0.777   0.79  0.758  0.626      0    1.702     0.246          0\n",
      "\n",
      "169/698 - A211123 A211116\n",
      "    Dataset         T    CV  ML      Acc    b_Acc    Prec    Rec     F1    kap    ROC    tra-T    test-T    Al-Time\n",
      "--  ------------  ---  ----  ----  -----  -------  ------  -----  -----  -----  -----  -------  --------  ---------\n",
      " 0  results/vs_1    0     1  DT    0.742     0.81   0.794   0.81  0.789  0.726      0    1.818     0.224          0\n",
      "\n",
      "170/698 - A211123 A211117\n",
      "    Dataset         T    CV  ML      Acc    b_Acc    Prec    Rec     F1    kap    ROC    tra-T    test-T    Al-Time\n",
      "--  ------------  ---  ----  ----  -----  -------  ------  -----  -----  -----  -----  -------  --------  ---------\n",
      " 0  results/vs_1    0     1  DT    0.697    0.797   0.789  0.797  0.766  0.685      0    1.861     0.206          0\n",
      "\n",
      "171/698 - A211123 A211118\n",
      "    Dataset         T    CV  ML      Acc    b_Acc    Prec    Rec     F1    kap    ROC    tra-T    test-T    Al-Time\n",
      "--  ------------  ---  ----  ----  -----  -------  ------  -----  -----  -----  -----  -------  --------  ---------\n",
      " 0  results/vs_1    0     1  DT    0.868    0.826   0.844  0.826  0.825  0.862      0    1.503     0.133          0\n",
      "\n",
      "172/698 - A211123 A211122\n",
      "    Dataset         T    CV  ML      Acc    b_Acc    Prec    Rec     F1    kap    ROC    tra-T    test-T    Al-Time\n",
      "--  ------------  ---  ----  ----  -----  -------  ------  -----  -----  -----  -----  -------  --------  ---------\n",
      " 0  results/vs_1    0     1  DT    0.906    0.858   0.878  0.858  0.859  0.899      0     1.73     0.196          0\n",
      "\n",
      "173/698 - A211123 A211123\n",
      "    Dataset         T    CV  ML      Acc    b_Acc    Prec    Rec    F1    kap    ROC    tra-T    test-T    Al-Time\n",
      "--  ------------  ---  ----  ----  -----  -------  ------  -----  ----  -----  -----  -------  --------  ---------\n",
      " 0  results/vs_1    0     1  DT    0.945    0.922   0.924  0.922  0.92  0.942      0     1.58     0.205          0\n",
      "\n",
      "174/698 - A211123 A211125\n",
      "    Dataset         T    CV  ML      Acc    b_Acc    Prec    Rec     F1    kap    ROC    tra-T    test-T    Al-Time\n",
      "--  ------------  ---  ----  ----  -----  -------  ------  -----  -----  -----  -----  -------  --------  ---------\n",
      " 0  results/vs_1    0     1  DT    0.842    0.823   0.824  0.823  0.814  0.836      0    1.553     0.154          0\n",
      "\n",
      "175/698 - A211123 A211206\n",
      "    Dataset         T    CV  ML      Acc    b_Acc    Prec    Rec     F1    kap    ROC    tra-T    test-T    Al-Time\n",
      "--  ------------  ---  ----  ----  -----  -------  ------  -----  -----  -----  -----  -------  --------  ---------\n",
      " 0  results/vs_1    0     1  DT    0.723    0.559   0.576  0.559  0.542  0.706      0    1.534     0.193          0\n",
      "\n",
      "176/698 - A211123 A211208\n",
      "    Dataset         T    CV  ML      Acc    b_Acc    Prec    Rec     F1    kap    ROC    tra-T    test-T    Al-Time\n",
      "--  ------------  ---  ----  ----  -----  -------  ------  -----  -----  -----  -----  -------  --------  ---------\n",
      " 0  results/vs_1    0     1  DT    0.789    0.582   0.571  0.582  0.554  0.771      0    1.552     0.163          0\n",
      "\n"
     ]
    },
    {
     "name": "stdout",
     "output_type": "stream",
     "text": [
      "177/698 - A211123 A211223\n",
      "    Dataset         T    CV  ML      Acc    b_Acc    Prec    Rec     F1    kap    ROC    tra-T    test-T    Al-Time\n",
      "--  ------------  ---  ----  ----  -----  -------  ------  -----  -----  -----  -----  -------  --------  ---------\n",
      " 0  results/vs_1    0     1  DT    0.601    0.565   0.542  0.565  0.514  0.587      0    1.599      0.17          0\n",
      "\n",
      "178/698 - A211123 A211225\n",
      "    Dataset         T    CV  ML      Acc    b_Acc    Prec    Rec     F1    kap    ROC    tra-T    test-T    Al-Time\n",
      "--  ------------  ---  ----  ----  -----  -------  ------  -----  -----  -----  -----  -------  --------  ---------\n",
      " 0  results/vs_1    0     1  DT    0.617    0.553   0.539  0.553  0.506  0.603      0    1.499     0.172          0\n",
      "\n",
      "179/698 - A211123 A211228\n",
      "    Dataset         T    CV  ML      Acc    b_Acc    Prec    Rec     F1    kap    ROC    tra-T    test-T    Al-Time\n",
      "--  ------------  ---  ----  ----  -----  -------  ------  -----  -----  -----  -----  -------  --------  ---------\n",
      " 0  results/vs_1    0     1  DT    0.603    0.557    0.52  0.557  0.489  0.588      0     1.57     0.171          0\n",
      "\n",
      "180/698 - A211123 I211108\n",
      "    Dataset         T    CV  ML      Acc    b_Acc    Prec    Rec    F1    kap    ROC    tra-T    test-T    Al-Time\n",
      "--  ------------  ---  ----  ----  -----  -------  ------  -----  ----  -----  -----  -------  --------  ---------\n",
      " 0  results/vs_1    0     1  DT    0.653    0.573   0.582  0.573  0.54  0.639      0    1.607     0.182          0\n",
      "\n",
      "181/698 - A211123 I211112\n",
      "    Dataset         T    CV  ML      Acc    b_Acc    Prec    Rec    F1    kap    ROC    tra-T    test-T    Al-Time\n",
      "--  ------------  ---  ----  ----  -----  -------  ------  -----  ----  -----  -----  -------  --------  ---------\n",
      " 0  results/vs_1    0     1  DT    0.843    0.786   0.791  0.786  0.78  0.836      0    1.513     0.191          0\n",
      "\n",
      "182/698 - A211123 I211115\n",
      "    Dataset         T    CV  ML      Acc    b_Acc    Prec    Rec    F1    kap    ROC    tra-T    test-T    Al-Time\n",
      "--  ------------  ---  ----  ----  -----  -------  ------  -----  ----  -----  -----  -------  --------  ---------\n",
      " 0  results/vs_1    0     1  DT    0.784    0.822   0.809  0.822   0.8  0.776      0    1.557       0.2          0\n",
      "\n",
      "183/698 - A211123 I211118\n",
      "    Dataset         T    CV  ML      Acc    b_Acc    Prec    Rec     F1    kap    ROC    tra-T    test-T    Al-Time\n",
      "--  ------------  ---  ----  ----  -----  -------  ------  -----  -----  -----  -----  -------  --------  ---------\n",
      " 0  results/vs_1    0     1  DT    0.866    0.833   0.847  0.833  0.824   0.86      0    1.514     0.189          0\n",
      "\n",
      "184/698 - A211123 I211119\n",
      "    Dataset         T    CV  ML      Acc    b_Acc    Prec    Rec     F1    kap    ROC    tra-T    test-T    Al-Time\n",
      "--  ------------  ---  ----  ----  -----  -------  ------  -----  -----  -----  -----  -------  --------  ---------\n",
      " 0  results/vs_1    0     1  DT    0.865    0.848   0.847  0.848  0.828  0.859      0    1.643     0.188          0\n",
      "\n",
      "185/698 - A211123 I211122\n",
      "    Dataset         T    CV  ML      Acc    b_Acc    Prec    Rec     F1    kap    ROC    tra-T    test-T    Al-Time\n",
      "--  ------------  ---  ----  ----  -----  -------  ------  -----  -----  -----  -----  -------  --------  ---------\n",
      " 0  results/vs_1    0     1  DT    0.892    0.879   0.873  0.879  0.869  0.888      0    1.497     0.189          0\n",
      "\n",
      "186/698 - A211125 A211108\n",
      "    Dataset         T    CV  ML      Acc    b_Acc    Prec    Rec     F1    kap    ROC    tra-T    test-T    Al-Time\n",
      "--  ------------  ---  ----  ----  -----  -------  ------  -----  -----  -----  -----  -------  --------  ---------\n",
      " 0  results/vs_1    0     1  DT    0.804    0.603    0.61  0.603  0.582  0.788      0    1.462     0.229          0\n",
      "\n",
      "187/698 - A211125 A211109\n",
      "    Dataset         T    CV  ML      Acc    b_Acc    Prec    Rec     F1    kap    ROC    tra-T    test-T    Al-Time\n",
      "--  ------------  ---  ----  ----  -----  -------  ------  -----  -----  -----  -----  -------  --------  ---------\n",
      " 0  results/vs_1    0     1  DT    0.761     0.61   0.603   0.61  0.589  0.747      0    1.559     0.181          0\n",
      "\n",
      "188/698 - A211125 A211115\n",
      "    Dataset         T    CV  ML      Acc    b_Acc    Prec    Rec    F1    kap    ROC    tra-T    test-T    Al-Time\n",
      "--  ------------  ---  ----  ----  -----  -------  ------  -----  ----  -----  -----  -------  --------  ---------\n",
      " 0  results/vs_1    0     1  DT     0.78    0.821   0.783  0.821  0.79  0.764      0    1.489     0.193          0\n",
      "\n",
      "189/698 - A211125 A211116\n",
      "    Dataset         T    CV  ML      Acc    b_Acc    Prec    Rec     F1    kap    ROC    tra-T    test-T    Al-Time\n",
      "--  ------------  ---  ----  ----  -----  -------  ------  -----  -----  -----  -----  -------  --------  ---------\n",
      " 0  results/vs_1    0     1  DT    0.742    0.813   0.794  0.813  0.792  0.726      0    1.565     0.212          0\n",
      "\n",
      "190/698 - A211125 A211117\n",
      "    Dataset         T    CV  ML      Acc    b_Acc    Prec    Rec     F1    kap    ROC    tra-T    test-T    Al-Time\n",
      "--  ------------  ---  ----  ----  -----  -------  ------  -----  -----  -----  -----  -------  --------  ---------\n",
      " 0  results/vs_1    0     1  DT    0.696    0.801   0.813  0.801  0.779  0.682      0    1.536     0.188          0\n",
      "\n",
      "191/698 - A211125 A211118\n",
      "    Dataset         T    CV  ML      Acc    b_Acc    Prec    Rec     F1    kap    ROC    tra-T    test-T    Al-Time\n",
      "--  ------------  ---  ----  ----  -----  -------  ------  -----  -----  -----  -----  -------  --------  ---------\n",
      " 0  results/vs_1    0     1  DT     0.87     0.83   0.854   0.83  0.828  0.865      0    1.618     0.154          0\n",
      "\n",
      "192/698 - A211125 A211122\n",
      "    Dataset         T    CV  ML      Acc    b_Acc    Prec    Rec     F1    kap    ROC    tra-T    test-T    Al-Time\n",
      "--  ------------  ---  ----  ----  -----  -------  ------  -----  -----  -----  -----  -------  --------  ---------\n",
      " 0  results/vs_1    0     1  DT    0.912    0.856   0.869  0.856  0.852  0.906      0    1.686     0.171          0\n",
      "\n",
      "193/698 - A211125 A211123\n",
      "    Dataset         T    CV  ML      Acc    b_Acc    Prec    Rec     F1    kap    ROC    tra-T    test-T    Al-Time\n",
      "--  ------------  ---  ----  ----  -----  -------  ------  -----  -----  -----  -----  -------  --------  ---------\n",
      " 0  results/vs_1    0     1  DT    0.914    0.863   0.872  0.863  0.857  0.909      0    1.488     0.184          0\n",
      "\n",
      "194/698 - A211125 A211125\n",
      "    Dataset         T    CV  ML      Acc    b_Acc    Prec    Rec     F1    kap    ROC    tra-T    test-T    Al-Time\n",
      "--  ------------  ---  ----  ----  -----  -------  ------  -----  -----  -----  -----  -------  --------  ---------\n",
      " 0  results/vs_1    0     1  DT    0.934    0.921   0.922  0.921  0.919  0.931      0    1.577     0.174          0\n",
      "\n",
      "195/698 - A211125 A211206\n",
      "    Dataset         T    CV  ML      Acc    b_Acc    Prec    Rec     F1    kap    ROC    tra-T    test-T    Al-Time\n",
      "--  ------------  ---  ----  ----  -----  -------  ------  -----  -----  -----  -----  -------  --------  ---------\n",
      " 0  results/vs_1    0     1  DT    0.728     0.56   0.591   0.56  0.549  0.712      0    1.499     0.167          0\n",
      "\n",
      "196/698 - A211125 A211208\n",
      "    Dataset         T    CV  ML      Acc    b_Acc    Prec    Rec     F1    kap    ROC    tra-T    test-T    Al-Time\n",
      "--  ------------  ---  ----  ----  -----  -------  ------  -----  -----  -----  -----  -------  --------  ---------\n",
      " 0  results/vs_1    0     1  DT    0.792    0.578   0.569  0.578  0.552  0.774      0    1.452     0.155          0\n",
      "\n",
      "197/698 - A211125 A211223\n",
      "    Dataset         T    CV  ML      Acc    b_Acc    Prec    Rec     F1    kap    ROC    tra-T    test-T    Al-Time\n",
      "--  ------------  ---  ----  ----  -----  -------  ------  -----  -----  -----  -----  -------  --------  ---------\n",
      " 0  results/vs_1    0     1  DT    0.571    0.552   0.521  0.552  0.493  0.555      0    1.527     0.134          0\n",
      "\n",
      "198/698 - A211125 A211225\n",
      "    Dataset         T    CV  ML      Acc    b_Acc    Prec    Rec     F1    kap    ROC    tra-T    test-T    Al-Time\n",
      "--  ------------  ---  ----  ----  -----  -------  ------  -----  -----  -----  -----  -------  --------  ---------\n",
      " 0  results/vs_1    0     1  DT    0.606    0.545   0.543  0.545  0.501  0.591      0     1.63     0.172          0\n",
      "\n"
     ]
    },
    {
     "name": "stdout",
     "output_type": "stream",
     "text": [
      "199/698 - A211125 A211228\n",
      "    Dataset         T    CV  ML      Acc    b_Acc    Prec    Rec     F1    kap    ROC    tra-T    test-T    Al-Time\n",
      "--  ------------  ---  ----  ----  -----  -------  ------  -----  -----  -----  -----  -------  --------  ---------\n",
      " 0  results/vs_1    0     1  DT    0.629    0.577   0.555  0.577  0.526  0.614      0    1.419     0.185          0\n",
      "\n",
      "200/698 - A211125 I211108\n",
      "    Dataset         T    CV  ML      Acc    b_Acc    Prec    Rec     F1    kap    ROC    tra-T    test-T    Al-Time\n",
      "--  ------------  ---  ----  ----  -----  -------  ------  -----  -----  -----  -----  -------  --------  ---------\n",
      " 0  results/vs_1    0     1  DT    0.639    0.578   0.579  0.578  0.535  0.624      0    1.587     0.189          0\n",
      "\n",
      "201/698 - A211125 I211112\n",
      "    Dataset         T    CV  ML      Acc    b_Acc    Prec    Rec     F1    kap    ROC    tra-T    test-T    Al-Time\n",
      "--  ------------  ---  ----  ----  -----  -------  ------  -----  -----  -----  -----  -------  --------  ---------\n",
      " 0  results/vs_1    0     1  DT    0.735    0.751   0.739  0.751  0.725  0.723      0    1.563     0.207          0\n",
      "\n",
      "202/698 - A211125 I211115\n",
      "    Dataset         T    CV  ML      Acc    b_Acc    Prec    Rec     F1    kap    ROC    tra-T    test-T    Al-Time\n",
      "--  ------------  ---  ----  ----  -----  -------  ------  -----  -----  -----  -----  -------  --------  ---------\n",
      " 0  results/vs_1    0     1  DT    0.775    0.819   0.783  0.819  0.784  0.767      0    1.552     0.191          0\n",
      "\n",
      "203/698 - A211125 I211118\n",
      "    Dataset         T    CV  ML      Acc    b_Acc    Prec    Rec     F1    kap    ROC    tra-T    test-T    Al-Time\n",
      "--  ------------  ---  ----  ----  -----  -------  ------  -----  -----  -----  -----  -------  --------  ---------\n",
      " 0  results/vs_1    0     1  DT    0.868    0.837    0.85  0.837  0.826  0.862      0    1.508     0.204          0\n",
      "\n",
      "204/698 - A211125 I211119\n",
      "    Dataset         T    CV  ML      Acc    b_Acc    Prec    Rec     F1    kap    ROC    tra-T    test-T    Al-Time\n",
      "--  ------------  ---  ----  ----  -----  -------  ------  -----  -----  -----  -----  -------  --------  ---------\n",
      " 0  results/vs_1    0     1  DT    0.861    0.834   0.845  0.834  0.811  0.855      0    1.567     0.209          0\n",
      "\n",
      "205/698 - A211125 I211122\n",
      "    Dataset         T    CV  ML      Acc    b_Acc    Prec    Rec     F1    kap    ROC    tra-T    test-T    Al-Time\n",
      "--  ------------  ---  ----  ----  -----  -------  ------  -----  -----  -----  -----  -------  --------  ---------\n",
      " 0  results/vs_1    0     1  DT    0.883    0.853   0.856  0.853  0.836  0.878      0    1.546     0.219          0\n",
      "\n",
      "206/698 - A211206 A211108\n",
      "    Dataset         T    CV  ML      Acc    b_Acc    Prec    Rec     F1    kap    ROC    tra-T    test-T    Al-Time\n",
      "--  ------------  ---  ----  ----  -----  -------  ------  -----  -----  -----  -----  -------  --------  ---------\n",
      " 0  results/vs_1    0     1  DT    0.781    0.581   0.564  0.581  0.557  0.764      0    1.678     0.214          0\n",
      "\n",
      "207/698 - A211206 A211109\n",
      "    Dataset         T    CV  ML      Acc    b_Acc    Prec    Rec     F1    kap    ROC    tra-T    test-T    Al-Time\n",
      "--  ------------  ---  ----  ----  -----  -------  ------  -----  -----  -----  -----  -------  --------  ---------\n",
      " 0  results/vs_1    0     1  DT    0.732    0.584   0.571  0.584  0.562  0.717      0     1.68     0.191          0\n",
      "\n",
      "208/698 - A211206 A211115\n",
      "    Dataset         T    CV  ML      Acc    b_Acc    Prec    Rec     F1    kap    ROC    tra-T    test-T    Al-Time\n",
      "--  ------------  ---  ----  ----  -----  -------  ------  -----  -----  -----  -----  -------  --------  ---------\n",
      " 0  results/vs_1    0     1  DT    0.787    0.594   0.601  0.594  0.575  0.768      0    1.719     0.228          0\n",
      "\n",
      "209/698 - A211206 A211116\n",
      "    Dataset         T    CV  ML      Acc    b_Acc    Prec    Rec     F1    kap    ROC    tra-T    test-T    Al-Time\n",
      "--  ------------  ---  ----  ----  -----  -------  ------  -----  -----  -----  -----  -------  --------  ---------\n",
      " 0  results/vs_1    0     1  DT    0.781    0.598   0.601  0.598  0.566  0.762      0    1.649     0.208          0\n",
      "\n",
      "210/698 - A211206 A211117\n",
      "    Dataset         T    CV  ML      Acc    b_Acc    Prec    Rec     F1    kap    ROC    tra-T    test-T    Al-Time\n",
      "--  ------------  ---  ----  ----  -----  -------  ------  -----  -----  -----  -----  -------  --------  ---------\n",
      " 0  results/vs_1    0     1  DT    0.602    0.552   0.546  0.552  0.503  0.584      0    1.663     0.186          0\n",
      "\n",
      "211/698 - A211206 A211118\n",
      "    Dataset         T    CV  ML      Acc    b_Acc    Prec    Rec     F1    kap    ROC    tra-T    test-T    Al-Time\n",
      "--  ------------  ---  ----  ----  -----  -------  ------  -----  -----  -----  -----  -------  --------  ---------\n",
      " 0  results/vs_1    0     1  DT     0.66    0.564   0.574  0.564  0.522  0.646      0    1.645     0.154          0\n",
      "\n",
      "212/698 - A211206 A211122\n",
      "    Dataset         T    CV  ML      Acc    b_Acc    Prec    Rec     F1    kap    ROC    tra-T    test-T    Al-Time\n",
      "--  ------------  ---  ----  ----  -----  -------  ------  -----  -----  -----  -----  -------  --------  ---------\n",
      " 0  results/vs_1    0     1  DT    0.753    0.591   0.578  0.591  0.554  0.736      0    1.681     0.197          0\n",
      "\n",
      "213/698 - A211206 A211123\n",
      "    Dataset         T    CV  ML      Acc    b_Acc    Prec    Rec     F1    kap    ROC    tra-T    test-T    Al-Time\n",
      "--  ------------  ---  ----  ----  -----  -------  ------  -----  -----  -----  -----  -------  --------  ---------\n",
      " 0  results/vs_1    0     1  DT    0.758    0.594   0.588  0.594  0.561  0.741      0     1.76     0.232          0\n",
      "\n",
      "214/698 - A211206 A211125\n",
      "    Dataset         T    CV  ML      Acc    b_Acc    Prec    Rec     F1    kap    ROC    tra-T    test-T    Al-Time\n",
      "--  ------------  ---  ----  ----  -----  -------  ------  -----  -----  -----  -----  -------  --------  ---------\n",
      " 0  results/vs_1    0     1  DT    0.664    0.568    0.56  0.568  0.525   0.65      0      1.7     0.165          0\n",
      "\n",
      "215/698 - A211206 A211206\n",
      "    Dataset         T    CV  ML      Acc    b_Acc    Prec    Rec     F1    kap    ROC    tra-T    test-T    Al-Time\n",
      "--  ------------  ---  ----  ----  -----  -------  ------  -----  -----  -----  -----  -------  --------  ---------\n",
      " 0  results/vs_1    0     1  DT    0.942    0.914   0.919  0.914  0.914  0.938      0    1.581     0.172          0\n",
      "\n",
      "216/698 - A211206 A211208\n",
      "    Dataset         T    CV  ML      Acc    b_Acc    Prec    Rec     F1    kap    ROC    tra-T    test-T    Al-Time\n",
      "--  ------------  ---  ----  ----  -----  -------  ------  -----  -----  -----  -----  -------  --------  ---------\n",
      " 0  results/vs_1    0     1  DT     0.89    0.715   0.719  0.715  0.698   0.88      0    1.619     0.149          0\n",
      "\n",
      "217/698 - A211206 A211223\n",
      "    Dataset         T    CV  ML      Acc    b_Acc    Prec    Rec     F1    kap    ROC    tra-T    test-T    Al-Time\n",
      "--  ------------  ---  ----  ----  -----  -------  ------  -----  -----  -----  -----  -------  --------  ---------\n",
      " 0  results/vs_1    0     1  DT    0.636    0.549   0.561  0.549  0.533  0.621      0    1.759     0.135          0\n",
      "\n",
      "218/698 - A211206 A211225\n",
      "    Dataset         T    CV  ML      Acc    b_Acc    Prec    Rec     F1    kap    ROC    tra-T    test-T    Al-Time\n",
      "--  ------------  ---  ----  ----  -----  -------  ------  -----  -----  -----  -----  -------  --------  ---------\n",
      " 0  results/vs_1    0     1  DT    0.657     0.58   0.556   0.58  0.545  0.644      0    1.707      0.18          0\n",
      "\n",
      "219/698 - A211206 A211228\n",
      "    Dataset         T    CV  ML      Acc    b_Acc    Prec    Rec     F1    kap    ROC    tra-T    test-T    Al-Time\n",
      "--  ------------  ---  ----  ----  -----  -------  ------  -----  -----  -----  -----  -------  --------  ---------\n",
      " 0  results/vs_1    0     1  DT    0.616    0.566   0.523  0.566  0.499  0.601      0    1.783      0.18          0\n",
      "\n",
      "220/698 - A211206 I211108\n",
      "    Dataset         T    CV  ML      Acc    b_Acc    Prec    Rec     F1    kap    ROC    tra-T    test-T    Al-Time\n",
      "--  ------------  ---  ----  ----  -----  -------  ------  -----  -----  -----  -----  -------  --------  ---------\n",
      " 0  results/vs_1    0     1  DT    0.629    0.544   0.543  0.544  0.522  0.613      0    1.665     0.187          0\n",
      "\n"
     ]
    },
    {
     "name": "stdout",
     "output_type": "stream",
     "text": [
      "221/698 - A211206 I211112\n",
      "    Dataset         T    CV  ML      Acc    b_Acc    Prec    Rec     F1    kap    ROC    tra-T    test-T    Al-Time\n",
      "--  ------------  ---  ----  ----  -----  -------  ------  -----  -----  -----  -----  -------  --------  ---------\n",
      " 0  results/vs_1    0     1  DT    0.704    0.614   0.607  0.614  0.595  0.691      0    1.754     0.214          0\n",
      "\n",
      "222/698 - A211206 I211115\n",
      "    Dataset         T    CV  ML      Acc    b_Acc    Prec    Rec     F1    kap    ROC    tra-T    test-T    Al-Time\n",
      "--  ------------  ---  ----  ----  -----  -------  ------  -----  -----  -----  -----  -------  --------  ---------\n",
      " 0  results/vs_1    0     1  DT    0.674     0.59   0.592   0.59  0.563   0.66      0    1.662     0.196          0\n",
      "\n",
      "223/698 - A211206 I211118\n",
      "    Dataset         T    CV  ML      Acc    b_Acc    Prec    Rec     F1    kap    ROC    tra-T    test-T    Al-Time\n",
      "--  ------------  ---  ----  ----  -----  -------  ------  -----  -----  -----  -----  -------  --------  ---------\n",
      " 0  results/vs_1    0     1  DT    0.655    0.553   0.559  0.553  0.526  0.639      0     1.68     0.205          0\n",
      "\n",
      "224/698 - A211206 I211119\n",
      "    Dataset         T    CV  ML      Acc    b_Acc    Prec    Rec     F1    kap    ROC    tra-T    test-T    Al-Time\n",
      "--  ------------  ---  ----  ----  -----  -------  ------  -----  -----  -----  -----  -------  --------  ---------\n",
      " 0  results/vs_1    0     1  DT    0.653    0.561   0.564  0.561  0.529  0.638      0    1.685     0.211          0\n",
      "\n",
      "225/698 - A211206 I211122\n",
      "    Dataset         T    CV  ML      Acc    b_Acc    Prec    Rec     F1    kap    ROC    tra-T    test-T    Al-Time\n",
      "--  ------------  ---  ----  ----  -----  -------  ------  -----  -----  -----  -----  -------  --------  ---------\n",
      " 0  results/vs_1    0     1  DT    0.668    0.558   0.567  0.558  0.535  0.654      0     1.81     0.233          0\n",
      "\n",
      "226/698 - A211208 A211108\n",
      "    Dataset         T    CV  ML      Acc    b_Acc    Prec    Rec     F1    kap    ROC    tra-T    test-T    Al-Time\n",
      "--  ------------  ---  ----  ----  -----  -------  ------  -----  -----  -----  -----  -------  --------  ---------\n",
      " 0  results/vs_1    0     1  DT    0.767     0.57   0.577   0.57  0.553  0.749      0    1.458     0.221          0\n",
      "\n",
      "227/698 - A211208 A211109\n",
      "    Dataset         T    CV  ML      Acc    b_Acc    Prec    Rec     F1    kap    ROC    tra-T    test-T    Al-Time\n",
      "--  ------------  ---  ----  ----  -----  -------  ------  -----  -----  -----  -----  -------  --------  ---------\n",
      " 0  results/vs_1    0     1  DT    0.721    0.573   0.576  0.573  0.555  0.705      0    1.454      0.19          0\n",
      "\n",
      "228/698 - A211208 A211115\n",
      "    Dataset         T    CV  ML      Acc    b_Acc    Prec    Rec     F1    kap    ROC    tra-T    test-T    Al-Time\n",
      "--  ------------  ---  ----  ----  -----  -------  ------  -----  -----  -----  -----  -------  --------  ---------\n",
      " 0  results/vs_1    0     1  DT    0.753     0.55   0.543   0.55  0.525  0.732      0     1.53     0.241          0\n",
      "\n",
      "229/698 - A211208 A211116\n",
      "    Dataset         T    CV  ML      Acc    b_Acc    Prec    Rec     F1    kap    ROC    tra-T    test-T    Al-Time\n",
      "--  ------------  ---  ----  ----  -----  -------  ------  -----  -----  -----  -----  -------  --------  ---------\n",
      " 0  results/vs_1    0     1  DT    0.748    0.557   0.565  0.557  0.531  0.726      0     1.51     0.209          0\n",
      "\n",
      "230/698 - A211208 A211117\n",
      "    Dataset         T    CV  ML      Acc    b_Acc    Prec    Rec     F1    kap    ROC    tra-T    test-T    Al-Time\n",
      "--  ------------  ---  ----  ----  -----  -------  ------  -----  -----  -----  -----  -------  --------  ---------\n",
      " 0  results/vs_1    0     1  DT    0.592    0.528   0.535  0.528  0.495  0.572      0    1.538     0.192          0\n",
      "\n",
      "231/698 - A211208 A211118\n",
      "    Dataset         T    CV  ML      Acc    b_Acc    Prec    Rec     F1    kap    ROC    tra-T    test-T    Al-Time\n",
      "--  ------------  ---  ----  ----  -----  -------  ------  -----  -----  -----  -----  -------  --------  ---------\n",
      " 0  results/vs_1    0     1  DT    0.634    0.552   0.583  0.552  0.536  0.618      0    1.489     0.148          0\n",
      "\n",
      "232/698 - A211208 A211122\n",
      "    Dataset         T    CV  ML      Acc    b_Acc    Prec    Rec     F1    kap    ROC    tra-T    test-T    Al-Time\n",
      "--  ------------  ---  ----  ----  -----  -------  ------  -----  -----  -----  -----  -------  --------  ---------\n",
      " 0  results/vs_1    0     1  DT    0.731     0.56   0.571   0.56  0.535  0.712      0    1.562     0.208          0\n",
      "\n",
      "233/698 - A211208 A211123\n",
      "    Dataset         T    CV  ML      Acc    b_Acc    Prec    Rec     F1    kap    ROC    tra-T    test-T    Al-Time\n",
      "--  ------------  ---  ----  ----  -----  -------  ------  -----  -----  -----  -----  -------  --------  ---------\n",
      " 0  results/vs_1    0     1  DT    0.732    0.566   0.583  0.566  0.547  0.714      0    1.494     0.226          0\n",
      "\n",
      "234/698 - A211208 A211125\n",
      "    Dataset         T    CV  ML      Acc    b_Acc    Prec    Rec     F1    kap    ROC    tra-T    test-T    Al-Time\n",
      "--  ------------  ---  ----  ----  -----  -------  ------  -----  -----  -----  -----  -------  --------  ---------\n",
      " 0  results/vs_1    0     1  DT    0.631    0.537   0.546  0.537  0.509  0.615      0    1.552     0.164          0\n",
      "\n",
      "235/698 - A211208 A211206\n",
      "    Dataset         T    CV  ML      Acc    b_Acc    Prec    Rec     F1    kap    ROC    tra-T    test-T    Al-Time\n",
      "--  ------------  ---  ----  ----  -----  -------  ------  -----  -----  -----  -----  -------  --------  ---------\n",
      " 0  results/vs_1    0     1  DT    0.788    0.671   0.657  0.671  0.637  0.775      0    1.498      0.18          0\n",
      "\n",
      "236/698 - A211208 A211208\n",
      "    Dataset         T    CV  ML      Acc    b_Acc    Prec    Rec     F1    kap    ROC    tra-T    test-T    Al-Time\n",
      "--  ------------  ---  ----  ----  -----  -------  ------  -----  -----  -----  -----  -------  --------  ---------\n",
      " 0  results/vs_1    0     1  DT    0.937    0.796   0.805  0.796  0.795  0.931      0    1.439     0.169          0\n",
      "\n",
      "237/698 - A211208 A211223\n",
      "    Dataset         T    CV  ML      Acc    b_Acc    Prec    Rec     F1    kap    ROC    tra-T    test-T    Al-Time\n",
      "--  ------------  ---  ----  ----  -----  -------  ------  -----  -----  -----  -----  -------  --------  ---------\n",
      " 0  results/vs_1    0     1  DT    0.607    0.508   0.538  0.508  0.493  0.591      0    1.614     0.149          0\n",
      "\n",
      "238/698 - A211208 A211225\n",
      "    Dataset         T    CV  ML      Acc    b_Acc    Prec    Rec    F1    kap    ROC    tra-T    test-T    Al-Time\n",
      "--  ------------  ---  ----  ----  -----  -------  ------  -----  ----  -----  -----  -------  --------  ---------\n",
      " 0  results/vs_1    0     1  DT    0.616     0.52   0.527   0.52  0.49    0.6      0     1.49     0.159          0\n",
      "\n",
      "239/698 - A211208 A211228\n",
      "    Dataset         T    CV  ML      Acc    b_Acc    Prec    Rec     F1    kap    ROC    tra-T    test-T    Al-Time\n",
      "--  ------------  ---  ----  ----  -----  -------  ------  -----  -----  -----  -----  -------  --------  ---------\n",
      " 0  results/vs_1    0     1  DT    0.624    0.595   0.538  0.595  0.523   0.61      0     1.44     0.167          0\n",
      "\n",
      "240/698 - A211208 I211108\n",
      "    Dataset         T    CV  ML      Acc    b_Acc    Prec    Rec     F1    kap    ROC    tra-T    test-T    Al-Time\n",
      "--  ------------  ---  ----  ----  -----  -------  ------  -----  -----  -----  -----  -------  --------  ---------\n",
      " 0  results/vs_1    0     1  DT    0.612    0.532    0.55  0.532  0.517  0.595      0    1.453     0.185          0\n",
      "\n",
      "241/698 - A211208 I211112\n",
      "    Dataset         T    CV  ML      Acc    b_Acc    Prec    Rec     F1    kap    ROC    tra-T    test-T    Al-Time\n",
      "--  ------------  ---  ----  ----  -----  -------  ------  -----  -----  -----  -----  -------  --------  ---------\n",
      " 0  results/vs_1    0     1  DT     0.54    0.515     0.5  0.515  0.488   0.52      0    1.418     0.199          0\n",
      "\n",
      "242/698 - A211208 I211115\n",
      "    Dataset         T    CV  ML      Acc    b_Acc    Prec    Rec     F1    kap    ROC    tra-T    test-T    Al-Time\n",
      "--  ------------  ---  ----  ----  -----  -------  ------  -----  -----  -----  -----  -------  --------  ---------\n",
      " 0  results/vs_1    0     1  DT    0.606    0.506   0.512  0.506  0.475  0.589      0     1.44     0.188          0\n",
      "\n"
     ]
    },
    {
     "name": "stdout",
     "output_type": "stream",
     "text": [
      "243/698 - A211208 I211118\n",
      "    Dataset         T    CV  ML      Acc    b_Acc    Prec    Rec     F1    kap    ROC    tra-T    test-T    Al-Time\n",
      "--  ------------  ---  ----  ----  -----  -------  ------  -----  -----  -----  -----  -------  --------  ---------\n",
      " 0  results/vs_1    0     1  DT    0.623    0.528   0.544  0.528  0.511  0.607      0    1.457     0.198          0\n",
      "\n",
      "244/698 - A211208 I211119\n",
      "    Dataset         T    CV  ML      Acc    b_Acc    Prec    Rec     F1    kap    ROC    tra-T    test-T    Al-Time\n",
      "--  ------------  ---  ----  ----  -----  -------  ------  -----  -----  -----  -----  -------  --------  ---------\n",
      " 0  results/vs_1    0     1  DT    0.619    0.531   0.565  0.531  0.517  0.601      0    1.485      0.21          0\n",
      "\n",
      "245/698 - A211208 I211122\n",
      "    Dataset         T    CV  ML      Acc    b_Acc    Prec    Rec     F1    kap    ROC    tra-T    test-T    Al-Time\n",
      "--  ------------  ---  ----  ----  -----  -------  ------  -----  -----  -----  -----  -------  --------  ---------\n",
      " 0  results/vs_1    0     1  DT    0.631    0.524   0.548  0.524  0.511  0.614      0    1.473     0.218          0\n",
      "\n",
      "246/698 - A211223 A211108\n",
      "    Dataset         T    CV  ML      Acc    b_Acc    Prec    Rec     F1    kap    ROC    tra-T    test-T    Al-Time\n",
      "--  ------------  ---  ----  ----  -----  -------  ------  -----  -----  -----  -----  -------  --------  ---------\n",
      " 0  results/vs_1    0     1  DT    0.563    0.571   0.519  0.571  0.488  0.544      0    1.203     0.238          0\n",
      "\n",
      "247/698 - A211223 A211109\n",
      "    Dataset         T    CV  ML      Acc    b_Acc    Prec    Rec     F1    kap    ROC    tra-T    test-T    Al-Time\n",
      "--  ------------  ---  ----  ----  -----  -------  ------  -----  -----  -----  -----  -------  --------  ---------\n",
      " 0  results/vs_1    0     1  DT    0.576    0.567   0.526  0.567  0.489   0.56      0    1.194     0.197          0\n",
      "\n",
      "248/698 - A211223 A211115\n",
      "    Dataset         T    CV  ML      Acc    b_Acc    Prec    Rec     F1    kap    ROC    tra-T    test-T    Al-Time\n",
      "--  ------------  ---  ----  ----  -----  -------  ------  -----  -----  -----  -----  -------  --------  ---------\n",
      " 0  results/vs_1    0     1  DT    0.469    0.507   0.476  0.507  0.424  0.451      0    1.196     0.243          0\n",
      "\n",
      "249/698 - A211223 A211116\n",
      "    Dataset         T    CV  ML      Acc    b_Acc    Prec    Rec    F1    kap    ROC    tra-T    test-T    Al-Time\n",
      "--  ------------  ---  ----  ----  -----  -------  ------  -----  ----  -----  -----  -------  --------  ---------\n",
      " 0  results/vs_1    0     1  DT    0.574    0.506   0.468  0.506  0.43   0.55      0    1.202     0.218          0\n",
      "\n",
      "250/698 - A211223 A211117\n",
      "    Dataset         T    CV  ML      Acc    b_Acc    Prec    Rec     F1    kap    ROC    tra-T    test-T    Al-Time\n",
      "--  ------------  ---  ----  ----  -----  -------  ------  -----  -----  -----  -----  -------  --------  ---------\n",
      " 0  results/vs_1    0     1  DT    0.525    0.498    0.46  0.498  0.423  0.505      0    1.257     0.183          0\n",
      "\n",
      "251/698 - A211223 A211118\n",
      "    Dataset         T    CV  ML      Acc    b_Acc    Prec    Rec     F1    kap    ROC    tra-T    test-T    Al-Time\n",
      "--  ------------  ---  ----  ----  -----  -------  ------  -----  -----  -----  -----  -------  --------  ---------\n",
      " 0  results/vs_1    0     1  DT    0.556    0.509   0.482  0.509  0.442   0.54      0    1.168     0.142          0\n",
      "\n",
      "252/698 - A211223 A211122\n",
      "    Dataset         T    CV  ML      Acc    b_Acc    Prec    Rec    F1    kap    ROC    tra-T    test-T    Al-Time\n",
      "--  ------------  ---  ----  ----  -----  -------  ------  -----  ----  -----  -----  -------  --------  ---------\n",
      " 0  results/vs_1    0     1  DT    0.527    0.504   0.465  0.504  0.43   0.51      0    1.266     0.177          0\n",
      "\n",
      "253/698 - A211223 A211123\n",
      "    Dataset         T    CV  ML      Acc    b_Acc    Prec    Rec     F1    kap    ROC    tra-T    test-T    Al-Time\n",
      "--  ------------  ---  ----  ----  -----  -------  ------  -----  -----  -----  -----  -------  --------  ---------\n",
      " 0  results/vs_1    0     1  DT    0.563     0.52   0.477   0.52  0.448  0.546      0    1.204      0.19          0\n",
      "\n",
      "254/698 - A211223 A211125\n",
      "    Dataset         T    CV  ML      Acc    b_Acc    Prec    Rec    F1    kap    ROC    tra-T    test-T    Al-Time\n",
      "--  ------------  ---  ----  ----  -----  -------  ------  -----  ----  -----  -----  -------  --------  ---------\n",
      " 0  results/vs_1    0     1  DT    0.579    0.503   0.469  0.503  0.44  0.562      0    1.232     0.158          0\n",
      "\n",
      "255/698 - A211223 A211206\n",
      "    Dataset         T    CV  ML      Acc    b_Acc    Prec    Rec    F1    kap    ROC    tra-T    test-T    Al-Time\n",
      "--  ------------  ---  ----  ----  -----  -------  ------  -----  ----  -----  -----  -------  --------  ---------\n",
      " 0  results/vs_1    0     1  DT    0.527    0.532   0.511  0.532  0.46  0.513      0    1.199      0.18          0\n",
      "\n",
      "256/698 - A211223 A211208\n",
      "    Dataset         T    CV  ML      Acc    b_Acc    Prec    Rec     F1    kap    ROC    tra-T    test-T    Al-Time\n",
      "--  ------------  ---  ----  ----  -----  -------  ------  -----  -----  -----  -----  -------  --------  ---------\n",
      " 0  results/vs_1    0     1  DT    0.533    0.502   0.484  0.502  0.446  0.517      0    1.243     0.185          0\n",
      "\n",
      "257/698 - A211223 A211223\n",
      "    Dataset         T    CV  ML      Acc    b_Acc    Prec    Rec    F1    kap    ROC    tra-T    test-T    Al-Time\n",
      "--  ------------  ---  ----  ----  -----  -------  ------  -----  ----  -----  -----  -------  --------  ---------\n",
      " 0  results/vs_1    0     1  DT    0.923    0.919   0.925  0.919  0.92   0.92      0    1.184      0.14          0\n",
      "\n",
      "258/698 - A211223 A211225\n",
      "    Dataset         T    CV  ML      Acc    b_Acc    Prec    Rec     F1    kap    ROC    tra-T    test-T    Al-Time\n",
      "--  ------------  ---  ----  ----  -----  -------  ------  -----  -----  -----  -----  -------  --------  ---------\n",
      " 0  results/vs_1    0     1  DT    0.835     0.83   0.821   0.83  0.804  0.829      0     1.19     0.164          0\n",
      "\n",
      "259/698 - A211223 A211228\n",
      "    Dataset         T    CV  ML      Acc    b_Acc    Prec    Rec     F1    kap    ROC    tra-T    test-T    Al-Time\n",
      "--  ------------  ---  ----  ----  -----  -------  ------  -----  -----  -----  -----  -------  --------  ---------\n",
      " 0  results/vs_1    0     1  DT    0.634     0.67   0.642   0.67  0.619  0.622      0    1.193     0.187          0\n",
      "\n",
      "260/698 - A211223 I211108\n",
      "    Dataset         T    CV  ML      Acc    b_Acc    Prec    Rec     F1    kap    ROC    tra-T    test-T    Al-Time\n",
      "--  ------------  ---  ----  ----  -----  -------  ------  -----  -----  -----  -----  -------  --------  ---------\n",
      " 0  results/vs_1    0     1  DT    0.621    0.582   0.546  0.582  0.526  0.606      0    1.191     0.221          0\n",
      "\n",
      "261/698 - A211223 I211112\n",
      "    Dataset         T    CV  ML      Acc    b_Acc    Prec    Rec     F1    kap    ROC    tra-T    test-T    Al-Time\n",
      "--  ------------  ---  ----  ----  -----  -------  ------  -----  -----  -----  -----  -------  --------  ---------\n",
      " 0  results/vs_1    0     1  DT    0.548     0.51   0.457   0.51  0.439  0.528      0    1.249     0.252          0\n",
      "\n",
      "262/698 - A211223 I211115\n",
      "    Dataset         T    CV  ML      Acc    b_Acc    Prec    Rec     F1    kap    ROC    tra-T    test-T    Al-Time\n",
      "--  ------------  ---  ----  ----  -----  -------  ------  -----  -----  -----  -----  -------  --------  ---------\n",
      " 0  results/vs_1    0     1  DT    0.535    0.493   0.468  0.493  0.426  0.519      0    1.282     0.246          0\n",
      "\n",
      "263/698 - A211223 I211118\n",
      "    Dataset         T    CV  ML      Acc    b_Acc    Prec    Rec     F1    kap    ROC    tra-T    test-T    Al-Time\n",
      "--  ------------  ---  ----  ----  -----  -------  ------  -----  -----  -----  -----  -------  --------  ---------\n",
      " 0  results/vs_1    0     1  DT    0.546    0.517   0.481  0.517  0.445   0.53      0    1.281      0.26          0\n",
      "\n",
      "264/698 - A211223 I211119\n",
      "    Dataset         T    CV  ML      Acc    b_Acc    Prec    Rec     F1    kap    ROC    tra-T    test-T    Al-Time\n",
      "--  ------------  ---  ----  ----  -----  -------  ------  -----  -----  -----  -----  -------  --------  ---------\n",
      " 0  results/vs_1    0     1  DT    0.542    0.517   0.492  0.517  0.452  0.525      0    1.319     0.234          0\n",
      "\n"
     ]
    },
    {
     "name": "stdout",
     "output_type": "stream",
     "text": [
      "265/698 - A211223 I211122\n",
      "    Dataset         T    CV  ML      Acc    b_Acc    Prec    Rec     F1    kap    ROC    tra-T    test-T    Al-Time\n",
      "--  ------------  ---  ----  ----  -----  -------  ------  -----  -----  -----  -----  -------  --------  ---------\n",
      " 0  results/vs_1    0     1  DT    0.554    0.524   0.498  0.524  0.458  0.538      0    1.194     0.191          0\n",
      "\n",
      "266/698 - A211225 A211108\n",
      "    Dataset         T    CV  ML      Acc    b_Acc    Prec    Rec     F1    kap    ROC    tra-T    test-T    Al-Time\n",
      "--  ------------  ---  ----  ----  -----  -------  ------  -----  -----  -----  -----  -------  --------  ---------\n",
      " 0  results/vs_1    0     1  DT    0.652    0.614   0.554  0.614  0.545  0.633      0    1.601     0.211          0\n",
      "\n",
      "267/698 - A211225 A211109\n",
      "    Dataset         T    CV  ML      Acc    b_Acc    Prec    Rec     F1    kap    ROC    tra-T    test-T    Al-Time\n",
      "--  ------------  ---  ----  ----  -----  -------  ------  -----  -----  -----  -----  -------  --------  ---------\n",
      " 0  results/vs_1    0     1  DT    0.685    0.631   0.595  0.631  0.577   0.67      0    1.605     0.184          0\n",
      "\n",
      "268/698 - A211225 A211115\n",
      "    Dataset         T    CV  ML      Acc    b_Acc    Prec    Rec     F1    kap    ROC    tra-T    test-T    Al-Time\n",
      "--  ------------  ---  ----  ----  -----  -------  ------  -----  -----  -----  -----  -------  --------  ---------\n",
      " 0  results/vs_1    0     1  DT    0.644    0.534   0.528  0.534  0.479  0.619      0    1.566     0.217          0\n",
      "\n",
      "269/698 - A211225 A211116\n",
      "    Dataset         T    CV  ML      Acc    b_Acc    Prec    Rec     F1    kap    ROC    tra-T    test-T    Al-Time\n",
      "--  ------------  ---  ----  ----  -----  -------  ------  -----  -----  -----  -----  -------  --------  ---------\n",
      " 0  results/vs_1    0     1  DT    0.593    0.527   0.488  0.527  0.459  0.568      0    1.551     0.212          0\n",
      "\n",
      "270/698 - A211225 A211117\n",
      "    Dataset         T    CV  ML      Acc    b_Acc    Prec    Rec    F1    kap    ROC    tra-T    test-T    Al-Time\n",
      "--  ------------  ---  ----  ----  -----  -------  ------  -----  ----  -----  -----  -------  --------  ---------\n",
      " 0  results/vs_1    0     1  DT    0.537    0.508   0.502  0.508  0.45  0.517      0    1.534     0.204          0\n",
      "\n",
      "271/698 - A211225 A211118\n",
      "    Dataset         T    CV  ML      Acc    b_Acc    Prec    Rec     F1    kap    ROC    tra-T    test-T    Al-Time\n",
      "--  ------------  ---  ----  ----  -----  -------  ------  -----  -----  -----  -----  -------  --------  ---------\n",
      " 0  results/vs_1    0     1  DT    0.563    0.513   0.495  0.513  0.458  0.546      0      1.5     0.155          0\n",
      "\n",
      "272/698 - A211225 A211122\n",
      "    Dataset         T    CV  ML      Acc    b_Acc    Prec    Rec     F1    kap    ROC    tra-T    test-T    Al-Time\n",
      "--  ------------  ---  ----  ----  -----  -------  ------  -----  -----  -----  -----  -------  --------  ---------\n",
      " 0  results/vs_1    0     1  DT    0.571    0.529   0.508  0.529  0.472  0.552      0     1.63     0.189          0\n",
      "\n",
      "273/698 - A211225 A211123\n",
      "    Dataset         T    CV  ML      Acc    b_Acc    Prec    Rec     F1    kap    ROC    tra-T    test-T    Al-Time\n",
      "--  ------------  ---  ----  ----  -----  -------  ------  -----  -----  -----  -----  -------  --------  ---------\n",
      " 0  results/vs_1    0     1  DT    0.582    0.541   0.499  0.541  0.475  0.564      0    1.526     0.197          0\n",
      "\n",
      "274/698 - A211225 A211125\n",
      "    Dataset         T    CV  ML      Acc    b_Acc    Prec    Rec     F1    kap    ROC    tra-T    test-T    Al-Time\n",
      "--  ------------  ---  ----  ----  -----  -------  ------  -----  -----  -----  -----  -------  --------  ---------\n",
      " 0  results/vs_1    0     1  DT    0.595    0.517   0.487  0.517  0.468  0.578      0    1.605     0.175          0\n",
      "\n",
      "275/698 - A211225 A211206\n",
      "    Dataset         T    CV  ML      Acc    b_Acc    Prec    Rec     F1    kap    ROC    tra-T    test-T    Al-Time\n",
      "--  ------------  ---  ----  ----  -----  -------  ------  -----  -----  -----  -----  -------  --------  ---------\n",
      " 0  results/vs_1    0     1  DT    0.583    0.559   0.515  0.559  0.499  0.566      0    1.591     0.197          0\n",
      "\n",
      "276/698 - A211225 A211208\n",
      "    Dataset         T    CV  ML      Acc    b_Acc    Prec    Rec     F1    kap    ROC    tra-T    test-T    Al-Time\n",
      "--  ------------  ---  ----  ----  -----  -------  ------  -----  -----  -----  -----  -------  --------  ---------\n",
      " 0  results/vs_1    0     1  DT    0.561     0.52   0.491   0.52  0.462  0.545      0    1.656     0.175          0\n",
      "\n",
      "277/698 - A211225 A211223\n",
      "    Dataset         T    CV  ML      Acc    b_Acc    Prec    Rec     F1    kap    ROC    tra-T    test-T    Al-Time\n",
      "--  ------------  ---  ----  ----  -----  -------  ------  -----  -----  -----  -----  -------  --------  ---------\n",
      " 0  results/vs_1    0     1  DT    0.891    0.878   0.889  0.878  0.877  0.887      0    1.644      0.14          0\n",
      "\n",
      "278/698 - A211225 A211225\n",
      "    Dataset         T    CV  ML      Acc    b_Acc    Prec    Rec     F1    kap    ROC    tra-T    test-T    Al-Time\n",
      "--  ------------  ---  ----  ----  -----  -------  ------  -----  -----  -----  -----  -------  --------  ---------\n",
      " 0  results/vs_1    0     1  DT     0.93    0.924    0.93  0.924  0.923  0.927      0    1.588     0.153          0\n",
      "\n",
      "279/698 - A211225 A211228\n",
      "    Dataset         T    CV  ML      Acc    b_Acc    Prec    Rec     F1    kap    ROC    tra-T    test-T    Al-Time\n",
      "--  ------------  ---  ----  ----  -----  -------  ------  -----  -----  -----  -----  -------  --------  ---------\n",
      " 0  results/vs_1    0     1  DT     0.74    0.705    0.68  0.705  0.666  0.728      0    1.544     0.177          0\n",
      "\n",
      "280/698 - A211225 I211108\n",
      "    Dataset         T    CV  ML      Acc    b_Acc    Prec    Rec     F1    kap    ROC    tra-T    test-T    Al-Time\n",
      "--  ------------  ---  ----  ----  -----  -------  ------  -----  -----  -----  -----  -------  --------  ---------\n",
      " 0  results/vs_1    0     1  DT    0.657    0.624   0.594  0.624  0.569  0.643      0    1.519     0.183          0\n",
      "\n",
      "281/698 - A211225 I211112\n",
      "    Dataset         T    CV  ML      Acc    b_Acc    Prec    Rec     F1    kap    ROC    tra-T    test-T    Al-Time\n",
      "--  ------------  ---  ----  ----  -----  -------  ------  -----  -----  -----  -----  -------  --------  ---------\n",
      " 0  results/vs_1    0     1  DT     0.55    0.487   0.484  0.487  0.431   0.53      0    1.616     0.217          0\n",
      "\n",
      "282/698 - A211225 I211115\n",
      "    Dataset         T    CV  ML      Acc    b_Acc    Prec    Rec     F1    kap    ROC    tra-T    test-T    Al-Time\n",
      "--  ------------  ---  ----  ----  -----  -------  ------  -----  -----  -----  -----  -------  --------  ---------\n",
      " 0  results/vs_1    0     1  DT    0.547    0.505   0.499  0.505  0.454   0.53      0     1.54     0.197          0\n",
      "\n",
      "283/698 - A211225 I211118\n",
      "    Dataset         T    CV  ML      Acc    b_Acc    Prec    Rec     F1    kap    ROC    tra-T    test-T    Al-Time\n",
      "--  ------------  ---  ----  ----  -----  -------  ------  -----  -----  -----  -----  -------  --------  ---------\n",
      " 0  results/vs_1    0     1  DT     0.57    0.545   0.527  0.545  0.479  0.553      0    1.513     0.196          0\n",
      "\n",
      "284/698 - A211225 I211119\n",
      "    Dataset         T    CV  ML      Acc    b_Acc    Prec    Rec    F1    kap    ROC    tra-T    test-T    Al-Time\n",
      "--  ------------  ---  ----  ----  -----  -------  ------  -----  ----  -----  -----  -------  --------  ---------\n",
      " 0  results/vs_1    0     1  DT    0.548    0.521   0.504  0.521  0.46  0.531      0    1.571     0.206          0\n",
      "\n",
      "285/698 - A211225 I211122\n",
      "    Dataset         T    CV  ML      Acc    b_Acc    Prec    Rec     F1    kap    ROC    tra-T    test-T    Al-Time\n",
      "--  ------------  ---  ----  ----  -----  -------  ------  -----  -----  -----  -----  -------  --------  ---------\n",
      " 0  results/vs_1    0     1  DT     0.58    0.552   0.512  0.552  0.482  0.563      0    1.576     0.193          0\n",
      "\n",
      "286/698 - A211228 A211108\n",
      "    Dataset         T    CV  ML      Acc    b_Acc    Prec    Rec     F1    kap    ROC    tra-T    test-T    Al-Time\n",
      "--  ------------  ---  ----  ----  -----  -------  ------  -----  -----  -----  -----  -------  --------  ---------\n",
      " 0  results/vs_1    0     1  DT    0.785     0.61   0.603   0.61  0.574  0.769      0    1.519     0.237          0\n",
      "\n"
     ]
    },
    {
     "name": "stdout",
     "output_type": "stream",
     "text": [
      "287/698 - A211228 A211109\n",
      "    Dataset         T    CV  ML      Acc    b_Acc    Prec    Rec     F1    kap    ROC    tra-T    test-T    Al-Time\n",
      "--  ------------  ---  ----  ----  -----  -------  ------  -----  -----  -----  -----  -------  --------  ---------\n",
      " 0  results/vs_1    0     1  DT    0.746    0.609   0.615  0.609  0.577  0.732      0    1.569     0.188          0\n",
      "\n",
      "288/698 - A211228 A211115\n",
      "    Dataset         T    CV  ML      Acc    b_Acc    Prec    Rec     F1    kap    ROC    tra-T    test-T    Al-Time\n",
      "--  ------------  ---  ----  ----  -----  -------  ------  -----  -----  -----  -----  -------  --------  ---------\n",
      " 0  results/vs_1    0     1  DT    0.638    0.536   0.529  0.536  0.491  0.612      0    1.677      0.22          0\n",
      "\n",
      "289/698 - A211228 A211116\n",
      "    Dataset         T    CV  ML      Acc    b_Acc    Prec    Rec     F1    kap    ROC    tra-T    test-T    Al-Time\n",
      "--  ------------  ---  ----  ----  -----  -------  ------  -----  -----  -----  -----  -------  --------  ---------\n",
      " 0  results/vs_1    0     1  DT    0.592    0.551   0.555  0.551  0.508  0.567      0    1.583     0.211          0\n",
      "\n",
      "290/698 - A211228 A211117\n",
      "    Dataset         T    CV  ML      Acc    b_Acc    Prec    Rec     F1    kap    ROC    tra-T    test-T    Al-Time\n",
      "--  ------------  ---  ----  ----  -----  -------  ------  -----  -----  -----  -----  -------  --------  ---------\n",
      " 0  results/vs_1    0     1  DT    0.537    0.518   0.538  0.518  0.474  0.518      0     1.55     0.191          0\n",
      "\n",
      "291/698 - A211228 A211118\n",
      "    Dataset         T    CV  ML      Acc    b_Acc    Prec    Rec     F1    kap    ROC    tra-T    test-T    Al-Time\n",
      "--  ------------  ---  ----  ----  -----  -------  ------  -----  -----  -----  -----  -------  --------  ---------\n",
      " 0  results/vs_1    0     1  DT    0.645    0.543   0.559  0.543  0.512   0.63      0    1.619      0.15          0\n",
      "\n",
      "292/698 - A211228 A211122\n",
      "    Dataset         T    CV  ML      Acc    b_Acc    Prec    Rec     F1    kap    ROC    tra-T    test-T    Al-Time\n",
      "--  ------------  ---  ----  ----  -----  -------  ------  -----  -----  -----  -----  -------  --------  ---------\n",
      " 0  results/vs_1    0     1  DT    0.739    0.567   0.571  0.567  0.533   0.72      0     1.61       0.2          0\n",
      "\n",
      "293/698 - A211228 A211123\n",
      "    Dataset         T    CV  ML      Acc    b_Acc    Prec    Rec     F1    kap    ROC    tra-T    test-T    Al-Time\n",
      "--  ------------  ---  ----  ----  -----  -------  ------  -----  -----  -----  -----  -------  --------  ---------\n",
      " 0  results/vs_1    0     1  DT    0.741    0.579   0.583  0.579  0.544  0.723      0    1.616     0.205          0\n",
      "\n",
      "294/698 - A211228 A211125\n",
      "    Dataset         T    CV  ML      Acc    b_Acc    Prec    Rec     F1    kap    ROC    tra-T    test-T    Al-Time\n",
      "--  ------------  ---  ----  ----  -----  -------  ------  -----  -----  -----  -----  -------  --------  ---------\n",
      " 0  results/vs_1    0     1  DT    0.647    0.554   0.561  0.554  0.521  0.632      0    1.566     0.165          0\n",
      "\n",
      "295/698 - A211228 A211206\n",
      "    Dataset         T    CV  ML      Acc    b_Acc    Prec    Rec     F1    kap    ROC    tra-T    test-T    Al-Time\n",
      "--  ------------  ---  ----  ----  -----  -------  ------  -----  -----  -----  -----  -------  --------  ---------\n",
      " 0  results/vs_1    0     1  DT    0.776    0.642   0.619  0.642  0.604  0.762      0    1.694     0.202          0\n",
      "\n",
      "296/698 - A211228 A211208\n",
      "    Dataset         T    CV  ML      Acc    b_Acc    Prec    Rec     F1    kap    ROC    tra-T    test-T    Al-Time\n",
      "--  ------------  ---  ----  ----  -----  -------  ------  -----  -----  -----  -----  -------  --------  ---------\n",
      " 0  results/vs_1    0     1  DT    0.791    0.594   0.592  0.594  0.574  0.773      0    1.563     0.179          0\n",
      "\n",
      "297/698 - A211228 A211223\n",
      "    Dataset         T    CV  ML      Acc    b_Acc    Prec    Rec     F1    kap    ROC    tra-T    test-T    Al-Time\n",
      "--  ------------  ---  ----  ----  -----  -------  ------  -----  -----  -----  -----  -------  --------  ---------\n",
      " 0  results/vs_1    0     1  DT    0.711    0.693   0.713  0.693  0.668  0.699      0    1.569      0.14          0\n",
      "\n",
      "298/698 - A211228 A211225\n",
      "    Dataset         T    CV  ML      Acc    b_Acc    Prec    Rec    F1    kap    ROC    tra-T    test-T    Al-Time\n",
      "--  ------------  ---  ----  ----  -----  -------  ------  -----  ----  -----  -----  -------  --------  ---------\n",
      " 0  results/vs_1    0     1  DT     0.74    0.716   0.716  0.716  0.69   0.73      0    1.567     0.176          0\n",
      "\n",
      "299/698 - A211228 A211228\n",
      "    Dataset         T    CV  ML      Acc    b_Acc    Prec    Rec     F1    kap    ROC    tra-T    test-T    Al-Time\n",
      "--  ------------  ---  ----  ----  -----  -------  ------  -----  -----  -----  -----  -------  --------  ---------\n",
      " 0  results/vs_1    0     1  DT    0.933    0.914   0.928  0.914  0.918   0.93      0    1.563     0.167          0\n",
      "\n",
      "300/698 - A211228 I211108\n",
      "    Dataset         T    CV  ML      Acc    b_Acc    Prec    Rec     F1    kap    ROC    tra-T    test-T    Al-Time\n",
      "--  ------------  ---  ----  ----  -----  -------  ------  -----  -----  -----  -----  -------  --------  ---------\n",
      " 0  results/vs_1    0     1  DT    0.648    0.576   0.581  0.576  0.538  0.634      0    1.582     0.203          0\n",
      "\n",
      "301/698 - A211228 I211112\n",
      "    Dataset         T    CV  ML      Acc    b_Acc    Prec    Rec     F1    kap    ROC    tra-T    test-T    Al-Time\n",
      "--  ------------  ---  ----  ----  -----  -------  ------  -----  -----  -----  -----  -------  --------  ---------\n",
      " 0  results/vs_1    0     1  DT    0.532     0.49   0.476   0.49  0.447  0.512      0    1.593     0.225          0\n",
      "\n",
      "302/698 - A211228 I211115\n",
      "    Dataset         T    CV  ML      Acc    b_Acc    Prec    Rec     F1    kap    ROC    tra-T    test-T    Al-Time\n",
      "--  ------------  ---  ----  ----  -----  -------  ------  -----  -----  -----  -----  -------  --------  ---------\n",
      " 0  results/vs_1    0     1  DT    0.545    0.506   0.518  0.506  0.465  0.528      0    1.561     0.202          0\n",
      "\n",
      "303/698 - A211228 I211118\n",
      "    Dataset         T    CV  ML      Acc    b_Acc    Prec    Rec    F1    kap    ROC    tra-T    test-T    Al-Time\n",
      "--  ------------  ---  ----  ----  -----  -------  ------  -----  ----  -----  -----  -------  --------  ---------\n",
      " 0  results/vs_1    0     1  DT    0.636    0.535   0.547  0.535   0.5   0.62      0    1.454     0.208          0\n",
      "\n",
      "304/698 - A211228 I211119\n",
      "    Dataset         T    CV  ML      Acc    b_Acc    Prec    Rec    F1    kap    ROC    tra-T    test-T    Al-Time\n",
      "--  ------------  ---  ----  ----  -----  -------  ------  -----  ----  -----  -----  -------  --------  ---------\n",
      " 0  results/vs_1    0     1  DT    0.636    0.537   0.574  0.537  0.51   0.62      0    1.543     0.184          0\n",
      "\n",
      "305/698 - A211228 I211122\n",
      "    Dataset         T    CV  ML      Acc    b_Acc    Prec    Rec     F1    kap    ROC    tra-T    test-T    Al-Time\n",
      "--  ------------  ---  ----  ----  -----  -------  ------  -----  -----  -----  -----  -------  --------  ---------\n",
      " 0  results/vs_1    0     1  DT    0.648    0.539   0.552  0.539  0.505  0.632      0    1.613     0.211          0\n",
      "\n",
      "306/698 - I211108 A211108\n",
      "    Dataset         T    CV  ML      Acc    b_Acc    Prec    Rec     F1    kap    ROC    tra-T    test-T    Al-Time\n",
      "--  ------------  ---  ----  ----  -----  -------  ------  -----  -----  -----  -----  -------  --------  ---------\n",
      " 0  results/vs_1    0     1  DT    0.685      0.8   0.784    0.8  0.749  0.669      0    1.811     0.208          0\n",
      "\n",
      "307/698 - I211108 A211109\n",
      "    Dataset         T    CV  ML      Acc    b_Acc    Prec    Rec     F1    kap    ROC    tra-T    test-T    Al-Time\n",
      "--  ------------  ---  ----  ----  -----  -------  ------  -----  -----  -----  -----  -------  --------  ---------\n",
      " 0  results/vs_1    0     1  DT    0.713    0.812   0.805  0.812  0.765  0.702      0    1.769     0.186          0\n",
      "\n",
      "308/698 - I211108 A211115\n",
      "    Dataset         T    CV  ML      Acc    b_Acc    Prec    Rec     F1    kap    ROC    tra-T    test-T    Al-Time\n",
      "--  ------------  ---  ----  ----  -----  -------  ------  -----  -----  -----  -----  -------  --------  ---------\n",
      " 0  results/vs_1    0     1  DT    0.399    0.499   0.475  0.499  0.427   0.38      0    1.911     0.234          0\n",
      "\n"
     ]
    },
    {
     "name": "stdout",
     "output_type": "stream",
     "text": [
      "309/698 - I211108 A211116\n",
      "    Dataset         T    CV  ML      Acc    b_Acc    Prec    Rec     F1    kap    ROC    tra-T    test-T    Al-Time\n",
      "--  ------------  ---  ----  ----  -----  -------  ------  -----  -----  -----  -----  -------  --------  ---------\n",
      " 0  results/vs_1    0     1  DT    0.405    0.511   0.502  0.511  0.454   0.39      0    1.736     0.197          0\n",
      "\n",
      "310/698 - I211108 A211117\n",
      "    Dataset         T    CV  ML      Acc    b_Acc    Prec    Rec     F1    kap    ROC    tra-T    test-T    Al-Time\n",
      "--  ------------  ---  ----  ----  -----  -------  ------  -----  -----  -----  -----  -------  --------  ---------\n",
      " 0  results/vs_1    0     1  DT    0.414    0.464   0.467  0.464  0.394  0.394      0    2.301     0.281          0\n",
      "\n",
      "311/698 - I211108 A211118\n",
      "    Dataset         T    CV  ML      Acc    b_Acc    Prec    Rec     F1    kap    ROC    tra-T    test-T    Al-Time\n",
      "--  ------------  ---  ----  ----  -----  -------  ------  -----  -----  -----  -----  -------  --------  ---------\n",
      " 0  results/vs_1    0     1  DT    0.658    0.552   0.591  0.552  0.535  0.643      0    1.776     0.142          0\n",
      "\n",
      "312/698 - I211108 A211122\n",
      "    Dataset         T    CV  ML      Acc    b_Acc    Prec    Rec     F1    kap    ROC    tra-T    test-T    Al-Time\n",
      "--  ------------  ---  ----  ----  -----  -------  ------  -----  -----  -----  -----  -------  --------  ---------\n",
      " 0  results/vs_1    0     1  DT    0.615    0.534   0.551  0.534  0.501  0.594      0    1.762     0.196          0\n",
      "\n",
      "313/698 - I211108 A211123\n",
      "    Dataset         T    CV  ML      Acc    b_Acc    Prec    Rec     F1    kap    ROC    tra-T    test-T    Al-Time\n",
      "--  ------------  ---  ----  ----  -----  -------  ------  -----  -----  -----  -----  -------  --------  ---------\n",
      " 0  results/vs_1    0     1  DT    0.608    0.534   0.562  0.534  0.499  0.588      0    1.757     0.204          0\n",
      "\n",
      "314/698 - I211108 A211125\n",
      "    Dataset         T    CV  ML      Acc    b_Acc    Prec    Rec     F1    kap    ROC    tra-T    test-T    Al-Time\n",
      "--  ------------  ---  ----  ----  -----  -------  ------  -----  -----  -----  -----  -------  --------  ---------\n",
      " 0  results/vs_1    0     1  DT    0.543    0.511   0.537  0.511  0.467  0.527      0    1.765     0.181          0\n",
      "\n",
      "315/698 - I211108 A211206\n",
      "    Dataset         T    CV  ML      Acc    b_Acc    Prec    Rec     F1    kap    ROC    tra-T    test-T    Al-Time\n",
      "--  ------------  ---  ----  ----  -----  -------  ------  -----  -----  -----  -----  -------  --------  ---------\n",
      " 0  results/vs_1    0     1  DT    0.627    0.532   0.531  0.532  0.488  0.607      0    1.808     0.202          0\n",
      "\n",
      "316/698 - I211108 A211208\n",
      "    Dataset         T    CV  ML      Acc    b_Acc    Prec    Rec     F1    kap    ROC    tra-T    test-T    Al-Time\n",
      "--  ------------  ---  ----  ----  -----  -------  ------  -----  -----  -----  -----  -------  --------  ---------\n",
      " 0  results/vs_1    0     1  DT     0.63    0.495   0.509  0.495  0.461  0.602      0    1.733     0.171          0\n",
      "\n",
      "317/698 - I211108 A211223\n",
      "    Dataset         T    CV  ML      Acc    b_Acc    Prec    Rec    F1    kap    ROC    tra-T    test-T    Al-Time\n",
      "--  ------------  ---  ----  ----  -----  -------  ------  -----  ----  -----  -----  -------  --------  ---------\n",
      " 0  results/vs_1    0     1  DT    0.561    0.535   0.551  0.535   0.5  0.545      0    1.801     0.148          0\n",
      "\n",
      "318/698 - I211108 A211225\n",
      "    Dataset         T    CV  ML      Acc    b_Acc    Prec    Rec     F1    kap    ROC    tra-T    test-T    Al-Time\n",
      "--  ------------  ---  ----  ----  -----  -------  ------  -----  -----  -----  -----  -------  --------  ---------\n",
      " 0  results/vs_1    0     1  DT    0.528     0.49   0.512   0.49  0.445  0.513      0    1.817     0.173          0\n",
      "\n",
      "319/698 - I211108 A211228\n",
      "    Dataset         T    CV  ML      Acc    b_Acc    Prec    Rec     F1    kap    ROC    tra-T    test-T    Al-Time\n",
      "--  ------------  ---  ----  ----  -----  -------  ------  -----  -----  -----  -----  -------  --------  ---------\n",
      " 0  results/vs_1    0     1  DT    0.535    0.516   0.497  0.516  0.457  0.519      0    1.727      0.17          0\n",
      "\n",
      "320/698 - I211108 I211108\n",
      "    Dataset         T    CV  ML      Acc    b_Acc    Prec    Rec    F1    kap    ROC    tra-T    test-T    Al-Time\n",
      "--  ------------  ---  ----  ----  -----  -------  ------  -----  ----  -----  -----  -------  --------  ---------\n",
      " 0  results/vs_1    0     1  DT      0.9    0.885   0.891  0.885  0.88  0.896      0    1.744     0.191          0\n",
      "\n",
      "321/698 - I211108 I211112\n",
      "    Dataset         T    CV  ML      Acc    b_Acc    Prec    Rec     F1    kap    ROC    tra-T    test-T    Al-Time\n",
      "--  ------------  ---  ----  ----  -----  -------  ------  -----  -----  -----  -----  -------  --------  ---------\n",
      " 0  results/vs_1    0     1  DT    0.573    0.537   0.533  0.537  0.495  0.554      0    1.813     0.263          0\n",
      "\n",
      "322/698 - I211108 I211115\n",
      "    Dataset         T    CV  ML      Acc    b_Acc    Prec    Rec     F1    kap    ROC    tra-T    test-T    Al-Time\n",
      "--  ------------  ---  ----  ----  -----  -------  ------  -----  -----  -----  -----  -------  --------  ---------\n",
      " 0  results/vs_1    0     1  DT    0.569    0.525   0.531  0.525  0.491  0.553      0    1.752     0.218          0\n",
      "\n",
      "323/698 - I211108 I211118\n",
      "    Dataset         T    CV  ML      Acc    b_Acc    Prec    Rec     F1    kap    ROC    tra-T    test-T    Al-Time\n",
      "--  ------------  ---  ----  ----  -----  -------  ------  -----  -----  -----  -----  -------  --------  ---------\n",
      " 0  results/vs_1    0     1  DT     0.66     0.57   0.586   0.57  0.547  0.645      0     1.74     0.222          0\n",
      "\n",
      "324/698 - I211108 I211119\n",
      "    Dataset         T    CV  ML      Acc    b_Acc    Prec    Rec     F1    kap    ROC    tra-T    test-T    Al-Time\n",
      "--  ------------  ---  ----  ----  -----  -------  ------  -----  -----  -----  -----  -------  --------  ---------\n",
      " 0  results/vs_1    0     1  DT    0.655    0.569   0.601  0.569  0.551   0.64      0    1.839     0.206          0\n",
      "\n",
      "325/698 - I211108 I211122\n",
      "    Dataset         T    CV  ML      Acc    b_Acc    Prec    Rec     F1    kap    ROC    tra-T    test-T    Al-Time\n",
      "--  ------------  ---  ----  ----  -----  -------  ------  -----  -----  -----  -----  -------  --------  ---------\n",
      " 0  results/vs_1    0     1  DT     0.66    0.559   0.583  0.559  0.534  0.645      0    1.814     0.205          0\n",
      "\n",
      "326/698 - I211112 A211108\n",
      "    Dataset         T    CV  ML      Acc    b_Acc    Prec    Rec     F1    kap    ROC    tra-T    test-T    Al-Time\n",
      "--  ------------  ---  ----  ----  -----  -------  ------  -----  -----  -----  -----  -------  --------  ---------\n",
      " 0  results/vs_1    0     1  DT    0.401    0.518   0.476  0.518  0.438  0.384      0    2.208     0.243          0\n",
      "\n",
      "327/698 - I211112 A211109\n",
      "    Dataset         T    CV  ML      Acc    b_Acc    Prec    Rec     F1    kap    ROC    tra-T    test-T    Al-Time\n",
      "--  ------------  ---  ----  ----  -----  -------  ------  -----  -----  -----  -----  -------  --------  ---------\n",
      " 0  results/vs_1    0     1  DT    0.465    0.542   0.526  0.542  0.472  0.448      0    2.042     0.174          0\n",
      "\n",
      "328/698 - I211112 A211115\n",
      "    Dataset         T    CV  ML      Acc    b_Acc    Prec    Rec     F1    kap    ROC    tra-T    test-T    Al-Time\n",
      "--  ------------  ---  ----  ----  -----  -------  ------  -----  -----  -----  -----  -------  --------  ---------\n",
      " 0  results/vs_1    0     1  DT    0.661    0.803   0.807  0.803  0.778  0.645      0     2.11     0.247          0\n",
      "\n",
      "329/698 - I211112 A211116\n",
      "    Dataset         T    CV  ML      Acc    b_Acc    Prec    Rec     F1    kap    ROC    tra-T    test-T    Al-Time\n",
      "--  ------------  ---  ----  ----  -----  -------  ------  -----  -----  -----  -----  -------  --------  ---------\n",
      " 0  results/vs_1    0     1  DT    0.716    0.817   0.832  0.817  0.804  0.702      0    2.093     0.218          0\n",
      "\n",
      "330/698 - I211112 A211117\n",
      "    Dataset         T    CV  ML      Acc    b_Acc    Prec    Rec     F1    kap    ROC    tra-T    test-T    Al-Time\n",
      "--  ------------  ---  ----  ----  -----  -------  ------  -----  -----  -----  -----  -------  --------  ---------\n",
      " 0  results/vs_1    0     1  DT    0.632    0.769   0.787  0.769  0.743  0.619      0    2.102     0.188          0\n",
      "\n"
     ]
    },
    {
     "name": "stdout",
     "output_type": "stream",
     "text": [
      "331/698 - I211112 A211118\n",
      "    Dataset         T    CV  ML      Acc    b_Acc    Prec    Rec     F1    kap    ROC    tra-T    test-T    Al-Time\n",
      "--  ------------  ---  ----  ----  -----  -------  ------  -----  -----  -----  -----  -------  --------  ---------\n",
      " 0  results/vs_1    0     1  DT    0.777    0.803   0.803  0.803  0.795  0.768      0    2.162     0.164          0\n",
      "\n",
      "332/698 - I211112 A211122\n",
      "    Dataset         T    CV  ML      Acc    b_Acc    Prec    Rec     F1    kap    ROC    tra-T    test-T    Al-Time\n",
      "--  ------------  ---  ----  ----  -----  -------  ------  -----  -----  -----  -----  -------  --------  ---------\n",
      " 0  results/vs_1    0     1  DT    0.595    0.791   0.778  0.791  0.762  0.583      0    2.101     0.193          0\n",
      "\n",
      "333/698 - I211112 A211123\n",
      "    Dataset         T    CV  ML      Acc    b_Acc    Prec    Rec     F1    kap    ROC    tra-T    test-T    Al-Time\n",
      "--  ------------  ---  ----  ----  -----  -------  ------  -----  -----  -----  -----  -------  --------  ---------\n",
      " 0  results/vs_1    0     1  DT    0.609    0.777   0.782  0.777  0.754  0.597      0    2.146     0.182          0\n",
      "\n",
      "334/698 - I211112 A211125\n",
      "    Dataset         T    CV  ML      Acc    b_Acc    Prec    Rec     F1    kap    ROC    tra-T    test-T    Al-Time\n",
      "--  ------------  ---  ----  ----  -----  -------  ------  -----  -----  -----  -----  -------  --------  ---------\n",
      " 0  results/vs_1    0     1  DT    0.664    0.745   0.756  0.745  0.712  0.653      0    2.159     0.179          0\n",
      "\n",
      "335/698 - I211112 A211206\n",
      "    Dataset         T    CV  ML      Acc    b_Acc    Prec    Rec     F1    kap    ROC    tra-T    test-T    Al-Time\n",
      "--  ------------  ---  ----  ----  -----  -------  ------  -----  -----  -----  -----  -------  --------  ---------\n",
      " 0  results/vs_1    0     1  DT    0.476    0.501   0.524  0.501  0.461  0.458      0    2.103     0.245          0\n",
      "\n",
      "336/698 - I211112 A211208\n",
      "    Dataset         T    CV  ML      Acc    b_Acc    Prec    Rec     F1    kap    ROC    tra-T    test-T    Al-Time\n",
      "--  ------------  ---  ----  ----  -----  -------  ------  -----  -----  -----  -----  -------  --------  ---------\n",
      " 0  results/vs_1    0     1  DT     0.47    0.491   0.506  0.491  0.437  0.449      0    2.093      0.18          0\n",
      "\n",
      "337/698 - I211112 A211223\n",
      "    Dataset         T    CV  ML      Acc    b_Acc    Prec    Rec     F1    kap    ROC    tra-T    test-T    Al-Time\n",
      "--  ------------  ---  ----  ----  -----  -------  ------  -----  -----  -----  -----  -------  --------  ---------\n",
      " 0  results/vs_1    0     1  DT    0.573    0.539   0.534  0.539  0.493  0.557      0    2.172     0.141          0\n",
      "\n",
      "338/698 - I211112 A211225\n",
      "    Dataset         T    CV  ML      Acc    b_Acc    Prec    Rec     F1    kap    ROC    tra-T    test-T    Al-Time\n",
      "--  ------------  ---  ----  ----  -----  -------  ------  -----  -----  -----  -----  -------  --------  ---------\n",
      " 0  results/vs_1    0     1  DT    0.552    0.533   0.511  0.533  0.459  0.538      0    2.066     0.158          0\n",
      "\n",
      "339/698 - I211112 A211228\n",
      "    Dataset         T    CV  ML      Acc    b_Acc    Prec    Rec     F1    kap    ROC    tra-T    test-T    Al-Time\n",
      "--  ------------  ---  ----  ----  -----  -------  ------  -----  -----  -----  -----  -------  --------  ---------\n",
      " 0  results/vs_1    0     1  DT    0.483    0.494   0.476  0.494  0.424  0.467      0     2.03     0.181          0\n",
      "\n",
      "340/698 - I211112 I211108\n",
      "    Dataset         T    CV  ML      Acc    b_Acc    Prec    Rec     F1    kap    ROC    tra-T    test-T    Al-Time\n",
      "--  ------------  ---  ----  ----  -----  -------  ------  -----  -----  -----  -----  -------  --------  ---------\n",
      " 0  results/vs_1    0     1  DT    0.614     0.55   0.551   0.55  0.525  0.598      0    2.319     0.223          0\n",
      "\n",
      "341/698 - I211112 I211112\n",
      "    Dataset         T    CV  ML      Acc    b_Acc    Prec    Rec     F1    kap    ROC    tra-T    test-T    Al-Time\n",
      "--  ------------  ---  ----  ----  -----  -------  ------  -----  -----  -----  -----  -------  --------  ---------\n",
      " 0  results/vs_1    0     1  DT    0.927    0.916   0.923  0.916  0.917  0.924      0    2.132     0.208          0\n",
      "\n",
      "342/698 - I211112 I211115\n",
      "    Dataset         T    CV  ML      Acc    b_Acc    Prec    Rec     F1    kap    ROC    tra-T    test-T    Al-Time\n",
      "--  ------------  ---  ----  ----  -----  -------  ------  -----  -----  -----  -----  -------  --------  ---------\n",
      " 0  results/vs_1    0     1  DT    0.876    0.858   0.858  0.858  0.849   0.87      0    2.127     0.215          0\n",
      "\n",
      "343/698 - I211112 I211118\n",
      "    Dataset         T    CV  ML      Acc    b_Acc    Prec    Rec     F1    kap    ROC    tra-T    test-T    Al-Time\n",
      "--  ------------  ---  ----  ----  -----  -------  ------  -----  -----  -----  -----  -------  --------  ---------\n",
      " 0  results/vs_1    0     1  DT    0.779    0.804   0.817  0.804  0.801   0.77      0    2.066     0.207          0\n",
      "\n",
      "344/698 - I211112 I211119\n",
      "    Dataset         T    CV  ML      Acc    b_Acc    Prec    Rec     F1    kap    ROC    tra-T    test-T    Al-Time\n",
      "--  ------------  ---  ----  ----  -----  -------  ------  -----  -----  -----  -----  -------  --------  ---------\n",
      " 0  results/vs_1    0     1  DT    0.772    0.813   0.807  0.813  0.801  0.762      0     2.27     0.216          0\n",
      "\n",
      "345/698 - I211112 I211122\n",
      "    Dataset         T    CV  ML      Acc    b_Acc    Prec    Rec     F1    kap    ROC    tra-T    test-T    Al-Time\n",
      "--  ------------  ---  ----  ----  -----  -------  ------  -----  -----  -----  -----  -------  --------  ---------\n",
      " 0  results/vs_1    0     1  DT    0.773    0.775   0.802  0.775  0.771  0.763      0    2.114     0.218          0\n",
      "\n",
      "346/698 - I211115 A211108\n",
      "    Dataset         T    CV  ML      Acc    b_Acc    Prec    Rec     F1    kap    ROC    tra-T    test-T    Al-Time\n",
      "--  ------------  ---  ----  ----  -----  -------  ------  -----  -----  -----  -----  -------  --------  ---------\n",
      " 0  results/vs_1    0     1  DT    0.423    0.497   0.481  0.497  0.441  0.403      0    1.693     0.236          0\n",
      "\n",
      "347/698 - I211115 A211109\n",
      "    Dataset         T    CV  ML      Acc    b_Acc    Prec    Rec     F1    kap    ROC    tra-T    test-T    Al-Time\n",
      "--  ------------  ---  ----  ----  -----  -------  ------  -----  -----  -----  -----  -------  --------  ---------\n",
      " 0  results/vs_1    0     1  DT     0.48    0.523   0.511  0.523  0.475  0.463      0    1.711     0.189          0\n",
      "\n",
      "348/698 - I211115 A211115\n",
      "    Dataset         T    CV  ML      Acc    b_Acc    Prec    Rec     F1    kap    ROC    tra-T    test-T    Al-Time\n",
      "--  ------------  ---  ----  ----  -----  -------  ------  -----  -----  -----  -----  -------  --------  ---------\n",
      " 0  results/vs_1    0     1  DT    0.689    0.813   0.805  0.813  0.784  0.675      0    1.726     0.229          0\n",
      "\n",
      "349/698 - I211115 A211116\n",
      "    Dataset         T    CV  ML      Acc    b_Acc    Prec    Rec     F1    kap    ROC    tra-T    test-T    Al-Time\n",
      "--  ------------  ---  ----  ----  -----  -------  ------  -----  -----  -----  -----  -------  --------  ---------\n",
      " 0  results/vs_1    0     1  DT    0.746    0.805   0.812  0.805  0.781   0.73      0    1.764     0.227          0\n",
      "\n",
      "350/698 - I211115 A211117\n",
      "    Dataset         T    CV  ML      Acc    b_Acc    Prec    Rec     F1    kap    ROC    tra-T    test-T    Al-Time\n",
      "--  ------------  ---  ----  ----  -----  -------  ------  -----  -----  -----  -----  -------  --------  ---------\n",
      " 0  results/vs_1    0     1  DT    0.641    0.765   0.766  0.765  0.719  0.627      0    1.708     0.224          0\n",
      "\n",
      "351/698 - I211115 A211118\n",
      "    Dataset         T    CV  ML      Acc    b_Acc    Prec    Rec     F1    kap    ROC    tra-T    test-T    Al-Time\n",
      "--  ------------  ---  ----  ----  -----  -------  ------  -----  -----  -----  -----  -------  --------  ---------\n",
      " 0  results/vs_1    0     1  DT    0.757    0.786   0.792  0.786  0.762  0.748      0    1.705     0.167          0\n",
      "\n",
      "352/698 - I211115 A211122\n",
      "    Dataset         T    CV  ML      Acc    b_Acc    Prec    Rec    F1    kap    ROC    tra-T    test-T    Al-Time\n",
      "--  ------------  ---  ----  ----  -----  -------  ------  -----  ----  -----  -----  -------  --------  ---------\n",
      " 0  results/vs_1    0     1  DT      0.6    0.776   0.747  0.776  0.73  0.587      0    1.758     0.197          0\n",
      "\n"
     ]
    },
    {
     "name": "stdout",
     "output_type": "stream",
     "text": [
      "353/698 - I211115 A211123\n",
      "    Dataset         T    CV  ML      Acc    b_Acc    Prec    Rec     F1    kap    ROC    tra-T    test-T    Al-Time\n",
      "--  ------------  ---  ----  ----  -----  -------  ------  -----  -----  -----  -----  -------  --------  ---------\n",
      " 0  results/vs_1    0     1  DT    0.646    0.786   0.768  0.786  0.757  0.633      0    1.741     0.224          0\n",
      "\n",
      "354/698 - I211115 A211125\n",
      "    Dataset         T    CV  ML      Acc    b_Acc    Prec    Rec     F1    kap    ROC    tra-T    test-T    Al-Time\n",
      "--  ------------  ---  ----  ----  -----  -------  ------  -----  -----  -----  -----  -------  --------  ---------\n",
      " 0  results/vs_1    0     1  DT    0.704    0.769   0.743  0.769  0.733  0.694      0    1.667     0.161          0\n",
      "\n",
      "355/698 - I211115 A211206\n",
      "    Dataset         T    CV  ML      Acc    b_Acc    Prec    Rec     F1    kap    ROC    tra-T    test-T    Al-Time\n",
      "--  ------------  ---  ----  ----  -----  -------  ------  -----  -----  -----  -----  -------  --------  ---------\n",
      " 0  results/vs_1    0     1  DT    0.456    0.499    0.52  0.499  0.453  0.439      0    1.649      0.21          0\n",
      "\n",
      "356/698 - I211115 A211208\n",
      "    Dataset         T    CV  ML      Acc    b_Acc    Prec    Rec    F1    kap    ROC    tra-T    test-T    Al-Time\n",
      "--  ------------  ---  ----  ----  -----  -------  ------  -----  ----  -----  -----  -------  --------  ---------\n",
      " 0  results/vs_1    0     1  DT     0.46    0.485   0.523  0.485  0.44  0.438      0    1.705     0.175          0\n",
      "\n",
      "357/698 - I211115 A211223\n",
      "    Dataset         T    CV  ML      Acc    b_Acc    Prec    Rec    F1    kap    ROC    tra-T    test-T    Al-Time\n",
      "--  ------------  ---  ----  ----  -----  -------  ------  -----  ----  -----  -----  -------  --------  ---------\n",
      " 0  results/vs_1    0     1  DT    0.546    0.518   0.544  0.518  0.47   0.53      0    1.793     0.148          0\n",
      "\n",
      "358/698 - I211115 A211225\n",
      "    Dataset         T    CV  ML      Acc    b_Acc    Prec    Rec    F1    kap    ROC    tra-T    test-T    Al-Time\n",
      "--  ------------  ---  ----  ----  -----  -------  ------  -----  ----  -----  -----  -------  --------  ---------\n",
      " 0  results/vs_1    0     1  DT    0.539    0.504   0.485  0.504  0.45  0.522      0    1.687     0.176          0\n",
      "\n",
      "359/698 - I211115 A211228\n",
      "    Dataset         T    CV  ML      Acc    b_Acc    Prec    Rec     F1    kap    ROC    tra-T    test-T    Al-Time\n",
      "--  ------------  ---  ----  ----  -----  -------  ------  -----  -----  -----  -----  -------  --------  ---------\n",
      " 0  results/vs_1    0     1  DT    0.487    0.494   0.444  0.494  0.419  0.468      0    1.654     0.164          0\n",
      "\n",
      "360/698 - I211115 I211108\n",
      "    Dataset         T    CV  ML      Acc    b_Acc    Prec    Rec     F1    kap    ROC    tra-T    test-T    Al-Time\n",
      "--  ------------  ---  ----  ----  -----  -------  ------  -----  -----  -----  -----  -------  --------  ---------\n",
      " 0  results/vs_1    0     1  DT    0.603     0.54   0.524   0.54  0.508  0.587      0    1.656     0.223          0\n",
      "\n",
      "361/698 - I211115 I211112\n",
      "    Dataset         T    CV  ML      Acc    b_Acc    Prec    Rec     F1    kap    ROC    tra-T    test-T    Al-Time\n",
      "--  ------------  ---  ----  ----  -----  -------  ------  -----  -----  -----  -----  -------  --------  ---------\n",
      " 0  results/vs_1    0     1  DT    0.859    0.831   0.834  0.831  0.822  0.853      0    1.705     0.236          0\n",
      "\n",
      "362/698 - I211115 I211115\n",
      "    Dataset         T    CV  ML      Acc    b_Acc    Prec    Rec     F1    kap    ROC    tra-T    test-T    Al-Time\n",
      "--  ------------  ---  ----  ----  -----  -------  ------  -----  -----  -----  -----  -------  --------  ---------\n",
      " 0  results/vs_1    0     1  DT    0.923    0.922   0.925  0.922  0.921   0.92      0    1.729     0.213          0\n",
      "\n",
      "363/698 - I211115 I211118\n",
      "    Dataset         T    CV  ML      Acc    b_Acc    Prec    Rec    F1    kap    ROC    tra-T    test-T    Al-Time\n",
      "--  ------------  ---  ----  ----  -----  -------  ------  -----  ----  -----  -----  -------  --------  ---------\n",
      " 0  results/vs_1    0     1  DT    0.761    0.791   0.784  0.791  0.77  0.752      0    1.755     0.205          0\n",
      "\n",
      "364/698 - I211115 I211119\n",
      "    Dataset         T    CV  ML      Acc    b_Acc    Prec    Rec     F1    kap    ROC    tra-T    test-T    Al-Time\n",
      "--  ------------  ---  ----  ----  -----  -------  ------  -----  -----  -----  -----  -------  --------  ---------\n",
      " 0  results/vs_1    0     1  DT     0.75    0.792   0.772  0.792  0.768  0.741      0    1.817       0.2          0\n",
      "\n",
      "365/698 - I211115 I211122\n",
      "    Dataset         T    CV  ML      Acc    b_Acc    Prec    Rec     F1    kap    ROC    tra-T    test-T    Al-Time\n",
      "--  ------------  ---  ----  ----  -----  -------  ------  -----  -----  -----  -----  -------  --------  ---------\n",
      " 0  results/vs_1    0     1  DT    0.763    0.788     0.8  0.788  0.768  0.754      0    1.632     0.211          0\n",
      "\n",
      "366/698 - I211118 A211108\n",
      "    Dataset         T    CV  ML      Acc    b_Acc    Prec    Rec     F1    kap    ROC    tra-T    test-T    Al-Time\n",
      "--  ------------  ---  ----  ----  -----  -------  ------  -----  -----  -----  -----  -------  --------  ---------\n",
      " 0  results/vs_1    0     1  DT    0.551    0.532   0.523  0.532  0.479  0.528      0    1.678     0.245          0\n",
      "\n",
      "367/698 - I211118 A211109\n",
      "    Dataset         T    CV  ML      Acc    b_Acc    Prec    Rec     F1    kap    ROC    tra-T    test-T    Al-Time\n",
      "--  ------------  ---  ----  ----  -----  -------  ------  -----  -----  -----  -----  -------  --------  ---------\n",
      " 0  results/vs_1    0     1  DT    0.539    0.512   0.539  0.512  0.475  0.521      0    1.726     0.205          0\n",
      "\n",
      "368/698 - I211118 A211115\n",
      "    Dataset         T    CV  ML      Acc    b_Acc    Prec    Rec     F1    kap    ROC    tra-T    test-T    Al-Time\n",
      "--  ------------  ---  ----  ----  -----  -------  ------  -----  -----  -----  -----  -------  --------  ---------\n",
      " 0  results/vs_1    0     1  DT    0.506    0.748   0.725  0.748  0.697   0.49      0    1.811      0.26          0\n",
      "\n",
      "369/698 - I211118 A211116\n",
      "    Dataset         T    CV  ML      Acc    b_Acc    Prec    Rec     F1    kap    ROC    tra-T    test-T    Al-Time\n",
      "--  ------------  ---  ----  ----  -----  -------  ------  -----  -----  -----  -----  -------  --------  ---------\n",
      " 0  results/vs_1    0     1  DT    0.541    0.782   0.762  0.782  0.739  0.528      0    1.729     0.238          0\n",
      "\n",
      "370/698 - I211118 A211117\n",
      "    Dataset         T    CV  ML      Acc    b_Acc    Prec    Rec     F1    kap    ROC    tra-T    test-T    Al-Time\n",
      "--  ------------  ---  ----  ----  -----  -------  ------  -----  -----  -----  -----  -------  --------  ---------\n",
      " 0  results/vs_1    0     1  DT    0.577     0.75   0.747   0.75  0.705  0.562      0    1.692     0.216          0\n",
      "\n",
      "371/698 - I211118 A211118\n",
      "    Dataset         T    CV  ML      Acc    b_Acc    Prec    Rec     F1    kap    ROC    tra-T    test-T    Al-Time\n",
      "--  ------------  ---  ----  ----  -----  -------  ------  -----  -----  -----  -----  -------  --------  ---------\n",
      " 0  results/vs_1    0     1  DT    0.892    0.881   0.894  0.881  0.884  0.887      0    1.675     0.155          0\n",
      "\n",
      "372/698 - I211118 A211122\n",
      "    Dataset         T    CV  ML      Acc    b_Acc    Prec    Rec     F1    kap    ROC    tra-T    test-T    Al-Time\n",
      "--  ------------  ---  ----  ----  -----  -------  ------  -----  -----  -----  -----  -------  --------  ---------\n",
      " 0  results/vs_1    0     1  DT    0.767    0.812   0.813  0.812  0.789  0.754      0    1.648     0.205          0\n",
      "\n",
      "373/698 - I211118 A211123\n",
      "    Dataset         T    CV  ML      Acc    b_Acc    Prec    Rec     F1    kap    ROC    tra-T    test-T    Al-Time\n",
      "--  ------------  ---  ----  ----  -----  -------  ------  -----  -----  -----  -----  -------  --------  ---------\n",
      " 0  results/vs_1    0     1  DT     0.77     0.81    0.82   0.81  0.791  0.758      0    1.695     0.191          0\n",
      "\n",
      "374/698 - I211118 A211125\n",
      "    Dataset         T    CV  ML      Acc    b_Acc    Prec    Rec     F1    kap    ROC    tra-T    test-T    Al-Time\n",
      "--  ------------  ---  ----  ----  -----  -------  ------  -----  -----  -----  -----  -------  --------  ---------\n",
      " 0  results/vs_1    0     1  DT    0.724    0.777   0.785  0.777  0.751  0.714      0    1.664      0.18          0\n",
      "\n"
     ]
    },
    {
     "name": "stdout",
     "output_type": "stream",
     "text": [
      "375/698 - I211118 A211206\n",
      "    Dataset         T    CV  ML      Acc    b_Acc    Prec    Rec     F1    kap    ROC    tra-T    test-T    Al-Time\n",
      "--  ------------  ---  ----  ----  -----  -------  ------  -----  -----  -----  -----  -------  --------  ---------\n",
      " 0  results/vs_1    0     1  DT    0.623    0.531   0.549  0.531  0.502  0.603      0    1.737     0.194          0\n",
      "\n",
      "376/698 - I211118 A211208\n",
      "    Dataset         T    CV  ML      Acc    b_Acc    Prec    Rec     F1    kap    ROC    tra-T    test-T    Al-Time\n",
      "--  ------------  ---  ----  ----  -----  -------  ------  -----  -----  -----  -----  -------  --------  ---------\n",
      " 0  results/vs_1    0     1  DT    0.655    0.539   0.551  0.539  0.496  0.628      0    1.681     0.179          0\n",
      "\n",
      "377/698 - I211118 A211223\n",
      "    Dataset         T    CV  ML      Acc    b_Acc    Prec    Rec     F1    kap    ROC    tra-T    test-T    Al-Time\n",
      "--  ------------  ---  ----  ----  -----  -------  ------  -----  -----  -----  -----  -------  --------  ---------\n",
      " 0  results/vs_1    0     1  DT    0.571    0.542   0.539  0.542  0.503  0.555      0    1.695     0.159          0\n",
      "\n",
      "378/698 - I211118 A211225\n",
      "    Dataset         T    CV  ML      Acc    b_Acc    Prec    Rec     F1    kap    ROC    tra-T    test-T    Al-Time\n",
      "--  ------------  ---  ----  ----  -----  -------  ------  -----  -----  -----  -----  -------  --------  ---------\n",
      " 0  results/vs_1    0     1  DT    0.555    0.537   0.517  0.537  0.484  0.539      0    1.755     0.196          0\n",
      "\n",
      "379/698 - I211118 A211228\n",
      "    Dataset         T    CV  ML      Acc    b_Acc    Prec    Rec     F1    kap    ROC    tra-T    test-T    Al-Time\n",
      "--  ------------  ---  ----  ----  -----  -------  ------  -----  -----  -----  -----  -------  --------  ---------\n",
      " 0  results/vs_1    0     1  DT    0.522    0.515   0.487  0.515  0.438  0.505      0    1.692     0.171          0\n",
      "\n",
      "380/698 - I211118 I211108\n",
      "    Dataset         T    CV  ML      Acc    b_Acc    Prec    Rec     F1    kap    ROC    tra-T    test-T    Al-Time\n",
      "--  ------------  ---  ----  ----  -----  -------  ------  -----  -----  -----  -----  -------  --------  ---------\n",
      " 0  results/vs_1    0     1  DT     0.63    0.562   0.579  0.562  0.531  0.615      0    1.774     0.209          0\n",
      "\n",
      "381/698 - I211118 I211112\n",
      "    Dataset         T    CV  ML      Acc    b_Acc    Prec    Rec     F1    kap    ROC    tra-T    test-T    Al-Time\n",
      "--  ------------  ---  ----  ----  -----  -------  ------  -----  -----  -----  -----  -------  --------  ---------\n",
      " 0  results/vs_1    0     1  DT    0.733    0.774   0.775  0.774  0.747  0.722      0    1.626     0.206          0\n",
      "\n",
      "382/698 - I211118 I211115\n",
      "    Dataset         T    CV  ML      Acc    b_Acc    Prec    Rec    F1    kap    ROC    tra-T    test-T    Al-Time\n",
      "--  ------------  ---  ----  ----  -----  -------  ------  -----  ----  -----  -----  -------  --------  ---------\n",
      " 0  results/vs_1    0     1  DT    0.779    0.799   0.805  0.799  0.79  0.771      0    1.638     0.203          0\n",
      "\n",
      "383/698 - I211118 I211118\n",
      "    Dataset         T    CV  ML      Acc    b_Acc    Prec    Rec    F1    kap    ROC    tra-T    test-T    Al-Time\n",
      "--  ------------  ---  ----  ----  -----  -------  ------  -----  ----  -----  -----  -------  --------  ---------\n",
      " 0  results/vs_1    0     1  DT    0.923     0.92   0.925   0.92  0.92  0.919      0    1.606     0.185          0\n",
      "\n",
      "384/698 - I211118 I211119\n",
      "    Dataset         T    CV  ML      Acc    b_Acc    Prec    Rec     F1    kap    ROC    tra-T    test-T    Al-Time\n",
      "--  ------------  ---  ----  ----  -----  -------  ------  -----  -----  -----  -----  -------  --------  ---------\n",
      " 0  results/vs_1    0     1  DT     0.87    0.838   0.864  0.838  0.841  0.864      0    1.819     0.205          0\n",
      "\n",
      "385/698 - I211118 I211122\n",
      "    Dataset         T    CV  ML      Acc    b_Acc    Prec    Rec     F1    kap    ROC    tra-T    test-T    Al-Time\n",
      "--  ------------  ---  ----  ----  -----  -------  ------  -----  -----  -----  -----  -------  --------  ---------\n",
      " 0  results/vs_1    0     1  DT     0.85    0.834    0.85  0.834  0.817  0.843      0    1.639     0.199          0\n",
      "\n",
      "386/698 - I211119 A211108\n",
      "    Dataset         T    CV  ML      Acc    b_Acc    Prec    Rec     F1    kap    ROC    tra-T    test-T    Al-Time\n",
      "--  ------------  ---  ----  ----  -----  -------  ------  -----  -----  -----  -----  -------  --------  ---------\n",
      " 0  results/vs_1    0     1  DT    0.724    0.571   0.567  0.571  0.536  0.703      0    1.626     0.204          0\n",
      "\n",
      "387/698 - I211119 A211109\n",
      "    Dataset         T    CV  ML      Acc    b_Acc    Prec    Rec    F1    kap    ROC    tra-T    test-T    Al-Time\n",
      "--  ------------  ---  ----  ----  -----  -------  ------  -----  ----  -----  -----  -------  --------  ---------\n",
      " 0  results/vs_1    0     1  DT    0.654     0.57   0.587   0.57  0.54  0.638      0    1.605     0.186          0\n",
      "\n",
      "388/698 - I211119 A211115\n",
      "    Dataset         T    CV  ML      Acc    b_Acc    Prec    Rec     F1    kap    ROC    tra-T    test-T    Al-Time\n",
      "--  ------------  ---  ----  ----  -----  -------  ------  -----  -----  -----  -----  -------  --------  ---------\n",
      " 0  results/vs_1    0     1  DT    0.619     0.79   0.763   0.79  0.748  0.604      0    1.664     0.242          0\n",
      "\n",
      "389/698 - I211119 A211116\n",
      "    Dataset         T    CV  ML      Acc    b_Acc    Prec    Rec     F1    kap    ROC    tra-T    test-T    Al-Time\n",
      "--  ------------  ---  ----  ----  -----  -------  ------  -----  -----  -----  -----  -------  --------  ---------\n",
      " 0  results/vs_1    0     1  DT    0.728    0.804   0.791  0.804  0.778  0.712      0    1.623     0.199          0\n",
      "\n",
      "390/698 - I211119 A211117\n",
      "    Dataset         T    CV  ML      Acc    b_Acc    Prec    Rec     F1    kap    ROC    tra-T    test-T    Al-Time\n",
      "--  ------------  ---  ----  ----  -----  -------  ------  -----  -----  -----  -----  -------  --------  ---------\n",
      " 0  results/vs_1    0     1  DT    0.783    0.811   0.786  0.811  0.784  0.772      0    1.595     0.205          0\n",
      "\n",
      "391/698 - I211119 A211118\n",
      "    Dataset         T    CV  ML      Acc    b_Acc    Prec    Rec     F1    kap    ROC    tra-T    test-T    Al-Time\n",
      "--  ------------  ---  ----  ----  -----  -------  ------  -----  -----  -----  -----  -------  --------  ---------\n",
      " 0  results/vs_1    0     1  DT    0.877    0.837   0.878  0.837  0.841  0.872      0    1.569      0.18          0\n",
      "\n",
      "392/698 - I211119 A211122\n",
      "    Dataset         T    CV  ML      Acc    b_Acc    Prec    Rec     F1    kap    ROC    tra-T    test-T    Al-Time\n",
      "--  ------------  ---  ----  ----  -----  -------  ------  -----  -----  -----  -----  -------  --------  ---------\n",
      " 0  results/vs_1    0     1  DT    0.887    0.836   0.837  0.836  0.823  0.878      0    1.725     0.199          0\n",
      "\n",
      "393/698 - I211119 A211123\n",
      "    Dataset         T    CV  ML      Acc    b_Acc    Prec    Rec     F1    kap    ROC    tra-T    test-T    Al-Time\n",
      "--  ------------  ---  ----  ----  -----  -------  ------  -----  -----  -----  -----  -------  --------  ---------\n",
      " 0  results/vs_1    0     1  DT    0.899    0.841   0.849  0.841  0.838  0.892      0    1.664     0.198          0\n",
      "\n",
      "394/698 - I211119 A211125\n",
      "    Dataset         T    CV  ML      Acc    b_Acc    Prec    Rec    F1    kap    ROC    tra-T    test-T    Al-Time\n",
      "--  ------------  ---  ----  ----  -----  -------  ------  -----  ----  -----  -----  -------  --------  ---------\n",
      " 0  results/vs_1    0     1  DT    0.835    0.809   0.818  0.809   0.8  0.828      0    1.645      0.19          0\n",
      "\n",
      "395/698 - I211119 A211206\n",
      "    Dataset         T    CV  ML      Acc    b_Acc    Prec    Rec     F1    kap    ROC    tra-T    test-T    Al-Time\n",
      "--  ------------  ---  ----  ----  -----  -------  ------  -----  -----  -----  -----  -------  --------  ---------\n",
      " 0  results/vs_1    0     1  DT    0.701    0.555   0.601  0.555  0.542  0.684      0    1.688     0.199          0\n",
      "\n",
      "396/698 - I211119 A211208\n",
      "    Dataset         T    CV  ML      Acc    b_Acc    Prec    Rec     F1    kap    ROC    tra-T    test-T    Al-Time\n",
      "--  ------------  ---  ----  ----  -----  -------  ------  -----  -----  -----  -----  -------  --------  ---------\n",
      " 0  results/vs_1    0     1  DT    0.774    0.574   0.558  0.574  0.535  0.755      0     1.66     0.174          0\n",
      "\n"
     ]
    },
    {
     "name": "stdout",
     "output_type": "stream",
     "text": [
      "397/698 - I211119 A211223\n",
      "    Dataset         T    CV  ML      Acc    b_Acc    Prec    Rec     F1    kap    ROC    tra-T    test-T    Al-Time\n",
      "--  ------------  ---  ----  ----  -----  -------  ------  -----  -----  -----  -----  -------  --------  ---------\n",
      " 0  results/vs_1    0     1  DT    0.599    0.556   0.539  0.556  0.513  0.584      0    1.664      0.16          0\n",
      "\n",
      "398/698 - I211119 A211225\n",
      "    Dataset         T    CV  ML      Acc    b_Acc    Prec    Rec     F1    kap    ROC    tra-T    test-T    Al-Time\n",
      "--  ------------  ---  ----  ----  -----  -------  ------  -----  -----  -----  -----  -------  --------  ---------\n",
      " 0  results/vs_1    0     1  DT    0.616    0.563   0.534  0.563  0.512  0.601      0    1.801     0.161          0\n",
      "\n",
      "399/698 - I211119 A211228\n",
      "    Dataset         T    CV  ML      Acc    b_Acc    Prec    Rec     F1    kap    ROC    tra-T    test-T    Al-Time\n",
      "--  ------------  ---  ----  ----  -----  -------  ------  -----  -----  -----  -----  -------  --------  ---------\n",
      " 0  results/vs_1    0     1  DT    0.597    0.546   0.504  0.546  0.479  0.581      0    1.588     0.178          0\n",
      "\n",
      "400/698 - I211119 I211108\n",
      "    Dataset         T    CV  ML      Acc    b_Acc    Prec    Rec     F1    kap    ROC    tra-T    test-T    Al-Time\n",
      "--  ------------  ---  ----  ----  -----  -------  ------  -----  -----  -----  -----  -------  --------  ---------\n",
      " 0  results/vs_1    0     1  DT    0.668    0.592   0.602  0.592  0.566  0.654      0    1.587     0.205          0\n",
      "\n",
      "401/698 - I211119 I211112\n",
      "    Dataset         T    CV  ML      Acc    b_Acc    Prec    Rec     F1    kap    ROC    tra-T    test-T    Al-Time\n",
      "--  ------------  ---  ----  ----  -----  -------  ------  -----  -----  -----  -----  -------  --------  ---------\n",
      " 0  results/vs_1    0     1  DT    0.755    0.779   0.772  0.779  0.762  0.744      0    1.604     0.208          0\n",
      "\n",
      "402/698 - I211119 I211115\n",
      "    Dataset         T    CV  ML      Acc    b_Acc    Prec    Rec     F1    kap    ROC    tra-T    test-T    Al-Time\n",
      "--  ------------  ---  ----  ----  -----  -------  ------  -----  -----  -----  -----  -------  --------  ---------\n",
      " 0  results/vs_1    0     1  DT     0.78    0.803   0.794  0.803  0.787  0.772      0    1.527     0.202          0\n",
      "\n",
      "403/698 - I211119 I211118\n",
      "    Dataset         T    CV  ML      Acc    b_Acc    Prec    Rec     F1    kap    ROC    tra-T    test-T    Al-Time\n",
      "--  ------------  ---  ----  ----  -----  -------  ------  -----  -----  -----  -----  -------  --------  ---------\n",
      " 0  results/vs_1    0     1  DT    0.881    0.854   0.876  0.854  0.856  0.876      0    1.671      0.21          0\n",
      "\n",
      "404/698 - I211119 I211119\n",
      "    Dataset         T    CV  ML      Acc    b_Acc    Prec    Rec     F1    kap    ROC    tra-T    test-T    Al-Time\n",
      "--  ------------  ---  ----  ----  -----  -------  ------  -----  -----  -----  -----  -------  --------  ---------\n",
      " 0  results/vs_1    0     1  DT     0.92     0.92   0.922   0.92  0.919  0.916      0    1.599     0.187          0\n",
      "\n",
      "405/698 - I211119 I211122\n",
      "    Dataset         T    CV  ML      Acc    b_Acc    Prec    Rec     F1    kap    ROC    tra-T    test-T    Al-Time\n",
      "--  ------------  ---  ----  ----  -----  -------  ------  -----  -----  -----  -----  -------  --------  ---------\n",
      " 0  results/vs_1    0     1  DT    0.881    0.847   0.863  0.847  0.841  0.876      0    1.753     0.215          0\n",
      "\n",
      "406/698 - I211122 A211108\n",
      "    Dataset         T    CV  ML      Acc    b_Acc    Prec    Rec     F1    kap    ROC    tra-T    test-T    Al-Time\n",
      "--  ------------  ---  ----  ----  -----  -------  ------  -----  -----  -----  -----  -------  --------  ---------\n",
      " 0  results/vs_1    0     1  DT    0.583    0.549   0.543  0.549  0.499  0.562      0    1.564     0.234          0\n",
      "\n",
      "407/698 - I211122 A211109\n",
      "    Dataset         T    CV  ML      Acc    b_Acc    Prec    Rec     F1    kap    ROC    tra-T    test-T    Al-Time\n",
      "--  ------------  ---  ----  ----  -----  -------  ------  -----  -----  -----  -----  -------  --------  ---------\n",
      " 0  results/vs_1    0     1  DT    0.571    0.534   0.556  0.534  0.504  0.555      0    1.507     0.179          0\n",
      "\n",
      "408/698 - I211122 A211115\n",
      "    Dataset         T    CV  ML      Acc    b_Acc    Prec    Rec     F1    kap    ROC    tra-T    test-T    Al-Time\n",
      "--  ------------  ---  ----  ----  -----  -------  ------  -----  -----  -----  -----  -------  --------  ---------\n",
      " 0  results/vs_1    0     1  DT    0.529    0.767   0.747  0.767  0.726  0.514      0     1.53     0.234          0\n",
      "\n",
      "409/698 - I211122 A211116\n",
      "    Dataset         T    CV  ML      Acc    b_Acc    Prec    Rec     F1    kap    ROC    tra-T    test-T    Al-Time\n",
      "--  ------------  ---  ----  ----  -----  -------  ------  -----  -----  -----  -----  -------  --------  ---------\n",
      " 0  results/vs_1    0     1  DT    0.548     0.78   0.792   0.78  0.758  0.536      0    1.519     0.235          0\n",
      "\n",
      "410/698 - I211122 A211117\n",
      "    Dataset         T    CV  ML      Acc    b_Acc    Prec    Rec     F1    kap    ROC    tra-T    test-T    Al-Time\n",
      "--  ------------  ---  ----  ----  -----  -------  ------  -----  -----  -----  -----  -------  --------  ---------\n",
      " 0  results/vs_1    0     1  DT    0.608    0.776   0.781  0.776  0.748  0.594      0    1.512     0.192          0\n",
      "\n",
      "411/698 - I211122 A211118\n",
      "    Dataset         T    CV  ML      Acc    b_Acc    Prec    Rec     F1    kap    ROC    tra-T    test-T    Al-Time\n",
      "--  ------------  ---  ----  ----  -----  -------  ------  -----  -----  -----  -----  -------  --------  ---------\n",
      " 0  results/vs_1    0     1  DT    0.869    0.829   0.864  0.829  0.836  0.864      0    1.514     0.155          0\n",
      "\n",
      "412/698 - I211122 A211122\n",
      "    Dataset         T    CV  ML      Acc    b_Acc    Prec    Rec     F1    kap    ROC    tra-T    test-T    Al-Time\n",
      "--  ------------  ---  ----  ----  -----  -------  ------  -----  -----  -----  -----  -------  --------  ---------\n",
      " 0  results/vs_1    0     1  DT    0.781    0.834    0.85  0.834  0.817  0.769      0    1.585     0.219          0\n",
      "\n",
      "413/698 - I211122 A211123\n",
      "    Dataset         T    CV  ML      Acc    b_Acc    Prec    Rec     F1    kap    ROC    tra-T    test-T    Al-Time\n",
      "--  ------------  ---  ----  ----  -----  -------  ------  -----  -----  -----  -----  -------  --------  ---------\n",
      " 0  results/vs_1    0     1  DT     0.79    0.828   0.856  0.828  0.822   0.78      0    1.797     0.203          0\n",
      "\n",
      "414/698 - I211122 A211125\n",
      "    Dataset         T    CV  ML      Acc    b_Acc    Prec    Rec    F1    kap    ROC    tra-T    test-T    Al-Time\n",
      "--  ------------  ---  ----  ----  -----  -------  ------  -----  ----  -----  -----  -------  --------  ---------\n",
      " 0  results/vs_1    0     1  DT    0.762    0.793   0.803  0.793  0.78  0.754      0    1.657     0.174          0\n",
      "\n",
      "415/698 - I211122 A211206\n",
      "    Dataset         T    CV  ML      Acc    b_Acc    Prec    Rec     F1    kap    ROC    tra-T    test-T    Al-Time\n",
      "--  ------------  ---  ----  ----  -----  -------  ------  -----  -----  -----  -----  -------  --------  ---------\n",
      " 0  results/vs_1    0     1  DT    0.631    0.533   0.552  0.533  0.506  0.611      0    1.577     0.206          0\n",
      "\n",
      "416/698 - I211122 A211208\n",
      "    Dataset         T    CV  ML      Acc    b_Acc    Prec    Rec     F1    kap    ROC    tra-T    test-T    Al-Time\n",
      "--  ------------  ---  ----  ----  -----  -------  ------  -----  -----  -----  -----  -------  --------  ---------\n",
      " 0  results/vs_1    0     1  DT    0.695     0.53   0.551   0.53  0.501   0.67      0     1.64     0.189          0\n",
      "\n",
      "417/698 - I211122 A211223\n",
      "    Dataset         T    CV  ML      Acc    b_Acc    Prec    Rec     F1    kap    ROC    tra-T    test-T    Al-Time\n",
      "--  ------------  ---  ----  ----  -----  -------  ------  -----  -----  -----  -----  -------  --------  ---------\n",
      " 0  results/vs_1    0     1  DT    0.599    0.559   0.546  0.559  0.524  0.584      0    1.567     0.144          0\n",
      "\n",
      "418/698 - I211122 A211225\n",
      "    Dataset         T    CV  ML      Acc    b_Acc    Prec    Rec     F1    kap    ROC    tra-T    test-T    Al-Time\n",
      "--  ------------  ---  ----  ----  -----  -------  ------  -----  -----  -----  -----  -------  --------  ---------\n",
      " 0  results/vs_1    0     1  DT    0.558    0.525   0.507  0.525  0.464  0.543      0    1.608     0.183          0\n",
      "\n"
     ]
    },
    {
     "name": "stdout",
     "output_type": "stream",
     "text": [
      "419/698 - I211122 A211228\n",
      "    Dataset         T    CV  ML      Acc    b_Acc    Prec    Rec     F1    kap    ROC    tra-T    test-T    Al-Time\n",
      "--  ------------  ---  ----  ----  -----  -------  ------  -----  -----  -----  -----  -------  --------  ---------\n",
      " 0  results/vs_1    0     1  DT    0.554    0.535   0.512  0.535  0.465  0.538      0    1.676     0.194          0\n",
      "\n",
      "420/698 - I211122 I211108\n",
      "    Dataset         T    CV  ML      Acc    b_Acc    Prec    Rec     F1    kap    ROC    tra-T    test-T    Al-Time\n",
      "--  ------------  ---  ----  ----  -----  -------  ------  -----  -----  -----  -----  -------  --------  ---------\n",
      " 0  results/vs_1    0     1  DT    0.661    0.584   0.596  0.584  0.567  0.647      0    1.684     0.226          0\n",
      "\n",
      "421/698 - I211122 I211112\n",
      "    Dataset         T    CV  ML      Acc    b_Acc    Prec    Rec     F1    kap    ROC    tra-T    test-T    Al-Time\n",
      "--  ------------  ---  ----  ----  -----  -------  ------  -----  -----  -----  -----  -------  --------  ---------\n",
      " 0  results/vs_1    0     1  DT    0.758     0.78   0.806   0.78  0.772  0.747      0     1.36     0.258          0\n",
      "\n",
      "422/698 - I211122 I211115\n",
      "    Dataset         T    CV  ML      Acc    b_Acc    Prec    Rec     F1    kap    ROC    tra-T    test-T    Al-Time\n",
      "--  ------------  ---  ----  ----  -----  -------  ------  -----  -----  -----  -----  -------  --------  ---------\n",
      " 0  results/vs_1    0     1  DT    0.779    0.795   0.805  0.795  0.787   0.77      0    1.558     0.203          0\n",
      "\n",
      "423/698 - I211122 I211118\n",
      "    Dataset         T    CV  ML      Acc    b_Acc    Prec    Rec     F1    kap    ROC    tra-T    test-T    Al-Time\n",
      "--  ------------  ---  ----  ----  -----  -------  ------  -----  -----  -----  -----  -------  --------  ---------\n",
      " 0  results/vs_1    0     1  DT    0.873    0.841   0.868  0.841  0.841  0.867      0    1.591     0.188          0\n",
      "\n",
      "424/698 - I211122 I211119\n",
      "    Dataset         T    CV  ML      Acc    b_Acc    Prec    Rec    F1    kap    ROC    tra-T    test-T    Al-Time\n",
      "--  ------------  ---  ----  ----  -----  -------  ------  -----  ----  -----  -----  -------  --------  ---------\n",
      " 0  results/vs_1    0     1  DT     0.87    0.844   0.869  0.844  0.85  0.864      0    1.668     0.216          0\n",
      "\n",
      "425/698 - I211122 I211122\n",
      "    Dataset         T    CV  ML      Acc    b_Acc    Prec    Rec     F1    kap    ROC    tra-T    test-T    Al-Time\n",
      "--  ------------  ---  ----  ----  -----  -------  ------  -----  -----  -----  -----  -------  --------  ---------\n",
      " 0  results/vs_1    0     1  DT    0.926    0.921   0.922  0.921  0.919  0.923      0    1.667     0.198          0\n",
      "\n"
     ]
    },
    {
     "data": {
      "text/plain": [
       "<Figure size 4000x2800 with 0 Axes>"
      ]
     },
     "metadata": {},
     "output_type": "display_data"
    },
    {
     "data": {
      "text/plain": [
       "<Figure size 4000x2800 with 0 Axes>"
      ]
     },
     "metadata": {},
     "output_type": "display_data"
    },
    {
     "data": {
      "text/plain": [
       "<Figure size 4000x2800 with 0 Axes>"
      ]
     },
     "metadata": {},
     "output_type": "display_data"
    },
    {
     "data": {
      "text/plain": [
       "<Figure size 4000x2800 with 0 Axes>"
      ]
     },
     "metadata": {},
     "output_type": "display_data"
    },
    {
     "data": {
      "text/plain": [
       "<Figure size 4000x2800 with 0 Axes>"
      ]
     },
     "metadata": {},
     "output_type": "display_data"
    },
    {
     "data": {
      "text/plain": [
       "<Figure size 4000x2800 with 0 Axes>"
      ]
     },
     "metadata": {},
     "output_type": "display_data"
    },
    {
     "data": {
      "text/plain": [
       "<Figure size 4000x2800 with 0 Axes>"
      ]
     },
     "metadata": {},
     "output_type": "display_data"
    },
    {
     "data": {
      "text/plain": [
       "<Figure size 4000x2800 with 0 Axes>"
      ]
     },
     "metadata": {},
     "output_type": "display_data"
    },
    {
     "data": {
      "text/plain": [
       "<Figure size 4000x2800 with 0 Axes>"
      ]
     },
     "metadata": {},
     "output_type": "display_data"
    },
    {
     "data": {
      "text/plain": [
       "<Figure size 4000x2800 with 0 Axes>"
      ]
     },
     "metadata": {},
     "output_type": "display_data"
    },
    {
     "data": {
      "text/plain": [
       "<Figure size 4000x2800 with 0 Axes>"
      ]
     },
     "metadata": {},
     "output_type": "display_data"
    },
    {
     "data": {
      "text/plain": [
       "<Figure size 4000x2800 with 0 Axes>"
      ]
     },
     "metadata": {},
     "output_type": "display_data"
    },
    {
     "data": {
      "text/plain": [
       "<Figure size 4000x2800 with 0 Axes>"
      ]
     },
     "metadata": {},
     "output_type": "display_data"
    },
    {
     "data": {
      "text/plain": [
       "<Figure size 4000x2800 with 0 Axes>"
      ]
     },
     "metadata": {},
     "output_type": "display_data"
    },
    {
     "data": {
      "text/plain": [
       "<Figure size 4000x2800 with 0 Axes>"
      ]
     },
     "metadata": {},
     "output_type": "display_data"
    },
    {
     "data": {
      "text/plain": [
       "<Figure size 4000x2800 with 0 Axes>"
      ]
     },
     "metadata": {},
     "output_type": "display_data"
    },
    {
     "data": {
      "text/plain": [
       "<Figure size 4000x2800 with 0 Axes>"
      ]
     },
     "metadata": {},
     "output_type": "display_data"
    },
    {
     "data": {
      "text/plain": [
       "<Figure size 4000x2800 with 0 Axes>"
      ]
     },
     "metadata": {},
     "output_type": "display_data"
    },
    {
     "data": {
      "text/plain": [
       "<Figure size 4000x2800 with 0 Axes>"
      ]
     },
     "metadata": {},
     "output_type": "display_data"
    },
    {
     "data": {
      "text/plain": [
       "<Figure size 4000x2800 with 0 Axes>"
      ]
     },
     "metadata": {},
     "output_type": "display_data"
    },
    {
     "data": {
      "text/plain": [
       "<Figure size 4000x2800 with 0 Axes>"
      ]
     },
     "metadata": {},
     "output_type": "display_data"
    },
    {
     "data": {
      "text/plain": [
       "<Figure size 4000x2800 with 0 Axes>"
      ]
     },
     "metadata": {},
     "output_type": "display_data"
    },
    {
     "data": {
      "text/plain": [
       "<Figure size 4000x2800 with 0 Axes>"
      ]
     },
     "metadata": {},
     "output_type": "display_data"
    },
    {
     "data": {
      "text/plain": [
       "<Figure size 4000x2800 with 0 Axes>"
      ]
     },
     "metadata": {},
     "output_type": "display_data"
    },
    {
     "data": {
      "text/plain": [
       "<Figure size 4000x2800 with 0 Axes>"
      ]
     },
     "metadata": {},
     "output_type": "display_data"
    },
    {
     "data": {
      "text/plain": [
       "<Figure size 4000x2800 with 0 Axes>"
      ]
     },
     "metadata": {},
     "output_type": "display_data"
    },
    {
     "data": {
      "text/plain": [
       "<Figure size 4000x2800 with 0 Axes>"
      ]
     },
     "metadata": {},
     "output_type": "display_data"
    },
    {
     "data": {
      "text/plain": [
       "<Figure size 4000x2800 with 0 Axes>"
      ]
     },
     "metadata": {},
     "output_type": "display_data"
    },
    {
     "data": {
      "text/plain": [
       "<Figure size 4000x2800 with 0 Axes>"
      ]
     },
     "metadata": {},
     "output_type": "display_data"
    },
    {
     "data": {
      "text/plain": [
       "<Figure size 4000x2800 with 0 Axes>"
      ]
     },
     "metadata": {},
     "output_type": "display_data"
    },
    {
     "data": {
      "text/plain": [
       "<Figure size 4000x2800 with 0 Axes>"
      ]
     },
     "metadata": {},
     "output_type": "display_data"
    },
    {
     "data": {
      "text/plain": [
       "<Figure size 4000x2800 with 0 Axes>"
      ]
     },
     "metadata": {},
     "output_type": "display_data"
    },
    {
     "data": {
      "text/plain": [
       "<Figure size 4000x2800 with 0 Axes>"
      ]
     },
     "metadata": {},
     "output_type": "display_data"
    },
    {
     "data": {
      "text/plain": [
       "<Figure size 4000x2800 with 0 Axes>"
      ]
     },
     "metadata": {},
     "output_type": "display_data"
    },
    {
     "data": {
      "text/plain": [
       "<Figure size 4000x2800 with 0 Axes>"
      ]
     },
     "metadata": {},
     "output_type": "display_data"
    },
    {
     "data": {
      "text/plain": [
       "<Figure size 4000x2800 with 0 Axes>"
      ]
     },
     "metadata": {},
     "output_type": "display_data"
    },
    {
     "data": {
      "text/plain": [
       "<Figure size 4000x2800 with 0 Axes>"
      ]
     },
     "metadata": {},
     "output_type": "display_data"
    },
    {
     "data": {
      "text/plain": [
       "<Figure size 4000x2800 with 0 Axes>"
      ]
     },
     "metadata": {},
     "output_type": "display_data"
    },
    {
     "data": {
      "text/plain": [
       "<Figure size 4000x2800 with 0 Axes>"
      ]
     },
     "metadata": {},
     "output_type": "display_data"
    },
    {
     "data": {
      "text/plain": [
       "<Figure size 4000x2800 with 0 Axes>"
      ]
     },
     "metadata": {},
     "output_type": "display_data"
    },
    {
     "data": {
      "text/plain": [
       "<Figure size 4000x2800 with 0 Axes>"
      ]
     },
     "metadata": {},
     "output_type": "display_data"
    },
    {
     "data": {
      "text/plain": [
       "<Figure size 4000x2800 with 0 Axes>"
      ]
     },
     "metadata": {},
     "output_type": "display_data"
    },
    {
     "data": {
      "text/plain": [
       "<Figure size 4000x2800 with 0 Axes>"
      ]
     },
     "metadata": {},
     "output_type": "display_data"
    },
    {
     "data": {
      "text/plain": [
       "<Figure size 4000x2800 with 0 Axes>"
      ]
     },
     "metadata": {},
     "output_type": "display_data"
    },
    {
     "data": {
      "text/plain": [
       "<Figure size 4000x2800 with 0 Axes>"
      ]
     },
     "metadata": {},
     "output_type": "display_data"
    },
    {
     "data": {
      "text/plain": [
       "<Figure size 4000x2800 with 0 Axes>"
      ]
     },
     "metadata": {},
     "output_type": "display_data"
    },
    {
     "data": {
      "text/plain": [
       "<Figure size 4000x2800 with 0 Axes>"
      ]
     },
     "metadata": {},
     "output_type": "display_data"
    },
    {
     "data": {
      "text/plain": [
       "<Figure size 4000x2800 with 0 Axes>"
      ]
     },
     "metadata": {},
     "output_type": "display_data"
    },
    {
     "data": {
      "text/plain": [
       "<Figure size 4000x2800 with 0 Axes>"
      ]
     },
     "metadata": {},
     "output_type": "display_data"
    },
    {
     "data": {
      "text/plain": [
       "<Figure size 4000x2800 with 0 Axes>"
      ]
     },
     "metadata": {},
     "output_type": "display_data"
    },
    {
     "data": {
      "text/plain": [
       "<Figure size 4000x2800 with 0 Axes>"
      ]
     },
     "metadata": {},
     "output_type": "display_data"
    },
    {
     "data": {
      "text/plain": [
       "<Figure size 4000x2800 with 0 Axes>"
      ]
     },
     "metadata": {},
     "output_type": "display_data"
    },
    {
     "data": {
      "text/plain": [
       "<Figure size 4000x2800 with 0 Axes>"
      ]
     },
     "metadata": {},
     "output_type": "display_data"
    },
    {
     "data": {
      "text/plain": [
       "<Figure size 4000x2800 with 0 Axes>"
      ]
     },
     "metadata": {},
     "output_type": "display_data"
    },
    {
     "data": {
      "text/plain": [
       "<Figure size 4000x2800 with 0 Axes>"
      ]
     },
     "metadata": {},
     "output_type": "display_data"
    },
    {
     "data": {
      "text/plain": [
       "<Figure size 4000x2800 with 0 Axes>"
      ]
     },
     "metadata": {},
     "output_type": "display_data"
    },
    {
     "data": {
      "text/plain": [
       "<Figure size 4000x2800 with 0 Axes>"
      ]
     },
     "metadata": {},
     "output_type": "display_data"
    },
    {
     "data": {
      "text/plain": [
       "<Figure size 4000x2800 with 0 Axes>"
      ]
     },
     "metadata": {},
     "output_type": "display_data"
    },
    {
     "data": {
      "text/plain": [
       "<Figure size 4000x2800 with 0 Axes>"
      ]
     },
     "metadata": {},
     "output_type": "display_data"
    },
    {
     "data": {
      "text/plain": [
       "<Figure size 4000x2800 with 0 Axes>"
      ]
     },
     "metadata": {},
     "output_type": "display_data"
    },
    {
     "data": {
      "text/plain": [
       "<Figure size 4000x2800 with 0 Axes>"
      ]
     },
     "metadata": {},
     "output_type": "display_data"
    },
    {
     "data": {
      "text/plain": [
       "<Figure size 4000x2800 with 0 Axes>"
      ]
     },
     "metadata": {},
     "output_type": "display_data"
    },
    {
     "data": {
      "text/plain": [
       "<Figure size 4000x2800 with 0 Axes>"
      ]
     },
     "metadata": {},
     "output_type": "display_data"
    },
    {
     "data": {
      "text/plain": [
       "<Figure size 4000x2800 with 0 Axes>"
      ]
     },
     "metadata": {},
     "output_type": "display_data"
    },
    {
     "data": {
      "text/plain": [
       "<Figure size 4000x2800 with 0 Axes>"
      ]
     },
     "metadata": {},
     "output_type": "display_data"
    },
    {
     "data": {
      "text/plain": [
       "<Figure size 4000x2800 with 0 Axes>"
      ]
     },
     "metadata": {},
     "output_type": "display_data"
    },
    {
     "data": {
      "text/plain": [
       "<Figure size 4000x2800 with 0 Axes>"
      ]
     },
     "metadata": {},
     "output_type": "display_data"
    },
    {
     "data": {
      "text/plain": [
       "<Figure size 4000x2800 with 0 Axes>"
      ]
     },
     "metadata": {},
     "output_type": "display_data"
    },
    {
     "data": {
      "text/plain": [
       "<Figure size 4000x2800 with 0 Axes>"
      ]
     },
     "metadata": {},
     "output_type": "display_data"
    },
    {
     "data": {
      "text/plain": [
       "<Figure size 4000x2800 with 0 Axes>"
      ]
     },
     "metadata": {},
     "output_type": "display_data"
    },
    {
     "data": {
      "text/plain": [
       "<Figure size 4000x2800 with 0 Axes>"
      ]
     },
     "metadata": {},
     "output_type": "display_data"
    },
    {
     "data": {
      "text/plain": [
       "<Figure size 4000x2800 with 0 Axes>"
      ]
     },
     "metadata": {},
     "output_type": "display_data"
    },
    {
     "data": {
      "text/plain": [
       "<Figure size 4000x2800 with 0 Axes>"
      ]
     },
     "metadata": {},
     "output_type": "display_data"
    },
    {
     "data": {
      "text/plain": [
       "<Figure size 4000x2800 with 0 Axes>"
      ]
     },
     "metadata": {},
     "output_type": "display_data"
    },
    {
     "data": {
      "text/plain": [
       "<Figure size 4000x2800 with 0 Axes>"
      ]
     },
     "metadata": {},
     "output_type": "display_data"
    },
    {
     "data": {
      "text/plain": [
       "<Figure size 4000x2800 with 0 Axes>"
      ]
     },
     "metadata": {},
     "output_type": "display_data"
    },
    {
     "data": {
      "text/plain": [
       "<Figure size 4000x2800 with 0 Axes>"
      ]
     },
     "metadata": {},
     "output_type": "display_data"
    },
    {
     "data": {
      "text/plain": [
       "<Figure size 4000x2800 with 0 Axes>"
      ]
     },
     "metadata": {},
     "output_type": "display_data"
    },
    {
     "data": {
      "text/plain": [
       "<Figure size 4000x2800 with 0 Axes>"
      ]
     },
     "metadata": {},
     "output_type": "display_data"
    },
    {
     "data": {
      "text/plain": [
       "<Figure size 4000x2800 with 0 Axes>"
      ]
     },
     "metadata": {},
     "output_type": "display_data"
    },
    {
     "data": {
      "text/plain": [
       "<Figure size 4000x2800 with 0 Axes>"
      ]
     },
     "metadata": {},
     "output_type": "display_data"
    },
    {
     "data": {
      "text/plain": [
       "<Figure size 4000x2800 with 0 Axes>"
      ]
     },
     "metadata": {},
     "output_type": "display_data"
    },
    {
     "data": {
      "text/plain": [
       "<Figure size 4000x2800 with 0 Axes>"
      ]
     },
     "metadata": {},
     "output_type": "display_data"
    },
    {
     "data": {
      "text/plain": [
       "<Figure size 4000x2800 with 0 Axes>"
      ]
     },
     "metadata": {},
     "output_type": "display_data"
    },
    {
     "data": {
      "text/plain": [
       "<Figure size 4000x2800 with 0 Axes>"
      ]
     },
     "metadata": {},
     "output_type": "display_data"
    },
    {
     "data": {
      "text/plain": [
       "<Figure size 4000x2800 with 0 Axes>"
      ]
     },
     "metadata": {},
     "output_type": "display_data"
    },
    {
     "data": {
      "text/plain": [
       "<Figure size 4000x2800 with 0 Axes>"
      ]
     },
     "metadata": {},
     "output_type": "display_data"
    },
    {
     "data": {
      "text/plain": [
       "<Figure size 4000x2800 with 0 Axes>"
      ]
     },
     "metadata": {},
     "output_type": "display_data"
    },
    {
     "data": {
      "text/plain": [
       "<Figure size 4000x2800 with 0 Axes>"
      ]
     },
     "metadata": {},
     "output_type": "display_data"
    },
    {
     "data": {
      "text/plain": [
       "<Figure size 4000x2800 with 0 Axes>"
      ]
     },
     "metadata": {},
     "output_type": "display_data"
    },
    {
     "data": {
      "text/plain": [
       "<Figure size 4000x2800 with 0 Axes>"
      ]
     },
     "metadata": {},
     "output_type": "display_data"
    },
    {
     "data": {
      "text/plain": [
       "<Figure size 4000x2800 with 0 Axes>"
      ]
     },
     "metadata": {},
     "output_type": "display_data"
    },
    {
     "data": {
      "text/plain": [
       "<Figure size 4000x2800 with 0 Axes>"
      ]
     },
     "metadata": {},
     "output_type": "display_data"
    },
    {
     "data": {
      "text/plain": [
       "<Figure size 4000x2800 with 0 Axes>"
      ]
     },
     "metadata": {},
     "output_type": "display_data"
    },
    {
     "data": {
      "text/plain": [
       "<Figure size 4000x2800 with 0 Axes>"
      ]
     },
     "metadata": {},
     "output_type": "display_data"
    },
    {
     "data": {
      "text/plain": [
       "<Figure size 4000x2800 with 0 Axes>"
      ]
     },
     "metadata": {},
     "output_type": "display_data"
    },
    {
     "data": {
      "text/plain": [
       "<Figure size 4000x2800 with 0 Axes>"
      ]
     },
     "metadata": {},
     "output_type": "display_data"
    },
    {
     "data": {
      "text/plain": [
       "<Figure size 4000x2800 with 0 Axes>"
      ]
     },
     "metadata": {},
     "output_type": "display_data"
    },
    {
     "data": {
      "text/plain": [
       "<Figure size 4000x2800 with 0 Axes>"
      ]
     },
     "metadata": {},
     "output_type": "display_data"
    },
    {
     "data": {
      "text/plain": [
       "<Figure size 4000x2800 with 0 Axes>"
      ]
     },
     "metadata": {},
     "output_type": "display_data"
    },
    {
     "data": {
      "text/plain": [
       "<Figure size 4000x2800 with 0 Axes>"
      ]
     },
     "metadata": {},
     "output_type": "display_data"
    },
    {
     "data": {
      "text/plain": [
       "<Figure size 4000x2800 with 0 Axes>"
      ]
     },
     "metadata": {},
     "output_type": "display_data"
    },
    {
     "data": {
      "text/plain": [
       "<Figure size 4000x2800 with 0 Axes>"
      ]
     },
     "metadata": {},
     "output_type": "display_data"
    },
    {
     "data": {
      "text/plain": [
       "<Figure size 4000x2800 with 0 Axes>"
      ]
     },
     "metadata": {},
     "output_type": "display_data"
    },
    {
     "data": {
      "text/plain": [
       "<Figure size 4000x2800 with 0 Axes>"
      ]
     },
     "metadata": {},
     "output_type": "display_data"
    },
    {
     "data": {
      "text/plain": [
       "<Figure size 4000x2800 with 0 Axes>"
      ]
     },
     "metadata": {},
     "output_type": "display_data"
    },
    {
     "data": {
      "text/plain": [
       "<Figure size 4000x2800 with 0 Axes>"
      ]
     },
     "metadata": {},
     "output_type": "display_data"
    },
    {
     "data": {
      "text/plain": [
       "<Figure size 4000x2800 with 0 Axes>"
      ]
     },
     "metadata": {},
     "output_type": "display_data"
    },
    {
     "data": {
      "text/plain": [
       "<Figure size 4000x2800 with 0 Axes>"
      ]
     },
     "metadata": {},
     "output_type": "display_data"
    },
    {
     "data": {
      "text/plain": [
       "<Figure size 4000x2800 with 0 Axes>"
      ]
     },
     "metadata": {},
     "output_type": "display_data"
    },
    {
     "data": {
      "text/plain": [
       "<Figure size 4000x2800 with 0 Axes>"
      ]
     },
     "metadata": {},
     "output_type": "display_data"
    },
    {
     "data": {
      "text/plain": [
       "<Figure size 4000x2800 with 0 Axes>"
      ]
     },
     "metadata": {},
     "output_type": "display_data"
    },
    {
     "data": {
      "text/plain": [
       "<Figure size 4000x2800 with 0 Axes>"
      ]
     },
     "metadata": {},
     "output_type": "display_data"
    },
    {
     "data": {
      "text/plain": [
       "<Figure size 4000x2800 with 0 Axes>"
      ]
     },
     "metadata": {},
     "output_type": "display_data"
    },
    {
     "data": {
      "text/plain": [
       "<Figure size 4000x2800 with 0 Axes>"
      ]
     },
     "metadata": {},
     "output_type": "display_data"
    },
    {
     "data": {
      "text/plain": [
       "<Figure size 4000x2800 with 0 Axes>"
      ]
     },
     "metadata": {},
     "output_type": "display_data"
    },
    {
     "data": {
      "text/plain": [
       "<Figure size 4000x2800 with 0 Axes>"
      ]
     },
     "metadata": {},
     "output_type": "display_data"
    },
    {
     "data": {
      "text/plain": [
       "<Figure size 4000x2800 with 0 Axes>"
      ]
     },
     "metadata": {},
     "output_type": "display_data"
    },
    {
     "data": {
      "text/plain": [
       "<Figure size 4000x2800 with 0 Axes>"
      ]
     },
     "metadata": {},
     "output_type": "display_data"
    },
    {
     "data": {
      "text/plain": [
       "<Figure size 4000x2800 with 0 Axes>"
      ]
     },
     "metadata": {},
     "output_type": "display_data"
    },
    {
     "data": {
      "text/plain": [
       "<Figure size 4000x2800 with 0 Axes>"
      ]
     },
     "metadata": {},
     "output_type": "display_data"
    },
    {
     "data": {
      "text/plain": [
       "<Figure size 4000x2800 with 0 Axes>"
      ]
     },
     "metadata": {},
     "output_type": "display_data"
    },
    {
     "data": {
      "text/plain": [
       "<Figure size 4000x2800 with 0 Axes>"
      ]
     },
     "metadata": {},
     "output_type": "display_data"
    },
    {
     "data": {
      "text/plain": [
       "<Figure size 4000x2800 with 0 Axes>"
      ]
     },
     "metadata": {},
     "output_type": "display_data"
    },
    {
     "data": {
      "text/plain": [
       "<Figure size 4000x2800 with 0 Axes>"
      ]
     },
     "metadata": {},
     "output_type": "display_data"
    },
    {
     "data": {
      "text/plain": [
       "<Figure size 4000x2800 with 0 Axes>"
      ]
     },
     "metadata": {},
     "output_type": "display_data"
    },
    {
     "data": {
      "text/plain": [
       "<Figure size 4000x2800 with 0 Axes>"
      ]
     },
     "metadata": {},
     "output_type": "display_data"
    },
    {
     "data": {
      "text/plain": [
       "<Figure size 4000x2800 with 0 Axes>"
      ]
     },
     "metadata": {},
     "output_type": "display_data"
    },
    {
     "data": {
      "text/plain": [
       "<Figure size 4000x2800 with 0 Axes>"
      ]
     },
     "metadata": {},
     "output_type": "display_data"
    },
    {
     "data": {
      "text/plain": [
       "<Figure size 4000x2800 with 0 Axes>"
      ]
     },
     "metadata": {},
     "output_type": "display_data"
    },
    {
     "data": {
      "text/plain": [
       "<Figure size 4000x2800 with 0 Axes>"
      ]
     },
     "metadata": {},
     "output_type": "display_data"
    },
    {
     "data": {
      "text/plain": [
       "<Figure size 4000x2800 with 0 Axes>"
      ]
     },
     "metadata": {},
     "output_type": "display_data"
    },
    {
     "data": {
      "text/plain": [
       "<Figure size 4000x2800 with 0 Axes>"
      ]
     },
     "metadata": {},
     "output_type": "display_data"
    },
    {
     "data": {
      "text/plain": [
       "<Figure size 4000x2800 with 0 Axes>"
      ]
     },
     "metadata": {},
     "output_type": "display_data"
    },
    {
     "data": {
      "text/plain": [
       "<Figure size 4000x2800 with 0 Axes>"
      ]
     },
     "metadata": {},
     "output_type": "display_data"
    },
    {
     "data": {
      "text/plain": [
       "<Figure size 4000x2800 with 0 Axes>"
      ]
     },
     "metadata": {},
     "output_type": "display_data"
    },
    {
     "data": {
      "text/plain": [
       "<Figure size 4000x2800 with 0 Axes>"
      ]
     },
     "metadata": {},
     "output_type": "display_data"
    },
    {
     "data": {
      "text/plain": [
       "<Figure size 4000x2800 with 0 Axes>"
      ]
     },
     "metadata": {},
     "output_type": "display_data"
    },
    {
     "data": {
      "text/plain": [
       "<Figure size 4000x2800 with 0 Axes>"
      ]
     },
     "metadata": {},
     "output_type": "display_data"
    },
    {
     "data": {
      "text/plain": [
       "<Figure size 4000x2800 with 0 Axes>"
      ]
     },
     "metadata": {},
     "output_type": "display_data"
    },
    {
     "data": {
      "text/plain": [
       "<Figure size 4000x2800 with 0 Axes>"
      ]
     },
     "metadata": {},
     "output_type": "display_data"
    },
    {
     "data": {
      "text/plain": [
       "<Figure size 4000x2800 with 0 Axes>"
      ]
     },
     "metadata": {},
     "output_type": "display_data"
    },
    {
     "data": {
      "text/plain": [
       "<Figure size 4000x2800 with 0 Axes>"
      ]
     },
     "metadata": {},
     "output_type": "display_data"
    },
    {
     "data": {
      "text/plain": [
       "<Figure size 4000x2800 with 0 Axes>"
      ]
     },
     "metadata": {},
     "output_type": "display_data"
    },
    {
     "data": {
      "text/plain": [
       "<Figure size 4000x2800 with 0 Axes>"
      ]
     },
     "metadata": {},
     "output_type": "display_data"
    },
    {
     "data": {
      "text/plain": [
       "<Figure size 4000x2800 with 0 Axes>"
      ]
     },
     "metadata": {},
     "output_type": "display_data"
    },
    {
     "data": {
      "text/plain": [
       "<Figure size 4000x2800 with 0 Axes>"
      ]
     },
     "metadata": {},
     "output_type": "display_data"
    },
    {
     "data": {
      "text/plain": [
       "<Figure size 4000x2800 with 0 Axes>"
      ]
     },
     "metadata": {},
     "output_type": "display_data"
    },
    {
     "data": {
      "text/plain": [
       "<Figure size 4000x2800 with 0 Axes>"
      ]
     },
     "metadata": {},
     "output_type": "display_data"
    },
    {
     "data": {
      "text/plain": [
       "<Figure size 4000x2800 with 0 Axes>"
      ]
     },
     "metadata": {},
     "output_type": "display_data"
    },
    {
     "data": {
      "text/plain": [
       "<Figure size 4000x2800 with 0 Axes>"
      ]
     },
     "metadata": {},
     "output_type": "display_data"
    },
    {
     "data": {
      "text/plain": [
       "<Figure size 4000x2800 with 0 Axes>"
      ]
     },
     "metadata": {},
     "output_type": "display_data"
    },
    {
     "data": {
      "text/plain": [
       "<Figure size 4000x2800 with 0 Axes>"
      ]
     },
     "metadata": {},
     "output_type": "display_data"
    },
    {
     "data": {
      "text/plain": [
       "<Figure size 4000x2800 with 0 Axes>"
      ]
     },
     "metadata": {},
     "output_type": "display_data"
    },
    {
     "data": {
      "text/plain": [
       "<Figure size 4000x2800 with 0 Axes>"
      ]
     },
     "metadata": {},
     "output_type": "display_data"
    },
    {
     "data": {
      "text/plain": [
       "<Figure size 4000x2800 with 0 Axes>"
      ]
     },
     "metadata": {},
     "output_type": "display_data"
    },
    {
     "data": {
      "text/plain": [
       "<Figure size 4000x2800 with 0 Axes>"
      ]
     },
     "metadata": {},
     "output_type": "display_data"
    },
    {
     "data": {
      "text/plain": [
       "<Figure size 4000x2800 with 0 Axes>"
      ]
     },
     "metadata": {},
     "output_type": "display_data"
    },
    {
     "data": {
      "text/plain": [
       "<Figure size 4000x2800 with 0 Axes>"
      ]
     },
     "metadata": {},
     "output_type": "display_data"
    },
    {
     "data": {
      "text/plain": [
       "<Figure size 4000x2800 with 0 Axes>"
      ]
     },
     "metadata": {},
     "output_type": "display_data"
    },
    {
     "data": {
      "text/plain": [
       "<Figure size 4000x2800 with 0 Axes>"
      ]
     },
     "metadata": {},
     "output_type": "display_data"
    },
    {
     "data": {
      "text/plain": [
       "<Figure size 4000x2800 with 0 Axes>"
      ]
     },
     "metadata": {},
     "output_type": "display_data"
    },
    {
     "data": {
      "text/plain": [
       "<Figure size 4000x2800 with 0 Axes>"
      ]
     },
     "metadata": {},
     "output_type": "display_data"
    },
    {
     "data": {
      "text/plain": [
       "<Figure size 4000x2800 with 0 Axes>"
      ]
     },
     "metadata": {},
     "output_type": "display_data"
    },
    {
     "data": {
      "text/plain": [
       "<Figure size 4000x2800 with 0 Axes>"
      ]
     },
     "metadata": {},
     "output_type": "display_data"
    },
    {
     "data": {
      "text/plain": [
       "<Figure size 4000x2800 with 0 Axes>"
      ]
     },
     "metadata": {},
     "output_type": "display_data"
    },
    {
     "data": {
      "text/plain": [
       "<Figure size 4000x2800 with 0 Axes>"
      ]
     },
     "metadata": {},
     "output_type": "display_data"
    },
    {
     "data": {
      "text/plain": [
       "<Figure size 4000x2800 with 0 Axes>"
      ]
     },
     "metadata": {},
     "output_type": "display_data"
    },
    {
     "data": {
      "text/plain": [
       "<Figure size 4000x2800 with 0 Axes>"
      ]
     },
     "metadata": {},
     "output_type": "display_data"
    },
    {
     "data": {
      "text/plain": [
       "<Figure size 4000x2800 with 0 Axes>"
      ]
     },
     "metadata": {},
     "output_type": "display_data"
    },
    {
     "data": {
      "text/plain": [
       "<Figure size 4000x2800 with 0 Axes>"
      ]
     },
     "metadata": {},
     "output_type": "display_data"
    },
    {
     "data": {
      "text/plain": [
       "<Figure size 4000x2800 with 0 Axes>"
      ]
     },
     "metadata": {},
     "output_type": "display_data"
    },
    {
     "data": {
      "text/plain": [
       "<Figure size 4000x2800 with 0 Axes>"
      ]
     },
     "metadata": {},
     "output_type": "display_data"
    },
    {
     "data": {
      "text/plain": [
       "<Figure size 4000x2800 with 0 Axes>"
      ]
     },
     "metadata": {},
     "output_type": "display_data"
    },
    {
     "data": {
      "text/plain": [
       "<Figure size 4000x2800 with 0 Axes>"
      ]
     },
     "metadata": {},
     "output_type": "display_data"
    },
    {
     "data": {
      "text/plain": [
       "<Figure size 4000x2800 with 0 Axes>"
      ]
     },
     "metadata": {},
     "output_type": "display_data"
    },
    {
     "data": {
      "text/plain": [
       "<Figure size 4000x2800 with 0 Axes>"
      ]
     },
     "metadata": {},
     "output_type": "display_data"
    },
    {
     "data": {
      "text/plain": [
       "<Figure size 4000x2800 with 0 Axes>"
      ]
     },
     "metadata": {},
     "output_type": "display_data"
    },
    {
     "data": {
      "text/plain": [
       "<Figure size 4000x2800 with 0 Axes>"
      ]
     },
     "metadata": {},
     "output_type": "display_data"
    },
    {
     "data": {
      "text/plain": [
       "<Figure size 4000x2800 with 0 Axes>"
      ]
     },
     "metadata": {},
     "output_type": "display_data"
    },
    {
     "data": {
      "text/plain": [
       "<Figure size 4000x2800 with 0 Axes>"
      ]
     },
     "metadata": {},
     "output_type": "display_data"
    },
    {
     "data": {
      "text/plain": [
       "<Figure size 4000x2800 with 0 Axes>"
      ]
     },
     "metadata": {},
     "output_type": "display_data"
    },
    {
     "data": {
      "text/plain": [
       "<Figure size 4000x2800 with 0 Axes>"
      ]
     },
     "metadata": {},
     "output_type": "display_data"
    },
    {
     "data": {
      "text/plain": [
       "<Figure size 4000x2800 with 0 Axes>"
      ]
     },
     "metadata": {},
     "output_type": "display_data"
    },
    {
     "data": {
      "text/plain": [
       "<Figure size 4000x2800 with 0 Axes>"
      ]
     },
     "metadata": {},
     "output_type": "display_data"
    },
    {
     "data": {
      "text/plain": [
       "<Figure size 4000x2800 with 0 Axes>"
      ]
     },
     "metadata": {},
     "output_type": "display_data"
    },
    {
     "data": {
      "text/plain": [
       "<Figure size 4000x2800 with 0 Axes>"
      ]
     },
     "metadata": {},
     "output_type": "display_data"
    },
    {
     "data": {
      "text/plain": [
       "<Figure size 4000x2800 with 0 Axes>"
      ]
     },
     "metadata": {},
     "output_type": "display_data"
    },
    {
     "data": {
      "text/plain": [
       "<Figure size 4000x2800 with 0 Axes>"
      ]
     },
     "metadata": {},
     "output_type": "display_data"
    },
    {
     "data": {
      "text/plain": [
       "<Figure size 4000x2800 with 0 Axes>"
      ]
     },
     "metadata": {},
     "output_type": "display_data"
    },
    {
     "data": {
      "text/plain": [
       "<Figure size 4000x2800 with 0 Axes>"
      ]
     },
     "metadata": {},
     "output_type": "display_data"
    },
    {
     "data": {
      "text/plain": [
       "<Figure size 4000x2800 with 0 Axes>"
      ]
     },
     "metadata": {},
     "output_type": "display_data"
    },
    {
     "data": {
      "text/plain": [
       "<Figure size 4000x2800 with 0 Axes>"
      ]
     },
     "metadata": {},
     "output_type": "display_data"
    },
    {
     "data": {
      "text/plain": [
       "<Figure size 4000x2800 with 0 Axes>"
      ]
     },
     "metadata": {},
     "output_type": "display_data"
    },
    {
     "data": {
      "text/plain": [
       "<Figure size 4000x2800 with 0 Axes>"
      ]
     },
     "metadata": {},
     "output_type": "display_data"
    },
    {
     "data": {
      "text/plain": [
       "<Figure size 4000x2800 with 0 Axes>"
      ]
     },
     "metadata": {},
     "output_type": "display_data"
    },
    {
     "data": {
      "text/plain": [
       "<Figure size 4000x2800 with 0 Axes>"
      ]
     },
     "metadata": {},
     "output_type": "display_data"
    },
    {
     "data": {
      "text/plain": [
       "<Figure size 4000x2800 with 0 Axes>"
      ]
     },
     "metadata": {},
     "output_type": "display_data"
    },
    {
     "data": {
      "text/plain": [
       "<Figure size 4000x2800 with 0 Axes>"
      ]
     },
     "metadata": {},
     "output_type": "display_data"
    },
    {
     "data": {
      "text/plain": [
       "<Figure size 4000x2800 with 0 Axes>"
      ]
     },
     "metadata": {},
     "output_type": "display_data"
    },
    {
     "data": {
      "text/plain": [
       "<Figure size 4000x2800 with 0 Axes>"
      ]
     },
     "metadata": {},
     "output_type": "display_data"
    },
    {
     "data": {
      "text/plain": [
       "<Figure size 4000x2800 with 0 Axes>"
      ]
     },
     "metadata": {},
     "output_type": "display_data"
    },
    {
     "data": {
      "text/plain": [
       "<Figure size 4000x2800 with 0 Axes>"
      ]
     },
     "metadata": {},
     "output_type": "display_data"
    },
    {
     "data": {
      "text/plain": [
       "<Figure size 4000x2800 with 0 Axes>"
      ]
     },
     "metadata": {},
     "output_type": "display_data"
    },
    {
     "data": {
      "text/plain": [
       "<Figure size 4000x2800 with 0 Axes>"
      ]
     },
     "metadata": {},
     "output_type": "display_data"
    },
    {
     "data": {
      "text/plain": [
       "<Figure size 4000x2800 with 0 Axes>"
      ]
     },
     "metadata": {},
     "output_type": "display_data"
    },
    {
     "data": {
      "text/plain": [
       "<Figure size 4000x2800 with 0 Axes>"
      ]
     },
     "metadata": {},
     "output_type": "display_data"
    },
    {
     "data": {
      "text/plain": [
       "<Figure size 4000x2800 with 0 Axes>"
      ]
     },
     "metadata": {},
     "output_type": "display_data"
    },
    {
     "data": {
      "text/plain": [
       "<Figure size 4000x2800 with 0 Axes>"
      ]
     },
     "metadata": {},
     "output_type": "display_data"
    },
    {
     "data": {
      "text/plain": [
       "<Figure size 4000x2800 with 0 Axes>"
      ]
     },
     "metadata": {},
     "output_type": "display_data"
    },
    {
     "data": {
      "text/plain": [
       "<Figure size 4000x2800 with 0 Axes>"
      ]
     },
     "metadata": {},
     "output_type": "display_data"
    },
    {
     "data": {
      "text/plain": [
       "<Figure size 4000x2800 with 0 Axes>"
      ]
     },
     "metadata": {},
     "output_type": "display_data"
    },
    {
     "data": {
      "text/plain": [
       "<Figure size 4000x2800 with 0 Axes>"
      ]
     },
     "metadata": {},
     "output_type": "display_data"
    },
    {
     "data": {
      "text/plain": [
       "<Figure size 4000x2800 with 0 Axes>"
      ]
     },
     "metadata": {},
     "output_type": "display_data"
    },
    {
     "data": {
      "text/plain": [
       "<Figure size 4000x2800 with 0 Axes>"
      ]
     },
     "metadata": {},
     "output_type": "display_data"
    },
    {
     "data": {
      "text/plain": [
       "<Figure size 4000x2800 with 0 Axes>"
      ]
     },
     "metadata": {},
     "output_type": "display_data"
    },
    {
     "data": {
      "text/plain": [
       "<Figure size 4000x2800 with 0 Axes>"
      ]
     },
     "metadata": {},
     "output_type": "display_data"
    },
    {
     "data": {
      "text/plain": [
       "<Figure size 4000x2800 with 0 Axes>"
      ]
     },
     "metadata": {},
     "output_type": "display_data"
    },
    {
     "data": {
      "text/plain": [
       "<Figure size 4000x2800 with 0 Axes>"
      ]
     },
     "metadata": {},
     "output_type": "display_data"
    },
    {
     "data": {
      "text/plain": [
       "<Figure size 4000x2800 with 0 Axes>"
      ]
     },
     "metadata": {},
     "output_type": "display_data"
    },
    {
     "data": {
      "text/plain": [
       "<Figure size 4000x2800 with 0 Axes>"
      ]
     },
     "metadata": {},
     "output_type": "display_data"
    },
    {
     "data": {
      "text/plain": [
       "<Figure size 4000x2800 with 0 Axes>"
      ]
     },
     "metadata": {},
     "output_type": "display_data"
    },
    {
     "data": {
      "text/plain": [
       "<Figure size 4000x2800 with 0 Axes>"
      ]
     },
     "metadata": {},
     "output_type": "display_data"
    },
    {
     "data": {
      "text/plain": [
       "<Figure size 4000x2800 with 0 Axes>"
      ]
     },
     "metadata": {},
     "output_type": "display_data"
    },
    {
     "data": {
      "text/plain": [
       "<Figure size 4000x2800 with 0 Axes>"
      ]
     },
     "metadata": {},
     "output_type": "display_data"
    },
    {
     "data": {
      "text/plain": [
       "<Figure size 4000x2800 with 0 Axes>"
      ]
     },
     "metadata": {},
     "output_type": "display_data"
    },
    {
     "data": {
      "text/plain": [
       "<Figure size 4000x2800 with 0 Axes>"
      ]
     },
     "metadata": {},
     "output_type": "display_data"
    },
    {
     "data": {
      "text/plain": [
       "<Figure size 4000x2800 with 0 Axes>"
      ]
     },
     "metadata": {},
     "output_type": "display_data"
    },
    {
     "data": {
      "text/plain": [
       "<Figure size 4000x2800 with 0 Axes>"
      ]
     },
     "metadata": {},
     "output_type": "display_data"
    },
    {
     "data": {
      "text/plain": [
       "<Figure size 4000x2800 with 0 Axes>"
      ]
     },
     "metadata": {},
     "output_type": "display_data"
    },
    {
     "data": {
      "text/plain": [
       "<Figure size 4000x2800 with 0 Axes>"
      ]
     },
     "metadata": {},
     "output_type": "display_data"
    },
    {
     "data": {
      "text/plain": [
       "<Figure size 4000x2800 with 0 Axes>"
      ]
     },
     "metadata": {},
     "output_type": "display_data"
    },
    {
     "data": {
      "text/plain": [
       "<Figure size 4000x2800 with 0 Axes>"
      ]
     },
     "metadata": {},
     "output_type": "display_data"
    },
    {
     "data": {
      "text/plain": [
       "<Figure size 4000x2800 with 0 Axes>"
      ]
     },
     "metadata": {},
     "output_type": "display_data"
    },
    {
     "data": {
      "text/plain": [
       "<Figure size 4000x2800 with 0 Axes>"
      ]
     },
     "metadata": {},
     "output_type": "display_data"
    },
    {
     "data": {
      "text/plain": [
       "<Figure size 4000x2800 with 0 Axes>"
      ]
     },
     "metadata": {},
     "output_type": "display_data"
    },
    {
     "data": {
      "text/plain": [
       "<Figure size 4000x2800 with 0 Axes>"
      ]
     },
     "metadata": {},
     "output_type": "display_data"
    },
    {
     "data": {
      "text/plain": [
       "<Figure size 4000x2800 with 0 Axes>"
      ]
     },
     "metadata": {},
     "output_type": "display_data"
    },
    {
     "data": {
      "text/plain": [
       "<Figure size 4000x2800 with 0 Axes>"
      ]
     },
     "metadata": {},
     "output_type": "display_data"
    },
    {
     "data": {
      "text/plain": [
       "<Figure size 4000x2800 with 0 Axes>"
      ]
     },
     "metadata": {},
     "output_type": "display_data"
    },
    {
     "data": {
      "text/plain": [
       "<Figure size 4000x2800 with 0 Axes>"
      ]
     },
     "metadata": {},
     "output_type": "display_data"
    },
    {
     "data": {
      "text/plain": [
       "<Figure size 4000x2800 with 0 Axes>"
      ]
     },
     "metadata": {},
     "output_type": "display_data"
    },
    {
     "data": {
      "text/plain": [
       "<Figure size 4000x2800 with 0 Axes>"
      ]
     },
     "metadata": {},
     "output_type": "display_data"
    },
    {
     "data": {
      "text/plain": [
       "<Figure size 4000x2800 with 0 Axes>"
      ]
     },
     "metadata": {},
     "output_type": "display_data"
    },
    {
     "data": {
      "text/plain": [
       "<Figure size 4000x2800 with 0 Axes>"
      ]
     },
     "metadata": {},
     "output_type": "display_data"
    },
    {
     "data": {
      "text/plain": [
       "<Figure size 4000x2800 with 0 Axes>"
      ]
     },
     "metadata": {},
     "output_type": "display_data"
    },
    {
     "data": {
      "text/plain": [
       "<Figure size 4000x2800 with 0 Axes>"
      ]
     },
     "metadata": {},
     "output_type": "display_data"
    },
    {
     "data": {
      "text/plain": [
       "<Figure size 4000x2800 with 0 Axes>"
      ]
     },
     "metadata": {},
     "output_type": "display_data"
    },
    {
     "data": {
      "text/plain": [
       "<Figure size 4000x2800 with 0 Axes>"
      ]
     },
     "metadata": {},
     "output_type": "display_data"
    },
    {
     "data": {
      "text/plain": [
       "<Figure size 4000x2800 with 0 Axes>"
      ]
     },
     "metadata": {},
     "output_type": "display_data"
    },
    {
     "data": {
      "text/plain": [
       "<Figure size 4000x2800 with 0 Axes>"
      ]
     },
     "metadata": {},
     "output_type": "display_data"
    },
    {
     "data": {
      "text/plain": [
       "<Figure size 4000x2800 with 0 Axes>"
      ]
     },
     "metadata": {},
     "output_type": "display_data"
    },
    {
     "data": {
      "text/plain": [
       "<Figure size 4000x2800 with 0 Axes>"
      ]
     },
     "metadata": {},
     "output_type": "display_data"
    },
    {
     "data": {
      "text/plain": [
       "<Figure size 4000x2800 with 0 Axes>"
      ]
     },
     "metadata": {},
     "output_type": "display_data"
    },
    {
     "data": {
      "text/plain": [
       "<Figure size 4000x2800 with 0 Axes>"
      ]
     },
     "metadata": {},
     "output_type": "display_data"
    },
    {
     "data": {
      "text/plain": [
       "<Figure size 4000x2800 with 0 Axes>"
      ]
     },
     "metadata": {},
     "output_type": "display_data"
    },
    {
     "data": {
      "text/plain": [
       "<Figure size 4000x2800 with 0 Axes>"
      ]
     },
     "metadata": {},
     "output_type": "display_data"
    },
    {
     "data": {
      "text/plain": [
       "<Figure size 4000x2800 with 0 Axes>"
      ]
     },
     "metadata": {},
     "output_type": "display_data"
    },
    {
     "data": {
      "text/plain": [
       "<Figure size 4000x2800 with 0 Axes>"
      ]
     },
     "metadata": {},
     "output_type": "display_data"
    },
    {
     "data": {
      "text/plain": [
       "<Figure size 4000x2800 with 0 Axes>"
      ]
     },
     "metadata": {},
     "output_type": "display_data"
    },
    {
     "data": {
      "text/plain": [
       "<Figure size 4000x2800 with 0 Axes>"
      ]
     },
     "metadata": {},
     "output_type": "display_data"
    },
    {
     "data": {
      "text/plain": [
       "<Figure size 4000x2800 with 0 Axes>"
      ]
     },
     "metadata": {},
     "output_type": "display_data"
    },
    {
     "data": {
      "text/plain": [
       "<Figure size 4000x2800 with 0 Axes>"
      ]
     },
     "metadata": {},
     "output_type": "display_data"
    },
    {
     "data": {
      "text/plain": [
       "<Figure size 4000x2800 with 0 Axes>"
      ]
     },
     "metadata": {},
     "output_type": "display_data"
    },
    {
     "data": {
      "text/plain": [
       "<Figure size 4000x2800 with 0 Axes>"
      ]
     },
     "metadata": {},
     "output_type": "display_data"
    },
    {
     "data": {
      "text/plain": [
       "<Figure size 4000x2800 with 0 Axes>"
      ]
     },
     "metadata": {},
     "output_type": "display_data"
    },
    {
     "data": {
      "text/plain": [
       "<Figure size 4000x2800 with 0 Axes>"
      ]
     },
     "metadata": {},
     "output_type": "display_data"
    },
    {
     "data": {
      "text/plain": [
       "<Figure size 4000x2800 with 0 Axes>"
      ]
     },
     "metadata": {},
     "output_type": "display_data"
    },
    {
     "data": {
      "text/plain": [
       "<Figure size 4000x2800 with 0 Axes>"
      ]
     },
     "metadata": {},
     "output_type": "display_data"
    },
    {
     "data": {
      "text/plain": [
       "<Figure size 4000x2800 with 0 Axes>"
      ]
     },
     "metadata": {},
     "output_type": "display_data"
    },
    {
     "data": {
      "text/plain": [
       "<Figure size 4000x2800 with 0 Axes>"
      ]
     },
     "metadata": {},
     "output_type": "display_data"
    },
    {
     "data": {
      "text/plain": [
       "<Figure size 4000x2800 with 0 Axes>"
      ]
     },
     "metadata": {},
     "output_type": "display_data"
    },
    {
     "data": {
      "text/plain": [
       "<Figure size 4000x2800 with 0 Axes>"
      ]
     },
     "metadata": {},
     "output_type": "display_data"
    },
    {
     "data": {
      "text/plain": [
       "<Figure size 4000x2800 with 0 Axes>"
      ]
     },
     "metadata": {},
     "output_type": "display_data"
    },
    {
     "data": {
      "text/plain": [
       "<Figure size 4000x2800 with 0 Axes>"
      ]
     },
     "metadata": {},
     "output_type": "display_data"
    },
    {
     "data": {
      "text/plain": [
       "<Figure size 4000x2800 with 0 Axes>"
      ]
     },
     "metadata": {},
     "output_type": "display_data"
    },
    {
     "data": {
      "text/plain": [
       "<Figure size 4000x2800 with 0 Axes>"
      ]
     },
     "metadata": {},
     "output_type": "display_data"
    },
    {
     "data": {
      "text/plain": [
       "<Figure size 4000x2800 with 0 Axes>"
      ]
     },
     "metadata": {},
     "output_type": "display_data"
    },
    {
     "data": {
      "text/plain": [
       "<Figure size 4000x2800 with 0 Axes>"
      ]
     },
     "metadata": {},
     "output_type": "display_data"
    },
    {
     "data": {
      "text/plain": [
       "<Figure size 4000x2800 with 0 Axes>"
      ]
     },
     "metadata": {},
     "output_type": "display_data"
    },
    {
     "data": {
      "text/plain": [
       "<Figure size 4000x2800 with 0 Axes>"
      ]
     },
     "metadata": {},
     "output_type": "display_data"
    },
    {
     "data": {
      "text/plain": [
       "<Figure size 4000x2800 with 0 Axes>"
      ]
     },
     "metadata": {},
     "output_type": "display_data"
    },
    {
     "data": {
      "text/plain": [
       "<Figure size 4000x2800 with 0 Axes>"
      ]
     },
     "metadata": {},
     "output_type": "display_data"
    },
    {
     "data": {
      "text/plain": [
       "<Figure size 4000x2800 with 0 Axes>"
      ]
     },
     "metadata": {},
     "output_type": "display_data"
    },
    {
     "data": {
      "text/plain": [
       "<Figure size 4000x2800 with 0 Axes>"
      ]
     },
     "metadata": {},
     "output_type": "display_data"
    },
    {
     "data": {
      "text/plain": [
       "<Figure size 4000x2800 with 0 Axes>"
      ]
     },
     "metadata": {},
     "output_type": "display_data"
    },
    {
     "data": {
      "text/plain": [
       "<Figure size 4000x2800 with 0 Axes>"
      ]
     },
     "metadata": {},
     "output_type": "display_data"
    },
    {
     "data": {
      "text/plain": [
       "<Figure size 4000x2800 with 0 Axes>"
      ]
     },
     "metadata": {},
     "output_type": "display_data"
    },
    {
     "data": {
      "text/plain": [
       "<Figure size 4000x2800 with 0 Axes>"
      ]
     },
     "metadata": {},
     "output_type": "display_data"
    },
    {
     "data": {
      "text/plain": [
       "<Figure size 4000x2800 with 0 Axes>"
      ]
     },
     "metadata": {},
     "output_type": "display_data"
    },
    {
     "data": {
      "text/plain": [
       "<Figure size 4000x2800 with 0 Axes>"
      ]
     },
     "metadata": {},
     "output_type": "display_data"
    },
    {
     "data": {
      "text/plain": [
       "<Figure size 4000x2800 with 0 Axes>"
      ]
     },
     "metadata": {},
     "output_type": "display_data"
    },
    {
     "data": {
      "text/plain": [
       "<Figure size 4000x2800 with 0 Axes>"
      ]
     },
     "metadata": {},
     "output_type": "display_data"
    },
    {
     "data": {
      "text/plain": [
       "<Figure size 4000x2800 with 0 Axes>"
      ]
     },
     "metadata": {},
     "output_type": "display_data"
    },
    {
     "data": {
      "text/plain": [
       "<Figure size 4000x2800 with 0 Axes>"
      ]
     },
     "metadata": {},
     "output_type": "display_data"
    },
    {
     "data": {
      "text/plain": [
       "<Figure size 4000x2800 with 0 Axes>"
      ]
     },
     "metadata": {},
     "output_type": "display_data"
    },
    {
     "data": {
      "text/plain": [
       "<Figure size 4000x2800 with 0 Axes>"
      ]
     },
     "metadata": {},
     "output_type": "display_data"
    },
    {
     "data": {
      "text/plain": [
       "<Figure size 4000x2800 with 0 Axes>"
      ]
     },
     "metadata": {},
     "output_type": "display_data"
    },
    {
     "data": {
      "text/plain": [
       "<Figure size 4000x2800 with 0 Axes>"
      ]
     },
     "metadata": {},
     "output_type": "display_data"
    },
    {
     "data": {
      "text/plain": [
       "<Figure size 4000x2800 with 0 Axes>"
      ]
     },
     "metadata": {},
     "output_type": "display_data"
    },
    {
     "data": {
      "text/plain": [
       "<Figure size 4000x2800 with 0 Axes>"
      ]
     },
     "metadata": {},
     "output_type": "display_data"
    },
    {
     "data": {
      "text/plain": [
       "<Figure size 4000x2800 with 0 Axes>"
      ]
     },
     "metadata": {},
     "output_type": "display_data"
    },
    {
     "data": {
      "text/plain": [
       "<Figure size 4000x2800 with 0 Axes>"
      ]
     },
     "metadata": {},
     "output_type": "display_data"
    },
    {
     "data": {
      "text/plain": [
       "<Figure size 4000x2800 with 0 Axes>"
      ]
     },
     "metadata": {},
     "output_type": "display_data"
    },
    {
     "data": {
      "text/plain": [
       "<Figure size 4000x2800 with 0 Axes>"
      ]
     },
     "metadata": {},
     "output_type": "display_data"
    },
    {
     "data": {
      "text/plain": [
       "<Figure size 4000x2800 with 0 Axes>"
      ]
     },
     "metadata": {},
     "output_type": "display_data"
    },
    {
     "data": {
      "text/plain": [
       "<Figure size 4000x2800 with 0 Axes>"
      ]
     },
     "metadata": {},
     "output_type": "display_data"
    },
    {
     "data": {
      "text/plain": [
       "<Figure size 4000x2800 with 0 Axes>"
      ]
     },
     "metadata": {},
     "output_type": "display_data"
    },
    {
     "data": {
      "text/plain": [
       "<Figure size 4000x2800 with 0 Axes>"
      ]
     },
     "metadata": {},
     "output_type": "display_data"
    },
    {
     "data": {
      "text/plain": [
       "<Figure size 4000x2800 with 0 Axes>"
      ]
     },
     "metadata": {},
     "output_type": "display_data"
    },
    {
     "data": {
      "text/plain": [
       "<Figure size 4000x2800 with 0 Axes>"
      ]
     },
     "metadata": {},
     "output_type": "display_data"
    },
    {
     "data": {
      "text/plain": [
       "<Figure size 4000x2800 with 0 Axes>"
      ]
     },
     "metadata": {},
     "output_type": "display_data"
    },
    {
     "data": {
      "text/plain": [
       "<Figure size 4000x2800 with 0 Axes>"
      ]
     },
     "metadata": {},
     "output_type": "display_data"
    },
    {
     "data": {
      "text/plain": [
       "<Figure size 4000x2800 with 0 Axes>"
      ]
     },
     "metadata": {},
     "output_type": "display_data"
    },
    {
     "data": {
      "text/plain": [
       "<Figure size 4000x2800 with 0 Axes>"
      ]
     },
     "metadata": {},
     "output_type": "display_data"
    },
    {
     "data": {
      "text/plain": [
       "<Figure size 4000x2800 with 0 Axes>"
      ]
     },
     "metadata": {},
     "output_type": "display_data"
    },
    {
     "data": {
      "text/plain": [
       "<Figure size 4000x2800 with 0 Axes>"
      ]
     },
     "metadata": {},
     "output_type": "display_data"
    },
    {
     "data": {
      "text/plain": [
       "<Figure size 4000x2800 with 0 Axes>"
      ]
     },
     "metadata": {},
     "output_type": "display_data"
    },
    {
     "data": {
      "text/plain": [
       "<Figure size 4000x2800 with 0 Axes>"
      ]
     },
     "metadata": {},
     "output_type": "display_data"
    },
    {
     "data": {
      "text/plain": [
       "<Figure size 4000x2800 with 0 Axes>"
      ]
     },
     "metadata": {},
     "output_type": "display_data"
    },
    {
     "data": {
      "text/plain": [
       "<Figure size 4000x2800 with 0 Axes>"
      ]
     },
     "metadata": {},
     "output_type": "display_data"
    },
    {
     "data": {
      "text/plain": [
       "<Figure size 4000x2800 with 0 Axes>"
      ]
     },
     "metadata": {},
     "output_type": "display_data"
    },
    {
     "data": {
      "text/plain": [
       "<Figure size 4000x2800 with 0 Axes>"
      ]
     },
     "metadata": {},
     "output_type": "display_data"
    },
    {
     "data": {
      "text/plain": [
       "<Figure size 4000x2800 with 0 Axes>"
      ]
     },
     "metadata": {},
     "output_type": "display_data"
    },
    {
     "data": {
      "text/plain": [
       "<Figure size 4000x2800 with 0 Axes>"
      ]
     },
     "metadata": {},
     "output_type": "display_data"
    },
    {
     "data": {
      "text/plain": [
       "<Figure size 4000x2800 with 0 Axes>"
      ]
     },
     "metadata": {},
     "output_type": "display_data"
    },
    {
     "data": {
      "text/plain": [
       "<Figure size 4000x2800 with 0 Axes>"
      ]
     },
     "metadata": {},
     "output_type": "display_data"
    },
    {
     "data": {
      "text/plain": [
       "<Figure size 4000x2800 with 0 Axes>"
      ]
     },
     "metadata": {},
     "output_type": "display_data"
    },
    {
     "data": {
      "text/plain": [
       "<Figure size 4000x2800 with 0 Axes>"
      ]
     },
     "metadata": {},
     "output_type": "display_data"
    },
    {
     "data": {
      "text/plain": [
       "<Figure size 4000x2800 with 0 Axes>"
      ]
     },
     "metadata": {},
     "output_type": "display_data"
    },
    {
     "data": {
      "text/plain": [
       "<Figure size 4000x2800 with 0 Axes>"
      ]
     },
     "metadata": {},
     "output_type": "display_data"
    },
    {
     "data": {
      "text/plain": [
       "<Figure size 4000x2800 with 0 Axes>"
      ]
     },
     "metadata": {},
     "output_type": "display_data"
    },
    {
     "data": {
      "text/plain": [
       "<Figure size 4000x2800 with 0 Axes>"
      ]
     },
     "metadata": {},
     "output_type": "display_data"
    },
    {
     "data": {
      "text/plain": [
       "<Figure size 4000x2800 with 0 Axes>"
      ]
     },
     "metadata": {},
     "output_type": "display_data"
    },
    {
     "data": {
      "text/plain": [
       "<Figure size 4000x2800 with 0 Axes>"
      ]
     },
     "metadata": {},
     "output_type": "display_data"
    },
    {
     "data": {
      "text/plain": [
       "<Figure size 4000x2800 with 0 Axes>"
      ]
     },
     "metadata": {},
     "output_type": "display_data"
    },
    {
     "data": {
      "text/plain": [
       "<Figure size 4000x2800 with 0 Axes>"
      ]
     },
     "metadata": {},
     "output_type": "display_data"
    },
    {
     "data": {
      "text/plain": [
       "<Figure size 4000x2800 with 0 Axes>"
      ]
     },
     "metadata": {},
     "output_type": "display_data"
    },
    {
     "data": {
      "text/plain": [
       "<Figure size 4000x2800 with 0 Axes>"
      ]
     },
     "metadata": {},
     "output_type": "display_data"
    },
    {
     "data": {
      "text/plain": [
       "<Figure size 4000x2800 with 0 Axes>"
      ]
     },
     "metadata": {},
     "output_type": "display_data"
    },
    {
     "data": {
      "text/plain": [
       "<Figure size 4000x2800 with 0 Axes>"
      ]
     },
     "metadata": {},
     "output_type": "display_data"
    },
    {
     "data": {
      "text/plain": [
       "<Figure size 4000x2800 with 0 Axes>"
      ]
     },
     "metadata": {},
     "output_type": "display_data"
    },
    {
     "data": {
      "text/plain": [
       "<Figure size 4000x2800 with 0 Axes>"
      ]
     },
     "metadata": {},
     "output_type": "display_data"
    },
    {
     "data": {
      "text/plain": [
       "<Figure size 4000x2800 with 0 Axes>"
      ]
     },
     "metadata": {},
     "output_type": "display_data"
    },
    {
     "data": {
      "text/plain": [
       "<Figure size 4000x2800 with 0 Axes>"
      ]
     },
     "metadata": {},
     "output_type": "display_data"
    },
    {
     "data": {
      "text/plain": [
       "<Figure size 4000x2800 with 0 Axes>"
      ]
     },
     "metadata": {},
     "output_type": "display_data"
    },
    {
     "data": {
      "text/plain": [
       "<Figure size 4000x2800 with 0 Axes>"
      ]
     },
     "metadata": {},
     "output_type": "display_data"
    },
    {
     "data": {
      "text/plain": [
       "<Figure size 4000x2800 with 0 Axes>"
      ]
     },
     "metadata": {},
     "output_type": "display_data"
    },
    {
     "data": {
      "text/plain": [
       "<Figure size 4000x2800 with 0 Axes>"
      ]
     },
     "metadata": {},
     "output_type": "display_data"
    },
    {
     "data": {
      "text/plain": [
       "<Figure size 4000x2800 with 0 Axes>"
      ]
     },
     "metadata": {},
     "output_type": "display_data"
    },
    {
     "data": {
      "text/plain": [
       "<Figure size 4000x2800 with 0 Axes>"
      ]
     },
     "metadata": {},
     "output_type": "display_data"
    },
    {
     "data": {
      "text/plain": [
       "<Figure size 4000x2800 with 0 Axes>"
      ]
     },
     "metadata": {},
     "output_type": "display_data"
    },
    {
     "data": {
      "text/plain": [
       "<Figure size 4000x2800 with 0 Axes>"
      ]
     },
     "metadata": {},
     "output_type": "display_data"
    },
    {
     "data": {
      "text/plain": [
       "<Figure size 4000x2800 with 0 Axes>"
      ]
     },
     "metadata": {},
     "output_type": "display_data"
    },
    {
     "data": {
      "text/plain": [
       "<Figure size 4000x2800 with 0 Axes>"
      ]
     },
     "metadata": {},
     "output_type": "display_data"
    },
    {
     "data": {
      "text/plain": [
       "<Figure size 4000x2800 with 0 Axes>"
      ]
     },
     "metadata": {},
     "output_type": "display_data"
    },
    {
     "data": {
      "text/plain": [
       "<Figure size 4000x2800 with 0 Axes>"
      ]
     },
     "metadata": {},
     "output_type": "display_data"
    },
    {
     "data": {
      "text/plain": [
       "<Figure size 4000x2800 with 0 Axes>"
      ]
     },
     "metadata": {},
     "output_type": "display_data"
    },
    {
     "data": {
      "text/plain": [
       "<Figure size 4000x2800 with 0 Axes>"
      ]
     },
     "metadata": {},
     "output_type": "display_data"
    },
    {
     "data": {
      "text/plain": [
       "<Figure size 4000x2800 with 0 Axes>"
      ]
     },
     "metadata": {},
     "output_type": "display_data"
    },
    {
     "data": {
      "text/plain": [
       "<Figure size 4000x2800 with 0 Axes>"
      ]
     },
     "metadata": {},
     "output_type": "display_data"
    },
    {
     "data": {
      "text/plain": [
       "<Figure size 4000x2800 with 0 Axes>"
      ]
     },
     "metadata": {},
     "output_type": "display_data"
    },
    {
     "data": {
      "text/plain": [
       "<Figure size 4000x2800 with 0 Axes>"
      ]
     },
     "metadata": {},
     "output_type": "display_data"
    },
    {
     "data": {
      "text/plain": [
       "<Figure size 4000x2800 with 0 Axes>"
      ]
     },
     "metadata": {},
     "output_type": "display_data"
    },
    {
     "data": {
      "text/plain": [
       "<Figure size 4000x2800 with 0 Axes>"
      ]
     },
     "metadata": {},
     "output_type": "display_data"
    },
    {
     "data": {
      "text/plain": [
       "<Figure size 4000x2800 with 0 Axes>"
      ]
     },
     "metadata": {},
     "output_type": "display_data"
    },
    {
     "data": {
      "text/plain": [
       "<Figure size 4000x2800 with 0 Axes>"
      ]
     },
     "metadata": {},
     "output_type": "display_data"
    },
    {
     "data": {
      "text/plain": [
       "<Figure size 4000x2800 with 0 Axes>"
      ]
     },
     "metadata": {},
     "output_type": "display_data"
    },
    {
     "data": {
      "text/plain": [
       "<Figure size 4000x2800 with 0 Axes>"
      ]
     },
     "metadata": {},
     "output_type": "display_data"
    },
    {
     "data": {
      "text/plain": [
       "<Figure size 4000x2800 with 0 Axes>"
      ]
     },
     "metadata": {},
     "output_type": "display_data"
    },
    {
     "data": {
      "text/plain": [
       "<Figure size 4000x2800 with 0 Axes>"
      ]
     },
     "metadata": {},
     "output_type": "display_data"
    },
    {
     "data": {
      "text/plain": [
       "<Figure size 4000x2800 with 0 Axes>"
      ]
     },
     "metadata": {},
     "output_type": "display_data"
    },
    {
     "data": {
      "text/plain": [
       "<Figure size 4000x2800 with 0 Axes>"
      ]
     },
     "metadata": {},
     "output_type": "display_data"
    },
    {
     "data": {
      "text/plain": [
       "<Figure size 4000x2800 with 0 Axes>"
      ]
     },
     "metadata": {},
     "output_type": "display_data"
    },
    {
     "data": {
      "text/plain": [
       "<Figure size 4000x2800 with 0 Axes>"
      ]
     },
     "metadata": {},
     "output_type": "display_data"
    },
    {
     "data": {
      "text/plain": [
       "<Figure size 4000x2800 with 0 Axes>"
      ]
     },
     "metadata": {},
     "output_type": "display_data"
    },
    {
     "data": {
      "text/plain": [
       "<Figure size 4000x2800 with 0 Axes>"
      ]
     },
     "metadata": {},
     "output_type": "display_data"
    },
    {
     "data": {
      "text/plain": [
       "<Figure size 4000x2800 with 0 Axes>"
      ]
     },
     "metadata": {},
     "output_type": "display_data"
    },
    {
     "data": {
      "text/plain": [
       "<Figure size 4000x2800 with 0 Axes>"
      ]
     },
     "metadata": {},
     "output_type": "display_data"
    },
    {
     "data": {
      "text/plain": [
       "<Figure size 4000x2800 with 0 Axes>"
      ]
     },
     "metadata": {},
     "output_type": "display_data"
    },
    {
     "data": {
      "text/plain": [
       "<Figure size 4000x2800 with 0 Axes>"
      ]
     },
     "metadata": {},
     "output_type": "display_data"
    },
    {
     "data": {
      "text/plain": [
       "<Figure size 4000x2800 with 0 Axes>"
      ]
     },
     "metadata": {},
     "output_type": "display_data"
    },
    {
     "data": {
      "text/plain": [
       "<Figure size 4000x2800 with 0 Axes>"
      ]
     },
     "metadata": {},
     "output_type": "display_data"
    },
    {
     "data": {
      "text/plain": [
       "<Figure size 4000x2800 with 0 Axes>"
      ]
     },
     "metadata": {},
     "output_type": "display_data"
    },
    {
     "data": {
      "text/plain": [
       "<Figure size 4000x2800 with 0 Axes>"
      ]
     },
     "metadata": {},
     "output_type": "display_data"
    },
    {
     "data": {
      "text/plain": [
       "<Figure size 4000x2800 with 0 Axes>"
      ]
     },
     "metadata": {},
     "output_type": "display_data"
    },
    {
     "data": {
      "text/plain": [
       "<Figure size 4000x2800 with 0 Axes>"
      ]
     },
     "metadata": {},
     "output_type": "display_data"
    },
    {
     "data": {
      "text/plain": [
       "<Figure size 4000x2800 with 0 Axes>"
      ]
     },
     "metadata": {},
     "output_type": "display_data"
    },
    {
     "data": {
      "text/plain": [
       "<Figure size 4000x2800 with 0 Axes>"
      ]
     },
     "metadata": {},
     "output_type": "display_data"
    },
    {
     "data": {
      "text/plain": [
       "<Figure size 4000x2800 with 0 Axes>"
      ]
     },
     "metadata": {},
     "output_type": "display_data"
    },
    {
     "data": {
      "text/plain": [
       "<Figure size 4000x2800 with 0 Axes>"
      ]
     },
     "metadata": {},
     "output_type": "display_data"
    },
    {
     "data": {
      "text/plain": [
       "<Figure size 4000x2800 with 0 Axes>"
      ]
     },
     "metadata": {},
     "output_type": "display_data"
    },
    {
     "data": {
      "text/plain": [
       "<Figure size 4000x2800 with 0 Axes>"
      ]
     },
     "metadata": {},
     "output_type": "display_data"
    },
    {
     "data": {
      "text/plain": [
       "<Figure size 4000x2800 with 0 Axes>"
      ]
     },
     "metadata": {},
     "output_type": "display_data"
    },
    {
     "data": {
      "text/plain": [
       "<Figure size 4000x2800 with 0 Axes>"
      ]
     },
     "metadata": {},
     "output_type": "display_data"
    },
    {
     "data": {
      "text/plain": [
       "<Figure size 4000x2800 with 0 Axes>"
      ]
     },
     "metadata": {},
     "output_type": "display_data"
    },
    {
     "data": {
      "text/plain": [
       "<Figure size 4000x2800 with 0 Axes>"
      ]
     },
     "metadata": {},
     "output_type": "display_data"
    },
    {
     "data": {
      "text/plain": [
       "<Figure size 4000x2800 with 0 Axes>"
      ]
     },
     "metadata": {},
     "output_type": "display_data"
    },
    {
     "data": {
      "text/plain": [
       "<Figure size 4000x2800 with 0 Axes>"
      ]
     },
     "metadata": {},
     "output_type": "display_data"
    },
    {
     "data": {
      "text/plain": [
       "<Figure size 4000x2800 with 0 Axes>"
      ]
     },
     "metadata": {},
     "output_type": "display_data"
    },
    {
     "data": {
      "text/plain": [
       "<Figure size 4000x2800 with 0 Axes>"
      ]
     },
     "metadata": {},
     "output_type": "display_data"
    },
    {
     "data": {
      "text/plain": [
       "<Figure size 4000x2800 with 0 Axes>"
      ]
     },
     "metadata": {},
     "output_type": "display_data"
    },
    {
     "data": {
      "text/plain": [
       "<Figure size 4000x2800 with 0 Axes>"
      ]
     },
     "metadata": {},
     "output_type": "display_data"
    },
    {
     "data": {
      "text/plain": [
       "<Figure size 4000x2800 with 0 Axes>"
      ]
     },
     "metadata": {},
     "output_type": "display_data"
    },
    {
     "data": {
      "text/plain": [
       "<Figure size 4000x2800 with 0 Axes>"
      ]
     },
     "metadata": {},
     "output_type": "display_data"
    },
    {
     "data": {
      "text/plain": [
       "<Figure size 4000x2800 with 0 Axes>"
      ]
     },
     "metadata": {},
     "output_type": "display_data"
    },
    {
     "data": {
      "text/plain": [
       "<Figure size 4000x2800 with 0 Axes>"
      ]
     },
     "metadata": {},
     "output_type": "display_data"
    },
    {
     "data": {
      "text/plain": [
       "<Figure size 4000x2800 with 0 Axes>"
      ]
     },
     "metadata": {},
     "output_type": "display_data"
    },
    {
     "data": {
      "text/plain": [
       "<Figure size 4000x2800 with 0 Axes>"
      ]
     },
     "metadata": {},
     "output_type": "display_data"
    },
    {
     "data": {
      "text/plain": [
       "<Figure size 4000x2800 with 0 Axes>"
      ]
     },
     "metadata": {},
     "output_type": "display_data"
    },
    {
     "data": {
      "text/plain": [
       "<Figure size 4000x2800 with 0 Axes>"
      ]
     },
     "metadata": {},
     "output_type": "display_data"
    },
    {
     "data": {
      "text/plain": [
       "<Figure size 4000x2800 with 0 Axes>"
      ]
     },
     "metadata": {},
     "output_type": "display_data"
    },
    {
     "data": {
      "text/plain": [
       "<Figure size 4000x2800 with 0 Axes>"
      ]
     },
     "metadata": {},
     "output_type": "display_data"
    },
    {
     "data": {
      "text/plain": [
       "<Figure size 4000x2800 with 0 Axes>"
      ]
     },
     "metadata": {},
     "output_type": "display_data"
    },
    {
     "data": {
      "text/plain": [
       "<Figure size 4000x2800 with 0 Axes>"
      ]
     },
     "metadata": {},
     "output_type": "display_data"
    },
    {
     "data": {
      "text/plain": [
       "<Figure size 4000x2800 with 0 Axes>"
      ]
     },
     "metadata": {},
     "output_type": "display_data"
    },
    {
     "data": {
      "text/plain": [
       "<Figure size 4000x2800 with 0 Axes>"
      ]
     },
     "metadata": {},
     "output_type": "display_data"
    },
    {
     "data": {
      "text/plain": [
       "<Figure size 4000x2800 with 0 Axes>"
      ]
     },
     "metadata": {},
     "output_type": "display_data"
    },
    {
     "data": {
      "text/plain": [
       "<Figure size 4000x2800 with 0 Axes>"
      ]
     },
     "metadata": {},
     "output_type": "display_data"
    },
    {
     "data": {
      "text/plain": [
       "<Figure size 4000x2800 with 0 Axes>"
      ]
     },
     "metadata": {},
     "output_type": "display_data"
    },
    {
     "data": {
      "text/plain": [
       "<Figure size 4000x2800 with 0 Axes>"
      ]
     },
     "metadata": {},
     "output_type": "display_data"
    },
    {
     "data": {
      "text/plain": [
       "<Figure size 4000x2800 with 0 Axes>"
      ]
     },
     "metadata": {},
     "output_type": "display_data"
    },
    {
     "data": {
      "text/plain": [
       "<Figure size 4000x2800 with 0 Axes>"
      ]
     },
     "metadata": {},
     "output_type": "display_data"
    },
    {
     "data": {
      "text/plain": [
       "<Figure size 4000x2800 with 0 Axes>"
      ]
     },
     "metadata": {},
     "output_type": "display_data"
    },
    {
     "data": {
      "text/plain": [
       "<Figure size 4000x2800 with 0 Axes>"
      ]
     },
     "metadata": {},
     "output_type": "display_data"
    }
   ],
   "source": [
    "say=0\n",
    "dataset=\"./results/vs/\"\n",
    "folder(dataset)\n",
    "for no, i in enumerate(datasets):\n",
    "    for ii in i:\n",
    "        for iii in i:\n",
    "            say+=1\n",
    "            print(f\"{say}/698 - {ii[7:-4]} {iii[7:-4]}\" )\n",
    "            train=ii\n",
    "            test=iii\n",
    "            mixed=False\n",
    "            step=1\n",
    "            sayac=1\n",
    "            output_csv=f\"{dataset}/@{ii[7:-4]}@{iii[7:-4]}.csv\"\n",
    "            target_names=target_name(test)\n",
    "            ML(train,test,output_csv,feature,step,mixed,dataset[2:-1]+\"_\"+str(step))   \n"
   ]
  },
  {
   "cell_type": "code",
   "execution_count": 14,
   "metadata": {},
   "outputs": [],
   "source": [
    "datasets=[ ['./csvs\\\\A211110.csv', './csvs\\\\A211112.csv', './csvs\\\\I211110.csv'],\n",
    " ['./csvs\\\\A211124.csv',\n",
    "  './csvs\\\\I211124.csv',\n",
    "  './csvs\\\\I211125.csv',\n",
    "  './csvs\\\\I211201.csv',\n",
    "  './csvs\\\\I211202.csv',\n",
    "  './csvs\\\\I211203.csv',\n",
    "  './csvs\\\\I211207.csv',\n",
    "  './csvs\\\\I211208.csv',\n",
    "  './csvs\\\\I211209.csv',\n",
    "  './csvs\\\\I211210.csv',\n",
    "  './csvs\\\\I211213.csv',\n",
    "  './csvs\\\\I211215.csv',\n",
    "  './csvs\\\\I211216.csv',\n",
    "  './csvs\\\\I211220.csv',\n",
    "  './csvs\\\\I211222.csv',\n",
    "  './csvs\\\\I211223.csv'],\n",
    " ['./csvs\\\\A211126.csv', './csvs\\\\A211207.csv'],\n",
    " ['./csvs\\\\I211116.csv', './csvs\\\\I211117.csv']]\n"
   ]
  },
  {
   "cell_type": "code",
   "execution_count": 15,
   "metadata": {},
   "outputs": [
    {
     "name": "stdout",
     "output_type": "stream",
     "text": [
      "1/698 - A211110 A211110\n",
      "    Dataset         T    CV  ML      Acc    b_Acc    Prec    Rec     F1    kap    ROC    tra-T    test-T    Al-Time\n",
      "--  ------------  ---  ----  ----  -----  -------  ------  -----  -----  -----  -----  -------  --------  ---------\n",
      " 0  results/vs_1    0     1  DT    0.906    0.926   0.928  0.926  0.924  0.901      0    3.212      0.32          0\n",
      "\n",
      "2/698 - A211110 A211112\n",
      "    Dataset         T    CV  ML      Acc    b_Acc    Prec    Rec     F1    kap    ROC    tra-T    test-T    Al-Time\n",
      "--  ------------  ---  ----  ----  -----  -------  ------  -----  -----  -----  -----  -------  --------  ---------\n",
      " 0  results/vs_1    0     1  DT    0.822    0.823    0.81  0.823  0.799  0.814      0    3.018     0.195          0\n",
      "\n",
      "3/698 - A211110 I211110\n",
      "    Dataset         T    CV  ML      Acc    b_Acc    Prec    Rec     F1    kap    ROC    tra-T    test-T    Al-Time\n",
      "--  ------------  ---  ----  ----  -----  -------  ------  -----  -----  -----  -----  -------  --------  ---------\n",
      " 0  results/vs_1    0     1  DT    0.893    0.887   0.874  0.887  0.877  0.888      0    3.081     0.211          0\n",
      "\n",
      "4/698 - A211112 A211110\n",
      "    Dataset         T    CV  ML      Acc    b_Acc    Prec    Rec     F1    kap    ROC    tra-T    test-T    Al-Time\n",
      "--  ------------  ---  ----  ----  -----  -------  ------  -----  -----  -----  -----  -------  --------  ---------\n",
      " 0  results/vs_1    0     1  DT     0.76    0.793   0.807  0.793  0.773  0.747      0    1.731     0.222          0\n",
      "\n",
      "5/698 - A211112 A211112\n",
      "    Dataset         T    CV  ML      Acc    b_Acc    Prec    Rec     F1    kap    ROC    tra-T    test-T    Al-Time\n",
      "--  ------------  ---  ----  ----  -----  -------  ------  -----  -----  -----  -----  -------  --------  ---------\n",
      " 0  results/vs_1    0     1  DT     0.94    0.927   0.932  0.927  0.928  0.937      0     1.87     0.206          0\n",
      "\n",
      "6/698 - A211112 I211110\n",
      "    Dataset         T    CV  ML      Acc    b_Acc    Prec    Rec     F1    kap    ROC    tra-T    test-T    Al-Time\n",
      "--  ------------  ---  ----  ----  -----  -------  ------  -----  -----  -----  -----  -------  --------  ---------\n",
      " 0  results/vs_1    0     1  DT    0.849    0.836   0.842  0.836  0.827  0.842      0    1.692     0.195          0\n",
      "\n",
      "7/698 - I211110 A211110\n",
      "    Dataset         T    CV  ML      Acc    b_Acc    Prec    Rec     F1    kap    ROC    tra-T    test-T    Al-Time\n",
      "--  ------------  ---  ----  ----  -----  -------  ------  -----  -----  -----  -----  -------  --------  ---------\n",
      " 0  results/vs_1    0     1  DT    0.799    0.836   0.842  0.836  0.829  0.788      0    1.916     0.212          0\n",
      "\n",
      "8/698 - I211110 A211112\n",
      "    Dataset         T    CV  ML      Acc    b_Acc    Prec    Rec    F1    kap    ROC    tra-T    test-T    Al-Time\n",
      "--  ------------  ---  ----  ----  -----  -------  ------  -----  ----  -----  -----  -------  --------  ---------\n",
      " 0  results/vs_1    0     1  DT    0.813    0.813   0.813  0.813   0.8  0.804      0    1.978      0.18          0\n",
      "\n",
      "9/698 - I211110 I211110\n",
      "    Dataset         T    CV  ML      Acc    b_Acc    Prec    Rec     F1    kap    ROC    tra-T    test-T    Al-Time\n",
      "--  ------------  ---  ----  ----  -----  -------  ------  -----  -----  -----  -----  -------  --------  ---------\n",
      " 0  results/vs_1    0     1  DT    0.927    0.922   0.922  0.922  0.921  0.924      0    1.996     0.202          0\n",
      "\n",
      "10/698 - A211124 A211124\n",
      "    Dataset         T    CV  ML      Acc    b_Acc    Prec    Rec     F1    kap    ROC    tra-T    test-T    Al-Time\n",
      "--  ------------  ---  ----  ----  -----  -------  ------  -----  -----  -----  -----  -------  --------  ---------\n",
      " 0  results/vs_1    0     1  DT    0.927     0.92   0.927   0.92  0.921  0.924      0    1.291     0.145          0\n",
      "\n",
      "11/698 - A211124 I211124\n",
      "    Dataset         T    CV  ML      Acc    b_Acc    Prec    Rec     F1    kap    ROC    tra-T    test-T    Al-Time\n",
      "--  ------------  ---  ----  ----  -----  -------  ------  -----  -----  -----  -----  -------  --------  ---------\n",
      " 0  results/vs_1    0     1  DT     0.87    0.855    0.86  0.855  0.843  0.865      0    1.212     0.174          0\n",
      "\n",
      "12/698 - A211124 I211125\n",
      "    Dataset         T    CV  ML      Acc    b_Acc    Prec    Rec     F1    kap    ROC    tra-T    test-T    Al-Time\n",
      "--  ------------  ---  ----  ----  -----  -------  ------  -----  -----  -----  -----  -------  --------  ---------\n",
      " 0  results/vs_1    0     1  DT    0.839    0.807   0.798  0.807  0.781  0.832      0    1.137     0.183          0\n",
      "\n",
      "13/698 - A211124 I211201\n",
      "    Dataset         T    CV  ML      Acc    b_Acc    Prec    Rec     F1    kap    ROC    tra-T    test-T    Al-Time\n",
      "--  ------------  ---  ----  ----  -----  -------  ------  -----  -----  -----  -----  -------  --------  ---------\n",
      " 0  results/vs_1    0     1  DT    0.828    0.781   0.816  0.781  0.768  0.821      0    1.255     0.187          0\n",
      "\n",
      "14/698 - A211124 I211202\n",
      "    Dataset         T    CV  ML      Acc    b_Acc    Prec    Rec     F1    kap    ROC    tra-T    test-T    Al-Time\n",
      "--  ------------  ---  ----  ----  -----  -------  ------  -----  -----  -----  -----  -------  --------  ---------\n",
      " 0  results/vs_1    0     1  DT    0.834    0.781   0.812  0.781  0.772  0.828      0    1.315     0.182          0\n",
      "\n",
      "15/698 - A211124 I211203\n",
      "    Dataset         T    CV  ML      Acc    b_Acc    Prec    Rec     F1    kap    ROC    tra-T    test-T    Al-Time\n",
      "--  ------------  ---  ----  ----  -----  -------  ------  -----  -----  -----  -----  -------  --------  ---------\n",
      " 0  results/vs_1    0     1  DT    0.617     0.54    0.57   0.54  0.531  0.601      0    1.222     0.186          0\n",
      "\n",
      "16/698 - A211124 I211207\n",
      "    Dataset         T    CV  ML      Acc    b_Acc    Prec    Rec     F1    kap    ROC    tra-T    test-T    Al-Time\n",
      "--  ------------  ---  ----  ----  -----  -------  ------  -----  -----  -----  -----  -------  --------  ---------\n",
      " 0  results/vs_1    0     1  DT    0.589    0.522   0.559  0.522  0.499  0.573      0    1.208     0.186          0\n",
      "\n",
      "17/698 - A211124 I211208\n",
      "    Dataset         T    CV  ML      Acc    b_Acc    Prec    Rec     F1    kap    ROC    tra-T    test-T    Al-Time\n",
      "--  ------------  ---  ----  ----  -----  -------  ------  -----  -----  -----  -----  -------  --------  ---------\n",
      " 0  results/vs_1    0     1  DT    0.701    0.551   0.554  0.551  0.524  0.686      0    1.214     0.165          0\n",
      "\n",
      "18/698 - A211124 I211209\n",
      "    Dataset         T    CV  ML      Acc    b_Acc    Prec    Rec     F1    kap    ROC    tra-T    test-T    Al-Time\n",
      "--  ------------  ---  ----  ----  -----  -------  ------  -----  -----  -----  -----  -------  --------  ---------\n",
      " 0  results/vs_1    0     1  DT    0.607    0.538   0.562  0.538  0.503  0.591      0    1.249      0.18          0\n",
      "\n",
      "19/698 - A211124 I211210\n",
      "    Dataset         T    CV  ML      Acc    b_Acc    Prec    Rec     F1    kap    ROC    tra-T    test-T    Al-Time\n",
      "--  ------------  ---  ----  ----  -----  -------  ------  -----  -----  -----  -----  -------  --------  ---------\n",
      " 0  results/vs_1    0     1  DT    0.628    0.541   0.559  0.541  0.513  0.613      0     1.23     0.182          0\n",
      "\n",
      "20/698 - A211124 I211213\n",
      "    Dataset         T    CV  ML      Acc    b_Acc    Prec    Rec     F1    kap    ROC    tra-T    test-T    Al-Time\n",
      "--  ------------  ---  ----  ----  -----  -------  ------  -----  -----  -----  -----  -------  --------  ---------\n",
      " 0  results/vs_1    0     1  DT    0.652    0.577   0.588  0.577  0.553  0.638      0    1.254     0.195          0\n",
      "\n",
      "21/698 - A211124 I211215\n",
      "    Dataset         T    CV  ML      Acc    b_Acc    Prec    Rec     F1    kap    ROC    tra-T    test-T    Al-Time\n",
      "--  ------------  ---  ----  ----  -----  -------  ------  -----  -----  -----  -----  -------  --------  ---------\n",
      " 0  results/vs_1    0     1  DT    0.608    0.555   0.531  0.555  0.501  0.593      0    1.578     0.241          0\n",
      "\n",
      "22/698 - A211124 I211216\n",
      "    Dataset         T    CV  ML      Acc    b_Acc    Prec    Rec     F1    kap    ROC    tra-T    test-T    Al-Time\n",
      "--  ------------  ---  ----  ----  -----  -------  ------  -----  -----  -----  -----  -------  --------  ---------\n",
      " 0  results/vs_1    0     1  DT     0.58    0.523   0.502  0.523  0.467  0.563      0    1.263     0.194          0\n",
      "\n"
     ]
    },
    {
     "name": "stdout",
     "output_type": "stream",
     "text": [
      "23/698 - A211124 I211220\n",
      "    Dataset         T    CV  ML      Acc    b_Acc    Prec    Rec     F1    kap    ROC    tra-T    test-T    Al-Time\n",
      "--  ------------  ---  ----  ----  -----  -------  ------  -----  -----  -----  -----  -------  --------  ---------\n",
      " 0  results/vs_1    0     1  DT    0.589    0.532   0.516  0.532  0.484  0.573      0    1.255     0.218          0\n",
      "\n",
      "24/698 - A211124 I211222\n",
      "    Dataset         T    CV  ML      Acc    b_Acc    Prec    Rec     F1    kap    ROC    tra-T    test-T    Al-Time\n",
      "--  ------------  ---  ----  ----  -----  -------  ------  -----  -----  -----  -----  -------  --------  ---------\n",
      " 0  results/vs_1    0     1  DT    0.592    0.541   0.527  0.541  0.494  0.575      0    1.265     0.206          0\n",
      "\n",
      "25/698 - A211124 I211223\n",
      "    Dataset         T    CV  ML      Acc    b_Acc    Prec    Rec     F1    kap    ROC    tra-T    test-T    Al-Time\n",
      "--  ------------  ---  ----  ----  -----  -------  ------  -----  -----  -----  -----  -------  --------  ---------\n",
      " 0  results/vs_1    0     1  DT    0.589    0.518   0.523  0.518  0.478  0.573      0    1.202     0.205          0\n",
      "\n",
      "26/698 - I211124 A211124\n",
      "    Dataset         T    CV  ML      Acc    b_Acc    Prec    Rec     F1    kap    ROC    tra-T    test-T    Al-Time\n",
      "--  ------------  ---  ----  ----  -----  -------  ------  -----  -----  -----  -----  -------  --------  ---------\n",
      " 0  results/vs_1    0     1  DT     0.87    0.859   0.866  0.859  0.853  0.865      0    1.689      0.15          0\n",
      "\n",
      "27/698 - I211124 I211124\n",
      "    Dataset         T    CV  ML      Acc    b_Acc    Prec    Rec    F1    kap    ROC    tra-T    test-T    Al-Time\n",
      "--  ------------  ---  ----  ----  -----  -------  ------  -----  ----  -----  -----  -------  --------  ---------\n",
      " 0  results/vs_1    0     1  DT     0.92    0.921   0.925  0.921  0.92  0.917      0    1.693      0.18          0\n",
      "\n",
      "28/698 - I211124 I211125\n",
      "    Dataset         T    CV  ML      Acc    b_Acc    Prec    Rec     F1    kap    ROC    tra-T    test-T    Al-Time\n",
      "--  ------------  ---  ----  ----  -----  -------  ------  -----  -----  -----  -----  -------  --------  ---------\n",
      " 0  results/vs_1    0     1  DT    0.864    0.824   0.827  0.824  0.813  0.858      0    1.729     0.204          0\n",
      "\n",
      "29/698 - I211124 I211201\n",
      "    Dataset         T    CV  ML      Acc    b_Acc    Prec    Rec     F1    kap    ROC    tra-T    test-T    Al-Time\n",
      "--  ------------  ---  ----  ----  -----  -------  ------  -----  -----  -----  -----  -------  --------  ---------\n",
      " 0  results/vs_1    0     1  DT    0.844    0.788    0.84  0.788  0.784  0.838      0     1.74      0.18          0\n",
      "\n",
      "30/698 - I211124 I211202\n",
      "    Dataset         T    CV  ML      Acc    b_Acc    Prec    Rec     F1    kap    ROC    tra-T    test-T    Al-Time\n",
      "--  ------------  ---  ----  ----  -----  -------  ------  -----  -----  -----  -----  -------  --------  ---------\n",
      " 0  results/vs_1    0     1  DT    0.845    0.792   0.823  0.792  0.791  0.838      0    1.715     0.183          0\n",
      "\n",
      "31/698 - I211124 I211203\n",
      "    Dataset         T    CV  ML      Acc    b_Acc    Prec    Rec     F1    kap    ROC    tra-T    test-T    Al-Time\n",
      "--  ------------  ---  ----  ----  -----  -------  ------  -----  -----  -----  -----  -------  --------  ---------\n",
      " 0  results/vs_1    0     1  DT    0.659    0.598   0.608  0.598  0.583  0.646      0    1.695     0.191          0\n",
      "\n",
      "32/698 - I211124 I211207\n",
      "    Dataset         T    CV  ML      Acc    b_Acc    Prec    Rec     F1    kap    ROC    tra-T    test-T    Al-Time\n",
      "--  ------------  ---  ----  ----  -----  -------  ------  -----  -----  -----  -----  -------  --------  ---------\n",
      " 0  results/vs_1    0     1  DT    0.636    0.578   0.586  0.578  0.553  0.621      0    1.694     0.177          0\n",
      "\n",
      "33/698 - I211124 I211208\n",
      "    Dataset         T    CV  ML      Acc    b_Acc    Prec    Rec     F1    kap    ROC    tra-T    test-T    Al-Time\n",
      "--  ------------  ---  ----  ----  -----  -------  ------  -----  -----  -----  -----  -------  --------  ---------\n",
      " 0  results/vs_1    0     1  DT    0.697    0.544   0.565  0.544  0.525  0.682      0    1.774      0.15          0\n",
      "\n",
      "34/698 - I211124 I211209\n",
      "    Dataset         T    CV  ML      Acc    b_Acc    Prec    Rec     F1    kap    ROC    tra-T    test-T    Al-Time\n",
      "--  ------------  ---  ----  ----  -----  -------  ------  -----  -----  -----  -----  -------  --------  ---------\n",
      " 0  results/vs_1    0     1  DT    0.607    0.546   0.543  0.546  0.513  0.592      0    1.744     0.209          0\n",
      "\n",
      "35/698 - I211124 I211210\n",
      "    Dataset         T    CV  ML      Acc    b_Acc    Prec    Rec     F1    kap    ROC    tra-T    test-T    Al-Time\n",
      "--  ------------  ---  ----  ----  -----  -------  ------  -----  -----  -----  -----  -------  --------  ---------\n",
      " 0  results/vs_1    0     1  DT    0.638    0.553   0.572  0.553  0.534  0.623      0     1.68     0.169          0\n",
      "\n",
      "36/698 - I211124 I211213\n",
      "    Dataset         T    CV  ML      Acc    b_Acc    Prec    Rec     F1    kap    ROC    tra-T    test-T    Al-Time\n",
      "--  ------------  ---  ----  ----  -----  -------  ------  -----  -----  -----  -----  -------  --------  ---------\n",
      " 0  results/vs_1    0     1  DT    0.633    0.551   0.556  0.551  0.533  0.618      0    1.716     0.167          0\n",
      "\n",
      "37/698 - I211124 I211215\n",
      "    Dataset         T    CV  ML      Acc    b_Acc    Prec    Rec    F1    kap    ROC    tra-T    test-T    Al-Time\n",
      "--  ------------  ---  ----  ----  -----  -------  ------  -----  ----  -----  -----  -------  --------  ---------\n",
      " 0  results/vs_1    0     1  DT    0.625    0.558   0.546  0.558  0.52  0.609      0    1.725     0.179          0\n",
      "\n",
      "38/698 - I211124 I211216\n",
      "    Dataset         T    CV  ML      Acc    b_Acc    Prec    Rec     F1    kap    ROC    tra-T    test-T    Al-Time\n",
      "--  ------------  ---  ----  ----  -----  -------  ------  -----  -----  -----  -----  -------  --------  ---------\n",
      " 0  results/vs_1    0     1  DT    0.616    0.574   0.555  0.574  0.527  0.601      0    1.669     0.187          0\n",
      "\n",
      "39/698 - I211124 I211220\n",
      "    Dataset         T    CV  ML      Acc    b_Acc    Prec    Rec     F1    kap    ROC    tra-T    test-T    Al-Time\n",
      "--  ------------  ---  ----  ----  -----  -------  ------  -----  -----  -----  -----  -------  --------  ---------\n",
      " 0  results/vs_1    0     1  DT    0.607     0.55   0.528   0.55  0.505  0.591      0    1.701     0.179          0\n",
      "\n",
      "40/698 - I211124 I211222\n",
      "    Dataset         T    CV  ML      Acc    b_Acc    Prec    Rec     F1    kap    ROC    tra-T    test-T    Al-Time\n",
      "--  ------------  ---  ----  ----  -----  -------  ------  -----  -----  -----  -----  -------  --------  ---------\n",
      " 0  results/vs_1    0     1  DT     0.61    0.558   0.534  0.558  0.516  0.595      0    1.654     0.199          0\n",
      "\n",
      "41/698 - I211124 I211223\n",
      "    Dataset         T    CV  ML      Acc    b_Acc    Prec    Rec     F1    kap    ROC    tra-T    test-T    Al-Time\n",
      "--  ------------  ---  ----  ----  -----  -------  ------  -----  -----  -----  -----  -------  --------  ---------\n",
      " 0  results/vs_1    0     1  DT     0.61     0.55   0.534   0.55  0.513  0.595      0    1.698     0.177          0\n",
      "\n",
      "42/698 - I211125 A211124\n",
      "    Dataset         T    CV  ML      Acc    b_Acc    Prec    Rec     F1    kap    ROC    tra-T    test-T    Al-Time\n",
      "--  ------------  ---  ----  ----  -----  -------  ------  -----  -----  -----  -----  -------  --------  ---------\n",
      " 0  results/vs_1    0     1  DT    0.834     0.83   0.831   0.83  0.812  0.827      0    1.616     0.156          0\n",
      "\n",
      "43/698 - I211125 I211124\n",
      "    Dataset         T    CV  ML      Acc    b_Acc    Prec    Rec    F1    kap    ROC    tra-T    test-T    Al-Time\n",
      "--  ------------  ---  ----  ----  -----  -------  ------  -----  ----  -----  -----  -------  --------  ---------\n",
      " 0  results/vs_1    0     1  DT    0.876    0.844   0.885  0.844  0.85  0.871      0    1.892     0.191          0\n",
      "\n",
      "44/698 - I211125 I211125\n",
      "    Dataset         T    CV  ML      Acc    b_Acc    Prec    Rec     F1    kap    ROC    tra-T    test-T    Al-Time\n",
      "--  ------------  ---  ----  ----  -----  -------  ------  -----  -----  -----  -----  -------  --------  ---------\n",
      " 0  results/vs_1    0     1  DT    0.918    0.918   0.926  0.918  0.919  0.915      0    1.721     0.207          0\n",
      "\n"
     ]
    },
    {
     "name": "stdout",
     "output_type": "stream",
     "text": [
      "45/698 - I211125 I211201\n",
      "    Dataset         T    CV  ML      Acc    b_Acc    Prec    Rec     F1    kap    ROC    tra-T    test-T    Al-Time\n",
      "--  ------------  ---  ----  ----  -----  -------  ------  -----  -----  -----  -----  -------  --------  ---------\n",
      " 0  results/vs_1    0     1  DT    0.848    0.787   0.844  0.787  0.788  0.842      0    1.659     0.194          0\n",
      "\n",
      "46/698 - I211125 I211202\n",
      "    Dataset         T    CV  ML      Acc    b_Acc    Prec    Rec     F1    kap    ROC    tra-T    test-T    Al-Time\n",
      "--  ------------  ---  ----  ----  -----  -------  ------  -----  -----  -----  -----  -------  --------  ---------\n",
      " 0  results/vs_1    0     1  DT    0.846    0.783   0.839  0.783  0.791   0.84      0    1.775     0.196          0\n",
      "\n",
      "47/698 - I211125 I211203\n",
      "    Dataset         T    CV  ML      Acc    b_Acc    Prec    Rec     F1    kap    ROC    tra-T    test-T    Al-Time\n",
      "--  ------------  ---  ----  ----  -----  -------  ------  -----  -----  -----  -----  -------  --------  ---------\n",
      " 0  results/vs_1    0     1  DT    0.661    0.625   0.633  0.625  0.602  0.647      0    1.718     0.181          0\n",
      "\n",
      "48/698 - I211125 I211207\n",
      "    Dataset         T    CV  ML      Acc    b_Acc    Prec    Rec    F1    kap    ROC    tra-T    test-T    Al-Time\n",
      "--  ------------  ---  ----  ----  -----  -------  ------  -----  ----  -----  -----  -------  --------  ---------\n",
      " 0  results/vs_1    0     1  DT    0.675    0.615   0.621  0.615  0.58  0.661      0    1.677     0.189          0\n",
      "\n",
      "49/698 - I211125 I211208\n",
      "    Dataset         T    CV  ML      Acc    b_Acc    Prec    Rec     F1    kap    ROC    tra-T    test-T    Al-Time\n",
      "--  ------------  ---  ----  ----  -----  -------  ------  -----  -----  -----  -----  -------  --------  ---------\n",
      " 0  results/vs_1    0     1  DT    0.691    0.529   0.569  0.529  0.516  0.676      0    1.802     0.175          0\n",
      "\n",
      "50/698 - I211125 I211209\n",
      "    Dataset         T    CV  ML      Acc    b_Acc    Prec    Rec     F1    kap    ROC    tra-T    test-T    Al-Time\n",
      "--  ------------  ---  ----  ----  -----  -------  ------  -----  -----  -----  -----  -------  --------  ---------\n",
      " 0  results/vs_1    0     1  DT    0.632    0.569   0.537  0.569  0.512  0.617      0    1.818     0.187          0\n",
      "\n",
      "51/698 - I211125 I211210\n",
      "    Dataset         T    CV  ML      Acc    b_Acc    Prec    Rec     F1    kap    ROC    tra-T    test-T    Al-Time\n",
      "--  ------------  ---  ----  ----  -----  -------  ------  -----  -----  -----  -----  -------  --------  ---------\n",
      " 0  results/vs_1    0     1  DT    0.671    0.605   0.585  0.605  0.558  0.658      0     1.82       0.2          0\n",
      "\n",
      "52/698 - I211125 I211213\n",
      "    Dataset         T    CV  ML      Acc    b_Acc    Prec    Rec     F1    kap    ROC    tra-T    test-T    Al-Time\n",
      "--  ------------  ---  ----  ----  -----  -------  ------  -----  -----  -----  -----  -------  --------  ---------\n",
      " 0  results/vs_1    0     1  DT    0.677    0.609   0.607  0.609  0.566  0.664      0     1.94     0.208          0\n",
      "\n",
      "53/698 - I211125 I211215\n",
      "    Dataset         T    CV  ML      Acc    b_Acc    Prec    Rec     F1    kap    ROC    tra-T    test-T    Al-Time\n",
      "--  ------------  ---  ----  ----  -----  -------  ------  -----  -----  -----  -----  -------  --------  ---------\n",
      " 0  results/vs_1    0     1  DT    0.617    0.538   0.519  0.538  0.498  0.601      0    1.737     0.189          0\n",
      "\n",
      "54/698 - I211125 I211216\n",
      "    Dataset         T    CV  ML      Acc    b_Acc    Prec    Rec     F1    kap    ROC    tra-T    test-T    Al-Time\n",
      "--  ------------  ---  ----  ----  -----  -------  ------  -----  -----  -----  -----  -------  --------  ---------\n",
      " 0  results/vs_1    0     1  DT    0.617    0.563   0.554  0.563  0.528  0.602      0    1.857     0.192          0\n",
      "\n",
      "55/698 - I211125 I211220\n",
      "    Dataset         T    CV  ML      Acc    b_Acc    Prec    Rec     F1    kap    ROC    tra-T    test-T    Al-Time\n",
      "--  ------------  ---  ----  ----  -----  -------  ------  -----  -----  -----  -----  -------  --------  ---------\n",
      " 0  results/vs_1    0     1  DT    0.622    0.559    0.55  0.559  0.521  0.607      0    1.802     0.192          0\n",
      "\n",
      "56/698 - I211125 I211222\n",
      "    Dataset         T    CV  ML      Acc    b_Acc    Prec    Rec     F1    kap    ROC    tra-T    test-T    Al-Time\n",
      "--  ------------  ---  ----  ----  -----  -------  ------  -----  -----  -----  -----  -------  --------  ---------\n",
      " 0  results/vs_1    0     1  DT    0.622    0.575   0.573  0.575  0.534  0.606      0     1.95     0.214          0\n",
      "\n",
      "57/698 - I211125 I211223\n",
      "    Dataset         T    CV  ML      Acc    b_Acc    Prec    Rec     F1    kap    ROC    tra-T    test-T    Al-Time\n",
      "--  ------------  ---  ----  ----  -----  -------  ------  -----  -----  -----  -----  -------  --------  ---------\n",
      " 0  results/vs_1    0     1  DT    0.624    0.582   0.569  0.582  0.536  0.609      0    1.941     0.201          0\n",
      "\n",
      "58/698 - I211201 A211124\n",
      "    Dataset         T    CV  ML      Acc    b_Acc    Prec    Rec    F1    kap    ROC    tra-T    test-T    Al-Time\n",
      "--  ------------  ---  ----  ----  -----  -------  ------  -----  ----  -----  -----  -------  --------  ---------\n",
      " 0  results/vs_1    0     1  DT    0.801    0.795   0.824  0.795  0.78  0.792      0    1.936     0.173          0\n",
      "\n",
      "59/698 - I211201 I211124\n",
      "    Dataset         T    CV  ML      Acc    b_Acc    Prec    Rec     F1    kap    ROC    tra-T    test-T    Al-Time\n",
      "--  ------------  ---  ----  ----  -----  -------  ------  -----  -----  -----  -----  -------  --------  ---------\n",
      " 0  results/vs_1    0     1  DT    0.833    0.802   0.847  0.802  0.799  0.825      0    1.955     0.206          0\n",
      "\n",
      "60/698 - I211201 I211125\n",
      "    Dataset         T    CV  ML      Acc    b_Acc    Prec    Rec     F1    kap    ROC    tra-T    test-T    Al-Time\n",
      "--  ------------  ---  ----  ----  -----  -------  ------  -----  -----  -----  -----  -------  --------  ---------\n",
      " 0  results/vs_1    0     1  DT    0.841    0.829    0.85  0.829  0.832  0.835      0    2.012     0.203          0\n",
      "\n",
      "61/698 - I211201 I211201\n",
      "    Dataset         T    CV  ML      Acc    b_Acc    Prec    Rec     F1    kap    ROC    tra-T    test-T    Al-Time\n",
      "--  ------------  ---  ----  ----  -----  -------  ------  -----  -----  -----  -----  -------  --------  ---------\n",
      " 0  results/vs_1    0     1  DT    0.917    0.911   0.927  0.911  0.916  0.914      0    2.045       0.2          0\n",
      "\n",
      "62/698 - I211201 I211202\n",
      "    Dataset         T    CV  ML      Acc    b_Acc    Prec    Rec     F1    kap    ROC    tra-T    test-T    Al-Time\n",
      "--  ------------  ---  ----  ----  -----  -------  ------  -----  -----  -----  -----  -------  --------  ---------\n",
      " 0  results/vs_1    0     1  DT    0.881    0.856   0.885  0.856  0.864  0.876      0    2.058     0.202          0\n",
      "\n",
      "63/698 - I211201 I211203\n",
      "    Dataset         T    CV  ML      Acc    b_Acc    Prec    Rec     F1    kap    ROC    tra-T    test-T    Al-Time\n",
      "--  ------------  ---  ----  ----  -----  -------  ------  -----  -----  -----  -----  -------  --------  ---------\n",
      " 0  results/vs_1    0     1  DT     0.61    0.572   0.594  0.572  0.553  0.594      0    1.831     0.203          0\n",
      "\n",
      "64/698 - I211201 I211207\n",
      "    Dataset         T    CV  ML      Acc    b_Acc    Prec    Rec     F1    kap    ROC    tra-T    test-T    Al-Time\n",
      "--  ------------  ---  ----  ----  -----  -------  ------  -----  -----  -----  -----  -------  --------  ---------\n",
      " 0  results/vs_1    0     1  DT    0.661    0.598   0.602  0.598  0.575  0.647      0    1.992     0.203          0\n",
      "\n",
      "65/698 - I211201 I211208\n",
      "    Dataset         T    CV  ML      Acc    b_Acc    Prec    Rec     F1    kap    ROC    tra-T    test-T    Al-Time\n",
      "--  ------------  ---  ----  ----  -----  -------  ------  -----  -----  -----  -----  -------  --------  ---------\n",
      " 0  results/vs_1    0     1  DT    0.717    0.562   0.591  0.562  0.555  0.703      0    1.992     0.178          0\n",
      "\n",
      "66/698 - I211201 I211209\n",
      "    Dataset         T    CV  ML      Acc    b_Acc    Prec    Rec     F1    kap    ROC    tra-T    test-T    Al-Time\n",
      "--  ------------  ---  ----  ----  -----  -------  ------  -----  -----  -----  -----  -------  --------  ---------\n",
      " 0  results/vs_1    0     1  DT    0.642    0.594   0.597  0.594  0.559  0.628      0    1.975     0.205          0\n",
      "\n"
     ]
    },
    {
     "name": "stdout",
     "output_type": "stream",
     "text": [
      "67/698 - I211201 I211210\n",
      "    Dataset         T    CV  ML      Acc    b_Acc    Prec    Rec     F1    kap    ROC    tra-T    test-T    Al-Time\n",
      "--  ------------  ---  ----  ----  -----  -------  ------  -----  -----  -----  -----  -------  --------  ---------\n",
      " 0  results/vs_1    0     1  DT    0.684    0.626   0.621  0.626  0.594  0.672      0    2.017     0.205          0\n",
      "\n",
      "68/698 - I211201 I211213\n",
      "    Dataset         T    CV  ML      Acc    b_Acc    Prec    Rec     F1    kap    ROC    tra-T    test-T    Al-Time\n",
      "--  ------------  ---  ----  ----  -----  -------  ------  -----  -----  -----  -----  -------  --------  ---------\n",
      " 0  results/vs_1    0     1  DT    0.669    0.595   0.617  0.595  0.571  0.655      0    1.977      0.21          0\n",
      "\n",
      "69/698 - I211201 I211215\n",
      "    Dataset         T    CV  ML      Acc    b_Acc    Prec    Rec     F1    kap    ROC    tra-T    test-T    Al-Time\n",
      "--  ------------  ---  ----  ----  -----  -------  ------  -----  -----  -----  -----  -------  --------  ---------\n",
      " 0  results/vs_1    0     1  DT    0.626    0.539   0.565  0.539  0.514  0.611      0    2.005     0.202          0\n",
      "\n",
      "70/698 - I211201 I211216\n",
      "    Dataset         T    CV  ML      Acc    b_Acc    Prec    Rec     F1    kap    ROC    tra-T    test-T    Al-Time\n",
      "--  ------------  ---  ----  ----  -----  -------  ------  -----  -----  -----  -----  -------  --------  ---------\n",
      " 0  results/vs_1    0     1  DT    0.664    0.585   0.596  0.585  0.566   0.65      0    2.094     0.198          0\n",
      "\n",
      "71/698 - I211201 I211220\n",
      "    Dataset         T    CV  ML      Acc    b_Acc    Prec    Rec     F1    kap    ROC    tra-T    test-T    Al-Time\n",
      "--  ------------  ---  ----  ----  -----  -------  ------  -----  -----  -----  -----  -------  --------  ---------\n",
      " 0  results/vs_1    0     1  DT    0.633    0.568   0.569  0.568  0.551  0.618      0    1.962     0.212          0\n",
      "\n",
      "72/698 - I211201 I211222\n",
      "    Dataset         T    CV  ML      Acc    b_Acc    Prec    Rec     F1    kap    ROC    tra-T    test-T    Al-Time\n",
      "--  ------------  ---  ----  ----  -----  -------  ------  -----  -----  -----  -----  -------  --------  ---------\n",
      " 0  results/vs_1    0     1  DT    0.635    0.559   0.594  0.559  0.535   0.62      0    2.032     0.203          0\n",
      "\n",
      "73/698 - I211201 I211223\n",
      "    Dataset         T    CV  ML      Acc    b_Acc    Prec    Rec     F1    kap    ROC    tra-T    test-T    Al-Time\n",
      "--  ------------  ---  ----  ----  -----  -------  ------  -----  -----  -----  -----  -------  --------  ---------\n",
      " 0  results/vs_1    0     1  DT    0.627    0.556   0.587  0.556  0.527  0.611      0    1.994      0.21          0\n",
      "\n",
      "74/698 - I211202 A211124\n",
      "    Dataset         T    CV  ML      Acc    b_Acc    Prec    Rec    F1    kap    ROC    tra-T    test-T    Al-Time\n",
      "--  ------------  ---  ----  ----  -----  -------  ------  -----  ----  -----  -----  -------  --------  ---------\n",
      " 0  results/vs_1    0     1  DT    0.803    0.809   0.813  0.809  0.77  0.795      0    1.966      0.16          0\n",
      "\n",
      "75/698 - I211202 I211124\n",
      "    Dataset         T    CV  ML      Acc    b_Acc    Prec    Rec     F1    kap    ROC    tra-T    test-T    Al-Time\n",
      "--  ------------  ---  ----  ----  -----  -------  ------  -----  -----  -----  -----  -------  --------  ---------\n",
      " 0  results/vs_1    0     1  DT    0.841    0.831   0.839  0.831  0.822  0.834      0    1.944     0.204          0\n",
      "\n",
      "76/698 - I211202 I211125\n",
      "    Dataset         T    CV  ML      Acc    b_Acc    Prec    Rec     F1    kap    ROC    tra-T    test-T    Al-Time\n",
      "--  ------------  ---  ----  ----  -----  -------  ------  -----  -----  -----  -----  -------  --------  ---------\n",
      " 0  results/vs_1    0     1  DT    0.828    0.776   0.811  0.776  0.765   0.82      0    2.012     0.205          0\n",
      "\n",
      "77/698 - I211202 I211201\n",
      "    Dataset         T    CV  ML      Acc    b_Acc    Prec    Rec     F1    kap    ROC    tra-T    test-T    Al-Time\n",
      "--  ------------  ---  ----  ----  -----  -------  ------  -----  -----  -----  -----  -------  --------  ---------\n",
      " 0  results/vs_1    0     1  DT    0.871    0.846   0.861  0.846  0.838  0.866      0    1.839     0.205          0\n",
      "\n",
      "78/698 - I211202 I211202\n",
      "    Dataset         T    CV  ML      Acc    b_Acc    Prec    Rec     F1    kap    ROC    tra-T    test-T    Al-Time\n",
      "--  ------------  ---  ----  ----  -----  -------  ------  -----  -----  -----  -----  -------  --------  ---------\n",
      " 0  results/vs_1    0     1  DT    0.918    0.912   0.925  0.912  0.915  0.914      0    1.745     0.186          0\n",
      "\n",
      "79/698 - I211202 I211203\n",
      "    Dataset         T    CV  ML      Acc    b_Acc    Prec    Rec     F1    kap    ROC    tra-T    test-T    Al-Time\n",
      "--  ------------  ---  ----  ----  -----  -------  ------  -----  -----  -----  -----  -------  --------  ---------\n",
      " 0  results/vs_1    0     1  DT    0.614    0.585   0.608  0.585  0.574  0.598      0    1.815     0.209          0\n",
      "\n",
      "80/698 - I211202 I211207\n",
      "    Dataset         T    CV  ML      Acc    b_Acc    Prec    Rec     F1    kap    ROC    tra-T    test-T    Al-Time\n",
      "--  ------------  ---  ----  ----  -----  -------  ------  -----  -----  -----  -----  -------  --------  ---------\n",
      " 0  results/vs_1    0     1  DT    0.662    0.603   0.619  0.603  0.583  0.648      0    1.773     0.205          0\n",
      "\n",
      "81/698 - I211202 I211208\n",
      "    Dataset         T    CV  ML      Acc    b_Acc    Prec    Rec     F1    kap    ROC    tra-T    test-T    Al-Time\n",
      "--  ------------  ---  ----  ----  -----  -------  ------  -----  -----  -----  -----  -------  --------  ---------\n",
      " 0  results/vs_1    0     1  DT    0.724     0.57   0.596   0.57  0.555   0.71      0     1.85     0.182          0\n",
      "\n",
      "82/698 - I211202 I211209\n",
      "    Dataset         T    CV  ML      Acc    b_Acc    Prec    Rec     F1    kap    ROC    tra-T    test-T    Al-Time\n",
      "--  ------------  ---  ----  ----  -----  -------  ------  -----  -----  -----  -----  -------  --------  ---------\n",
      " 0  results/vs_1    0     1  DT    0.641    0.604   0.595  0.604  0.561  0.627      0    1.837     0.199          0\n",
      "\n",
      "83/698 - I211202 I211210\n",
      "    Dataset         T    CV  ML      Acc    b_Acc    Prec    Rec     F1    kap    ROC    tra-T    test-T    Al-Time\n",
      "--  ------------  ---  ----  ----  -----  -------  ------  -----  -----  -----  -----  -------  --------  ---------\n",
      " 0  results/vs_1    0     1  DT    0.676    0.603   0.592  0.603  0.571  0.663      0    1.774     0.198          0\n",
      "\n",
      "84/698 - I211202 I211213\n",
      "    Dataset         T    CV  ML      Acc    b_Acc    Prec    Rec     F1    kap    ROC    tra-T    test-T    Al-Time\n",
      "--  ------------  ---  ----  ----  -----  -------  ------  -----  -----  -----  -----  -------  --------  ---------\n",
      " 0  results/vs_1    0     1  DT    0.663    0.579    0.59  0.579  0.565   0.65      0    1.754     0.197          0\n",
      "\n",
      "85/698 - I211202 I211215\n",
      "    Dataset         T    CV  ML      Acc    b_Acc    Prec    Rec     F1    kap    ROC    tra-T    test-T    Al-Time\n",
      "--  ------------  ---  ----  ----  -----  -------  ------  -----  -----  -----  -----  -------  --------  ---------\n",
      " 0  results/vs_1    0     1  DT    0.643     0.54   0.545   0.54  0.492  0.629      0    1.721     0.197          0\n",
      "\n",
      "86/698 - I211202 I211216\n",
      "    Dataset         T    CV  ML      Acc    b_Acc    Prec    Rec     F1    kap    ROC    tra-T    test-T    Al-Time\n",
      "--  ------------  ---  ----  ----  -----  -------  ------  -----  -----  -----  -----  -------  --------  ---------\n",
      " 0  results/vs_1    0     1  DT    0.675    0.596   0.589  0.596  0.564  0.661      0    1.773     0.192          0\n",
      "\n",
      "87/698 - I211202 I211220\n",
      "    Dataset         T    CV  ML      Acc    b_Acc    Prec    Rec     F1    kap    ROC    tra-T    test-T    Al-Time\n",
      "--  ------------  ---  ----  ----  -----  -------  ------  -----  -----  -----  -----  -------  --------  ---------\n",
      " 0  results/vs_1    0     1  DT    0.633    0.564   0.557  0.564  0.531  0.618      0    1.698     0.195          0\n",
      "\n",
      "88/698 - I211202 I211222\n",
      "    Dataset         T    CV  ML      Acc    b_Acc    Prec    Rec     F1    kap    ROC    tra-T    test-T    Al-Time\n",
      "--  ------------  ---  ----  ----  -----  -------  ------  -----  -----  -----  -----  -------  --------  ---------\n",
      " 0  results/vs_1    0     1  DT    0.635    0.555   0.548  0.555  0.523   0.62      0     1.81     0.203          0\n",
      "\n"
     ]
    },
    {
     "name": "stdout",
     "output_type": "stream",
     "text": [
      "89/698 - I211202 I211223\n",
      "    Dataset         T    CV  ML      Acc    b_Acc    Prec    Rec     F1    kap    ROC    tra-T    test-T    Al-Time\n",
      "--  ------------  ---  ----  ----  -----  -------  ------  -----  -----  -----  -----  -------  --------  ---------\n",
      " 0  results/vs_1    0     1  DT     0.63    0.548   0.549  0.548  0.508  0.615      0    1.717      0.22          0\n",
      "\n",
      "90/698 - I211203 A211124\n",
      "    Dataset         T    CV  ML      Acc    b_Acc    Prec    Rec     F1    kap    ROC    tra-T    test-T    Al-Time\n",
      "--  ------------  ---  ----  ----  -----  -------  ------  -----  -----  -----  -----  -------  --------  ---------\n",
      " 0  results/vs_1    0     1  DT    0.649    0.584   0.562  0.584  0.552  0.634      0     1.89     0.144          0\n",
      "\n",
      "91/698 - I211203 I211124\n",
      "    Dataset         T    CV  ML      Acc    b_Acc    Prec    Rec     F1    kap    ROC    tra-T    test-T    Al-Time\n",
      "--  ------------  ---  ----  ----  -----  -------  ------  -----  -----  -----  -----  -------  --------  ---------\n",
      " 0  results/vs_1    0     1  DT    0.667    0.609   0.592  0.609  0.581  0.652      0    1.848     0.181          0\n",
      "\n",
      "92/698 - I211203 I211125\n",
      "    Dataset         T    CV  ML      Acc    b_Acc    Prec    Rec     F1    kap    ROC    tra-T    test-T    Al-Time\n",
      "--  ------------  ---  ----  ----  -----  -------  ------  -----  -----  -----  -----  -------  --------  ---------\n",
      " 0  results/vs_1    0     1  DT    0.651    0.568   0.582  0.568  0.548  0.636      0    1.809     0.182          0\n",
      "\n",
      "93/698 - I211203 I211201\n",
      "    Dataset         T    CV  ML      Acc    b_Acc    Prec    Rec     F1    kap    ROC    tra-T    test-T    Al-Time\n",
      "--  ------------  ---  ----  ----  -----  -------  ------  -----  -----  -----  -----  -------  --------  ---------\n",
      " 0  results/vs_1    0     1  DT    0.644    0.567    0.59  0.567  0.547  0.629      0    1.856     0.191          0\n",
      "\n",
      "94/698 - I211203 I211202\n",
      "    Dataset         T    CV  ML      Acc    b_Acc    Prec    Rec     F1    kap    ROC    tra-T    test-T    Al-Time\n",
      "--  ------------  ---  ----  ----  -----  -------  ------  -----  -----  -----  -----  -------  --------  ---------\n",
      " 0  results/vs_1    0     1  DT     0.64    0.561   0.586  0.561  0.546  0.625      0    1.858     0.176          0\n",
      "\n",
      "95/698 - I211203 I211203\n",
      "    Dataset         T    CV  ML      Acc    b_Acc    Prec    Rec     F1    kap    ROC    tra-T    test-T    Al-Time\n",
      "--  ------------  ---  ----  ----  -----  -------  ------  -----  -----  -----  -----  -------  --------  ---------\n",
      " 0  results/vs_1    0     1  DT    0.921    0.922   0.929  0.922  0.922  0.918      0    1.786     0.212          0\n",
      "\n",
      "96/698 - I211203 I211207\n",
      "    Dataset         T    CV  ML      Acc    b_Acc    Prec    Rec     F1    kap    ROC    tra-T    test-T    Al-Time\n",
      "--  ------------  ---  ----  ----  -----  -------  ------  -----  -----  -----  -----  -------  --------  ---------\n",
      " 0  results/vs_1    0     1  DT    0.794    0.763   0.768  0.763  0.746  0.785      0    1.879     0.194          0\n",
      "\n",
      "97/698 - I211203 I211208\n",
      "    Dataset         T    CV  ML      Acc    b_Acc    Prec    Rec     F1    kap    ROC    tra-T    test-T    Al-Time\n",
      "--  ------------  ---  ----  ----  -----  -------  ------  -----  -----  -----  -----  -------  --------  ---------\n",
      " 0  results/vs_1    0     1  DT    0.744    0.611   0.622  0.611  0.594  0.732      0    1.885     0.171          0\n",
      "\n",
      "98/698 - I211203 I211209\n",
      "    Dataset         T    CV  ML      Acc    b_Acc    Prec    Rec     F1    kap    ROC    tra-T    test-T    Al-Time\n",
      "--  ------------  ---  ----  ----  -----  -------  ------  -----  -----  -----  -----  -------  --------  ---------\n",
      " 0  results/vs_1    0     1  DT    0.755    0.724    0.71  0.724  0.691  0.745      0    1.854     0.218          0\n",
      "\n",
      "99/698 - I211203 I211210\n",
      "    Dataset         T    CV  ML      Acc    b_Acc    Prec    Rec     F1    kap    ROC    tra-T    test-T    Al-Time\n",
      "--  ------------  ---  ----  ----  -----  -------  ------  -----  -----  -----  -----  -------  --------  ---------\n",
      " 0  results/vs_1    0     1  DT     0.79    0.748   0.736  0.748  0.724  0.781      0    1.842     0.179          0\n",
      "\n",
      "100/698 - I211203 I211213\n",
      "    Dataset         T    CV  ML      Acc    b_Acc    Prec    Rec     F1    kap    ROC    tra-T    test-T    Al-Time\n",
      "--  ------------  ---  ----  ----  -----  -------  ------  -----  -----  -----  -----  -------  --------  ---------\n",
      " 0  results/vs_1    0     1  DT    0.776    0.723   0.719  0.723  0.704  0.767      0     1.99     0.187          0\n",
      "\n",
      "101/698 - I211203 I211215\n",
      "    Dataset         T    CV  ML      Acc    b_Acc    Prec    Rec    F1    kap    ROC    tra-T    test-T    Al-Time\n",
      "--  ------------  ---  ----  ----  -----  -------  ------  -----  ----  -----  -----  -------  --------  ---------\n",
      " 0  results/vs_1    0     1  DT    0.627    0.569   0.551  0.569  0.53  0.612      0    1.804     0.184          0\n",
      "\n",
      "102/698 - I211203 I211216\n",
      "    Dataset         T    CV  ML      Acc    b_Acc    Prec    Rec     F1    kap    ROC    tra-T    test-T    Al-Time\n",
      "--  ------------  ---  ----  ----  -----  -------  ------  -----  -----  -----  -----  -------  --------  ---------\n",
      " 0  results/vs_1    0     1  DT      0.6    0.566   0.548  0.566  0.527  0.584      0    1.824     0.201          0\n",
      "\n",
      "103/698 - I211203 I211220\n",
      "    Dataset         T    CV  ML      Acc    b_Acc    Prec    Rec    F1    kap    ROC    tra-T    test-T    Al-Time\n",
      "--  ------------  ---  ----  ----  -----  -------  ------  -----  ----  -----  -----  -------  --------  ---------\n",
      " 0  results/vs_1    0     1  DT    0.613    0.553   0.526  0.553  0.51  0.597      0    1.999     0.206          0\n",
      "\n",
      "104/698 - I211203 I211222\n",
      "    Dataset         T    CV  ML      Acc    b_Acc    Prec    Rec     F1    kap    ROC    tra-T    test-T    Al-Time\n",
      "--  ------------  ---  ----  ----  -----  -------  ------  -----  -----  -----  -----  -------  --------  ---------\n",
      " 0  results/vs_1    0     1  DT    0.614    0.553   0.527  0.553  0.513  0.598      0    1.923     0.207          0\n",
      "\n",
      "105/698 - I211203 I211223\n",
      "    Dataset         T    CV  ML      Acc    b_Acc    Prec    Rec     F1    kap    ROC    tra-T    test-T    Al-Time\n",
      "--  ------------  ---  ----  ----  -----  -------  ------  -----  -----  -----  -----  -------  --------  ---------\n",
      " 0  results/vs_1    0     1  DT    0.587    0.509     0.5  0.509  0.481   0.57      0    1.845     0.216          0\n",
      "\n",
      "106/698 - I211207 A211124\n",
      "    Dataset         T    CV  ML      Acc    b_Acc    Prec    Rec     F1    kap    ROC    tra-T    test-T    Al-Time\n",
      "--  ------------  ---  ----  ----  -----  -------  ------  -----  -----  -----  -----  -------  --------  ---------\n",
      " 0  results/vs_1    0     1  DT    0.613    0.575   0.561  0.575  0.504  0.597      0    1.714      0.15          0\n",
      "\n",
      "107/698 - I211207 I211124\n",
      "    Dataset         T    CV  ML      Acc    b_Acc    Prec    Rec     F1    kap    ROC    tra-T    test-T    Al-Time\n",
      "--  ------------  ---  ----  ----  -----  -------  ------  -----  -----  -----  -----  -------  --------  ---------\n",
      " 0  results/vs_1    0     1  DT    0.634    0.591   0.593  0.591  0.554  0.619      0    1.747       0.2          0\n",
      "\n",
      "108/698 - I211207 I211125\n",
      "    Dataset         T    CV  ML      Acc    b_Acc    Prec    Rec     F1    kap    ROC    tra-T    test-T    Al-Time\n",
      "--  ------------  ---  ----  ----  -----  -------  ------  -----  -----  -----  -----  -------  --------  ---------\n",
      " 0  results/vs_1    0     1  DT    0.608    0.521   0.542  0.521  0.486  0.591      0    1.571     0.196          0\n",
      "\n",
      "109/698 - I211207 I211201\n",
      "    Dataset         T    CV  ML      Acc    b_Acc    Prec    Rec     F1    kap    ROC    tra-T    test-T    Al-Time\n",
      "--  ------------  ---  ----  ----  -----  -------  ------  -----  -----  -----  -----  -------  --------  ---------\n",
      " 0  results/vs_1    0     1  DT    0.624    0.545   0.572  0.545  0.515  0.608      0    1.693     0.175          0\n",
      "\n",
      "110/698 - I211207 I211202\n",
      "    Dataset         T    CV  ML      Acc    b_Acc    Prec    Rec     F1    kap    ROC    tra-T    test-T    Al-Time\n",
      "--  ------------  ---  ----  ----  -----  -------  ------  -----  -----  -----  -----  -------  --------  ---------\n",
      " 0  results/vs_1    0     1  DT    0.626     0.54   0.558   0.54  0.513  0.611      0    1.682      0.17          0\n",
      "\n"
     ]
    },
    {
     "name": "stdout",
     "output_type": "stream",
     "text": [
      "111/698 - I211207 I211203\n",
      "    Dataset         T    CV  ML      Acc    b_Acc    Prec    Rec     F1    kap    ROC    tra-T    test-T    Al-Time\n",
      "--  ------------  ---  ----  ----  -----  -------  ------  -----  -----  -----  -----  -------  --------  ---------\n",
      " 0  results/vs_1    0     1  DT    0.752    0.761   0.782  0.761  0.741  0.743      0    1.781     0.196          0\n",
      "\n",
      "112/698 - I211207 I211207\n",
      "    Dataset         T    CV  ML      Acc    b_Acc    Prec    Rec     F1    kap    ROC    tra-T    test-T    Al-Time\n",
      "--  ------------  ---  ----  ----  -----  -------  ------  -----  -----  -----  -----  -------  --------  ---------\n",
      " 0  results/vs_1    0     1  DT    0.918    0.911   0.925  0.911  0.913  0.914      0    1.802     0.191          0\n",
      "\n",
      "113/698 - I211207 I211208\n",
      "    Dataset         T    CV  ML      Acc    b_Acc    Prec    Rec     F1    kap    ROC    tra-T    test-T    Al-Time\n",
      "--  ------------  ---  ----  ----  -----  -------  ------  -----  -----  -----  -----  -------  --------  ---------\n",
      " 0  results/vs_1    0     1  DT    0.831    0.694   0.725  0.694  0.696  0.823      0    1.603     0.168          0\n",
      "\n",
      "114/698 - I211207 I211209\n",
      "    Dataset         T    CV  ML      Acc    b_Acc    Prec    Rec     F1    kap    ROC    tra-T    test-T    Al-Time\n",
      "--  ------------  ---  ----  ----  -----  -------  ------  -----  -----  -----  -----  -------  --------  ---------\n",
      " 0  results/vs_1    0     1  DT    0.833    0.822   0.851  0.822  0.812  0.827      0    1.637     0.205          0\n",
      "\n",
      "115/698 - I211207 I211210\n",
      "    Dataset         T    CV  ML      Acc    b_Acc    Prec    Rec    F1    kap    ROC    tra-T    test-T    Al-Time\n",
      "--  ------------  ---  ----  ----  -----  -------  ------  -----  ----  -----  -----  -------  --------  ---------\n",
      " 0  results/vs_1    0     1  DT    0.874    0.838   0.841  0.838  0.83  0.869      0    1.557     0.217          0\n",
      "\n",
      "116/698 - I211207 I211213\n",
      "    Dataset         T    CV  ML      Acc    b_Acc    Prec    Rec    F1    kap    ROC    tra-T    test-T    Al-Time\n",
      "--  ------------  ---  ----  ----  -----  -------  ------  -----  ----  -----  -----  -------  --------  ---------\n",
      " 0  results/vs_1    0     1  DT    0.871    0.834   0.841  0.834  0.83  0.866      0    1.626     0.192          0\n",
      "\n",
      "117/698 - I211207 I211215\n",
      "    Dataset         T    CV  ML      Acc    b_Acc    Prec    Rec    F1    kap    ROC    tra-T    test-T    Al-Time\n",
      "--  ------------  ---  ----  ----  -----  -------  ------  -----  ----  -----  -----  -------  --------  ---------\n",
      " 0  results/vs_1    0     1  DT    0.553     0.49   0.548   0.49  0.48  0.534      0    1.719     0.199          0\n",
      "\n",
      "118/698 - I211207 I211216\n",
      "    Dataset         T    CV  ML      Acc    b_Acc    Prec    Rec     F1    kap    ROC    tra-T    test-T    Al-Time\n",
      "--  ------------  ---  ----  ----  -----  -------  ------  -----  -----  -----  -----  -------  --------  ---------\n",
      " 0  results/vs_1    0     1  DT    0.576    0.553    0.57  0.553  0.542  0.559      0    1.747     0.186          0\n",
      "\n",
      "119/698 - I211207 I211220\n",
      "    Dataset         T    CV  ML      Acc    b_Acc    Prec    Rec     F1    kap    ROC    tra-T    test-T    Al-Time\n",
      "--  ------------  ---  ----  ----  -----  -------  ------  -----  -----  -----  -----  -------  --------  ---------\n",
      " 0  results/vs_1    0     1  DT    0.546    0.498   0.543  0.498  0.487  0.527      0    1.794      0.21          0\n",
      "\n",
      "120/698 - I211207 I211222\n",
      "    Dataset         T    CV  ML      Acc    b_Acc    Prec    Rec     F1    kap    ROC    tra-T    test-T    Al-Time\n",
      "--  ------------  ---  ----  ----  -----  -------  ------  -----  -----  -----  -----  -------  --------  ---------\n",
      " 0  results/vs_1    0     1  DT    0.545    0.486   0.528  0.486  0.474  0.527      0    1.817     0.212          0\n",
      "\n",
      "121/698 - I211207 I211223\n",
      "    Dataset         T    CV  ML      Acc    b_Acc    Prec    Rec     F1    kap    ROC    tra-T    test-T    Al-Time\n",
      "--  ------------  ---  ----  ----  -----  -------  ------  -----  -----  -----  -----  -------  --------  ---------\n",
      " 0  results/vs_1    0     1  DT    0.548    0.495   0.514  0.495  0.479   0.53      0    1.818     0.209          0\n",
      "\n",
      "122/698 - I211208 A211124\n",
      "    Dataset         T    CV  ML      Acc    b_Acc    Prec    Rec     F1    kap    ROC    tra-T    test-T    Al-Time\n",
      "--  ------------  ---  ----  ----  -----  -------  ------  -----  -----  -----  -----  -------  --------  ---------\n",
      " 0  results/vs_1    0     1  DT    0.566    0.505   0.542  0.505  0.479  0.548      0    1.454     0.163          0\n",
      "\n",
      "123/698 - I211208 I211124\n",
      "    Dataset         T    CV  ML      Acc    b_Acc    Prec    Rec     F1    kap    ROC    tra-T    test-T    Al-Time\n",
      "--  ------------  ---  ----  ----  -----  -------  ------  -----  -----  -----  -----  -------  --------  ---------\n",
      " 0  results/vs_1    0     1  DT    0.591    0.527   0.563  0.527  0.513  0.574      0    1.363     0.189          0\n",
      "\n",
      "124/698 - I211208 I211125\n",
      "    Dataset         T    CV  ML      Acc    b_Acc    Prec    Rec     F1    kap    ROC    tra-T    test-T    Al-Time\n",
      "--  ------------  ---  ----  ----  -----  -------  ------  -----  -----  -----  -----  -------  --------  ---------\n",
      " 0  results/vs_1    0     1  DT    0.573    0.494    0.54  0.494  0.483  0.555      0    1.448     0.192          0\n",
      "\n",
      "125/698 - I211208 I211201\n",
      "    Dataset         T    CV  ML      Acc    b_Acc    Prec    Rec     F1    kap    ROC    tra-T    test-T    Al-Time\n",
      "--  ------------  ---  ----  ----  -----  -------  ------  -----  -----  -----  -----  -------  --------  ---------\n",
      " 0  results/vs_1    0     1  DT    0.607    0.544   0.608  0.544  0.553  0.591      0    1.457     0.184          0\n",
      "\n",
      "126/698 - I211208 I211202\n",
      "    Dataset         T    CV  ML      Acc    b_Acc    Prec    Rec     F1    kap    ROC    tra-T    test-T    Al-Time\n",
      "--  ------------  ---  ----  ----  -----  -------  ------  -----  -----  -----  -----  -------  --------  ---------\n",
      " 0  results/vs_1    0     1  DT    0.605    0.536   0.597  0.536  0.541  0.589      0    1.503     0.197          0\n",
      "\n",
      "127/698 - I211208 I211203\n",
      "    Dataset         T    CV  ML      Acc    b_Acc    Prec    Rec     F1    kap    ROC    tra-T    test-T    Al-Time\n",
      "--  ------------  ---  ----  ----  -----  -------  ------  -----  -----  -----  -----  -------  --------  ---------\n",
      " 0  results/vs_1    0     1  DT     0.68    0.673   0.676  0.673  0.639  0.667      0    1.428     0.199          0\n",
      "\n",
      "128/698 - I211208 I211207\n",
      "    Dataset         T    CV  ML      Acc    b_Acc    Prec    Rec     F1    kap    ROC    tra-T    test-T    Al-Time\n",
      "--  ------------  ---  ----  ----  -----  -------  ------  -----  -----  -----  -----  -------  --------  ---------\n",
      " 0  results/vs_1    0     1  DT    0.771    0.732   0.732  0.732  0.703  0.761      0    1.425     0.194          0\n",
      "\n",
      "129/698 - I211208 I211208\n",
      "    Dataset         T    CV  ML      Acc    b_Acc    Prec    Rec     F1    kap    ROC    tra-T    test-T    Al-Time\n",
      "--  ------------  ---  ----  ----  -----  -------  ------  -----  -----  -----  -----  -------  --------  ---------\n",
      " 0  results/vs_1    0     1  DT    0.907    0.795   0.821  0.795  0.796  0.903      0    1.414     0.168          0\n",
      "\n",
      "130/698 - I211208 I211209\n",
      "    Dataset         T    CV  ML      Acc    b_Acc    Prec    Rec     F1    kap    ROC    tra-T    test-T    Al-Time\n",
      "--  ------------  ---  ----  ----  -----  -------  ------  -----  -----  -----  -----  -------  --------  ---------\n",
      " 0  results/vs_1    0     1  DT    0.745    0.716   0.716  0.716  0.677  0.735      0    1.397     0.197          0\n",
      "\n",
      "131/698 - I211208 I211210\n",
      "    Dataset         T    CV  ML      Acc    b_Acc    Prec    Rec     F1    kap    ROC    tra-T    test-T    Al-Time\n",
      "--  ------------  ---  ----  ----  -----  -------  ------  -----  -----  -----  -----  -------  --------  ---------\n",
      " 0  results/vs_1    0     1  DT    0.778    0.728    0.74  0.728  0.705  0.769      0    1.326     0.191          0\n",
      "\n",
      "132/698 - I211208 I211213\n",
      "    Dataset         T    CV  ML      Acc    b_Acc    Prec    Rec     F1    kap    ROC    tra-T    test-T    Al-Time\n",
      "--  ------------  ---  ----  ----  -----  -------  ------  -----  -----  -----  -----  -------  --------  ---------\n",
      " 0  results/vs_1    0     1  DT    0.763    0.698   0.709  0.698  0.679  0.753      0    1.296      0.19          0\n",
      "\n"
     ]
    },
    {
     "name": "stdout",
     "output_type": "stream",
     "text": [
      "133/698 - I211208 I211215\n",
      "    Dataset         T    CV  ML      Acc    b_Acc    Prec    Rec     F1    kap    ROC    tra-T    test-T    Al-Time\n",
      "--  ------------  ---  ----  ----  -----  -------  ------  -----  -----  -----  -----  -------  --------  ---------\n",
      " 0  results/vs_1    0     1  DT    0.616    0.531   0.569  0.531  0.526    0.6      0    1.335     0.187          0\n",
      "\n",
      "134/698 - I211208 I211216\n",
      "    Dataset         T    CV  ML      Acc    b_Acc    Prec    Rec     F1    kap    ROC    tra-T    test-T    Al-Time\n",
      "--  ------------  ---  ----  ----  -----  -------  ------  -----  -----  -----  -----  -------  --------  ---------\n",
      " 0  results/vs_1    0     1  DT    0.647    0.571   0.607  0.571  0.568  0.632      0     1.35     0.192          0\n",
      "\n",
      "135/698 - I211208 I211220\n",
      "    Dataset         T    CV  ML      Acc    b_Acc    Prec    Rec     F1    kap    ROC    tra-T    test-T    Al-Time\n",
      "--  ------------  ---  ----  ----  -----  -------  ------  -----  -----  -----  -----  -------  --------  ---------\n",
      " 0  results/vs_1    0     1  DT    0.601    0.527   0.564  0.527  0.523  0.585      0    1.373     0.191          0\n",
      "\n",
      "136/698 - I211208 I211222\n",
      "    Dataset         T    CV  ML      Acc    b_Acc    Prec    Rec     F1    kap    ROC    tra-T    test-T    Al-Time\n",
      "--  ------------  ---  ----  ----  -----  -------  ------  -----  -----  -----  -----  -------  --------  ---------\n",
      " 0  results/vs_1    0     1  DT    0.602    0.516   0.579  0.516  0.511  0.586      0     1.48     0.196          0\n",
      "\n",
      "137/698 - I211208 I211223\n",
      "    Dataset         T    CV  ML      Acc    b_Acc    Prec    Rec    F1    kap    ROC    tra-T    test-T    Al-Time\n",
      "--  ------------  ---  ----  ----  -----  -------  ------  -----  ----  -----  -----  -------  --------  ---------\n",
      " 0  results/vs_1    0     1  DT    0.593    0.502   0.576  0.502   0.5  0.576      0    1.484      0.21          0\n",
      "\n",
      "138/698 - I211209 A211124\n",
      "    Dataset         T    CV  ML      Acc    b_Acc    Prec    Rec    F1    kap    ROC    tra-T    test-T    Al-Time\n",
      "--  ------------  ---  ----  ----  -----  -------  ------  -----  ----  -----  -----  -------  --------  ---------\n",
      " 0  results/vs_1    0     1  DT    0.603    0.532   0.559  0.532   0.5  0.585      0    1.966     0.156          0\n",
      "\n",
      "139/698 - I211209 I211124\n",
      "    Dataset         T    CV  ML      Acc    b_Acc    Prec    Rec     F1    kap    ROC    tra-T    test-T    Al-Time\n",
      "--  ------------  ---  ----  ----  -----  -------  ------  -----  -----  -----  -----  -------  --------  ---------\n",
      " 0  results/vs_1    0     1  DT    0.623    0.564   0.588  0.564  0.531  0.607      0     1.91     0.199          0\n",
      "\n",
      "140/698 - I211209 I211125\n",
      "    Dataset         T    CV  ML      Acc    b_Acc    Prec    Rec     F1    kap    ROC    tra-T    test-T    Al-Time\n",
      "--  ------------  ---  ----  ----  -----  -------  ------  -----  -----  -----  -----  -------  --------  ---------\n",
      " 0  results/vs_1    0     1  DT    0.611    0.524    0.57  0.524  0.491  0.594      0    1.876     0.199          0\n",
      "\n",
      "141/698 - I211209 I211201\n",
      "    Dataset         T    CV  ML      Acc    b_Acc    Prec    Rec     F1    kap    ROC    tra-T    test-T    Al-Time\n",
      "--  ------------  ---  ----  ----  -----  -------  ------  -----  -----  -----  -----  -------  --------  ---------\n",
      " 0  results/vs_1    0     1  DT    0.625    0.546   0.558  0.546  0.504   0.61      0    1.874     0.186          0\n",
      "\n",
      "142/698 - I211209 I211202\n",
      "    Dataset         T    CV  ML      Acc    b_Acc    Prec    Rec     F1    kap    ROC    tra-T    test-T    Al-Time\n",
      "--  ------------  ---  ----  ----  -----  -------  ------  -----  -----  -----  -----  -------  --------  ---------\n",
      " 0  results/vs_1    0     1  DT    0.624    0.551   0.568  0.551  0.512  0.609      0    1.894      0.18          0\n",
      "\n",
      "143/698 - I211209 I211203\n",
      "    Dataset         T    CV  ML      Acc    b_Acc    Prec    Rec     F1    kap    ROC    tra-T    test-T    Al-Time\n",
      "--  ------------  ---  ----  ----  -----  -------  ------  -----  -----  -----  -----  -------  --------  ---------\n",
      " 0  results/vs_1    0     1  DT    0.756    0.758   0.761  0.758  0.733  0.746      0    1.579     0.202          0\n",
      "\n",
      "144/698 - I211209 I211207\n",
      "    Dataset         T    CV  ML      Acc    b_Acc    Prec    Rec     F1    kap    ROC    tra-T    test-T    Al-Time\n",
      "--  ------------  ---  ----  ----  -----  -------  ------  -----  -----  -----  -----  -------  --------  ---------\n",
      " 0  results/vs_1    0     1  DT     0.87    0.854   0.871  0.854  0.852  0.865      0    1.957     0.194          0\n",
      "\n",
      "145/698 - I211209 I211208\n",
      "    Dataset         T    CV  ML      Acc    b_Acc    Prec    Rec     F1    kap    ROC    tra-T    test-T    Al-Time\n",
      "--  ------------  ---  ----  ----  -----  -------  ------  -----  -----  -----  -----  -------  --------  ---------\n",
      " 0  results/vs_1    0     1  DT    0.825    0.671   0.685  0.671  0.653  0.817      0    1.964      0.18          0\n",
      "\n",
      "146/698 - I211209 I211209\n",
      "    Dataset         T    CV  ML      Acc    b_Acc    Prec    Rec     F1    kap    ROC    tra-T    test-T    Al-Time\n",
      "--  ------------  ---  ----  ----  -----  -------  ------  -----  -----  -----  -----  -------  --------  ---------\n",
      " 0  results/vs_1    0     1  DT    0.923    0.913   0.926  0.913  0.916   0.92      0    1.832      0.19          0\n",
      "\n",
      "147/698 - I211209 I211210\n",
      "    Dataset         T    CV  ML      Acc    b_Acc    Prec    Rec     F1    kap    ROC    tra-T    test-T    Al-Time\n",
      "--  ------------  ---  ----  ----  -----  -------  ------  -----  -----  -----  -----  -------  --------  ---------\n",
      " 0  results/vs_1    0     1  DT    0.871    0.831    0.87  0.831  0.835  0.866      0    1.875       0.2          0\n",
      "\n",
      "148/698 - I211209 I211213\n",
      "    Dataset         T    CV  ML      Acc    b_Acc    Prec    Rec     F1    kap    ROC    tra-T    test-T    Al-Time\n",
      "--  ------------  ---  ----  ----  -----  -------  ------  -----  -----  -----  -----  -------  --------  ---------\n",
      " 0  results/vs_1    0     1  DT     0.86    0.817   0.848  0.817  0.818  0.854      0    1.832       0.2          0\n",
      "\n",
      "149/698 - I211209 I211215\n",
      "    Dataset         T    CV  ML      Acc    b_Acc    Prec    Rec     F1    kap    ROC    tra-T    test-T    Al-Time\n",
      "--  ------------  ---  ----  ----  -----  -------  ------  -----  -----  -----  -----  -------  --------  ---------\n",
      " 0  results/vs_1    0     1  DT    0.545    0.468   0.511  0.468  0.457  0.526      0    1.825     0.181          0\n",
      "\n",
      "150/698 - I211209 I211216\n",
      "    Dataset         T    CV  ML      Acc    b_Acc    Prec    Rec     F1    kap    ROC    tra-T    test-T    Al-Time\n",
      "--  ------------  ---  ----  ----  -----  -------  ------  -----  -----  -----  -----  -------  --------  ---------\n",
      " 0  results/vs_1    0     1  DT    0.569    0.529   0.573  0.529  0.523  0.552      0    1.717     0.177          0\n",
      "\n",
      "151/698 - I211209 I211220\n",
      "    Dataset         T    CV  ML      Acc    b_Acc    Prec    Rec     F1    kap    ROC    tra-T    test-T    Al-Time\n",
      "--  ------------  ---  ----  ----  -----  -------  ------  -----  -----  -----  -----  -------  --------  ---------\n",
      " 0  results/vs_1    0     1  DT    0.545    0.487   0.507  0.487  0.465  0.527      0    1.694     0.199          0\n",
      "\n",
      "152/698 - I211209 I211222\n",
      "    Dataset         T    CV  ML      Acc    b_Acc    Prec    Rec     F1    kap    ROC    tra-T    test-T    Al-Time\n",
      "--  ------------  ---  ----  ----  -----  -------  ------  -----  -----  -----  -----  -------  --------  ---------\n",
      " 0  results/vs_1    0     1  DT    0.535    0.463   0.514  0.463  0.453  0.516      0    1.938     0.202          0\n",
      "\n",
      "153/698 - I211209 I211223\n",
      "    Dataset         T    CV  ML      Acc    b_Acc    Prec    Rec     F1    kap    ROC    tra-T    test-T    Al-Time\n",
      "--  ------------  ---  ----  ----  -----  -------  ------  -----  -----  -----  -----  -------  --------  ---------\n",
      " 0  results/vs_1    0     1  DT    0.536    0.472   0.528  0.472  0.458  0.517      0    1.819     0.197          0\n",
      "\n",
      "154/698 - I211210 A211124\n",
      "    Dataset         T    CV  ML      Acc    b_Acc    Prec    Rec     F1    kap    ROC    tra-T    test-T    Al-Time\n",
      "--  ------------  ---  ----  ----  -----  -------  ------  -----  -----  -----  -----  -------  --------  ---------\n",
      " 0  results/vs_1    0     1  DT    0.624    0.554   0.533  0.554  0.488  0.609      0    1.693     0.157          0\n",
      "\n"
     ]
    },
    {
     "name": "stdout",
     "output_type": "stream",
     "text": [
      "155/698 - I211210 I211124\n",
      "    Dataset         T    CV  ML      Acc    b_Acc    Prec    Rec     F1    kap    ROC    tra-T    test-T    Al-Time\n",
      "--  ------------  ---  ----  ----  -----  -------  ------  -----  -----  -----  -----  -------  --------  ---------\n",
      " 0  results/vs_1    0     1  DT    0.598    0.546   0.562  0.546  0.503  0.581      0    1.643     0.183          0\n",
      "\n",
      "156/698 - I211210 I211125\n",
      "    Dataset         T    CV  ML      Acc    b_Acc    Prec    Rec     F1    kap    ROC    tra-T    test-T    Al-Time\n",
      "--  ------------  ---  ----  ----  -----  -------  ------  -----  -----  -----  -----  -------  --------  ---------\n",
      " 0  results/vs_1    0     1  DT    0.628    0.585   0.554  0.585  0.529  0.613      0    1.606      0.18          0\n",
      "\n",
      "157/698 - I211210 I211201\n",
      "    Dataset         T    CV  ML      Acc    b_Acc    Prec    Rec     F1    kap    ROC    tra-T    test-T    Al-Time\n",
      "--  ------------  ---  ----  ----  -----  -------  ------  -----  -----  -----  -----  -------  --------  ---------\n",
      " 0  results/vs_1    0     1  DT    0.602    0.547   0.578  0.547  0.508  0.586      0    1.621     0.178          0\n",
      "\n",
      "158/698 - I211210 I211202\n",
      "    Dataset         T    CV  ML      Acc    b_Acc    Prec    Rec    F1    kap    ROC    tra-T    test-T    Al-Time\n",
      "--  ------------  ---  ----  ----  -----  -------  ------  -----  ----  -----  -----  -------  --------  ---------\n",
      " 0  results/vs_1    0     1  DT    0.592    0.528   0.568  0.528   0.5  0.576      0      1.7     0.185          0\n",
      "\n",
      "159/698 - I211210 I211203\n",
      "    Dataset         T    CV  ML      Acc    b_Acc    Prec    Rec     F1    kap    ROC    tra-T    test-T    Al-Time\n",
      "--  ------------  ---  ----  ----  -----  -------  ------  -----  -----  -----  -----  -------  --------  ---------\n",
      " 0  results/vs_1    0     1  DT    0.732    0.744   0.753  0.744  0.722  0.722      0    1.627     0.177          0\n",
      "\n",
      "160/698 - I211210 I211207\n",
      "    Dataset         T    CV  ML      Acc    b_Acc    Prec    Rec    F1    kap    ROC    tra-T    test-T    Al-Time\n",
      "--  ------------  ---  ----  ----  -----  -------  ------  -----  ----  -----  -----  -------  --------  ---------\n",
      " 0  results/vs_1    0     1  DT    0.838     0.83   0.867   0.83  0.83  0.832      0    1.838     0.202          0\n",
      "\n",
      "161/698 - I211210 I211208\n",
      "    Dataset         T    CV  ML      Acc    b_Acc    Prec    Rec     F1    kap    ROC    tra-T    test-T    Al-Time\n",
      "--  ------------  ---  ----  ----  -----  -------  ------  -----  -----  -----  -----  -------  --------  ---------\n",
      " 0  results/vs_1    0     1  DT    0.788    0.667   0.702  0.667  0.665  0.778      0    1.624     0.168          0\n",
      "\n",
      "162/698 - I211210 I211209\n",
      "    Dataset         T    CV  ML      Acc    b_Acc    Prec    Rec     F1    kap    ROC    tra-T    test-T    Al-Time\n",
      "--  ------------  ---  ----  ----  -----  -------  ------  -----  -----  -----  -----  -------  --------  ---------\n",
      " 0  results/vs_1    0     1  DT    0.826    0.808   0.811  0.808  0.789   0.82      0    1.669     0.188          0\n",
      "\n",
      "163/698 - I211210 I211210\n",
      "    Dataset         T    CV  ML      Acc    b_Acc    Prec    Rec     F1    kap    ROC    tra-T    test-T    Al-Time\n",
      "--  ------------  ---  ----  ----  -----  -------  ------  -----  -----  -----  -----  -------  --------  ---------\n",
      " 0  results/vs_1    0     1  DT    0.918     0.91   0.924   0.91  0.914  0.915      0    1.624     0.185          0\n",
      "\n",
      "164/698 - I211210 I211213\n",
      "    Dataset         T    CV  ML      Acc    b_Acc    Prec    Rec     F1    kap    ROC    tra-T    test-T    Al-Time\n",
      "--  ------------  ---  ----  ----  -----  -------  ------  -----  -----  -----  -----  -------  --------  ---------\n",
      " 0  results/vs_1    0     1  DT    0.872    0.846   0.878  0.846  0.849  0.867      0    1.823     0.177          0\n",
      "\n",
      "165/698 - I211210 I211215\n",
      "    Dataset         T    CV  ML      Acc    b_Acc    Prec    Rec     F1    kap    ROC    tra-T    test-T    Al-Time\n",
      "--  ------------  ---  ----  ----  -----  -------  ------  -----  -----  -----  -----  -------  --------  ---------\n",
      " 0  results/vs_1    0     1  DT    0.525    0.476   0.522  0.476  0.458  0.506      0     1.88     0.194          0\n",
      "\n",
      "166/698 - I211210 I211216\n",
      "    Dataset         T    CV  ML      Acc    b_Acc    Prec    Rec     F1    kap    ROC    tra-T    test-T    Al-Time\n",
      "--  ------------  ---  ----  ----  -----  -------  ------  -----  -----  -----  -----  -------  --------  ---------\n",
      " 0  results/vs_1    0     1  DT    0.538    0.515   0.575  0.515  0.509   0.52      0    1.722     0.193          0\n",
      "\n",
      "167/698 - I211210 I211220\n",
      "    Dataset         T    CV  ML      Acc    b_Acc    Prec    Rec     F1    kap    ROC    tra-T    test-T    Al-Time\n",
      "--  ------------  ---  ----  ----  -----  -------  ------  -----  -----  -----  -----  -------  --------  ---------\n",
      " 0  results/vs_1    0     1  DT    0.561    0.522   0.555  0.522  0.493  0.543      0     1.68     0.198          0\n",
      "\n",
      "168/698 - I211210 I211222\n",
      "    Dataset         T    CV  ML      Acc    b_Acc    Prec    Rec     F1    kap    ROC    tra-T    test-T    Al-Time\n",
      "--  ------------  ---  ----  ----  -----  -------  ------  -----  -----  -----  -----  -------  --------  ---------\n",
      " 0  results/vs_1    0     1  DT    0.527    0.485   0.545  0.485  0.448  0.508      0    1.904     0.236          0\n",
      "\n",
      "169/698 - I211210 I211223\n",
      "    Dataset         T    CV  ML      Acc    b_Acc    Prec    Rec     F1    kap    ROC    tra-T    test-T    Al-Time\n",
      "--  ------------  ---  ----  ----  -----  -------  ------  -----  -----  -----  -----  -------  --------  ---------\n",
      " 0  results/vs_1    0     1  DT    0.535    0.482   0.552  0.482  0.449  0.517      0    1.135     0.198          0\n",
      "\n",
      "170/698 - I211213 A211124\n",
      "    Dataset         T    CV  ML      Acc    b_Acc    Prec    Rec     F1    kap    ROC    tra-T    test-T    Al-Time\n",
      "--  ------------  ---  ----  ----  -----  -------  ------  -----  -----  -----  -----  -------  --------  ---------\n",
      " 0  results/vs_1    0     1  DT    0.611    0.563   0.549  0.563  0.505  0.594      0    1.698      0.16          0\n",
      "\n",
      "171/698 - I211213 I211124\n",
      "    Dataset         T    CV  ML      Acc    b_Acc    Prec    Rec     F1    kap    ROC    tra-T    test-T    Al-Time\n",
      "--  ------------  ---  ----  ----  -----  -------  ------  -----  -----  -----  -----  -------  --------  ---------\n",
      " 0  results/vs_1    0     1  DT    0.625    0.567   0.581  0.567  0.536  0.609      0    1.898     0.227          0\n",
      "\n",
      "172/698 - I211213 I211125\n",
      "    Dataset         T    CV  ML      Acc    b_Acc    Prec    Rec     F1    kap    ROC    tra-T    test-T    Al-Time\n",
      "--  ------------  ---  ----  ----  -----  -------  ------  -----  -----  -----  -----  -------  --------  ---------\n",
      " 0  results/vs_1    0     1  DT     0.64    0.577   0.565  0.577  0.543  0.625      0    1.747     0.173          0\n",
      "\n",
      "173/698 - I211213 I211201\n",
      "    Dataset         T    CV  ML      Acc    b_Acc    Prec    Rec    F1    kap    ROC    tra-T    test-T    Al-Time\n",
      "--  ------------  ---  ----  ----  -----  -------  ------  -----  ----  -----  -----  -------  --------  ---------\n",
      " 0  results/vs_1    0     1  DT    0.625    0.542   0.578  0.542  0.52  0.609      0    1.714     0.175          0\n",
      "\n",
      "174/698 - I211213 I211202\n",
      "    Dataset         T    CV  ML      Acc    b_Acc    Prec    Rec     F1    kap    ROC    tra-T    test-T    Al-Time\n",
      "--  ------------  ---  ----  ----  -----  -------  ------  -----  -----  -----  -----  -------  --------  ---------\n",
      " 0  results/vs_1    0     1  DT    0.624    0.534   0.554  0.534  0.506  0.609      0    1.699     0.179          0\n",
      "\n",
      "175/698 - I211213 I211203\n",
      "    Dataset         T    CV  ML      Acc    b_Acc    Prec    Rec     F1    kap    ROC    tra-T    test-T    Al-Time\n",
      "--  ------------  ---  ----  ----  -----  -------  ------  -----  -----  -----  -----  -------  --------  ---------\n",
      " 0  results/vs_1    0     1  DT    0.757    0.752    0.74  0.752  0.728  0.747      0    1.717     0.201          0\n",
      "\n",
      "176/698 - I211213 I211207\n",
      "    Dataset         T    CV  ML      Acc    b_Acc    Prec    Rec     F1    kap    ROC    tra-T    test-T    Al-Time\n",
      "--  ------------  ---  ----  ----  -----  -------  ------  -----  -----  -----  -----  -------  --------  ---------\n",
      " 0  results/vs_1    0     1  DT    0.863    0.829   0.842  0.829  0.824  0.857      0    1.631     0.164          0\n",
      "\n"
     ]
    },
    {
     "name": "stdout",
     "output_type": "stream",
     "text": [
      "177/698 - I211213 I211208\n",
      "    Dataset         T    CV  ML      Acc    b_Acc    Prec    Rec     F1    kap    ROC    tra-T    test-T    Al-Time\n",
      "--  ------------  ---  ----  ----  -----  -------  ------  -----  -----  -----  -----  -------  --------  ---------\n",
      " 0  results/vs_1    0     1  DT    0.827    0.677   0.704  0.677  0.678  0.819      0    1.724     0.155          0\n",
      "\n",
      "178/698 - I211213 I211209\n",
      "    Dataset         T    CV  ML      Acc    b_Acc    Prec    Rec     F1    kap    ROC    tra-T    test-T    Al-Time\n",
      "--  ------------  ---  ----  ----  -----  -------  ------  -----  -----  -----  -----  -------  --------  ---------\n",
      " 0  results/vs_1    0     1  DT    0.831    0.819   0.819  0.819  0.798  0.824      0    1.618     0.184          0\n",
      "\n",
      "179/698 - I211213 I211210\n",
      "    Dataset         T    CV  ML      Acc    b_Acc    Prec    Rec     F1    kap    ROC    tra-T    test-T    Al-Time\n",
      "--  ------------  ---  ----  ----  -----  -------  ------  -----  -----  -----  -----  -------  --------  ---------\n",
      " 0  results/vs_1    0     1  DT    0.887    0.866   0.894  0.866  0.873  0.882      0    1.596     0.194          0\n",
      "\n",
      "180/698 - I211213 I211213\n",
      "    Dataset         T    CV  ML      Acc    b_Acc    Prec    Rec     F1    kap    ROC    tra-T    test-T    Al-Time\n",
      "--  ------------  ---  ----  ----  -----  -------  ------  -----  -----  -----  -----  -------  --------  ---------\n",
      " 0  results/vs_1    0     1  DT    0.917    0.908   0.922  0.908  0.911  0.913      0    1.686     0.189          0\n",
      "\n",
      "181/698 - I211213 I211215\n",
      "    Dataset         T    CV  ML      Acc    b_Acc    Prec    Rec     F1    kap    ROC    tra-T    test-T    Al-Time\n",
      "--  ------------  ---  ----  ----  -----  -------  ------  -----  -----  -----  -----  -------  --------  ---------\n",
      " 0  results/vs_1    0     1  DT    0.544    0.481   0.495  0.481  0.446  0.525      0    1.877     0.202          0\n",
      "\n",
      "182/698 - I211213 I211216\n",
      "    Dataset         T    CV  ML      Acc    b_Acc    Prec    Rec     F1    kap    ROC    tra-T    test-T    Al-Time\n",
      "--  ------------  ---  ----  ----  -----  -------  ------  -----  -----  -----  -----  -------  --------  ---------\n",
      " 0  results/vs_1    0     1  DT    0.557    0.502    0.53  0.502  0.474  0.539      0    1.617     0.169          0\n",
      "\n",
      "183/698 - I211213 I211220\n",
      "    Dataset         T    CV  ML      Acc    b_Acc    Prec    Rec     F1    kap    ROC    tra-T    test-T    Al-Time\n",
      "--  ------------  ---  ----  ----  -----  -------  ------  -----  -----  -----  -----  -------  --------  ---------\n",
      " 0  results/vs_1    0     1  DT    0.578    0.516   0.552  0.516  0.513   0.56      0    1.655     0.194          0\n",
      "\n",
      "184/698 - I211213 I211222\n",
      "    Dataset         T    CV  ML      Acc    b_Acc    Prec    Rec     F1    kap    ROC    tra-T    test-T    Al-Time\n",
      "--  ------------  ---  ----  ----  -----  -------  ------  -----  -----  -----  -----  -------  --------  ---------\n",
      " 0  results/vs_1    0     1  DT    0.611    0.519   0.565  0.519  0.516  0.595      0    1.557     0.177          0\n",
      "\n",
      "185/698 - I211213 I211223\n",
      "    Dataset         T    CV  ML      Acc    b_Acc    Prec    Rec     F1    kap    ROC    tra-T    test-T    Al-Time\n",
      "--  ------------  ---  ----  ----  -----  -------  ------  -----  -----  -----  -----  -------  --------  ---------\n",
      " 0  results/vs_1    0     1  DT    0.592    0.525   0.577  0.525  0.514  0.575      0    1.564      0.18          0\n",
      "\n",
      "186/698 - I211215 A211124\n",
      "    Dataset         T    CV  ML      Acc    b_Acc    Prec    Rec     F1    kap    ROC    tra-T    test-T    Al-Time\n",
      "--  ------------  ---  ----  ----  -----  -------  ------  -----  -----  -----  -----  -------  --------  ---------\n",
      " 0  results/vs_1    0     1  DT    0.549    0.527   0.526  0.527  0.469  0.531      0    1.592     0.147          0\n",
      "\n",
      "187/698 - I211215 I211124\n",
      "    Dataset         T    CV  ML      Acc    b_Acc    Prec    Rec     F1    kap    ROC    tra-T    test-T    Al-Time\n",
      "--  ------------  ---  ----  ----  -----  -------  ------  -----  -----  -----  -----  -------  --------  ---------\n",
      " 0  results/vs_1    0     1  DT    0.622    0.542   0.587  0.542  0.516  0.606      0    1.693     0.178          0\n",
      "\n",
      "188/698 - I211215 I211125\n",
      "    Dataset         T    CV  ML      Acc    b_Acc    Prec    Rec     F1    kap    ROC    tra-T    test-T    Al-Time\n",
      "--  ------------  ---  ----  ----  -----  -------  ------  -----  -----  -----  -----  -------  --------  ---------\n",
      " 0  results/vs_1    0     1  DT    0.609    0.521   0.537  0.521  0.493  0.592      0    1.925     0.182          0\n",
      "\n",
      "189/698 - I211215 I211201\n",
      "    Dataset         T    CV  ML      Acc    b_Acc    Prec    Rec     F1    kap    ROC    tra-T    test-T    Al-Time\n",
      "--  ------------  ---  ----  ----  -----  -------  ------  -----  -----  -----  -----  -------  --------  ---------\n",
      " 0  results/vs_1    0     1  DT     0.62    0.538   0.559  0.538  0.519  0.604      0    1.719     0.188          0\n",
      "\n",
      "190/698 - I211215 I211202\n",
      "    Dataset         T    CV  ML      Acc    b_Acc    Prec    Rec     F1    kap    ROC    tra-T    test-T    Al-Time\n",
      "--  ------------  ---  ----  ----  -----  -------  ------  -----  -----  -----  -----  -------  --------  ---------\n",
      " 0  results/vs_1    0     1  DT    0.614    0.524    0.56  0.524  0.502  0.598      0    1.753      0.17          0\n",
      "\n",
      "191/698 - I211215 I211203\n",
      "    Dataset         T    CV  ML      Acc    b_Acc    Prec    Rec     F1    kap    ROC    tra-T    test-T    Al-Time\n",
      "--  ------------  ---  ----  ----  -----  -------  ------  -----  -----  -----  -----  -------  --------  ---------\n",
      " 0  results/vs_1    0     1  DT    0.646    0.603    0.63  0.603  0.573  0.632      0    1.757       0.2          0\n",
      "\n",
      "192/698 - I211215 I211207\n",
      "    Dataset         T    CV  ML      Acc    b_Acc    Prec    Rec     F1    kap    ROC    tra-T    test-T    Al-Time\n",
      "--  ------------  ---  ----  ----  -----  -------  ------  -----  -----  -----  -----  -------  --------  ---------\n",
      " 0  results/vs_1    0     1  DT    0.645    0.594   0.607  0.594  0.562   0.63      0    1.635     0.173          0\n",
      "\n",
      "193/698 - I211215 I211208\n",
      "    Dataset         T    CV  ML      Acc    b_Acc    Prec    Rec     F1    kap    ROC    tra-T    test-T    Al-Time\n",
      "--  ------------  ---  ----  ----  -----  -------  ------  -----  -----  -----  -----  -------  --------  ---------\n",
      " 0  results/vs_1    0     1  DT    0.698    0.549    0.58  0.549  0.546  0.683      0    1.695     0.169          0\n",
      "\n",
      "194/698 - I211215 I211209\n",
      "    Dataset         T    CV  ML      Acc    b_Acc    Prec    Rec     F1    kap    ROC    tra-T    test-T    Al-Time\n",
      "--  ------------  ---  ----  ----  -----  -------  ------  -----  -----  -----  -----  -------  --------  ---------\n",
      " 0  results/vs_1    0     1  DT    0.597    0.546   0.556  0.546  0.493  0.581      0    1.788     0.195          0\n",
      "\n",
      "195/698 - I211215 I211210\n",
      "    Dataset         T    CV  ML      Acc    b_Acc    Prec    Rec     F1    kap    ROC    tra-T    test-T    Al-Time\n",
      "--  ------------  ---  ----  ----  -----  -------  ------  -----  -----  -----  -----  -------  --------  ---------\n",
      " 0  results/vs_1    0     1  DT    0.609    0.565   0.571  0.565  0.528  0.593      0     1.76     0.187          0\n",
      "\n",
      "196/698 - I211215 I211213\n",
      "    Dataset         T    CV  ML      Acc    b_Acc    Prec    Rec     F1    kap    ROC    tra-T    test-T    Al-Time\n",
      "--  ------------  ---  ----  ----  -----  -------  ------  -----  -----  -----  -----  -------  --------  ---------\n",
      " 0  results/vs_1    0     1  DT    0.602    0.543   0.559  0.543  0.505  0.586      0    1.716     0.179          0\n",
      "\n",
      "197/698 - I211215 I211215\n",
      "    Dataset         T    CV  ML      Acc    b_Acc    Prec    Rec     F1    kap    ROC    tra-T    test-T    Al-Time\n",
      "--  ------------  ---  ----  ----  -----  -------  ------  -----  -----  -----  -----  -------  --------  ---------\n",
      " 0  results/vs_1    0     1  DT    0.922    0.912   0.927  0.912  0.917  0.919      0    1.668     0.191          0\n",
      "\n",
      "198/698 - I211215 I211216\n",
      "    Dataset         T    CV  ML      Acc    b_Acc    Prec    Rec    F1    kap    ROC    tra-T    test-T    Al-Time\n",
      "--  ------------  ---  ----  ----  -----  -------  ------  -----  ----  -----  -----  -------  --------  ---------\n",
      " 0  results/vs_1    0     1  DT    0.878    0.841   0.855  0.841  0.84  0.873      0    1.636     0.201          0\n",
      "\n"
     ]
    },
    {
     "name": "stdout",
     "output_type": "stream",
     "text": [
      "199/698 - I211215 I211220\n",
      "    Dataset         T    CV  ML      Acc    b_Acc    Prec    Rec     F1    kap    ROC    tra-T    test-T    Al-Time\n",
      "--  ------------  ---  ----  ----  -----  -------  ------  -----  -----  -----  -----  -------  --------  ---------\n",
      " 0  results/vs_1    0     1  DT    0.833    0.818   0.848  0.818  0.814  0.826      0    1.722     0.212          0\n",
      "\n",
      "200/698 - I211215 I211222\n",
      "    Dataset         T    CV  ML      Acc    b_Acc    Prec    Rec     F1    kap    ROC    tra-T    test-T    Al-Time\n",
      "--  ------------  ---  ----  ----  -----  -------  ------  -----  -----  -----  -----  -------  --------  ---------\n",
      " 0  results/vs_1    0     1  DT    0.813    0.799   0.824  0.799  0.791  0.805      0    1.693     0.217          0\n",
      "\n",
      "201/698 - I211215 I211223\n",
      "    Dataset         T    CV  ML      Acc    b_Acc    Prec    Rec     F1    kap    ROC    tra-T    test-T    Al-Time\n",
      "--  ------------  ---  ----  ----  -----  -------  ------  -----  -----  -----  -----  -------  --------  ---------\n",
      " 0  results/vs_1    0     1  DT    0.814    0.799   0.815  0.799  0.788  0.807      0    1.607     0.185          0\n",
      "\n",
      "202/698 - I211216 A211124\n",
      "    Dataset         T    CV  ML      Acc    b_Acc    Prec    Rec    F1    kap    ROC    tra-T    test-T    Al-Time\n",
      "--  ------------  ---  ----  ----  -----  -------  ------  -----  ----  -----  -----  -------  --------  ---------\n",
      " 0  results/vs_1    0     1  DT    0.519    0.513   0.516  0.513  0.44  0.502      0    1.569     0.133          0\n",
      "\n",
      "203/698 - I211216 I211124\n",
      "    Dataset         T    CV  ML      Acc    b_Acc    Prec    Rec     F1    kap    ROC    tra-T    test-T    Al-Time\n",
      "--  ------------  ---  ----  ----  -----  -------  ------  -----  -----  -----  -----  -------  --------  ---------\n",
      " 0  results/vs_1    0     1  DT      0.6    0.542   0.569  0.542  0.497  0.583      0    1.512     0.195          0\n",
      "\n",
      "204/698 - I211216 I211125\n",
      "    Dataset         T    CV  ML      Acc    b_Acc    Prec    Rec     F1    kap    ROC    tra-T    test-T    Al-Time\n",
      "--  ------------  ---  ----  ----  -----  -------  ------  -----  -----  -----  -----  -------  --------  ---------\n",
      " 0  results/vs_1    0     1  DT     0.59    0.512   0.552  0.512  0.478  0.573      0    1.583     0.185          0\n",
      "\n",
      "205/698 - I211216 I211201\n",
      "    Dataset         T    CV  ML      Acc    b_Acc    Prec    Rec     F1    kap    ROC    tra-T    test-T    Al-Time\n",
      "--  ------------  ---  ----  ----  -----  -------  ------  -----  -----  -----  -----  -------  --------  ---------\n",
      " 0  results/vs_1    0     1  DT    0.641    0.586   0.609  0.586  0.565  0.627      0    1.652     0.184          0\n",
      "\n",
      "206/698 - I211216 I211202\n",
      "    Dataset         T    CV  ML      Acc    b_Acc    Prec    Rec     F1    kap    ROC    tra-T    test-T    Al-Time\n",
      "--  ------------  ---  ----  ----  -----  -------  ------  -----  -----  -----  -----  -------  --------  ---------\n",
      " 0  results/vs_1    0     1  DT    0.626    0.554   0.568  0.554  0.523  0.611      0    1.566     0.183          0\n",
      "\n",
      "207/698 - I211216 I211203\n",
      "    Dataset         T    CV  ML      Acc    b_Acc    Prec    Rec     F1    kap    ROC    tra-T    test-T    Al-Time\n",
      "--  ------------  ---  ----  ----  -----  -------  ------  -----  -----  -----  -----  -------  --------  ---------\n",
      " 0  results/vs_1    0     1  DT    0.601    0.577   0.581  0.577  0.523  0.585      0    1.592     0.194          0\n",
      "\n",
      "208/698 - I211216 I211207\n",
      "    Dataset         T    CV  ML      Acc    b_Acc    Prec    Rec    F1    kap    ROC    tra-T    test-T    Al-Time\n",
      "--  ------------  ---  ----  ----  -----  -------  ------  -----  ----  -----  -----  -------  --------  ---------\n",
      " 0  results/vs_1    0     1  DT    0.608    0.553    0.59  0.553  0.53  0.592      0    1.547     0.183          0\n",
      "\n",
      "209/698 - I211216 I211208\n",
      "    Dataset         T    CV  ML      Acc    b_Acc    Prec    Rec     F1    kap    ROC    tra-T    test-T    Al-Time\n",
      "--  ------------  ---  ----  ----  -----  -------  ------  -----  -----  -----  -----  -------  --------  ---------\n",
      " 0  results/vs_1    0     1  DT    0.682    0.549   0.561  0.549  0.524  0.667      0    1.621     0.162          0\n",
      "\n",
      "210/698 - I211216 I211209\n",
      "    Dataset         T    CV  ML      Acc    b_Acc    Prec    Rec     F1    kap    ROC    tra-T    test-T    Al-Time\n",
      "--  ------------  ---  ----  ----  -----  -------  ------  -----  -----  -----  -----  -------  --------  ---------\n",
      " 0  results/vs_1    0     1  DT    0.576    0.526    0.53  0.526  0.464   0.56      0    1.524     0.189          0\n",
      "\n",
      "211/698 - I211216 I211210\n",
      "    Dataset         T    CV  ML      Acc    b_Acc    Prec    Rec     F1    kap    ROC    tra-T    test-T    Al-Time\n",
      "--  ------------  ---  ----  ----  -----  -------  ------  -----  -----  -----  -----  -------  --------  ---------\n",
      " 0  results/vs_1    0     1  DT    0.587    0.542   0.558  0.542  0.498   0.57      0    1.611      0.19          0\n",
      "\n",
      "212/698 - I211216 I211213\n",
      "    Dataset         T    CV  ML      Acc    b_Acc    Prec    Rec     F1    kap    ROC    tra-T    test-T    Al-Time\n",
      "--  ------------  ---  ----  ----  -----  -------  ------  -----  -----  -----  -----  -------  --------  ---------\n",
      " 0  results/vs_1    0     1  DT    0.562    0.502   0.543  0.502  0.468  0.545      0    1.655     0.162          0\n",
      "\n",
      "213/698 - I211216 I211215\n",
      "    Dataset         T    CV  ML      Acc    b_Acc    Prec    Rec     F1    kap    ROC    tra-T    test-T    Al-Time\n",
      "--  ------------  ---  ----  ----  -----  -------  ------  -----  -----  -----  -----  -------  --------  ---------\n",
      " 0  results/vs_1    0     1  DT    0.862    0.842   0.863  0.842  0.835  0.856      0    1.619     0.186          0\n",
      "\n",
      "214/698 - I211216 I211216\n",
      "    Dataset         T    CV  ML      Acc    b_Acc    Prec    Rec     F1    kap    ROC    tra-T    test-T    Al-Time\n",
      "--  ------------  ---  ----  ----  -----  -------  ------  -----  -----  -----  -----  -------  --------  ---------\n",
      " 0  results/vs_1    0     1  DT    0.923     0.91   0.928   0.91  0.915   0.92      0    1.575     0.173          0\n",
      "\n",
      "215/698 - I211216 I211220\n",
      "    Dataset         T    CV  ML      Acc    b_Acc    Prec    Rec     F1    kap    ROC    tra-T    test-T    Al-Time\n",
      "--  ------------  ---  ----  ----  -----  -------  ------  -----  -----  -----  -----  -------  --------  ---------\n",
      " 0  results/vs_1    0     1  DT    0.817    0.814   0.843  0.814  0.804   0.81      0    1.533     0.179          0\n",
      "\n",
      "216/698 - I211216 I211222\n",
      "    Dataset         T    CV  ML      Acc    b_Acc    Prec    Rec     F1    kap    ROC    tra-T    test-T    Al-Time\n",
      "--  ------------  ---  ----  ----  -----  -------  ------  -----  -----  -----  -----  -------  --------  ---------\n",
      " 0  results/vs_1    0     1  DT    0.792    0.778   0.837  0.778  0.767  0.784      0    1.532     0.197          0\n",
      "\n",
      "217/698 - I211216 I211223\n",
      "    Dataset         T    CV  ML      Acc    b_Acc    Prec    Rec     F1    kap    ROC    tra-T    test-T    Al-Time\n",
      "--  ------------  ---  ----  ----  -----  -------  ------  -----  -----  -----  -----  -------  --------  ---------\n",
      " 0  results/vs_1    0     1  DT    0.796    0.788    0.83  0.788  0.772  0.788      0    1.502     0.201          0\n",
      "\n",
      "218/698 - I211220 A211124\n",
      "    Dataset         T    CV  ML      Acc    b_Acc    Prec    Rec     F1    kap    ROC    tra-T    test-T    Al-Time\n",
      "--  ------------  ---  ----  ----  -----  -------  ------  -----  -----  -----  -----  -------  --------  ---------\n",
      " 0  results/vs_1    0     1  DT    0.524    0.506   0.489  0.506  0.438  0.507      0     1.89     0.158          0\n",
      "\n",
      "219/698 - I211220 I211124\n",
      "    Dataset         T    CV  ML      Acc    b_Acc    Prec    Rec     F1    kap    ROC    tra-T    test-T    Al-Time\n",
      "--  ------------  ---  ----  ----  -----  -------  ------  -----  -----  -----  -----  -------  --------  ---------\n",
      " 0  results/vs_1    0     1  DT    0.605     0.53   0.501   0.53  0.471  0.588      0    1.749      0.19          0\n",
      "\n",
      "220/698 - I211220 I211125\n",
      "    Dataset         T    CV  ML      Acc    b_Acc    Prec    Rec     F1    kap    ROC    tra-T    test-T    Al-Time\n",
      "--  ------------  ---  ----  ----  -----  -------  ------  -----  -----  -----  -----  -------  --------  ---------\n",
      " 0  results/vs_1    0     1  DT    0.613    0.538   0.521  0.538  0.493  0.597      0    1.856     0.216          0\n",
      "\n"
     ]
    },
    {
     "name": "stdout",
     "output_type": "stream",
     "text": [
      "221/698 - I211220 I211201\n",
      "    Dataset         T    CV  ML      Acc    b_Acc    Prec    Rec     F1    kap    ROC    tra-T    test-T    Al-Time\n",
      "--  ------------  ---  ----  ----  -----  -------  ------  -----  -----  -----  -----  -------  --------  ---------\n",
      " 0  results/vs_1    0     1  DT    0.623    0.549   0.561  0.549  0.518  0.608      0    1.859     0.194          0\n",
      "\n",
      "222/698 - I211220 I211202\n",
      "    Dataset         T    CV  ML      Acc    b_Acc    Prec    Rec     F1    kap    ROC    tra-T    test-T    Al-Time\n",
      "--  ------------  ---  ----  ----  -----  -------  ------  -----  -----  -----  -----  -------  --------  ---------\n",
      " 0  results/vs_1    0     1  DT    0.611    0.531   0.522  0.531  0.492  0.595      0    1.791     0.177          0\n",
      "\n",
      "223/698 - I211220 I211203\n",
      "    Dataset         T    CV  ML      Acc    b_Acc    Prec    Rec     F1    kap    ROC    tra-T    test-T    Al-Time\n",
      "--  ------------  ---  ----  ----  -----  -------  ------  -----  -----  -----  -----  -------  --------  ---------\n",
      " 0  results/vs_1    0     1  DT    0.616     0.57    0.55   0.57  0.511    0.6      0    1.765     0.189          0\n",
      "\n",
      "224/698 - I211220 I211207\n",
      "    Dataset         T    CV  ML      Acc    b_Acc    Prec    Rec     F1    kap    ROC    tra-T    test-T    Al-Time\n",
      "--  ------------  ---  ----  ----  -----  -------  ------  -----  -----  -----  -----  -------  --------  ---------\n",
      " 0  results/vs_1    0     1  DT    0.617     0.56    0.53   0.56  0.508  0.602      0    1.774     0.172          0\n",
      "\n",
      "225/698 - I211220 I211208\n",
      "    Dataset         T    CV  ML      Acc    b_Acc    Prec    Rec    F1    kap    ROC    tra-T    test-T    Al-Time\n",
      "--  ------------  ---  ----  ----  -----  -------  ------  -----  ----  -----  -----  -------  --------  ---------\n",
      " 0  results/vs_1    0     1  DT    0.663    0.515   0.523  0.515  0.49  0.646      0    1.781      0.19          0\n",
      "\n",
      "226/698 - I211220 I211209\n",
      "    Dataset         T    CV  ML      Acc    b_Acc    Prec    Rec     F1    kap    ROC    tra-T    test-T    Al-Time\n",
      "--  ------------  ---  ----  ----  -----  -------  ------  -----  -----  -----  -----  -------  --------  ---------\n",
      " 0  results/vs_1    0     1  DT    0.571    0.519   0.491  0.519  0.452  0.554      0    1.748     0.183          0\n",
      "\n",
      "227/698 - I211220 I211210\n",
      "    Dataset         T    CV  ML      Acc    b_Acc    Prec    Rec    F1    kap    ROC    tra-T    test-T    Al-Time\n",
      "--  ------------  ---  ----  ----  -----  -------  ------  -----  ----  -----  -----  -------  --------  ---------\n",
      " 0  results/vs_1    0     1  DT    0.595    0.574   0.525  0.574  0.51   0.58      0    1.866     0.202          0\n",
      "\n",
      "228/698 - I211220 I211213\n",
      "    Dataset         T    CV  ML      Acc    b_Acc    Prec    Rec     F1    kap    ROC    tra-T    test-T    Al-Time\n",
      "--  ------------  ---  ----  ----  -----  -------  ------  -----  -----  -----  -----  -------  --------  ---------\n",
      " 0  results/vs_1    0     1  DT    0.586    0.548   0.521  0.548  0.482   0.57      0    1.828     0.183          0\n",
      "\n",
      "229/698 - I211220 I211215\n",
      "    Dataset         T    CV  ML      Acc    b_Acc    Prec    Rec     F1    kap    ROC    tra-T    test-T    Al-Time\n",
      "--  ------------  ---  ----  ----  -----  -------  ------  -----  -----  -----  -----  -------  --------  ---------\n",
      " 0  results/vs_1    0     1  DT    0.875    0.842   0.864  0.842  0.843   0.87      0    1.804      0.19          0\n",
      "\n",
      "230/698 - I211220 I211216\n",
      "    Dataset         T    CV  ML      Acc    b_Acc    Prec    Rec     F1    kap    ROC    tra-T    test-T    Al-Time\n",
      "--  ------------  ---  ----  ----  -----  -------  ------  -----  -----  -----  -----  -------  --------  ---------\n",
      " 0  results/vs_1    0     1  DT    0.881    0.846   0.861  0.846  0.847  0.877      0    1.829     0.187          0\n",
      "\n",
      "231/698 - I211220 I211220\n",
      "    Dataset         T    CV  ML      Acc    b_Acc    Prec    Rec     F1    kap    ROC    tra-T    test-T    Al-Time\n",
      "--  ------------  ---  ----  ----  -----  -------  ------  -----  -----  -----  -----  -------  --------  ---------\n",
      " 0  results/vs_1    0     1  DT    0.922    0.913   0.925  0.913  0.916  0.918      0    1.895     0.219          0\n",
      "\n",
      "232/698 - I211220 I211222\n",
      "    Dataset         T    CV  ML      Acc    b_Acc    Prec    Rec     F1    kap    ROC    tra-T    test-T    Al-Time\n",
      "--  ------------  ---  ----  ----  -----  -------  ------  -----  -----  -----  -----  -------  --------  ---------\n",
      " 0  results/vs_1    0     1  DT     0.88    0.849   0.882  0.849  0.853  0.875      0    1.894     0.208          0\n",
      "\n",
      "233/698 - I211220 I211223\n",
      "    Dataset         T    CV  ML      Acc    b_Acc    Prec    Rec     F1    kap    ROC    tra-T    test-T    Al-Time\n",
      "--  ------------  ---  ----  ----  -----  -------  ------  -----  -----  -----  -----  -------  --------  ---------\n",
      " 0  results/vs_1    0     1  DT    0.875    0.849   0.875  0.849  0.847   0.87      0    1.849     0.197          0\n",
      "\n",
      "234/698 - I211222 A211124\n",
      "    Dataset         T    CV  ML      Acc    b_Acc    Prec    Rec     F1    kap    ROC    tra-T    test-T    Al-Time\n",
      "--  ------------  ---  ----  ----  -----  -------  ------  -----  -----  -----  -----  -------  --------  ---------\n",
      " 0  results/vs_1    0     1  DT    0.532     0.52   0.488   0.52  0.451  0.514      0    1.791     0.139          0\n",
      "\n",
      "235/698 - I211222 I211124\n",
      "    Dataset         T    CV  ML      Acc    b_Acc    Prec    Rec     F1    kap    ROC    tra-T    test-T    Al-Time\n",
      "--  ------------  ---  ----  ----  -----  -------  ------  -----  -----  -----  -----  -------  --------  ---------\n",
      " 0  results/vs_1    0     1  DT    0.578    0.515   0.515  0.515  0.474   0.56      0    1.881     0.212          0\n",
      "\n",
      "236/698 - I211222 I211125\n",
      "    Dataset         T    CV  ML      Acc    b_Acc    Prec    Rec    F1    kap    ROC    tra-T    test-T    Al-Time\n",
      "--  ------------  ---  ----  ----  -----  -------  ------  -----  ----  -----  -----  -------  --------  ---------\n",
      " 0  results/vs_1    0     1  DT     0.58    0.522   0.519  0.522  0.49  0.562      0    1.849     0.198          0\n",
      "\n",
      "237/698 - I211222 I211201\n",
      "    Dataset         T    CV  ML      Acc    b_Acc    Prec    Rec     F1    kap    ROC    tra-T    test-T    Al-Time\n",
      "--  ------------  ---  ----  ----  -----  -------  ------  -----  -----  -----  -----  -------  --------  ---------\n",
      " 0  results/vs_1    0     1  DT    0.605    0.536   0.557  0.536  0.508  0.588      0    1.721      0.19          0\n",
      "\n",
      "238/698 - I211222 I211202\n",
      "    Dataset         T    CV  ML      Acc    b_Acc    Prec    Rec     F1    kap    ROC    tra-T    test-T    Al-Time\n",
      "--  ------------  ---  ----  ----  -----  -------  ------  -----  -----  -----  -----  -------  --------  ---------\n",
      " 0  results/vs_1    0     1  DT    0.597    0.516   0.513  0.516  0.482   0.58      0    1.748     0.183          0\n",
      "\n",
      "239/698 - I211222 I211203\n",
      "    Dataset         T    CV  ML      Acc    b_Acc    Prec    Rec     F1    kap    ROC    tra-T    test-T    Al-Time\n",
      "--  ------------  ---  ----  ----  -----  -------  ------  -----  -----  -----  -----  -------  --------  ---------\n",
      " 0  results/vs_1    0     1  DT    0.616    0.567   0.576  0.567  0.532    0.6      0    1.791      0.21          0\n",
      "\n",
      "240/698 - I211222 I211207\n",
      "    Dataset         T    CV  ML      Acc    b_Acc    Prec    Rec    F1    kap    ROC    tra-T    test-T    Al-Time\n",
      "--  ------------  ---  ----  ----  -----  -------  ------  -----  ----  -----  -----  -------  --------  ---------\n",
      " 0  results/vs_1    0     1  DT    0.602     0.53   0.523   0.53  0.49  0.586      0    1.809     0.234          0\n",
      "\n",
      "241/698 - I211222 I211208\n",
      "    Dataset         T    CV  ML      Acc    b_Acc    Prec    Rec    F1    kap    ROC    tra-T    test-T    Al-Time\n",
      "--  ------------  ---  ----  ----  -----  -------  ------  -----  ----  -----  -----  -------  --------  ---------\n",
      " 0  results/vs_1    0     1  DT    0.639     0.52   0.521   0.52  0.49  0.621      0    1.712     0.152          0\n",
      "\n",
      "242/698 - I211222 I211209\n",
      "    Dataset         T    CV  ML      Acc    b_Acc    Prec    Rec    F1    kap    ROC    tra-T    test-T    Al-Time\n",
      "--  ------------  ---  ----  ----  -----  -------  ------  -----  ----  -----  -----  -------  --------  ---------\n",
      " 0  results/vs_1    0     1  DT     0.59    0.545   0.516  0.545  0.49  0.574      0    1.746     0.173          0\n",
      "\n"
     ]
    },
    {
     "name": "stdout",
     "output_type": "stream",
     "text": [
      "243/698 - I211222 I211210\n",
      "    Dataset         T    CV  ML      Acc    b_Acc    Prec    Rec     F1    kap    ROC    tra-T    test-T    Al-Time\n",
      "--  ------------  ---  ----  ----  -----  -------  ------  -----  -----  -----  -----  -------  --------  ---------\n",
      " 0  results/vs_1    0     1  DT    0.595    0.575   0.535  0.575  0.524  0.579      0    1.761     0.194          0\n",
      "\n",
      "244/698 - I211222 I211213\n",
      "    Dataset         T    CV  ML      Acc    b_Acc    Prec    Rec     F1    kap    ROC    tra-T    test-T    Al-Time\n",
      "--  ------------  ---  ----  ----  -----  -------  ------  -----  -----  -----  -----  -------  --------  ---------\n",
      " 0  results/vs_1    0     1  DT    0.586    0.549   0.545  0.549  0.502  0.569      0    1.795     0.196          0\n",
      "\n",
      "245/698 - I211222 I211215\n",
      "    Dataset         T    CV  ML      Acc    b_Acc    Prec    Rec     F1    kap    ROC    tra-T    test-T    Al-Time\n",
      "--  ------------  ---  ----  ----  -----  -------  ------  -----  -----  -----  -----  -------  --------  ---------\n",
      " 0  results/vs_1    0     1  DT    0.811    0.798   0.788  0.798  0.777  0.804      0    1.743     0.182          0\n",
      "\n",
      "246/698 - I211222 I211216\n",
      "    Dataset         T    CV  ML      Acc    b_Acc    Prec    Rec     F1    kap    ROC    tra-T    test-T    Al-Time\n",
      "--  ------------  ---  ----  ----  -----  -------  ------  -----  -----  -----  -----  -------  --------  ---------\n",
      " 0  results/vs_1    0     1  DT    0.793    0.793   0.801  0.793  0.781  0.785      0    1.812     0.196          0\n",
      "\n",
      "247/698 - I211222 I211220\n",
      "    Dataset         T    CV  ML      Acc    b_Acc    Prec    Rec     F1    kap    ROC    tra-T    test-T    Al-Time\n",
      "--  ------------  ---  ----  ----  -----  -------  ------  -----  -----  -----  -----  -------  --------  ---------\n",
      " 0  results/vs_1    0     1  DT    0.868    0.844   0.862  0.844  0.844  0.862      0    1.819     0.194          0\n",
      "\n",
      "248/698 - I211222 I211222\n",
      "    Dataset         T    CV  ML      Acc    b_Acc    Prec    Rec    F1    kap    ROC    tra-T    test-T    Al-Time\n",
      "--  ------------  ---  ----  ----  -----  -------  ------  -----  ----  -----  -----  -------  --------  ---------\n",
      " 0  results/vs_1    0     1  DT     0.92     0.92   0.928   0.92  0.92  0.917      0    1.785      0.19          0\n",
      "\n",
      "249/698 - I211222 I211223\n",
      "    Dataset         T    CV  ML      Acc    b_Acc    Prec    Rec     F1    kap    ROC    tra-T    test-T    Al-Time\n",
      "--  ------------  ---  ----  ----  -----  -------  ------  -----  -----  -----  -----  -------  --------  ---------\n",
      " 0  results/vs_1    0     1  DT    0.873    0.845   0.871  0.845  0.851  0.868      0    1.794     0.219          0\n",
      "\n",
      "250/698 - I211223 A211124\n",
      "    Dataset         T    CV  ML      Acc    b_Acc    Prec    Rec     F1    kap    ROC    tra-T    test-T    Al-Time\n",
      "--  ------------  ---  ----  ----  -----  -------  ------  -----  -----  -----  -----  -------  --------  ---------\n",
      " 0  results/vs_1    0     1  DT    0.522    0.499   0.466  0.499  0.428  0.504      0     1.76     0.136          0\n",
      "\n",
      "251/698 - I211223 I211124\n",
      "    Dataset         T    CV  ML      Acc    b_Acc    Prec    Rec     F1    kap    ROC    tra-T    test-T    Al-Time\n",
      "--  ------------  ---  ----  ----  -----  -------  ------  -----  -----  -----  -----  -------  --------  ---------\n",
      " 0  results/vs_1    0     1  DT     0.57    0.501   0.478  0.501  0.447  0.551      0    1.889     0.187          0\n",
      "\n",
      "252/698 - I211223 I211125\n",
      "    Dataset         T    CV  ML      Acc    b_Acc    Prec    Rec     F1    kap    ROC    tra-T    test-T    Al-Time\n",
      "--  ------------  ---  ----  ----  -----  -------  ------  -----  -----  -----  -----  -------  --------  ---------\n",
      " 0  results/vs_1    0     1  DT    0.576    0.526   0.492  0.526  0.469  0.558      0    1.924     0.183          0\n",
      "\n",
      "253/698 - I211223 I211201\n",
      "    Dataset         T    CV  ML      Acc    b_Acc    Prec    Rec     F1    kap    ROC    tra-T    test-T    Al-Time\n",
      "--  ------------  ---  ----  ----  -----  -------  ------  -----  -----  -----  -----  -------  --------  ---------\n",
      " 0  results/vs_1    0     1  DT    0.599    0.518   0.518  0.518  0.468  0.583      0    1.989     0.181          0\n",
      "\n",
      "254/698 - I211223 I211202\n",
      "    Dataset         T    CV  ML      Acc    b_Acc    Prec    Rec     F1    kap    ROC    tra-T    test-T    Al-Time\n",
      "--  ------------  ---  ----  ----  -----  -------  ------  -----  -----  -----  -----  -------  --------  ---------\n",
      " 0  results/vs_1    0     1  DT    0.592    0.503   0.498  0.503  0.455  0.575      0    1.878     0.199          0\n",
      "\n",
      "255/698 - I211223 I211203\n",
      "    Dataset         T    CV  ML      Acc    b_Acc    Prec    Rec     F1    kap    ROC    tra-T    test-T    Al-Time\n",
      "--  ------------  ---  ----  ----  -----  -------  ------  -----  -----  -----  -----  -------  --------  ---------\n",
      " 0  results/vs_1    0     1  DT    0.611    0.572   0.547  0.572  0.515  0.596      0    1.841     0.183          0\n",
      "\n",
      "256/698 - I211223 I211207\n",
      "    Dataset         T    CV  ML      Acc    b_Acc    Prec    Rec     F1    kap    ROC    tra-T    test-T    Al-Time\n",
      "--  ------------  ---  ----  ----  -----  -------  ------  -----  -----  -----  -----  -------  --------  ---------\n",
      " 0  results/vs_1    0     1  DT     0.62    0.572   0.534  0.572  0.514  0.604      0     1.81     0.185          0\n",
      "\n",
      "257/698 - I211223 I211208\n",
      "    Dataset         T    CV  ML      Acc    b_Acc    Prec    Rec     F1    kap    ROC    tra-T    test-T    Al-Time\n",
      "--  ------------  ---  ----  ----  -----  -------  ------  -----  -----  -----  -----  -------  --------  ---------\n",
      " 0  results/vs_1    0     1  DT    0.626    0.494   0.474  0.494  0.447  0.607      0    1.795      0.16          0\n",
      "\n",
      "258/698 - I211223 I211209\n",
      "    Dataset         T    CV  ML      Acc    b_Acc    Prec    Rec     F1    kap    ROC    tra-T    test-T    Al-Time\n",
      "--  ------------  ---  ----  ----  -----  -------  ------  -----  -----  -----  -----  -------  --------  ---------\n",
      " 0  results/vs_1    0     1  DT    0.565    0.526   0.471  0.526  0.452  0.548      0    1.846     0.184          0\n",
      "\n",
      "259/698 - I211223 I211210\n",
      "    Dataset         T    CV  ML      Acc    b_Acc    Prec    Rec     F1    kap    ROC    tra-T    test-T    Al-Time\n",
      "--  ------------  ---  ----  ----  -----  -------  ------  -----  -----  -----  -----  -------  --------  ---------\n",
      " 0  results/vs_1    0     1  DT    0.589    0.562   0.503  0.562  0.487  0.574      0    1.825      0.19          0\n",
      "\n",
      "260/698 - I211223 I211213\n",
      "    Dataset         T    CV  ML      Acc    b_Acc    Prec    Rec     F1    kap    ROC    tra-T    test-T    Al-Time\n",
      "--  ------------  ---  ----  ----  -----  -------  ------  -----  -----  -----  -----  -------  --------  ---------\n",
      " 0  results/vs_1    0     1  DT    0.586     0.55   0.523   0.55  0.476   0.57      0    1.881     0.199          0\n",
      "\n",
      "261/698 - I211223 I211215\n",
      "    Dataset         T    CV  ML      Acc    b_Acc    Prec    Rec     F1    kap    ROC    tra-T    test-T    Al-Time\n",
      "--  ------------  ---  ----  ----  -----  -------  ------  -----  -----  -----  -----  -------  --------  ---------\n",
      " 0  results/vs_1    0     1  DT    0.812    0.808   0.811  0.808  0.793  0.804      0     1.85     0.188          0\n",
      "\n",
      "262/698 - I211223 I211216\n",
      "    Dataset         T    CV  ML      Acc    b_Acc    Prec    Rec     F1    kap    ROC    tra-T    test-T    Al-Time\n",
      "--  ------------  ---  ----  ----  -----  -------  ------  -----  -----  -----  -----  -------  --------  ---------\n",
      " 0  results/vs_1    0     1  DT    0.791    0.799   0.793  0.799  0.786  0.783      0    1.861     0.223          0\n",
      "\n",
      "263/698 - I211223 I211220\n",
      "    Dataset         T    CV  ML      Acc    b_Acc    Prec    Rec     F1    kap    ROC    tra-T    test-T    Al-Time\n",
      "--  ------------  ---  ----  ----  -----  -------  ------  -----  -----  -----  -----  -------  --------  ---------\n",
      " 0  results/vs_1    0     1  DT     0.87    0.855   0.868  0.855  0.853  0.865      0    1.835     0.208          0\n",
      "\n",
      "264/698 - I211223 I211222\n",
      "    Dataset         T    CV  ML      Acc    b_Acc    Prec    Rec     F1    kap    ROC    tra-T    test-T    Al-Time\n",
      "--  ------------  ---  ----  ----  -----  -------  ------  -----  -----  -----  -----  -------  --------  ---------\n",
      " 0  results/vs_1    0     1  DT    0.881    0.864   0.883  0.864  0.869  0.876      0    1.804     0.187          0\n",
      "\n"
     ]
    },
    {
     "name": "stdout",
     "output_type": "stream",
     "text": [
      "265/698 - I211223 I211223\n",
      "    Dataset         T    CV  ML      Acc    b_Acc    Prec    Rec     F1    kap    ROC    tra-T    test-T    Al-Time\n",
      "--  ------------  ---  ----  ----  -----  -------  ------  -----  -----  -----  -----  -------  --------  ---------\n",
      " 0  results/vs_1    0     1  DT    0.921    0.921   0.928  0.921  0.921  0.918      0    1.828     0.188          0\n",
      "\n",
      "266/698 - A211126 A211126\n",
      "    Dataset         T    CV  ML      Acc    b_Acc    Prec    Rec    F1    kap    ROC    tra-T    test-T    Al-Time\n",
      "--  ------------  ---  ----  ----  -----  -------  ------  -----  ----  -----  -----  -------  --------  ---------\n",
      " 0  results/vs_1    0     1  DT    0.965    0.921   0.924  0.921  0.92   0.96      0    4.791     0.474          0\n",
      "\n",
      "267/698 - A211126 A211207\n",
      "    Dataset         T    CV  ML      Acc    b_Acc    Prec    Rec     F1    kap    ROC    tra-T    test-T    Al-Time\n",
      "--  ------------  ---  ----  ----  -----  -------  ------  -----  -----  -----  -----  -------  --------  ---------\n",
      " 0  results/vs_1    0     1  DT    0.269    0.541   0.547  0.541  0.509  0.244      0    4.532     1.092          0\n",
      "\n",
      "268/698 - A211207 A211126\n",
      "    Dataset         T    CV  ML      Acc    b_Acc    Prec    Rec     F1    kap    ROC    tra-T    test-T    Al-Time\n",
      "--  ------------  ---  ----  ----  -----  -------  ------  -----  -----  -----  -----  -------  --------  ---------\n",
      " 0  results/vs_1    0     1  DT     0.67     0.55    0.52   0.55  0.481  0.633      0    5.588     0.509          0\n",
      "\n",
      "269/698 - A211207 A211207\n",
      "    Dataset         T    CV  ML      Acc    b_Acc    Prec    Rec     F1    kap    ROC    tra-T    test-T    Al-Time\n",
      "--  ------------  ---  ----  ----  -----  -------  ------  -----  -----  -----  -----  -------  --------  ---------\n",
      " 0  results/vs_1    0     1  DT     0.99    0.882   0.914  0.882  0.892  0.979      0    5.639      0.85          0\n",
      "\n",
      "270/698 - I211116 I211116\n",
      "    Dataset         T    CV  ML      Acc    b_Acc    Prec    Rec     F1    kap    ROC    tra-T    test-T    Al-Time\n",
      "--  ------------  ---  ----  ----  -----  -------  ------  -----  -----  -----  -----  -------  --------  ---------\n",
      " 0  results/vs_1    0     1  DT    0.923    0.919   0.923  0.919  0.918   0.92      0    1.853     0.257          0\n",
      "\n",
      "271/698 - I211116 I211117\n",
      "    Dataset         T    CV  ML      Acc    b_Acc    Prec    Rec     F1    kap    ROC    tra-T    test-T    Al-Time\n",
      "--  ------------  ---  ----  ----  -----  -------  ------  -----  -----  -----  -----  -------  --------  ---------\n",
      " 0  results/vs_1    0     1  DT    0.748    0.775   0.788  0.775  0.747  0.739      0    1.961     0.259          0\n",
      "\n",
      "272/698 - I211117 I211116\n",
      "    Dataset         T    CV  ML      Acc    b_Acc    Prec    Rec     F1    kap    ROC    tra-T    test-T    Al-Time\n",
      "--  ------------  ---  ----  ----  -----  -------  ------  -----  -----  -----  -----  -------  --------  ---------\n",
      " 0  results/vs_1    0     1  DT    0.773      0.8   0.799    0.8  0.772  0.764      0    1.971     0.244          0\n",
      "\n",
      "273/698 - I211117 I211117\n",
      "    Dataset         T    CV  ML      Acc    b_Acc    Prec    Rec     F1    kap    ROC    tra-T    test-T    Al-Time\n",
      "--  ------------  ---  ----  ----  -----  -------  ------  -----  -----  -----  -----  -------  --------  ---------\n",
      " 0  results/vs_1    0     1  DT    0.924     0.92   0.923   0.92  0.919   0.92      0    1.717     0.217          0\n",
      "\n"
     ]
    },
    {
     "data": {
      "text/plain": [
       "<Figure size 4000x2800 with 0 Axes>"
      ]
     },
     "metadata": {},
     "output_type": "display_data"
    },
    {
     "data": {
      "text/plain": [
       "<Figure size 4000x2800 with 0 Axes>"
      ]
     },
     "metadata": {},
     "output_type": "display_data"
    },
    {
     "data": {
      "text/plain": [
       "<Figure size 4000x2800 with 0 Axes>"
      ]
     },
     "metadata": {},
     "output_type": "display_data"
    },
    {
     "data": {
      "text/plain": [
       "<Figure size 4000x2800 with 0 Axes>"
      ]
     },
     "metadata": {},
     "output_type": "display_data"
    },
    {
     "data": {
      "text/plain": [
       "<Figure size 4000x2800 with 0 Axes>"
      ]
     },
     "metadata": {},
     "output_type": "display_data"
    },
    {
     "data": {
      "text/plain": [
       "<Figure size 4000x2800 with 0 Axes>"
      ]
     },
     "metadata": {},
     "output_type": "display_data"
    },
    {
     "data": {
      "text/plain": [
       "<Figure size 4000x2800 with 0 Axes>"
      ]
     },
     "metadata": {},
     "output_type": "display_data"
    },
    {
     "data": {
      "text/plain": [
       "<Figure size 4000x2800 with 0 Axes>"
      ]
     },
     "metadata": {},
     "output_type": "display_data"
    },
    {
     "data": {
      "text/plain": [
       "<Figure size 4000x2800 with 0 Axes>"
      ]
     },
     "metadata": {},
     "output_type": "display_data"
    },
    {
     "data": {
      "text/plain": [
       "<Figure size 4000x2800 with 0 Axes>"
      ]
     },
     "metadata": {},
     "output_type": "display_data"
    },
    {
     "data": {
      "text/plain": [
       "<Figure size 4000x2800 with 0 Axes>"
      ]
     },
     "metadata": {},
     "output_type": "display_data"
    },
    {
     "data": {
      "text/plain": [
       "<Figure size 4000x2800 with 0 Axes>"
      ]
     },
     "metadata": {},
     "output_type": "display_data"
    },
    {
     "data": {
      "text/plain": [
       "<Figure size 4000x2800 with 0 Axes>"
      ]
     },
     "metadata": {},
     "output_type": "display_data"
    },
    {
     "data": {
      "text/plain": [
       "<Figure size 4000x2800 with 0 Axes>"
      ]
     },
     "metadata": {},
     "output_type": "display_data"
    },
    {
     "data": {
      "text/plain": [
       "<Figure size 4000x2800 with 0 Axes>"
      ]
     },
     "metadata": {},
     "output_type": "display_data"
    },
    {
     "data": {
      "text/plain": [
       "<Figure size 4000x2800 with 0 Axes>"
      ]
     },
     "metadata": {},
     "output_type": "display_data"
    },
    {
     "data": {
      "text/plain": [
       "<Figure size 4000x2800 with 0 Axes>"
      ]
     },
     "metadata": {},
     "output_type": "display_data"
    },
    {
     "data": {
      "text/plain": [
       "<Figure size 4000x2800 with 0 Axes>"
      ]
     },
     "metadata": {},
     "output_type": "display_data"
    },
    {
     "data": {
      "text/plain": [
       "<Figure size 4000x2800 with 0 Axes>"
      ]
     },
     "metadata": {},
     "output_type": "display_data"
    },
    {
     "data": {
      "text/plain": [
       "<Figure size 4000x2800 with 0 Axes>"
      ]
     },
     "metadata": {},
     "output_type": "display_data"
    },
    {
     "data": {
      "text/plain": [
       "<Figure size 4000x2800 with 0 Axes>"
      ]
     },
     "metadata": {},
     "output_type": "display_data"
    },
    {
     "data": {
      "text/plain": [
       "<Figure size 4000x2800 with 0 Axes>"
      ]
     },
     "metadata": {},
     "output_type": "display_data"
    },
    {
     "data": {
      "text/plain": [
       "<Figure size 4000x2800 with 0 Axes>"
      ]
     },
     "metadata": {},
     "output_type": "display_data"
    },
    {
     "data": {
      "text/plain": [
       "<Figure size 4000x2800 with 0 Axes>"
      ]
     },
     "metadata": {},
     "output_type": "display_data"
    },
    {
     "data": {
      "text/plain": [
       "<Figure size 4000x2800 with 0 Axes>"
      ]
     },
     "metadata": {},
     "output_type": "display_data"
    },
    {
     "data": {
      "text/plain": [
       "<Figure size 4000x2800 with 0 Axes>"
      ]
     },
     "metadata": {},
     "output_type": "display_data"
    },
    {
     "data": {
      "text/plain": [
       "<Figure size 4000x2800 with 0 Axes>"
      ]
     },
     "metadata": {},
     "output_type": "display_data"
    },
    {
     "data": {
      "text/plain": [
       "<Figure size 4000x2800 with 0 Axes>"
      ]
     },
     "metadata": {},
     "output_type": "display_data"
    },
    {
     "data": {
      "text/plain": [
       "<Figure size 4000x2800 with 0 Axes>"
      ]
     },
     "metadata": {},
     "output_type": "display_data"
    },
    {
     "data": {
      "text/plain": [
       "<Figure size 4000x2800 with 0 Axes>"
      ]
     },
     "metadata": {},
     "output_type": "display_data"
    },
    {
     "data": {
      "text/plain": [
       "<Figure size 4000x2800 with 0 Axes>"
      ]
     },
     "metadata": {},
     "output_type": "display_data"
    },
    {
     "data": {
      "text/plain": [
       "<Figure size 4000x2800 with 0 Axes>"
      ]
     },
     "metadata": {},
     "output_type": "display_data"
    },
    {
     "data": {
      "text/plain": [
       "<Figure size 4000x2800 with 0 Axes>"
      ]
     },
     "metadata": {},
     "output_type": "display_data"
    },
    {
     "data": {
      "text/plain": [
       "<Figure size 4000x2800 with 0 Axes>"
      ]
     },
     "metadata": {},
     "output_type": "display_data"
    },
    {
     "data": {
      "text/plain": [
       "<Figure size 4000x2800 with 0 Axes>"
      ]
     },
     "metadata": {},
     "output_type": "display_data"
    },
    {
     "data": {
      "text/plain": [
       "<Figure size 4000x2800 with 0 Axes>"
      ]
     },
     "metadata": {},
     "output_type": "display_data"
    },
    {
     "data": {
      "text/plain": [
       "<Figure size 4000x2800 with 0 Axes>"
      ]
     },
     "metadata": {},
     "output_type": "display_data"
    },
    {
     "data": {
      "text/plain": [
       "<Figure size 4000x2800 with 0 Axes>"
      ]
     },
     "metadata": {},
     "output_type": "display_data"
    },
    {
     "data": {
      "text/plain": [
       "<Figure size 4000x2800 with 0 Axes>"
      ]
     },
     "metadata": {},
     "output_type": "display_data"
    },
    {
     "data": {
      "text/plain": [
       "<Figure size 4000x2800 with 0 Axes>"
      ]
     },
     "metadata": {},
     "output_type": "display_data"
    },
    {
     "data": {
      "text/plain": [
       "<Figure size 4000x2800 with 0 Axes>"
      ]
     },
     "metadata": {},
     "output_type": "display_data"
    },
    {
     "data": {
      "text/plain": [
       "<Figure size 4000x2800 with 0 Axes>"
      ]
     },
     "metadata": {},
     "output_type": "display_data"
    },
    {
     "data": {
      "text/plain": [
       "<Figure size 4000x2800 with 0 Axes>"
      ]
     },
     "metadata": {},
     "output_type": "display_data"
    },
    {
     "data": {
      "text/plain": [
       "<Figure size 4000x2800 with 0 Axes>"
      ]
     },
     "metadata": {},
     "output_type": "display_data"
    },
    {
     "data": {
      "text/plain": [
       "<Figure size 4000x2800 with 0 Axes>"
      ]
     },
     "metadata": {},
     "output_type": "display_data"
    },
    {
     "data": {
      "text/plain": [
       "<Figure size 4000x2800 with 0 Axes>"
      ]
     },
     "metadata": {},
     "output_type": "display_data"
    },
    {
     "data": {
      "text/plain": [
       "<Figure size 4000x2800 with 0 Axes>"
      ]
     },
     "metadata": {},
     "output_type": "display_data"
    },
    {
     "data": {
      "text/plain": [
       "<Figure size 4000x2800 with 0 Axes>"
      ]
     },
     "metadata": {},
     "output_type": "display_data"
    },
    {
     "data": {
      "text/plain": [
       "<Figure size 4000x2800 with 0 Axes>"
      ]
     },
     "metadata": {},
     "output_type": "display_data"
    },
    {
     "data": {
      "text/plain": [
       "<Figure size 4000x2800 with 0 Axes>"
      ]
     },
     "metadata": {},
     "output_type": "display_data"
    },
    {
     "data": {
      "text/plain": [
       "<Figure size 4000x2800 with 0 Axes>"
      ]
     },
     "metadata": {},
     "output_type": "display_data"
    },
    {
     "data": {
      "text/plain": [
       "<Figure size 4000x2800 with 0 Axes>"
      ]
     },
     "metadata": {},
     "output_type": "display_data"
    },
    {
     "data": {
      "text/plain": [
       "<Figure size 4000x2800 with 0 Axes>"
      ]
     },
     "metadata": {},
     "output_type": "display_data"
    },
    {
     "data": {
      "text/plain": [
       "<Figure size 4000x2800 with 0 Axes>"
      ]
     },
     "metadata": {},
     "output_type": "display_data"
    },
    {
     "data": {
      "text/plain": [
       "<Figure size 4000x2800 with 0 Axes>"
      ]
     },
     "metadata": {},
     "output_type": "display_data"
    },
    {
     "data": {
      "text/plain": [
       "<Figure size 4000x2800 with 0 Axes>"
      ]
     },
     "metadata": {},
     "output_type": "display_data"
    },
    {
     "data": {
      "text/plain": [
       "<Figure size 4000x2800 with 0 Axes>"
      ]
     },
     "metadata": {},
     "output_type": "display_data"
    },
    {
     "data": {
      "text/plain": [
       "<Figure size 4000x2800 with 0 Axes>"
      ]
     },
     "metadata": {},
     "output_type": "display_data"
    },
    {
     "data": {
      "text/plain": [
       "<Figure size 4000x2800 with 0 Axes>"
      ]
     },
     "metadata": {},
     "output_type": "display_data"
    },
    {
     "data": {
      "text/plain": [
       "<Figure size 4000x2800 with 0 Axes>"
      ]
     },
     "metadata": {},
     "output_type": "display_data"
    },
    {
     "data": {
      "text/plain": [
       "<Figure size 4000x2800 with 0 Axes>"
      ]
     },
     "metadata": {},
     "output_type": "display_data"
    },
    {
     "data": {
      "text/plain": [
       "<Figure size 4000x2800 with 0 Axes>"
      ]
     },
     "metadata": {},
     "output_type": "display_data"
    },
    {
     "data": {
      "text/plain": [
       "<Figure size 4000x2800 with 0 Axes>"
      ]
     },
     "metadata": {},
     "output_type": "display_data"
    },
    {
     "data": {
      "text/plain": [
       "<Figure size 4000x2800 with 0 Axes>"
      ]
     },
     "metadata": {},
     "output_type": "display_data"
    },
    {
     "data": {
      "text/plain": [
       "<Figure size 4000x2800 with 0 Axes>"
      ]
     },
     "metadata": {},
     "output_type": "display_data"
    },
    {
     "data": {
      "text/plain": [
       "<Figure size 4000x2800 with 0 Axes>"
      ]
     },
     "metadata": {},
     "output_type": "display_data"
    },
    {
     "data": {
      "text/plain": [
       "<Figure size 4000x2800 with 0 Axes>"
      ]
     },
     "metadata": {},
     "output_type": "display_data"
    },
    {
     "data": {
      "text/plain": [
       "<Figure size 4000x2800 with 0 Axes>"
      ]
     },
     "metadata": {},
     "output_type": "display_data"
    },
    {
     "data": {
      "text/plain": [
       "<Figure size 4000x2800 with 0 Axes>"
      ]
     },
     "metadata": {},
     "output_type": "display_data"
    },
    {
     "data": {
      "text/plain": [
       "<Figure size 4000x2800 with 0 Axes>"
      ]
     },
     "metadata": {},
     "output_type": "display_data"
    },
    {
     "data": {
      "text/plain": [
       "<Figure size 4000x2800 with 0 Axes>"
      ]
     },
     "metadata": {},
     "output_type": "display_data"
    },
    {
     "data": {
      "text/plain": [
       "<Figure size 4000x2800 with 0 Axes>"
      ]
     },
     "metadata": {},
     "output_type": "display_data"
    },
    {
     "data": {
      "text/plain": [
       "<Figure size 4000x2800 with 0 Axes>"
      ]
     },
     "metadata": {},
     "output_type": "display_data"
    },
    {
     "data": {
      "text/plain": [
       "<Figure size 4000x2800 with 0 Axes>"
      ]
     },
     "metadata": {},
     "output_type": "display_data"
    },
    {
     "data": {
      "text/plain": [
       "<Figure size 4000x2800 with 0 Axes>"
      ]
     },
     "metadata": {},
     "output_type": "display_data"
    },
    {
     "data": {
      "text/plain": [
       "<Figure size 4000x2800 with 0 Axes>"
      ]
     },
     "metadata": {},
     "output_type": "display_data"
    },
    {
     "data": {
      "text/plain": [
       "<Figure size 4000x2800 with 0 Axes>"
      ]
     },
     "metadata": {},
     "output_type": "display_data"
    },
    {
     "data": {
      "text/plain": [
       "<Figure size 4000x2800 with 0 Axes>"
      ]
     },
     "metadata": {},
     "output_type": "display_data"
    },
    {
     "data": {
      "text/plain": [
       "<Figure size 4000x2800 with 0 Axes>"
      ]
     },
     "metadata": {},
     "output_type": "display_data"
    },
    {
     "data": {
      "text/plain": [
       "<Figure size 4000x2800 with 0 Axes>"
      ]
     },
     "metadata": {},
     "output_type": "display_data"
    },
    {
     "data": {
      "text/plain": [
       "<Figure size 4000x2800 with 0 Axes>"
      ]
     },
     "metadata": {},
     "output_type": "display_data"
    },
    {
     "data": {
      "text/plain": [
       "<Figure size 4000x2800 with 0 Axes>"
      ]
     },
     "metadata": {},
     "output_type": "display_data"
    },
    {
     "data": {
      "text/plain": [
       "<Figure size 4000x2800 with 0 Axes>"
      ]
     },
     "metadata": {},
     "output_type": "display_data"
    },
    {
     "data": {
      "text/plain": [
       "<Figure size 4000x2800 with 0 Axes>"
      ]
     },
     "metadata": {},
     "output_type": "display_data"
    },
    {
     "data": {
      "text/plain": [
       "<Figure size 4000x2800 with 0 Axes>"
      ]
     },
     "metadata": {},
     "output_type": "display_data"
    },
    {
     "data": {
      "text/plain": [
       "<Figure size 4000x2800 with 0 Axes>"
      ]
     },
     "metadata": {},
     "output_type": "display_data"
    },
    {
     "data": {
      "text/plain": [
       "<Figure size 4000x2800 with 0 Axes>"
      ]
     },
     "metadata": {},
     "output_type": "display_data"
    },
    {
     "data": {
      "text/plain": [
       "<Figure size 4000x2800 with 0 Axes>"
      ]
     },
     "metadata": {},
     "output_type": "display_data"
    },
    {
     "data": {
      "text/plain": [
       "<Figure size 4000x2800 with 0 Axes>"
      ]
     },
     "metadata": {},
     "output_type": "display_data"
    },
    {
     "data": {
      "text/plain": [
       "<Figure size 4000x2800 with 0 Axes>"
      ]
     },
     "metadata": {},
     "output_type": "display_data"
    },
    {
     "data": {
      "text/plain": [
       "<Figure size 4000x2800 with 0 Axes>"
      ]
     },
     "metadata": {},
     "output_type": "display_data"
    },
    {
     "data": {
      "text/plain": [
       "<Figure size 4000x2800 with 0 Axes>"
      ]
     },
     "metadata": {},
     "output_type": "display_data"
    },
    {
     "data": {
      "text/plain": [
       "<Figure size 4000x2800 with 0 Axes>"
      ]
     },
     "metadata": {},
     "output_type": "display_data"
    },
    {
     "data": {
      "text/plain": [
       "<Figure size 4000x2800 with 0 Axes>"
      ]
     },
     "metadata": {},
     "output_type": "display_data"
    },
    {
     "data": {
      "text/plain": [
       "<Figure size 4000x2800 with 0 Axes>"
      ]
     },
     "metadata": {},
     "output_type": "display_data"
    },
    {
     "data": {
      "text/plain": [
       "<Figure size 4000x2800 with 0 Axes>"
      ]
     },
     "metadata": {},
     "output_type": "display_data"
    },
    {
     "data": {
      "text/plain": [
       "<Figure size 4000x2800 with 0 Axes>"
      ]
     },
     "metadata": {},
     "output_type": "display_data"
    },
    {
     "data": {
      "text/plain": [
       "<Figure size 4000x2800 with 0 Axes>"
      ]
     },
     "metadata": {},
     "output_type": "display_data"
    },
    {
     "data": {
      "text/plain": [
       "<Figure size 4000x2800 with 0 Axes>"
      ]
     },
     "metadata": {},
     "output_type": "display_data"
    },
    {
     "data": {
      "text/plain": [
       "<Figure size 4000x2800 with 0 Axes>"
      ]
     },
     "metadata": {},
     "output_type": "display_data"
    },
    {
     "data": {
      "text/plain": [
       "<Figure size 4000x2800 with 0 Axes>"
      ]
     },
     "metadata": {},
     "output_type": "display_data"
    },
    {
     "data": {
      "text/plain": [
       "<Figure size 4000x2800 with 0 Axes>"
      ]
     },
     "metadata": {},
     "output_type": "display_data"
    },
    {
     "data": {
      "text/plain": [
       "<Figure size 4000x2800 with 0 Axes>"
      ]
     },
     "metadata": {},
     "output_type": "display_data"
    },
    {
     "data": {
      "text/plain": [
       "<Figure size 4000x2800 with 0 Axes>"
      ]
     },
     "metadata": {},
     "output_type": "display_data"
    },
    {
     "data": {
      "text/plain": [
       "<Figure size 4000x2800 with 0 Axes>"
      ]
     },
     "metadata": {},
     "output_type": "display_data"
    },
    {
     "data": {
      "text/plain": [
       "<Figure size 4000x2800 with 0 Axes>"
      ]
     },
     "metadata": {},
     "output_type": "display_data"
    },
    {
     "data": {
      "text/plain": [
       "<Figure size 4000x2800 with 0 Axes>"
      ]
     },
     "metadata": {},
     "output_type": "display_data"
    },
    {
     "data": {
      "text/plain": [
       "<Figure size 4000x2800 with 0 Axes>"
      ]
     },
     "metadata": {},
     "output_type": "display_data"
    },
    {
     "data": {
      "text/plain": [
       "<Figure size 4000x2800 with 0 Axes>"
      ]
     },
     "metadata": {},
     "output_type": "display_data"
    },
    {
     "data": {
      "text/plain": [
       "<Figure size 4000x2800 with 0 Axes>"
      ]
     },
     "metadata": {},
     "output_type": "display_data"
    },
    {
     "data": {
      "text/plain": [
       "<Figure size 4000x2800 with 0 Axes>"
      ]
     },
     "metadata": {},
     "output_type": "display_data"
    },
    {
     "data": {
      "text/plain": [
       "<Figure size 4000x2800 with 0 Axes>"
      ]
     },
     "metadata": {},
     "output_type": "display_data"
    },
    {
     "data": {
      "text/plain": [
       "<Figure size 4000x2800 with 0 Axes>"
      ]
     },
     "metadata": {},
     "output_type": "display_data"
    },
    {
     "data": {
      "text/plain": [
       "<Figure size 4000x2800 with 0 Axes>"
      ]
     },
     "metadata": {},
     "output_type": "display_data"
    },
    {
     "data": {
      "text/plain": [
       "<Figure size 4000x2800 with 0 Axes>"
      ]
     },
     "metadata": {},
     "output_type": "display_data"
    },
    {
     "data": {
      "text/plain": [
       "<Figure size 4000x2800 with 0 Axes>"
      ]
     },
     "metadata": {},
     "output_type": "display_data"
    },
    {
     "data": {
      "text/plain": [
       "<Figure size 4000x2800 with 0 Axes>"
      ]
     },
     "metadata": {},
     "output_type": "display_data"
    },
    {
     "data": {
      "text/plain": [
       "<Figure size 4000x2800 with 0 Axes>"
      ]
     },
     "metadata": {},
     "output_type": "display_data"
    },
    {
     "data": {
      "text/plain": [
       "<Figure size 4000x2800 with 0 Axes>"
      ]
     },
     "metadata": {},
     "output_type": "display_data"
    },
    {
     "data": {
      "text/plain": [
       "<Figure size 4000x2800 with 0 Axes>"
      ]
     },
     "metadata": {},
     "output_type": "display_data"
    },
    {
     "data": {
      "text/plain": [
       "<Figure size 4000x2800 with 0 Axes>"
      ]
     },
     "metadata": {},
     "output_type": "display_data"
    },
    {
     "data": {
      "text/plain": [
       "<Figure size 4000x2800 with 0 Axes>"
      ]
     },
     "metadata": {},
     "output_type": "display_data"
    },
    {
     "data": {
      "text/plain": [
       "<Figure size 4000x2800 with 0 Axes>"
      ]
     },
     "metadata": {},
     "output_type": "display_data"
    },
    {
     "data": {
      "text/plain": [
       "<Figure size 4000x2800 with 0 Axes>"
      ]
     },
     "metadata": {},
     "output_type": "display_data"
    },
    {
     "data": {
      "text/plain": [
       "<Figure size 4000x2800 with 0 Axes>"
      ]
     },
     "metadata": {},
     "output_type": "display_data"
    },
    {
     "data": {
      "text/plain": [
       "<Figure size 4000x2800 with 0 Axes>"
      ]
     },
     "metadata": {},
     "output_type": "display_data"
    },
    {
     "data": {
      "text/plain": [
       "<Figure size 4000x2800 with 0 Axes>"
      ]
     },
     "metadata": {},
     "output_type": "display_data"
    },
    {
     "data": {
      "text/plain": [
       "<Figure size 4000x2800 with 0 Axes>"
      ]
     },
     "metadata": {},
     "output_type": "display_data"
    },
    {
     "data": {
      "text/plain": [
       "<Figure size 4000x2800 with 0 Axes>"
      ]
     },
     "metadata": {},
     "output_type": "display_data"
    },
    {
     "data": {
      "text/plain": [
       "<Figure size 4000x2800 with 0 Axes>"
      ]
     },
     "metadata": {},
     "output_type": "display_data"
    },
    {
     "data": {
      "text/plain": [
       "<Figure size 4000x2800 with 0 Axes>"
      ]
     },
     "metadata": {},
     "output_type": "display_data"
    },
    {
     "data": {
      "text/plain": [
       "<Figure size 4000x2800 with 0 Axes>"
      ]
     },
     "metadata": {},
     "output_type": "display_data"
    },
    {
     "data": {
      "text/plain": [
       "<Figure size 4000x2800 with 0 Axes>"
      ]
     },
     "metadata": {},
     "output_type": "display_data"
    },
    {
     "data": {
      "text/plain": [
       "<Figure size 4000x2800 with 0 Axes>"
      ]
     },
     "metadata": {},
     "output_type": "display_data"
    },
    {
     "data": {
      "text/plain": [
       "<Figure size 4000x2800 with 0 Axes>"
      ]
     },
     "metadata": {},
     "output_type": "display_data"
    },
    {
     "data": {
      "text/plain": [
       "<Figure size 4000x2800 with 0 Axes>"
      ]
     },
     "metadata": {},
     "output_type": "display_data"
    },
    {
     "data": {
      "text/plain": [
       "<Figure size 4000x2800 with 0 Axes>"
      ]
     },
     "metadata": {},
     "output_type": "display_data"
    },
    {
     "data": {
      "text/plain": [
       "<Figure size 4000x2800 with 0 Axes>"
      ]
     },
     "metadata": {},
     "output_type": "display_data"
    },
    {
     "data": {
      "text/plain": [
       "<Figure size 4000x2800 with 0 Axes>"
      ]
     },
     "metadata": {},
     "output_type": "display_data"
    },
    {
     "data": {
      "text/plain": [
       "<Figure size 4000x2800 with 0 Axes>"
      ]
     },
     "metadata": {},
     "output_type": "display_data"
    },
    {
     "data": {
      "text/plain": [
       "<Figure size 4000x2800 with 0 Axes>"
      ]
     },
     "metadata": {},
     "output_type": "display_data"
    },
    {
     "data": {
      "text/plain": [
       "<Figure size 4000x2800 with 0 Axes>"
      ]
     },
     "metadata": {},
     "output_type": "display_data"
    },
    {
     "data": {
      "text/plain": [
       "<Figure size 4000x2800 with 0 Axes>"
      ]
     },
     "metadata": {},
     "output_type": "display_data"
    },
    {
     "data": {
      "text/plain": [
       "<Figure size 4000x2800 with 0 Axes>"
      ]
     },
     "metadata": {},
     "output_type": "display_data"
    },
    {
     "data": {
      "text/plain": [
       "<Figure size 4000x2800 with 0 Axes>"
      ]
     },
     "metadata": {},
     "output_type": "display_data"
    },
    {
     "data": {
      "text/plain": [
       "<Figure size 4000x2800 with 0 Axes>"
      ]
     },
     "metadata": {},
     "output_type": "display_data"
    },
    {
     "data": {
      "text/plain": [
       "<Figure size 4000x2800 with 0 Axes>"
      ]
     },
     "metadata": {},
     "output_type": "display_data"
    },
    {
     "data": {
      "text/plain": [
       "<Figure size 4000x2800 with 0 Axes>"
      ]
     },
     "metadata": {},
     "output_type": "display_data"
    },
    {
     "data": {
      "text/plain": [
       "<Figure size 4000x2800 with 0 Axes>"
      ]
     },
     "metadata": {},
     "output_type": "display_data"
    },
    {
     "data": {
      "text/plain": [
       "<Figure size 4000x2800 with 0 Axes>"
      ]
     },
     "metadata": {},
     "output_type": "display_data"
    },
    {
     "data": {
      "text/plain": [
       "<Figure size 4000x2800 with 0 Axes>"
      ]
     },
     "metadata": {},
     "output_type": "display_data"
    },
    {
     "data": {
      "text/plain": [
       "<Figure size 4000x2800 with 0 Axes>"
      ]
     },
     "metadata": {},
     "output_type": "display_data"
    },
    {
     "data": {
      "text/plain": [
       "<Figure size 4000x2800 with 0 Axes>"
      ]
     },
     "metadata": {},
     "output_type": "display_data"
    },
    {
     "data": {
      "text/plain": [
       "<Figure size 4000x2800 with 0 Axes>"
      ]
     },
     "metadata": {},
     "output_type": "display_data"
    },
    {
     "data": {
      "text/plain": [
       "<Figure size 4000x2800 with 0 Axes>"
      ]
     },
     "metadata": {},
     "output_type": "display_data"
    },
    {
     "data": {
      "text/plain": [
       "<Figure size 4000x2800 with 0 Axes>"
      ]
     },
     "metadata": {},
     "output_type": "display_data"
    },
    {
     "data": {
      "text/plain": [
       "<Figure size 4000x2800 with 0 Axes>"
      ]
     },
     "metadata": {},
     "output_type": "display_data"
    },
    {
     "data": {
      "text/plain": [
       "<Figure size 4000x2800 with 0 Axes>"
      ]
     },
     "metadata": {},
     "output_type": "display_data"
    },
    {
     "data": {
      "text/plain": [
       "<Figure size 4000x2800 with 0 Axes>"
      ]
     },
     "metadata": {},
     "output_type": "display_data"
    },
    {
     "data": {
      "text/plain": [
       "<Figure size 4000x2800 with 0 Axes>"
      ]
     },
     "metadata": {},
     "output_type": "display_data"
    },
    {
     "data": {
      "text/plain": [
       "<Figure size 4000x2800 with 0 Axes>"
      ]
     },
     "metadata": {},
     "output_type": "display_data"
    },
    {
     "data": {
      "text/plain": [
       "<Figure size 4000x2800 with 0 Axes>"
      ]
     },
     "metadata": {},
     "output_type": "display_data"
    },
    {
     "data": {
      "text/plain": [
       "<Figure size 4000x2800 with 0 Axes>"
      ]
     },
     "metadata": {},
     "output_type": "display_data"
    },
    {
     "data": {
      "text/plain": [
       "<Figure size 4000x2800 with 0 Axes>"
      ]
     },
     "metadata": {},
     "output_type": "display_data"
    },
    {
     "data": {
      "text/plain": [
       "<Figure size 4000x2800 with 0 Axes>"
      ]
     },
     "metadata": {},
     "output_type": "display_data"
    },
    {
     "data": {
      "text/plain": [
       "<Figure size 4000x2800 with 0 Axes>"
      ]
     },
     "metadata": {},
     "output_type": "display_data"
    },
    {
     "data": {
      "text/plain": [
       "<Figure size 4000x2800 with 0 Axes>"
      ]
     },
     "metadata": {},
     "output_type": "display_data"
    },
    {
     "data": {
      "text/plain": [
       "<Figure size 4000x2800 with 0 Axes>"
      ]
     },
     "metadata": {},
     "output_type": "display_data"
    },
    {
     "data": {
      "text/plain": [
       "<Figure size 4000x2800 with 0 Axes>"
      ]
     },
     "metadata": {},
     "output_type": "display_data"
    },
    {
     "data": {
      "text/plain": [
       "<Figure size 4000x2800 with 0 Axes>"
      ]
     },
     "metadata": {},
     "output_type": "display_data"
    },
    {
     "data": {
      "text/plain": [
       "<Figure size 4000x2800 with 0 Axes>"
      ]
     },
     "metadata": {},
     "output_type": "display_data"
    },
    {
     "data": {
      "text/plain": [
       "<Figure size 4000x2800 with 0 Axes>"
      ]
     },
     "metadata": {},
     "output_type": "display_data"
    },
    {
     "data": {
      "text/plain": [
       "<Figure size 4000x2800 with 0 Axes>"
      ]
     },
     "metadata": {},
     "output_type": "display_data"
    },
    {
     "data": {
      "text/plain": [
       "<Figure size 4000x2800 with 0 Axes>"
      ]
     },
     "metadata": {},
     "output_type": "display_data"
    },
    {
     "data": {
      "text/plain": [
       "<Figure size 4000x2800 with 0 Axes>"
      ]
     },
     "metadata": {},
     "output_type": "display_data"
    },
    {
     "data": {
      "text/plain": [
       "<Figure size 4000x2800 with 0 Axes>"
      ]
     },
     "metadata": {},
     "output_type": "display_data"
    },
    {
     "data": {
      "text/plain": [
       "<Figure size 4000x2800 with 0 Axes>"
      ]
     },
     "metadata": {},
     "output_type": "display_data"
    },
    {
     "data": {
      "text/plain": [
       "<Figure size 4000x2800 with 0 Axes>"
      ]
     },
     "metadata": {},
     "output_type": "display_data"
    },
    {
     "data": {
      "text/plain": [
       "<Figure size 4000x2800 with 0 Axes>"
      ]
     },
     "metadata": {},
     "output_type": "display_data"
    },
    {
     "data": {
      "text/plain": [
       "<Figure size 4000x2800 with 0 Axes>"
      ]
     },
     "metadata": {},
     "output_type": "display_data"
    },
    {
     "data": {
      "text/plain": [
       "<Figure size 4000x2800 with 0 Axes>"
      ]
     },
     "metadata": {},
     "output_type": "display_data"
    },
    {
     "data": {
      "text/plain": [
       "<Figure size 4000x2800 with 0 Axes>"
      ]
     },
     "metadata": {},
     "output_type": "display_data"
    },
    {
     "data": {
      "text/plain": [
       "<Figure size 4000x2800 with 0 Axes>"
      ]
     },
     "metadata": {},
     "output_type": "display_data"
    },
    {
     "data": {
      "text/plain": [
       "<Figure size 4000x2800 with 0 Axes>"
      ]
     },
     "metadata": {},
     "output_type": "display_data"
    },
    {
     "data": {
      "text/plain": [
       "<Figure size 4000x2800 with 0 Axes>"
      ]
     },
     "metadata": {},
     "output_type": "display_data"
    },
    {
     "data": {
      "text/plain": [
       "<Figure size 4000x2800 with 0 Axes>"
      ]
     },
     "metadata": {},
     "output_type": "display_data"
    },
    {
     "data": {
      "text/plain": [
       "<Figure size 4000x2800 with 0 Axes>"
      ]
     },
     "metadata": {},
     "output_type": "display_data"
    },
    {
     "data": {
      "text/plain": [
       "<Figure size 4000x2800 with 0 Axes>"
      ]
     },
     "metadata": {},
     "output_type": "display_data"
    },
    {
     "data": {
      "text/plain": [
       "<Figure size 4000x2800 with 0 Axes>"
      ]
     },
     "metadata": {},
     "output_type": "display_data"
    },
    {
     "data": {
      "text/plain": [
       "<Figure size 4000x2800 with 0 Axes>"
      ]
     },
     "metadata": {},
     "output_type": "display_data"
    },
    {
     "data": {
      "text/plain": [
       "<Figure size 4000x2800 with 0 Axes>"
      ]
     },
     "metadata": {},
     "output_type": "display_data"
    },
    {
     "data": {
      "text/plain": [
       "<Figure size 4000x2800 with 0 Axes>"
      ]
     },
     "metadata": {},
     "output_type": "display_data"
    },
    {
     "data": {
      "text/plain": [
       "<Figure size 4000x2800 with 0 Axes>"
      ]
     },
     "metadata": {},
     "output_type": "display_data"
    },
    {
     "data": {
      "text/plain": [
       "<Figure size 4000x2800 with 0 Axes>"
      ]
     },
     "metadata": {},
     "output_type": "display_data"
    },
    {
     "data": {
      "text/plain": [
       "<Figure size 4000x2800 with 0 Axes>"
      ]
     },
     "metadata": {},
     "output_type": "display_data"
    },
    {
     "data": {
      "text/plain": [
       "<Figure size 4000x2800 with 0 Axes>"
      ]
     },
     "metadata": {},
     "output_type": "display_data"
    },
    {
     "data": {
      "text/plain": [
       "<Figure size 4000x2800 with 0 Axes>"
      ]
     },
     "metadata": {},
     "output_type": "display_data"
    },
    {
     "data": {
      "text/plain": [
       "<Figure size 4000x2800 with 0 Axes>"
      ]
     },
     "metadata": {},
     "output_type": "display_data"
    },
    {
     "data": {
      "text/plain": [
       "<Figure size 4000x2800 with 0 Axes>"
      ]
     },
     "metadata": {},
     "output_type": "display_data"
    },
    {
     "data": {
      "text/plain": [
       "<Figure size 4000x2800 with 0 Axes>"
      ]
     },
     "metadata": {},
     "output_type": "display_data"
    },
    {
     "data": {
      "text/plain": [
       "<Figure size 4000x2800 with 0 Axes>"
      ]
     },
     "metadata": {},
     "output_type": "display_data"
    },
    {
     "data": {
      "text/plain": [
       "<Figure size 4000x2800 with 0 Axes>"
      ]
     },
     "metadata": {},
     "output_type": "display_data"
    },
    {
     "data": {
      "text/plain": [
       "<Figure size 4000x2800 with 0 Axes>"
      ]
     },
     "metadata": {},
     "output_type": "display_data"
    },
    {
     "data": {
      "text/plain": [
       "<Figure size 4000x2800 with 0 Axes>"
      ]
     },
     "metadata": {},
     "output_type": "display_data"
    },
    {
     "data": {
      "text/plain": [
       "<Figure size 4000x2800 with 0 Axes>"
      ]
     },
     "metadata": {},
     "output_type": "display_data"
    },
    {
     "data": {
      "text/plain": [
       "<Figure size 4000x2800 with 0 Axes>"
      ]
     },
     "metadata": {},
     "output_type": "display_data"
    },
    {
     "data": {
      "text/plain": [
       "<Figure size 4000x2800 with 0 Axes>"
      ]
     },
     "metadata": {},
     "output_type": "display_data"
    },
    {
     "data": {
      "text/plain": [
       "<Figure size 4000x2800 with 0 Axes>"
      ]
     },
     "metadata": {},
     "output_type": "display_data"
    },
    {
     "data": {
      "text/plain": [
       "<Figure size 4000x2800 with 0 Axes>"
      ]
     },
     "metadata": {},
     "output_type": "display_data"
    },
    {
     "data": {
      "text/plain": [
       "<Figure size 4000x2800 with 0 Axes>"
      ]
     },
     "metadata": {},
     "output_type": "display_data"
    },
    {
     "data": {
      "text/plain": [
       "<Figure size 4000x2800 with 0 Axes>"
      ]
     },
     "metadata": {},
     "output_type": "display_data"
    },
    {
     "data": {
      "text/plain": [
       "<Figure size 4000x2800 with 0 Axes>"
      ]
     },
     "metadata": {},
     "output_type": "display_data"
    },
    {
     "data": {
      "text/plain": [
       "<Figure size 4000x2800 with 0 Axes>"
      ]
     },
     "metadata": {},
     "output_type": "display_data"
    },
    {
     "data": {
      "text/plain": [
       "<Figure size 4000x2800 with 0 Axes>"
      ]
     },
     "metadata": {},
     "output_type": "display_data"
    },
    {
     "data": {
      "text/plain": [
       "<Figure size 4000x2800 with 0 Axes>"
      ]
     },
     "metadata": {},
     "output_type": "display_data"
    },
    {
     "data": {
      "text/plain": [
       "<Figure size 4000x2800 with 0 Axes>"
      ]
     },
     "metadata": {},
     "output_type": "display_data"
    },
    {
     "data": {
      "text/plain": [
       "<Figure size 4000x2800 with 0 Axes>"
      ]
     },
     "metadata": {},
     "output_type": "display_data"
    },
    {
     "data": {
      "text/plain": [
       "<Figure size 4000x2800 with 0 Axes>"
      ]
     },
     "metadata": {},
     "output_type": "display_data"
    },
    {
     "data": {
      "text/plain": [
       "<Figure size 4000x2800 with 0 Axes>"
      ]
     },
     "metadata": {},
     "output_type": "display_data"
    },
    {
     "data": {
      "text/plain": [
       "<Figure size 4000x2800 with 0 Axes>"
      ]
     },
     "metadata": {},
     "output_type": "display_data"
    },
    {
     "data": {
      "text/plain": [
       "<Figure size 4000x2800 with 0 Axes>"
      ]
     },
     "metadata": {},
     "output_type": "display_data"
    },
    {
     "data": {
      "text/plain": [
       "<Figure size 4000x2800 with 0 Axes>"
      ]
     },
     "metadata": {},
     "output_type": "display_data"
    },
    {
     "data": {
      "text/plain": [
       "<Figure size 4000x2800 with 0 Axes>"
      ]
     },
     "metadata": {},
     "output_type": "display_data"
    },
    {
     "data": {
      "text/plain": [
       "<Figure size 4000x2800 with 0 Axes>"
      ]
     },
     "metadata": {},
     "output_type": "display_data"
    },
    {
     "data": {
      "text/plain": [
       "<Figure size 4000x2800 with 0 Axes>"
      ]
     },
     "metadata": {},
     "output_type": "display_data"
    },
    {
     "data": {
      "text/plain": [
       "<Figure size 4000x2800 with 0 Axes>"
      ]
     },
     "metadata": {},
     "output_type": "display_data"
    },
    {
     "data": {
      "text/plain": [
       "<Figure size 4000x2800 with 0 Axes>"
      ]
     },
     "metadata": {},
     "output_type": "display_data"
    },
    {
     "data": {
      "text/plain": [
       "<Figure size 4000x2800 with 0 Axes>"
      ]
     },
     "metadata": {},
     "output_type": "display_data"
    },
    {
     "data": {
      "text/plain": [
       "<Figure size 4000x2800 with 0 Axes>"
      ]
     },
     "metadata": {},
     "output_type": "display_data"
    },
    {
     "data": {
      "text/plain": [
       "<Figure size 4000x2800 with 0 Axes>"
      ]
     },
     "metadata": {},
     "output_type": "display_data"
    },
    {
     "data": {
      "text/plain": [
       "<Figure size 4000x2800 with 0 Axes>"
      ]
     },
     "metadata": {},
     "output_type": "display_data"
    },
    {
     "data": {
      "text/plain": [
       "<Figure size 4000x2800 with 0 Axes>"
      ]
     },
     "metadata": {},
     "output_type": "display_data"
    },
    {
     "data": {
      "text/plain": [
       "<Figure size 4000x2800 with 0 Axes>"
      ]
     },
     "metadata": {},
     "output_type": "display_data"
    },
    {
     "data": {
      "text/plain": [
       "<Figure size 4000x2800 with 0 Axes>"
      ]
     },
     "metadata": {},
     "output_type": "display_data"
    },
    {
     "data": {
      "text/plain": [
       "<Figure size 4000x2800 with 0 Axes>"
      ]
     },
     "metadata": {},
     "output_type": "display_data"
    },
    {
     "data": {
      "text/plain": [
       "<Figure size 4000x2800 with 0 Axes>"
      ]
     },
     "metadata": {},
     "output_type": "display_data"
    },
    {
     "data": {
      "text/plain": [
       "<Figure size 4000x2800 with 0 Axes>"
      ]
     },
     "metadata": {},
     "output_type": "display_data"
    },
    {
     "data": {
      "text/plain": [
       "<Figure size 4000x2800 with 0 Axes>"
      ]
     },
     "metadata": {},
     "output_type": "display_data"
    },
    {
     "data": {
      "text/plain": [
       "<Figure size 4000x2800 with 0 Axes>"
      ]
     },
     "metadata": {},
     "output_type": "display_data"
    },
    {
     "data": {
      "text/plain": [
       "<Figure size 4000x2800 with 0 Axes>"
      ]
     },
     "metadata": {},
     "output_type": "display_data"
    },
    {
     "data": {
      "text/plain": [
       "<Figure size 4000x2800 with 0 Axes>"
      ]
     },
     "metadata": {},
     "output_type": "display_data"
    },
    {
     "data": {
      "text/plain": [
       "<Figure size 4000x2800 with 0 Axes>"
      ]
     },
     "metadata": {},
     "output_type": "display_data"
    },
    {
     "data": {
      "text/plain": [
       "<Figure size 4000x2800 with 0 Axes>"
      ]
     },
     "metadata": {},
     "output_type": "display_data"
    },
    {
     "data": {
      "text/plain": [
       "<Figure size 4000x2800 with 0 Axes>"
      ]
     },
     "metadata": {},
     "output_type": "display_data"
    },
    {
     "data": {
      "text/plain": [
       "<Figure size 4000x2800 with 0 Axes>"
      ]
     },
     "metadata": {},
     "output_type": "display_data"
    },
    {
     "data": {
      "text/plain": [
       "<Figure size 4000x2800 with 0 Axes>"
      ]
     },
     "metadata": {},
     "output_type": "display_data"
    },
    {
     "data": {
      "text/plain": [
       "<Figure size 4000x2800 with 0 Axes>"
      ]
     },
     "metadata": {},
     "output_type": "display_data"
    },
    {
     "data": {
      "text/plain": [
       "<Figure size 4000x2800 with 0 Axes>"
      ]
     },
     "metadata": {},
     "output_type": "display_data"
    },
    {
     "data": {
      "text/plain": [
       "<Figure size 4000x2800 with 0 Axes>"
      ]
     },
     "metadata": {},
     "output_type": "display_data"
    },
    {
     "data": {
      "text/plain": [
       "<Figure size 4000x2800 with 0 Axes>"
      ]
     },
     "metadata": {},
     "output_type": "display_data"
    },
    {
     "data": {
      "text/plain": [
       "<Figure size 4000x2800 with 0 Axes>"
      ]
     },
     "metadata": {},
     "output_type": "display_data"
    },
    {
     "data": {
      "text/plain": [
       "<Figure size 4000x2800 with 0 Axes>"
      ]
     },
     "metadata": {},
     "output_type": "display_data"
    },
    {
     "data": {
      "text/plain": [
       "<Figure size 4000x2800 with 0 Axes>"
      ]
     },
     "metadata": {},
     "output_type": "display_data"
    },
    {
     "data": {
      "text/plain": [
       "<Figure size 4000x2800 with 0 Axes>"
      ]
     },
     "metadata": {},
     "output_type": "display_data"
    },
    {
     "data": {
      "text/plain": [
       "<Figure size 4000x2800 with 0 Axes>"
      ]
     },
     "metadata": {},
     "output_type": "display_data"
    },
    {
     "data": {
      "text/plain": [
       "<Figure size 4000x2800 with 0 Axes>"
      ]
     },
     "metadata": {},
     "output_type": "display_data"
    },
    {
     "data": {
      "text/plain": [
       "<Figure size 4000x2800 with 0 Axes>"
      ]
     },
     "metadata": {},
     "output_type": "display_data"
    },
    {
     "data": {
      "text/plain": [
       "<Figure size 4000x2800 with 0 Axes>"
      ]
     },
     "metadata": {},
     "output_type": "display_data"
    },
    {
     "data": {
      "text/plain": [
       "<Figure size 4000x2800 with 0 Axes>"
      ]
     },
     "metadata": {},
     "output_type": "display_data"
    },
    {
     "data": {
      "text/plain": [
       "<Figure size 4000x2800 with 0 Axes>"
      ]
     },
     "metadata": {},
     "output_type": "display_data"
    },
    {
     "data": {
      "text/plain": [
       "<Figure size 4000x2800 with 0 Axes>"
      ]
     },
     "metadata": {},
     "output_type": "display_data"
    },
    {
     "data": {
      "text/plain": [
       "<Figure size 4000x2800 with 0 Axes>"
      ]
     },
     "metadata": {},
     "output_type": "display_data"
    },
    {
     "data": {
      "text/plain": [
       "<Figure size 4000x2800 with 0 Axes>"
      ]
     },
     "metadata": {},
     "output_type": "display_data"
    },
    {
     "data": {
      "text/plain": [
       "<Figure size 4000x2800 with 0 Axes>"
      ]
     },
     "metadata": {},
     "output_type": "display_data"
    },
    {
     "data": {
      "text/plain": [
       "<Figure size 4000x2800 with 0 Axes>"
      ]
     },
     "metadata": {},
     "output_type": "display_data"
    },
    {
     "data": {
      "text/plain": [
       "<Figure size 4000x2800 with 0 Axes>"
      ]
     },
     "metadata": {},
     "output_type": "display_data"
    },
    {
     "data": {
      "text/plain": [
       "<Figure size 4000x2800 with 0 Axes>"
      ]
     },
     "metadata": {},
     "output_type": "display_data"
    },
    {
     "data": {
      "text/plain": [
       "<Figure size 4000x2800 with 0 Axes>"
      ]
     },
     "metadata": {},
     "output_type": "display_data"
    },
    {
     "data": {
      "text/plain": [
       "<Figure size 4000x2800 with 0 Axes>"
      ]
     },
     "metadata": {},
     "output_type": "display_data"
    },
    {
     "data": {
      "text/plain": [
       "<Figure size 4000x2800 with 0 Axes>"
      ]
     },
     "metadata": {},
     "output_type": "display_data"
    },
    {
     "data": {
      "text/plain": [
       "<Figure size 4000x2800 with 0 Axes>"
      ]
     },
     "metadata": {},
     "output_type": "display_data"
    },
    {
     "data": {
      "text/plain": [
       "<Figure size 4000x2800 with 0 Axes>"
      ]
     },
     "metadata": {},
     "output_type": "display_data"
    },
    {
     "data": {
      "text/plain": [
       "<Figure size 4000x2800 with 0 Axes>"
      ]
     },
     "metadata": {},
     "output_type": "display_data"
    }
   ],
   "source": [
    "say=0\n",
    "dataset=\"./results/vs/\"\n",
    "folder(dataset)\n",
    "for no, i in enumerate(datasets):\n",
    "    for ii in i:\n",
    "        for iii in i:\n",
    "            say+=1\n",
    "            print(f\"{say}/698 - {ii[7:-4]} {iii[7:-4]}\" )\n",
    "            train=ii\n",
    "            test=iii\n",
    "            mixed=False\n",
    "            step=1\n",
    "            sayac=1\n",
    "            output_csv=f\"{dataset}/@{ii[7:-4]}@{iii[7:-4]}.csv\"\n",
    "            target_names=target_name(test)\n",
    "            ML(train,test,output_csv,feature,step,mixed,dataset[2:-1]+\"_\"+str(step))   \n"
   ]
  }
 ],
 "metadata": {
  "kernelspec": {
   "display_name": "Python 3 (ipykernel)",
   "language": "python",
   "name": "python3"
  },
  "language_info": {
   "codemirror_mode": {
    "name": "ipython",
    "version": 3
   },
   "file_extension": ".py",
   "mimetype": "text/x-python",
   "name": "python",
   "nbconvert_exporter": "python",
   "pygments_lexer": "ipython3",
   "version": "3.10.8"
  }
 },
 "nbformat": 4,
 "nbformat_minor": 2
}
