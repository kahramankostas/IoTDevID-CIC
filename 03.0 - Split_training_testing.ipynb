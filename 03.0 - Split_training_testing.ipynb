{
 "cells": [
  {
   "cell_type": "code",
   "execution_count": 1,
   "metadata": {},
   "outputs": [],
   "source": [
    "import pandas as pd\n",
    "import zipfile\n",
    "import os\n",
    "import time\n",
    "from tqdm import tqdm\n",
    "import shutil\n",
    "import pandas as pd\n",
    "import math\n",
    "import pandas as pd\n",
    "import os\n",
    "import numpy as np\n",
    "import warnings\n",
    "warnings.filterwarnings(\"ignore\")"
   ]
  },
  {
   "cell_type": "code",
   "execution_count": 2,
   "metadata": {},
   "outputs": [],
   "source": [
    "def folder(f_name): #this function creates a folder named \"attacks\" in the program directory.\n",
    "    try:\n",
    "        if not os.path.exists(f_name):\n",
    "            os.makedirs(f_name)\n",
    "    except OSError:\n",
    "        print (\"The folder could not be created!\")"
   ]
  },
  {
   "cell_type": "code",
   "execution_count": 3,
   "metadata": {
    "scrolled": false
   },
   "outputs": [],
   "source": [
    "def find_the_way(path,file_format,con=\"\"):\n",
    "    files_add = []\n",
    "    # r=root, d=directories, f = files\n",
    "    for r, d, f in os.walk(path):\n",
    "        for file in f:\n",
    "            if file_format in file:\n",
    "                if con in file:\n",
    "                    files_add.append(os.path.join(r, file))  \n",
    "            \n",
    "    return files_add\n"
   ]
  },
  {
   "cell_type": "code",
   "execution_count": 4,
   "metadata": {},
   "outputs": [],
   "source": [
    "def merged_csv(csv_files,name):\n",
    "        df=pd.read_csv(csv_files[0])\n",
    "        col_names=list(df.columns)\n",
    "        \n",
    "        empty = pd.DataFrame(columns=col_names)\n",
    "        empty.to_csv(name, mode=\"w\", index=False)#,header=False)\n",
    "        for j in csv_files:\n",
    "            df=pd.read_csv(j)\n",
    "            df.to_csv(name, mode=\"a\", index=False,header=False)\n",
    "\n",
    "\n"
   ]
  },
  {
   "cell_type": "code",
   "execution_count": 5,
   "metadata": {},
   "outputs": [
    {
     "data": {
      "text/plain": [
       "Index(['File', 'ML', 'Date', 'Type', 'AMCREST WiFi Camera',\n",
       "       'Amazon Alexa Echo Dot 1', 'Amazon Alexa Echo Dot 2',\n",
       "       'Amazon Alexa Echo Spot', 'Amazon Alexa Echo Studio', 'Amazon Plug',\n",
       "       'Arlo Base Station', 'Arlo Q Camera', 'Atomi Coffee Maker',\n",
       "       'Borun/Sichuan-AI Camera', 'D-Link DCHS-161 Water Sensor',\n",
       "       'DCS8000LHA1 D-Link Mini Camera', 'Eufy HomeBase 2',\n",
       "       'Globe Lamp ESP_B1680C', 'Google Nest Mini', 'Gosund ESP_032979 Plug',\n",
       "       'Gosund ESP_039AAF Socket', 'Gosund ESP_0C3994 Plug',\n",
       "       'Gosund ESP_10098F Socket', 'Gosund ESP_10ACD8 Plug',\n",
       "       'Gosund ESP_147FF9 Plug', 'Gosund ESP_1ACEE1  Socket',\n",
       "       'HeimVision Smart WiFi Camera', 'HeimVision SmartLife Radio/Lamp',\n",
       "       'Home Eye Camera', 'LG Smart TV', 'Luohe Cam Dog', 'Nest Indoor Camera',\n",
       "       'Netatmo Camera', 'Netatmo Weather Station', 'Philips Hue Bridge',\n",
       "       'Ring Base Station AC:1236', 'SIMCAM 1S (AMPAKTec)', 'Smart Board',\n",
       "       'Sonos One Speaker', 'Teckin Plug 1', 'Teckin Plug 2', 'Yutron Plug 1',\n",
       "       'Yutron Plug 2', 'iRobot Roomba', 'Unnamed: 44', 'Unnamed: 45'],\n",
       "      dtype='object')"
      ]
     },
     "execution_count": 5,
     "metadata": {},
     "output_type": "execute_result"
    }
   ],
   "source": [
    "df=pd.read_excel(\"Devices_packet_numbers.xlsx\")\n",
    "df.columns"
   ]
  },
  {
   "cell_type": "code",
   "execution_count": 6,
   "metadata": {},
   "outputs": [],
   "source": [
    "from collections import defaultdict\n",
    "files = defaultdict(dict)"
   ]
  },
  {
   "cell_type": "code",
   "execution_count": 7,
   "metadata": {},
   "outputs": [],
   "source": [
    "for i in df['Type'].unique():\n",
    "    sub=df[df['Type']==i]\n",
    "    for ii in df['ML'].unique():\n",
    "        subsub=sub[sub['ML']==ii]\n",
    "        temp=subsub[\"File\"].values\n",
    "        if len(temp)>0:\n",
    "            files[i][ii]=temp"
   ]
  },
  {
   "cell_type": "code",
   "execution_count": 9,
   "metadata": {},
   "outputs": [
    {
     "data": {
      "text/plain": [
       "defaultdict(dict,\n",
       "            {'ACTIVE': {'Train': array(['./csvs\\\\A211102.csv', './csvs\\\\A211103.csv',\n",
       "                     './csvs\\\\A211105.csv', './csvs\\\\A211108.csv',\n",
       "                     './csvs\\\\A211109.csv', './csvs\\\\A211110.csv',\n",
       "                     './csvs\\\\A211112.csv', './csvs\\\\A211115.csv',\n",
       "                     './csvs\\\\A211116.csv', './csvs\\\\A211117.csv',\n",
       "                     './csvs\\\\A211223.csv', './csvs\\\\A211225.csv',\n",
       "                     './csvs\\\\A211228.csv', './csvs\\\\A220103.csv'], dtype=object),\n",
       "              'Test': array(['./csvs\\\\A211118.csv', './csvs\\\\A211119.csv',\n",
       "                     './csvs\\\\A211122.csv', './csvs\\\\A211123.csv',\n",
       "                     './csvs\\\\A211124.csv', './csvs\\\\A211125.csv',\n",
       "                     './csvs\\\\A211126.csv', './csvs\\\\A211206.csv',\n",
       "                     './csvs\\\\A211207.csv', './csvs\\\\A211208.csv'], dtype=object)},\n",
       "             'IDLE': {'Train': array(['./csvs\\\\I211118.csv', './csvs\\\\I211119.csv',\n",
       "                     './csvs\\\\I211122.csv', './csvs\\\\I211124.csv',\n",
       "                     './csvs\\\\I211125.csv', './csvs\\\\I211126.csv',\n",
       "                     './csvs\\\\I211129.csv', './csvs\\\\I211130.csv',\n",
       "                     './csvs\\\\I211201.csv', './csvs\\\\I211202.csv',\n",
       "                     './csvs\\\\I211203.csv', './csvs\\\\I211207.csv',\n",
       "                     './csvs\\\\I211208.csv', './csvs\\\\I211209.csv',\n",
       "                     './csvs\\\\I211210.csv'], dtype=object),\n",
       "              'Test': array(['./csvs\\\\I211102.csv', './csvs\\\\I211103.csv',\n",
       "                     './csvs\\\\I211104.csv', './csvs\\\\I211108.csv',\n",
       "                     './csvs\\\\I211110.csv', './csvs\\\\I211112.csv',\n",
       "                     './csvs\\\\I211115.csv', './csvs\\\\I211116.csv',\n",
       "                     './csvs\\\\I211117.csv', './csvs\\\\I211213.csv',\n",
       "                     './csvs\\\\I211215.csv', './csvs\\\\I211216.csv',\n",
       "                     './csvs\\\\I211220.csv', './csvs\\\\I211222.csv',\n",
       "                     './csvs\\\\I211223.csv'], dtype=object)}})"
      ]
     },
     "execution_count": 9,
     "metadata": {},
     "output_type": "execute_result"
    }
   ],
   "source": [
    "files"
   ]
  },
  {
   "cell_type": "code",
   "execution_count": 8,
   "metadata": {},
   "outputs": [
    {
     "name": "stdout",
     "output_type": "stream",
     "text": [
      "./csvs/ACTIVE_Train.csv\n",
      "./csvs/ACTIVE_Test.csv\n",
      "./csvs/IDLE_Train.csv\n",
      "./csvs/IDLE_Test.csv\n"
     ]
    }
   ],
   "source": [
    "for i in files:\n",
    "    for ii in files[i]:\n",
    "        name= f'./csvs/{i}_{ii}.csv'\n",
    "        print(name)\n",
    "        #print(files[i][ii])\n",
    "        merged_csv(files[i][ii],name)\n"
   ]
  },
  {
   "cell_type": "code",
   "execution_count": 19,
   "metadata": {},
   "outputs": [
    {
     "data": {
      "text/plain": [
       "defaultdict(dict,\n",
       "            {'ACTIVE': {'Train': array(['./csvs\\\\A211102.csv', './csvs\\\\A211103.csv',\n",
       "                     './csvs\\\\A211105.csv', './csvs\\\\A211108.csv',\n",
       "                     './csvs\\\\A211109.csv', './csvs\\\\A211110.csv',\n",
       "                     './csvs\\\\A211112.csv', './csvs\\\\A211115.csv',\n",
       "                     './csvs\\\\A211116.csv', './csvs\\\\A211117.csv',\n",
       "                     './csvs\\\\A211223.csv', './csvs\\\\A211225.csv',\n",
       "                     './csvs\\\\A211228.csv', './csvs\\\\A220103.csv'], dtype=object),\n",
       "              'Test': array(['./csvs\\\\A211118.csv', './csvs\\\\A211119.csv',\n",
       "                     './csvs\\\\A211122.csv', './csvs\\\\A211123.csv',\n",
       "                     './csvs\\\\A211124.csv', './csvs\\\\A211125.csv',\n",
       "                     './csvs\\\\A211126.csv', './csvs\\\\A211206.csv',\n",
       "                     './csvs\\\\A211207.csv', './csvs\\\\A211208.csv'], dtype=object)},\n",
       "             'IDLE': {'Train': array(['./csvs\\\\I211118.csv', './csvs\\\\I211119.csv',\n",
       "                     './csvs\\\\I211122.csv', './csvs\\\\I211124.csv',\n",
       "                     './csvs\\\\I211125.csv', './csvs\\\\I211126.csv',\n",
       "                     './csvs\\\\I211129.csv', './csvs\\\\I211130.csv',\n",
       "                     './csvs\\\\I211201.csv', './csvs\\\\I211202.csv',\n",
       "                     './csvs\\\\I211203.csv', './csvs\\\\I211207.csv',\n",
       "                     './csvs\\\\I211208.csv', './csvs\\\\I211209.csv',\n",
       "                     './csvs\\\\I211210.csv'], dtype=object),\n",
       "              'Test': array(['./csvs\\\\I211102.csv', './csvs\\\\I211103.csv',\n",
       "                     './csvs\\\\I211104.csv', './csvs\\\\I211108.csv',\n",
       "                     './csvs\\\\I211110.csv', './csvs\\\\I211112.csv',\n",
       "                     './csvs\\\\I211115.csv', './csvs\\\\I211116.csv',\n",
       "                     './csvs\\\\I211117.csv', './csvs\\\\I211213.csv',\n",
       "                     './csvs\\\\I211215.csv', './csvs\\\\I211216.csv',\n",
       "                     './csvs\\\\I211220.csv', './csvs\\\\I211222.csv',\n",
       "                     './csvs\\\\I211223.csv'], dtype=object)}})"
      ]
     },
     "execution_count": 19,
     "metadata": {},
     "output_type": "execute_result"
    }
   ],
   "source": []
  },
  {
   "cell_type": "markdown",
   "metadata": {},
   "source": [
    "# TEST DATA"
   ]
  },
  {
   "cell_type": "code",
   "execution_count": 15,
   "metadata": {},
   "outputs": [],
   "source": [
    "df=pd.read_csv(\"./csvs/IDLE_Test.csv\")\n",
    "sub=df[df['Label']==\"D-Link DCHS-161 Water Sensor\"]\n",
    "df=pd.read_csv(\"./csvs/ACTIVE_Test.csv\")\n",
    "df=df[df['Label']!=\"LG Smart TV\"]\n",
    "df = pd.concat([df,sub])\n",
    "df.groupby(\"Label\").size()\n",
    "df.to_csv(\"./csvs/ACTIVE_Test.csv\", index=False)"
   ]
  },
  {
   "cell_type": "markdown",
   "metadata": {},
   "source": [
    "# TRAIN DATA"
   ]
  },
  {
   "cell_type": "code",
   "execution_count": 16,
   "metadata": {},
   "outputs": [],
   "source": [
    "df=pd.read_csv(\"./csvs/IDLE_Train.csv\")\n",
    "sub=df[df['Label']==\"D-Link DCHS-161 Water Sensor\"]\n",
    "df=pd.read_csv(\"./csvs/ACTIVE_Train.csv\")\n",
    "df=df[df['Label']!=\"LG Smart TV\"]\n",
    "df = pd.concat([df,sub])\n",
    "df.groupby(\"Label\").size()\n",
    "df.to_csv(\"./csvs/ACTIVE_Train.csv\", index=False)"
   ]
  },
  {
   "cell_type": "markdown",
   "metadata": {},
   "source": [
    "# create new datasets 10% the size of the datasets"
   ]
  },
  {
   "cell_type": "code",
   "execution_count": 7,
   "metadata": {},
   "outputs": [
    {
     "data": {
      "text/plain": [
       "['./csvs/ACTIVE_Test.csv',\n",
       " './csvs/ACTIVE_Train.csv',\n",
       " './csvs/IDLE_Test.csv',\n",
       " './csvs/IDLE_Train.csv']"
      ]
     },
     "execution_count": 7,
     "metadata": {},
     "output_type": "execute_result"
    }
   ],
   "source": [
    "path=\"./csvs/\"\n",
    "files=find_the_way(path,\"T\")\n",
    "files"
   ]
  },
  {
   "cell_type": "code",
   "execution_count": 8,
   "metadata": {},
   "outputs": [],
   "source": [
    "for i in files:\n",
    "    df=pd.read_csv(i)\n",
    "    df=df.sample(n=len(df)//10, random_state=42)\n",
    "    df.to_csv(i, index=False)"
   ]
  },
  {
   "cell_type": "code",
   "execution_count": 17,
   "metadata": {},
   "outputs": [
    {
     "data": {
      "text/plain": [
       "Label\n",
       "AMCREST WiFi Camera                 81269\n",
       "Amazon Alexa Echo Dot 1            199400\n",
       "Amazon Alexa Echo Dot 2            221816\n",
       "Amazon Alexa Echo Spot             216128\n",
       "Amazon Alexa Echo Studio           242903\n",
       "Amazon Plug                         21868\n",
       "Arlo Base Station                  298242\n",
       "Arlo Q Camera                      514352\n",
       "Atomi Coffee Maker                  97212\n",
       "Borun/Sichuan-AI Camera            337644\n",
       "D-Link DCHS-161 Water Sensor          715\n",
       "DCS8000LHA1 D-Link Mini Camera      15371\n",
       "Eufy HomeBase 2                    112936\n",
       "Globe Lamp ESP_B1680C               94429\n",
       "Google Nest Mini                   279054\n",
       "Gosund ESP_032979 Plug              94350\n",
       "Gosund ESP_039AAF Socket            93886\n",
       "Gosund ESP_0C3994 Plug              93999\n",
       "Gosund ESP_10098F Socket            70830\n",
       "Gosund ESP_10ACD8 Plug              94043\n",
       "Gosund ESP_147FF9 Plug              80475\n",
       "Gosund ESP_1ACEE1  Socket           94005\n",
       "HeimVision Smart WiFi Camera       194210\n",
       "HeimVision SmartLife Radio/Lamp    110552\n",
       "Home Eye Camera                    364803\n",
       "Luohe Cam Dog                       38880\n",
       "Nest Indoor Camera                 536563\n",
       "Netatmo Camera                     140230\n",
       "Netatmo Weather Station             25488\n",
       "Philips Hue Bridge                 181277\n",
       "Ring Base Station AC:1236           46383\n",
       "SIMCAM 1S (AMPAKTec)               298566\n",
       "Smart Board                         36342\n",
       "Sonos One Speaker                  121441\n",
       "Teckin Plug 1                       91154\n",
       "Teckin Plug 2                       88293\n",
       "Yutron Plug 1                       91504\n",
       "Yutron Plug 2                       89234\n",
       "iRobot Roomba                       16043\n",
       "dtype: int64"
      ]
     },
     "execution_count": 17,
     "metadata": {},
     "output_type": "execute_result"
    }
   ],
   "source": [
    "df.groupby(\"Label\").size()"
   ]
  }
 ],
 "metadata": {
  "colab": {
   "collapsed_sections": [],
   "name": "(105) feature exracto_colab.ipynb",
   "provenance": []
  },
  "kernelspec": {
   "display_name": "Python 3 (ipykernel)",
   "language": "python",
   "name": "python3"
  },
  "language_info": {
   "codemirror_mode": {
    "name": "ipython",
    "version": 3
   },
   "file_extension": ".py",
   "mimetype": "text/x-python",
   "name": "python",
   "nbconvert_exporter": "python",
   "pygments_lexer": "ipython3",
   "version": "3.10.8"
  }
 },
 "nbformat": 4,
 "nbformat_minor": 1
}
