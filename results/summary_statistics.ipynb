{
 "cells": [
  {
   "cell_type": "code",
   "execution_count": 60,
   "metadata": {},
   "outputs": [],
   "source": [
    "import os\n",
    "import warnings\n",
    "import pandas as pd\n",
    "from tqdm import tqdm\n",
    "from tabulate import tabulate"
   ]
  },
  {
   "cell_type": "code",
   "execution_count": 61,
   "metadata": {},
   "outputs": [],
   "source": [
    "warnings.filterwarnings(\"ignore\")"
   ]
  },
  {
   "cell_type": "code",
   "execution_count": 62,
   "metadata": {},
   "outputs": [],
   "source": [
    "def find_the_way(path,file_format,con=\"\"):\n",
    "    files_add = []\n",
    "    # r=root, d=directories, f = files\n",
    "    for r, d, f in os.walk(path):\n",
    "        for file in f:\n",
    "            if file_format in file:\n",
    "                if con in file:\n",
    "                    files_add.append(os.path.join(r, file))  \n",
    "    return files_add\n",
    "files_add=find_the_way(\"./1\",\"_Test-1.csv\")\n",
    "files_add=['./1\\\\@ACTIVE_Train@ACTIVE_Test-1.csv',\n",
    " './1\\\\@ACTIVE_Train@IDLE_Test-1.csv',\n",
    " './1\\\\@IDLE_Train@ACTIVE_Test-1.csv',\n",
    " './1\\\\@IDLE_Train@IDLE_Test-1.csv']\n",
    "\n",
    "files_add=['./13/@ACTIVE_Train@ACTIVE_Test-13.csv',\n",
    " './13/@ACTIVE_Train@IDLE_Test-13.csv',\n",
    " './13/@IDLE_Train@ACTIVE_Test-13.csv',\n",
    " './13/@IDLE_Train@IDLE_Test-13.csv']"
   ]
  },
  {
   "cell_type": "code",
   "execution_count": 63,
   "metadata": {},
   "outputs": [
    {
     "name": "stderr",
     "output_type": "stream",
     "text": [
      "100%|███████████████████████████████████████████████████████████████████████████████████| 4/4 [00:00<00:00, 277.55it/s]\n"
     ]
    }
   ],
   "source": [
    "results=[['Dataset', 'ML','Acc', 'b_Acc', 'Prec', 'Rec',\n",
    "       'F1', 'kap', 'ROC', 'tra-T', 'test-T']]\n",
    "for i in tqdm(files_add):\n",
    "    df=pd.read_csv(i)\n",
    "    temp=df.values\n",
    "    #df=df.mean()\n",
    "    #df=list(df.values)\n"
   ]
  },
  {
   "cell_type": "code",
   "execution_count": 64,
   "metadata": {
    "scrolled": true
   },
   "outputs": [
    {
     "name": "stderr",
     "output_type": "stream",
     "text": [
      "100%|███████████████████████████████████████████████████████████████████████████████████| 4/4 [00:00<00:00, 181.61it/s]\n"
     ]
    },
    {
     "name": "stdout",
     "output_type": "stream",
     "text": [
      "    Data                    ML      Acc    b_Acc    Prec    Rec     F1    kap    ROC    tra-T    test-T    Al-time\n",
      "--  ----------------------  ----  -----  -------  ------  -----  -----  -----  -----  -------  --------  ---------\n",
      " 0  ACTIVE_Tr-ACTIVE_Te_13  DT    0.943    0.933   0.963  0.933  0.925  0.939      0    1.962     0.235      9.119\n",
      " 1  ACTIVE_Tr-IDLE_Te_13    DT    0.999    0.998   0.999  0.998  0.999  0.999      0    1.864     0.299     11.519\n",
      " 2  IDLE_Tr-ACTIVE_Te_13    DT    0.85     0.946   0.935  0.946  0.898  0.842      0    1.584     0.206      8.46\n",
      " 3  IDLE_Tr-IDLE_Te_13      DT    0.904    0.913   0.95   0.913  0.912  0.899      0    1.63      0.313     11.267\n"
     ]
    },
    {
     "name": "stderr",
     "output_type": "stream",
     "text": [
      "100%|███████████████████████████████████████████████████████████████████████████████████| 4/4 [00:00<00:00, 265.51it/s]"
     ]
    },
    {
     "name": "stdout",
     "output_type": "stream",
     "text": [
      "    Data                    ML      Acc    b_Acc    Prec    Rec     F1    kap    ROC    tra-T    test-T    Al-time\n",
      "--  ----------------------  ----  -----  -------  ------  -----  -----  -----  -----  -------  --------  ---------\n",
      " 0  ACTIVE_Tr-ACTIVE_Te_13  DT    0.001    0.006   0.006  0.006  0.007  0.002      0    0.176     0.019      0.217\n",
      " 1  ACTIVE_Tr-IDLE_Te_13    DT    0        0       0      0      0      0          0    0.169     0.019      0.555\n",
      " 2  IDLE_Tr-ACTIVE_Te_13    DT    0.058    0.008   0.014  0.008  0.017  0.059      0    0.088     0.018      0.204\n",
      " 3  IDLE_Tr-IDLE_Te_13      DT    0.004    0.006   0.004  0.006  0.006  0.004      0    0.094     0.02       0.243\n"
     ]
    },
    {
     "name": "stderr",
     "output_type": "stream",
     "text": [
      "\n"
     ]
    }
   ],
   "source": [
    "\n",
    "results=[['Data', 'ML','Acc', 'b_Acc', 'Prec', 'Rec',\n",
    "       'F1', 'kap', 'ROC', 'tra-T', 'test-T',\"Al-time\"]]\n",
    "for i in tqdm(files_add):\n",
    "    df=pd.read_csv(i)\n",
    "    del df[\"T\"]\n",
    "    del df[\"CV\"]\n",
    "    temp=df.values\n",
    "    df=df.mean()\n",
    "    df=list(df.values)\n",
    "    temp=[temp[0][0],temp[0][1]]\n",
    "    temp=temp+df\n",
    "    results.append(temp)\n",
    "results = pd.DataFrame (results[1:], columns = results[0])\n",
    "#results.to_csv(\"IND_CV_score_results.csv\",index=False)\n",
    "results.to_csv(\"AG_CV_score_results.csv\",index=False)\n",
    "results= results.round(3)\n",
    "print (tabulate(results, headers=list(results.columns)))\n",
    "\n",
    "results=[['Data', 'ML','Acc', 'b_Acc', 'Prec', 'Rec',\n",
    "       'F1', 'kap', 'ROC', 'tra-T', 'test-T',\"Al-time\"]]\n",
    "for i in tqdm(files_add):\n",
    "    df=pd.read_csv(i)\n",
    "    del df[\"T\"]\n",
    "    del df[\"CV\"]\n",
    "    temp=df.values\n",
    "    df=df.std()\n",
    "    df=list(df.values)\n",
    "    temp=[temp[0][0],temp[0][1]]\n",
    "    temp=temp+df\n",
    "    results.append(temp)\n",
    "results = pd.DataFrame (results[1:], columns = results[0])\n",
    "#results.to_csv(\"IND_CV_std_results.csv\",index=False)\n",
    "results.to_csv(\"AG_CV_std_results.csv\",index=False)\n",
    "results= results.round(3)\n",
    "print (tabulate(results, headers=list(results.columns)))"
   ]
  },
  {
   "cell_type": "code",
   "execution_count": 65,
   "metadata": {},
   "outputs": [
    {
     "data": {
      "text/plain": [
       "'mean=pd.read_csv(\"IND_CV_score_results.csv\")\\nmean=mean.round(3)\\nstd=pd.read_csv(\"IND_CV_std_results.csv\")\\nstd=std.round(3)\\nmerged=pd.DataFrame()\\nfor i in mean.columns:\\n    merged[i]=mean[i].astype(str)+\"±\"+std[i].astype(str)\\nmerged.to_csv(\"IND_CV_merged.csv\",index=False)'"
      ]
     },
     "execution_count": 65,
     "metadata": {},
     "output_type": "execute_result"
    }
   ],
   "source": [
    "\"\"\"mean=pd.read_csv(\"IND_CV_score_results.csv\")\n",
    "mean=mean.round(3)\n",
    "std=pd.read_csv(\"IND_CV_std_results.csv\")\n",
    "std=std.round(3)\n",
    "merged=pd.DataFrame()\n",
    "for i in mean.columns:\n",
    "    merged[i]=mean[i].astype(str)+\"±\"+std[i].astype(str)\n",
    "merged.to_csv(\"IND_CV_merged.csv\",index=False)\"\"\""
   ]
  },
  {
   "cell_type": "code",
   "execution_count": 66,
   "metadata": {},
   "outputs": [
    {
     "data": {
      "text/html": [
       "<div>\n",
       "<style scoped>\n",
       "    .dataframe tbody tr th:only-of-type {\n",
       "        vertical-align: middle;\n",
       "    }\n",
       "\n",
       "    .dataframe tbody tr th {\n",
       "        vertical-align: top;\n",
       "    }\n",
       "\n",
       "    .dataframe thead th {\n",
       "        text-align: right;\n",
       "    }\n",
       "</style>\n",
       "<table border=\"1\" class=\"dataframe\">\n",
       "  <thead>\n",
       "    <tr style=\"text-align: right;\">\n",
       "      <th></th>\n",
       "      <th>Data</th>\n",
       "      <th>ML</th>\n",
       "      <th>Acc</th>\n",
       "      <th>b_Acc</th>\n",
       "      <th>Prec</th>\n",
       "      <th>Rec</th>\n",
       "      <th>F1</th>\n",
       "      <th>kap</th>\n",
       "      <th>ROC</th>\n",
       "      <th>tra-T</th>\n",
       "      <th>test-T</th>\n",
       "      <th>Al-time</th>\n",
       "    </tr>\n",
       "  </thead>\n",
       "  <tbody>\n",
       "    <tr>\n",
       "      <th>0</th>\n",
       "      <td>ACTIVE_Tr-ACTIVE_Te_1±ACTIVE_Tr-ACTIVE_Te_1</td>\n",
       "      <td>DT±DT</td>\n",
       "      <td>0.89±0.001</td>\n",
       "      <td>0.854±0.003</td>\n",
       "      <td>0.865±0.004</td>\n",
       "      <td>0.854±0.003</td>\n",
       "      <td>0.842±0.004</td>\n",
       "      <td>0.882±0.001</td>\n",
       "      <td>0.0±0.0</td>\n",
       "      <td>1.748±0.162</td>\n",
       "      <td>0.204±0.012</td>\n",
       "      <td>0.0±0.0</td>\n",
       "    </tr>\n",
       "    <tr>\n",
       "      <th>1</th>\n",
       "      <td>ACTIVE_Tr-IDLE_Te_1±ACTIVE_Tr-IDLE_Te_1</td>\n",
       "      <td>DT±DT</td>\n",
       "      <td>0.918±0.001</td>\n",
       "      <td>0.906±0.002</td>\n",
       "      <td>0.909±0.006</td>\n",
       "      <td>0.906±0.002</td>\n",
       "      <td>0.905±0.005</td>\n",
       "      <td>0.914±0.001</td>\n",
       "      <td>0.0±0.0</td>\n",
       "      <td>1.812±0.154</td>\n",
       "      <td>0.287±0.02</td>\n",
       "      <td>0.0±0.0</td>\n",
       "    </tr>\n",
       "    <tr>\n",
       "      <th>2</th>\n",
       "      <td>IDLE_Tr-ACTIVE_Te_1±IDLE_Tr-ACTIVE_Te_1</td>\n",
       "      <td>DT±DT</td>\n",
       "      <td>0.823±0.046</td>\n",
       "      <td>0.875±0.007</td>\n",
       "      <td>0.837±0.012</td>\n",
       "      <td>0.875±0.007</td>\n",
       "      <td>0.818±0.015</td>\n",
       "      <td>0.814±0.047</td>\n",
       "      <td>0.0±0.0</td>\n",
       "      <td>1.699±0.119</td>\n",
       "      <td>0.223±0.019</td>\n",
       "      <td>0.0±0.0</td>\n",
       "    </tr>\n",
       "    <tr>\n",
       "      <th>3</th>\n",
       "      <td>IDLE_Tr-IDLE_Te_1±IDLE_Tr-IDLE_Te_1</td>\n",
       "      <td>DT±DT</td>\n",
       "      <td>0.821±0.004</td>\n",
       "      <td>0.821±0.005</td>\n",
       "      <td>0.825±0.008</td>\n",
       "      <td>0.821±0.005</td>\n",
       "      <td>0.814±0.007</td>\n",
       "      <td>0.811±0.004</td>\n",
       "      <td>0.0±0.0</td>\n",
       "      <td>1.721±0.095</td>\n",
       "      <td>0.291±0.012</td>\n",
       "      <td>0.0±0.0</td>\n",
       "    </tr>\n",
       "  </tbody>\n",
       "</table>\n",
       "</div>"
      ],
      "text/plain": [
       "                                          Data     ML          Acc  \\\n",
       "0  ACTIVE_Tr-ACTIVE_Te_1±ACTIVE_Tr-ACTIVE_Te_1  DT±DT   0.89±0.001   \n",
       "1      ACTIVE_Tr-IDLE_Te_1±ACTIVE_Tr-IDLE_Te_1  DT±DT  0.918±0.001   \n",
       "2      IDLE_Tr-ACTIVE_Te_1±IDLE_Tr-ACTIVE_Te_1  DT±DT  0.823±0.046   \n",
       "3          IDLE_Tr-IDLE_Te_1±IDLE_Tr-IDLE_Te_1  DT±DT  0.821±0.004   \n",
       "\n",
       "         b_Acc         Prec          Rec           F1          kap      ROC  \\\n",
       "0  0.854±0.003  0.865±0.004  0.854±0.003  0.842±0.004  0.882±0.001  0.0±0.0   \n",
       "1  0.906±0.002  0.909±0.006  0.906±0.002  0.905±0.005  0.914±0.001  0.0±0.0   \n",
       "2  0.875±0.007  0.837±0.012  0.875±0.007  0.818±0.015  0.814±0.047  0.0±0.0   \n",
       "3  0.821±0.005  0.825±0.008  0.821±0.005  0.814±0.007  0.811±0.004  0.0±0.0   \n",
       "\n",
       "         tra-T       test-T  Al-time  \n",
       "0  1.748±0.162  0.204±0.012  0.0±0.0  \n",
       "1  1.812±0.154   0.287±0.02  0.0±0.0  \n",
       "2  1.699±0.119  0.223±0.019  0.0±0.0  \n",
       "3  1.721±0.095  0.291±0.012  0.0±0.0  "
      ]
     },
     "execution_count": 66,
     "metadata": {},
     "output_type": "execute_result"
    }
   ],
   "source": [
    "merged"
   ]
  },
  {
   "cell_type": "code",
   "execution_count": null,
   "metadata": {},
   "outputs": [],
   "source": []
  },
  {
   "cell_type": "code",
   "execution_count": 67,
   "metadata": {},
   "outputs": [],
   "source": [
    "mean=pd.read_csv(\"AG_CV_score_results.csv\")\n",
    "mean=mean.round(3)\n",
    "std=pd.read_csv(\"AG_CV_std_results.csv\")\n",
    "std=std.round(3)\n",
    "merged=pd.DataFrame()\n",
    "for i in mean.columns:\n",
    "    merged[i]=mean[i].astype(str)+\"±\"+std[i].astype(str)\n",
    "merged.to_csv(\"AG_CV_merged.csv\",index=False)"
   ]
  },
  {
   "cell_type": "code",
   "execution_count": null,
   "metadata": {},
   "outputs": [],
   "source": []
  }
 ],
 "metadata": {
  "kernelspec": {
   "display_name": "Python 3 (ipykernel)",
   "language": "python",
   "name": "python3"
  },
  "language_info": {
   "codemirror_mode": {
    "name": "ipython",
    "version": 3
   },
   "file_extension": ".py",
   "mimetype": "text/x-python",
   "name": "python",
   "nbconvert_exporter": "python",
   "pygments_lexer": "ipython3",
   "version": "3.10.8"
  }
 },
 "nbformat": 4,
 "nbformat_minor": 2
}
